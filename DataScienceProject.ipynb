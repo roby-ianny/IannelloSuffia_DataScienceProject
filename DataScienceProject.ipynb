{
 "cells": [
  {
   "cell_type": "markdown",
   "id": "859fb446-65a8-450b-91b9-39bb45a540c2",
   "metadata": {},
   "source": [
    "# Wordle Tweets Dataset\n",
    "\n",
    "## Obiettivo analitico\n",
    "\n",
    "Obiettivo analitico: _gli utenti più attivi prestano meglio rispetto agli utenti meno attivi?_"
   ]
  },
  {
   "cell_type": "markdown",
   "id": "6b30585a",
   "metadata": {},
   "source": [
    "Cominciamo importando il dataset e visualizziamo alcune informazioni."
   ]
  },
  {
   "cell_type": "code",
   "execution_count": 46,
   "id": "60ed4388-0c3d-40de-a935-973b0e91ab48",
   "metadata": {},
   "outputs": [],
   "source": [
    "import pandas as pd \n",
    "import matplotlib.pyplot as plt \n",
    "import numpy as np\n",
    "import re\n",
    "import scipy.stats as stats\n",
    "import sklearn"
   ]
  },
  {
   "cell_type": "code",
   "execution_count": 47,
   "id": "52135c8a-8c0b-4648-9822-5595fdf9883d",
   "metadata": {},
   "outputs": [
    {
     "name": "stdout",
     "output_type": "stream",
     "text": [
      "<class 'pandas.core.frame.DataFrame'>\n",
      "RangeIndex: 2140196 entries, 0 to 2140195\n",
      "Data columns (total 10 columns):\n",
      " #   Column           Dtype  \n",
      "---  ------           -----  \n",
      " 0   WordleID         int64  \n",
      " 1   ID               int64  \n",
      " 2   Created_At       object \n",
      " 3   Text             object \n",
      " 4   Source           object \n",
      " 5   UserID           float64\n",
      " 6   Username         object \n",
      " 7   User_ScreenName  object \n",
      " 8   Location         object \n",
      " 9   Truncated        bool   \n",
      "dtypes: bool(1), float64(1), int64(2), object(6)\n",
      "memory usage: 149.0+ MB\n"
     ]
    }
   ],
   "source": [
    "wordle = pd.read_csv(\"WordleMegaData.csv\")\n",
    "wordle.info()"
   ]
  },
  {
   "cell_type": "markdown",
   "id": "ada4d692",
   "metadata": {},
   "source": [
    "Andiamo ora a visualizzarne le prime occorrenze."
   ]
  },
  {
   "cell_type": "code",
   "execution_count": 48,
   "id": "fe80e003-4609-4a4e-92cd-b2069282aaea",
   "metadata": {},
   "outputs": [
    {
     "data": {
      "text/html": [
       "<div>\n",
       "<style scoped>\n",
       "    .dataframe tbody tr th:only-of-type {\n",
       "        vertical-align: middle;\n",
       "    }\n",
       "\n",
       "    .dataframe tbody tr th {\n",
       "        vertical-align: top;\n",
       "    }\n",
       "\n",
       "    .dataframe thead th {\n",
       "        text-align: right;\n",
       "    }\n",
       "</style>\n",
       "<table border=\"1\" class=\"dataframe\">\n",
       "  <thead>\n",
       "    <tr style=\"text-align: right;\">\n",
       "      <th></th>\n",
       "      <th>WordleID</th>\n",
       "      <th>ID</th>\n",
       "      <th>Created_At</th>\n",
       "      <th>Text</th>\n",
       "      <th>Source</th>\n",
       "      <th>UserID</th>\n",
       "      <th>Username</th>\n",
       "      <th>User_ScreenName</th>\n",
       "      <th>Location</th>\n",
       "      <th>Truncated</th>\n",
       "    </tr>\n",
       "  </thead>\n",
       "  <tbody>\n",
       "    <tr>\n",
       "      <th>0</th>\n",
       "      <td>254</td>\n",
       "      <td>1498447921448034305</td>\n",
       "      <td>2022-02-28 23:59:58+00:00</td>\n",
       "      <td>Wordle 254 3/6\\n\\n🟨🟨⬛⬛⬛\\n🟨⬛🟨⬛🟩\\n🟩🟩🟩🟩🟩</td>\n",
       "      <td>Twitter for iPhone</td>\n",
       "      <td>3.681676e+07</td>\n",
       "      <td>Leslie Brown</td>\n",
       "      <td>live_laugh_pray</td>\n",
       "      <td>Haida Gwaii</td>\n",
       "      <td>False</td>\n",
       "    </tr>\n",
       "    <tr>\n",
       "      <th>1</th>\n",
       "      <td>254</td>\n",
       "      <td>1498447918184996864</td>\n",
       "      <td>2022-02-28 23:59:58+00:00</td>\n",
       "      <td>Wordle 254 4/6\\n\\n⬛⬛⬛⬛🟩\\n⬛⬛⬛⬛🟩\\n⬛🟩⬛⬛🟩\\n🟩🟩🟩🟩🟩\\n...</td>\n",
       "      <td>Twitter for iPhone</td>\n",
       "      <td>4.825910e+08</td>\n",
       "      <td>Dylan Sobo</td>\n",
       "      <td>DaBolt727</td>\n",
       "      <td>Largo, FL / Bradenton|FGCU</td>\n",
       "      <td>False</td>\n",
       "    </tr>\n",
       "    <tr>\n",
       "      <th>2</th>\n",
       "      <td>254</td>\n",
       "      <td>1498447910173921282</td>\n",
       "      <td>2022-02-28 23:59:56+00:00</td>\n",
       "      <td>Wordle 254 3/6\\n\\n⬛⬛⬛⬛🟩\\n⬛⬛🟩⬛🟩\\n🟩🟩🟩🟩🟩</td>\n",
       "      <td>Twitter for iPhone</td>\n",
       "      <td>1.397624e+18</td>\n",
       "      <td>🖤</td>\n",
       "      <td>wengojos</td>\n",
       "      <td>23 • she/her • 🇵🇭🇺🇸</td>\n",
       "      <td>False</td>\n",
       "    </tr>\n",
       "    <tr>\n",
       "      <th>3</th>\n",
       "      <td>254</td>\n",
       "      <td>1498447901797801989</td>\n",
       "      <td>2022-02-28 23:59:54+00:00</td>\n",
       "      <td>Wordle 254 3/6\\n\\n⬛⬛⬛🟨⬛\\n⬛🟨⬛⬛🟩\\n🟩🟩🟩🟩🟩</td>\n",
       "      <td>Twitter for iPhone</td>\n",
       "      <td>1.255905e+18</td>\n",
       "      <td>Dustin Waters</td>\n",
       "      <td>DustinWaters12</td>\n",
       "      <td>NaN</td>\n",
       "      <td>False</td>\n",
       "    </tr>\n",
       "    <tr>\n",
       "      <th>4</th>\n",
       "      <td>254</td>\n",
       "      <td>1498447896911527938</td>\n",
       "      <td>2022-02-28 23:59:53+00:00</td>\n",
       "      <td>Wordle 254 3/6\\n\\n⬛🟨⬛⬛⬛\\n🟩🟩🟩⬛🟩\\n🟩🟩🟩🟩🟩</td>\n",
       "      <td>Twitter for iPhone</td>\n",
       "      <td>2.528937e+08</td>\n",
       "      <td>R. Colin</td>\n",
       "      <td>rollin_fatty</td>\n",
       "      <td>Richmond, VA</td>\n",
       "      <td>False</td>\n",
       "    </tr>\n",
       "  </tbody>\n",
       "</table>\n",
       "</div>"
      ],
      "text/plain": [
       "   WordleID                   ID                 Created_At  \\\n",
       "0       254  1498447921448034305  2022-02-28 23:59:58+00:00   \n",
       "1       254  1498447918184996864  2022-02-28 23:59:58+00:00   \n",
       "2       254  1498447910173921282  2022-02-28 23:59:56+00:00   \n",
       "3       254  1498447901797801989  2022-02-28 23:59:54+00:00   \n",
       "4       254  1498447896911527938  2022-02-28 23:59:53+00:00   \n",
       "\n",
       "                                                Text              Source  \\\n",
       "0              Wordle 254 3/6\\n\\n🟨🟨⬛⬛⬛\\n🟨⬛🟨⬛🟩\\n🟩🟩🟩🟩🟩  Twitter for iPhone   \n",
       "1  Wordle 254 4/6\\n\\n⬛⬛⬛⬛🟩\\n⬛⬛⬛⬛🟩\\n⬛🟩⬛⬛🟩\\n🟩🟩🟩🟩🟩\\n...  Twitter for iPhone   \n",
       "2              Wordle 254 3/6\\n\\n⬛⬛⬛⬛🟩\\n⬛⬛🟩⬛🟩\\n🟩🟩🟩🟩🟩  Twitter for iPhone   \n",
       "3              Wordle 254 3/6\\n\\n⬛⬛⬛🟨⬛\\n⬛🟨⬛⬛🟩\\n🟩🟩🟩🟩🟩  Twitter for iPhone   \n",
       "4              Wordle 254 3/6\\n\\n⬛🟨⬛⬛⬛\\n🟩🟩🟩⬛🟩\\n🟩🟩🟩🟩🟩  Twitter for iPhone   \n",
       "\n",
       "         UserID       Username  User_ScreenName                    Location  \\\n",
       "0  3.681676e+07   Leslie Brown  live_laugh_pray                 Haida Gwaii   \n",
       "1  4.825910e+08     Dylan Sobo        DaBolt727  Largo, FL / Bradenton|FGCU   \n",
       "2  1.397624e+18              🖤         wengojos         23 • she/her • 🇵🇭🇺🇸   \n",
       "3  1.255905e+18  Dustin Waters   DustinWaters12                         NaN   \n",
       "4  2.528937e+08       R. Colin     rollin_fatty                Richmond, VA   \n",
       "\n",
       "   Truncated  \n",
       "0      False  \n",
       "1      False  \n",
       "2      False  \n",
       "3      False  \n",
       "4      False  "
      ]
     },
     "execution_count": 48,
     "metadata": {},
     "output_type": "execute_result"
    }
   ],
   "source": [
    "wordle.head()"
   ]
  },
  {
   "cell_type": "markdown",
   "id": "03a58eff-71e0-4c12-aaca-c0bea8158c40",
   "metadata": {},
   "source": [
    "## Pulizia dei dati"
   ]
  },
  {
   "cell_type": "markdown",
   "id": "f6dcef10-028a-4c80-b110-a3acc302d9b9",
   "metadata": {},
   "source": [
    "Per ogni carattersitica andiamo a visualizzare il numero di elementi nulli."
   ]
  },
  {
   "cell_type": "code",
   "execution_count": 49,
   "id": "f69deb5d-9de8-498c-a33c-768f466affb9",
   "metadata": {},
   "outputs": [
    {
     "data": {
      "text/plain": [
       "WordleID                0\n",
       "ID                      0\n",
       "Created_At              0\n",
       "Text                    0\n",
       "Source                  0\n",
       "UserID                  0\n",
       "Username               89\n",
       "User_ScreenName         0\n",
       "Location           573361\n",
       "Truncated               0\n",
       "dtype: int64"
      ]
     },
     "execution_count": 49,
     "metadata": {},
     "output_type": "execute_result"
    }
   ],
   "source": [
    "wordle.isnull().sum()"
   ]
  },
  {
   "cell_type": "markdown",
   "id": "0172a1bf-6c7f-4e75-8e9b-ea4ae568f754",
   "metadata": {},
   "source": [
    "La caratteristica 'ID' rappresenta l'ID del tweet e quindi deve essere unica. Verifichiamo che sia così."
   ]
  },
  {
   "cell_type": "code",
   "execution_count": 50,
   "id": "6a86f571-fd13-4035-a9e2-711fe4de7c04",
   "metadata": {},
   "outputs": [
    {
     "name": "stdout",
     "output_type": "stream",
     "text": [
      "Number of rows where 'ID' is unique: 2140187\n",
      "Total number of rows: 2140196\n"
     ]
    }
   ],
   "source": [
    "num_unique_elements = wordle['ID'].nunique()\n",
    "total_elements = len(wordle['ID'])\n",
    "\n",
    "print(\"Number of rows where 'ID' is unique:\", num_unique_elements)\n",
    "print(\"Total number of rows:\", total_elements)"
   ]
  },
  {
   "cell_type": "markdown",
   "id": "f6d3d607-5b93-41d1-8d45-3fd241ec1af0",
   "metadata": {},
   "source": [
    "Sono presenti dei duplicati, li eliminiamo."
   ]
  },
  {
   "cell_type": "code",
   "execution_count": 51,
   "id": "e2ae2645-8290-481d-9026-1d8ba9e6e455",
   "metadata": {},
   "outputs": [
    {
     "data": {
      "text/plain": [
       "(2140178, 10)"
      ]
     },
     "execution_count": 51,
     "metadata": {},
     "output_type": "execute_result"
    }
   ],
   "source": [
    "wordle = wordle.drop_duplicates(subset=['ID'], keep=False)\n",
    "wordle.shape"
   ]
  },
  {
   "cell_type": "markdown",
   "id": "21a79152-21d1-4cf9-a59c-0bea77dcff28",
   "metadata": {},
   "source": [
    "Ora le nostre occorrenze sono uniche. \n",
    "Se la sequenza 'Wordle XXX X/6' termina con un asterisco, significa che la partita è stata eseguita nella modalità 'Hard Mode'. Introduciamo una colonna che ne tenga traccia."
   ]
  },
  {
   "cell_type": "code",
   "execution_count": 52,
   "id": "bc213620-1b6e-4618-8a52-2134e00f6abe",
   "metadata": {},
   "outputs": [
    {
     "data": {
      "text/html": [
       "<div>\n",
       "<style scoped>\n",
       "    .dataframe tbody tr th:only-of-type {\n",
       "        vertical-align: middle;\n",
       "    }\n",
       "\n",
       "    .dataframe tbody tr th {\n",
       "        vertical-align: top;\n",
       "    }\n",
       "\n",
       "    .dataframe thead th {\n",
       "        text-align: right;\n",
       "    }\n",
       "</style>\n",
       "<table border=\"1\" class=\"dataframe\">\n",
       "  <thead>\n",
       "    <tr style=\"text-align: right;\">\n",
       "      <th></th>\n",
       "      <th>WordleID</th>\n",
       "      <th>ID</th>\n",
       "      <th>Created_At</th>\n",
       "      <th>Text</th>\n",
       "      <th>Source</th>\n",
       "      <th>UserID</th>\n",
       "      <th>Username</th>\n",
       "      <th>User_ScreenName</th>\n",
       "      <th>Location</th>\n",
       "      <th>Truncated</th>\n",
       "      <th>Hard Mode</th>\n",
       "    </tr>\n",
       "  </thead>\n",
       "  <tbody>\n",
       "    <tr>\n",
       "      <th>0</th>\n",
       "      <td>254</td>\n",
       "      <td>1498447921448034305</td>\n",
       "      <td>2022-02-28 23:59:58+00:00</td>\n",
       "      <td>Wordle 254 3/6\\n\\n🟨🟨⬛⬛⬛\\n🟨⬛🟨⬛🟩\\n🟩🟩🟩🟩🟩</td>\n",
       "      <td>Twitter for iPhone</td>\n",
       "      <td>3.681676e+07</td>\n",
       "      <td>Leslie Brown</td>\n",
       "      <td>live_laugh_pray</td>\n",
       "      <td>Haida Gwaii</td>\n",
       "      <td>False</td>\n",
       "      <td>False</td>\n",
       "    </tr>\n",
       "    <tr>\n",
       "      <th>1</th>\n",
       "      <td>254</td>\n",
       "      <td>1498447918184996864</td>\n",
       "      <td>2022-02-28 23:59:58+00:00</td>\n",
       "      <td>Wordle 254 4/6\\n\\n⬛⬛⬛⬛🟩\\n⬛⬛⬛⬛🟩\\n⬛🟩⬛⬛🟩\\n🟩🟩🟩🟩🟩\\n...</td>\n",
       "      <td>Twitter for iPhone</td>\n",
       "      <td>4.825910e+08</td>\n",
       "      <td>Dylan Sobo</td>\n",
       "      <td>DaBolt727</td>\n",
       "      <td>Largo, FL / Bradenton|FGCU</td>\n",
       "      <td>False</td>\n",
       "      <td>False</td>\n",
       "    </tr>\n",
       "    <tr>\n",
       "      <th>2</th>\n",
       "      <td>254</td>\n",
       "      <td>1498447910173921282</td>\n",
       "      <td>2022-02-28 23:59:56+00:00</td>\n",
       "      <td>Wordle 254 3/6\\n\\n⬛⬛⬛⬛🟩\\n⬛⬛🟩⬛🟩\\n🟩🟩🟩🟩🟩</td>\n",
       "      <td>Twitter for iPhone</td>\n",
       "      <td>1.397624e+18</td>\n",
       "      <td>🖤</td>\n",
       "      <td>wengojos</td>\n",
       "      <td>23 • she/her • 🇵🇭🇺🇸</td>\n",
       "      <td>False</td>\n",
       "      <td>False</td>\n",
       "    </tr>\n",
       "    <tr>\n",
       "      <th>3</th>\n",
       "      <td>254</td>\n",
       "      <td>1498447901797801989</td>\n",
       "      <td>2022-02-28 23:59:54+00:00</td>\n",
       "      <td>Wordle 254 3/6\\n\\n⬛⬛⬛🟨⬛\\n⬛🟨⬛⬛🟩\\n🟩🟩🟩🟩🟩</td>\n",
       "      <td>Twitter for iPhone</td>\n",
       "      <td>1.255905e+18</td>\n",
       "      <td>Dustin Waters</td>\n",
       "      <td>DustinWaters12</td>\n",
       "      <td>NaN</td>\n",
       "      <td>False</td>\n",
       "      <td>False</td>\n",
       "    </tr>\n",
       "    <tr>\n",
       "      <th>4</th>\n",
       "      <td>254</td>\n",
       "      <td>1498447896911527938</td>\n",
       "      <td>2022-02-28 23:59:53+00:00</td>\n",
       "      <td>Wordle 254 3/6\\n\\n⬛🟨⬛⬛⬛\\n🟩🟩🟩⬛🟩\\n🟩🟩🟩🟩🟩</td>\n",
       "      <td>Twitter for iPhone</td>\n",
       "      <td>2.528937e+08</td>\n",
       "      <td>R. Colin</td>\n",
       "      <td>rollin_fatty</td>\n",
       "      <td>Richmond, VA</td>\n",
       "      <td>False</td>\n",
       "      <td>False</td>\n",
       "    </tr>\n",
       "  </tbody>\n",
       "</table>\n",
       "</div>"
      ],
      "text/plain": [
       "   WordleID                   ID                 Created_At  \\\n",
       "0       254  1498447921448034305  2022-02-28 23:59:58+00:00   \n",
       "1       254  1498447918184996864  2022-02-28 23:59:58+00:00   \n",
       "2       254  1498447910173921282  2022-02-28 23:59:56+00:00   \n",
       "3       254  1498447901797801989  2022-02-28 23:59:54+00:00   \n",
       "4       254  1498447896911527938  2022-02-28 23:59:53+00:00   \n",
       "\n",
       "                                                Text              Source  \\\n",
       "0              Wordle 254 3/6\\n\\n🟨🟨⬛⬛⬛\\n🟨⬛🟨⬛🟩\\n🟩🟩🟩🟩🟩  Twitter for iPhone   \n",
       "1  Wordle 254 4/6\\n\\n⬛⬛⬛⬛🟩\\n⬛⬛⬛⬛🟩\\n⬛🟩⬛⬛🟩\\n🟩🟩🟩🟩🟩\\n...  Twitter for iPhone   \n",
       "2              Wordle 254 3/6\\n\\n⬛⬛⬛⬛🟩\\n⬛⬛🟩⬛🟩\\n🟩🟩🟩🟩🟩  Twitter for iPhone   \n",
       "3              Wordle 254 3/6\\n\\n⬛⬛⬛🟨⬛\\n⬛🟨⬛⬛🟩\\n🟩🟩🟩🟩🟩  Twitter for iPhone   \n",
       "4              Wordle 254 3/6\\n\\n⬛🟨⬛⬛⬛\\n🟩🟩🟩⬛🟩\\n🟩🟩🟩🟩🟩  Twitter for iPhone   \n",
       "\n",
       "         UserID       Username  User_ScreenName                    Location  \\\n",
       "0  3.681676e+07   Leslie Brown  live_laugh_pray                 Haida Gwaii   \n",
       "1  4.825910e+08     Dylan Sobo        DaBolt727  Largo, FL / Bradenton|FGCU   \n",
       "2  1.397624e+18              🖤         wengojos         23 • she/her • 🇵🇭🇺🇸   \n",
       "3  1.255905e+18  Dustin Waters   DustinWaters12                         NaN   \n",
       "4  2.528937e+08       R. Colin     rollin_fatty                Richmond, VA   \n",
       "\n",
       "   Truncated  Hard Mode  \n",
       "0      False      False  \n",
       "1      False      False  \n",
       "2      False      False  \n",
       "3      False      False  \n",
       "4      False      False  "
      ]
     },
     "execution_count": 52,
     "metadata": {},
     "output_type": "execute_result"
    }
   ],
   "source": [
    "hard_mode = wordle['Text'].str.lower().str.extract(r'([1-6Xx]/6\\*)')\n",
    "\n",
    "# Check if the pattern is found and create the 'Hard Mode' column\n",
    "wordle['Hard Mode'] = hard_mode.notnull()\n",
    "\n",
    "# Display the DataFrame\n",
    "wordle.head()"
   ]
  },
  {
   "cell_type": "markdown",
   "id": "9f45cb7c",
   "metadata": {},
   "source": [
    "Una volta introdotta l'Hard Mode, andiamo a effettuare una pulizia del testo, mantenendo solamente le informazioni riguardanti la partita a wordle. \n",
    "Dal testo generiamo un'altra colonna \"Attempts\" che rappresenta il numero di tentativi effettuati per indovinare la parola oppure X o x nel caso di fallimento."
   ]
  },
  {
   "cell_type": "code",
   "execution_count": 53,
   "id": "dadf73da-dc39-4560-b7eb-6fb618adc1b3",
   "metadata": {},
   "outputs": [
    {
     "data": {
      "text/html": [
       "<div>\n",
       "<style scoped>\n",
       "    .dataframe tbody tr th:only-of-type {\n",
       "        vertical-align: middle;\n",
       "    }\n",
       "\n",
       "    .dataframe tbody tr th {\n",
       "        vertical-align: top;\n",
       "    }\n",
       "\n",
       "    .dataframe thead th {\n",
       "        text-align: right;\n",
       "    }\n",
       "</style>\n",
       "<table border=\"1\" class=\"dataframe\">\n",
       "  <thead>\n",
       "    <tr style=\"text-align: right;\">\n",
       "      <th></th>\n",
       "      <th>WordleID</th>\n",
       "      <th>ID</th>\n",
       "      <th>Created_At</th>\n",
       "      <th>Text</th>\n",
       "      <th>Source</th>\n",
       "      <th>UserID</th>\n",
       "      <th>Username</th>\n",
       "      <th>User_ScreenName</th>\n",
       "      <th>Location</th>\n",
       "      <th>Truncated</th>\n",
       "      <th>Hard Mode</th>\n",
       "      <th>Attempts</th>\n",
       "    </tr>\n",
       "  </thead>\n",
       "  <tbody>\n",
       "    <tr>\n",
       "      <th>0</th>\n",
       "      <td>254</td>\n",
       "      <td>1498447921448034305</td>\n",
       "      <td>2022-02-28 23:59:58+00:00</td>\n",
       "      <td>Wordle 254 3/6\\n\\n🟨🟨⬛⬛⬛\\n🟨⬛🟨⬛🟩\\n🟩🟩🟩🟩🟩</td>\n",
       "      <td>Twitter for iPhone</td>\n",
       "      <td>3.681676e+07</td>\n",
       "      <td>Leslie Brown</td>\n",
       "      <td>live_laugh_pray</td>\n",
       "      <td>Haida Gwaii</td>\n",
       "      <td>False</td>\n",
       "      <td>False</td>\n",
       "      <td>3</td>\n",
       "    </tr>\n",
       "    <tr>\n",
       "      <th>1</th>\n",
       "      <td>254</td>\n",
       "      <td>1498447918184996864</td>\n",
       "      <td>2022-02-28 23:59:58+00:00</td>\n",
       "      <td>Wordle 254 4/6\\n\\n⬛⬛⬛⬛🟩\\n⬛⬛⬛⬛🟩\\n⬛🟩⬛⬛🟩\\n🟩🟩🟩🟩🟩\\n...</td>\n",
       "      <td>Twitter for iPhone</td>\n",
       "      <td>4.825910e+08</td>\n",
       "      <td>Dylan Sobo</td>\n",
       "      <td>DaBolt727</td>\n",
       "      <td>Largo, FL / Bradenton|FGCU</td>\n",
       "      <td>False</td>\n",
       "      <td>False</td>\n",
       "      <td>4</td>\n",
       "    </tr>\n",
       "    <tr>\n",
       "      <th>2</th>\n",
       "      <td>254</td>\n",
       "      <td>1498447910173921282</td>\n",
       "      <td>2022-02-28 23:59:56+00:00</td>\n",
       "      <td>Wordle 254 3/6\\n\\n⬛⬛⬛⬛🟩\\n⬛⬛🟩⬛🟩\\n🟩🟩🟩🟩🟩</td>\n",
       "      <td>Twitter for iPhone</td>\n",
       "      <td>1.397624e+18</td>\n",
       "      <td>🖤</td>\n",
       "      <td>wengojos</td>\n",
       "      <td>23 • she/her • 🇵🇭🇺🇸</td>\n",
       "      <td>False</td>\n",
       "      <td>False</td>\n",
       "      <td>3</td>\n",
       "    </tr>\n",
       "    <tr>\n",
       "      <th>3</th>\n",
       "      <td>254</td>\n",
       "      <td>1498447901797801989</td>\n",
       "      <td>2022-02-28 23:59:54+00:00</td>\n",
       "      <td>Wordle 254 3/6\\n\\n⬛⬛⬛🟨⬛\\n⬛🟨⬛⬛🟩\\n🟩🟩🟩🟩🟩</td>\n",
       "      <td>Twitter for iPhone</td>\n",
       "      <td>1.255905e+18</td>\n",
       "      <td>Dustin Waters</td>\n",
       "      <td>DustinWaters12</td>\n",
       "      <td>NaN</td>\n",
       "      <td>False</td>\n",
       "      <td>False</td>\n",
       "      <td>3</td>\n",
       "    </tr>\n",
       "    <tr>\n",
       "      <th>4</th>\n",
       "      <td>254</td>\n",
       "      <td>1498447896911527938</td>\n",
       "      <td>2022-02-28 23:59:53+00:00</td>\n",
       "      <td>Wordle 254 3/6\\n\\n⬛🟨⬛⬛⬛\\n🟩🟩🟩⬛🟩\\n🟩🟩🟩🟩🟩</td>\n",
       "      <td>Twitter for iPhone</td>\n",
       "      <td>2.528937e+08</td>\n",
       "      <td>R. Colin</td>\n",
       "      <td>rollin_fatty</td>\n",
       "      <td>Richmond, VA</td>\n",
       "      <td>False</td>\n",
       "      <td>False</td>\n",
       "      <td>3</td>\n",
       "    </tr>\n",
       "  </tbody>\n",
       "</table>\n",
       "</div>"
      ],
      "text/plain": [
       "   WordleID                   ID                 Created_At  \\\n",
       "0       254  1498447921448034305  2022-02-28 23:59:58+00:00   \n",
       "1       254  1498447918184996864  2022-02-28 23:59:58+00:00   \n",
       "2       254  1498447910173921282  2022-02-28 23:59:56+00:00   \n",
       "3       254  1498447901797801989  2022-02-28 23:59:54+00:00   \n",
       "4       254  1498447896911527938  2022-02-28 23:59:53+00:00   \n",
       "\n",
       "                                                Text              Source  \\\n",
       "0              Wordle 254 3/6\\n\\n🟨🟨⬛⬛⬛\\n🟨⬛🟨⬛🟩\\n🟩🟩🟩🟩🟩  Twitter for iPhone   \n",
       "1  Wordle 254 4/6\\n\\n⬛⬛⬛⬛🟩\\n⬛⬛⬛⬛🟩\\n⬛🟩⬛⬛🟩\\n🟩🟩🟩🟩🟩\\n...  Twitter for iPhone   \n",
       "2              Wordle 254 3/6\\n\\n⬛⬛⬛⬛🟩\\n⬛⬛🟩⬛🟩\\n🟩🟩🟩🟩🟩  Twitter for iPhone   \n",
       "3              Wordle 254 3/6\\n\\n⬛⬛⬛🟨⬛\\n⬛🟨⬛⬛🟩\\n🟩🟩🟩🟩🟩  Twitter for iPhone   \n",
       "4              Wordle 254 3/6\\n\\n⬛🟨⬛⬛⬛\\n🟩🟩🟩⬛🟩\\n🟩🟩🟩🟩🟩  Twitter for iPhone   \n",
       "\n",
       "         UserID       Username  User_ScreenName                    Location  \\\n",
       "0  3.681676e+07   Leslie Brown  live_laugh_pray                 Haida Gwaii   \n",
       "1  4.825910e+08     Dylan Sobo        DaBolt727  Largo, FL / Bradenton|FGCU   \n",
       "2  1.397624e+18              🖤         wengojos         23 • she/her • 🇵🇭🇺🇸   \n",
       "3  1.255905e+18  Dustin Waters   DustinWaters12                         NaN   \n",
       "4  2.528937e+08       R. Colin     rollin_fatty                Richmond, VA   \n",
       "\n",
       "   Truncated  Hard Mode Attempts  \n",
       "0      False      False        3  \n",
       "1      False      False        4  \n",
       "2      False      False        3  \n",
       "3      False      False        3  \n",
       "4      False      False        3  "
      ]
     },
     "execution_count": 53,
     "metadata": {},
     "output_type": "execute_result"
    }
   ],
   "source": [
    "number_pattern = re.compile(r'(Wordle) (\\d{3}) (([1-6Xx])\\/6)')\n",
    "\n",
    "# Function to extract the number of attempts from each row\n",
    "def extract_attempts(row):\n",
    "    match = number_pattern.search(row)\n",
    "    if match:\n",
    "        return match.group(3).replace('/6', '') \n",
    "    else:\n",
    "        return np.nan\n",
    "\n",
    "# Create a new column with the extracted numbers\n",
    "wordle['Attempts'] = wordle['Text'].apply(extract_attempts)\n",
    "\n",
    "wordle.head()"
   ]
  },
  {
   "cell_type": "markdown",
   "id": "ca3cc7e6",
   "metadata": {},
   "source": [
    "Per estrarre ulteriori informazioni possiamo affidarci alle emoji riportate nei tweet. Inoltre possiamo fare una verifica incrociata con il numero di tentativi per verificare la coerenza delle informazioni.\n",
    "\n",
    "Le informazioni per le varie emoji sono le seguenti:\n",
    "- ⬛ o ⬜ indicano che la lettera non è presente nella parola\n",
    "- 🟨 indicano che la lettera è corretta ma non la sua posizione\n",
    "- 🟩 indicano che la lettera è corretta e anche la sua posizione"
   ]
  },
  {
   "cell_type": "markdown",
   "id": "fc017399-747f-4845-884e-c5a5c4bd9e64",
   "metadata": {},
   "source": [
    "Estraiamo dal campo Text le emoji e creiamo una colonna Match."
   ]
  },
  {
   "cell_type": "code",
   "execution_count": 54,
   "id": "c9bfd938-c6f1-4b25-bc9d-c57336f01a96",
   "metadata": {},
   "outputs": [
    {
     "data": {
      "text/html": [
       "<div>\n",
       "<style scoped>\n",
       "    .dataframe tbody tr th:only-of-type {\n",
       "        vertical-align: middle;\n",
       "    }\n",
       "\n",
       "    .dataframe tbody tr th {\n",
       "        vertical-align: top;\n",
       "    }\n",
       "\n",
       "    .dataframe thead th {\n",
       "        text-align: right;\n",
       "    }\n",
       "</style>\n",
       "<table border=\"1\" class=\"dataframe\">\n",
       "  <thead>\n",
       "    <tr style=\"text-align: right;\">\n",
       "      <th></th>\n",
       "      <th>WordleID</th>\n",
       "      <th>ID</th>\n",
       "      <th>Created_At</th>\n",
       "      <th>Text</th>\n",
       "      <th>Source</th>\n",
       "      <th>UserID</th>\n",
       "      <th>Username</th>\n",
       "      <th>User_ScreenName</th>\n",
       "      <th>Location</th>\n",
       "      <th>Truncated</th>\n",
       "      <th>Hard Mode</th>\n",
       "      <th>Attempts</th>\n",
       "      <th>Match</th>\n",
       "    </tr>\n",
       "  </thead>\n",
       "  <tbody>\n",
       "    <tr>\n",
       "      <th>0</th>\n",
       "      <td>254</td>\n",
       "      <td>1498447921448034305</td>\n",
       "      <td>2022-02-28 23:59:58+00:00</td>\n",
       "      <td>Wordle 254 3/6\\n\\n🟨🟨⬛⬛⬛\\n🟨⬛🟨⬛🟩\\n🟩🟩🟩🟩🟩</td>\n",
       "      <td>Twitter for iPhone</td>\n",
       "      <td>3.681676e+07</td>\n",
       "      <td>Leslie Brown</td>\n",
       "      <td>live_laugh_pray</td>\n",
       "      <td>Haida Gwaii</td>\n",
       "      <td>False</td>\n",
       "      <td>False</td>\n",
       "      <td>3</td>\n",
       "      <td>🟨🟨⬛⬛⬛🟨⬛🟨⬛🟩🟩🟩🟩🟩🟩</td>\n",
       "    </tr>\n",
       "    <tr>\n",
       "      <th>1</th>\n",
       "      <td>254</td>\n",
       "      <td>1498447918184996864</td>\n",
       "      <td>2022-02-28 23:59:58+00:00</td>\n",
       "      <td>Wordle 254 4/6\\n\\n⬛⬛⬛⬛🟩\\n⬛⬛⬛⬛🟩\\n⬛🟩⬛⬛🟩\\n🟩🟩🟩🟩🟩\\n...</td>\n",
       "      <td>Twitter for iPhone</td>\n",
       "      <td>4.825910e+08</td>\n",
       "      <td>Dylan Sobo</td>\n",
       "      <td>DaBolt727</td>\n",
       "      <td>Largo, FL / Bradenton|FGCU</td>\n",
       "      <td>False</td>\n",
       "      <td>False</td>\n",
       "      <td>4</td>\n",
       "      <td>⬛⬛⬛⬛🟩⬛⬛⬛⬛🟩⬛🟩⬛⬛🟩🟩🟩🟩🟩🟩</td>\n",
       "    </tr>\n",
       "    <tr>\n",
       "      <th>2</th>\n",
       "      <td>254</td>\n",
       "      <td>1498447910173921282</td>\n",
       "      <td>2022-02-28 23:59:56+00:00</td>\n",
       "      <td>Wordle 254 3/6\\n\\n⬛⬛⬛⬛🟩\\n⬛⬛🟩⬛🟩\\n🟩🟩🟩🟩🟩</td>\n",
       "      <td>Twitter for iPhone</td>\n",
       "      <td>1.397624e+18</td>\n",
       "      <td>🖤</td>\n",
       "      <td>wengojos</td>\n",
       "      <td>23 • she/her • 🇵🇭🇺🇸</td>\n",
       "      <td>False</td>\n",
       "      <td>False</td>\n",
       "      <td>3</td>\n",
       "      <td>⬛⬛⬛⬛🟩⬛⬛🟩⬛🟩🟩🟩🟩🟩🟩</td>\n",
       "    </tr>\n",
       "    <tr>\n",
       "      <th>3</th>\n",
       "      <td>254</td>\n",
       "      <td>1498447901797801989</td>\n",
       "      <td>2022-02-28 23:59:54+00:00</td>\n",
       "      <td>Wordle 254 3/6\\n\\n⬛⬛⬛🟨⬛\\n⬛🟨⬛⬛🟩\\n🟩🟩🟩🟩🟩</td>\n",
       "      <td>Twitter for iPhone</td>\n",
       "      <td>1.255905e+18</td>\n",
       "      <td>Dustin Waters</td>\n",
       "      <td>DustinWaters12</td>\n",
       "      <td>NaN</td>\n",
       "      <td>False</td>\n",
       "      <td>False</td>\n",
       "      <td>3</td>\n",
       "      <td>⬛⬛⬛🟨⬛⬛🟨⬛⬛🟩🟩🟩🟩🟩🟩</td>\n",
       "    </tr>\n",
       "    <tr>\n",
       "      <th>4</th>\n",
       "      <td>254</td>\n",
       "      <td>1498447896911527938</td>\n",
       "      <td>2022-02-28 23:59:53+00:00</td>\n",
       "      <td>Wordle 254 3/6\\n\\n⬛🟨⬛⬛⬛\\n🟩🟩🟩⬛🟩\\n🟩🟩🟩🟩🟩</td>\n",
       "      <td>Twitter for iPhone</td>\n",
       "      <td>2.528937e+08</td>\n",
       "      <td>R. Colin</td>\n",
       "      <td>rollin_fatty</td>\n",
       "      <td>Richmond, VA</td>\n",
       "      <td>False</td>\n",
       "      <td>False</td>\n",
       "      <td>3</td>\n",
       "      <td>⬛🟨⬛⬛⬛🟩🟩🟩⬛🟩🟩🟩🟩🟩🟩</td>\n",
       "    </tr>\n",
       "  </tbody>\n",
       "</table>\n",
       "</div>"
      ],
      "text/plain": [
       "   WordleID                   ID                 Created_At  \\\n",
       "0       254  1498447921448034305  2022-02-28 23:59:58+00:00   \n",
       "1       254  1498447918184996864  2022-02-28 23:59:58+00:00   \n",
       "2       254  1498447910173921282  2022-02-28 23:59:56+00:00   \n",
       "3       254  1498447901797801989  2022-02-28 23:59:54+00:00   \n",
       "4       254  1498447896911527938  2022-02-28 23:59:53+00:00   \n",
       "\n",
       "                                                Text              Source  \\\n",
       "0              Wordle 254 3/6\\n\\n🟨🟨⬛⬛⬛\\n🟨⬛🟨⬛🟩\\n🟩🟩🟩🟩🟩  Twitter for iPhone   \n",
       "1  Wordle 254 4/6\\n\\n⬛⬛⬛⬛🟩\\n⬛⬛⬛⬛🟩\\n⬛🟩⬛⬛🟩\\n🟩🟩🟩🟩🟩\\n...  Twitter for iPhone   \n",
       "2              Wordle 254 3/6\\n\\n⬛⬛⬛⬛🟩\\n⬛⬛🟩⬛🟩\\n🟩🟩🟩🟩🟩  Twitter for iPhone   \n",
       "3              Wordle 254 3/6\\n\\n⬛⬛⬛🟨⬛\\n⬛🟨⬛⬛🟩\\n🟩🟩🟩🟩🟩  Twitter for iPhone   \n",
       "4              Wordle 254 3/6\\n\\n⬛🟨⬛⬛⬛\\n🟩🟩🟩⬛🟩\\n🟩🟩🟩🟩🟩  Twitter for iPhone   \n",
       "\n",
       "         UserID       Username  User_ScreenName                    Location  \\\n",
       "0  3.681676e+07   Leslie Brown  live_laugh_pray                 Haida Gwaii   \n",
       "1  4.825910e+08     Dylan Sobo        DaBolt727  Largo, FL / Bradenton|FGCU   \n",
       "2  1.397624e+18              🖤         wengojos         23 • she/her • 🇵🇭🇺🇸   \n",
       "3  1.255905e+18  Dustin Waters   DustinWaters12                         NaN   \n",
       "4  2.528937e+08       R. Colin     rollin_fatty                Richmond, VA   \n",
       "\n",
       "   Truncated  Hard Mode Attempts                 Match  \n",
       "0      False      False        3       🟨🟨⬛⬛⬛🟨⬛🟨⬛🟩🟩🟩🟩🟩🟩  \n",
       "1      False      False        4  ⬛⬛⬛⬛🟩⬛⬛⬛⬛🟩⬛🟩⬛⬛🟩🟩🟩🟩🟩🟩  \n",
       "2      False      False        3       ⬛⬛⬛⬛🟩⬛⬛🟩⬛🟩🟩🟩🟩🟩🟩  \n",
       "3      False      False        3       ⬛⬛⬛🟨⬛⬛🟨⬛⬛🟩🟩🟩🟩🟩🟩  \n",
       "4      False      False        3       ⬛🟨⬛⬛⬛🟩🟩🟩⬛🟩🟩🟩🟩🟩🟩  "
      ]
     },
     "execution_count": 54,
     "metadata": {},
     "output_type": "execute_result"
    }
   ],
   "source": [
    "colored_squares_pattern = re.compile(r'(\\n[🟨🟩⬛⬜]{5})', flags=re.UNICODE)\n",
    "\n",
    "def filter_text(row):\n",
    "    matches = colored_squares_pattern.findall(row['Text'])\n",
    "    if not matches:\n",
    "        return np.nan  # Label as NaN if no match found\n",
    "    filtered_text = ''.join(''.join(element for element in match) for match in matches).replace('\\n', '')\n",
    "    return filtered_text\n",
    "\n",
    "# Apply the function to each row and update the 'Text' column\n",
    "wordle['Match'] = wordle.apply(filter_text, axis=1)\n",
    "\n",
    "wordle.head()"
   ]
  },
  {
   "cell_type": "markdown",
   "id": "211ef5b7-146d-48a9-898f-d48ceabe19e1",
   "metadata": {},
   "source": [
    "Match ha circa 50000 valori nulli. Da Match possiamo ricavare Attempts, ma non viceversa. Non potendo integrare i valori dove Match è nullo, eliminiamo i campioni coinvolti. "
   ]
  },
  {
   "cell_type": "code",
   "execution_count": 55,
   "id": "9f842613-6bea-4cf8-8644-e4637110be6b",
   "metadata": {},
   "outputs": [
    {
     "name": "stdout",
     "output_type": "stream",
     "text": [
      "WordleID                0\n",
      "ID                      0\n",
      "Created_At              0\n",
      "Text                    0\n",
      "Source                  0\n",
      "UserID                  0\n",
      "Username               89\n",
      "User_ScreenName         0\n",
      "Location           573351\n",
      "Truncated               0\n",
      "Hard Mode               0\n",
      "Attempts            63183\n",
      "Match               48797\n",
      "dtype: int64\n"
     ]
    },
    {
     "data": {
      "text/plain": [
       "WordleID                0\n",
       "ID                      0\n",
       "Created_At              0\n",
       "Text                    0\n",
       "Source                  0\n",
       "UserID                  0\n",
       "Username               89\n",
       "User_ScreenName         0\n",
       "Location           560927\n",
       "Truncated               0\n",
       "Hard Mode               0\n",
       "Attempts            42031\n",
       "Match                   0\n",
       "dtype: int64"
      ]
     },
     "execution_count": 55,
     "metadata": {},
     "output_type": "execute_result"
    }
   ],
   "source": [
    "print(wordle.isnull().sum())\n",
    "wordle = wordle.dropna(subset=['Match'])\n",
    "wordle.isnull().sum()"
   ]
  },
  {
   "cell_type": "code",
   "execution_count": 56,
   "id": "6d84d87a-11d4-45a2-8071-4d1a73a3876c",
   "metadata": {},
   "outputs": [],
   "source": [
    "wordle['Match'] = wordle['Match'].astype(str)\n",
    "wordle['Match'] = wordle['Match'].apply(lambda x: [x[i:i+5] for i in range(0, len(x), 5)])"
   ]
  },
  {
   "cell_type": "code",
   "execution_count": 57,
   "id": "2c716c83-acf3-4fd9-9ef2-4e3ff452689e",
   "metadata": {},
   "outputs": [
    {
     "data": {
      "text/html": [
       "<div>\n",
       "<style scoped>\n",
       "    .dataframe tbody tr th:only-of-type {\n",
       "        vertical-align: middle;\n",
       "    }\n",
       "\n",
       "    .dataframe tbody tr th {\n",
       "        vertical-align: top;\n",
       "    }\n",
       "\n",
       "    .dataframe thead th {\n",
       "        text-align: right;\n",
       "    }\n",
       "</style>\n",
       "<table border=\"1\" class=\"dataframe\">\n",
       "  <thead>\n",
       "    <tr style=\"text-align: right;\">\n",
       "      <th></th>\n",
       "      <th>WordleID</th>\n",
       "      <th>ID</th>\n",
       "      <th>Created_At</th>\n",
       "      <th>Text</th>\n",
       "      <th>Source</th>\n",
       "      <th>UserID</th>\n",
       "      <th>Username</th>\n",
       "      <th>User_ScreenName</th>\n",
       "      <th>Location</th>\n",
       "      <th>Truncated</th>\n",
       "      <th>Hard Mode</th>\n",
       "      <th>Attempts</th>\n",
       "      <th>Match</th>\n",
       "    </tr>\n",
       "  </thead>\n",
       "  <tbody>\n",
       "    <tr>\n",
       "      <th>0</th>\n",
       "      <td>254</td>\n",
       "      <td>1498447921448034305</td>\n",
       "      <td>2022-02-28 23:59:58+00:00</td>\n",
       "      <td>Wordle 254 3/6\\n\\n🟨🟨⬛⬛⬛\\n🟨⬛🟨⬛🟩\\n🟩🟩🟩🟩🟩</td>\n",
       "      <td>Twitter for iPhone</td>\n",
       "      <td>3.681676e+07</td>\n",
       "      <td>Leslie Brown</td>\n",
       "      <td>live_laugh_pray</td>\n",
       "      <td>Haida Gwaii</td>\n",
       "      <td>False</td>\n",
       "      <td>False</td>\n",
       "      <td>3</td>\n",
       "      <td>[🟨🟨⬛⬛⬛, 🟨⬛🟨⬛🟩, 🟩🟩🟩🟩🟩]</td>\n",
       "    </tr>\n",
       "    <tr>\n",
       "      <th>1</th>\n",
       "      <td>254</td>\n",
       "      <td>1498447918184996864</td>\n",
       "      <td>2022-02-28 23:59:58+00:00</td>\n",
       "      <td>Wordle 254 4/6\\n\\n⬛⬛⬛⬛🟩\\n⬛⬛⬛⬛🟩\\n⬛🟩⬛⬛🟩\\n🟩🟩🟩🟩🟩\\n...</td>\n",
       "      <td>Twitter for iPhone</td>\n",
       "      <td>4.825910e+08</td>\n",
       "      <td>Dylan Sobo</td>\n",
       "      <td>DaBolt727</td>\n",
       "      <td>Largo, FL / Bradenton|FGCU</td>\n",
       "      <td>False</td>\n",
       "      <td>False</td>\n",
       "      <td>4</td>\n",
       "      <td>[⬛⬛⬛⬛🟩, ⬛⬛⬛⬛🟩, ⬛🟩⬛⬛🟩, 🟩🟩🟩🟩🟩]</td>\n",
       "    </tr>\n",
       "    <tr>\n",
       "      <th>2</th>\n",
       "      <td>254</td>\n",
       "      <td>1498447910173921282</td>\n",
       "      <td>2022-02-28 23:59:56+00:00</td>\n",
       "      <td>Wordle 254 3/6\\n\\n⬛⬛⬛⬛🟩\\n⬛⬛🟩⬛🟩\\n🟩🟩🟩🟩🟩</td>\n",
       "      <td>Twitter for iPhone</td>\n",
       "      <td>1.397624e+18</td>\n",
       "      <td>🖤</td>\n",
       "      <td>wengojos</td>\n",
       "      <td>23 • she/her • 🇵🇭🇺🇸</td>\n",
       "      <td>False</td>\n",
       "      <td>False</td>\n",
       "      <td>3</td>\n",
       "      <td>[⬛⬛⬛⬛🟩, ⬛⬛🟩⬛🟩, 🟩🟩🟩🟩🟩]</td>\n",
       "    </tr>\n",
       "    <tr>\n",
       "      <th>3</th>\n",
       "      <td>254</td>\n",
       "      <td>1498447901797801989</td>\n",
       "      <td>2022-02-28 23:59:54+00:00</td>\n",
       "      <td>Wordle 254 3/6\\n\\n⬛⬛⬛🟨⬛\\n⬛🟨⬛⬛🟩\\n🟩🟩🟩🟩🟩</td>\n",
       "      <td>Twitter for iPhone</td>\n",
       "      <td>1.255905e+18</td>\n",
       "      <td>Dustin Waters</td>\n",
       "      <td>DustinWaters12</td>\n",
       "      <td>NaN</td>\n",
       "      <td>False</td>\n",
       "      <td>False</td>\n",
       "      <td>3</td>\n",
       "      <td>[⬛⬛⬛🟨⬛, ⬛🟨⬛⬛🟩, 🟩🟩🟩🟩🟩]</td>\n",
       "    </tr>\n",
       "    <tr>\n",
       "      <th>4</th>\n",
       "      <td>254</td>\n",
       "      <td>1498447896911527938</td>\n",
       "      <td>2022-02-28 23:59:53+00:00</td>\n",
       "      <td>Wordle 254 3/6\\n\\n⬛🟨⬛⬛⬛\\n🟩🟩🟩⬛🟩\\n🟩🟩🟩🟩🟩</td>\n",
       "      <td>Twitter for iPhone</td>\n",
       "      <td>2.528937e+08</td>\n",
       "      <td>R. Colin</td>\n",
       "      <td>rollin_fatty</td>\n",
       "      <td>Richmond, VA</td>\n",
       "      <td>False</td>\n",
       "      <td>False</td>\n",
       "      <td>3</td>\n",
       "      <td>[⬛🟨⬛⬛⬛, 🟩🟩🟩⬛🟩, 🟩🟩🟩🟩🟩]</td>\n",
       "    </tr>\n",
       "  </tbody>\n",
       "</table>\n",
       "</div>"
      ],
      "text/plain": [
       "   WordleID                   ID                 Created_At  \\\n",
       "0       254  1498447921448034305  2022-02-28 23:59:58+00:00   \n",
       "1       254  1498447918184996864  2022-02-28 23:59:58+00:00   \n",
       "2       254  1498447910173921282  2022-02-28 23:59:56+00:00   \n",
       "3       254  1498447901797801989  2022-02-28 23:59:54+00:00   \n",
       "4       254  1498447896911527938  2022-02-28 23:59:53+00:00   \n",
       "\n",
       "                                                Text              Source  \\\n",
       "0              Wordle 254 3/6\\n\\n🟨🟨⬛⬛⬛\\n🟨⬛🟨⬛🟩\\n🟩🟩🟩🟩🟩  Twitter for iPhone   \n",
       "1  Wordle 254 4/6\\n\\n⬛⬛⬛⬛🟩\\n⬛⬛⬛⬛🟩\\n⬛🟩⬛⬛🟩\\n🟩🟩🟩🟩🟩\\n...  Twitter for iPhone   \n",
       "2              Wordle 254 3/6\\n\\n⬛⬛⬛⬛🟩\\n⬛⬛🟩⬛🟩\\n🟩🟩🟩🟩🟩  Twitter for iPhone   \n",
       "3              Wordle 254 3/6\\n\\n⬛⬛⬛🟨⬛\\n⬛🟨⬛⬛🟩\\n🟩🟩🟩🟩🟩  Twitter for iPhone   \n",
       "4              Wordle 254 3/6\\n\\n⬛🟨⬛⬛⬛\\n🟩🟩🟩⬛🟩\\n🟩🟩🟩🟩🟩  Twitter for iPhone   \n",
       "\n",
       "         UserID       Username  User_ScreenName                    Location  \\\n",
       "0  3.681676e+07   Leslie Brown  live_laugh_pray                 Haida Gwaii   \n",
       "1  4.825910e+08     Dylan Sobo        DaBolt727  Largo, FL / Bradenton|FGCU   \n",
       "2  1.397624e+18              🖤         wengojos         23 • she/her • 🇵🇭🇺🇸   \n",
       "3  1.255905e+18  Dustin Waters   DustinWaters12                         NaN   \n",
       "4  2.528937e+08       R. Colin     rollin_fatty                Richmond, VA   \n",
       "\n",
       "   Truncated  Hard Mode Attempts                         Match  \n",
       "0      False      False        3         [🟨🟨⬛⬛⬛, 🟨⬛🟨⬛🟩, 🟩🟩🟩🟩🟩]  \n",
       "1      False      False        4  [⬛⬛⬛⬛🟩, ⬛⬛⬛⬛🟩, ⬛🟩⬛⬛🟩, 🟩🟩🟩🟩🟩]  \n",
       "2      False      False        3         [⬛⬛⬛⬛🟩, ⬛⬛🟩⬛🟩, 🟩🟩🟩🟩🟩]  \n",
       "3      False      False        3         [⬛⬛⬛🟨⬛, ⬛🟨⬛⬛🟩, 🟩🟩🟩🟩🟩]  \n",
       "4      False      False        3         [⬛🟨⬛⬛⬛, 🟩🟩🟩⬛🟩, 🟩🟩🟩🟩🟩]  "
      ]
     },
     "execution_count": 57,
     "metadata": {},
     "output_type": "execute_result"
    }
   ],
   "source": [
    "wordle.head()"
   ]
  },
  {
   "cell_type": "markdown",
   "id": "6548e6aa",
   "metadata": {},
   "source": [
    "L'informazione più affidabile su cui basarsi per identificare un utente all'interno del dataset è UserID. L'assenza di valori nulli per questo attributo ci fornisce maggiore sicurezza. Possiamo allora fare a meno delle colonne Username e User_ScreenName che possono contenere identificativi non unici e modificabili da parte dell'utente nel tempo.\n",
    "\n",
    "Notiamo inoltre che la colonna Location contiene a sua volta valori nulli o valori errati. Come ulteriore verifica, su Kaggle ci viene suggerito che il 27% dei valori è nullo, il 72% non viene associato a una macrocategoria, mentre l'1% dei tweet risulta provenire dagli Stati Uniti. Dopo aver verificato a nostra volta che il numero di valori nulli per questa caratteristica è elevato, eliminiamo la colonna. "
   ]
  },
  {
   "cell_type": "code",
   "execution_count": 58,
   "id": "c528eae7-0830-4516-9158-72a378fcd493",
   "metadata": {},
   "outputs": [],
   "source": [
    "wordle = wordle[wordle['Truncated'] != True]\n",
    "wordle.drop(columns=['Username', 'User_ScreenName', 'Location', 'Truncated', 'Text'], inplace=True)"
   ]
  },
  {
   "cell_type": "markdown",
   "id": "0ac482df-c4cf-4ab7-b503-5e6539199944",
   "metadata": {},
   "source": [
    "Nel nostro dataset a ogni X o x corrisponde una partita persa, quindi generalmente 6 tentativi. "
   ]
  },
  {
   "cell_type": "code",
   "execution_count": 59,
   "id": "76cd420c-6dfb-4ebb-9b56-1ef7cb37e20e",
   "metadata": {},
   "outputs": [
    {
     "data": {
      "text/plain": [
       "WordleID          0\n",
       "ID                0\n",
       "Created_At        0\n",
       "Source            0\n",
       "UserID            0\n",
       "Hard Mode         0\n",
       "Attempts      39690\n",
       "Match             0\n",
       "dtype: int64"
      ]
     },
     "execution_count": 59,
     "metadata": {},
     "output_type": "execute_result"
    }
   ],
   "source": [
    "wordle.isnull().sum()"
   ]
  },
  {
   "cell_type": "code",
   "execution_count": 60,
   "id": "c95dca58-447f-481c-84b4-8994c71e2fb0",
   "metadata": {},
   "outputs": [
    {
     "data": {
      "text/html": [
       "<div>\n",
       "<style scoped>\n",
       "    .dataframe tbody tr th:only-of-type {\n",
       "        vertical-align: middle;\n",
       "    }\n",
       "\n",
       "    .dataframe tbody tr th {\n",
       "        vertical-align: top;\n",
       "    }\n",
       "\n",
       "    .dataframe thead th {\n",
       "        text-align: right;\n",
       "    }\n",
       "</style>\n",
       "<table border=\"1\" class=\"dataframe\">\n",
       "  <thead>\n",
       "    <tr style=\"text-align: right;\">\n",
       "      <th></th>\n",
       "      <th>WordleID</th>\n",
       "      <th>ID</th>\n",
       "      <th>Created_At</th>\n",
       "      <th>Source</th>\n",
       "      <th>UserID</th>\n",
       "      <th>Hard Mode</th>\n",
       "      <th>Attempts</th>\n",
       "      <th>Match</th>\n",
       "    </tr>\n",
       "  </thead>\n",
       "  <tbody>\n",
       "    <tr>\n",
       "      <th>0</th>\n",
       "      <td>254</td>\n",
       "      <td>1498447921448034305</td>\n",
       "      <td>2022-02-28 23:59:58+00:00</td>\n",
       "      <td>Twitter for iPhone</td>\n",
       "      <td>3.681676e+07</td>\n",
       "      <td>False</td>\n",
       "      <td>3</td>\n",
       "      <td>[🟨🟨⬛⬛⬛, 🟨⬛🟨⬛🟩, 🟩🟩🟩🟩🟩]</td>\n",
       "    </tr>\n",
       "    <tr>\n",
       "      <th>1</th>\n",
       "      <td>254</td>\n",
       "      <td>1498447918184996864</td>\n",
       "      <td>2022-02-28 23:59:58+00:00</td>\n",
       "      <td>Twitter for iPhone</td>\n",
       "      <td>4.825910e+08</td>\n",
       "      <td>False</td>\n",
       "      <td>4</td>\n",
       "      <td>[⬛⬛⬛⬛🟩, ⬛⬛⬛⬛🟩, ⬛🟩⬛⬛🟩, 🟩🟩🟩🟩🟩]</td>\n",
       "    </tr>\n",
       "    <tr>\n",
       "      <th>2</th>\n",
       "      <td>254</td>\n",
       "      <td>1498447910173921282</td>\n",
       "      <td>2022-02-28 23:59:56+00:00</td>\n",
       "      <td>Twitter for iPhone</td>\n",
       "      <td>1.397624e+18</td>\n",
       "      <td>False</td>\n",
       "      <td>3</td>\n",
       "      <td>[⬛⬛⬛⬛🟩, ⬛⬛🟩⬛🟩, 🟩🟩🟩🟩🟩]</td>\n",
       "    </tr>\n",
       "    <tr>\n",
       "      <th>3</th>\n",
       "      <td>254</td>\n",
       "      <td>1498447901797801989</td>\n",
       "      <td>2022-02-28 23:59:54+00:00</td>\n",
       "      <td>Twitter for iPhone</td>\n",
       "      <td>1.255905e+18</td>\n",
       "      <td>False</td>\n",
       "      <td>3</td>\n",
       "      <td>[⬛⬛⬛🟨⬛, ⬛🟨⬛⬛🟩, 🟩🟩🟩🟩🟩]</td>\n",
       "    </tr>\n",
       "    <tr>\n",
       "      <th>4</th>\n",
       "      <td>254</td>\n",
       "      <td>1498447896911527938</td>\n",
       "      <td>2022-02-28 23:59:53+00:00</td>\n",
       "      <td>Twitter for iPhone</td>\n",
       "      <td>2.528937e+08</td>\n",
       "      <td>False</td>\n",
       "      <td>3</td>\n",
       "      <td>[⬛🟨⬛⬛⬛, 🟩🟩🟩⬛🟩, 🟩🟩🟩🟩🟩]</td>\n",
       "    </tr>\n",
       "  </tbody>\n",
       "</table>\n",
       "</div>"
      ],
      "text/plain": [
       "   WordleID                   ID                 Created_At  \\\n",
       "0       254  1498447921448034305  2022-02-28 23:59:58+00:00   \n",
       "1       254  1498447918184996864  2022-02-28 23:59:58+00:00   \n",
       "2       254  1498447910173921282  2022-02-28 23:59:56+00:00   \n",
       "3       254  1498447901797801989  2022-02-28 23:59:54+00:00   \n",
       "4       254  1498447896911527938  2022-02-28 23:59:53+00:00   \n",
       "\n",
       "               Source        UserID  Hard Mode Attempts  \\\n",
       "0  Twitter for iPhone  3.681676e+07      False        3   \n",
       "1  Twitter for iPhone  4.825910e+08      False        4   \n",
       "2  Twitter for iPhone  1.397624e+18      False        3   \n",
       "3  Twitter for iPhone  1.255905e+18      False        3   \n",
       "4  Twitter for iPhone  2.528937e+08      False        3   \n",
       "\n",
       "                          Match  \n",
       "0         [🟨🟨⬛⬛⬛, 🟨⬛🟨⬛🟩, 🟩🟩🟩🟩🟩]  \n",
       "1  [⬛⬛⬛⬛🟩, ⬛⬛⬛⬛🟩, ⬛🟩⬛⬛🟩, 🟩🟩🟩🟩🟩]  \n",
       "2         [⬛⬛⬛⬛🟩, ⬛⬛🟩⬛🟩, 🟩🟩🟩🟩🟩]  \n",
       "3         [⬛⬛⬛🟨⬛, ⬛🟨⬛⬛🟩, 🟩🟩🟩🟩🟩]  \n",
       "4         [⬛🟨⬛⬛⬛, 🟩🟩🟩⬛🟩, 🟩🟩🟩🟩🟩]  "
      ]
     },
     "execution_count": 60,
     "metadata": {},
     "output_type": "execute_result"
    }
   ],
   "source": [
    "#wordle['Win'] = ~wordle['Attempts'].isin(['X', np.nan])\n",
    "wordle['Attempts'] = wordle['Attempts'].replace('X', '6')\n",
    "wordle['Attempts'] = wordle['Attempts'].replace('x', '6')\n",
    "\n",
    "# Print the first few rows to check the result\n",
    "wordle.head()"
   ]
  },
  {
   "cell_type": "code",
   "execution_count": 61,
   "id": "5b79dfd4-f5ea-47c2-945d-b207467337fc",
   "metadata": {},
   "outputs": [
    {
     "data": {
      "text/plain": [
       "WordleID          0\n",
       "ID                0\n",
       "Created_At        0\n",
       "Source            0\n",
       "UserID            0\n",
       "Hard Mode         0\n",
       "Attempts      39690\n",
       "Match             0\n",
       "dtype: int64"
      ]
     },
     "execution_count": 61,
     "metadata": {},
     "output_type": "execute_result"
    }
   ],
   "source": [
    "wordle.isnull().sum()"
   ]
  },
  {
   "cell_type": "markdown",
   "id": "178c2886-ef8f-46c5-9c1c-5c6d8e384866",
   "metadata": {},
   "source": [
    "Verifichiamo che i nostri dati siano coerenti. Per prima cosa verifichiamo che per ogni campione il numero di gruppi da 5 quadrati consecutivi appena estratto sia uguale al valore contenuto nella caratteristica 'Attempts'. Se i due non sono uguali può significare che la partita riportata nel tweet era sbagliata, che nel tweet è riportata più di una partita o che Attempts non rispecchia la partita presente nel tweet."
   ]
  },
  {
   "cell_type": "code",
   "execution_count": 62,
   "id": "787e4171-e67c-4813-97f5-36fbef4b30d2",
   "metadata": {},
   "outputs": [
    {
     "data": {
      "text/plain": [
       "WordleID      0\n",
       "ID            0\n",
       "Created_At    0\n",
       "Source        0\n",
       "UserID        0\n",
       "Hard Mode     0\n",
       "Attempts      0\n",
       "Match         0\n",
       "dtype: int64"
      ]
     },
     "execution_count": 62,
     "metadata": {},
     "output_type": "execute_result"
    }
   ],
   "source": [
    "wordle = wordle.dropna(subset=['Attempts'])\n",
    "wordle.isnull().sum()"
   ]
  },
  {
   "cell_type": "code",
   "execution_count": 63,
   "id": "d5730e0a-161c-402a-b225-a272806671bc",
   "metadata": {},
   "outputs": [
    {
     "name": "stdout",
     "output_type": "stream",
     "text": [
      "Number of rows where the number of elements in 'Match' is not equal to 'Attempts': 11544\n",
      "Total number of rows: 2033763\n"
     ]
    }
   ],
   "source": [
    "wordle['Attempts'] = wordle['Attempts'].astype(int)\n",
    "\n",
    "def verify_length(row):\n",
    "    # Get the length of the 'Text' array\n",
    "    text_length = len(row['Match'])\n",
    "    \n",
    "    # Get the value in the 'Attempts' column\n",
    "    attempts = row['Attempts']\n",
    "    \n",
    "    # Check if the lengths match\n",
    "    return text_length != attempts\n",
    "\n",
    "# Count the number of rows where lengths do not match\n",
    "num_mismatched_rows = wordle.apply(verify_length, axis=1).sum()\n",
    "\n",
    "print(\"Number of rows where the number of elements in 'Match' is not equal to 'Attempts':\", num_mismatched_rows)\n",
    "print(\"Total number of rows:\", wordle.shape[0])"
   ]
  },
  {
   "cell_type": "markdown",
   "id": "02dbaaad-63f6-45fd-9039-b4e3ff1d0f04",
   "metadata": {},
   "source": [
    "Eliminiamo le righe dove c'è incoerenza. "
   ]
  },
  {
   "cell_type": "code",
   "execution_count": 64,
   "id": "284fcaa4-1c93-4b92-af22-096c8f72bb7a",
   "metadata": {},
   "outputs": [
    {
     "name": "stdout",
     "output_type": "stream",
     "text": [
      "2022219\n"
     ]
    },
    {
     "data": {
      "text/html": [
       "<div>\n",
       "<style scoped>\n",
       "    .dataframe tbody tr th:only-of-type {\n",
       "        vertical-align: middle;\n",
       "    }\n",
       "\n",
       "    .dataframe tbody tr th {\n",
       "        vertical-align: top;\n",
       "    }\n",
       "\n",
       "    .dataframe thead th {\n",
       "        text-align: right;\n",
       "    }\n",
       "</style>\n",
       "<table border=\"1\" class=\"dataframe\">\n",
       "  <thead>\n",
       "    <tr style=\"text-align: right;\">\n",
       "      <th></th>\n",
       "      <th>WordleID</th>\n",
       "      <th>ID</th>\n",
       "      <th>Created_At</th>\n",
       "      <th>Source</th>\n",
       "      <th>UserID</th>\n",
       "      <th>Hard Mode</th>\n",
       "      <th>Attempts</th>\n",
       "      <th>Match</th>\n",
       "    </tr>\n",
       "  </thead>\n",
       "  <tbody>\n",
       "    <tr>\n",
       "      <th>0</th>\n",
       "      <td>254</td>\n",
       "      <td>1498447921448034305</td>\n",
       "      <td>2022-02-28 23:59:58+00:00</td>\n",
       "      <td>Twitter for iPhone</td>\n",
       "      <td>3.681676e+07</td>\n",
       "      <td>False</td>\n",
       "      <td>3</td>\n",
       "      <td>[🟨🟨⬛⬛⬛, 🟨⬛🟨⬛🟩, 🟩🟩🟩🟩🟩]</td>\n",
       "    </tr>\n",
       "    <tr>\n",
       "      <th>1</th>\n",
       "      <td>254</td>\n",
       "      <td>1498447918184996864</td>\n",
       "      <td>2022-02-28 23:59:58+00:00</td>\n",
       "      <td>Twitter for iPhone</td>\n",
       "      <td>4.825910e+08</td>\n",
       "      <td>False</td>\n",
       "      <td>4</td>\n",
       "      <td>[⬛⬛⬛⬛🟩, ⬛⬛⬛⬛🟩, ⬛🟩⬛⬛🟩, 🟩🟩🟩🟩🟩]</td>\n",
       "    </tr>\n",
       "    <tr>\n",
       "      <th>2</th>\n",
       "      <td>254</td>\n",
       "      <td>1498447910173921282</td>\n",
       "      <td>2022-02-28 23:59:56+00:00</td>\n",
       "      <td>Twitter for iPhone</td>\n",
       "      <td>1.397624e+18</td>\n",
       "      <td>False</td>\n",
       "      <td>3</td>\n",
       "      <td>[⬛⬛⬛⬛🟩, ⬛⬛🟩⬛🟩, 🟩🟩🟩🟩🟩]</td>\n",
       "    </tr>\n",
       "    <tr>\n",
       "      <th>3</th>\n",
       "      <td>254</td>\n",
       "      <td>1498447901797801989</td>\n",
       "      <td>2022-02-28 23:59:54+00:00</td>\n",
       "      <td>Twitter for iPhone</td>\n",
       "      <td>1.255905e+18</td>\n",
       "      <td>False</td>\n",
       "      <td>3</td>\n",
       "      <td>[⬛⬛⬛🟨⬛, ⬛🟨⬛⬛🟩, 🟩🟩🟩🟩🟩]</td>\n",
       "    </tr>\n",
       "    <tr>\n",
       "      <th>4</th>\n",
       "      <td>254</td>\n",
       "      <td>1498447896911527938</td>\n",
       "      <td>2022-02-28 23:59:53+00:00</td>\n",
       "      <td>Twitter for iPhone</td>\n",
       "      <td>2.528937e+08</td>\n",
       "      <td>False</td>\n",
       "      <td>3</td>\n",
       "      <td>[⬛🟨⬛⬛⬛, 🟩🟩🟩⬛🟩, 🟩🟩🟩🟩🟩]</td>\n",
       "    </tr>\n",
       "  </tbody>\n",
       "</table>\n",
       "</div>"
      ],
      "text/plain": [
       "   WordleID                   ID                 Created_At  \\\n",
       "0       254  1498447921448034305  2022-02-28 23:59:58+00:00   \n",
       "1       254  1498447918184996864  2022-02-28 23:59:58+00:00   \n",
       "2       254  1498447910173921282  2022-02-28 23:59:56+00:00   \n",
       "3       254  1498447901797801989  2022-02-28 23:59:54+00:00   \n",
       "4       254  1498447896911527938  2022-02-28 23:59:53+00:00   \n",
       "\n",
       "               Source        UserID  Hard Mode  Attempts  \\\n",
       "0  Twitter for iPhone  3.681676e+07      False         3   \n",
       "1  Twitter for iPhone  4.825910e+08      False         4   \n",
       "2  Twitter for iPhone  1.397624e+18      False         3   \n",
       "3  Twitter for iPhone  1.255905e+18      False         3   \n",
       "4  Twitter for iPhone  2.528937e+08      False         3   \n",
       "\n",
       "                          Match  \n",
       "0         [🟨🟨⬛⬛⬛, 🟨⬛🟨⬛🟩, 🟩🟩🟩🟩🟩]  \n",
       "1  [⬛⬛⬛⬛🟩, ⬛⬛⬛⬛🟩, ⬛🟩⬛⬛🟩, 🟩🟩🟩🟩🟩]  \n",
       "2         [⬛⬛⬛⬛🟩, ⬛⬛🟩⬛🟩, 🟩🟩🟩🟩🟩]  \n",
       "3         [⬛⬛⬛🟨⬛, ⬛🟨⬛⬛🟩, 🟩🟩🟩🟩🟩]  \n",
       "4         [⬛🟨⬛⬛⬛, 🟩🟩🟩⬛🟩, 🟩🟩🟩🟩🟩]  "
      ]
     },
     "execution_count": 64,
     "metadata": {},
     "output_type": "execute_result"
    }
   ],
   "source": [
    "# Create a boolean mask indicating whether the number of elements in 'Text' matches 'Attempts'\n",
    "mask = wordle.apply(lambda row: len(row['Match']) == row['Attempts'], axis=1)\n",
    "\n",
    "# Drop the rows where the number of elements in 'Text' does not match 'Attempts'\n",
    "wordle = wordle[mask]\n",
    "\n",
    "# Print the resulting DataFrame\n",
    "print(wordle.shape[0])\n",
    "wordle.head()"
   ]
  },
  {
   "cell_type": "markdown",
   "id": "52338a05-4e1a-4e06-9282-31a6a5adb372",
   "metadata": {},
   "source": [
    "Ora che sappiamo che il numero di gruppi di quadrati consecutivi coincide sempre col numero di tentativi, eliminiamo tutte quelle righe che contengono valori sbagliati del campo 'Match' (come ad esempio 6 righe di 5 quadrati tutti verdi). "
   ]
  },
  {
   "cell_type": "code",
   "execution_count": 65,
   "id": "e09528b3-d2f7-4e30-9b24-d95777a332e6",
   "metadata": {},
   "outputs": [
    {
     "name": "stdout",
     "output_type": "stream",
     "text": [
      "2022190\n"
     ]
    }
   ],
   "source": [
    "def meets_conditions(row):\n",
    "    # Check if any element in 'Text' contains five 🟩\n",
    "    for i, text in enumerate(row['Match']):\n",
    "        if text.count('🟩') == 5: \n",
    "            # Check if it's the last element of the array\n",
    "            if i == len(row['Match']) - 1:\n",
    "                # If the condition is met and it's the last element, check if it's the only one\n",
    "                num_matching_elements = sum(1 for t in row['Match'] if t.count('🟩') == 5) \n",
    "                if num_matching_elements == 1:\n",
    "                    return True\n",
    "                else:\n",
    "                    return False\n",
    "            else:\n",
    "                return False\n",
    "    # If no element contains five 🟩, return True\n",
    "    return True\n",
    "\n",
    "wrong_rows = wordle[~wordle.apply(meets_conditions, axis=1)]\n",
    "\n",
    "# Apply the function to each row of the DataFrame to filter out rows that don't meet the conditions\n",
    "wordle = wordle[wordle.apply(meets_conditions, axis=1)]\n",
    "print(wordle.shape[0])"
   ]
  },
  {
   "cell_type": "code",
   "execution_count": 66,
   "id": "6661b4f4-1d65-4396-83b0-5c0524081869",
   "metadata": {},
   "outputs": [
    {
     "data": {
      "text/html": [
       "<div>\n",
       "<style scoped>\n",
       "    .dataframe tbody tr th:only-of-type {\n",
       "        vertical-align: middle;\n",
       "    }\n",
       "\n",
       "    .dataframe tbody tr th {\n",
       "        vertical-align: top;\n",
       "    }\n",
       "\n",
       "    .dataframe thead th {\n",
       "        text-align: right;\n",
       "    }\n",
       "</style>\n",
       "<table border=\"1\" class=\"dataframe\">\n",
       "  <thead>\n",
       "    <tr style=\"text-align: right;\">\n",
       "      <th></th>\n",
       "      <th>WordleID</th>\n",
       "      <th>ID</th>\n",
       "      <th>Created_At</th>\n",
       "      <th>Source</th>\n",
       "      <th>UserID</th>\n",
       "      <th>Hard Mode</th>\n",
       "      <th>Attempts</th>\n",
       "      <th>Match</th>\n",
       "    </tr>\n",
       "  </thead>\n",
       "  <tbody>\n",
       "    <tr>\n",
       "      <th>29140</th>\n",
       "      <td>255</td>\n",
       "      <td>1498772741654261763</td>\n",
       "      <td>2022-03-01 21:30:42+00:00</td>\n",
       "      <td>Twitter for Android</td>\n",
       "      <td>1.420928e+18</td>\n",
       "      <td>False</td>\n",
       "      <td>5</td>\n",
       "      <td>[🟩🟩🟩🟩🟩, 🟩🟩🟩🟩🟩, 🟩🟩🟩🟩🟩, 🟩🟩🟩🟩🟩, 🟩🟩🟩🟩🟩]</td>\n",
       "    </tr>\n",
       "    <tr>\n",
       "      <th>44728</th>\n",
       "      <td>256</td>\n",
       "      <td>1499150725229826052</td>\n",
       "      <td>2022-03-02 22:32:40+00:00</td>\n",
       "      <td>Twitter for iPhone</td>\n",
       "      <td>1.190034e+18</td>\n",
       "      <td>False</td>\n",
       "      <td>6</td>\n",
       "      <td>[🟩🟩🟩🟩🟩, 🟩🟩🟩🟩🟩, 🟩🟩🟩🟩🟩, 🟩🟩🟩🟩🟩, 🟩🟩🟩🟩🟩, 🟩🟩🟩🟩🟩]</td>\n",
       "    </tr>\n",
       "    <tr>\n",
       "      <th>45083</th>\n",
       "      <td>256</td>\n",
       "      <td>1499149451822260228</td>\n",
       "      <td>2022-03-02 22:27:36+00:00</td>\n",
       "      <td>Twitter for iPhone</td>\n",
       "      <td>1.481837e+18</td>\n",
       "      <td>False</td>\n",
       "      <td>6</td>\n",
       "      <td>[🟩🟩🟩🟩🟩, 🟩🟩🟩🟩🟩, 🟩🟩🟩🟩🟩, 🟩🟩🟩🟩🟩, 🟩🟩🟩🟩🟩, 🟩🟩🟩🟩🟩]</td>\n",
       "    </tr>\n",
       "    <tr>\n",
       "      <th>45186</th>\n",
       "      <td>256</td>\n",
       "      <td>1499149042852397057</td>\n",
       "      <td>2022-03-02 22:25:59+00:00</td>\n",
       "      <td>Twitter for iPhone</td>\n",
       "      <td>1.456332e+18</td>\n",
       "      <td>False</td>\n",
       "      <td>6</td>\n",
       "      <td>[🟩🟩🟩🟩🟩, 🟩🟩🟩🟩🟩, 🟩🟩🟩🟩🟩, 🟩🟩🟩🟩🟩, 🟩🟩🟩🟩🟩, 🟩🟩🟩🟩🟩]</td>\n",
       "    </tr>\n",
       "    <tr>\n",
       "      <th>54251</th>\n",
       "      <td>256</td>\n",
       "      <td>1499116431148945410</td>\n",
       "      <td>2022-03-02 20:16:24+00:00</td>\n",
       "      <td>Twitter Web App</td>\n",
       "      <td>1.021135e+18</td>\n",
       "      <td>False</td>\n",
       "      <td>6</td>\n",
       "      <td>[⬛🟩🟩🟩🟩, 🟩🟩🟨🟨🟨, 🟩🟩🟩🟩🟩, 🟩🟩🟩🟩🟩, 🟩🟩🟩🟩🟩, ⬛🟩⬛⬛🟩]</td>\n",
       "    </tr>\n",
       "  </tbody>\n",
       "</table>\n",
       "</div>"
      ],
      "text/plain": [
       "       WordleID                   ID                 Created_At  \\\n",
       "29140       255  1498772741654261763  2022-03-01 21:30:42+00:00   \n",
       "44728       256  1499150725229826052  2022-03-02 22:32:40+00:00   \n",
       "45083       256  1499149451822260228  2022-03-02 22:27:36+00:00   \n",
       "45186       256  1499149042852397057  2022-03-02 22:25:59+00:00   \n",
       "54251       256  1499116431148945410  2022-03-02 20:16:24+00:00   \n",
       "\n",
       "                    Source        UserID  Hard Mode  Attempts  \\\n",
       "29140  Twitter for Android  1.420928e+18      False         5   \n",
       "44728   Twitter for iPhone  1.190034e+18      False         6   \n",
       "45083   Twitter for iPhone  1.481837e+18      False         6   \n",
       "45186   Twitter for iPhone  1.456332e+18      False         6   \n",
       "54251      Twitter Web App  1.021135e+18      False         6   \n",
       "\n",
       "                                            Match  \n",
       "29140         [🟩🟩🟩🟩🟩, 🟩🟩🟩🟩🟩, 🟩🟩🟩🟩🟩, 🟩🟩🟩🟩🟩, 🟩🟩🟩🟩🟩]  \n",
       "44728  [🟩🟩🟩🟩🟩, 🟩🟩🟩🟩🟩, 🟩🟩🟩🟩🟩, 🟩🟩🟩🟩🟩, 🟩🟩🟩🟩🟩, 🟩🟩🟩🟩🟩]  \n",
       "45083  [🟩🟩🟩🟩🟩, 🟩🟩🟩🟩🟩, 🟩🟩🟩🟩🟩, 🟩🟩🟩🟩🟩, 🟩🟩🟩🟩🟩, 🟩🟩🟩🟩🟩]  \n",
       "45186  [🟩🟩🟩🟩🟩, 🟩🟩🟩🟩🟩, 🟩🟩🟩🟩🟩, 🟩🟩🟩🟩🟩, 🟩🟩🟩🟩🟩, 🟩🟩🟩🟩🟩]  \n",
       "54251  [⬛🟩🟩🟩🟩, 🟩🟩🟨🟨🟨, 🟩🟩🟩🟩🟩, 🟩🟩🟩🟩🟩, 🟩🟩🟩🟩🟩, ⬛🟩⬛⬛🟩]  "
      ]
     },
     "execution_count": 66,
     "metadata": {},
     "output_type": "execute_result"
    }
   ],
   "source": [
    "wrong_rows.head()"
   ]
  },
  {
   "cell_type": "markdown",
   "id": "e8f21b1d-2c34-4913-a85c-1a7b54490795",
   "metadata": {},
   "source": [
    "Abbiamo effettivamente eliminato dei campioni errati. Creiamo una colonna 'Win' che ci indichi se una partita è stata vinta o persa. "
   ]
  },
  {
   "cell_type": "code",
   "execution_count": 67,
   "id": "5c9be5ab-f902-4cce-870b-6aa4efa88763",
   "metadata": {},
   "outputs": [
    {
     "data": {
      "text/html": [
       "<div>\n",
       "<style scoped>\n",
       "    .dataframe tbody tr th:only-of-type {\n",
       "        vertical-align: middle;\n",
       "    }\n",
       "\n",
       "    .dataframe tbody tr th {\n",
       "        vertical-align: top;\n",
       "    }\n",
       "\n",
       "    .dataframe thead th {\n",
       "        text-align: right;\n",
       "    }\n",
       "</style>\n",
       "<table border=\"1\" class=\"dataframe\">\n",
       "  <thead>\n",
       "    <tr style=\"text-align: right;\">\n",
       "      <th></th>\n",
       "      <th>WordleID</th>\n",
       "      <th>ID</th>\n",
       "      <th>Created_At</th>\n",
       "      <th>Source</th>\n",
       "      <th>UserID</th>\n",
       "      <th>Hard Mode</th>\n",
       "      <th>Attempts</th>\n",
       "      <th>Match</th>\n",
       "      <th>Win</th>\n",
       "    </tr>\n",
       "  </thead>\n",
       "  <tbody>\n",
       "    <tr>\n",
       "      <th>0</th>\n",
       "      <td>254</td>\n",
       "      <td>1498447921448034305</td>\n",
       "      <td>2022-02-28 23:59:58+00:00</td>\n",
       "      <td>Twitter for iPhone</td>\n",
       "      <td>3.681676e+07</td>\n",
       "      <td>False</td>\n",
       "      <td>3</td>\n",
       "      <td>[🟨🟨⬛⬛⬛, 🟨⬛🟨⬛🟩, 🟩🟩🟩🟩🟩]</td>\n",
       "      <td>True</td>\n",
       "    </tr>\n",
       "    <tr>\n",
       "      <th>1</th>\n",
       "      <td>254</td>\n",
       "      <td>1498447918184996864</td>\n",
       "      <td>2022-02-28 23:59:58+00:00</td>\n",
       "      <td>Twitter for iPhone</td>\n",
       "      <td>4.825910e+08</td>\n",
       "      <td>False</td>\n",
       "      <td>4</td>\n",
       "      <td>[⬛⬛⬛⬛🟩, ⬛⬛⬛⬛🟩, ⬛🟩⬛⬛🟩, 🟩🟩🟩🟩🟩]</td>\n",
       "      <td>True</td>\n",
       "    </tr>\n",
       "    <tr>\n",
       "      <th>2</th>\n",
       "      <td>254</td>\n",
       "      <td>1498447910173921282</td>\n",
       "      <td>2022-02-28 23:59:56+00:00</td>\n",
       "      <td>Twitter for iPhone</td>\n",
       "      <td>1.397624e+18</td>\n",
       "      <td>False</td>\n",
       "      <td>3</td>\n",
       "      <td>[⬛⬛⬛⬛🟩, ⬛⬛🟩⬛🟩, 🟩🟩🟩🟩🟩]</td>\n",
       "      <td>True</td>\n",
       "    </tr>\n",
       "    <tr>\n",
       "      <th>3</th>\n",
       "      <td>254</td>\n",
       "      <td>1498447901797801989</td>\n",
       "      <td>2022-02-28 23:59:54+00:00</td>\n",
       "      <td>Twitter for iPhone</td>\n",
       "      <td>1.255905e+18</td>\n",
       "      <td>False</td>\n",
       "      <td>3</td>\n",
       "      <td>[⬛⬛⬛🟨⬛, ⬛🟨⬛⬛🟩, 🟩🟩🟩🟩🟩]</td>\n",
       "      <td>True</td>\n",
       "    </tr>\n",
       "    <tr>\n",
       "      <th>4</th>\n",
       "      <td>254</td>\n",
       "      <td>1498447896911527938</td>\n",
       "      <td>2022-02-28 23:59:53+00:00</td>\n",
       "      <td>Twitter for iPhone</td>\n",
       "      <td>2.528937e+08</td>\n",
       "      <td>False</td>\n",
       "      <td>3</td>\n",
       "      <td>[⬛🟨⬛⬛⬛, 🟩🟩🟩⬛🟩, 🟩🟩🟩🟩🟩]</td>\n",
       "      <td>True</td>\n",
       "    </tr>\n",
       "  </tbody>\n",
       "</table>\n",
       "</div>"
      ],
      "text/plain": [
       "   WordleID                   ID                 Created_At  \\\n",
       "0       254  1498447921448034305  2022-02-28 23:59:58+00:00   \n",
       "1       254  1498447918184996864  2022-02-28 23:59:58+00:00   \n",
       "2       254  1498447910173921282  2022-02-28 23:59:56+00:00   \n",
       "3       254  1498447901797801989  2022-02-28 23:59:54+00:00   \n",
       "4       254  1498447896911527938  2022-02-28 23:59:53+00:00   \n",
       "\n",
       "               Source        UserID  Hard Mode  Attempts  \\\n",
       "0  Twitter for iPhone  3.681676e+07      False         3   \n",
       "1  Twitter for iPhone  4.825910e+08      False         4   \n",
       "2  Twitter for iPhone  1.397624e+18      False         3   \n",
       "3  Twitter for iPhone  1.255905e+18      False         3   \n",
       "4  Twitter for iPhone  2.528937e+08      False         3   \n",
       "\n",
       "                          Match   Win  \n",
       "0         [🟨🟨⬛⬛⬛, 🟨⬛🟨⬛🟩, 🟩🟩🟩🟩🟩]  True  \n",
       "1  [⬛⬛⬛⬛🟩, ⬛⬛⬛⬛🟩, ⬛🟩⬛⬛🟩, 🟩🟩🟩🟩🟩]  True  \n",
       "2         [⬛⬛⬛⬛🟩, ⬛⬛🟩⬛🟩, 🟩🟩🟩🟩🟩]  True  \n",
       "3         [⬛⬛⬛🟨⬛, ⬛🟨⬛⬛🟩, 🟩🟩🟩🟩🟩]  True  \n",
       "4         [⬛🟨⬛⬛⬛, 🟩🟩🟩⬛🟩, 🟩🟩🟩🟩🟩]  True  "
      ]
     },
     "execution_count": 67,
     "metadata": {},
     "output_type": "execute_result"
    }
   ],
   "source": [
    "def verify_winning_rows(row):\n",
    "    # Get the last element of the 'Text_Array'\n",
    "    last_element = row['Match'][-1]\n",
    "        \n",
    "    # Check if the last element contains five 🟩 \n",
    "    if last_element.count('🟩') == 5:\n",
    "            # Check if the last element is the only one containing five 🟩 \n",
    "            num_matching_elements = sum(1 for text in row['Match'] if text.count('🟩') == 5)\n",
    "            return num_matching_elements == 1\n",
    "    return False\n",
    "\n",
    "wordle.loc[:, 'Win'] = wordle.apply(verify_winning_rows, axis=1)\n",
    "wordle.head()"
   ]
  },
  {
   "cell_type": "markdown",
   "id": "6ed21f0c-7a15-40dc-926f-90935d2da0a6",
   "metadata": {},
   "source": [
    "Manca un'ultimo controllo per la coerenza. Noi ora sappiamo che le righe in Match sono pari al numero di tentativi in Attempts. Sappiamo anche che le righe di Match contengono cinque quadrati verdi alla fine oppure non ne contengono. Ci manca ancora uno scenario da eliminare dal nostro dataset: per esempio se attempts fosse stata 3 e le righe di Match non contengono la win line, si tratta di un errore che è ancora presente. Per eliminarlo verifichiamo che dovunque si abbia win a false e attempt, ossia il numero di righe di Match, sia 6. "
   ]
  },
  {
   "cell_type": "code",
   "execution_count": 68,
   "id": "136204e5-309b-44b0-8db9-2d52bc77c2ce",
   "metadata": {},
   "outputs": [
    {
     "name": "stdout",
     "output_type": "stream",
     "text": [
      "Number of rows where verify_attempts is False: 9\n"
     ]
    }
   ],
   "source": [
    "def verify_attempts(row):\n",
    "    # Check if 'Win' column value is False and 'Attempts' column value is 6\n",
    "    if row['Win']:\n",
    "        return True\n",
    "    if not row['Win'] and row['Attempts'] == 6:\n",
    "        return True\n",
    "    else:\n",
    "        return False\n",
    "\n",
    "# Apply the function to each row of the DataFrame\n",
    "wordle['Verify_Attempts'] = wordle.apply(verify_attempts, axis=1)\n",
    "\n",
    "\n",
    "num_false_attempts_and_win = len(wordle[(wordle['Verify_Attempts'] == False)])\n",
    "\n",
    "print(\"Number of rows where verify_attempts is False:\", num_false_attempts_and_win)"
   ]
  },
  {
   "cell_type": "markdown",
   "id": "eb5bcf47-e6e5-4961-997e-53d65367ca8b",
   "metadata": {},
   "source": [
    "Abbiamo solo 9 righe in cui i giocatori hanno rinunciato prima di terminare la partita, essendo un numero estremamente ridotto rispetto alle dimensioni del dataset scegliamo consapevolmente di rinunciare a questa informazione"
   ]
  },
  {
   "cell_type": "code",
   "execution_count": 69,
   "id": "571f6252-1753-42bd-88d8-a17723e15147",
   "metadata": {},
   "outputs": [
    {
     "name": "stdout",
     "output_type": "stream",
     "text": [
      "         WordleID                   ID                 Created_At  \\\n",
      "96200         258  1499825004531179523  2022-03-04 19:12:01+00:00   \n",
      "194152        263  1501640204939108361  2022-03-09 19:24:58+00:00   \n",
      "275652        267  1503082157912125440  2022-03-13 18:54:47+00:00   \n",
      "453871        276  1506337660348121090  2022-03-22 18:30:59+00:00   \n",
      "570874        282  1508531683284463626  2022-03-28 19:49:15+00:00   \n",
      "642415        286  1509673321050554368  2022-03-31 23:25:42+00:00   \n",
      "927641        301  1515406068192583687  2022-04-16 19:05:36+00:00   \n",
      "1183027       314  1520156070571909123  2022-04-29 21:40:25+00:00   \n",
      "1744112       353  1534253526037450752  2022-06-07 19:18:40+00:00   \n",
      "\n",
      "                      Source        UserID  Hard Mode  Attempts  \\\n",
      "96200        Twitter Web App  1.444373e+18      False         4   \n",
      "194152    Twitter for iPhone  8.974525e+17      False         1   \n",
      "275652   Twitter for Android  4.176883e+09      False         3   \n",
      "453871       Twitter Web App  1.506331e+18      False         5   \n",
      "570874   Twitter for Android  2.893908e+07      False         3   \n",
      "642415       Twitter Web App  1.264451e+18      False         4   \n",
      "927641       Twitter Web App  1.401815e+18      False         5   \n",
      "1183027   Twitter for iPhone  1.440172e+07      False         3   \n",
      "1744112  Twitter for Android  2.968821e+06      False         2   \n",
      "\n",
      "                                       Match    Win  Verify_Attempts  \n",
      "96200           [⬛⬛⬛🟨⬛, 🟨🟨🟨⬛🟨, ⬛⬛🟩🟩⬛, ⬛⬛🟩🟩🟩]  False            False  \n",
      "194152                               [🟩🟩🟩🟩⬛]  False            False  \n",
      "275652                 [🟩⬜⬜⬜⬜, 🟩🟩🟨🟨⬜, 🟩🟩🟩🟩⬜]  False            False  \n",
      "453871   [⬛🟨⬛🟨⬛, ⬛⬛🟨⬛⬛, ⬛⬛🟩⬛⬛, ⬛⬛🟩⬛⬛, ⬛🟩⬛🟩⬛]  False            False  \n",
      "570874                 [⬜⬜⬜⬜⬜, ⬜🟩⬜⬜⬜, 🟩🟩🟩🟩⬜]  False            False  \n",
      "642415          [⬜⬜⬜⬜⬜, 🟨🟩🟨🟩⬜, 🟨🟩🟨🟩⬜, 🟨🟨🟨🟨🟨]  False            False  \n",
      "927641   [⬜🟩🟩🟩⬜, 🟩🟩🟨🟨⬜, 🟩🟩🟩🟩⬜, ⬜🟩🟩🟩⬜, ⬜🟩⬜🟩⬜]  False            False  \n",
      "1183027                [⬜⬜⬜🟨⬜, ⬜🟩⬜⬜🟨, 🟨🟨🟩🟩🟩]  False            False  \n",
      "1744112                       [⬜⬜⬜🟨⬜, 🟨🟨🟨🟨🟨]  False            False  \n"
     ]
    }
   ],
   "source": [
    "print(wordle[(wordle['Verify_Attempts'] == False)])\n",
    "# Drop the 'Verify_Attempts' column as it's no longer needed\n",
    "wordle.drop(wordle[wordle['Verify_Attempts'] == False].index, inplace=True)"
   ]
  },
  {
   "cell_type": "code",
   "execution_count": 70,
   "id": "2edcb351-f024-448d-b43c-7d43175f1aad",
   "metadata": {},
   "outputs": [
    {
     "data": {
      "text/plain": [
       "WordleID           0\n",
       "ID                 0\n",
       "Created_At         0\n",
       "Source             0\n",
       "UserID             0\n",
       "Hard Mode          0\n",
       "Attempts           0\n",
       "Match              0\n",
       "Win                0\n",
       "Verify_Attempts    0\n",
       "dtype: int64"
      ]
     },
     "execution_count": 70,
     "metadata": {},
     "output_type": "execute_result"
    }
   ],
   "source": [
    "wordle.isnull().sum()"
   ]
  },
  {
   "cell_type": "markdown",
   "id": "b66b04c0-7afd-4ff9-a4dd-efc53d30dbfc",
   "metadata": {},
   "source": [
    "Escludiamo i casi seppur rari (9) dove un utente si è arreso o ha lasciato la partita a metà (vedi ID 1506337660348121090)."
   ]
  },
  {
   "cell_type": "code",
   "execution_count": 71,
   "id": "327c4998-6488-4c29-ae11-7ae7d9329e32",
   "metadata": {},
   "outputs": [
    {
     "name": "stdout",
     "output_type": "stream",
     "text": [
      "2022181\n"
     ]
    }
   ],
   "source": [
    "wordle = wordle[wordle['Verify_Attempts']]\n",
    "\n",
    "# Drop the 'Verify_Attempts' column as it's no longer needed\n",
    "wordle = wordle.drop(columns=['Verify_Attempts'])\n",
    "\n",
    "# Print the updated DataFrame\n",
    "print(wordle.shape[0])"
   ]
  },
  {
   "cell_type": "markdown",
   "id": "df43e858-636b-4e59-b876-74839f5d1c2d",
   "metadata": {},
   "source": [
    "Le regole di Wordle sono le seguenti:\n",
    "\n",
    "  -  è possibile giocare un solo puzzle al giorno\n",
    "  \n",
    "  -  tutti giocano allo stesso puzzle \n",
    "  \n",
    "Dobbiamo quindi verificare che per ciascun WordleID non ci siano più ricorrenze di uno stesso UserID. Nel caso siano presenti più occorrenze, non abbiamo strumenti che ci permettano con certezza di identificare quale occorrenza sia quella corretta da considerare, perciò poichè ambigui li eliminiamo."
   ]
  },
  {
   "cell_type": "code",
   "execution_count": 72,
   "id": "66042412-1c65-4e9c-89bc-a00a7df6e06e",
   "metadata": {},
   "outputs": [
    {
     "name": "stdout",
     "output_type": "stream",
     "text": [
      "2003430\n"
     ]
    }
   ],
   "source": [
    "wordle.drop_duplicates(subset=['UserID', 'WordleID'], keep=False, inplace=True)\n",
    "print(wordle.shape[0])"
   ]
  },
  {
   "cell_type": "markdown",
   "id": "8c39adde-cde0-46ab-9488-9af156de4093",
   "metadata": {},
   "source": [
    "Come ultima cosa andiamo a controllare la colonna \"Source\", che indica il client di Twitter dal quale è stato fatto il tweet, iniziamo controllando i primi 15 valori che appaiono più volte"
   ]
  },
  {
   "cell_type": "code",
   "execution_count": 73,
   "id": "0af9dd26-7aa9-43c1-b8ec-0eaa58b27c05",
   "metadata": {},
   "outputs": [
    {
     "name": "stdout",
     "output_type": "stream",
     "text": [
      "Twitter for iPhone         1126518\n",
      "Twitter for Android         510213\n",
      "Twitter Web App             266668\n",
      "Twitter for iPad             55452\n",
      "TweetDeck                    15272\n",
      "Tweetbot for iΟS             10607\n",
      "Echofon                       3448\n",
      "Twitterrific for iOS          2184\n",
      "Twitter for Mac               1465\n",
      "TweetCaster for Android       1151\n",
      "Fenix 2                        861\n",
      "Flamingo for Android           625\n",
      "Plume for Android              608\n",
      "Tweetbot for Mac               601\n",
      "Talon Android                  547\n",
      "Name: Source, dtype: int64\n"
     ]
    }
   ],
   "source": [
    "occorrenze_clients = wordle['Source'].value_counts()\n",
    "print(occorrenze_clients[:15])"
   ]
  },
  {
   "cell_type": "markdown",
   "id": "5aa8f858-4d4e-48db-bdeb-69001c1d607d",
   "metadata": {},
   "source": [
    "Considerando la grande dimensione del dataset, decidiamo di etichettare come \"Other\" tutti quei client che hanno un numero di occorrenze minore di 15 mila"
   ]
  },
  {
   "cell_type": "code",
   "execution_count": 74,
   "id": "113dab3d-f003-43af-b7ba-7dd8f472a47e",
   "metadata": {},
   "outputs": [
    {
     "name": "stdout",
     "output_type": "stream",
     "text": [
      "Twitter for iPhone     1126518\n",
      "Twitter for Android     510213\n",
      "Twitter Web App         266668\n",
      "Twitter for iPad         55452\n",
      "Other                    29307\n",
      "TweetDeck                15272\n",
      "Name: Source, dtype: int64\n"
     ]
    }
   ],
   "source": [
    "# Trova i valori con meno di 10.000 occorrenze\n",
    "valori_other = occorrenze_clients[occorrenze_clients < 15000].index\n",
    "\n",
    "# Sostituisci i valori con meno di 10.000 occorrenze con 'Other'\n",
    "wordle.loc[wordle['Source'].isin(valori_other), 'Source'] = 'Other'\n",
    "\n",
    "# Visualizza i risultati\n",
    "print(wordle['Source'].value_counts())\n"
   ]
  },
  {
   "cell_type": "markdown",
   "id": "3544667b-7f71-4c77-b04a-611b43535dd3",
   "metadata": {},
   "source": [
    "Nella fase di pulizia e integrazione dei dati abbiamo perso 2140196 - 2003430 = 136.778 campioni sui 2140196 campioni totali, quindi circa il 6.4% della totalità dei campioni perchè duplicati, incompleti, errati o incoerenti. "
   ]
  },
  {
   "cell_type": "markdown",
   "id": "4db0ca8f-d7a5-4f08-a358-06ae3f2b3a27",
   "metadata": {},
   "source": [
    "## Visualizzazione dei dati"
   ]
  },
  {
   "cell_type": "markdown",
   "id": "0e627b07-d581-44a4-ada8-7deef4a82d70",
   "metadata": {},
   "source": [
    "Per realizzare una rappresentazione OLAP utilizziamo i seguenti parametri:\n",
    "- Attività di un utente (tanti tweet caratterizzano un utente molto attivo, pochi tweet uno poco attivo)\n",
    "- Difficoltà di una parola (sulla base della media dei tentativi e del numero di partite perse)\n",
    "- Orario del tweet (mattino, pomeriggio, sera e notte)"
   ]
  },
  {
   "cell_type": "markdown",
   "id": "b3b76f16-2ab7-4b39-b919-a64f0951a0b5",
   "metadata": {},
   "source": [
    "Creiamo una caratteristica _UserActivity_ che per ciascun utente ci indichi quanto questo è attivo. Categorizziamo gli utenti sulla base del numero di tweet da essi pubblicati e il cui contenuto è la propria partita su wordle. \n",
    "Per non raggruppare in maniera sbilanciata, facciamoci guidare nella scelta dal seguente boxplot."
   ]
  },
  {
   "cell_type": "code",
   "execution_count": 75,
   "id": "03129263-88d1-418c-b242-c173dee000f5",
   "metadata": {},
   "outputs": [
    {
     "data": {
      "image/png": "[encoded data removed]",
      "text/plain": [
       "<Figure size 800x600 with 1 Axes>"
      ]
     },
     "metadata": {},
     "output_type": "display_data"
    }
   ],
   "source": [
    "user_activity = wordle['UserID'].value_counts()\n",
    "\n",
    "plt.figure(figsize=(8, 6))\n",
    "plt.boxplot(user_activity)\n",
    "plt.title('Boxplot della Attività degli Utenti')\n",
    "plt.ylabel('Numero di tweet per utente')\n",
    "plt.show()"
   ]
  },
  {
   "cell_type": "markdown",
   "id": "2663a8ee-07fe-4282-b32f-5cb7ffefb125",
   "metadata": {},
   "source": [
    "Ricaviamoci con precisione i valori di media, varianza, moda e mediana. "
   ]
  },
  {
   "cell_type": "code",
   "execution_count": 76,
   "id": "7468b36a-33b9-4a2d-993e-38c30be15308",
   "metadata": {},
   "outputs": [
    {
     "name": "stdout",
     "output_type": "stream",
     "text": [
      "Mean:  4.929954549816797\n",
      "Variance:  69.02045670843523\n",
      "Mode:  0    1\n",
      "Name: UserID, dtype: int64\n",
      "Median:  2.0\n"
     ]
    }
   ],
   "source": [
    "print(\"Mean: \", user_activity.mean())\n",
    "print(\"Variance: \", user_activity.var())\n",
    "print(\"Mode: \", user_activity.mode())\n",
    "print(\"Median: \", user_activity.median())"
   ]
  },
  {
   "cell_type": "code",
   "execution_count": 77,
   "id": "dcc86a93-517f-4754-963e-a625060b8422",
   "metadata": {},
   "outputs": [
    {
     "name": "stdout",
     "output_type": "stream",
     "text": [
      "5.185310e+08    96\n",
      "2.778092e+09    96\n",
      "7.569270e+17    95\n",
      "1.424114e+18    94\n",
      "1.963916e+08    94\n",
      "                ..\n",
      "1.052766e+18     1\n",
      "1.327120e+18     1\n",
      "7.967413e+17     1\n",
      "1.075024e+09     1\n",
      "7.109468e+17     1\n",
      "Name: UserID, Length: 406379, dtype: int64\n"
     ]
    }
   ],
   "source": [
    "print(user_activity)"
   ]
  },
  {
   "cell_type": "markdown",
   "id": "c6269a25-980c-4fa8-afa7-0c9ed4b2d04c",
   "metadata": {},
   "source": [
    "Contando i valori unici di WordleID siamo in grado di risalire al numero complessivo di parole del giorno presenti nel nostro dataset."
   ]
  },
  {
   "cell_type": "code",
   "execution_count": 78,
   "id": "3483ccfb-4297-4b3f-a84e-8a0eb4bc034e",
   "metadata": {},
   "outputs": [
    {
     "name": "stdout",
     "output_type": "stream",
     "text": [
      "Number of unique WordleIDs: 107\n"
     ]
    }
   ],
   "source": [
    "unique_wordle_ids = wordle['WordleID'].nunique()\n",
    "print(\"Number of unique WordleIDs:\", unique_wordle_ids)"
   ]
  },
  {
   "cell_type": "markdown",
   "id": "aa78b3fb-a9e1-4ba9-b3b4-7abc101f784e",
   "metadata": {},
   "source": [
    "Nel nostro dataset sono presenti 107 parole da indovinare. Il fatto che il numero massimo di partite condivise da un utente sia 96, ossia un valore inferiore a 107 dimostra che i nostri dati sono coerenti."
   ]
  },
  {
   "cell_type": "markdown",
   "id": "6886753b-a6e8-4fd8-b97c-95d2f2f9983f",
   "metadata": {},
   "source": [
    "Usiamo la seguente quantizzazione per il numero di condivisioni di ciascun utente:\n",
    "1. Low Activity = [1, 2];\n",
    "2. Medium Activity = [3, 7];\n",
    "3. High Activity = [8, 49];\n",
    "4. Very High Activity = [50, 107];"
   ]
  },
  {
   "cell_type": "code",
   "execution_count": 79,
   "id": "a56352ba-c22c-431b-80ff-bb0c5765663e",
   "metadata": {},
   "outputs": [
    {
     "data": {
      "text/html": [
       "<div>\n",
       "<style scoped>\n",
       "    .dataframe tbody tr th:only-of-type {\n",
       "        vertical-align: middle;\n",
       "    }\n",
       "\n",
       "    .dataframe tbody tr th {\n",
       "        vertical-align: top;\n",
       "    }\n",
       "\n",
       "    .dataframe thead th {\n",
       "        text-align: right;\n",
       "    }\n",
       "</style>\n",
       "<table border=\"1\" class=\"dataframe\">\n",
       "  <thead>\n",
       "    <tr style=\"text-align: right;\">\n",
       "      <th></th>\n",
       "      <th>WordleID</th>\n",
       "      <th>ID</th>\n",
       "      <th>Created_At</th>\n",
       "      <th>Source</th>\n",
       "      <th>UserID</th>\n",
       "      <th>Hard Mode</th>\n",
       "      <th>Attempts</th>\n",
       "      <th>Match</th>\n",
       "      <th>Win</th>\n",
       "      <th>UserActivity</th>\n",
       "    </tr>\n",
       "  </thead>\n",
       "  <tbody>\n",
       "    <tr>\n",
       "      <th>0</th>\n",
       "      <td>254</td>\n",
       "      <td>1498447921448034305</td>\n",
       "      <td>2022-02-28 23:59:58+00:00</td>\n",
       "      <td>Twitter for iPhone</td>\n",
       "      <td>36816757.0</td>\n",
       "      <td>False</td>\n",
       "      <td>3</td>\n",
       "      <td>[🟨🟨⬛⬛⬛, 🟨⬛🟨⬛🟩, 🟩🟩🟩🟩🟩]</td>\n",
       "      <td>True</td>\n",
       "      <td>Low Activity</td>\n",
       "    </tr>\n",
       "    <tr>\n",
       "      <th>1</th>\n",
       "      <td>254</td>\n",
       "      <td>1498447918184996864</td>\n",
       "      <td>2022-02-28 23:59:58+00:00</td>\n",
       "      <td>Twitter for iPhone</td>\n",
       "      <td>482591014.0</td>\n",
       "      <td>False</td>\n",
       "      <td>4</td>\n",
       "      <td>[⬛⬛⬛⬛🟩, ⬛⬛⬛⬛🟩, ⬛🟩⬛⬛🟩, 🟩🟩🟩🟩🟩]</td>\n",
       "      <td>True</td>\n",
       "      <td>High Activity</td>\n",
       "    </tr>\n",
       "    <tr>\n",
       "      <th>73387</th>\n",
       "      <td>257</td>\n",
       "      <td>1499477529232617480</td>\n",
       "      <td>2022-03-03 20:11:16+00:00</td>\n",
       "      <td>Twitter for iPhone</td>\n",
       "      <td>482591014.0</td>\n",
       "      <td>False</td>\n",
       "      <td>5</td>\n",
       "      <td>[⬛🟨⬛⬛⬛, ⬛⬛🟩🟨⬛, ⬛🟨🟩⬛⬛, ⬛🟨🟩🟨⬛, 🟩🟩🟩🟩🟩]</td>\n",
       "      <td>True</td>\n",
       "      <td>High Activity</td>\n",
       "    </tr>\n",
       "    <tr>\n",
       "      <th>133607</th>\n",
       "      <td>260</td>\n",
       "      <td>1500563244653678592</td>\n",
       "      <td>2022-03-06 20:05:31+00:00</td>\n",
       "      <td>Twitter for iPhone</td>\n",
       "      <td>482591014.0</td>\n",
       "      <td>False</td>\n",
       "      <td>5</td>\n",
       "      <td>[⬛⬛⬛⬛⬛, ⬛🟩⬛⬛⬛, ⬛🟩⬛⬛🟨, 🟩🟩🟩🟩⬛, 🟩🟩🟩🟩🟩]</td>\n",
       "      <td>True</td>\n",
       "      <td>High Activity</td>\n",
       "    </tr>\n",
       "    <tr>\n",
       "      <th>161136</th>\n",
       "      <td>262</td>\n",
       "      <td>1501340165331202049</td>\n",
       "      <td>2022-03-08 23:32:43+00:00</td>\n",
       "      <td>Twitter for iPhone</td>\n",
       "      <td>482591014.0</td>\n",
       "      <td>False</td>\n",
       "      <td>5</td>\n",
       "      <td>[⬛⬛⬛⬛🟨, ⬛⬛⬛⬛🟨, ⬛⬛🟩🟨🟩, 🟩⬛🟩⬛🟩, 🟩🟩🟩🟩🟩]</td>\n",
       "      <td>True</td>\n",
       "      <td>High Activity</td>\n",
       "    </tr>\n",
       "  </tbody>\n",
       "</table>\n",
       "</div>"
      ],
      "text/plain": [
       "        WordleID                   ID                 Created_At  \\\n",
       "0            254  1498447921448034305  2022-02-28 23:59:58+00:00   \n",
       "1            254  1498447918184996864  2022-02-28 23:59:58+00:00   \n",
       "73387        257  1499477529232617480  2022-03-03 20:11:16+00:00   \n",
       "133607       260  1500563244653678592  2022-03-06 20:05:31+00:00   \n",
       "161136       262  1501340165331202049  2022-03-08 23:32:43+00:00   \n",
       "\n",
       "                    Source       UserID  Hard Mode  Attempts  \\\n",
       "0       Twitter for iPhone   36816757.0      False         3   \n",
       "1       Twitter for iPhone  482591014.0      False         4   \n",
       "73387   Twitter for iPhone  482591014.0      False         5   \n",
       "133607  Twitter for iPhone  482591014.0      False         5   \n",
       "161136  Twitter for iPhone  482591014.0      False         5   \n",
       "\n",
       "                                      Match   Win   UserActivity  \n",
       "0                     [🟨🟨⬛⬛⬛, 🟨⬛🟨⬛🟩, 🟩🟩🟩🟩🟩]  True   Low Activity  \n",
       "1              [⬛⬛⬛⬛🟩, ⬛⬛⬛⬛🟩, ⬛🟩⬛⬛🟩, 🟩🟩🟩🟩🟩]  True  High Activity  \n",
       "73387   [⬛🟨⬛⬛⬛, ⬛⬛🟩🟨⬛, ⬛🟨🟩⬛⬛, ⬛🟨🟩🟨⬛, 🟩🟩🟩🟩🟩]  True  High Activity  \n",
       "133607  [⬛⬛⬛⬛⬛, ⬛🟩⬛⬛⬛, ⬛🟩⬛⬛🟨, 🟩🟩🟩🟩⬛, 🟩🟩🟩🟩🟩]  True  High Activity  \n",
       "161136  [⬛⬛⬛⬛🟨, ⬛⬛⬛⬛🟨, ⬛⬛🟩🟨🟩, 🟩⬛🟩⬛🟩, 🟩🟩🟩🟩🟩]  True  High Activity  "
      ]
     },
     "execution_count": 79,
     "metadata": {},
     "output_type": "execute_result"
    }
   ],
   "source": [
    "bins = [0, 3, 8, 50, 107]\n",
    "labels = ['Low Activity', 'Medium Activity', 'High Activity', 'Very High Activity']\n",
    "\n",
    "user_macrocategories = pd.cut(user_activity, bins=bins, labels=labels)\n",
    "\n",
    "wordle = wordle.merge(user_macrocategories.rename('UserActivity'), left_on='UserID', right_index=True)\n",
    "wordle.head()"
   ]
  },
  {
   "cell_type": "markdown",
   "id": "ab071681-cc5e-490c-89a0-a33c621dfb1a",
   "metadata": {},
   "source": [
    "Definiamo un'altra quantizzazione in base al periodo della giornata in cui è stato fatto il tweet:\n",
    "1. Morning = [5, 12];\n",
    "2. Afternoon = [12, 19];\n",
    "3. Evening = [19, 24];\n",
    "4. Night = [0, 5]."
   ]
  },
  {
   "cell_type": "code",
   "execution_count": 80,
   "id": "3a044cfc-2100-4795-806e-ed6b955b1088",
   "metadata": {},
   "outputs": [
    {
     "data": {
      "text/html": [
       "<div>\n",
       "<style scoped>\n",
       "    .dataframe tbody tr th:only-of-type {\n",
       "        vertical-align: middle;\n",
       "    }\n",
       "\n",
       "    .dataframe tbody tr th {\n",
       "        vertical-align: top;\n",
       "    }\n",
       "\n",
       "    .dataframe thead th {\n",
       "        text-align: right;\n",
       "    }\n",
       "</style>\n",
       "<table border=\"1\" class=\"dataframe\">\n",
       "  <thead>\n",
       "    <tr style=\"text-align: right;\">\n",
       "      <th></th>\n",
       "      <th>WordleID</th>\n",
       "      <th>ID</th>\n",
       "      <th>Created_At</th>\n",
       "      <th>Source</th>\n",
       "      <th>UserID</th>\n",
       "      <th>Hard Mode</th>\n",
       "      <th>Attempts</th>\n",
       "      <th>Match</th>\n",
       "      <th>Win</th>\n",
       "      <th>UserActivity</th>\n",
       "      <th>TimeOfDay</th>\n",
       "    </tr>\n",
       "  </thead>\n",
       "  <tbody>\n",
       "    <tr>\n",
       "      <th>1789700</th>\n",
       "      <td>355</td>\n",
       "      <td>1534920311753396224</td>\n",
       "      <td>2022-06-09 15:28:14+00:00</td>\n",
       "      <td>Twitter for Android</td>\n",
       "      <td>3.353771e+09</td>\n",
       "      <td>False</td>\n",
       "      <td>5</td>\n",
       "      <td>[⬛🟨⬛⬛⬛, ⬛🟨⬛🟩🟩, ⬛⬛🟩🟩🟩, ⬛🟩🟩🟩🟩, 🟩🟩🟩🟩🟩]</td>\n",
       "      <td>True</td>\n",
       "      <td>Very High Activity</td>\n",
       "      <td>Afternoon</td>\n",
       "    </tr>\n",
       "    <tr>\n",
       "      <th>1089007</th>\n",
       "      <td>309</td>\n",
       "      <td>1518295013263826947</td>\n",
       "      <td>2022-04-24 18:25:14+00:00</td>\n",
       "      <td>Twitter for iPhone</td>\n",
       "      <td>1.142094e+18</td>\n",
       "      <td>False</td>\n",
       "      <td>6</td>\n",
       "      <td>[⬜⬜⬜🟨⬜, ⬜⬜⬜🟨⬜, 🟨⬜⬜⬜⬜, ⬜🟨⬜⬜🟩, ⬜🟨⬜⬜⬜, 🟩🟩🟩🟩🟩]</td>\n",
       "      <td>True</td>\n",
       "      <td>High Activity</td>\n",
       "      <td>Afternoon</td>\n",
       "    </tr>\n",
       "    <tr>\n",
       "      <th>1677523</th>\n",
       "      <td>346</td>\n",
       "      <td>1531622086287839237</td>\n",
       "      <td>2022-05-31 13:02:16+00:00</td>\n",
       "      <td>Twitter for iPhone</td>\n",
       "      <td>1.130197e+18</td>\n",
       "      <td>False</td>\n",
       "      <td>2</td>\n",
       "      <td>[⬜🟩⬜⬜🟩, 🟩🟩🟩🟩🟩]</td>\n",
       "      <td>True</td>\n",
       "      <td>Low Activity</td>\n",
       "      <td>Afternoon</td>\n",
       "    </tr>\n",
       "    <tr>\n",
       "      <th>810721</th>\n",
       "      <td>294</td>\n",
       "      <td>1512863630412419086</td>\n",
       "      <td>2022-04-09 18:42:51+00:00</td>\n",
       "      <td>Twitter for iPhone</td>\n",
       "      <td>2.502950e+09</td>\n",
       "      <td>False</td>\n",
       "      <td>2</td>\n",
       "      <td>[🟨🟨🟨🟨⬜, 🟩🟩🟩🟩🟩]</td>\n",
       "      <td>True</td>\n",
       "      <td>High Activity</td>\n",
       "      <td>Afternoon</td>\n",
       "    </tr>\n",
       "    <tr>\n",
       "      <th>123613</th>\n",
       "      <td>260</td>\n",
       "      <td>1500603468045684741</td>\n",
       "      <td>2022-03-06 22:45:21+00:00</td>\n",
       "      <td>Twitter for iPhone</td>\n",
       "      <td>2.405899e+09</td>\n",
       "      <td>False</td>\n",
       "      <td>3</td>\n",
       "      <td>[🟩🟨⬛🟨⬛, 🟩🟩🟩⬛⬛, 🟩🟩🟩🟩🟩]</td>\n",
       "      <td>True</td>\n",
       "      <td>Medium Activity</td>\n",
       "      <td>Evening</td>\n",
       "    </tr>\n",
       "  </tbody>\n",
       "</table>\n",
       "</div>"
      ],
      "text/plain": [
       "         WordleID                   ID                Created_At  \\\n",
       "1789700       355  1534920311753396224 2022-06-09 15:28:14+00:00   \n",
       "1089007       309  1518295013263826947 2022-04-24 18:25:14+00:00   \n",
       "1677523       346  1531622086287839237 2022-05-31 13:02:16+00:00   \n",
       "810721        294  1512863630412419086 2022-04-09 18:42:51+00:00   \n",
       "123613        260  1500603468045684741 2022-03-06 22:45:21+00:00   \n",
       "\n",
       "                      Source        UserID  Hard Mode  Attempts  \\\n",
       "1789700  Twitter for Android  3.353771e+09      False         5   \n",
       "1089007   Twitter for iPhone  1.142094e+18      False         6   \n",
       "1677523   Twitter for iPhone  1.130197e+18      False         2   \n",
       "810721    Twitter for iPhone  2.502950e+09      False         2   \n",
       "123613    Twitter for iPhone  2.405899e+09      False         3   \n",
       "\n",
       "                                              Match   Win        UserActivity  \\\n",
       "1789700         [⬛🟨⬛⬛⬛, ⬛🟨⬛🟩🟩, ⬛⬛🟩🟩🟩, ⬛🟩🟩🟩🟩, 🟩🟩🟩🟩🟩]  True  Very High Activity   \n",
       "1089007  [⬜⬜⬜🟨⬜, ⬜⬜⬜🟨⬜, 🟨⬜⬜⬜⬜, ⬜🟨⬜⬜🟩, ⬜🟨⬜⬜⬜, 🟩🟩🟩🟩🟩]  True       High Activity   \n",
       "1677523                              [⬜🟩⬜⬜🟩, 🟩🟩🟩🟩🟩]  True        Low Activity   \n",
       "810721                               [🟨🟨🟨🟨⬜, 🟩🟩🟩🟩🟩]  True       High Activity   \n",
       "123613                        [🟩🟨⬛🟨⬛, 🟩🟩🟩⬛⬛, 🟩🟩🟩🟩🟩]  True     Medium Activity   \n",
       "\n",
       "         TimeOfDay  \n",
       "1789700  Afternoon  \n",
       "1089007  Afternoon  \n",
       "1677523  Afternoon  \n",
       "810721   Afternoon  \n",
       "123613     Evening  "
      ]
     },
     "execution_count": 80,
     "metadata": {},
     "output_type": "execute_result"
    }
   ],
   "source": [
    "wordle['Created_At'] = pd.to_datetime(wordle['Created_At'])\n",
    "\n",
    "bins = [0, 5, 12, 19, 24]\n",
    "labels = ['Night','Morning','Afternoon','Evening']\n",
    "\n",
    "wordle['TimeOfDay'] = pd.cut(wordle['Created_At'].dt.hour, bins=bins, labels=labels, right=False)\n",
    "\n",
    "n = 5\n",
    "wordle.sample(n).sort_values(by='TimeOfDay').head(n)"
   ]
  },
  {
   "cell_type": "markdown",
   "id": "dbb673c2-1cde-4114-b544-3c218f20b5e3",
   "metadata": {},
   "source": [
    "Desideriamo conoscere in quali fasce orarie gli utenti sono più attivi. Visualizziamo questa informazione con un bar plot."
   ]
  },
  {
   "cell_type": "code",
   "execution_count": 81,
   "id": "d727e821-18b6-4827-b068-d5b275c2fc98",
   "metadata": {},
   "outputs": [
    {
     "data": {
      "image/png": "[encoded data removed]",
      "text/plain": [
       "<Figure size 1000x300 with 1 Axes>"
      ]
     },
     "metadata": {},
     "output_type": "display_data"
    }
   ],
   "source": [
    "activity_by_time = wordle['TimeOfDay'].value_counts()\n",
    "\n",
    "activity_by_time = activity_by_time.reindex(labels)\n",
    "\n",
    "plt.figure(figsize=(10, 3))\n",
    "activity_by_time.plot(kind='barh', color='skyblue')\n",
    "\n",
    "# Set tick positions and labels for x-axis\n",
    "tick_positions = [0, 250000, 500000, 750000, 1000000]\n",
    "tick_labels = [str(val) for val in tick_positions]\n",
    "\n",
    "plt.xticks(tick_positions, tick_labels)\n",
    "\n",
    "plt.title('User Activity')\n",
    "plt.ylabel('Time of Day')\n",
    "plt.xlabel('Number of Tweets')\n",
    "\n",
    "plt.grid(axis='x', linestyle='--', alpha=0.7) \n",
    "plt.tight_layout()\n",
    "plt.show()"
   ]
  },
  {
   "cell_type": "markdown",
   "id": "b2a48346-b484-4e13-83c5-7d35c528a013",
   "metadata": {},
   "source": [
    "La nuova parola del giorno viene rilasciata a mezzanotte della propria ora locale, nel nostro dataset però nessun utente ha condiviso la propria partita nella fascia oraria notturna."
   ]
  },
  {
   "cell_type": "markdown",
   "id": "683ce90d-15a0-4d87-94a4-6abb340b6510",
   "metadata": {},
   "source": [
    "Per assegnare a ciascuna parola un livello di difficoltà:\n",
    "- Nel caso in cui il numero di sconfitte per quella parola sia maggiore di 2.2 volte il valore medio del numero di sconfitte, la parola è '__Very Hard__'\n",
    "- Nel caso in cui il numero medio di tentativi per quella parola sia compreso tra 1 e 4.0 e la partita è vinta, la parola è '__Easy__'\n",
    "- Nel caso in cui il numero medio di tentativi per quella parola sia compreso tra 4.0 e 4.5 e la partita è vinta, la parola è '__Medium__'\n",
    "- Nel caso in cui il numero medio di tentativi per quella parola sia compreso tra 4.5 e 6 e la partita è vinta, la parola è '__Hard__'"
   ]
  },
  {
   "cell_type": "code",
   "execution_count": 82,
   "id": "2cc3a259-d2de-4f3f-8534-288b211f2b06",
   "metadata": {},
   "outputs": [],
   "source": [
    "mean_attempts = wordle[wordle['Win']].groupby('WordleID')['Attempts'].mean()\n",
    "\n",
    "# Categorize WordleIDs based on the criteria\n",
    "def categorize_difficulty(mean_attempt):\n",
    "    if mean_attempt >= 4.5:\n",
    "        return 'Hard'\n",
    "    elif mean_attempt >= 4.0:\n",
    "        return 'Medium'\n",
    "    else:\n",
    "        return 'Easy'\n",
    "\n",
    "# Apply the categorization function to each WordleID\n",
    "wordle['Difficulty'] = wordle['WordleID'].map(mean_attempts).apply(categorize_difficulty)\n",
    "\n",
    "# Calculate the overall ratio of lost games to total games in the entire DataFrame\n",
    "overall_lost_games_ratio = wordle[~wordle['Win']].shape[0] / wordle.shape[0]\n",
    "\n",
    "# Define a function to check if the condition is met for a specific WordleID\n",
    "def should_update_difficulty(wordle_id):\n",
    "    wordle_subset = wordle[wordle['WordleID'] == wordle_id]\n",
    "    lost_games_ratio = wordle_subset[~wordle_subset['Win']].shape[0] / wordle_subset.shape[0]\n",
    "    return lost_games_ratio > 2.2*overall_lost_games_ratio\n",
    "\n",
    "# Iterate over each unique WordleID\n",
    "for unique_id in wordle['WordleID'].unique():\n",
    "    # Check if the condition is met for the current WordleID\n",
    "    if should_update_difficulty(unique_id):\n",
    "        # Update the 'Difficulty' column for rows with the current WordleID\n",
    "        wordle.loc[wordle['WordleID'] == unique_id, 'Difficulty'] = 'Very Hard'"
   ]
  },
  {
   "cell_type": "code",
   "execution_count": 83,
   "id": "1a03da5e-6c62-420e-98c3-56559aa81802",
   "metadata": {},
   "outputs": [
    {
     "name": "stdout",
     "output_type": "stream",
     "text": [
      "Number of rows with Difficulty 'Very Hard': 182855\n",
      "Number of rows with Difficulty 'Hard': 167845\n",
      "Number of rows with Difficulty 'Medium': 824900\n",
      "Number of rows with Difficulty 'Easy': 827830\n"
     ]
    }
   ],
   "source": [
    "num_very_hard = (wordle['Difficulty'] == 'Very Hard').sum()\n",
    "\n",
    "# Print the number of rows\n",
    "print(\"Number of rows with Difficulty 'Very Hard':\", num_very_hard)\n",
    "\n",
    "num_very_hard = (wordle['Difficulty'] == 'Hard').sum()\n",
    "print(\"Number of rows with Difficulty 'Hard':\", num_very_hard)\n",
    "\n",
    "num_very_hard = (wordle['Difficulty'] == 'Medium').sum()\n",
    "print(\"Number of rows with Difficulty 'Medium':\", num_very_hard)\n",
    "\n",
    "num_very_hard = (wordle['Difficulty'] == 'Easy').sum()\n",
    "print(\"Number of rows with Difficulty 'Easy':\", num_very_hard)"
   ]
  },
  {
   "cell_type": "markdown",
   "id": "f2fb1db9-4fb7-4fe3-90ef-077a06f61ded",
   "metadata": {},
   "source": [
    "Verifichiamo di non aver introdotto per errore valori nulli in questa fase."
   ]
  },
  {
   "cell_type": "code",
   "execution_count": 84,
   "id": "b51b755f-806e-4c4c-ab5a-807fa9abfc21",
   "metadata": {},
   "outputs": [
    {
     "name": "stdout",
     "output_type": "stream",
     "text": [
      "WordleID        0\n",
      "ID              0\n",
      "Created_At      0\n",
      "Source          0\n",
      "UserID          0\n",
      "Hard Mode       0\n",
      "Attempts        0\n",
      "Match           0\n",
      "Win             0\n",
      "UserActivity    0\n",
      "TimeOfDay       0\n",
      "Difficulty      0\n",
      "dtype: int64\n"
     ]
    }
   ],
   "source": [
    "print(wordle.isnull().sum())"
   ]
  },
  {
   "cell_type": "markdown",
   "id": "06ecc3c5-a22c-421d-b35e-900a5a756173",
   "metadata": {},
   "source": [
    "Tracciamo un grafico a torta per vedere la distribuzione delle parole in base alla difficoltà"
   ]
  },
  {
   "cell_type": "code",
   "execution_count": 126,
   "id": "3b096c80-0a10-4986-942e-27d0785842c8",
   "metadata": {},
   "outputs": [
    {
     "data": {
      "image/png": "[encoded data removed]",
      "text/plain": [
       "<Figure size 500x500 with 1 Axes>"
      ]
     },
     "metadata": {},
     "output_type": "display_data"
    }
   ],
   "source": [
    "wordle_difficulty = wordle.groupby('WordleID')['Difficulty'].first().reset_index()\n",
    "difficulty_counts = wordle_difficulty['Difficulty'].value_counts()\n",
    "\n",
    "colors = plt.cm.Set2.colors\n",
    "\n",
    "plt.figure(figsize=(5, 5))\n",
    "plt.pie(difficulty_counts, labels=difficulty_counts.index, autopct='%1.1f%%', startangle=140, colors = colors)\n",
    "plt.title('Distribution of Wordle Difficulty Levels', pad=20)\n",
    "plt.axis('equal')  \n",
    "plt.show()\n"
   ]
  },
  {
   "cell_type": "markdown",
   "id": "72b87a10-067a-4461-8d35-cb7307f9238e",
   "metadata": {},
   "source": [
    "Un'altra informazione che può risultare utile da visualizzare è da quale dispositivo vengono fatti i tweet.\n",
    "Andiamo a visualizzare intanto i valori unici che assume la colonna 'Source' "
   ]
  },
  {
   "cell_type": "code",
   "execution_count": 127,
   "id": "16b42e4b-eb55-4d6f-8415-1318c1a98138",
   "metadata": {},
   "outputs": [
    {
     "data": {
      "image/png": "[encoded data removed]",
      "text/plain": [
       "<Figure size 800x800 with 1 Axes>"
      ]
     },
     "metadata": {},
     "output_type": "display_data"
    }
   ],
   "source": [
    "# Conta tutti i valori unici nella colonna 'client'\n",
    "valori_client = wordle['Source'].value_counts()\n",
    "\n",
    "# Traccia il grafico a torta\n",
    "plt.figure(figsize=(8, 8))\n",
    "plt.pie(valori_client, labels=valori_client.index, autopct='%1.1f%%', startangle=140, colors=colors)\n",
    "plt.title('Distribuzione dei client')\n",
    "plt.ylabel('')\n",
    "plt.show()"
   ]
  },
  {
   "cell_type": "markdown",
   "id": "4aa2c919-a4ff-4307-8a61-f6576ef48db1",
   "metadata": {},
   "source": [
    "### OLAP"
   ]
  },
  {
   "cell_type": "markdown",
   "id": "dd8e0df0-47c4-4144-8cfc-b7a4445a76a4",
   "metadata": {},
   "source": [
    "Ora che è terminata la preparazione dei dati, procediamo con la analisi OLAP."
   ]
  },
  {
   "cell_type": "code",
   "execution_count": 128,
   "id": "5c2475f9-3310-4f20-9063-7c1b516f7afe",
   "metadata": {},
   "outputs": [
    {
     "data": {
      "text/plain": [
       "array([[[ 98.80239521,  98.30822099,          nan,  90.98497496],\n",
       "        [ 98.51235921,  97.52796708,  93.92704819,  81.66718701],\n",
       "        [ 98.63752435,  97.55829213,  95.31401906,  81.60935313],\n",
       "        [         nan,          nan,          nan,          nan]],\n",
       "\n",
       "       [[ 99.13294798,  98.25394135,          nan,  94.28076256],\n",
       "        [ 98.91504795,  97.9169022 ,  95.50768042,  89.95854983],\n",
       "        [ 98.91108353,  97.86783355,  96.40955257,  91.05834464],\n",
       "        [         nan,          nan,          nan,          nan]],\n",
       "\n",
       "       [[ 99.44618793,  98.90420244,          nan,  95.50115779],\n",
       "        [ 99.20718666,  98.5009397 ,  96.70415164,  89.84891238],\n",
       "        [ 99.09870563,  98.3928764 ,  96.875746  ,  90.20585709],\n",
       "        [         nan,          nan,          nan,          nan]],\n",
       "\n",
       "       [[ 98.27586207,  98.48484848,          nan, 100.        ],\n",
       "        [ 99.23529257,  98.54442653,  97.2308058 ,  87.89382287],\n",
       "        [ 99.31535192,  98.49726776,  97.30397663,  88.58369099],\n",
       "        [         nan,          nan,          nan,          nan]]])"
      ]
     },
     "execution_count": 128,
     "metadata": {},
     "output_type": "execute_result"
    }
   ],
   "source": [
    "quantize_user_activity = ['Low Activity', 'Medium Activity', 'High Activity', 'Very High Activity']\n",
    "quantize_time_of_day = ['Morning', 'Afternoon', 'Evening', 'Night']\n",
    "quantize_difficulty = ['Easy', 'Medium', 'Hard', 'Very Hard']\n",
    "\n",
    "OLAP = np.zeros((len(quantize_user_activity),len(quantize_time_of_day),len(quantize_difficulty)))\n",
    "for z in range(len(quantize_user_activity)):\n",
    "    for j in range(len(quantize_time_of_day)):\n",
    "        for i in range(len(quantize_difficulty)):\n",
    "            # Filter dataframe\n",
    "            filtered_data = wordle[(wordle['UserActivity'] == quantize_user_activity[z]) &\n",
    "                                   (wordle['TimeOfDay'] == quantize_time_of_day[j]) &\n",
    "                                   (wordle['Difficulty'] == quantize_difficulty[i])]\n",
    "            # Calculate number of wins\n",
    "            wins = filtered_data['Win'].sum()\n",
    "            \n",
    "            # Calculate number of matches\n",
    "            matches = len(filtered_data)\n",
    "            \n",
    "            # Compute ratio of wins to matches (avoid division by zero)\n",
    "            ratio = wins / matches * 100 if matches > 0 else np.nan\n",
    "            \n",
    "            # Populate OLAP cube\n",
    "            OLAP[z, j, i] = ratio\n",
    "OLAP"
   ]
  },
  {
   "cell_type": "markdown",
   "id": "e297d53e-5823-4fef-87ee-0a75298ca037",
   "metadata": {},
   "source": [
    "Facciamo uno slicing rispetto a TimeOfDay. Poichè la sera e il pomeriggio sono le fasce orarie di picco le prediligiamo. "
   ]
  },
  {
   "cell_type": "code",
   "execution_count": 129,
   "id": "138c7b0f-55fc-4107-8510-dbbc1f8a191a",
   "metadata": {},
   "outputs": [
    {
     "data": {
      "image/png": "[encoded data removed]",
      "text/plain": [
       "<Figure size 640x480 with 2 Axes>"
      ]
     },
     "metadata": {},
     "output_type": "display_data"
    }
   ],
   "source": [
    "plt.imshow(OLAP[:, 2, :])\n",
    "for i, label in enumerate(quantize_difficulty):\n",
    "    plt.text(i, 3.65, label, ha='center', fontsize=8)\n",
    "for i, label in enumerate(quantize_user_activity):\n",
    "    label = label.replace(\" Activity\", \"\") \n",
    "    plt.text(-0.65, i, label, va='center', fontsize=8, rotation=90)\n",
    "plt.xlabel('Difficulty', labelpad=25)\n",
    "plt.ylabel('User Activity', labelpad=25)\n",
    "plt.title('Slicing (Evening)', pad=10)\n",
    "plt.colorbar(label='Win Rate')\n",
    "plt.yticks([])\n",
    "plt.xticks([])\n",
    "\n",
    "plt.show() "
   ]
  },
  {
   "cell_type": "code",
   "execution_count": 130,
   "id": "e416a338-418d-4ead-9e50-a216c6e3c750",
   "metadata": {},
   "outputs": [
    {
     "data": {
      "image/png": "[encoded data removed]",
      "text/plain": [
       "<Figure size 640x480 with 2 Axes>"
      ]
     },
     "metadata": {},
     "output_type": "display_data"
    }
   ],
   "source": [
    "plt.imshow(OLAP[:, 1, :])\n",
    "for i, label in enumerate(quantize_difficulty):\n",
    "    plt.text(i, 3.65, label, ha='center', fontsize=8)\n",
    "for i, label in enumerate(quantize_user_activity):\n",
    "    label = label.replace(\" Activity\", \"\") \n",
    "    plt.text(-0.65, i, label, va='center', fontsize=8, rotation=90)\n",
    "plt.xlabel('Difficulty', labelpad=25)\n",
    "plt.ylabel('User Activity', labelpad=20)\n",
    "plt.title('Slicing (Afternoon)', pad=20)\n",
    "plt.colorbar(label='Win Rate')\n",
    "plt.yticks([])\n",
    "plt.xticks([])\n",
    "\n",
    "plt.show()"
   ]
  },
  {
   "cell_type": "code",
   "execution_count": 131,
   "id": "775efa28-54c6-429d-b0eb-c8590a6f5f2a",
   "metadata": {},
   "outputs": [
    {
     "data": {
      "image/png": "[encoded data removed]",
      "text/plain": [
       "<Figure size 640x480 with 2 Axes>"
      ]
     },
     "metadata": {},
     "output_type": "display_data"
    }
   ],
   "source": [
    "plt.imshow(OLAP[:, 0, :])\n",
    "for i, label in enumerate(quantize_difficulty):\n",
    "    plt.text(i, 3.65, label, ha='center', fontsize=8)\n",
    "for i, label in enumerate(quantize_user_activity):\n",
    "    label = label.replace(\" Activity\", \"\") \n",
    "    plt.text(-0.65, i, label, va='center', fontsize=8, rotation=90)\n",
    "plt.xlabel('Difficulty', labelpad=25)\n",
    "plt.ylabel('User Activity', labelpad=20)\n",
    "plt.title('Slicing (Morning)', pad=20)\n",
    "plt.colorbar(label='Win Rate')\n",
    "plt.yticks([])\n",
    "plt.xticks([])\n",
    "\n",
    "plt.show()"
   ]
  },
  {
   "cell_type": "markdown",
   "id": "c0cc8e59-38e7-45cb-a428-1fe26d75269c",
   "metadata": {},
   "source": [
    "Possiamo notare come, in tutte le visualizzazioni sopra, il tasso di vittoria degli utenti medio attivi, attivi e molto attivi sia generalmente maggiore del tasso di vittoria del utenti poco attivi, in particolare in caso di parole molto difficili."
   ]
  },
  {
   "cell_type": "code",
   "execution_count": 91,
   "id": "08a9a733-7bd9-4752-846d-1c0ca3f88c67",
   "metadata": {},
   "outputs": [
    {
     "data": {
      "image/png": "[encoded data removed]",
      "text/plain": [
       "<Figure size 1500x500 with 6 Axes>"
      ]
     },
     "metadata": {},
     "output_type": "display_data"
    }
   ],
   "source": [
    "# Create subplots with 1 row and 3 columns\n",
    "fig, axs = plt.subplots(1, 3, figsize=(15, 5))  # Adjust figsize as needed\n",
    "\n",
    "# Plot first image\n",
    "im1 = axs[0].imshow(OLAP[:, 2, :])\n",
    "for i, label in enumerate(quantize_difficulty):\n",
    "    axs[0].text(i, 3.65, label, ha='center', fontsize=8)\n",
    "for i, label in enumerate(quantize_user_activity):\n",
    "    label = label.replace(\" Activity\", \"\") \n",
    "    axs[0].text(-0.65, i, label, va='center', fontsize=8, rotation=90)\n",
    "axs[0].set_xlabel('Difficulty', labelpad=25)\n",
    "axs[0].set_ylabel('User Activity', labelpad=20)\n",
    "axs[0].set_title('Slicing (Evening)', pad=20)\n",
    "fig.colorbar(im1, ax=axs[0], label='Win Rate', shrink=0.7)\n",
    "axs[0].set_yticks([])\n",
    "axs[0].set_xticks([])\n",
    "\n",
    "# Plot second image\n",
    "im2 = axs[1].imshow(OLAP[:, 1, :])\n",
    "for i, label in enumerate(quantize_difficulty):\n",
    "    axs[1].text(i, 3.65, label, ha='center', fontsize=8)\n",
    "for i, label in enumerate(quantize_user_activity):\n",
    "    label = label.replace(\" Activity\", \"\") \n",
    "    axs[1].text(-0.65, i, label, va='center', fontsize=8, rotation=90)\n",
    "axs[1].set_xlabel('Difficulty', labelpad=25)\n",
    "axs[1].set_ylabel('User Activity', labelpad=20)\n",
    "axs[1].set_title('Slicing (Afternoon)', pad=20)\n",
    "fig.colorbar(im2, ax=axs[1], label='Win Rate', shrink=0.7)\n",
    "axs[1].set_yticks([])\n",
    "axs[1].set_xticks([])\n",
    "\n",
    "# Plot third image\n",
    "im3 = axs[2].imshow(OLAP[:, 0, :])\n",
    "for i, label in enumerate(quantize_difficulty):\n",
    "    axs[2].text(i, 3.65, label, ha='center', fontsize=8)\n",
    "for i, label in enumerate(quantize_user_activity):\n",
    "    label = label.replace(\" Activity\", \"\") \n",
    "    axs[2].text(-0.65, i, label, va='center', fontsize=8, rotation=90)\n",
    "axs[2].set_xlabel('Difficulty', labelpad=25)\n",
    "axs[2].set_ylabel('User Activity', labelpad=20)\n",
    "axs[2].set_title('Slicing (Morning)', pad=20)\n",
    "fig.colorbar(im3, ax=axs[2], label='Win Rate', shrink=0.7)\n",
    "axs[2].set_yticks([])\n",
    "axs[2].set_xticks([])\n",
    "\n",
    "plt.tight_layout()  # Adjust spacing between subplots\n",
    "plt.show()"
   ]
  },
  {
   "cell_type": "markdown",
   "id": "af8db56d-65fe-48f8-97a2-6abe6a09fd64",
   "metadata": {},
   "source": [
    "Facendo dicing verifichiamo la decrescita del tasso di vincinta per gli utenti poco attivi (_Low Activity_) e gli utenti molto attivi (_Very High Activity_) consideando come fascia oraria la sera."
   ]
  },
  {
   "cell_type": "code",
   "execution_count": 92,
   "id": "484f9dd2-c746-42bb-a042-a508e6993f3d",
   "metadata": {},
   "outputs": [
    {
     "name": "stdout",
     "output_type": "stream",
     "text": [
      "[98.63752435 97.55829213 95.31401906 81.60935313]\n",
      "[99.31535192 98.49726776 97.30397663 88.58369099]\n"
     ]
    }
   ],
   "source": [
    "print(OLAP[0, 2, :])\n",
    "print(OLAP[3, 2, :])"
   ]
  },
  {
   "cell_type": "markdown",
   "id": "cab495c8-2fb4-4ea5-84b0-7ba063ae6558",
   "metadata": {},
   "source": [
    "Possiamo notare come la decrescita del tasso di vincita sia più attenuata nel caso di utenti molto attivi e come il divario nel tasso di vincinta aumenti all'aumentare della difficoltà delle parole. Visualizziamo questa informazone con un grafico a linea."
   ]
  },
  {
   "cell_type": "code",
   "execution_count": 93,
   "id": "ef242a3b-3082-4d94-a745-6c394fe5fd2e",
   "metadata": {},
   "outputs": [
    {
     "data": {
      "image/png": "[encoded data removed]",
      "text/plain": [
       "<Figure size 640x480 with 1 Axes>"
      ]
     },
     "metadata": {},
     "output_type": "display_data"
    }
   ],
   "source": [
    "plt.xlabel('Difficulty')\n",
    "plt.ylabel('Win rate')\n",
    "plt.title('Evening Win Rate')\n",
    "plt.plot(OLAP[0, 2, :], label='Low Activity') \n",
    "plt.plot(OLAP[3, 2, :], label='Vey High Activity') \n",
    "plt.legend(bbox_to_anchor=(1, 1), loc='upper left') \n",
    "plt.show() "
   ]
  },
  {
   "cell_type": "markdown",
   "id": "c05ff207-6315-4bcc-9a44-e3b9f5760d4d",
   "metadata": {
    "jp-MarkdownHeadingCollapsed": true
   },
   "source": [
    "## Test statistici"
   ]
  },
  {
   "cell_type": "markdown",
   "id": "af8c6cb8-86d8-4aed-b931-4ec19048aef5",
   "metadata": {},
   "source": [
    "Utilizziamo un T-test.\n",
    "\n",
    "Ipotesi nulla: gli utenti poco attivi in caso di vittoria si comportano allo stesso modo degli utenti attivi/molto attivi in termini di numero medio di tentativi.\n",
    "\n",
    "Ipotesi alternativa: gli utenti poco attivi in caso di vittoria non si comportano allo stesso modo degli utenti attivi/molto attivi in termini di numero medio di tentativi.\n",
    "\n",
    "Prendiamo come livello di significatività 0.05. Sussiste una differenza statisticamente significativa?\n",
    "\n",
    "Sappiamo che si devono verificare alcune ipotesi:\n",
    "1. Campione con numero di elementi n > 30;\n",
    "2. Popolazione N almeno dieci volte superiore al campione N > 10*n.\n"
   ]
  },
  {
   "cell_type": "markdown",
   "id": "859e46a7-0c46-41de-8825-51a7423f6e2d",
   "metadata": {},
   "source": [
    "Stampiamo il numero di elementi per le due classi. "
   ]
  },
  {
   "cell_type": "code",
   "execution_count": 94,
   "id": "3ee32dd0-6a80-4da2-b405-900f3fb53d6c",
   "metadata": {},
   "outputs": [
    {
     "name": "stdout",
     "output_type": "stream",
     "text": [
      "2003430\n",
      "385685\n",
      "1032578\n",
      "1418263\n",
      "Sample size condition (n ≥ 30) is met for both groups.\n",
      "Population size condition (N ≥ 10n) is met for both groups.\n"
     ]
    }
   ],
   "source": [
    "total_population = len(wordle)\n",
    "print(total_population)\n",
    "\n",
    "winning_attempts_low_activity = wordle.loc[(wordle['UserActivity'] == 'Low Activity') & (wordle['Win'] == 1), 'Attempts']\n",
    "winning_attempts_high_activity = wordle.loc[(wordle['UserActivity'] == 'High Activity') & (wordle['Win'] == 1), 'Attempts']\n",
    "print(len(winning_attempts_low_activity))\n",
    "print(len(winning_attempts_high_activity))\n",
    "print(len(winning_attempts_high_activity)+len(winning_attempts_low_activity))\n",
    "\n",
    "test_winning_attempts_low_activity = winning_attempts_low_activity.sample(n=30000)\n",
    "test_winning_attempts_high_activity = winning_attempts_high_activity.sample(n=30000)\n",
    "\n",
    "if len(test_winning_attempts_low_activity) >= 30 and len(test_winning_attempts_high_activity) >= 30:\n",
    "    print(\"Sample size condition (n ≥ 30) is met for both groups.\")\n",
    "else:\n",
    "    print(\"Sample size condition (n ≥ 30) is not met for both groups.\")\n",
    "\n",
    "if total_population >= 10 * (len(test_winning_attempts_low_activity)) and total_population >= 10 *(len(test_winning_attempts_high_activity)):\n",
    "    print(\"Population size condition (N ≥ 10n) is met for both groups.\")\n",
    "else:\n",
    "    print(\"Population size condition (N ≥ 10n) is not met for both groups.\")"
   ]
  },
  {
   "cell_type": "markdown",
   "id": "a065770d-2df2-48cc-8bea-1e157a20f334",
   "metadata": {},
   "source": [
    "La prima condizione è soddisfatta, la seconda???"
   ]
  },
  {
   "cell_type": "code",
   "execution_count": 95,
   "id": "6a907286-5bdc-4d6c-aab7-9e5ed9309559",
   "metadata": {},
   "outputs": [
    {
     "name": "stdout",
     "output_type": "stream",
     "text": [
      "p-value: 1.337772389844362e-284\n"
     ]
    }
   ],
   "source": [
    "#t_value, p_value = stats.ttest_ind(winning_attempts_low_activity, winning_attempts_high_activity)\n",
    "t_value, p_value = stats.ttest_ind(test_winning_attempts_low_activity, test_winning_attempts_high_activity)\n",
    "\n",
    "print(\"p-value:\", p_value)"
   ]
  },
  {
   "cell_type": "markdown",
   "id": "37fe8772-17b8-4143-97a4-0af8d917ec8b",
   "metadata": {},
   "source": [
    "Essendo il p-value minore del livello di significatività, possiamo rigettare l'ipotesi nulla. Possiamo concludere che l'andamento di una partita in caso di vittoria per gli utenti poco attivi NON è lo stesso andamento di una partita in caso di vittoria per gli utenti attivi."
   ]
  },
  {
   "cell_type": "code",
   "execution_count": 96,
   "id": "112ecbbe-4358-473d-9405-a941c473fdd7",
   "metadata": {},
   "outputs": [
    {
     "name": "stdout",
     "output_type": "stream",
     "text": [
      "p-value: 1.0\n"
     ]
    }
   ],
   "source": [
    "t_value, p_value = stats.ttest_ind(test_winning_attempts_low_activity, test_winning_attempts_high_activity, alternative='greater')\n",
    "\n",
    "print(\"p-value:\", p_value)"
   ]
  },
  {
   "cell_type": "markdown",
   "id": "60ec7ac9-b36d-41f6-9ddb-ef3e1955b181",
   "metadata": {},
   "source": [
    "Essendo il p-value maggiore del livello di significatività, non possiamo rigettare l'ipotesi nulla. L'ipotesi nulla è che la media dei tentativi in caso di vittoria degli utenti poco attivi è maggiore della media dei tentativi in caso di vittoria degli utenti attivi. "
   ]
  },
  {
   "cell_type": "code",
   "execution_count": 97,
   "id": "ec58d3f6-c503-4347-b75a-a97a45c218b9",
   "metadata": {},
   "outputs": [
    {
     "name": "stdout",
     "output_type": "stream",
     "text": [
      "p-value: 6.68886194922181e-285\n"
     ]
    }
   ],
   "source": [
    "t_value, p_value = stats.ttest_ind(test_winning_attempts_low_activity, test_winning_attempts_high_activity, alternative='less')\n",
    "\n",
    "print(\"p-value:\", p_value)"
   ]
  },
  {
   "cell_type": "markdown",
   "id": "5912a28e-45dc-4feb-b7b3-b99a9af5ae22",
   "metadata": {},
   "source": [
    "Essendo il p-value minore del livello di significatività, possiamo rigettare l'ipotesi nulla. Possiamo concludere che la media dei tentativi in caso di vittoria per gli utenti poco attivi NON è minore della media dei tentativi in caso di vittoria per gli utenti attivi."
   ]
  },
  {
   "cell_type": "markdown",
   "id": "4aec033d-d33f-4b33-a690-2dec1d923930",
   "metadata": {},
   "source": [
    "## Metodi Predittivi"
   ]
  },
  {
   "cell_type": "markdown",
   "id": "5b092cb5-6ab4-4905-877a-84fed952b076",
   "metadata": {},
   "source": [
    "### Regressione Lineare"
   ]
  },
  {
   "cell_type": "markdown",
   "id": "6a5cf593-7aa6-42ad-a7dc-62b49ad3c691",
   "metadata": {},
   "source": [
    "A partire dal DataFrame _wordle_ creiamo un DataFrame _user_stats_ dove ogni riga conterrà le informazioni relative a un singolo utente."
   ]
  },
  {
   "cell_type": "code",
   "execution_count": 98,
   "id": "918b78c3-c03f-4f15-91bc-ad816c9c7875",
   "metadata": {},
   "outputs": [],
   "source": [
    "num_tweets_by_user = wordle.groupby('UserID')['ID'].count().reset_index()\n",
    "num_tweets_by_user.columns = ['UserID', 'Num_tweets']\n",
    "\n",
    "user_wins = wordle[wordle['Win'] == True].groupby('UserID').size().reset_index(name='User_Wins')\n",
    "\n",
    "# Merge the two dataframes on 'UserID'\n",
    "user_stats = pd.merge(num_tweets_by_user, user_wins, on='UserID', how='left')\n",
    "\n",
    "user_stats['User_Wins'] = user_stats['User_Wins'].fillna(0)\n",
    "\n",
    "total_attempts_by_user = wordle.groupby('UserID')['Attempts'].sum().reset_index()\n",
    "total_attempts_by_user.columns = ['UserID', 'Total_Attempts']\n",
    "\n",
    "# Merge the new dataframe with user_stats on 'UserID'\n",
    "user_stats = pd.merge(user_stats, total_attempts_by_user, on='UserID')\n",
    "\n",
    "user_stats['User_Win_Rate'] = (user_stats['User_Wins'] / user_stats['Num_tweets'])*100\n",
    "\n",
    "hard_mode_count_by_user = wordle.groupby('UserID')['Hard Mode'].sum().rename('Hard_Mode_Count')\n",
    "\n",
    "# Update user_stats dataframe with the counts\n",
    "user_stats = user_stats.set_index('UserID').join(hard_mode_count_by_user, how='left').reset_index()\n",
    "\n",
    "# Fill NaN values with 0 if necessary\n",
    "user_stats['Hard_Mode_Count'] = user_stats['Hard_Mode_Count'].fillna(0)\n",
    "\n",
    "wordle_wins = wordle[wordle['Win']]\n",
    "\n",
    "# Group the filtered DataFrame by 'UserID' and 'Attempts', and count occurrences\n",
    "user_attempts_counts = wordle_wins.groupby(['UserID', 'Attempts']).size().reset_index(name='Attempts_Count')\n",
    "\n",
    "# Pivot the grouped DataFrame to reshape it\n",
    "user_attempts_pivot = user_attempts_counts.pivot(index='UserID', columns='Attempts', values='Attempts_Count').reset_index()\n",
    "\n",
    "# Rename the columns to '1_attempts', '2_attempts', ..., '6_attempts'\n",
    "user_attempts_pivot.columns = ['UserID', '1_attempts_Win', '2_attempts_Win', '3_attempts_Win', '4_attempts_Win', '5_attempts_Win', '6_attempts_Win']\n",
    "\n",
    "# Merge with user_stats DataFrame on 'UserID' column\n",
    "user_stats = pd.merge(user_stats, user_attempts_pivot, on='UserID', how='left')\n",
    "\n",
    "# Fill NaN values with 0\n",
    "user_stats = user_stats.fillna(0)\n",
    "\n",
    "columns_to_convert = ['1_attempts_Win', '2_attempts_Win', '3_attempts_Win', '4_attempts_Win', '5_attempts_Win', '6_attempts_Win']\n",
    "\n",
    "# Convert columns to integers\n",
    "for col in columns_to_convert:\n",
    "    user_stats[col] = user_stats[col].astype(int)\n"
   ]
  },
  {
   "cell_type": "code",
   "execution_count": 99,
   "id": "9fadb51e-4162-45ae-a358-0e8b8fa6fcf8",
   "metadata": {},
   "outputs": [
    {
     "data": {
      "text/html": [
       "<div>\n",
       "<style scoped>\n",
       "    .dataframe tbody tr th:only-of-type {\n",
       "        vertical-align: middle;\n",
       "    }\n",
       "\n",
       "    .dataframe tbody tr th {\n",
       "        vertical-align: top;\n",
       "    }\n",
       "\n",
       "    .dataframe thead th {\n",
       "        text-align: right;\n",
       "    }\n",
       "</style>\n",
       "<table border=\"1\" class=\"dataframe\">\n",
       "  <thead>\n",
       "    <tr style=\"text-align: right;\">\n",
       "      <th></th>\n",
       "      <th>UserID</th>\n",
       "      <th>Num_tweets</th>\n",
       "      <th>User_Wins</th>\n",
       "      <th>Total_Attempts</th>\n",
       "      <th>User_Win_Rate</th>\n",
       "      <th>Hard_Mode_Count</th>\n",
       "      <th>1_attempts_Win</th>\n",
       "      <th>2_attempts_Win</th>\n",
       "      <th>3_attempts_Win</th>\n",
       "      <th>4_attempts_Win</th>\n",
       "      <th>5_attempts_Win</th>\n",
       "      <th>6_attempts_Win</th>\n",
       "    </tr>\n",
       "  </thead>\n",
       "  <tbody>\n",
       "    <tr>\n",
       "      <th>0</th>\n",
       "      <td>187.0</td>\n",
       "      <td>1</td>\n",
       "      <td>1.0</td>\n",
       "      <td>2</td>\n",
       "      <td>100.0</td>\n",
       "      <td>0</td>\n",
       "      <td>0</td>\n",
       "      <td>1</td>\n",
       "      <td>0</td>\n",
       "      <td>0</td>\n",
       "      <td>0</td>\n",
       "      <td>0</td>\n",
       "    </tr>\n",
       "    <tr>\n",
       "      <th>1</th>\n",
       "      <td>422.0</td>\n",
       "      <td>1</td>\n",
       "      <td>1.0</td>\n",
       "      <td>4</td>\n",
       "      <td>100.0</td>\n",
       "      <td>1</td>\n",
       "      <td>0</td>\n",
       "      <td>0</td>\n",
       "      <td>0</td>\n",
       "      <td>1</td>\n",
       "      <td>0</td>\n",
       "      <td>0</td>\n",
       "    </tr>\n",
       "    <tr>\n",
       "      <th>2</th>\n",
       "      <td>521.0</td>\n",
       "      <td>3</td>\n",
       "      <td>3.0</td>\n",
       "      <td>16</td>\n",
       "      <td>100.0</td>\n",
       "      <td>0</td>\n",
       "      <td>0</td>\n",
       "      <td>0</td>\n",
       "      <td>0</td>\n",
       "      <td>1</td>\n",
       "      <td>0</td>\n",
       "      <td>2</td>\n",
       "    </tr>\n",
       "    <tr>\n",
       "      <th>3</th>\n",
       "      <td>556.0</td>\n",
       "      <td>5</td>\n",
       "      <td>5.0</td>\n",
       "      <td>19</td>\n",
       "      <td>100.0</td>\n",
       "      <td>0</td>\n",
       "      <td>0</td>\n",
       "      <td>0</td>\n",
       "      <td>2</td>\n",
       "      <td>2</td>\n",
       "      <td>1</td>\n",
       "      <td>0</td>\n",
       "    </tr>\n",
       "    <tr>\n",
       "      <th>4</th>\n",
       "      <td>765.0</td>\n",
       "      <td>18</td>\n",
       "      <td>18.0</td>\n",
       "      <td>75</td>\n",
       "      <td>100.0</td>\n",
       "      <td>0</td>\n",
       "      <td>0</td>\n",
       "      <td>0</td>\n",
       "      <td>5</td>\n",
       "      <td>8</td>\n",
       "      <td>2</td>\n",
       "      <td>3</td>\n",
       "    </tr>\n",
       "  </tbody>\n",
       "</table>\n",
       "</div>"
      ],
      "text/plain": [
       "   UserID  Num_tweets  User_Wins  Total_Attempts  User_Win_Rate  \\\n",
       "0   187.0           1        1.0               2          100.0   \n",
       "1   422.0           1        1.0               4          100.0   \n",
       "2   521.0           3        3.0              16          100.0   \n",
       "3   556.0           5        5.0              19          100.0   \n",
       "4   765.0          18       18.0              75          100.0   \n",
       "\n",
       "   Hard_Mode_Count  1_attempts_Win  2_attempts_Win  3_attempts_Win  \\\n",
       "0                0               0               1               0   \n",
       "1                1               0               0               0   \n",
       "2                0               0               0               0   \n",
       "3                0               0               0               2   \n",
       "4                0               0               0               5   \n",
       "\n",
       "   4_attempts_Win  5_attempts_Win  6_attempts_Win  \n",
       "0               0               0               0  \n",
       "1               1               0               0  \n",
       "2               1               0               2  \n",
       "3               2               1               0  \n",
       "4               8               2               3  "
      ]
     },
     "execution_count": 99,
     "metadata": {},
     "output_type": "execute_result"
    }
   ],
   "source": [
    "user_stats.head()"
   ]
  },
  {
   "cell_type": "markdown",
   "id": "b36fd7b6-f122-4dc2-b554-7337be9eb04a",
   "metadata": {},
   "source": [
    "Verifichiamo che non contenga valori nulli."
   ]
  },
  {
   "cell_type": "code",
   "execution_count": 53,
   "id": "9da4e6a4-335c-4366-8f75-c807db559054",
   "metadata": {},
   "outputs": [
    {
     "data": {
      "text/plain": [
       "UserID             0\n",
       "Num_tweets         0\n",
       "User_Wins          0\n",
       "Total_Attempts     0\n",
       "User_Win_Rate      0\n",
       "Hard_Mode_Count    0\n",
       "1_attempts_Win     0\n",
       "2_attempts_Win     0\n",
       "3_attempts_Win     0\n",
       "4_attempts_Win     0\n",
       "5_attempts_Win     0\n",
       "6_attempts_Win     0\n",
       "dtype: int64"
      ]
     },
     "execution_count": 53,
     "metadata": {},
     "output_type": "execute_result"
    }
   ],
   "source": [
    "user_stats.isnull().sum()"
   ]
  },
  {
   "cell_type": "markdown",
   "id": "674af72a-ef49-4552-9118-fb8225426b07",
   "metadata": {},
   "source": [
    "A partire dal DataFrame _wordle_ creiamo un DataFrame _wordle_summary_ dove ogni riga conterrà le informazioni relative a una singola parola."
   ]
  },
  {
   "cell_type": "code",
   "execution_count": 54,
   "id": "cacbc2c5-1baf-489f-ac78-9a25f227a1da",
   "metadata": {},
   "outputs": [],
   "source": [
    "# Count the number of games for each WordleID\n",
    "games_by_wordle = wordle.groupby('WordleID')['ID'].count().reset_index()\n",
    "games_by_wordle.columns = ['WordleID', 'Number_of_Games']\n",
    "\n",
    "# Count the number of wins for each WordleID\n",
    "wins_by_wordle = wordle[wordle['Win'] == True].groupby('WordleID')['Win'].count().reset_index()\n",
    "wins_by_wordle.columns = ['WordleID', 'Number_of_Wins']\n",
    "\n",
    "# Merge the two DataFrames on 'WordleID'\n",
    "wordle_summary = pd.merge(games_by_wordle, wins_by_wordle, on='WordleID', how='left').fillna(0)\n",
    "\n",
    "winning_attempts = wordle[wordle['Win'] == True]\n",
    "\n",
    "# Group the filtered DataFrame by 'WordleID' and calculate the mean of 'Attempts'\n",
    "mean_attempts_by_wordleid = winning_attempts.groupby('WordleID')['Attempts'].mean().reset_index()\n",
    "\n",
    "# Merge the mean attempts data with the 'wordle_summary' DataFrame\n",
    "wordle_summary = wordle_summary.merge(mean_attempts_by_wordleid, on='WordleID', how='left')\n",
    "\n",
    "# Rename the new column to indicate it contains mean attempts for victories\n",
    "wordle_summary.rename(columns={'Attempts': 'Mean_Attempts_Victory'}, inplace=True)\n",
    "\n",
    "wordle_summary['Win_Rate'] = (wordle_summary['Number_of_Wins'] / wordle_summary['Number_of_Games'])*100\n",
    "\n",
    "hard_mode_counts = wordle[wordle['Hard Mode']].groupby('WordleID').size().reset_index(name='Hard_Mode_Count')\n",
    "\n",
    "# Merge the counts with the wordle_summary DataFrame\n",
    "wordle_summary = pd.merge(wordle_summary, hard_mode_counts, on='WordleID', how='left')\n",
    "\n",
    "# Fill NaN values in the new column with 0\n",
    "wordle_summary['Hard_Mode_Count'] = wordle_summary['Hard_Mode_Count'].fillna(0)\n",
    "\n",
    "wordle_win = wordle[wordle['Win']]\n",
    "\n",
    "# Group by WordleID and Attempts, and count the occurrences\n",
    "attempts_counts = wordle_win.groupby(['WordleID', 'Attempts']).size().unstack(fill_value=0)\n",
    "\n",
    "# Rename the columns\n",
    "attempts_counts.columns = ['1_attempt_Win', '2_attempts_Win', '3_attempts_Win', '4_attempts_Win', '5_attempts_Win', '6_attempts_Win']\n",
    "\n",
    "# Merge with wordle_summary dataframe on WordleID\n",
    "wordle_summary = pd.merge(wordle_summary, attempts_counts, on='WordleID', how='left')\n",
    "\n",
    "wordle_summary = wordle_summary.fillna(0)"
   ]
  },
  {
   "cell_type": "code",
   "execution_count": 55,
   "id": "33f4dc32-a756-4bea-8a26-7e70f23c6127",
   "metadata": {},
   "outputs": [
    {
     "data": {
      "text/html": [
       "<div>\n",
       "<style scoped>\n",
       "    .dataframe tbody tr th:only-of-type {\n",
       "        vertical-align: middle;\n",
       "    }\n",
       "\n",
       "    .dataframe tbody tr th {\n",
       "        vertical-align: top;\n",
       "    }\n",
       "\n",
       "    .dataframe thead th {\n",
       "        text-align: right;\n",
       "    }\n",
       "</style>\n",
       "<table border=\"1\" class=\"dataframe\">\n",
       "  <thead>\n",
       "    <tr style=\"text-align: right;\">\n",
       "      <th></th>\n",
       "      <th>WordleID</th>\n",
       "      <th>Number_of_Games</th>\n",
       "      <th>Number_of_Wins</th>\n",
       "      <th>Mean_Attempts_Victory</th>\n",
       "      <th>Win_Rate</th>\n",
       "      <th>Hard_Mode_Count</th>\n",
       "      <th>1_attempt_Win</th>\n",
       "      <th>2_attempts_Win</th>\n",
       "      <th>3_attempts_Win</th>\n",
       "      <th>4_attempts_Win</th>\n",
       "      <th>5_attempts_Win</th>\n",
       "      <th>6_attempts_Win</th>\n",
       "    </tr>\n",
       "  </thead>\n",
       "  <tbody>\n",
       "    <tr>\n",
       "      <th>0</th>\n",
       "      <td>254</td>\n",
       "      <td>18693</td>\n",
       "      <td>18551</td>\n",
       "      <td>3.746752</td>\n",
       "      <td>99.240357</td>\n",
       "      <td>552</td>\n",
       "      <td>353</td>\n",
       "      <td>1795</td>\n",
       "      <td>5636</td>\n",
       "      <td>6332</td>\n",
       "      <td>3283</td>\n",
       "      <td>1152</td>\n",
       "    </tr>\n",
       "    <tr>\n",
       "      <th>1</th>\n",
       "      <td>255</td>\n",
       "      <td>18591</td>\n",
       "      <td>18215</td>\n",
       "      <td>4.304310</td>\n",
       "      <td>97.977516</td>\n",
       "      <td>614</td>\n",
       "      <td>185</td>\n",
       "      <td>559</td>\n",
       "      <td>3276</td>\n",
       "      <td>6288</td>\n",
       "      <td>5322</td>\n",
       "      <td>2585</td>\n",
       "    </tr>\n",
       "    <tr>\n",
       "      <th>2</th>\n",
       "      <td>256</td>\n",
       "      <td>18795</td>\n",
       "      <td>18415</td>\n",
       "      <td>3.919088</td>\n",
       "      <td>97.978186</td>\n",
       "      <td>555</td>\n",
       "      <td>331</td>\n",
       "      <td>1727</td>\n",
       "      <td>5064</td>\n",
       "      <td>5377</td>\n",
       "      <td>3811</td>\n",
       "      <td>2105</td>\n",
       "    </tr>\n",
       "    <tr>\n",
       "      <th>3</th>\n",
       "      <td>257</td>\n",
       "      <td>18862</td>\n",
       "      <td>18689</td>\n",
       "      <td>3.851410</td>\n",
       "      <td>99.082812</td>\n",
       "      <td>649</td>\n",
       "      <td>184</td>\n",
       "      <td>1664</td>\n",
       "      <td>5536</td>\n",
       "      <td>6202</td>\n",
       "      <td>3567</td>\n",
       "      <td>1536</td>\n",
       "    </tr>\n",
       "    <tr>\n",
       "      <th>4</th>\n",
       "      <td>258</td>\n",
       "      <td>18691</td>\n",
       "      <td>18380</td>\n",
       "      <td>4.193199</td>\n",
       "      <td>98.336098</td>\n",
       "      <td>701</td>\n",
       "      <td>226</td>\n",
       "      <td>912</td>\n",
       "      <td>3631</td>\n",
       "      <td>6273</td>\n",
       "      <td>4992</td>\n",
       "      <td>2346</td>\n",
       "    </tr>\n",
       "  </tbody>\n",
       "</table>\n",
       "</div>"
      ],
      "text/plain": [
       "   WordleID  Number_of_Games  Number_of_Wins  Mean_Attempts_Victory  \\\n",
       "0       254            18693           18551               3.746752   \n",
       "1       255            18591           18215               4.304310   \n",
       "2       256            18795           18415               3.919088   \n",
       "3       257            18862           18689               3.851410   \n",
       "4       258            18691           18380               4.193199   \n",
       "\n",
       "    Win_Rate  Hard_Mode_Count  1_attempt_Win  2_attempts_Win  3_attempts_Win  \\\n",
       "0  99.240357              552            353            1795            5636   \n",
       "1  97.977516              614            185             559            3276   \n",
       "2  97.978186              555            331            1727            5064   \n",
       "3  99.082812              649            184            1664            5536   \n",
       "4  98.336098              701            226             912            3631   \n",
       "\n",
       "   4_attempts_Win  5_attempts_Win  6_attempts_Win  \n",
       "0            6332            3283            1152  \n",
       "1            6288            5322            2585  \n",
       "2            5377            3811            2105  \n",
       "3            6202            3567            1536  \n",
       "4            6273            4992            2346  "
      ]
     },
     "execution_count": 55,
     "metadata": {},
     "output_type": "execute_result"
    }
   ],
   "source": [
    "wordle_summary.head()"
   ]
  },
  {
   "cell_type": "markdown",
   "id": "583de6be-636f-4abf-9318-eade73f37e1c",
   "metadata": {},
   "source": [
    "Verifichiamo che non contenga valori nulli."
   ]
  },
  {
   "cell_type": "code",
   "execution_count": 56,
   "id": "097e0723-e0d8-4114-8c1d-5e1e63843030",
   "metadata": {},
   "outputs": [
    {
     "data": {
      "text/plain": [
       "WordleID                 0\n",
       "Number_of_Games          0\n",
       "Number_of_Wins           0\n",
       "Mean_Attempts_Victory    0\n",
       "Win_Rate                 0\n",
       "Hard_Mode_Count          0\n",
       "1_attempt_Win            0\n",
       "2_attempts_Win           0\n",
       "3_attempts_Win           0\n",
       "4_attempts_Win           0\n",
       "5_attempts_Win           0\n",
       "6_attempts_Win           0\n",
       "dtype: int64"
      ]
     },
     "execution_count": 56,
     "metadata": {},
     "output_type": "execute_result"
    }
   ],
   "source": [
    "wordle_summary.isnull().sum()"
   ]
  },
  {
   "cell_type": "markdown",
   "id": "0270ae46-4d67-4beb-8dac-dad010545689",
   "metadata": {},
   "source": [
    "Verifichiamo che ci sia coerenza tra _wordle_,_user_stats_ e _wordle_summary_."
   ]
  },
  {
   "cell_type": "code",
   "execution_count": 57,
   "id": "32693d42-99cd-445f-b76a-6479ab189b07",
   "metadata": {},
   "outputs": [
    {
     "name": "stdout",
     "output_type": "stream",
     "text": [
      "Total Hard Mode Count in user_stats: 120655\n",
      "Total Hard Mode Count in wordle_summary: 120655\n",
      "Total Hard Mode Count: 120655\n",
      "Total Win Count in user_stats: 1952054.0\n",
      "Total Win Count in wordle: 1952054\n",
      "Number of users: 406379\n",
      "Wordle number of users: 406379\n"
     ]
    }
   ],
   "source": [
    "total_hard_mode_wordle_summary = wordle_summary['Hard_Mode_Count'].sum()\n",
    "total_hard_mode_user_stats = user_stats['Hard_Mode_Count'].sum()\n",
    "total_win_user_stats = user_stats['User_Wins'].sum()\n",
    "total_win = wordle['Win'].sum()\n",
    "total_hard_mode_count = hard_mode_count_by_user.sum()\n",
    "\n",
    "print(\"Total Hard Mode Count in user_stats:\", total_hard_mode_user_stats)\n",
    "print(\"Total Hard Mode Count in wordle_summary:\", total_hard_mode_wordle_summary)\n",
    "print(\"Total Hard Mode Count:\", total_hard_mode_count)\n",
    "print(\"Total Win Count in user_stats:\", total_win_user_stats)\n",
    "print(\"Total Win Count in wordle:\", total_win)\n",
    "print(\"Number of users:\", user_stats.shape[0])\n",
    "print(\"Wordle number of users:\", wordle['UserID'].nunique())"
   ]
  },
  {
   "cell_type": "markdown",
   "id": "048f8551-00fd-4366-9ebf-ea4d05956950",
   "metadata": {},
   "source": [
    "Supponiamo di voler stimare una funzione che preveda il numero di condivisioni vincenti di un utente a partire dal suo numero complessivo di condivisioni. Prima di tutto possiamo utilizzare una rappresentazione grafica per verificare se le due features siano correlate, e se sia quindi possibile utilizzare una di queste features per predire l'altra."
   ]
  },
  {
   "cell_type": "code",
   "execution_count": 58,
   "id": "10ed9ebb-04c1-43f5-bf50-9020feb7acdd",
   "metadata": {},
   "outputs": [
    {
     "data": {
      "image/png": "[encoded data removed]",
      "text/plain": [
       "<Figure size 900x500 with 1 Axes>"
      ]
     },
     "metadata": {},
     "output_type": "display_data"
    }
   ],
   "source": [
    "plt.figure(figsize=(9, 5))\n",
    "plt.scatter(user_stats['Num_tweets'], user_stats['User_Wins'], color='blue', alpha=0.5)\n",
    "plt.xlabel('Tweets per User')\n",
    "plt.ylabel('Winning Tweets per User')\n",
    "plt.grid(True)\n",
    "\n",
    "plt.show()"
   ]
  },
  {
   "cell_type": "code",
   "execution_count": 59,
   "id": "98b92d86-a38d-4d8f-9912-047062b300ea",
   "metadata": {},
   "outputs": [
    {
     "name": "stdout",
     "output_type": "stream",
     "text": [
      "            Num_tweets  User_Wins\n",
      "Num_tweets    1.000000   0.998378\n",
      "User_Wins     0.998378   1.000000\n"
     ]
    }
   ],
   "source": [
    "r = user_stats[['Num_tweets', 'User_Wins']].corr()\n",
    "print(r)"
   ]
  },
  {
   "cell_type": "code",
   "execution_count": 60,
   "id": "cf2f00f8-e987-4f88-88f0-28e539d8cb97",
   "metadata": {},
   "outputs": [
    {
     "data": {
      "text/plain": [
       "<matplotlib.image.AxesImage at 0x1a87197a360>"
      ]
     },
     "execution_count": 60,
     "metadata": {},
     "output_type": "execute_result"
    },
    {
     "data": {
      "image/png": "[encoded data removed]",
      "text/plain": [
       "<Figure size 640x480 with 1 Axes>"
      ]
     },
     "metadata": {},
     "output_type": "display_data"
    }
   ],
   "source": [
    "plt.imshow(r)"
   ]
  },
  {
   "cell_type": "code",
   "execution_count": 61,
   "id": "4512c417-849f-49e9-ac7d-81ad30f4d8ba",
   "metadata": {},
   "outputs": [],
   "source": [
    "from sklearn.model_selection import train_test_split\n",
    "\n",
    "features = ['Num_tweets']\n",
    "X = user_stats[features]\n",
    "Y = user_stats['User_Wins']\n",
    "\n",
    "X_train, X_valid, y_train, y_valid = train_test_split(X, Y, test_size = 0.2)"
   ]
  },
  {
   "cell_type": "code",
   "execution_count": 62,
   "id": "94813668-ccd2-4c3d-bf5e-00dd365c8f83",
   "metadata": {},
   "outputs": [
    {
     "data": {
      "text/plain": [
       "Text(0, 0.5, 'Number of Winning Tweets')"
      ]
     },
     "execution_count": 62,
     "metadata": {},
     "output_type": "execute_result"
    },
    {
     "data": {
      "image/png": "[encoded data removed]",
      "text/plain": [
       "<Figure size 640x480 with 1 Axes>"
      ]
     },
     "metadata": {},
     "output_type": "display_data"
    }
   ],
   "source": [
    "from sklearn.linear_model import LinearRegression\n",
    "\n",
    "regressor = LinearRegression()\n",
    "reg = regressor.fit(X_train, y_train)\n",
    "\n",
    "#scriviamo la retta \n",
    "y_pred_train = reg.coef_*X_train + reg.intercept_\n",
    "plt.scatter(X_train, y_train)\n",
    "plt.scatter(X_train, y_pred_train)\n",
    "plt.xlabel('Number of Tweets')\n",
    "plt.ylabel('Number of Winning Tweets')"
   ]
  },
  {
   "cell_type": "code",
   "execution_count": 63,
   "id": "78e168c4-f200-4053-9d05-cb16c23d7f95",
   "metadata": {},
   "outputs": [
    {
     "data": {
      "text/plain": [
       "Text(0, 0.5, 'Number of Winning Tweets')"
      ]
     },
     "execution_count": 63,
     "metadata": {},
     "output_type": "execute_result"
    },
    {
     "data": {
      "image/png": "[encoded data removed]",
      "text/plain": [
       "<Figure size 640x480 with 1 Axes>"
      ]
     },
     "metadata": {},
     "output_type": "display_data"
    }
   ],
   "source": [
    "y_hat = reg.predict(X_valid)\n",
    "plt.scatter(X_valid,y_valid,c='r',alpha=0.2)\n",
    "plt.scatter(X_valid,y_hat)\n",
    "plt.xlabel('Number of Tweets')\n",
    "plt.ylabel('Number of Winning Tweets')"
   ]
  },
  {
   "cell_type": "markdown",
   "id": "152b1e89-82c0-41d0-87b1-11aac9e16a77",
   "metadata": {},
   "source": [
    "Implementiamo le funzioni per il calcolo dell'MSE, dell'MAE e del RMSE: ci serviranno per valutare se il modello ottenuto è accettabile o meno."
   ]
  },
  {
   "cell_type": "code",
   "execution_count": 64,
   "id": "04a53920-72d4-4af0-a888-a4bd3de50b47",
   "metadata": {},
   "outputs": [],
   "source": [
    "# sommatoria del quadrato della differenza tra y vera e y predetta diviso il numero di y -> MSE\n",
    "def MSE (y_pred,y_true):\n",
    "   return 1/y_pred.shape[0] * np.abs((y_pred-y_true)).sum()\n",
    "\n",
    "# sommatoria del valore assoluto della differenza tra y vera e y predetta diviso il numero di y -> MAE\n",
    "def MAE (y_pred,y_true):\n",
    "     return 1/y_pred.shape[0] * ((y_pred-y_true)**2).sum()\n",
    "\n",
    "# radice della sommatoria del quadrato della differenza tra y vera e y predetta diviso il numero di y -> RMSE\n",
    "def RMSE (y_pred,y_true):\n",
    "     return np.sqrt(1/y_pred.shape[0] * ((y_pred-y_true)**2).sum())"
   ]
  },
  {
   "cell_type": "markdown",
   "id": "161e2678-bd53-4258-8b83-0d6020f39e48",
   "metadata": {},
   "source": [
    "Abbiamo visto che ci sono tre metriche per valutare i modelli a regressione di machine learning:\n",
    "\n",
    "- lo scarto medio assoluto (MAE - Mean Absolute Error);\n",
    "- l’errore quadratico medio (MSE - Mean Squared Error);\n",
    "- la radice dell’errore quadratico medio (RMSE - Root of Mean Squared Error)."
   ]
  },
  {
   "cell_type": "code",
   "execution_count": 65,
   "id": "e295e2ee-2f17-4eec-9679-107225916ea1",
   "metadata": {},
   "outputs": [
    {
     "name": "stdout",
     "output_type": "stream",
     "text": [
      "MAE:  0.20445848696455482\n",
      "MSE:  0.20785847269963809\n",
      "RMSE:  0.45217086036647125\n"
     ]
    }
   ],
   "source": [
    "print(\"MAE: \", MAE(y_hat, y_valid))\n",
    "print(\"MSE: \",MSE(y_hat, y_valid))\n",
    "print(\"RMSE: \",RMSE(y_hat, y_valid))"
   ]
  },
  {
   "cell_type": "markdown",
   "id": "70212e31-9c41-47fc-9a96-4a3d1e3382ce",
   "metadata": {},
   "source": [
    "Per verificare che il risultato ottenuto sia un buon risultato ricorriamo al modello nullo. L'errore del modello nullo deve essere maggiore dell'errore del modello che abbiamo ottenuto per poter dire di aver ottenuto un modello accettabile."
   ]
  },
  {
   "cell_type": "code",
   "execution_count": 66,
   "id": "695ec8c6-f542-4f99-a002-07351b380c8b",
   "metadata": {},
   "outputs": [
    {
     "name": "stdout",
     "output_type": "stream",
     "text": [
      "MSE modello nullo:  4.751256549525788\n"
     ]
    }
   ],
   "source": [
    "mean_num_tweets = y_valid.mean()\n",
    "\n",
    "null_model_y = np.ones(len(y_valid))*mean_num_tweets\n",
    "\n",
    "print(\"MSE modello nullo: \", MSE(null_model_y, y_valid))"
   ]
  },
  {
   "cell_type": "markdown",
   "id": "003d8cad-fe00-496e-9132-3f320ce5a6e8",
   "metadata": {},
   "source": [
    "### Regressione Logistica"
   ]
  },
  {
   "cell_type": "markdown",
   "id": "30655e4f-1daf-4c19-87f1-f098fe6b639b",
   "metadata": {},
   "source": [
    "***Inizio Errore***"
   ]
  },
  {
   "cell_type": "code",
   "execution_count": 67,
   "id": "19a56104-9bbb-4598-986b-257f738d6b99",
   "metadata": {},
   "outputs": [
    {
     "name": "stdout",
     "output_type": "stream",
     "text": [
      "1952054\n",
      "51376\n",
      "[ True  True  True ...  True  True  True]\n",
      "0.9743315214407291\n"
     ]
    }
   ],
   "source": [
    "from sklearn.linear_model import LogisticRegression\n",
    "#codice qui\n",
    "y = wordle['Win']\n",
    "x = wordle[['Attempts']]\n",
    "print(np.sum(y==1))\n",
    "print(np.sum(y==0))\n",
    "x_train, x_valid, y_train, y_valid = train_test_split(x, y, test_size = 0.2)\n",
    "reg = LogisticRegression()\n",
    "reg.fit(x_train, y_train)\n",
    "y_pred = reg.predict(x_valid)\n",
    "print(y_pred)\n",
    "print(reg.score(x_valid, y_valid))"
   ]
  },
  {
   "cell_type": "code",
   "execution_count": 68,
   "id": "71e73579-f489-41cb-83a6-e59f2d1f73bd",
   "metadata": {},
   "outputs": [
    {
     "name": "stdout",
     "output_type": "stream",
     "text": [
      "0.02566847855927085\n",
      "0.9743315214407291\n"
     ]
    }
   ],
   "source": [
    "classe1 = np.sum(y_valid ==1)/x_valid.shape[0]\n",
    "classe0 = np.sum(y_valid==0)/x_valid.shape[0]\n",
    "print(classe0)\n",
    "print(classe1)"
   ]
  },
  {
   "cell_type": "markdown",
   "id": "357679fd-3eb9-4c7b-883e-3f8c49615430",
   "metadata": {},
   "source": [
    "***Fine Errore***"
   ]
  },
  {
   "cell_type": "markdown",
   "id": "5d38c124-4379-4bf4-824e-1ba8be77770b",
   "metadata": {},
   "source": [
    "Passiamo ora alla Regressione Logistica."
   ]
  },
  {
   "cell_type": "markdown",
   "id": "dc69a12f-a278-470b-84ae-26c662e7d171",
   "metadata": {},
   "source": [
    "Supponiamo di voler stimare una curva separatrice che preveda se il numero di condivisioni vincenti per una certa parola è superiore o inferiore alla media a partire dal numero di condivisioni complessivo per la stessa. "
   ]
  },
  {
   "cell_type": "code",
   "execution_count": 69,
   "id": "b84fc372-0357-4aca-ae64-d5af95c5250c",
   "metadata": {},
   "outputs": [
    {
     "data": {
      "text/html": [
       "<div>\n",
       "<style scoped>\n",
       "    .dataframe tbody tr th:only-of-type {\n",
       "        vertical-align: middle;\n",
       "    }\n",
       "\n",
       "    .dataframe tbody tr th {\n",
       "        vertical-align: top;\n",
       "    }\n",
       "\n",
       "    .dataframe thead th {\n",
       "        text-align: right;\n",
       "    }\n",
       "</style>\n",
       "<table border=\"1\" class=\"dataframe\">\n",
       "  <thead>\n",
       "    <tr style=\"text-align: right;\">\n",
       "      <th></th>\n",
       "      <th>WordleID</th>\n",
       "      <th>Number_of_Games</th>\n",
       "      <th>Number_of_Wins</th>\n",
       "      <th>Mean_Attempts_Victory</th>\n",
       "      <th>Win_Rate</th>\n",
       "      <th>Hard_Mode_Count</th>\n",
       "      <th>1_attempt_Win</th>\n",
       "      <th>2_attempts_Win</th>\n",
       "      <th>3_attempts_Win</th>\n",
       "      <th>4_attempts_Win</th>\n",
       "      <th>5_attempts_Win</th>\n",
       "      <th>6_attempts_Win</th>\n",
       "      <th>above_average</th>\n",
       "    </tr>\n",
       "  </thead>\n",
       "  <tbody>\n",
       "    <tr>\n",
       "      <th>0</th>\n",
       "      <td>254</td>\n",
       "      <td>18693</td>\n",
       "      <td>18551</td>\n",
       "      <td>3.746752</td>\n",
       "      <td>99.240357</td>\n",
       "      <td>552</td>\n",
       "      <td>353</td>\n",
       "      <td>1795</td>\n",
       "      <td>5636</td>\n",
       "      <td>6332</td>\n",
       "      <td>3283</td>\n",
       "      <td>1152</td>\n",
       "      <td>1</td>\n",
       "    </tr>\n",
       "    <tr>\n",
       "      <th>1</th>\n",
       "      <td>255</td>\n",
       "      <td>18591</td>\n",
       "      <td>18215</td>\n",
       "      <td>4.304310</td>\n",
       "      <td>97.977516</td>\n",
       "      <td>614</td>\n",
       "      <td>185</td>\n",
       "      <td>559</td>\n",
       "      <td>3276</td>\n",
       "      <td>6288</td>\n",
       "      <td>5322</td>\n",
       "      <td>2585</td>\n",
       "      <td>0</td>\n",
       "    </tr>\n",
       "    <tr>\n",
       "      <th>2</th>\n",
       "      <td>256</td>\n",
       "      <td>18795</td>\n",
       "      <td>18415</td>\n",
       "      <td>3.919088</td>\n",
       "      <td>97.978186</td>\n",
       "      <td>555</td>\n",
       "      <td>331</td>\n",
       "      <td>1727</td>\n",
       "      <td>5064</td>\n",
       "      <td>5377</td>\n",
       "      <td>3811</td>\n",
       "      <td>2105</td>\n",
       "      <td>1</td>\n",
       "    </tr>\n",
       "    <tr>\n",
       "      <th>3</th>\n",
       "      <td>257</td>\n",
       "      <td>18862</td>\n",
       "      <td>18689</td>\n",
       "      <td>3.851410</td>\n",
       "      <td>99.082812</td>\n",
       "      <td>649</td>\n",
       "      <td>184</td>\n",
       "      <td>1664</td>\n",
       "      <td>5536</td>\n",
       "      <td>6202</td>\n",
       "      <td>3567</td>\n",
       "      <td>1536</td>\n",
       "      <td>1</td>\n",
       "    </tr>\n",
       "    <tr>\n",
       "      <th>4</th>\n",
       "      <td>258</td>\n",
       "      <td>18691</td>\n",
       "      <td>18380</td>\n",
       "      <td>4.193199</td>\n",
       "      <td>98.336098</td>\n",
       "      <td>701</td>\n",
       "      <td>226</td>\n",
       "      <td>912</td>\n",
       "      <td>3631</td>\n",
       "      <td>6273</td>\n",
       "      <td>4992</td>\n",
       "      <td>2346</td>\n",
       "      <td>1</td>\n",
       "    </tr>\n",
       "  </tbody>\n",
       "</table>\n",
       "</div>"
      ],
      "text/plain": [
       "   WordleID  Number_of_Games  Number_of_Wins  Mean_Attempts_Victory  \\\n",
       "0       254            18693           18551               3.746752   \n",
       "1       255            18591           18215               4.304310   \n",
       "2       256            18795           18415               3.919088   \n",
       "3       257            18862           18689               3.851410   \n",
       "4       258            18691           18380               4.193199   \n",
       "\n",
       "    Win_Rate  Hard_Mode_Count  1_attempt_Win  2_attempts_Win  3_attempts_Win  \\\n",
       "0  99.240357              552            353            1795            5636   \n",
       "1  97.977516              614            185             559            3276   \n",
       "2  97.978186              555            331            1727            5064   \n",
       "3  99.082812              649            184            1664            5536   \n",
       "4  98.336098              701            226             912            3631   \n",
       "\n",
       "   4_attempts_Win  5_attempts_Win  6_attempts_Win  above_average  \n",
       "0            6332            3283            1152              1  \n",
       "1            6288            5322            2585              0  \n",
       "2            5377            3811            2105              1  \n",
       "3            6202            3567            1536              1  \n",
       "4            6273            4992            2346              1  "
      ]
     },
     "execution_count": 69,
     "metadata": {},
     "output_type": "execute_result"
    }
   ],
   "source": [
    "mean_value = wordle_summary['Number_of_Wins'].mean()\n",
    "wordle_summary['above_average'] = (wordle_summary['Number_of_Wins']>mean_value).astype(int)\n",
    "wordle_summary.head()"
   ]
  },
  {
   "cell_type": "code",
   "execution_count": 70,
   "id": "0b4acad1-c16f-4678-90b3-27d7081b44da",
   "metadata": {},
   "outputs": [
    {
     "name": "stdout",
     "output_type": "stream",
     "text": [
      "79\n",
      "28\n",
      "[1 0 1 1 1 1 0 1 1 1 1 0 1 1 1 1 1 1 1 1 1 0]\n",
      "0.9545454545454546\n"
     ]
    }
   ],
   "source": [
    "from sklearn.linear_model import LogisticRegression\n",
    "#codice qui\n",
    "y = wordle_summary['above_average']\n",
    "x = wordle_summary[['Number_of_Games']]\n",
    "print(np.sum(y==1))\n",
    "print(np.sum(y==0))\n",
    "x_train, x_valid, y_train, y_valid = train_test_split(x, y, test_size = 0.2)\n",
    "reg = LogisticRegression()\n",
    "reg.fit(x_train, y_train)\n",
    "y_pred = reg.predict(x_valid)\n",
    "print(y_pred)\n",
    "print(reg.score(x_valid, y_valid))"
   ]
  },
  {
   "cell_type": "markdown",
   "id": "9c67d97f-f950-4868-a414-4ea2159a8ad2",
   "metadata": {},
   "source": [
    "Siamo riusciti a raggiungere un'accuratezza superiore all'80% con un modello di Logistic Regression. Quale sarebbe un opportuno modello nullo per confrontare?\n",
    "Possiamo immaginare di predire sempre la classe più comune. "
   ]
  },
  {
   "cell_type": "code",
   "execution_count": 71,
   "id": "c2501e57-b7ab-4beb-80ea-f0f05bdd70e5",
   "metadata": {},
   "outputs": [
    {
     "name": "stdout",
     "output_type": "stream",
     "text": [
      "0.22727272727272727\n",
      "0.7727272727272727\n"
     ]
    }
   ],
   "source": [
    "classe1 = np.sum(y_valid ==1)/x_valid.shape[0]\n",
    "classe0 = np.sum(y_valid==0)/x_valid.shape[0]\n",
    "print(classe0)\n",
    "print(classe1)"
   ]
  },
  {
   "cell_type": "markdown",
   "id": "06e2ecf4-06bf-4c8c-a87f-24b2f91f0055",
   "metadata": {},
   "source": [
    "Abbiamo definito e ottenuto un modello più accurato del modello nullo. "
   ]
  },
  {
   "cell_type": "markdown",
   "id": "c648b5d9-b2c3-4431-bda9-af16291b866a",
   "metadata": {},
   "source": [
    "## Clustering\n",
    "\n",
    "Realizziamo uno scatter plot."
   ]
  },
  {
   "cell_type": "code",
   "execution_count": 72,
   "id": "cc4c64c5-ed80-4356-8389-33b92085b58e",
   "metadata": {},
   "outputs": [
    {
     "data": {
      "image/png": "[encoded data removed]",
      "text/plain": [
       "<Figure size 600x600 with 1 Axes>"
      ]
     },
     "metadata": {},
     "output_type": "display_data"
    }
   ],
   "source": [
    "plt.figure(figsize=(6, 6))\n",
    "plt.scatter(wordle_summary['Hard_Mode_Count'], wordle_summary['Number_of_Games'], color='blue', alpha=0.5)\n",
    "plt.ylabel(\"Number of Tweets\")\n",
    "plt.xlabel(\"Number of Tweets with Hard Mode\")\n",
    "plt.grid(True)\n",
    "plt.show()"
   ]
  },
  {
   "cell_type": "markdown",
   "id": "532422c3-03dd-4ab9-944f-c220d62570f2",
   "metadata": {},
   "source": [
    "Ricorrendo all'algoritmo K-Means, effettuiamo diverse operazioni di clustering, una per ogni valore di k compreso tra 2 e 11. Per ciascuna di queste valutiamo la qualità del risultato calcolando il coefficiente di Silhoutte. "
   ]
  },
  {
   "cell_type": "code",
   "execution_count": 6,
   "id": "e4249392-7c0b-4627-8577-871ac98d7cf8",
   "metadata": {},
   "outputs": [
    {
     "ename": "NameError",
     "evalue": "name 'wordle_summary' is not defined",
     "output_type": "error",
     "traceback": [
      "\u001b[0;31m---------------------------------------------------------------------------\u001b[0m",
      "\u001b[0;31mNameError\u001b[0m                                 Traceback (most recent call last)",
      "Cell \u001b[0;32mIn[6], line 25\u001b[0m\n\u001b[1;32m     22\u001b[0m cols \u001b[38;5;241m=\u001b[39m [\u001b[38;5;124m'\u001b[39m\u001b[38;5;124mHard_Mode_Count\u001b[39m\u001b[38;5;124m'\u001b[39m, \u001b[38;5;124m'\u001b[39m\u001b[38;5;124mNumber_of_Games\u001b[39m\u001b[38;5;124m'\u001b[39m]\n\u001b[1;32m     24\u001b[0m \u001b[38;5;28;01mfor\u001b[39;00m i \u001b[38;5;129;01min\u001b[39;00m \u001b[38;5;28mrange\u001b[39m (\u001b[38;5;241m2\u001b[39m, \u001b[38;5;241m11\u001b[39m): \n\u001b[0;32m---> 25\u001b[0m     silhouttes_for_nclusters\u001b[38;5;241m.\u001b[39mappend((i,clustering_test(i, \u001b[43mwordle_summary\u001b[49m, cols)))\n",
      "\u001b[0;31mNameError\u001b[0m: name 'wordle_summary' is not defined"
     ]
    }
   ],
   "source": [
    "from sklearn.cluster import KMeans\n",
    "from sklearn.preprocessing import StandardScaler\n",
    "from sklearn.metrics import silhouette_score\n",
    "\n",
    "def clustering_test(n, df, feature_cols): \n",
    "   \n",
    "    kmeans = KMeans(n_clusters=n, random_state=42)\n",
    "    \n",
    "    X = df[feature_cols]\n",
    "    \n",
    "    scaler = StandardScaler()\n",
    "    X_scaled = scaler.fit_transform(X)\n",
    "    \n",
    "    kmeans.fit(X_scaled)\n",
    "    \n",
    "    cluster_labels = kmeans.labels_\n",
    "   \n",
    "    silhouette_avg = silhouette_score(X, cluster_labels)\n",
    "    return silhouette_avg\n",
    "\n",
    "silhouttes_for_nclusters = []\n",
    "cols = ['Hard_Mode_Count', 'Number_of_Games']\n",
    "\n",
    "for i in range (2, 11): \n",
    "    silhouttes_for_nclusters.append((i,clustering_test(i, wordle_summary, cols)))"
   ]
  },
  {
   "cell_type": "markdown",
   "id": "17c0828c-4630-4afa-9f7f-982d094b021c",
   "metadata": {},
   "source": [
    "Stampiamo i coefficienti di Silhouette ottenuti e visualizziamoli in un grafico a linea."
   ]
  },
  {
   "cell_type": "code",
   "execution_count": 74,
   "id": "119955db-d9f0-412a-a0d0-1feb0c00a1b3",
   "metadata": {},
   "outputs": [
    {
     "name": "stdout",
     "output_type": "stream",
     "text": [
      "[(2, 0.5087404725237615), (3, 0.5338018236184707), (4, 0.48617725439157394), (5, 0.4552115934717482), (6, 0.44373096357414676), (7, 0.38030216366592556), (8, 0.34650148343919385), (9, 0.370502912706614), (10, 0.32604667544382354)]\n"
     ]
    }
   ],
   "source": [
    "print(silhouttes_for_nclusters)"
   ]
  },
  {
   "cell_type": "code",
   "execution_count": 75,
   "id": "86a6512a-0b72-4759-9801-0d31d974daf2",
   "metadata": {},
   "outputs": [
    {
     "data": {
      "image/png": "[encoded data removed]",
      "text/plain": [
       "<Figure size 600x400 with 1 Axes>"
      ]
     },
     "metadata": {},
     "output_type": "display_data"
    }
   ],
   "source": [
    "num_cluster = [x[0] for x in silhouttes_for_nclusters]\n",
    "silhouette_scores = [x[1] for x in silhouttes_for_nclusters]\n",
    "\n",
    "plt.figure(figsize=(6, 4))\n",
    "plt.plot(num_cluster, silhouette_scores, linestyle='-')\n",
    "plt.title('Silhouette value depending on K', pad=20)\n",
    "plt.ylabel('Silhouette value')\n",
    "plt.xlabel('Number of Clusters (K)')\n",
    "plt.grid(True)\n",
    "plt.show()"
   ]
  },
  {
   "cell_type": "markdown",
   "id": "a636d2c8-277a-4749-a2f1-58d6bc897170",
   "metadata": {},
   "source": [
    "Il risultato con coefficiente di Silhouette massimo è il migliore: determiniamo quale esso sia."
   ]
  },
  {
   "cell_type": "code",
   "execution_count": 76,
   "id": "b0ed80eb-dcd4-4555-8860-40cff015845e",
   "metadata": {},
   "outputs": [
    {
     "name": "stdout",
     "output_type": "stream",
     "text": [
      "(3, 0.5338018236184707)\n"
     ]
    }
   ],
   "source": [
    "best_cluster = max(silhouttes_for_nclusters, key=lambda x: x[1])\n",
    "print(best_cluster)"
   ]
  },
  {
   "cell_type": "markdown",
   "id": "0715da2d-c724-45d3-9cc7-5dc8f7b27dd2",
   "metadata": {},
   "source": [
    "Visualizziamo con tre scatter plot il clustering ottenuto con il k migliore e con i due valori ad esso adiacenti."
   ]
  },
  {
   "cell_type": "code",
   "execution_count": 77,
   "id": "ce9cf61e-5785-4ace-a3c9-f8080111cd46",
   "metadata": {},
   "outputs": [
    {
     "data": {
      "image/png": "[encoded data removed]",
      "text/plain": [
       "<Figure size 1500x500 with 3 Axes>"
      ]
     },
     "metadata": {},
     "output_type": "display_data"
    }
   ],
   "source": [
    "def plot_clustering(n, ax, df, feature_cols):\n",
    "    if n != 1:\n",
    "        \n",
    "        kmeans = KMeans(n_clusters=n, random_state=24)\n",
    "        \n",
    "        X = df[feature_cols]\n",
    "        \n",
    "        scaler = StandardScaler()\n",
    "        X_scaled = scaler.fit_transform(X)\n",
    "        \n",
    "        kmeans.fit(X_scaled)\n",
    "        \n",
    "        cluster_labels = kmeans.labels_\n",
    "        \n",
    "        df['Cluster'] = cluster_labels\n",
    "        \n",
    "        ax.scatter(df[feature_cols[0]], df[feature_cols[1]], c=df['Cluster'], cmap='viridis')\n",
    "\n",
    "        df.drop(columns=['Cluster'], inplace=True)\n",
    "\n",
    "bestk = best_cluster[0]\n",
    "fig, axs = plt.subplots(1, 3, figsize=(15, 5), sharey=True)  \n",
    "\n",
    "# Call plot_clustering() with different number of clusters\n",
    "plot_clustering(bestk-1, axs[0], wordle_summary, cols)\n",
    "axs[0].set_title('K={}'.format(bestk-1))\n",
    "\n",
    "plot_clustering(bestk, axs[1], wordle_summary, cols)\n",
    "axs[1].set_title('K={}'.format(bestk))\n",
    "\n",
    "plot_clustering(bestk+1, axs[2], wordle_summary, cols)\n",
    "axs[2].set_title('K={}'.format(bestk+1))\n",
    "\n",
    "plt.tight_layout() \n",
    "plt.show()"
   ]
  }
 ],
 "metadata": {
  "kernelspec": {
   "display_name": "Python 3 (ipykernel)",
   "language": "python",
   "name": "python3"
  },
  "language_info": {
   "codemirror_mode": {
    "name": "ipython",
    "version": 3
   },
   "file_extension": ".py",
   "mimetype": "text/x-python",
   "name": "python",
   "nbconvert_exporter": "python",
   "pygments_lexer": "ipython3",
   "version": "3.12.3"
  }
 },
 "nbformat": 4,
 "nbformat_minor": 5
}
