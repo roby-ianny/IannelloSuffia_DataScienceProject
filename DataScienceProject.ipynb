{
 "cells": [
  {
   "cell_type": "markdown",
   "id": "859fb446-65a8-450b-91b9-39bb45a540c2",
   "metadata": {},
   "source": [
    "# Wordle Tweet Dataset\n",
    "\n",
    "Obbiettivo analitico: _gli utenti più attivi prestano meglio rispetto agli utenti meno attivi?_"
   ]
  },
  {
   "cell_type": "code",
   "execution_count": 1,
   "id": "60ed4388-0c3d-40de-a935-973b0e91ab48",
   "metadata": {},
   "outputs": [],
   "source": [
    "import pandas as pd \n",
    "import matplotlib.pyplot as plt \n",
    "import numpy as np\n",
    "import re\n",
    "import scipy.stats as stats\n",
    "import sklearn"
   ]
  },
  {
   "cell_type": "markdown",
   "id": "6b30585a",
   "metadata": {},
   "source": [
    "Cominciamo importando il Dataset e visualizziamo alcune informazioni."
   ]
  },
  {
   "cell_type": "code",
   "execution_count": 2,
   "id": "52135c8a-8c0b-4648-9822-5595fdf9883d",
   "metadata": {},
   "outputs": [
    {
     "name": "stdout",
     "output_type": "stream",
     "text": [
      "<class 'pandas.core.frame.DataFrame'>\n",
      "RangeIndex: 2140196 entries, 0 to 2140195\n",
      "Data columns (total 10 columns):\n",
      " #   Column           Dtype  \n",
      "---  ------           -----  \n",
      " 0   WordleID         int64  \n",
      " 1   ID               int64  \n",
      " 2   Created_At       object \n",
      " 3   Text             object \n",
      " 4   Source           object \n",
      " 5   UserID           float64\n",
      " 6   Username         object \n",
      " 7   User_ScreenName  object \n",
      " 8   Location         object \n",
      " 9   Truncated        bool   \n",
      "dtypes: bool(1), float64(1), int64(2), object(6)\n",
      "memory usage: 149.0+ MB\n"
     ]
    }
   ],
   "source": [
    "wordle = pd.read_csv(\"WordleMegaData.csv\")\n",
    "wordle.info()"
   ]
  },
  {
   "cell_type": "markdown",
   "id": "ada4d692",
   "metadata": {},
   "source": [
    "Andiamo ora a visualizzare le prime occorrenze della tabella"
   ]
  },
  {
   "cell_type": "code",
   "execution_count": 3,
   "id": "fe80e003-4609-4a4e-92cd-b2069282aaea",
   "metadata": {},
   "outputs": [
    {
     "data": {
      "text/html": [
       "<div>\n",
       "<style scoped>\n",
       "    .dataframe tbody tr th:only-of-type {\n",
       "        vertical-align: middle;\n",
       "    }\n",
       "\n",
       "    .dataframe tbody tr th {\n",
       "        vertical-align: top;\n",
       "    }\n",
       "\n",
       "    .dataframe thead th {\n",
       "        text-align: right;\n",
       "    }\n",
       "</style>\n",
       "<table border=\"1\" class=\"dataframe\">\n",
       "  <thead>\n",
       "    <tr style=\"text-align: right;\">\n",
       "      <th></th>\n",
       "      <th>WordleID</th>\n",
       "      <th>ID</th>\n",
       "      <th>Created_At</th>\n",
       "      <th>Text</th>\n",
       "      <th>Source</th>\n",
       "      <th>UserID</th>\n",
       "      <th>Username</th>\n",
       "      <th>User_ScreenName</th>\n",
       "      <th>Location</th>\n",
       "      <th>Truncated</th>\n",
       "    </tr>\n",
       "  </thead>\n",
       "  <tbody>\n",
       "    <tr>\n",
       "      <th>0</th>\n",
       "      <td>254</td>\n",
       "      <td>1498447921448034305</td>\n",
       "      <td>2022-02-28 23:59:58+00:00</td>\n",
       "      <td>Wordle 254 3/6\\n\\n🟨🟨⬛⬛⬛\\n🟨⬛🟨⬛🟩\\n🟩🟩🟩🟩🟩</td>\n",
       "      <td>Twitter for iPhone</td>\n",
       "      <td>3.681676e+07</td>\n",
       "      <td>Leslie Brown</td>\n",
       "      <td>live_laugh_pray</td>\n",
       "      <td>Haida Gwaii</td>\n",
       "      <td>False</td>\n",
       "    </tr>\n",
       "    <tr>\n",
       "      <th>1</th>\n",
       "      <td>254</td>\n",
       "      <td>1498447918184996864</td>\n",
       "      <td>2022-02-28 23:59:58+00:00</td>\n",
       "      <td>Wordle 254 4/6\\n\\n⬛⬛⬛⬛🟩\\n⬛⬛⬛⬛🟩\\n⬛🟩⬛⬛🟩\\n🟩🟩🟩🟩🟩\\n...</td>\n",
       "      <td>Twitter for iPhone</td>\n",
       "      <td>4.825910e+08</td>\n",
       "      <td>Dylan Sobo</td>\n",
       "      <td>DaBolt727</td>\n",
       "      <td>Largo, FL / Bradenton|FGCU</td>\n",
       "      <td>False</td>\n",
       "    </tr>\n",
       "    <tr>\n",
       "      <th>2</th>\n",
       "      <td>254</td>\n",
       "      <td>1498447910173921282</td>\n",
       "      <td>2022-02-28 23:59:56+00:00</td>\n",
       "      <td>Wordle 254 3/6\\n\\n⬛⬛⬛⬛🟩\\n⬛⬛🟩⬛🟩\\n🟩🟩🟩🟩🟩</td>\n",
       "      <td>Twitter for iPhone</td>\n",
       "      <td>1.397624e+18</td>\n",
       "      <td>🖤</td>\n",
       "      <td>wengojos</td>\n",
       "      <td>23 • she/her • 🇵🇭🇺🇸</td>\n",
       "      <td>False</td>\n",
       "    </tr>\n",
       "    <tr>\n",
       "      <th>3</th>\n",
       "      <td>254</td>\n",
       "      <td>1498447901797801989</td>\n",
       "      <td>2022-02-28 23:59:54+00:00</td>\n",
       "      <td>Wordle 254 3/6\\n\\n⬛⬛⬛🟨⬛\\n⬛🟨⬛⬛🟩\\n🟩🟩🟩🟩🟩</td>\n",
       "      <td>Twitter for iPhone</td>\n",
       "      <td>1.255905e+18</td>\n",
       "      <td>Dustin Waters</td>\n",
       "      <td>DustinWaters12</td>\n",
       "      <td>NaN</td>\n",
       "      <td>False</td>\n",
       "    </tr>\n",
       "    <tr>\n",
       "      <th>4</th>\n",
       "      <td>254</td>\n",
       "      <td>1498447896911527938</td>\n",
       "      <td>2022-02-28 23:59:53+00:00</td>\n",
       "      <td>Wordle 254 3/6\\n\\n⬛🟨⬛⬛⬛\\n🟩🟩🟩⬛🟩\\n🟩🟩🟩🟩🟩</td>\n",
       "      <td>Twitter for iPhone</td>\n",
       "      <td>2.528937e+08</td>\n",
       "      <td>R. Colin</td>\n",
       "      <td>rollin_fatty</td>\n",
       "      <td>Richmond, VA</td>\n",
       "      <td>False</td>\n",
       "    </tr>\n",
       "  </tbody>\n",
       "</table>\n",
       "</div>"
      ],
      "text/plain": [
       "   WordleID                   ID                 Created_At  \\\n",
       "0       254  1498447921448034305  2022-02-28 23:59:58+00:00   \n",
       "1       254  1498447918184996864  2022-02-28 23:59:58+00:00   \n",
       "2       254  1498447910173921282  2022-02-28 23:59:56+00:00   \n",
       "3       254  1498447901797801989  2022-02-28 23:59:54+00:00   \n",
       "4       254  1498447896911527938  2022-02-28 23:59:53+00:00   \n",
       "\n",
       "                                                Text              Source  \\\n",
       "0              Wordle 254 3/6\\n\\n🟨🟨⬛⬛⬛\\n🟨⬛🟨⬛🟩\\n🟩🟩🟩🟩🟩  Twitter for iPhone   \n",
       "1  Wordle 254 4/6\\n\\n⬛⬛⬛⬛🟩\\n⬛⬛⬛⬛🟩\\n⬛🟩⬛⬛🟩\\n🟩🟩🟩🟩🟩\\n...  Twitter for iPhone   \n",
       "2              Wordle 254 3/6\\n\\n⬛⬛⬛⬛🟩\\n⬛⬛🟩⬛🟩\\n🟩🟩🟩🟩🟩  Twitter for iPhone   \n",
       "3              Wordle 254 3/6\\n\\n⬛⬛⬛🟨⬛\\n⬛🟨⬛⬛🟩\\n🟩🟩🟩🟩🟩  Twitter for iPhone   \n",
       "4              Wordle 254 3/6\\n\\n⬛🟨⬛⬛⬛\\n🟩🟩🟩⬛🟩\\n🟩🟩🟩🟩🟩  Twitter for iPhone   \n",
       "\n",
       "         UserID       Username  User_ScreenName                    Location  \\\n",
       "0  3.681676e+07   Leslie Brown  live_laugh_pray                 Haida Gwaii   \n",
       "1  4.825910e+08     Dylan Sobo        DaBolt727  Largo, FL / Bradenton|FGCU   \n",
       "2  1.397624e+18              🖤         wengojos         23 • she/her • 🇵🇭🇺🇸   \n",
       "3  1.255905e+18  Dustin Waters   DustinWaters12                         NaN   \n",
       "4  2.528937e+08       R. Colin     rollin_fatty                Richmond, VA   \n",
       "\n",
       "   Truncated  \n",
       "0      False  \n",
       "1      False  \n",
       "2      False  \n",
       "3      False  \n",
       "4      False  "
      ]
     },
     "execution_count": 3,
     "metadata": {},
     "output_type": "execute_result"
    }
   ],
   "source": [
    "wordle.head()"
   ]
  },
  {
   "cell_type": "markdown",
   "id": "03a58eff-71e0-4c12-aaca-c0bea8158c40",
   "metadata": {},
   "source": [
    "## Pulizia dei dati"
   ]
  },
  {
   "cell_type": "markdown",
   "id": "f6dcef10-028a-4c80-b110-a3acc302d9b9",
   "metadata": {},
   "source": [
    "Per ogni carattersitica andiamo a visualizzare il numero di elementi nulli."
   ]
  },
  {
   "cell_type": "code",
   "execution_count": 4,
   "id": "f69deb5d-9de8-498c-a33c-768f466affb9",
   "metadata": {},
   "outputs": [
    {
     "data": {
      "text/plain": [
       "WordleID                0\n",
       "ID                      0\n",
       "Created_At              0\n",
       "Text                    0\n",
       "Source                  0\n",
       "UserID                  0\n",
       "Username              112\n",
       "User_ScreenName         0\n",
       "Location           573373\n",
       "Truncated               0\n",
       "dtype: int64"
      ]
     },
     "execution_count": 4,
     "metadata": {},
     "output_type": "execute_result"
    }
   ],
   "source": [
    "wordle.isnull().sum()"
   ]
  },
  {
   "cell_type": "markdown",
   "id": "0172a1bf-6c7f-4e75-8e9b-ea4ae568f754",
   "metadata": {},
   "source": [
    "La caratteristica 'ID' rappresenta l'ID del tweet e quindi deve essere unica. Verifichiamo che sia così."
   ]
  },
  {
   "cell_type": "code",
   "execution_count": 5,
   "id": "6a86f571-fd13-4035-a9e2-711fe4de7c04",
   "metadata": {},
   "outputs": [
    {
     "name": "stdout",
     "output_type": "stream",
     "text": [
      "Number of rows where 'ID' is unique: 2140187\n",
      "Total number of rows: 2140196\n"
     ]
    }
   ],
   "source": [
    "num_unique_elements = wordle['ID'].nunique()\n",
    "total_elements = len(wordle['ID'])\n",
    "\n",
    "print(\"Number of rows where 'ID' is unique:\", num_unique_elements)\n",
    "print(\"Total number of rows:\", total_elements)"
   ]
  },
  {
   "cell_type": "markdown",
   "id": "f6d3d607-5b93-41d1-8d45-3fd241ec1af0",
   "metadata": {},
   "source": [
    "Sono presenti dei duplicati, li eliminiamo."
   ]
  },
  {
   "cell_type": "code",
   "execution_count": 6,
   "id": "e2ae2645-8290-481d-9026-1d8ba9e6e455",
   "metadata": {},
   "outputs": [
    {
     "data": {
      "text/plain": [
       "(2140178, 10)"
      ]
     },
     "execution_count": 6,
     "metadata": {},
     "output_type": "execute_result"
    }
   ],
   "source": [
    "wordle = wordle.drop_duplicates(subset=['ID'], keep=False)\n",
    "wordle.shape"
   ]
  },
  {
   "cell_type": "markdown",
   "id": "9f45cb7c",
   "metadata": {},
   "source": [
    "Ora che le nostre occorrenze sono uniche, andiamo a effettuare una pulizia del testo, mantenendo solamente le informazioni riguardanti la partita a wordle. \n",
    "Inoltre dal testo generiamo una colonna \"Attempts\" che rappresenta il numero di tentativi effettuati per indovinare la parola o la X nel caso di fallimento."
   ]
  },
  {
   "cell_type": "code",
   "execution_count": 7,
   "id": "dadf73da-dc39-4560-b7eb-6fb618adc1b3",
   "metadata": {},
   "outputs": [
    {
     "data": {
      "text/html": [
       "<div>\n",
       "<style scoped>\n",
       "    .dataframe tbody tr th:only-of-type {\n",
       "        vertical-align: middle;\n",
       "    }\n",
       "\n",
       "    .dataframe tbody tr th {\n",
       "        vertical-align: top;\n",
       "    }\n",
       "\n",
       "    .dataframe thead th {\n",
       "        text-align: right;\n",
       "    }\n",
       "</style>\n",
       "<table border=\"1\" class=\"dataframe\">\n",
       "  <thead>\n",
       "    <tr style=\"text-align: right;\">\n",
       "      <th></th>\n",
       "      <th>WordleID</th>\n",
       "      <th>ID</th>\n",
       "      <th>Created_At</th>\n",
       "      <th>Text</th>\n",
       "      <th>Source</th>\n",
       "      <th>UserID</th>\n",
       "      <th>Username</th>\n",
       "      <th>User_ScreenName</th>\n",
       "      <th>Location</th>\n",
       "      <th>Truncated</th>\n",
       "      <th>Attempts</th>\n",
       "    </tr>\n",
       "  </thead>\n",
       "  <tbody>\n",
       "    <tr>\n",
       "      <th>0</th>\n",
       "      <td>254</td>\n",
       "      <td>1498447921448034305</td>\n",
       "      <td>2022-02-28 23:59:58+00:00</td>\n",
       "      <td>Wordle 254 3/6\\n\\n🟨🟨⬛⬛⬛\\n🟨⬛🟨⬛🟩\\n🟩🟩🟩🟩🟩</td>\n",
       "      <td>Twitter for iPhone</td>\n",
       "      <td>3.681676e+07</td>\n",
       "      <td>Leslie Brown</td>\n",
       "      <td>live_laugh_pray</td>\n",
       "      <td>Haida Gwaii</td>\n",
       "      <td>False</td>\n",
       "      <td>3</td>\n",
       "    </tr>\n",
       "    <tr>\n",
       "      <th>1</th>\n",
       "      <td>254</td>\n",
       "      <td>1498447918184996864</td>\n",
       "      <td>2022-02-28 23:59:58+00:00</td>\n",
       "      <td>Wordle 254 4/6\\n\\n⬛⬛⬛⬛🟩\\n⬛⬛⬛⬛🟩\\n⬛🟩⬛⬛🟩\\n🟩🟩🟩🟩🟩\\n...</td>\n",
       "      <td>Twitter for iPhone</td>\n",
       "      <td>4.825910e+08</td>\n",
       "      <td>Dylan Sobo</td>\n",
       "      <td>DaBolt727</td>\n",
       "      <td>Largo, FL / Bradenton|FGCU</td>\n",
       "      <td>False</td>\n",
       "      <td>4</td>\n",
       "    </tr>\n",
       "    <tr>\n",
       "      <th>2</th>\n",
       "      <td>254</td>\n",
       "      <td>1498447910173921282</td>\n",
       "      <td>2022-02-28 23:59:56+00:00</td>\n",
       "      <td>Wordle 254 3/6\\n\\n⬛⬛⬛⬛🟩\\n⬛⬛🟩⬛🟩\\n🟩🟩🟩🟩🟩</td>\n",
       "      <td>Twitter for iPhone</td>\n",
       "      <td>1.397624e+18</td>\n",
       "      <td>🖤</td>\n",
       "      <td>wengojos</td>\n",
       "      <td>23 • she/her • 🇵🇭🇺🇸</td>\n",
       "      <td>False</td>\n",
       "      <td>3</td>\n",
       "    </tr>\n",
       "    <tr>\n",
       "      <th>3</th>\n",
       "      <td>254</td>\n",
       "      <td>1498447901797801989</td>\n",
       "      <td>2022-02-28 23:59:54+00:00</td>\n",
       "      <td>Wordle 254 3/6\\n\\n⬛⬛⬛🟨⬛\\n⬛🟨⬛⬛🟩\\n🟩🟩🟩🟩🟩</td>\n",
       "      <td>Twitter for iPhone</td>\n",
       "      <td>1.255905e+18</td>\n",
       "      <td>Dustin Waters</td>\n",
       "      <td>DustinWaters12</td>\n",
       "      <td>NaN</td>\n",
       "      <td>False</td>\n",
       "      <td>3</td>\n",
       "    </tr>\n",
       "    <tr>\n",
       "      <th>4</th>\n",
       "      <td>254</td>\n",
       "      <td>1498447896911527938</td>\n",
       "      <td>2022-02-28 23:59:53+00:00</td>\n",
       "      <td>Wordle 254 3/6\\n\\n⬛🟨⬛⬛⬛\\n🟩🟩🟩⬛🟩\\n🟩🟩🟩🟩🟩</td>\n",
       "      <td>Twitter for iPhone</td>\n",
       "      <td>2.528937e+08</td>\n",
       "      <td>R. Colin</td>\n",
       "      <td>rollin_fatty</td>\n",
       "      <td>Richmond, VA</td>\n",
       "      <td>False</td>\n",
       "      <td>3</td>\n",
       "    </tr>\n",
       "  </tbody>\n",
       "</table>\n",
       "</div>"
      ],
      "text/plain": [
       "   WordleID                   ID                 Created_At  \\\n",
       "0       254  1498447921448034305  2022-02-28 23:59:58+00:00   \n",
       "1       254  1498447918184996864  2022-02-28 23:59:58+00:00   \n",
       "2       254  1498447910173921282  2022-02-28 23:59:56+00:00   \n",
       "3       254  1498447901797801989  2022-02-28 23:59:54+00:00   \n",
       "4       254  1498447896911527938  2022-02-28 23:59:53+00:00   \n",
       "\n",
       "                                                Text              Source  \\\n",
       "0              Wordle 254 3/6\\n\\n🟨🟨⬛⬛⬛\\n🟨⬛🟨⬛🟩\\n🟩🟩🟩🟩🟩  Twitter for iPhone   \n",
       "1  Wordle 254 4/6\\n\\n⬛⬛⬛⬛🟩\\n⬛⬛⬛⬛🟩\\n⬛🟩⬛⬛🟩\\n🟩🟩🟩🟩🟩\\n...  Twitter for iPhone   \n",
       "2              Wordle 254 3/6\\n\\n⬛⬛⬛⬛🟩\\n⬛⬛🟩⬛🟩\\n🟩🟩🟩🟩🟩  Twitter for iPhone   \n",
       "3              Wordle 254 3/6\\n\\n⬛⬛⬛🟨⬛\\n⬛🟨⬛⬛🟩\\n🟩🟩🟩🟩🟩  Twitter for iPhone   \n",
       "4              Wordle 254 3/6\\n\\n⬛🟨⬛⬛⬛\\n🟩🟩🟩⬛🟩\\n🟩🟩🟩🟩🟩  Twitter for iPhone   \n",
       "\n",
       "         UserID       Username  User_ScreenName                    Location  \\\n",
       "0  3.681676e+07   Leslie Brown  live_laugh_pray                 Haida Gwaii   \n",
       "1  4.825910e+08     Dylan Sobo        DaBolt727  Largo, FL / Bradenton|FGCU   \n",
       "2  1.397624e+18              🖤         wengojos         23 • she/her • 🇵🇭🇺🇸   \n",
       "3  1.255905e+18  Dustin Waters   DustinWaters12                         NaN   \n",
       "4  2.528937e+08       R. Colin     rollin_fatty                Richmond, VA   \n",
       "\n",
       "   Truncated Attempts  \n",
       "0      False        3  \n",
       "1      False        4  \n",
       "2      False        3  \n",
       "3      False        3  \n",
       "4      False        3  "
      ]
     },
     "execution_count": 7,
     "metadata": {},
     "output_type": "execute_result"
    }
   ],
   "source": [
    "number_pattern = re.compile(r'(Wordle) (\\d{3}) (([1-6]|X)\\/6)')\n",
    "\n",
    "# Function to extract the number of attempts from each row\n",
    "def extract_attempts(row):\n",
    "    match = number_pattern.search(row)\n",
    "    if match:\n",
    "        return match.group(3).replace('/6', '') \n",
    "    else:\n",
    "        return np.nan\n",
    "\n",
    "# Create a new column with the extracted numbers\n",
    "wordle['Attempts'] = wordle['Text'].apply(extract_attempts)\n",
    "\n",
    "wordle.head()"
   ]
  },
  {
   "cell_type": "markdown",
   "id": "ca3cc7e6",
   "metadata": {},
   "source": [
    "Per estrarre ulteriori informazioni possiamo affidarci alle emoji riportate nei tweet, vi sono una serie di rappresentazioni alternative per la stessa informazione. Inoltre possiamo fare una verifica incrociata con il numero di tentativi per verificare la coerenza delle informazioni.\n",
    "\n",
    "Le informazioni per le varie emoji sono le seguenti:\n",
    "- ⬛ o ⬜ indicano che la lettera non è presente nella parola\n",
    "- 🟨 indicano che la lettera è corretta ma non la sua posizione\n",
    "- 🟩 indicano che la lettera è corretta e anche la sua posizione\n",
    "\n",
    "*Possiamo sfruttare questa informazione per fare ulteriori analisi e/o test statistici, come per esempio, in media quanta gente indovina dopo una certa quantità di quadratini gialli/blu?*"
   ]
  },
  {
   "cell_type": "markdown",
   "id": "fc017399-747f-4845-884e-c5a5c4bd9e64",
   "metadata": {},
   "source": [
    "Eliminiamo le righe che contengono nella colonna Text più occorrenze di una partita perchè ambigue. Quale delle partite nel tweet è stata effettivamente giocata? Quale corrisponde alla partita di oggi? "
   ]
  },
  {
   "cell_type": "code",
   "execution_count": 8,
   "id": "c9bfd938-c6f1-4b25-bc9d-c57336f01a96",
   "metadata": {},
   "outputs": [
    {
     "data": {
      "text/html": [
       "<div>\n",
       "<style scoped>\n",
       "    .dataframe tbody tr th:only-of-type {\n",
       "        vertical-align: middle;\n",
       "    }\n",
       "\n",
       "    .dataframe tbody tr th {\n",
       "        vertical-align: top;\n",
       "    }\n",
       "\n",
       "    .dataframe thead th {\n",
       "        text-align: right;\n",
       "    }\n",
       "</style>\n",
       "<table border=\"1\" class=\"dataframe\">\n",
       "  <thead>\n",
       "    <tr style=\"text-align: right;\">\n",
       "      <th></th>\n",
       "      <th>WordleID</th>\n",
       "      <th>ID</th>\n",
       "      <th>Created_At</th>\n",
       "      <th>Text</th>\n",
       "      <th>Source</th>\n",
       "      <th>UserID</th>\n",
       "      <th>Username</th>\n",
       "      <th>User_ScreenName</th>\n",
       "      <th>Location</th>\n",
       "      <th>Truncated</th>\n",
       "      <th>Attempts</th>\n",
       "      <th>Match</th>\n",
       "    </tr>\n",
       "  </thead>\n",
       "  <tbody>\n",
       "    <tr>\n",
       "      <th>0</th>\n",
       "      <td>254</td>\n",
       "      <td>1498447921448034305</td>\n",
       "      <td>2022-02-28 23:59:58+00:00</td>\n",
       "      <td>Wordle 254 3/6\\n\\n🟨🟨⬛⬛⬛\\n🟨⬛🟨⬛🟩\\n🟩🟩🟩🟩🟩</td>\n",
       "      <td>Twitter for iPhone</td>\n",
       "      <td>3.681676e+07</td>\n",
       "      <td>Leslie Brown</td>\n",
       "      <td>live_laugh_pray</td>\n",
       "      <td>Haida Gwaii</td>\n",
       "      <td>False</td>\n",
       "      <td>3</td>\n",
       "      <td>🟨🟨⬛⬛⬛🟨⬛🟨⬛🟩🟩🟩🟩🟩🟩</td>\n",
       "    </tr>\n",
       "    <tr>\n",
       "      <th>1</th>\n",
       "      <td>254</td>\n",
       "      <td>1498447918184996864</td>\n",
       "      <td>2022-02-28 23:59:58+00:00</td>\n",
       "      <td>Wordle 254 4/6\\n\\n⬛⬛⬛⬛🟩\\n⬛⬛⬛⬛🟩\\n⬛🟩⬛⬛🟩\\n🟩🟩🟩🟩🟩\\n...</td>\n",
       "      <td>Twitter for iPhone</td>\n",
       "      <td>4.825910e+08</td>\n",
       "      <td>Dylan Sobo</td>\n",
       "      <td>DaBolt727</td>\n",
       "      <td>Largo, FL / Bradenton|FGCU</td>\n",
       "      <td>False</td>\n",
       "      <td>4</td>\n",
       "      <td>⬛⬛⬛⬛🟩⬛⬛⬛⬛🟩⬛🟩⬛⬛🟩🟩🟩🟩🟩🟩</td>\n",
       "    </tr>\n",
       "    <tr>\n",
       "      <th>2</th>\n",
       "      <td>254</td>\n",
       "      <td>1498447910173921282</td>\n",
       "      <td>2022-02-28 23:59:56+00:00</td>\n",
       "      <td>Wordle 254 3/6\\n\\n⬛⬛⬛⬛🟩\\n⬛⬛🟩⬛🟩\\n🟩🟩🟩🟩🟩</td>\n",
       "      <td>Twitter for iPhone</td>\n",
       "      <td>1.397624e+18</td>\n",
       "      <td>🖤</td>\n",
       "      <td>wengojos</td>\n",
       "      <td>23 • she/her • 🇵🇭🇺🇸</td>\n",
       "      <td>False</td>\n",
       "      <td>3</td>\n",
       "      <td>⬛⬛⬛⬛🟩⬛⬛🟩⬛🟩🟩🟩🟩🟩🟩</td>\n",
       "    </tr>\n",
       "    <tr>\n",
       "      <th>3</th>\n",
       "      <td>254</td>\n",
       "      <td>1498447901797801989</td>\n",
       "      <td>2022-02-28 23:59:54+00:00</td>\n",
       "      <td>Wordle 254 3/6\\n\\n⬛⬛⬛🟨⬛\\n⬛🟨⬛⬛🟩\\n🟩🟩🟩🟩🟩</td>\n",
       "      <td>Twitter for iPhone</td>\n",
       "      <td>1.255905e+18</td>\n",
       "      <td>Dustin Waters</td>\n",
       "      <td>DustinWaters12</td>\n",
       "      <td>NaN</td>\n",
       "      <td>False</td>\n",
       "      <td>3</td>\n",
       "      <td>⬛⬛⬛🟨⬛⬛🟨⬛⬛🟩🟩🟩🟩🟩🟩</td>\n",
       "    </tr>\n",
       "    <tr>\n",
       "      <th>4</th>\n",
       "      <td>254</td>\n",
       "      <td>1498447896911527938</td>\n",
       "      <td>2022-02-28 23:59:53+00:00</td>\n",
       "      <td>Wordle 254 3/6\\n\\n⬛🟨⬛⬛⬛\\n🟩🟩🟩⬛🟩\\n🟩🟩🟩🟩🟩</td>\n",
       "      <td>Twitter for iPhone</td>\n",
       "      <td>2.528937e+08</td>\n",
       "      <td>R. Colin</td>\n",
       "      <td>rollin_fatty</td>\n",
       "      <td>Richmond, VA</td>\n",
       "      <td>False</td>\n",
       "      <td>3</td>\n",
       "      <td>⬛🟨⬛⬛⬛🟩🟩🟩⬛🟩🟩🟩🟩🟩🟩</td>\n",
       "    </tr>\n",
       "  </tbody>\n",
       "</table>\n",
       "</div>"
      ],
      "text/plain": [
       "   WordleID                   ID                 Created_At  \\\n",
       "0       254  1498447921448034305  2022-02-28 23:59:58+00:00   \n",
       "1       254  1498447918184996864  2022-02-28 23:59:58+00:00   \n",
       "2       254  1498447910173921282  2022-02-28 23:59:56+00:00   \n",
       "3       254  1498447901797801989  2022-02-28 23:59:54+00:00   \n",
       "4       254  1498447896911527938  2022-02-28 23:59:53+00:00   \n",
       "\n",
       "                                                Text              Source  \\\n",
       "0              Wordle 254 3/6\\n\\n🟨🟨⬛⬛⬛\\n🟨⬛🟨⬛🟩\\n🟩🟩🟩🟩🟩  Twitter for iPhone   \n",
       "1  Wordle 254 4/6\\n\\n⬛⬛⬛⬛🟩\\n⬛⬛⬛⬛🟩\\n⬛🟩⬛⬛🟩\\n🟩🟩🟩🟩🟩\\n...  Twitter for iPhone   \n",
       "2              Wordle 254 3/6\\n\\n⬛⬛⬛⬛🟩\\n⬛⬛🟩⬛🟩\\n🟩🟩🟩🟩🟩  Twitter for iPhone   \n",
       "3              Wordle 254 3/6\\n\\n⬛⬛⬛🟨⬛\\n⬛🟨⬛⬛🟩\\n🟩🟩🟩🟩🟩  Twitter for iPhone   \n",
       "4              Wordle 254 3/6\\n\\n⬛🟨⬛⬛⬛\\n🟩🟩🟩⬛🟩\\n🟩🟩🟩🟩🟩  Twitter for iPhone   \n",
       "\n",
       "         UserID       Username  User_ScreenName                    Location  \\\n",
       "0  3.681676e+07   Leslie Brown  live_laugh_pray                 Haida Gwaii   \n",
       "1  4.825910e+08     Dylan Sobo        DaBolt727  Largo, FL / Bradenton|FGCU   \n",
       "2  1.397624e+18              🖤         wengojos         23 • she/her • 🇵🇭🇺🇸   \n",
       "3  1.255905e+18  Dustin Waters   DustinWaters12                         NaN   \n",
       "4  2.528937e+08       R. Colin     rollin_fatty                Richmond, VA   \n",
       "\n",
       "   Truncated Attempts                 Match  \n",
       "0      False        3       🟨🟨⬛⬛⬛🟨⬛🟨⬛🟩🟩🟩🟩🟩🟩  \n",
       "1      False        4  ⬛⬛⬛⬛🟩⬛⬛⬛⬛🟩⬛🟩⬛⬛🟩🟩🟩🟩🟩🟩  \n",
       "2      False        3       ⬛⬛⬛⬛🟩⬛⬛🟩⬛🟩🟩🟩🟩🟩🟩  \n",
       "3      False        3       ⬛⬛⬛🟨⬛⬛🟨⬛⬛🟩🟩🟩🟩🟩🟩  \n",
       "4      False        3       ⬛🟨⬛⬛⬛🟩🟩🟩⬛🟩🟩🟩🟩🟩🟩  "
      ]
     },
     "execution_count": 8,
     "metadata": {},
     "output_type": "execute_result"
    }
   ],
   "source": [
    "colored_squares_pattern = re.compile(r'(\\n[🟨🟩⬛⬜]{5})', flags=re.UNICODE)\n",
    "\n",
    "# Function to extract emojis from a text\n",
    "#def filter_text(row):\n",
    "    #matches = colored_squares_pattern.findall(row['Text'])\n",
    "    #if not matches:\n",
    "        #return np.nan  # Label as NaN if no match found\n",
    "    #filtered_text = '-'.join(''.join(element for element in match) for match in matches)\n",
    "    #return filtered_text\n",
    "\n",
    "def filter_text(row):\n",
    "    matches = colored_squares_pattern.findall(row['Text'])\n",
    "    if not matches:\n",
    "        return np.nan  # Label as NaN if no match found\n",
    "    filtered_text = ''.join(''.join(element for element in match) for match in matches).replace('\\n', '')\n",
    "    return filtered_text\n",
    "\n",
    "# Apply the function to each row and update the 'Text' column\n",
    "wordle['Match'] = wordle.apply(filter_text, axis=1)\n",
    "\n",
    "wordle.head()"
   ]
  },
  {
   "cell_type": "markdown",
   "id": "211ef5b7-146d-48a9-898f-d48ceabe19e1",
   "metadata": {},
   "source": [
    "Match ha circa 50000 valori nulli, da Match possiamo ricavare Attempts, ma non viceversa. Non potendo integrare i valori dove Match è nullo, eliminiamo i campioni coinvolti. "
   ]
  },
  {
   "cell_type": "code",
   "execution_count": 9,
   "id": "9f842613-6bea-4cf8-8644-e4637110be6b",
   "metadata": {},
   "outputs": [
    {
     "name": "stdout",
     "output_type": "stream",
     "text": [
      "WordleID                0\n",
      "ID                      0\n",
      "Created_At              0\n",
      "Text                    0\n",
      "Source                  0\n",
      "UserID                  0\n",
      "Username              112\n",
      "User_ScreenName         0\n",
      "Location           573363\n",
      "Truncated               0\n",
      "Attempts            63226\n",
      "Match               48797\n",
      "dtype: int64\n"
     ]
    },
    {
     "data": {
      "text/plain": [
       "WordleID                0\n",
       "ID                      0\n",
       "Created_At              0\n",
       "Text                    0\n",
       "Source                  0\n",
       "UserID                  0\n",
       "Username              112\n",
       "User_ScreenName         0\n",
       "Location           560939\n",
       "Truncated               0\n",
       "Attempts            42054\n",
       "Match                   0\n",
       "dtype: int64"
      ]
     },
     "execution_count": 9,
     "metadata": {},
     "output_type": "execute_result"
    }
   ],
   "source": [
    "print(wordle.isnull().sum())\n",
    "wordle = wordle.dropna(subset=['Match'])\n",
    "wordle.isnull().sum()"
   ]
  },
  {
   "cell_type": "code",
   "execution_count": 10,
   "id": "6d84d87a-11d4-45a2-8071-4d1a73a3876c",
   "metadata": {},
   "outputs": [],
   "source": [
    "wordle['Match'] = wordle['Match'].astype(str)\n",
    "wordle['Match'] = wordle['Match'].apply(lambda x: [x[i:i+5] for i in range(0, len(x), 5)])"
   ]
  },
  {
   "cell_type": "code",
   "execution_count": 11,
   "id": "2c716c83-acf3-4fd9-9ef2-4e3ff452689e",
   "metadata": {},
   "outputs": [
    {
     "data": {
      "text/html": [
       "<div>\n",
       "<style scoped>\n",
       "    .dataframe tbody tr th:only-of-type {\n",
       "        vertical-align: middle;\n",
       "    }\n",
       "\n",
       "    .dataframe tbody tr th {\n",
       "        vertical-align: top;\n",
       "    }\n",
       "\n",
       "    .dataframe thead th {\n",
       "        text-align: right;\n",
       "    }\n",
       "</style>\n",
       "<table border=\"1\" class=\"dataframe\">\n",
       "  <thead>\n",
       "    <tr style=\"text-align: right;\">\n",
       "      <th></th>\n",
       "      <th>WordleID</th>\n",
       "      <th>ID</th>\n",
       "      <th>Created_At</th>\n",
       "      <th>Text</th>\n",
       "      <th>Source</th>\n",
       "      <th>UserID</th>\n",
       "      <th>Username</th>\n",
       "      <th>User_ScreenName</th>\n",
       "      <th>Location</th>\n",
       "      <th>Truncated</th>\n",
       "      <th>Attempts</th>\n",
       "      <th>Match</th>\n",
       "    </tr>\n",
       "  </thead>\n",
       "  <tbody>\n",
       "    <tr>\n",
       "      <th>0</th>\n",
       "      <td>254</td>\n",
       "      <td>1498447921448034305</td>\n",
       "      <td>2022-02-28 23:59:58+00:00</td>\n",
       "      <td>Wordle 254 3/6\\n\\n🟨🟨⬛⬛⬛\\n🟨⬛🟨⬛🟩\\n🟩🟩🟩🟩🟩</td>\n",
       "      <td>Twitter for iPhone</td>\n",
       "      <td>3.681676e+07</td>\n",
       "      <td>Leslie Brown</td>\n",
       "      <td>live_laugh_pray</td>\n",
       "      <td>Haida Gwaii</td>\n",
       "      <td>False</td>\n",
       "      <td>3</td>\n",
       "      <td>[🟨🟨⬛⬛⬛, 🟨⬛🟨⬛🟩, 🟩🟩🟩🟩🟩]</td>\n",
       "    </tr>\n",
       "    <tr>\n",
       "      <th>1</th>\n",
       "      <td>254</td>\n",
       "      <td>1498447918184996864</td>\n",
       "      <td>2022-02-28 23:59:58+00:00</td>\n",
       "      <td>Wordle 254 4/6\\n\\n⬛⬛⬛⬛🟩\\n⬛⬛⬛⬛🟩\\n⬛🟩⬛⬛🟩\\n🟩🟩🟩🟩🟩\\n...</td>\n",
       "      <td>Twitter for iPhone</td>\n",
       "      <td>4.825910e+08</td>\n",
       "      <td>Dylan Sobo</td>\n",
       "      <td>DaBolt727</td>\n",
       "      <td>Largo, FL / Bradenton|FGCU</td>\n",
       "      <td>False</td>\n",
       "      <td>4</td>\n",
       "      <td>[⬛⬛⬛⬛🟩, ⬛⬛⬛⬛🟩, ⬛🟩⬛⬛🟩, 🟩🟩🟩🟩🟩]</td>\n",
       "    </tr>\n",
       "    <tr>\n",
       "      <th>2</th>\n",
       "      <td>254</td>\n",
       "      <td>1498447910173921282</td>\n",
       "      <td>2022-02-28 23:59:56+00:00</td>\n",
       "      <td>Wordle 254 3/6\\n\\n⬛⬛⬛⬛🟩\\n⬛⬛🟩⬛🟩\\n🟩🟩🟩🟩🟩</td>\n",
       "      <td>Twitter for iPhone</td>\n",
       "      <td>1.397624e+18</td>\n",
       "      <td>🖤</td>\n",
       "      <td>wengojos</td>\n",
       "      <td>23 • she/her • 🇵🇭🇺🇸</td>\n",
       "      <td>False</td>\n",
       "      <td>3</td>\n",
       "      <td>[⬛⬛⬛⬛🟩, ⬛⬛🟩⬛🟩, 🟩🟩🟩🟩🟩]</td>\n",
       "    </tr>\n",
       "    <tr>\n",
       "      <th>3</th>\n",
       "      <td>254</td>\n",
       "      <td>1498447901797801989</td>\n",
       "      <td>2022-02-28 23:59:54+00:00</td>\n",
       "      <td>Wordle 254 3/6\\n\\n⬛⬛⬛🟨⬛\\n⬛🟨⬛⬛🟩\\n🟩🟩🟩🟩🟩</td>\n",
       "      <td>Twitter for iPhone</td>\n",
       "      <td>1.255905e+18</td>\n",
       "      <td>Dustin Waters</td>\n",
       "      <td>DustinWaters12</td>\n",
       "      <td>NaN</td>\n",
       "      <td>False</td>\n",
       "      <td>3</td>\n",
       "      <td>[⬛⬛⬛🟨⬛, ⬛🟨⬛⬛🟩, 🟩🟩🟩🟩🟩]</td>\n",
       "    </tr>\n",
       "    <tr>\n",
       "      <th>4</th>\n",
       "      <td>254</td>\n",
       "      <td>1498447896911527938</td>\n",
       "      <td>2022-02-28 23:59:53+00:00</td>\n",
       "      <td>Wordle 254 3/6\\n\\n⬛🟨⬛⬛⬛\\n🟩🟩🟩⬛🟩\\n🟩🟩🟩🟩🟩</td>\n",
       "      <td>Twitter for iPhone</td>\n",
       "      <td>2.528937e+08</td>\n",
       "      <td>R. Colin</td>\n",
       "      <td>rollin_fatty</td>\n",
       "      <td>Richmond, VA</td>\n",
       "      <td>False</td>\n",
       "      <td>3</td>\n",
       "      <td>[⬛🟨⬛⬛⬛, 🟩🟩🟩⬛🟩, 🟩🟩🟩🟩🟩]</td>\n",
       "    </tr>\n",
       "  </tbody>\n",
       "</table>\n",
       "</div>"
      ],
      "text/plain": [
       "   WordleID                   ID                 Created_At  \\\n",
       "0       254  1498447921448034305  2022-02-28 23:59:58+00:00   \n",
       "1       254  1498447918184996864  2022-02-28 23:59:58+00:00   \n",
       "2       254  1498447910173921282  2022-02-28 23:59:56+00:00   \n",
       "3       254  1498447901797801989  2022-02-28 23:59:54+00:00   \n",
       "4       254  1498447896911527938  2022-02-28 23:59:53+00:00   \n",
       "\n",
       "                                                Text              Source  \\\n",
       "0              Wordle 254 3/6\\n\\n🟨🟨⬛⬛⬛\\n🟨⬛🟨⬛🟩\\n🟩🟩🟩🟩🟩  Twitter for iPhone   \n",
       "1  Wordle 254 4/6\\n\\n⬛⬛⬛⬛🟩\\n⬛⬛⬛⬛🟩\\n⬛🟩⬛⬛🟩\\n🟩🟩🟩🟩🟩\\n...  Twitter for iPhone   \n",
       "2              Wordle 254 3/6\\n\\n⬛⬛⬛⬛🟩\\n⬛⬛🟩⬛🟩\\n🟩🟩🟩🟩🟩  Twitter for iPhone   \n",
       "3              Wordle 254 3/6\\n\\n⬛⬛⬛🟨⬛\\n⬛🟨⬛⬛🟩\\n🟩🟩🟩🟩🟩  Twitter for iPhone   \n",
       "4              Wordle 254 3/6\\n\\n⬛🟨⬛⬛⬛\\n🟩🟩🟩⬛🟩\\n🟩🟩🟩🟩🟩  Twitter for iPhone   \n",
       "\n",
       "         UserID       Username  User_ScreenName                    Location  \\\n",
       "0  3.681676e+07   Leslie Brown  live_laugh_pray                 Haida Gwaii   \n",
       "1  4.825910e+08     Dylan Sobo        DaBolt727  Largo, FL / Bradenton|FGCU   \n",
       "2  1.397624e+18              🖤         wengojos         23 • she/her • 🇵🇭🇺🇸   \n",
       "3  1.255905e+18  Dustin Waters   DustinWaters12                         NaN   \n",
       "4  2.528937e+08       R. Colin     rollin_fatty                Richmond, VA   \n",
       "\n",
       "   Truncated Attempts                         Match  \n",
       "0      False        3         [🟨🟨⬛⬛⬛, 🟨⬛🟨⬛🟩, 🟩🟩🟩🟩🟩]  \n",
       "1      False        4  [⬛⬛⬛⬛🟩, ⬛⬛⬛⬛🟩, ⬛🟩⬛⬛🟩, 🟩🟩🟩🟩🟩]  \n",
       "2      False        3         [⬛⬛⬛⬛🟩, ⬛⬛🟩⬛🟩, 🟩🟩🟩🟩🟩]  \n",
       "3      False        3         [⬛⬛⬛🟨⬛, ⬛🟨⬛⬛🟩, 🟩🟩🟩🟩🟩]  \n",
       "4      False        3         [⬛🟨⬛⬛⬛, 🟩🟩🟩⬛🟩, 🟩🟩🟩🟩🟩]  "
      ]
     },
     "execution_count": 11,
     "metadata": {},
     "output_type": "execute_result"
    }
   ],
   "source": [
    "wordle.head()"
   ]
  },
  {
   "cell_type": "markdown",
   "id": "6548e6aa",
   "metadata": {},
   "source": [
    "L'informazione più affidabile su cui basarsi per identificare un utente all'interno del dataset è UserID. L'assenza di valori nulli per questo attributo ci fornisce maggiore sicurezza. Possiamo allora fare a meno delle colonne Username e User_ScreenName che possono contenere identificativi non unici e modificabili da parte dell'utente nel tempo.\n",
    "\n",
    "Notiamo inoltre che la colonna Location contiene anche valori nulli e valori errati. Come ulteriore verifica, su Kaggle ci viene suggerito che il 27% dei valori è nullo, il 72% non viene associato a una macrocategoria, mentre l'1% dei tweet risulta provenire dagli Stati Uniti. Dopo aver verificato a nostra volta che il numero di valori nulli per questa caratteristica è elevato, eliminiamo la colonna. "
   ]
  },
  {
   "cell_type": "code",
   "execution_count": 12,
   "id": "c528eae7-0830-4516-9158-72a378fcd493",
   "metadata": {},
   "outputs": [],
   "source": [
    "wordle = wordle[wordle['Truncated'] != True]\n",
    "wordle.drop(columns=['Username', 'User_ScreenName', 'Location', 'Truncated', 'Text'], inplace=True)"
   ]
  },
  {
   "cell_type": "markdown",
   "id": "0ac482df-c4cf-4ab7-b503-5e6539199944",
   "metadata": {},
   "source": [
    "Nel nostro dataset a ogni X corrisponde una partita persa, quindi a 6 tentativi. "
   ]
  },
  {
   "cell_type": "code",
   "execution_count": 13,
   "id": "76cd420c-6dfb-4ebb-9b56-1ef7cb37e20e",
   "metadata": {},
   "outputs": [
    {
     "data": {
      "text/plain": [
       "WordleID          0\n",
       "ID                0\n",
       "Created_At        0\n",
       "Source            0\n",
       "UserID            0\n",
       "Attempts      39712\n",
       "Match             0\n",
       "dtype: int64"
      ]
     },
     "execution_count": 13,
     "metadata": {},
     "output_type": "execute_result"
    }
   ],
   "source": [
    "wordle.isnull().sum()"
   ]
  },
  {
   "cell_type": "code",
   "execution_count": 14,
   "id": "c95dca58-447f-481c-84b4-8994c71e2fb0",
   "metadata": {},
   "outputs": [
    {
     "data": {
      "text/html": [
       "<div>\n",
       "<style scoped>\n",
       "    .dataframe tbody tr th:only-of-type {\n",
       "        vertical-align: middle;\n",
       "    }\n",
       "\n",
       "    .dataframe tbody tr th {\n",
       "        vertical-align: top;\n",
       "    }\n",
       "\n",
       "    .dataframe thead th {\n",
       "        text-align: right;\n",
       "    }\n",
       "</style>\n",
       "<table border=\"1\" class=\"dataframe\">\n",
       "  <thead>\n",
       "    <tr style=\"text-align: right;\">\n",
       "      <th></th>\n",
       "      <th>WordleID</th>\n",
       "      <th>ID</th>\n",
       "      <th>Created_At</th>\n",
       "      <th>Source</th>\n",
       "      <th>UserID</th>\n",
       "      <th>Attempts</th>\n",
       "      <th>Match</th>\n",
       "    </tr>\n",
       "  </thead>\n",
       "  <tbody>\n",
       "    <tr>\n",
       "      <th>0</th>\n",
       "      <td>254</td>\n",
       "      <td>1498447921448034305</td>\n",
       "      <td>2022-02-28 23:59:58+00:00</td>\n",
       "      <td>Twitter for iPhone</td>\n",
       "      <td>3.681676e+07</td>\n",
       "      <td>3</td>\n",
       "      <td>[🟨🟨⬛⬛⬛, 🟨⬛🟨⬛🟩, 🟩🟩🟩🟩🟩]</td>\n",
       "    </tr>\n",
       "    <tr>\n",
       "      <th>1</th>\n",
       "      <td>254</td>\n",
       "      <td>1498447918184996864</td>\n",
       "      <td>2022-02-28 23:59:58+00:00</td>\n",
       "      <td>Twitter for iPhone</td>\n",
       "      <td>4.825910e+08</td>\n",
       "      <td>4</td>\n",
       "      <td>[⬛⬛⬛⬛🟩, ⬛⬛⬛⬛🟩, ⬛🟩⬛⬛🟩, 🟩🟩🟩🟩🟩]</td>\n",
       "    </tr>\n",
       "    <tr>\n",
       "      <th>2</th>\n",
       "      <td>254</td>\n",
       "      <td>1498447910173921282</td>\n",
       "      <td>2022-02-28 23:59:56+00:00</td>\n",
       "      <td>Twitter for iPhone</td>\n",
       "      <td>1.397624e+18</td>\n",
       "      <td>3</td>\n",
       "      <td>[⬛⬛⬛⬛🟩, ⬛⬛🟩⬛🟩, 🟩🟩🟩🟩🟩]</td>\n",
       "    </tr>\n",
       "    <tr>\n",
       "      <th>3</th>\n",
       "      <td>254</td>\n",
       "      <td>1498447901797801989</td>\n",
       "      <td>2022-02-28 23:59:54+00:00</td>\n",
       "      <td>Twitter for iPhone</td>\n",
       "      <td>1.255905e+18</td>\n",
       "      <td>3</td>\n",
       "      <td>[⬛⬛⬛🟨⬛, ⬛🟨⬛⬛🟩, 🟩🟩🟩🟩🟩]</td>\n",
       "    </tr>\n",
       "    <tr>\n",
       "      <th>4</th>\n",
       "      <td>254</td>\n",
       "      <td>1498447896911527938</td>\n",
       "      <td>2022-02-28 23:59:53+00:00</td>\n",
       "      <td>Twitter for iPhone</td>\n",
       "      <td>2.528937e+08</td>\n",
       "      <td>3</td>\n",
       "      <td>[⬛🟨⬛⬛⬛, 🟩🟩🟩⬛🟩, 🟩🟩🟩🟩🟩]</td>\n",
       "    </tr>\n",
       "  </tbody>\n",
       "</table>\n",
       "</div>"
      ],
      "text/plain": [
       "   WordleID                   ID                 Created_At  \\\n",
       "0       254  1498447921448034305  2022-02-28 23:59:58+00:00   \n",
       "1       254  1498447918184996864  2022-02-28 23:59:58+00:00   \n",
       "2       254  1498447910173921282  2022-02-28 23:59:56+00:00   \n",
       "3       254  1498447901797801989  2022-02-28 23:59:54+00:00   \n",
       "4       254  1498447896911527938  2022-02-28 23:59:53+00:00   \n",
       "\n",
       "               Source        UserID Attempts                         Match  \n",
       "0  Twitter for iPhone  3.681676e+07        3         [🟨🟨⬛⬛⬛, 🟨⬛🟨⬛🟩, 🟩🟩🟩🟩🟩]  \n",
       "1  Twitter for iPhone  4.825910e+08        4  [⬛⬛⬛⬛🟩, ⬛⬛⬛⬛🟩, ⬛🟩⬛⬛🟩, 🟩🟩🟩🟩🟩]  \n",
       "2  Twitter for iPhone  1.397624e+18        3         [⬛⬛⬛⬛🟩, ⬛⬛🟩⬛🟩, 🟩🟩🟩🟩🟩]  \n",
       "3  Twitter for iPhone  1.255905e+18        3         [⬛⬛⬛🟨⬛, ⬛🟨⬛⬛🟩, 🟩🟩🟩🟩🟩]  \n",
       "4  Twitter for iPhone  2.528937e+08        3         [⬛🟨⬛⬛⬛, 🟩🟩🟩⬛🟩, 🟩🟩🟩🟩🟩]  "
      ]
     },
     "execution_count": 14,
     "metadata": {},
     "output_type": "execute_result"
    }
   ],
   "source": [
    "#wordle['Win'] = ~wordle['Attempts'].isin(['X', np.nan])\n",
    "wordle['Attempts'] = wordle['Attempts'].replace('X', '6')\n",
    "\n",
    "# Print the first few rows to check the result\n",
    "wordle.head()"
   ]
  },
  {
   "cell_type": "code",
   "execution_count": 15,
   "id": "5b79dfd4-f5ea-47c2-945d-b207467337fc",
   "metadata": {},
   "outputs": [
    {
     "data": {
      "text/plain": [
       "WordleID          0\n",
       "ID                0\n",
       "Created_At        0\n",
       "Source            0\n",
       "UserID            0\n",
       "Attempts      39712\n",
       "Match             0\n",
       "dtype: int64"
      ]
     },
     "execution_count": 15,
     "metadata": {},
     "output_type": "execute_result"
    }
   ],
   "source": [
    "wordle.isnull().sum()"
   ]
  },
  {
   "cell_type": "markdown",
   "id": "178c2886-ef8f-46c5-9c1c-5c6d8e384866",
   "metadata": {},
   "source": [
    "Verifichiamo che i nostri dati siano coerenti. Per prima cosa verifichiamo che per ogni campione il numero di gruppi da 5 quadrati consecutivi appena estratto sia uguale al valore contenuto nella caratteristica 'Attempts'. Se i due non sono uguali può significare che la partita riportata nel tweet era sbagliata, che nel tweet è riportata più di una partita o che Attempts non rispecchia la partita presente nel tweet."
   ]
  },
  {
   "cell_type": "code",
   "execution_count": 16,
   "id": "787e4171-e67c-4813-97f5-36fbef4b30d2",
   "metadata": {},
   "outputs": [
    {
     "data": {
      "text/plain": [
       "WordleID      0\n",
       "ID            0\n",
       "Created_At    0\n",
       "Source        0\n",
       "UserID        0\n",
       "Attempts      0\n",
       "Match         0\n",
       "dtype: int64"
      ]
     },
     "execution_count": 16,
     "metadata": {},
     "output_type": "execute_result"
    }
   ],
   "source": [
    "wordle = wordle.dropna(subset=['Attempts'])\n",
    "wordle.isnull().sum()"
   ]
  },
  {
   "cell_type": "code",
   "execution_count": 17,
   "id": "f28ceae2-db44-45d6-878e-f23d3524fb08",
   "metadata": {},
   "outputs": [
    {
     "data": {
      "text/plain": [
       "2033741"
      ]
     },
     "execution_count": 17,
     "metadata": {},
     "output_type": "execute_result"
    }
   ],
   "source": [
    "wordle.shape[0]"
   ]
  },
  {
   "cell_type": "code",
   "execution_count": 18,
   "id": "d5730e0a-161c-402a-b225-a272806671bc",
   "metadata": {},
   "outputs": [
    {
     "name": "stdout",
     "output_type": "stream",
     "text": [
      "Number of rows where the number of elements in 'Match' is not equal to 'Attempts': 11528\n",
      "Total number of rows: 2033741\n"
     ]
    }
   ],
   "source": [
    "\n",
    "wordle['Attempts'] = wordle['Attempts'].astype(int)\n",
    "\n",
    "def verify_length(row):\n",
    "    # Get the length of the 'Text' array\n",
    "    text_length = len(row['Match'])\n",
    "    \n",
    "    # Get the value in the 'Attempts' column\n",
    "    attempts = row['Attempts']\n",
    "    \n",
    "    # Check if the lengths match\n",
    "    return text_length != attempts\n",
    "\n",
    "# Count the number of rows where lengths do not match\n",
    "num_mismatched_rows = wordle.apply(verify_length, axis=1).sum()\n",
    "\n",
    "print(\"Number of rows where the number of elements in 'Match' is not equal to 'Attempts':\", num_mismatched_rows)\n",
    "print(\"Total number of rows:\", wordle.shape[0])"
   ]
  },
  {
   "cell_type": "markdown",
   "id": "02dbaaad-63f6-45fd-9039-b4e3ff1d0f04",
   "metadata": {},
   "source": [
    "Eliminiamo le righe dove c'è incoerenza. "
   ]
  },
  {
   "cell_type": "code",
   "execution_count": 19,
   "id": "284fcaa4-1c93-4b92-af22-096c8f72bb7a",
   "metadata": {},
   "outputs": [
    {
     "name": "stdout",
     "output_type": "stream",
     "text": [
      "2022213\n"
     ]
    },
    {
     "data": {
      "text/html": [
       "<div>\n",
       "<style scoped>\n",
       "    .dataframe tbody tr th:only-of-type {\n",
       "        vertical-align: middle;\n",
       "    }\n",
       "\n",
       "    .dataframe tbody tr th {\n",
       "        vertical-align: top;\n",
       "    }\n",
       "\n",
       "    .dataframe thead th {\n",
       "        text-align: right;\n",
       "    }\n",
       "</style>\n",
       "<table border=\"1\" class=\"dataframe\">\n",
       "  <thead>\n",
       "    <tr style=\"text-align: right;\">\n",
       "      <th></th>\n",
       "      <th>WordleID</th>\n",
       "      <th>ID</th>\n",
       "      <th>Created_At</th>\n",
       "      <th>Source</th>\n",
       "      <th>UserID</th>\n",
       "      <th>Attempts</th>\n",
       "      <th>Match</th>\n",
       "    </tr>\n",
       "  </thead>\n",
       "  <tbody>\n",
       "    <tr>\n",
       "      <th>0</th>\n",
       "      <td>254</td>\n",
       "      <td>1498447921448034305</td>\n",
       "      <td>2022-02-28 23:59:58+00:00</td>\n",
       "      <td>Twitter for iPhone</td>\n",
       "      <td>3.681676e+07</td>\n",
       "      <td>3</td>\n",
       "      <td>[🟨🟨⬛⬛⬛, 🟨⬛🟨⬛🟩, 🟩🟩🟩🟩🟩]</td>\n",
       "    </tr>\n",
       "    <tr>\n",
       "      <th>1</th>\n",
       "      <td>254</td>\n",
       "      <td>1498447918184996864</td>\n",
       "      <td>2022-02-28 23:59:58+00:00</td>\n",
       "      <td>Twitter for iPhone</td>\n",
       "      <td>4.825910e+08</td>\n",
       "      <td>4</td>\n",
       "      <td>[⬛⬛⬛⬛🟩, ⬛⬛⬛⬛🟩, ⬛🟩⬛⬛🟩, 🟩🟩🟩🟩🟩]</td>\n",
       "    </tr>\n",
       "    <tr>\n",
       "      <th>2</th>\n",
       "      <td>254</td>\n",
       "      <td>1498447910173921282</td>\n",
       "      <td>2022-02-28 23:59:56+00:00</td>\n",
       "      <td>Twitter for iPhone</td>\n",
       "      <td>1.397624e+18</td>\n",
       "      <td>3</td>\n",
       "      <td>[⬛⬛⬛⬛🟩, ⬛⬛🟩⬛🟩, 🟩🟩🟩🟩🟩]</td>\n",
       "    </tr>\n",
       "    <tr>\n",
       "      <th>3</th>\n",
       "      <td>254</td>\n",
       "      <td>1498447901797801989</td>\n",
       "      <td>2022-02-28 23:59:54+00:00</td>\n",
       "      <td>Twitter for iPhone</td>\n",
       "      <td>1.255905e+18</td>\n",
       "      <td>3</td>\n",
       "      <td>[⬛⬛⬛🟨⬛, ⬛🟨⬛⬛🟩, 🟩🟩🟩🟩🟩]</td>\n",
       "    </tr>\n",
       "    <tr>\n",
       "      <th>4</th>\n",
       "      <td>254</td>\n",
       "      <td>1498447896911527938</td>\n",
       "      <td>2022-02-28 23:59:53+00:00</td>\n",
       "      <td>Twitter for iPhone</td>\n",
       "      <td>2.528937e+08</td>\n",
       "      <td>3</td>\n",
       "      <td>[⬛🟨⬛⬛⬛, 🟩🟩🟩⬛🟩, 🟩🟩🟩🟩🟩]</td>\n",
       "    </tr>\n",
       "  </tbody>\n",
       "</table>\n",
       "</div>"
      ],
      "text/plain": [
       "   WordleID                   ID                 Created_At  \\\n",
       "0       254  1498447921448034305  2022-02-28 23:59:58+00:00   \n",
       "1       254  1498447918184996864  2022-02-28 23:59:58+00:00   \n",
       "2       254  1498447910173921282  2022-02-28 23:59:56+00:00   \n",
       "3       254  1498447901797801989  2022-02-28 23:59:54+00:00   \n",
       "4       254  1498447896911527938  2022-02-28 23:59:53+00:00   \n",
       "\n",
       "               Source        UserID  Attempts                         Match  \n",
       "0  Twitter for iPhone  3.681676e+07         3         [🟨🟨⬛⬛⬛, 🟨⬛🟨⬛🟩, 🟩🟩🟩🟩🟩]  \n",
       "1  Twitter for iPhone  4.825910e+08         4  [⬛⬛⬛⬛🟩, ⬛⬛⬛⬛🟩, ⬛🟩⬛⬛🟩, 🟩🟩🟩🟩🟩]  \n",
       "2  Twitter for iPhone  1.397624e+18         3         [⬛⬛⬛⬛🟩, ⬛⬛🟩⬛🟩, 🟩🟩🟩🟩🟩]  \n",
       "3  Twitter for iPhone  1.255905e+18         3         [⬛⬛⬛🟨⬛, ⬛🟨⬛⬛🟩, 🟩🟩🟩🟩🟩]  \n",
       "4  Twitter for iPhone  2.528937e+08         3         [⬛🟨⬛⬛⬛, 🟩🟩🟩⬛🟩, 🟩🟩🟩🟩🟩]  "
      ]
     },
     "execution_count": 19,
     "metadata": {},
     "output_type": "execute_result"
    }
   ],
   "source": [
    "# Create a boolean mask indicating whether the number of elements in 'Text' matches 'Attempts'\n",
    "mask = wordle.apply(lambda row: len(row['Match']) == row['Attempts'], axis=1)\n",
    "\n",
    "# Drop the rows where the number of elements in 'Text' does not match 'Attempts'\n",
    "wordle = wordle[mask]\n",
    "\n",
    "# Print the resulting DataFrame\n",
    "print(wordle.shape[0])\n",
    "wordle.head()"
   ]
  },
  {
   "cell_type": "markdown",
   "id": "52338a05-4e1a-4e06-9282-31a6a5adb372",
   "metadata": {},
   "source": [
    "Ora che sappiamo che il numero di gruppi di quadrati consecutivi coincide sempre col numero di tentativi, eliminiamo tutte quelle righe che contengono valori sbagliati del campo 'Match' (come ad esempio 6 righe di 5 quadrati tutti verdi). "
   ]
  },
  {
   "cell_type": "code",
   "execution_count": 20,
   "id": "e09528b3-d2f7-4e30-9b24-d95777a332e6",
   "metadata": {},
   "outputs": [
    {
     "name": "stdout",
     "output_type": "stream",
     "text": [
      "2022184\n"
     ]
    }
   ],
   "source": [
    "def meets_conditions(row):\n",
    "    # Check if any element in 'Text' contains five 🟩 or five 🟧 emojis\n",
    "    for i, text in enumerate(row['Match']):\n",
    "        if text.count('🟩') == 5: #or text.count('🟧') == 5:\n",
    "            # Check if it's the last element of the array\n",
    "            if i == len(row['Match']) - 1:\n",
    "                # If the condition is met and it's the last element, check if it's the only one\n",
    "                num_matching_elements = sum(1 for t in row['Match'] if t.count('🟩') == 5) #or t.count('🟧') == 5)\n",
    "                if num_matching_elements == 1:\n",
    "                    return True\n",
    "                else:\n",
    "                    return False\n",
    "            else:\n",
    "                return False\n",
    "    # If no element contains five 🟩 or five 🟧 emojis, return True\n",
    "    return True\n",
    "\n",
    "wrong_rows = wordle[~wordle.apply(meets_conditions, axis=1)]\n",
    "\n",
    "# Apply the function to each row of the DataFrame to filter out rows that don't meet the conditions\n",
    "wordle = wordle[wordle.apply(meets_conditions, axis=1)]\n",
    "print(wordle.shape[0])"
   ]
  },
  {
   "cell_type": "code",
   "execution_count": 21,
   "id": "6661b4f4-1d65-4396-83b0-5c0524081869",
   "metadata": {},
   "outputs": [
    {
     "data": {
      "text/html": [
       "<div>\n",
       "<style scoped>\n",
       "    .dataframe tbody tr th:only-of-type {\n",
       "        vertical-align: middle;\n",
       "    }\n",
       "\n",
       "    .dataframe tbody tr th {\n",
       "        vertical-align: top;\n",
       "    }\n",
       "\n",
       "    .dataframe thead th {\n",
       "        text-align: right;\n",
       "    }\n",
       "</style>\n",
       "<table border=\"1\" class=\"dataframe\">\n",
       "  <thead>\n",
       "    <tr style=\"text-align: right;\">\n",
       "      <th></th>\n",
       "      <th>WordleID</th>\n",
       "      <th>ID</th>\n",
       "      <th>Created_At</th>\n",
       "      <th>Source</th>\n",
       "      <th>UserID</th>\n",
       "      <th>Attempts</th>\n",
       "      <th>Match</th>\n",
       "    </tr>\n",
       "  </thead>\n",
       "  <tbody>\n",
       "    <tr>\n",
       "      <th>29140</th>\n",
       "      <td>255</td>\n",
       "      <td>1498772741654261763</td>\n",
       "      <td>2022-03-01 21:30:42+00:00</td>\n",
       "      <td>Twitter for Android</td>\n",
       "      <td>1.420928e+18</td>\n",
       "      <td>5</td>\n",
       "      <td>[🟩🟩🟩🟩🟩, 🟩🟩🟩🟩🟩, 🟩🟩🟩🟩🟩, 🟩🟩🟩🟩🟩, 🟩🟩🟩🟩🟩]</td>\n",
       "    </tr>\n",
       "    <tr>\n",
       "      <th>44728</th>\n",
       "      <td>256</td>\n",
       "      <td>1499150725229826052</td>\n",
       "      <td>2022-03-02 22:32:40+00:00</td>\n",
       "      <td>Twitter for iPhone</td>\n",
       "      <td>1.190034e+18</td>\n",
       "      <td>6</td>\n",
       "      <td>[🟩🟩🟩🟩🟩, 🟩🟩🟩🟩🟩, 🟩🟩🟩🟩🟩, 🟩🟩🟩🟩🟩, 🟩🟩🟩🟩🟩, 🟩🟩🟩🟩🟩]</td>\n",
       "    </tr>\n",
       "    <tr>\n",
       "      <th>45083</th>\n",
       "      <td>256</td>\n",
       "      <td>1499149451822260228</td>\n",
       "      <td>2022-03-02 22:27:36+00:00</td>\n",
       "      <td>Twitter for iPhone</td>\n",
       "      <td>1.481837e+18</td>\n",
       "      <td>6</td>\n",
       "      <td>[🟩🟩🟩🟩🟩, 🟩🟩🟩🟩🟩, 🟩🟩🟩🟩🟩, 🟩🟩🟩🟩🟩, 🟩🟩🟩🟩🟩, 🟩🟩🟩🟩🟩]</td>\n",
       "    </tr>\n",
       "    <tr>\n",
       "      <th>45186</th>\n",
       "      <td>256</td>\n",
       "      <td>1499149042852397057</td>\n",
       "      <td>2022-03-02 22:25:59+00:00</td>\n",
       "      <td>Twitter for iPhone</td>\n",
       "      <td>1.456332e+18</td>\n",
       "      <td>6</td>\n",
       "      <td>[🟩🟩🟩🟩🟩, 🟩🟩🟩🟩🟩, 🟩🟩🟩🟩🟩, 🟩🟩🟩🟩🟩, 🟩🟩🟩🟩🟩, 🟩🟩🟩🟩🟩]</td>\n",
       "    </tr>\n",
       "    <tr>\n",
       "      <th>54251</th>\n",
       "      <td>256</td>\n",
       "      <td>1499116431148945410</td>\n",
       "      <td>2022-03-02 20:16:24+00:00</td>\n",
       "      <td>Twitter Web App</td>\n",
       "      <td>1.021135e+18</td>\n",
       "      <td>6</td>\n",
       "      <td>[⬛🟩🟩🟩🟩, 🟩🟩🟨🟨🟨, 🟩🟩🟩🟩🟩, 🟩🟩🟩🟩🟩, 🟩🟩🟩🟩🟩, ⬛🟩⬛⬛🟩]</td>\n",
       "    </tr>\n",
       "  </tbody>\n",
       "</table>\n",
       "</div>"
      ],
      "text/plain": [
       "       WordleID                   ID                 Created_At  \\\n",
       "29140       255  1498772741654261763  2022-03-01 21:30:42+00:00   \n",
       "44728       256  1499150725229826052  2022-03-02 22:32:40+00:00   \n",
       "45083       256  1499149451822260228  2022-03-02 22:27:36+00:00   \n",
       "45186       256  1499149042852397057  2022-03-02 22:25:59+00:00   \n",
       "54251       256  1499116431148945410  2022-03-02 20:16:24+00:00   \n",
       "\n",
       "                    Source        UserID  Attempts  \\\n",
       "29140  Twitter for Android  1.420928e+18         5   \n",
       "44728   Twitter for iPhone  1.190034e+18         6   \n",
       "45083   Twitter for iPhone  1.481837e+18         6   \n",
       "45186   Twitter for iPhone  1.456332e+18         6   \n",
       "54251      Twitter Web App  1.021135e+18         6   \n",
       "\n",
       "                                            Match  \n",
       "29140         [🟩🟩🟩🟩🟩, 🟩🟩🟩🟩🟩, 🟩🟩🟩🟩🟩, 🟩🟩🟩🟩🟩, 🟩🟩🟩🟩🟩]  \n",
       "44728  [🟩🟩🟩🟩🟩, 🟩🟩🟩🟩🟩, 🟩🟩🟩🟩🟩, 🟩🟩🟩🟩🟩, 🟩🟩🟩🟩🟩, 🟩🟩🟩🟩🟩]  \n",
       "45083  [🟩🟩🟩🟩🟩, 🟩🟩🟩🟩🟩, 🟩🟩🟩🟩🟩, 🟩🟩🟩🟩🟩, 🟩🟩🟩🟩🟩, 🟩🟩🟩🟩🟩]  \n",
       "45186  [🟩🟩🟩🟩🟩, 🟩🟩🟩🟩🟩, 🟩🟩🟩🟩🟩, 🟩🟩🟩🟩🟩, 🟩🟩🟩🟩🟩, 🟩🟩🟩🟩🟩]  \n",
       "54251  [⬛🟩🟩🟩🟩, 🟩🟩🟨🟨🟨, 🟩🟩🟩🟩🟩, 🟩🟩🟩🟩🟩, 🟩🟩🟩🟩🟩, ⬛🟩⬛⬛🟩]  "
      ]
     },
     "execution_count": 21,
     "metadata": {},
     "output_type": "execute_result"
    }
   ],
   "source": [
    "wrong_rows.head()"
   ]
  },
  {
   "cell_type": "markdown",
   "id": "e8f21b1d-2c34-4913-a85c-1a7b54490795",
   "metadata": {},
   "source": [
    "Abbiamo effettivamente eliminato dei campioni errati. Creiamo una colonna 'Win' che ci indichi se una partita è stata vinta o persa. "
   ]
  },
  {
   "cell_type": "code",
   "execution_count": 22,
   "id": "5c9be5ab-f902-4cce-870b-6aa4efa88763",
   "metadata": {},
   "outputs": [
    {
     "data": {
      "text/html": [
       "<div>\n",
       "<style scoped>\n",
       "    .dataframe tbody tr th:only-of-type {\n",
       "        vertical-align: middle;\n",
       "    }\n",
       "\n",
       "    .dataframe tbody tr th {\n",
       "        vertical-align: top;\n",
       "    }\n",
       "\n",
       "    .dataframe thead th {\n",
       "        text-align: right;\n",
       "    }\n",
       "</style>\n",
       "<table border=\"1\" class=\"dataframe\">\n",
       "  <thead>\n",
       "    <tr style=\"text-align: right;\">\n",
       "      <th></th>\n",
       "      <th>WordleID</th>\n",
       "      <th>ID</th>\n",
       "      <th>Created_At</th>\n",
       "      <th>Source</th>\n",
       "      <th>UserID</th>\n",
       "      <th>Attempts</th>\n",
       "      <th>Match</th>\n",
       "      <th>Win</th>\n",
       "    </tr>\n",
       "  </thead>\n",
       "  <tbody>\n",
       "    <tr>\n",
       "      <th>0</th>\n",
       "      <td>254</td>\n",
       "      <td>1498447921448034305</td>\n",
       "      <td>2022-02-28 23:59:58+00:00</td>\n",
       "      <td>Twitter for iPhone</td>\n",
       "      <td>3.681676e+07</td>\n",
       "      <td>3</td>\n",
       "      <td>[🟨🟨⬛⬛⬛, 🟨⬛🟨⬛🟩, 🟩🟩🟩🟩🟩]</td>\n",
       "      <td>True</td>\n",
       "    </tr>\n",
       "    <tr>\n",
       "      <th>1</th>\n",
       "      <td>254</td>\n",
       "      <td>1498447918184996864</td>\n",
       "      <td>2022-02-28 23:59:58+00:00</td>\n",
       "      <td>Twitter for iPhone</td>\n",
       "      <td>4.825910e+08</td>\n",
       "      <td>4</td>\n",
       "      <td>[⬛⬛⬛⬛🟩, ⬛⬛⬛⬛🟩, ⬛🟩⬛⬛🟩, 🟩🟩🟩🟩🟩]</td>\n",
       "      <td>True</td>\n",
       "    </tr>\n",
       "    <tr>\n",
       "      <th>2</th>\n",
       "      <td>254</td>\n",
       "      <td>1498447910173921282</td>\n",
       "      <td>2022-02-28 23:59:56+00:00</td>\n",
       "      <td>Twitter for iPhone</td>\n",
       "      <td>1.397624e+18</td>\n",
       "      <td>3</td>\n",
       "      <td>[⬛⬛⬛⬛🟩, ⬛⬛🟩⬛🟩, 🟩🟩🟩🟩🟩]</td>\n",
       "      <td>True</td>\n",
       "    </tr>\n",
       "    <tr>\n",
       "      <th>3</th>\n",
       "      <td>254</td>\n",
       "      <td>1498447901797801989</td>\n",
       "      <td>2022-02-28 23:59:54+00:00</td>\n",
       "      <td>Twitter for iPhone</td>\n",
       "      <td>1.255905e+18</td>\n",
       "      <td>3</td>\n",
       "      <td>[⬛⬛⬛🟨⬛, ⬛🟨⬛⬛🟩, 🟩🟩🟩🟩🟩]</td>\n",
       "      <td>True</td>\n",
       "    </tr>\n",
       "    <tr>\n",
       "      <th>4</th>\n",
       "      <td>254</td>\n",
       "      <td>1498447896911527938</td>\n",
       "      <td>2022-02-28 23:59:53+00:00</td>\n",
       "      <td>Twitter for iPhone</td>\n",
       "      <td>2.528937e+08</td>\n",
       "      <td>3</td>\n",
       "      <td>[⬛🟨⬛⬛⬛, 🟩🟩🟩⬛🟩, 🟩🟩🟩🟩🟩]</td>\n",
       "      <td>True</td>\n",
       "    </tr>\n",
       "  </tbody>\n",
       "</table>\n",
       "</div>"
      ],
      "text/plain": [
       "   WordleID                   ID                 Created_At  \\\n",
       "0       254  1498447921448034305  2022-02-28 23:59:58+00:00   \n",
       "1       254  1498447918184996864  2022-02-28 23:59:58+00:00   \n",
       "2       254  1498447910173921282  2022-02-28 23:59:56+00:00   \n",
       "3       254  1498447901797801989  2022-02-28 23:59:54+00:00   \n",
       "4       254  1498447896911527938  2022-02-28 23:59:53+00:00   \n",
       "\n",
       "               Source        UserID  Attempts                         Match  \\\n",
       "0  Twitter for iPhone  3.681676e+07         3         [🟨🟨⬛⬛⬛, 🟨⬛🟨⬛🟩, 🟩🟩🟩🟩🟩]   \n",
       "1  Twitter for iPhone  4.825910e+08         4  [⬛⬛⬛⬛🟩, ⬛⬛⬛⬛🟩, ⬛🟩⬛⬛🟩, 🟩🟩🟩🟩🟩]   \n",
       "2  Twitter for iPhone  1.397624e+18         3         [⬛⬛⬛⬛🟩, ⬛⬛🟩⬛🟩, 🟩🟩🟩🟩🟩]   \n",
       "3  Twitter for iPhone  1.255905e+18         3         [⬛⬛⬛🟨⬛, ⬛🟨⬛⬛🟩, 🟩🟩🟩🟩🟩]   \n",
       "4  Twitter for iPhone  2.528937e+08         3         [⬛🟨⬛⬛⬛, 🟩🟩🟩⬛🟩, 🟩🟩🟩🟩🟩]   \n",
       "\n",
       "    Win  \n",
       "0  True  \n",
       "1  True  \n",
       "2  True  \n",
       "3  True  \n",
       "4  True  "
      ]
     },
     "execution_count": 22,
     "metadata": {},
     "output_type": "execute_result"
    }
   ],
   "source": [
    "def verify_winning_rows(row):\n",
    "    # Get the last element of the 'Text_Array'\n",
    "    last_element = row['Match'][-1]\n",
    "        \n",
    "    # Check if the last element contains five 🟩 or five 🟧 emojis\n",
    "    if last_element.count('🟩') == 5 or last_element.count('🟧') == 5:\n",
    "            # Check if the last element is the only one containing five 🟩 or five 🟧 emojis\n",
    "            num_matching_elements = sum(1 for text in row['Match'] if text.count('🟩') == 5 or text.count('🟧') == 5)\n",
    "            return num_matching_elements == 1\n",
    "    return False\n",
    "\n",
    "wordle.loc[:, 'Win'] = wordle.apply(verify_winning_rows, axis=1)\n",
    "wordle.head()"
   ]
  },
  {
   "cell_type": "code",
   "execution_count": 23,
   "id": "707898a2-ae60-410c-a9e0-86f6c4552914",
   "metadata": {},
   "outputs": [
    {
     "data": {
      "text/plain": [
       "(2022184, 8)"
      ]
     },
     "execution_count": 23,
     "metadata": {},
     "output_type": "execute_result"
    }
   ],
   "source": [
    "wordle.shape"
   ]
  },
  {
   "cell_type": "markdown",
   "id": "6ed21f0c-7a15-40dc-926f-90935d2da0a6",
   "metadata": {},
   "source": [
    "Manca un'ultimo controllo per la coerenza. Noi ora sappiamo che le righe in Match sono pari al numero di tentativi in Attempts. Sappiamo anche che le righe di Match contengono cinque quadrati verdi alla fine oppure non ne contengono. Ci manca ancora uno scenario da eliminare dal nostro dataset: per esempio se attempts fosse stata 3 e le righe di Match non contengono la win line, si tratta di un errore che è ancora presente. Per eliminarlo verifichiamo che dovunque si abbia win a false e attempt, ossia il numero di righe di Match, sia 6. "
   ]
  },
  {
   "cell_type": "code",
   "execution_count": 24,
   "id": "136204e5-309b-44b0-8db9-2d52bc77c2ce",
   "metadata": {},
   "outputs": [
    {
     "name": "stdout",
     "output_type": "stream",
     "text": [
      "Number of rows where verify_attempts is False: 9\n"
     ]
    }
   ],
   "source": [
    "def verify_attempts(row):\n",
    "    # Check if 'Win' column value is False and 'Attempts' column value is 6\n",
    "    if row['Win']:\n",
    "        return True\n",
    "    if not row['Win'] and row['Attempts'] == 6:\n",
    "        return True\n",
    "    else:\n",
    "        return False\n",
    "\n",
    "# Apply the function to each row of the DataFrame\n",
    "wordle['Verify_Attempts'] = wordle.apply(verify_attempts, axis=1)\n",
    "\n",
    "\n",
    "num_false_attempts_and_win = len(wordle[(wordle['Verify_Attempts'] == False)])\n",
    "\n",
    "print(\"Number of rows where verify_attempts is False:\", num_false_attempts_and_win)"
   ]
  },
  {
   "cell_type": "markdown",
   "id": "eb5bcf47-e6e5-4961-997e-53d65367ca8b",
   "metadata": {},
   "source": [
    "Abbiamo solo 9 righe in cui i giocatori hanno rinunciato prima di terminare la partita, essendo un numero estremamente ridotto rispetto alle dimensioni del dataset scegliamo consapevolmente di rinunciare a questa informazioni"
   ]
  },
  {
   "cell_type": "code",
   "execution_count": 25,
   "id": "571f6252-1753-42bd-88d8-a17723e15147",
   "metadata": {},
   "outputs": [
    {
     "name": "stdout",
     "output_type": "stream",
     "text": [
      "         WordleID                   ID                 Created_At  \\\n",
      "96200         258  1499825004531179523  2022-03-04 19:12:01+00:00   \n",
      "194152        263  1501640204939108361  2022-03-09 19:24:58+00:00   \n",
      "275652        267  1503082157912125440  2022-03-13 18:54:47+00:00   \n",
      "453871        276  1506337660348121090  2022-03-22 18:30:59+00:00   \n",
      "570874        282  1508531683284463626  2022-03-28 19:49:15+00:00   \n",
      "642415        286  1509673321050554368  2022-03-31 23:25:42+00:00   \n",
      "927641        301  1515406068192583687  2022-04-16 19:05:36+00:00   \n",
      "1183027       314  1520156070571909123  2022-04-29 21:40:25+00:00   \n",
      "1744112       353  1534253526037450752  2022-06-07 19:18:40+00:00   \n",
      "\n",
      "                      Source        UserID  Attempts  \\\n",
      "96200        Twitter Web App  1.444373e+18         4   \n",
      "194152    Twitter for iPhone  8.974525e+17         1   \n",
      "275652   Twitter for Android  4.176883e+09         3   \n",
      "453871       Twitter Web App  1.506331e+18         5   \n",
      "570874   Twitter for Android  2.893908e+07         3   \n",
      "642415       Twitter Web App  1.264451e+18         4   \n",
      "927641       Twitter Web App  1.401815e+18         5   \n",
      "1183027   Twitter for iPhone  1.440172e+07         3   \n",
      "1744112  Twitter for Android  2.968821e+06         2   \n",
      "\n",
      "                                       Match    Win  Verify_Attempts  \n",
      "96200           [⬛⬛⬛🟨⬛, 🟨🟨🟨⬛🟨, ⬛⬛🟩🟩⬛, ⬛⬛🟩🟩🟩]  False            False  \n",
      "194152                               [🟩🟩🟩🟩⬛]  False            False  \n",
      "275652                 [🟩⬜⬜⬜⬜, 🟩🟩🟨🟨⬜, 🟩🟩🟩🟩⬜]  False            False  \n",
      "453871   [⬛🟨⬛🟨⬛, ⬛⬛🟨⬛⬛, ⬛⬛🟩⬛⬛, ⬛⬛🟩⬛⬛, ⬛🟩⬛🟩⬛]  False            False  \n",
      "570874                 [⬜⬜⬜⬜⬜, ⬜🟩⬜⬜⬜, 🟩🟩🟩🟩⬜]  False            False  \n",
      "642415          [⬜⬜⬜⬜⬜, 🟨🟩🟨🟩⬜, 🟨🟩🟨🟩⬜, 🟨🟨🟨🟨🟨]  False            False  \n",
      "927641   [⬜🟩🟩🟩⬜, 🟩🟩🟨🟨⬜, 🟩🟩🟩🟩⬜, ⬜🟩🟩🟩⬜, ⬜🟩⬜🟩⬜]  False            False  \n",
      "1183027                [⬜⬜⬜🟨⬜, ⬜🟩⬜⬜🟨, 🟨🟨🟩🟩🟩]  False            False  \n",
      "1744112                       [⬜⬜⬜🟨⬜, 🟨🟨🟨🟨🟨]  False            False  \n"
     ]
    }
   ],
   "source": [
    "print(wordle[(wordle['Verify_Attempts'] == False)])\n",
    "# Drop the 'Verify_Attempts' column as it's no longer needed\n",
    "wordle.drop(wordle[wordle['Verify_Attempts'] == False].index, inplace=True)"
   ]
  },
  {
   "cell_type": "code",
   "execution_count": 26,
   "id": "2edcb351-f024-448d-b43c-7d43175f1aad",
   "metadata": {},
   "outputs": [
    {
     "data": {
      "text/plain": [
       "WordleID           0\n",
       "ID                 0\n",
       "Created_At         0\n",
       "Source             0\n",
       "UserID             0\n",
       "Attempts           0\n",
       "Match              0\n",
       "Win                0\n",
       "Verify_Attempts    0\n",
       "dtype: int64"
      ]
     },
     "execution_count": 26,
     "metadata": {},
     "output_type": "execute_result"
    }
   ],
   "source": [
    "wordle.isnull().sum()"
   ]
  },
  {
   "cell_type": "markdown",
   "id": "b66b04c0-7afd-4ff9-a4dd-efc53d30dbfc",
   "metadata": {},
   "source": [
    "Escludiamo i casi seppur rari (9) dove un utente si è arreso o ha lasciato la partita a metà (vedi ID 1506337660348121090)."
   ]
  },
  {
   "cell_type": "code",
   "execution_count": 27,
   "id": "327c4998-6488-4c29-ae11-7ae7d9329e32",
   "metadata": {},
   "outputs": [
    {
     "name": "stdout",
     "output_type": "stream",
     "text": [
      "2022175\n"
     ]
    }
   ],
   "source": [
    "wordle = wordle[wordle['Verify_Attempts']]\n",
    "\n",
    "# Drop the 'Verify_Attempts' column as it's no longer needed\n",
    "wordle = wordle.drop(columns=['Verify_Attempts'])\n",
    "\n",
    "# Print the updated DataFrame\n",
    "print(wordle.shape[0])"
   ]
  },
  {
   "cell_type": "markdown",
   "id": "df43e858-636b-4e59-b876-74839f5d1c2d",
   "metadata": {},
   "source": [
    "Le regole di Wordle sono le seguenti:\n",
    "\n",
    "  -  è possibile giocare un solo puzzle al giorno\n",
    "  \n",
    "  -  tutti giocano allo stesso puzzle \n",
    "  \n",
    "Dobbiamo quindi verificare che per ciascun WordleID non ci siano più ricorrenze di uno stesso UserID. Nel caso siano presenti più occorrenze, non abbiamo strumenti che ci permettano con certezza di identificare quale occorrenza sia quella corretta da considerare, perciò poichè ambigui li eliminiamo."
   ]
  },
  {
   "cell_type": "code",
   "execution_count": 28,
   "id": "66042412-1c65-4e9c-89bc-a00a7df6e06e",
   "metadata": {},
   "outputs": [
    {
     "name": "stdout",
     "output_type": "stream",
     "text": [
      "2003424\n"
     ]
    }
   ],
   "source": [
    "wordle.drop_duplicates(subset=['UserID', 'WordleID'], keep=False, inplace=True)\n",
    "print(wordle.shape[0])"
   ]
  },
  {
   "cell_type": "markdown",
   "id": "3544667b-7f71-4c77-b04a-611b43535dd3",
   "metadata": {},
   "source": [
    "Nella fase di pulizia e integrazione dei dati abbiamo perso 2140196 - 2003424 = 136.772 campioni sui 2140196 campioni totali, quindi circa il 6.4% della totalità dei campioni perchè duplicati, incompleti, errati o incoerenti. "
   ]
  },
  {
   "cell_type": "markdown",
   "id": "4db0ca8f-d7a5-4f08-a358-06ae3f2b3a27",
   "metadata": {},
   "source": [
    "## Visualizzazione dei dati"
   ]
  },
  {
   "cell_type": "markdown",
   "id": "0e627b07-d581-44a4-ada8-7deef4a82d70",
   "metadata": {},
   "source": [
    "Per realizzare una rappresentazione OLAP utilizziamo i seguenti parametri:\n",
    "- Attività di un utente (tanti tweet caratterizzano un utente molto attivo, pochi tweet uno poco attivo)\n",
    "- Difficoltà di una parola (sulla base della media dei tentativi e del numero di partite perse)\n",
    "- Orario del tweet (mattino, pomeriggio, sera e notte)"
   ]
  },
  {
   "cell_type": "markdown",
   "id": "b3b76f16-2ab7-4b39-b919-a64f0951a0b5",
   "metadata": {},
   "source": [
    "Creiamo una caratteristica _UserActivity_ che per ciascun utente ci indichi quanto questo è attivo. Categorizziamo gli utenti sulla base del numero di tweet da essi pubblicati e il cui contenuto è la propria partita su wordle. \n",
    "Per non raggruppare in maniera sbilanciata, facciamoci guidare nella scelta dal seguente boxplot."
   ]
  },
  {
   "cell_type": "code",
   "execution_count": 29,
   "id": "03129263-88d1-418c-b242-c173dee000f5",
   "metadata": {},
   "outputs": [
    {
     "data": {
      "image/png": "[encoded data removed]",
      "text/plain": [
       "<Figure size 800x600 with 1 Axes>"
      ]
     },
     "metadata": {},
     "output_type": "display_data"
    }
   ],
   "source": [
    "user_activity = wordle['UserID'].value_counts()\n",
    "\n",
    "plt.figure(figsize=(8, 6))\n",
    "plt.boxplot(user_activity)\n",
    "plt.title('Boxplot della Attività degli Utenti')\n",
    "plt.ylabel('Numero di tweet per utente')\n",
    "plt.show()"
   ]
  },
  {
   "cell_type": "markdown",
   "id": "2663a8ee-07fe-4282-b32f-5cb7ffefb125",
   "metadata": {},
   "source": [
    "Ricaviamoci con precisione i valori di media, varianza, moda e mediana, non ben individuabili nel grafico sopra. "
   ]
  },
  {
   "cell_type": "code",
   "execution_count": 30,
   "id": "7468b36a-33b9-4a2d-993e-38c30be15308",
   "metadata": {},
   "outputs": [
    {
     "name": "stdout",
     "output_type": "stream",
     "text": [
      "Mean:  4.929964048162175\n",
      "Variance:  69.020591045669\n",
      "Mode:  0    1\n",
      "Name: count, dtype: int64\n",
      "Median:  2.0\n"
     ]
    }
   ],
   "source": [
    "print(\"Mean: \", user_activity.mean())\n",
    "print(\"Variance: \", user_activity.var())\n",
    "print(\"Mode: \", user_activity.mode())\n",
    "print(\"Median: \", user_activity.median())"
   ]
  },
  {
   "cell_type": "code",
   "execution_count": 31,
   "id": "dcc86a93-517f-4754-963e-a625060b8422",
   "metadata": {},
   "outputs": [
    {
     "name": "stdout",
     "output_type": "stream",
     "text": [
      "UserID\n",
      "5.185310e+08    96\n",
      "2.778092e+09    96\n",
      "7.569270e+17    95\n",
      "1.424114e+18    94\n",
      "1.963916e+08    94\n",
      "                ..\n",
      "1.052766e+18     1\n",
      "1.327120e+18     1\n",
      "7.967413e+17     1\n",
      "1.075024e+09     1\n",
      "7.109468e+17     1\n",
      "Name: count, Length: 406377, dtype: int64\n"
     ]
    }
   ],
   "source": [
    "print(user_activity)"
   ]
  },
  {
   "cell_type": "markdown",
   "id": "c6269a25-980c-4fa8-afa7-0c9ed4b2d04c",
   "metadata": {},
   "source": [
    "Contando i valori unici di WordleID siamo in grado di risalire al numero complessivo di parole del giorno presenti nel nostro dataset."
   ]
  },
  {
   "cell_type": "code",
   "execution_count": 32,
   "id": "3483ccfb-4297-4b3f-a84e-8a0eb4bc034e",
   "metadata": {},
   "outputs": [
    {
     "name": "stdout",
     "output_type": "stream",
     "text": [
      "Number of unique WordleIDs: 107\n"
     ]
    }
   ],
   "source": [
    "unique_wordle_ids = wordle['WordleID'].nunique()\n",
    "print(\"Number of unique WordleIDs:\", unique_wordle_ids)"
   ]
  },
  {
   "cell_type": "markdown",
   "id": "aa78b3fb-a9e1-4ba9-b3b4-7abc101f784e",
   "metadata": {},
   "source": [
    "Nel nostro dataset sono presenti 107 parole da indovinare. Il fatto che il numero massimo di partite condivise da un utente sia 96, ossia un valore inferiore a 107 dimostra che i nostri dati sono coerenti."
   ]
  },
  {
   "cell_type": "markdown",
   "id": "6886753b-a6e8-4fd8-b97c-95d2f2f9983f",
   "metadata": {},
   "source": [
    "Usiamo la seguente quantizzazione per il numero di condivisioni di ciascun utente:\n",
    "1. Low Activity = [1, 2];\n",
    "2. Medium Activity = [3, 7];\n",
    "3. High Activity = [8, 49];\n",
    "4. Very High Activity = [50, 107];"
   ]
  },
  {
   "cell_type": "code",
   "execution_count": 33,
   "id": "a56352ba-c22c-431b-80ff-bb0c5765663e",
   "metadata": {},
   "outputs": [
    {
     "data": {
      "text/html": [
       "<div>\n",
       "<style scoped>\n",
       "    .dataframe tbody tr th:only-of-type {\n",
       "        vertical-align: middle;\n",
       "    }\n",
       "\n",
       "    .dataframe tbody tr th {\n",
       "        vertical-align: top;\n",
       "    }\n",
       "\n",
       "    .dataframe thead th {\n",
       "        text-align: right;\n",
       "    }\n",
       "</style>\n",
       "<table border=\"1\" class=\"dataframe\">\n",
       "  <thead>\n",
       "    <tr style=\"text-align: right;\">\n",
       "      <th></th>\n",
       "      <th>WordleID</th>\n",
       "      <th>ID</th>\n",
       "      <th>Created_At</th>\n",
       "      <th>Source</th>\n",
       "      <th>UserID</th>\n",
       "      <th>Attempts</th>\n",
       "      <th>Match</th>\n",
       "      <th>Win</th>\n",
       "      <th>UserActivity</th>\n",
       "    </tr>\n",
       "  </thead>\n",
       "  <tbody>\n",
       "    <tr>\n",
       "      <th>0</th>\n",
       "      <td>254</td>\n",
       "      <td>1498447921448034305</td>\n",
       "      <td>2022-02-28 23:59:58+00:00</td>\n",
       "      <td>Twitter for iPhone</td>\n",
       "      <td>3.681676e+07</td>\n",
       "      <td>3</td>\n",
       "      <td>[🟨🟨⬛⬛⬛, 🟨⬛🟨⬛🟩, 🟩🟩🟩🟩🟩]</td>\n",
       "      <td>True</td>\n",
       "      <td>Low Activity</td>\n",
       "    </tr>\n",
       "    <tr>\n",
       "      <th>1</th>\n",
       "      <td>254</td>\n",
       "      <td>1498447918184996864</td>\n",
       "      <td>2022-02-28 23:59:58+00:00</td>\n",
       "      <td>Twitter for iPhone</td>\n",
       "      <td>4.825910e+08</td>\n",
       "      <td>4</td>\n",
       "      <td>[⬛⬛⬛⬛🟩, ⬛⬛⬛⬛🟩, ⬛🟩⬛⬛🟩, 🟩🟩🟩🟩🟩]</td>\n",
       "      <td>True</td>\n",
       "      <td>High Activity</td>\n",
       "    </tr>\n",
       "    <tr>\n",
       "      <th>2</th>\n",
       "      <td>254</td>\n",
       "      <td>1498447910173921282</td>\n",
       "      <td>2022-02-28 23:59:56+00:00</td>\n",
       "      <td>Twitter for iPhone</td>\n",
       "      <td>1.397624e+18</td>\n",
       "      <td>3</td>\n",
       "      <td>[⬛⬛⬛⬛🟩, ⬛⬛🟩⬛🟩, 🟩🟩🟩🟩🟩]</td>\n",
       "      <td>True</td>\n",
       "      <td>Low Activity</td>\n",
       "    </tr>\n",
       "    <tr>\n",
       "      <th>3</th>\n",
       "      <td>254</td>\n",
       "      <td>1498447901797801989</td>\n",
       "      <td>2022-02-28 23:59:54+00:00</td>\n",
       "      <td>Twitter for iPhone</td>\n",
       "      <td>1.255905e+18</td>\n",
       "      <td>3</td>\n",
       "      <td>[⬛⬛⬛🟨⬛, ⬛🟨⬛⬛🟩, 🟩🟩🟩🟩🟩]</td>\n",
       "      <td>True</td>\n",
       "      <td>Low Activity</td>\n",
       "    </tr>\n",
       "    <tr>\n",
       "      <th>4</th>\n",
       "      <td>254</td>\n",
       "      <td>1498447896911527938</td>\n",
       "      <td>2022-02-28 23:59:53+00:00</td>\n",
       "      <td>Twitter for iPhone</td>\n",
       "      <td>2.528937e+08</td>\n",
       "      <td>3</td>\n",
       "      <td>[⬛🟨⬛⬛⬛, 🟩🟩🟩⬛🟩, 🟩🟩🟩🟩🟩]</td>\n",
       "      <td>True</td>\n",
       "      <td>Low Activity</td>\n",
       "    </tr>\n",
       "  </tbody>\n",
       "</table>\n",
       "</div>"
      ],
      "text/plain": [
       "   WordleID                   ID                 Created_At  \\\n",
       "0       254  1498447921448034305  2022-02-28 23:59:58+00:00   \n",
       "1       254  1498447918184996864  2022-02-28 23:59:58+00:00   \n",
       "2       254  1498447910173921282  2022-02-28 23:59:56+00:00   \n",
       "3       254  1498447901797801989  2022-02-28 23:59:54+00:00   \n",
       "4       254  1498447896911527938  2022-02-28 23:59:53+00:00   \n",
       "\n",
       "               Source        UserID  Attempts                         Match  \\\n",
       "0  Twitter for iPhone  3.681676e+07         3         [🟨🟨⬛⬛⬛, 🟨⬛🟨⬛🟩, 🟩🟩🟩🟩🟩]   \n",
       "1  Twitter for iPhone  4.825910e+08         4  [⬛⬛⬛⬛🟩, ⬛⬛⬛⬛🟩, ⬛🟩⬛⬛🟩, 🟩🟩🟩🟩🟩]   \n",
       "2  Twitter for iPhone  1.397624e+18         3         [⬛⬛⬛⬛🟩, ⬛⬛🟩⬛🟩, 🟩🟩🟩🟩🟩]   \n",
       "3  Twitter for iPhone  1.255905e+18         3         [⬛⬛⬛🟨⬛, ⬛🟨⬛⬛🟩, 🟩🟩🟩🟩🟩]   \n",
       "4  Twitter for iPhone  2.528937e+08         3         [⬛🟨⬛⬛⬛, 🟩🟩🟩⬛🟩, 🟩🟩🟩🟩🟩]   \n",
       "\n",
       "    Win   UserActivity  \n",
       "0  True   Low Activity  \n",
       "1  True  High Activity  \n",
       "2  True   Low Activity  \n",
       "3  True   Low Activity  \n",
       "4  True   Low Activity  "
      ]
     },
     "execution_count": 33,
     "metadata": {},
     "output_type": "execute_result"
    }
   ],
   "source": [
    "bins = [0, 3, 8, 50, 107]\n",
    "labels = ['Low Activity', 'Medium Activity', 'High Activity', 'Very High Activity']\n",
    "\n",
    "user_macrocategories = pd.cut(user_activity, bins=bins, labels=labels)\n",
    "\n",
    "wordle = wordle.merge(user_macrocategories.rename('UserActivity'), left_on='UserID', right_index=True)\n",
    "wordle.head()"
   ]
  },
  {
   "cell_type": "markdown",
   "id": "ab071681-cc5e-490c-89a0-a33c621dfb1a",
   "metadata": {},
   "source": [
    "Definiamo un'altra quantizzazione in base al periodo della giornata in cui è stato fatto il tweet:\n",
    "1. Morning = [5, 12];\n",
    "2. Afternoon = [12, 19];\n",
    "3. Evening = [19, 24];\n",
    "4. Night = [0, 5]."
   ]
  },
  {
   "cell_type": "code",
   "execution_count": 34,
   "id": "3a044cfc-2100-4795-806e-ed6b955b1088",
   "metadata": {},
   "outputs": [
    {
     "data": {
      "text/html": [
       "<div>\n",
       "<style scoped>\n",
       "    .dataframe tbody tr th:only-of-type {\n",
       "        vertical-align: middle;\n",
       "    }\n",
       "\n",
       "    .dataframe tbody tr th {\n",
       "        vertical-align: top;\n",
       "    }\n",
       "\n",
       "    .dataframe thead th {\n",
       "        text-align: right;\n",
       "    }\n",
       "</style>\n",
       "<table border=\"1\" class=\"dataframe\">\n",
       "  <thead>\n",
       "    <tr style=\"text-align: right;\">\n",
       "      <th></th>\n",
       "      <th>WordleID</th>\n",
       "      <th>ID</th>\n",
       "      <th>Created_At</th>\n",
       "      <th>Source</th>\n",
       "      <th>UserID</th>\n",
       "      <th>Attempts</th>\n",
       "      <th>Match</th>\n",
       "      <th>Win</th>\n",
       "      <th>UserActivity</th>\n",
       "      <th>TimeOfDay</th>\n",
       "    </tr>\n",
       "  </thead>\n",
       "  <tbody>\n",
       "    <tr>\n",
       "      <th>1634504</th>\n",
       "      <td>340</td>\n",
       "      <td>1529458277158998018</td>\n",
       "      <td>2022-05-25 13:44:03+00:00</td>\n",
       "      <td>Twitter for iPhone</td>\n",
       "      <td>2.693886e+08</td>\n",
       "      <td>3</td>\n",
       "      <td>[🟨🟨⬜⬜⬜, ⬜🟩🟩🟩🟩, 🟩🟩🟩🟩🟩]</td>\n",
       "      <td>True</td>\n",
       "      <td>High Activity</td>\n",
       "      <td>Afternoon</td>\n",
       "    </tr>\n",
       "    <tr>\n",
       "      <th>1634137</th>\n",
       "      <td>340</td>\n",
       "      <td>1529460039509057538</td>\n",
       "      <td>2022-05-25 13:51:04+00:00</td>\n",
       "      <td>Twitter for iPhone</td>\n",
       "      <td>1.193264e+18</td>\n",
       "      <td>6</td>\n",
       "      <td>[⬛⬛⬛⬛⬛, ⬛🟩⬛⬛⬛, 🟨🟩🟩⬛⬛, ⬛🟩🟩🟩🟩, ⬛🟩🟩🟩🟩, 🟩🟩🟩🟩🟩]</td>\n",
       "      <td>True</td>\n",
       "      <td>High Activity</td>\n",
       "      <td>Afternoon</td>\n",
       "    </tr>\n",
       "    <tr>\n",
       "      <th>583641</th>\n",
       "      <td>283</td>\n",
       "      <td>1508583141493063685</td>\n",
       "      <td>2022-03-28 23:13:43+00:00</td>\n",
       "      <td>Twitter for iPhone</td>\n",
       "      <td>3.154574e+08</td>\n",
       "      <td>3</td>\n",
       "      <td>[⬛⬛🟩⬛⬛, ⬛🟩🟩🟩⬛, 🟩🟩🟩🟩🟩]</td>\n",
       "      <td>True</td>\n",
       "      <td>Low Activity</td>\n",
       "      <td>Evening</td>\n",
       "    </tr>\n",
       "    <tr>\n",
       "      <th>1982000</th>\n",
       "      <td>368</td>\n",
       "      <td>1539719964017434626</td>\n",
       "      <td>2022-06-22 21:20:20+00:00</td>\n",
       "      <td>Twitter for Android</td>\n",
       "      <td>1.731212e+07</td>\n",
       "      <td>6</td>\n",
       "      <td>[⬛⬛⬛🟨⬛, 🟨🟨🟨⬛⬛, ⬛⬛🟨🟨⬛, 🟩🟨⬛⬛🟨, 🟩🟩⬛⬛⬛, 🟩🟩⬛⬛⬛]</td>\n",
       "      <td>False</td>\n",
       "      <td>Low Activity</td>\n",
       "      <td>Evening</td>\n",
       "    </tr>\n",
       "    <tr>\n",
       "      <th>368695</th>\n",
       "      <td>272</td>\n",
       "      <td>1504918558228238336</td>\n",
       "      <td>2022-03-18 20:31:58+00:00</td>\n",
       "      <td>Twitter for iPhone</td>\n",
       "      <td>1.419419e+18</td>\n",
       "      <td>5</td>\n",
       "      <td>[⬛⬛⬛⬛⬛, ⬛⬛⬛⬛🟨, ⬛⬛🟨⬛🟨, ⬛🟩🟨🟩🟩, 🟩🟩🟩🟩🟩]</td>\n",
       "      <td>True</td>\n",
       "      <td>Medium Activity</td>\n",
       "      <td>Evening</td>\n",
       "    </tr>\n",
       "  </tbody>\n",
       "</table>\n",
       "</div>"
      ],
      "text/plain": [
       "         WordleID                   ID                Created_At  \\\n",
       "1634504       340  1529458277158998018 2022-05-25 13:44:03+00:00   \n",
       "1634137       340  1529460039509057538 2022-05-25 13:51:04+00:00   \n",
       "583641        283  1508583141493063685 2022-03-28 23:13:43+00:00   \n",
       "1982000       368  1539719964017434626 2022-06-22 21:20:20+00:00   \n",
       "368695        272  1504918558228238336 2022-03-18 20:31:58+00:00   \n",
       "\n",
       "                      Source        UserID  Attempts  \\\n",
       "1634504   Twitter for iPhone  2.693886e+08         3   \n",
       "1634137   Twitter for iPhone  1.193264e+18         6   \n",
       "583641    Twitter for iPhone  3.154574e+08         3   \n",
       "1982000  Twitter for Android  1.731212e+07         6   \n",
       "368695    Twitter for iPhone  1.419419e+18         5   \n",
       "\n",
       "                                              Match    Win     UserActivity  \\\n",
       "1634504                       [🟨🟨⬜⬜⬜, ⬜🟩🟩🟩🟩, 🟩🟩🟩🟩🟩]   True    High Activity   \n",
       "1634137  [⬛⬛⬛⬛⬛, ⬛🟩⬛⬛⬛, 🟨🟩🟩⬛⬛, ⬛🟩🟩🟩🟩, ⬛🟩🟩🟩🟩, 🟩🟩🟩🟩🟩]   True    High Activity   \n",
       "583641                        [⬛⬛🟩⬛⬛, ⬛🟩🟩🟩⬛, 🟩🟩🟩🟩🟩]   True     Low Activity   \n",
       "1982000  [⬛⬛⬛🟨⬛, 🟨🟨🟨⬛⬛, ⬛⬛🟨🟨⬛, 🟩🟨⬛⬛🟨, 🟩🟩⬛⬛⬛, 🟩🟩⬛⬛⬛]  False     Low Activity   \n",
       "368695          [⬛⬛⬛⬛⬛, ⬛⬛⬛⬛🟨, ⬛⬛🟨⬛🟨, ⬛🟩🟨🟩🟩, 🟩🟩🟩🟩🟩]   True  Medium Activity   \n",
       "\n",
       "         TimeOfDay  \n",
       "1634504  Afternoon  \n",
       "1634137  Afternoon  \n",
       "583641     Evening  \n",
       "1982000    Evening  \n",
       "368695     Evening  "
      ]
     },
     "execution_count": 34,
     "metadata": {},
     "output_type": "execute_result"
    }
   ],
   "source": [
    "wordle['Created_At'] = pd.to_datetime(wordle['Created_At'])\n",
    "\n",
    "bins = [0, 5, 12, 19, 24]\n",
    "labels = ['Night','Morning','Afternoon','Evening']\n",
    "\n",
    "wordle['TimeOfDay'] = pd.cut(wordle['Created_At'].dt.hour, bins=bins, labels=labels, right=False)\n",
    "\n",
    "n = 5\n",
    "wordle.sample(n).sort_values(by='TimeOfDay').head(n)"
   ]
  },
  {
   "cell_type": "markdown",
   "id": "dbb673c2-1cde-4114-b544-3c218f20b5e3",
   "metadata": {},
   "source": [
    "Desideriamo conoscere in quali fasce orarie gli utenti sono più attivi. Visualizziamo questa informazione con un bar plot."
   ]
  },
  {
   "cell_type": "code",
   "execution_count": 35,
   "id": "d727e821-18b6-4827-b068-d5b275c2fc98",
   "metadata": {},
   "outputs": [
    {
     "data": {
      "image/png": "[encoded data removed]",
      "text/plain": [
       "<Figure size 1000x300 with 1 Axes>"
      ]
     },
     "metadata": {},
     "output_type": "display_data"
    }
   ],
   "source": [
    "activity_by_time = wordle['TimeOfDay'].value_counts()\n",
    "\n",
    "activity_by_time = activity_by_time.reindex(labels)\n",
    "\n",
    "plt.figure(figsize=(10, 3))\n",
    "activity_by_time.plot(kind='barh', color='skyblue')\n",
    "\n",
    "# Set tick positions and labels for x-axis\n",
    "tick_positions = [0, 250000, 500000, 750000, 1000000]\n",
    "tick_labels = [str(val) for val in tick_positions]\n",
    "\n",
    "plt.xticks(tick_positions, tick_labels)\n",
    "\n",
    "plt.title('Attività degli utenti per fasce orarie')\n",
    "plt.ylabel('Fascia oraria')\n",
    "plt.xlabel('Numero di tweet')\n",
    "\n",
    "plt.grid(axis='x', linestyle='--', alpha=0.7) \n",
    "plt.tight_layout()\n",
    "plt.show()"
   ]
  },
  {
   "cell_type": "markdown",
   "id": "b2a48346-b484-4e13-83c5-7d35c528a013",
   "metadata": {},
   "source": [
    "La nuova parola del giorno viene rilasciata a mezzanotte della propria ora locale, nel nostro dataset però nessun utente ha condiviso la propria partita nella fascia oraria notturna."
   ]
  },
  {
   "cell_type": "markdown",
   "id": "683ce90d-15a0-4d87-94a4-6abb340b6510",
   "metadata": {},
   "source": [
    "Per assegnare a ciascuna parola un livello di difficoltà:\n",
    "- Nel caso in cui il numero di sconfitte per quella parola sia maggiore di 2.2 volte il valore medio del numero di sconfitte, la parola è '__Very Hard__'\n",
    "- Nel caso in cui il numero medio di tentativi per quella parola sia compreso tra 1 e 4.0 e la partita è vinta, la parola è '__Easy__'\n",
    "- Nel caso in cui il numero medio di tentativi per quella parola sia compreso tra 4.0 e 4.5 e la partita è vinta, la parola è '__Medium__'\n",
    "- Nel caso in cui il numero medio di tentativi per quella parola sia compreso tra 4.5 e 6 e la partita è vinta, la parola è '__Hard__'"
   ]
  },
  {
   "cell_type": "code",
   "execution_count": 36,
   "id": "2cc3a259-d2de-4f3f-8534-288b211f2b06",
   "metadata": {},
   "outputs": [],
   "source": [
    "mean_attempts = wordle[wordle['Win']].groupby('WordleID')['Attempts'].mean()\n",
    "\n",
    "# Categorize WordleIDs based on the criteria\n",
    "def categorize_difficulty(mean_attempt):\n",
    "    if mean_attempt >= 4.5:\n",
    "        return 'Hard'\n",
    "    elif mean_attempt >= 4.0:\n",
    "        return 'Medium'\n",
    "    else:\n",
    "        return 'Easy'\n",
    "\n",
    "# Apply the categorization function to each WordleID\n",
    "wordle['Difficulty'] = wordle['WordleID'].map(mean_attempts).apply(categorize_difficulty)\n",
    "\n",
    "# Calculate the overall ratio of lost games to total games in the entire DataFrame\n",
    "overall_lost_games_ratio = wordle[~wordle['Win']].shape[0] / wordle.shape[0]\n",
    "\n",
    "# Define a function to check if the condition is met for a specific WordleID\n",
    "def should_update_difficulty(wordle_id):\n",
    "    wordle_subset = wordle[wordle['WordleID'] == wordle_id]\n",
    "    lost_games_ratio = wordle_subset[~wordle_subset['Win']].shape[0] / wordle_subset.shape[0]\n",
    "    return lost_games_ratio > 2.2*overall_lost_games_ratio\n",
    "\n",
    "# Iterate over each unique WordleID\n",
    "for unique_id in wordle['WordleID'].unique():\n",
    "    # Check if the condition is met for the current WordleID\n",
    "    if should_update_difficulty(unique_id):\n",
    "        # Update the 'Difficulty' column for rows with the current WordleID\n",
    "        wordle.loc[wordle['WordleID'] == unique_id, 'Difficulty'] = 'Very Hard'"
   ]
  },
  {
   "cell_type": "code",
   "execution_count": 37,
   "id": "1a03da5e-6c62-420e-98c3-56559aa81802",
   "metadata": {},
   "outputs": [
    {
     "name": "stdout",
     "output_type": "stream",
     "text": [
      "Number of rows with Difficulty 'Very Hard': 182855\n",
      "Number of rows with Difficulty 'Hard': 167845\n",
      "Number of rows with Difficulty 'Medium': 824896\n",
      "Number of rows with Difficulty 'Easy': 827828\n"
     ]
    }
   ],
   "source": [
    "num_very_hard = (wordle['Difficulty'] == 'Very Hard').sum()\n",
    "\n",
    "# Print the number of rows\n",
    "print(\"Number of rows with Difficulty 'Very Hard':\", num_very_hard)\n",
    "\n",
    "num_very_hard = (wordle['Difficulty'] == 'Hard').sum()\n",
    "print(\"Number of rows with Difficulty 'Hard':\", num_very_hard)\n",
    "\n",
    "num_very_hard = (wordle['Difficulty'] == 'Medium').sum()\n",
    "print(\"Number of rows with Difficulty 'Medium':\", num_very_hard)\n",
    "\n",
    "num_very_hard = (wordle['Difficulty'] == 'Easy').sum()\n",
    "print(\"Number of rows with Difficulty 'Easy':\", num_very_hard)"
   ]
  },
  {
   "cell_type": "markdown",
   "id": "f2fb1db9-4fb7-4fe3-90ef-077a06f61ded",
   "metadata": {},
   "source": [
    "Verifichiamo di non aver introdotto per errore valori nulli in questa fase."
   ]
  },
  {
   "cell_type": "code",
   "execution_count": 38,
   "id": "b51b755f-806e-4c4c-ab5a-807fa9abfc21",
   "metadata": {},
   "outputs": [
    {
     "name": "stdout",
     "output_type": "stream",
     "text": [
      "WordleID        0\n",
      "ID              0\n",
      "Created_At      0\n",
      "Source          0\n",
      "UserID          0\n",
      "Attempts        0\n",
      "Match           0\n",
      "Win             0\n",
      "UserActivity    0\n",
      "TimeOfDay       0\n",
      "Difficulty      0\n",
      "dtype: int64\n"
     ]
    }
   ],
   "source": [
    "print(wordle.isnull().sum())"
   ]
  },
  {
   "cell_type": "markdown",
   "id": "dd8e0df0-47c4-4144-8cfc-b7a4445a76a4",
   "metadata": {},
   "source": [
    "Ora che è terminata la preparazione dei dati, procediamo con la analisi OLAP."
   ]
  },
  {
   "cell_type": "code",
   "execution_count": 39,
   "id": "5c2475f9-3310-4f20-9063-7c1b516f7afe",
   "metadata": {},
   "outputs": [
    {
     "data": {
      "text/plain": [
       "array([[[ 98.80239521,  98.30822099,          nan,  90.98497496],\n",
       "        [ 98.51235921,  97.52792735,  93.92704819,  81.66718701],\n",
       "        [ 98.63752435,  97.56087861,  95.31401906,  81.61159293],\n",
       "        [         nan,          nan,          nan,          nan]],\n",
       "\n",
       "       [[ 99.13294798,  98.25394135,          nan,  94.28076256],\n",
       "        [ 98.91504795,  97.9169022 ,  95.50768042,  89.95854983],\n",
       "        [ 98.91108353,  97.86783355,  96.40955257,  91.05834464],\n",
       "        [         nan,          nan,          nan,          nan]],\n",
       "\n",
       "       [[ 99.44618793,  98.90420244,          nan,  95.50115779],\n",
       "        [ 99.20758775,  98.50127814,  96.70415164,  89.84927495],\n",
       "        [ 99.09926773,  98.3928764 ,  96.875746  ,  90.20585709],\n",
       "        [         nan,          nan,          nan,          nan]],\n",
       "\n",
       "       [[ 98.27586207,  98.48484848,          nan, 100.        ],\n",
       "        [ 99.23529257,  98.54442653,  97.2308058 ,  87.89382287],\n",
       "        [ 99.31535192,  98.49726776,  97.30397663,  88.58369099],\n",
       "        [         nan,          nan,          nan,          nan]]])"
      ]
     },
     "execution_count": 39,
     "metadata": {},
     "output_type": "execute_result"
    }
   ],
   "source": [
    "quantize_user_activity = ['Low Activity', 'Medium Activity', 'High Activity', 'Very High Activity']\n",
    "quantize_time_of_day = ['Morning', 'Afternoon', 'Evening', 'Night']\n",
    "quantize_difficulty = ['Easy', 'Medium', 'Hard', 'Very Hard']\n",
    "\n",
    "OLAP = np.zeros((len(quantize_user_activity),len(quantize_time_of_day),len(quantize_difficulty)))\n",
    "for z in range(len(quantize_user_activity)):\n",
    "    for j in range(len(quantize_time_of_day)):\n",
    "        for i in range(len(quantize_difficulty)):\n",
    "            # Filter dataframe\n",
    "            filtered_data = wordle[(wordle['UserActivity'] == quantize_user_activity[z]) &\n",
    "                                   (wordle['TimeOfDay'] == quantize_time_of_day[j]) &\n",
    "                                   (wordle['Difficulty'] == quantize_difficulty[i])]\n",
    "            # Calculate number of wins\n",
    "            wins = filtered_data['Win'].sum()\n",
    "            \n",
    "            # Calculate number of matches\n",
    "            matches = len(filtered_data)\n",
    "            \n",
    "            # Compute ratio of wins to matches (avoid division by zero)\n",
    "            ratio = wins / matches * 100 if matches > 0 else np.nan\n",
    "            \n",
    "            # Populate OLAP cube\n",
    "            OLAP[z, j, i] = ratio\n",
    "OLAP"
   ]
  },
  {
   "cell_type": "markdown",
   "id": "e297d53e-5823-4fef-87ee-0a75298ca037",
   "metadata": {},
   "source": [
    "Facciamo uno slicing rispetto a TimeOfDay. Poichè la sera e il pomeriggio sono le fasce orarie di picco le prediligiamo. "
   ]
  },
  {
   "cell_type": "code",
   "execution_count": 40,
   "id": "138c7b0f-55fc-4107-8510-dbbc1f8a191a",
   "metadata": {},
   "outputs": [
    {
     "data": {
      "image/png": "[encoded data removed]",
      "text/plain": [
       "<Figure size 640x480 with 2 Axes>"
      ]
     },
     "metadata": {},
     "output_type": "display_data"
    }
   ],
   "source": [
    "plt.imshow(OLAP[:, 2, :])\n",
    "for i, label in enumerate(quantize_difficulty):\n",
    "    plt.text(i, 3.65, label, ha='center', fontsize=8)\n",
    "for i, label in enumerate(quantize_user_activity):\n",
    "    label = label.replace(\" Activity\", \"\") \n",
    "    plt.text(-0.65, i, label, va='center', fontsize=8, rotation=90)\n",
    "plt.xlabel('Difficulty', labelpad=25)\n",
    "plt.ylabel('User Activity', labelpad=25)\n",
    "plt.title('Slicing (Evening)', pad=10)\n",
    "plt.colorbar(label='Win Rate')\n",
    "plt.yticks([])\n",
    "plt.xticks([])\n",
    "\n",
    "plt.show() "
   ]
  },
  {
   "cell_type": "code",
   "execution_count": 41,
   "id": "e416a338-418d-4ead-9e50-a216c6e3c750",
   "metadata": {},
   "outputs": [
    {
     "data": {
      "image/png": "[encoded data removed]",
      "text/plain": [
       "<Figure size 640x480 with 2 Axes>"
      ]
     },
     "metadata": {},
     "output_type": "display_data"
    }
   ],
   "source": [
    "plt.imshow(OLAP[:, 1, :])\n",
    "for i, label in enumerate(quantize_difficulty):\n",
    "    plt.text(i, 3.65, label, ha='center', fontsize=8)\n",
    "for i, label in enumerate(quantize_user_activity):\n",
    "    label = label.replace(\" Activity\", \"\") \n",
    "    plt.text(-0.65, i, label, va='center', fontsize=8, rotation=90)\n",
    "plt.xlabel('Difficulty', labelpad=25)\n",
    "plt.ylabel('User Activity', labelpad=20)\n",
    "plt.title('Slicing (Afternoon)', pad=20)\n",
    "plt.colorbar(label='Win Rate')\n",
    "plt.yticks([])\n",
    "plt.xticks([])\n",
    "\n",
    "plt.show()"
   ]
  },
  {
   "cell_type": "code",
   "execution_count": 42,
   "id": "775efa28-54c6-429d-b0eb-c8590a6f5f2a",
   "metadata": {},
   "outputs": [
    {
     "data": {
      "image/png": "[encoded data removed]",
      "text/plain": [
       "<Figure size 640x480 with 2 Axes>"
      ]
     },
     "metadata": {},
     "output_type": "display_data"
    }
   ],
   "source": [
    "plt.imshow(OLAP[:, 0, :])\n",
    "for i, label in enumerate(quantize_difficulty):\n",
    "    plt.text(i, 3.65, label, ha='center', fontsize=8)\n",
    "for i, label in enumerate(quantize_user_activity):\n",
    "    label = label.replace(\" Activity\", \"\") \n",
    "    plt.text(-0.65, i, label, va='center', fontsize=8, rotation=90)\n",
    "plt.xlabel('Difficulty', labelpad=25)\n",
    "plt.ylabel('User Activity', labelpad=20)\n",
    "plt.title('Slicing (Morning)', pad=20)\n",
    "plt.colorbar(label='Win Rate')\n",
    "plt.yticks([])\n",
    "plt.xticks([])\n",
    "\n",
    "plt.show()"
   ]
  },
  {
   "cell_type": "markdown",
   "id": "c0cc8e59-38e7-45cb-a428-1fe26d75269c",
   "metadata": {},
   "source": [
    "Possiamo notare come, in tutte le visualizzazioni sopra, il tasso di vittoria degli utenti medio attivi, attivi e molto attivi sia generalmente maggiore del tasso di vittoria del utenti poco attivi, in particolare in caso di parole molto difficili. La diminuzione sembra quasi lineare ???"
   ]
  },
  {
   "cell_type": "code",
   "execution_count": 43,
   "id": "08a9a733-7bd9-4752-846d-1c0ca3f88c67",
   "metadata": {},
   "outputs": [
    {
     "data": {
      "image/png": "[encoded data removed]",
      "text/plain": [
       "<Figure size 1500x500 with 6 Axes>"
      ]
     },
     "metadata": {},
     "output_type": "display_data"
    }
   ],
   "source": [
    "# Create subplots with 1 row and 3 columns\n",
    "fig, axs = plt.subplots(1, 3, figsize=(15, 5))  # Adjust figsize as needed\n",
    "\n",
    "# Plot first image\n",
    "im1 = axs[0].imshow(OLAP[:, 2, :])\n",
    "for i, label in enumerate(quantize_difficulty):\n",
    "    axs[0].text(i, 3.65, label, ha='center', fontsize=8)\n",
    "for i, label in enumerate(quantize_user_activity):\n",
    "    label = label.replace(\" Activity\", \"\") \n",
    "    axs[0].text(-0.65, i, label, va='center', fontsize=8, rotation=90)\n",
    "axs[0].set_xlabel('Difficulty', labelpad=25)\n",
    "axs[0].set_ylabel('User Activity', labelpad=20)\n",
    "axs[0].set_title('Slicing (Evening)', pad=20)\n",
    "fig.colorbar(im1, ax=axs[0], label='Win Rate', shrink=0.7)\n",
    "axs[0].set_yticks([])\n",
    "axs[0].set_xticks([])\n",
    "\n",
    "# Plot second image\n",
    "im2 = axs[1].imshow(OLAP[:, 1, :])\n",
    "for i, label in enumerate(quantize_difficulty):\n",
    "    axs[1].text(i, 3.65, label, ha='center', fontsize=8)\n",
    "for i, label in enumerate(quantize_user_activity):\n",
    "    label = label.replace(\" Activity\", \"\") \n",
    "    axs[1].text(-0.65, i, label, va='center', fontsize=8, rotation=90)\n",
    "axs[1].set_xlabel('Difficulty', labelpad=25)\n",
    "axs[1].set_ylabel('User Activity', labelpad=20)\n",
    "axs[1].set_title('Slicing (Afternoon)', pad=20)\n",
    "fig.colorbar(im2, ax=axs[1], label='Win Rate', shrink=0.7)\n",
    "axs[1].set_yticks([])\n",
    "axs[1].set_xticks([])\n",
    "\n",
    "# Plot third image\n",
    "im3 = axs[2].imshow(OLAP[:, 0, :])\n",
    "for i, label in enumerate(quantize_difficulty):\n",
    "    axs[2].text(i, 3.65, label, ha='center', fontsize=8)\n",
    "for i, label in enumerate(quantize_user_activity):\n",
    "    label = label.replace(\" Activity\", \"\") \n",
    "    axs[2].text(-0.65, i, label, va='center', fontsize=8, rotation=90)\n",
    "axs[2].set_xlabel('Difficulty', labelpad=25)\n",
    "axs[2].set_ylabel('User Activity', labelpad=20)\n",
    "axs[2].set_title('Slicing (Morning)', pad=20)\n",
    "fig.colorbar(im3, ax=axs[2], label='Win Rate', shrink=0.7)\n",
    "axs[2].set_yticks([])\n",
    "axs[2].set_xticks([])\n",
    "\n",
    "plt.tight_layout()  # Adjust spacing between subplots\n",
    "plt.show()"
   ]
  },
  {
   "cell_type": "markdown",
   "id": "af8db56d-65fe-48f8-97a2-6abe6a09fd64",
   "metadata": {},
   "source": [
    "Facendo dicing verifichiamo la decrescita del tasso di vincinta per gli utenti poco attivi (_Low Activity_) e gli utenti molto attivi (_Very High Activity_) consideando come fascia oraria la sera."
   ]
  },
  {
   "cell_type": "code",
   "execution_count": 44,
   "id": "484f9dd2-c746-42bb-a042-a508e6993f3d",
   "metadata": {},
   "outputs": [
    {
     "name": "stdout",
     "output_type": "stream",
     "text": [
      "[98.63752435 97.56087861 95.31401906 81.61159293]\n",
      "[99.31535192 98.49726776 97.30397663 88.58369099]\n"
     ]
    }
   ],
   "source": [
    "print(OLAP[0, 2, :])\n",
    "print(OLAP[3, 2, :])"
   ]
  },
  {
   "cell_type": "markdown",
   "id": "cab495c8-2fb4-4ea5-84b0-7ba063ae6558",
   "metadata": {},
   "source": [
    "Possiamo notare come la decrescita del tasso di vincita sia più attenuata nel caso di utenti molto attivi e come il divario nel tasso di vincinta aumenti all'aumentare della difficoltà delle parole. Visualizziamo questa informazone con un grafico a linea."
   ]
  },
  {
   "cell_type": "code",
   "execution_count": 45,
   "id": "ef242a3b-3082-4d94-a745-6c394fe5fd2e",
   "metadata": {},
   "outputs": [
    {
     "data": {
      "image/png": "[encoded data removed]",
      "text/plain": [
       "<Figure size 640x480 with 1 Axes>"
      ]
     },
     "metadata": {},
     "output_type": "display_data"
    }
   ],
   "source": [
    "plt.xlabel('Difficulty')\n",
    "plt.ylabel('Win rate')\n",
    "plt.title('Evening Win Rate')\n",
    "plt.plot(OLAP[0, 2, :], label='Low Activity') \n",
    "plt.plot(OLAP[3, 2, :], label='Vey High Activity') \n",
    "plt.legend(bbox_to_anchor=(1, 1), loc='upper left') \n",
    "plt.show() "
   ]
  },
  {
   "cell_type": "markdown",
   "id": "c05ff207-6315-4bcc-9a44-e3b9f5760d4d",
   "metadata": {},
   "source": [
    "## Test statistici"
   ]
  },
  {
   "cell_type": "markdown",
   "id": "af8c6cb8-86d8-4aed-b931-4ec19048aef5",
   "metadata": {},
   "source": [
    "Utilizziamo un T-test.\n",
    "\n",
    "Ipotesi nulla: gli utenti poco attivi in caso di vittoria si comportano allo stesso modo degli utenti attivi/molto attivi in termini di numero medio di tentativi.\n",
    "\n",
    "Ipotesi alternativa: gli utenti poco attivi in caso di vittoria non si comportano allo stesso modo degli utenti attivi/molto attivi in termini di numero medio di tentativi.\n",
    "\n",
    "Prendiamo come livello di significatività 0.05. Sussiste una differenza statisticamente significativa?\n",
    "\n",
    "Sappiamo che si devono verificare alcune ipotesi:\n",
    "1. Campione con numero di elementi n > 30;\n",
    "2. Popolazione N almeno dieci volte superiore al campione N > 10*n.\n"
   ]
  },
  {
   "cell_type": "markdown",
   "id": "859e46a7-0c46-41de-8825-51a7423f6e2d",
   "metadata": {},
   "source": [
    "Stampiamo il numero di elementi per le due classi. "
   ]
  },
  {
   "cell_type": "code",
   "execution_count": 46,
   "id": "3ee32dd0-6a80-4da2-b405-900f3fb53d6c",
   "metadata": {},
   "outputs": [
    {
     "name": "stdout",
     "output_type": "stream",
     "text": [
      "2003424\n",
      "385684\n",
      "1032579\n",
      "1418263\n",
      "Sample size condition (n ≥ 30) is met for both groups.\n",
      "Population size condition (N ≥ 10n) is met for both groups.\n"
     ]
    }
   ],
   "source": [
    "total_population = len(wordle)\n",
    "print(total_population)\n",
    "\n",
    "winning_attempts_low_activity = wordle.loc[(wordle['UserActivity'] == 'Low Activity') & (wordle['Win'] == 1), 'Attempts']\n",
    "winning_attempts_high_activity = wordle.loc[(wordle['UserActivity'] == 'High Activity') & (wordle['Win'] == 1), 'Attempts']\n",
    "print(len(winning_attempts_low_activity))\n",
    "print(len(winning_attempts_high_activity))\n",
    "print(len(winning_attempts_high_activity)+len(winning_attempts_low_activity))\n",
    "\n",
    "test_winning_attempts_low_activity = winning_attempts_low_activity.sample(n=30000)\n",
    "test_winning_attempts_high_activity = winning_attempts_high_activity.sample(n=30000)\n",
    "\n",
    "if len(test_winning_attempts_low_activity) >= 30 and len(test_winning_attempts_high_activity) >= 30:\n",
    "    print(\"Sample size condition (n ≥ 30) is met for both groups.\")\n",
    "else:\n",
    "    print(\"Sample size condition (n ≥ 30) is not met for both groups.\")\n",
    "\n",
    "if total_population >= 10 * (len(test_winning_attempts_low_activity)) and total_population >= 10 *(len(test_winning_attempts_high_activity)):\n",
    "    print(\"Population size condition (N ≥ 10n) is met for both groups.\")\n",
    "else:\n",
    "    print(\"Population size condition (N ≥ 10n) is not met for both groups.\")"
   ]
  },
  {
   "cell_type": "markdown",
   "id": "a065770d-2df2-48cc-8bea-1e157a20f334",
   "metadata": {},
   "source": [
    "La prima condizione è soddisfatta, la seconda???"
   ]
  },
  {
   "cell_type": "code",
   "execution_count": 47,
   "id": "6a907286-5bdc-4d6c-aab7-9e5ed9309559",
   "metadata": {},
   "outputs": [
    {
     "name": "stdout",
     "output_type": "stream",
     "text": [
      "p-value: 2.383033673121534e-247\n"
     ]
    }
   ],
   "source": [
    "#t_value, p_value = stats.ttest_ind(winning_attempts_low_activity, winning_attempts_high_activity)\n",
    "t_value, p_value = stats.ttest_ind(test_winning_attempts_low_activity, test_winning_attempts_high_activity)\n",
    "\n",
    "print(\"p-value:\", p_value)"
   ]
  },
  {
   "cell_type": "markdown",
   "id": "37fe8772-17b8-4143-97a4-0af8d917ec8b",
   "metadata": {},
   "source": [
    "Essendo il p-value minore del livello di significatività, possiamo rigettare l'ipotesi nulla. Possiamo concludere che l'andamento di una partita in caso di vittoria per gli utenti poco attivi NON è lo stesso andamento di una partita in caso di vittoria per gli utenti attivi."
   ]
  },
  {
   "cell_type": "code",
   "execution_count": 48,
   "id": "112ecbbe-4358-473d-9405-a941c473fdd7",
   "metadata": {},
   "outputs": [
    {
     "name": "stdout",
     "output_type": "stream",
     "text": [
      "p-value: 1.0\n"
     ]
    }
   ],
   "source": [
    "t_value, p_value = stats.ttest_ind(test_winning_attempts_low_activity, test_winning_attempts_high_activity, alternative='greater')\n",
    "\n",
    "print(\"p-value:\", p_value)"
   ]
  },
  {
   "cell_type": "markdown",
   "id": "60ec7ac9-b36d-41f6-9ddb-ef3e1955b181",
   "metadata": {},
   "source": [
    "Essendo il p-value maggiore del livello di significatività, non possiamo rigettare l'ipotesi nulla. L'ipotesi nulla è che la media dei tentativi in caso di vittoria degli utenti poco attivi è maggiore della media dei tentativi in caso di vittoria degli utenti attivi. "
   ]
  },
  {
   "cell_type": "code",
   "execution_count": 49,
   "id": "ec58d3f6-c503-4347-b75a-a97a45c218b9",
   "metadata": {},
   "outputs": [
    {
     "name": "stdout",
     "output_type": "stream",
     "text": [
      "p-value: 1.191516836560767e-247\n"
     ]
    }
   ],
   "source": [
    "t_value, p_value = stats.ttest_ind(test_winning_attempts_low_activity, test_winning_attempts_high_activity, alternative='less')\n",
    "\n",
    "print(\"p-value:\", p_value)"
   ]
  },
  {
   "cell_type": "markdown",
   "id": "5912a28e-45dc-4feb-b7b3-b99a9af5ae22",
   "metadata": {},
   "source": [
    "Essendo il p-value minore del livello di significatività, possiamo rigettare l'ipotesi nulla. Possiamo concludere che la media dei tentativi in caso di vittoria per gli utenti poco attivi NON è minore della media dei tentativi in caso di vittoria per gli utenti attivi."
   ]
  },
  {
   "cell_type": "markdown",
   "id": "4aec033d-d33f-4b33-a690-2dec1d923930",
   "metadata": {},
   "source": [
    "## Metodi Predittivi"
   ]
  },
  {
   "cell_type": "markdown",
   "id": "8e88965b-9060-4448-8c23-819e169de8b5",
   "metadata": {},
   "source": [
    "Supponiamo di voler stimare una funzione che preveda il numero complessivo di tweet di un utente a partire dal numero medio di tentativi dello stesso. Prima di tutto, possiamo utilizzare una rappresentazione grafica per verificare se le due features siano correlate, e se sia quindi possibile utilizzare una di queste features per predire l'altra. "
   ]
  },
  {
   "cell_type": "code",
   "execution_count": 50,
   "id": "918b78c3-c03f-4f15-91bc-ad816c9c7875",
   "metadata": {},
   "outputs": [
    {
     "data": {
      "text/html": [
       "<div>\n",
       "<style scoped>\n",
       "    .dataframe tbody tr th:only-of-type {\n",
       "        vertical-align: middle;\n",
       "    }\n",
       "\n",
       "    .dataframe tbody tr th {\n",
       "        vertical-align: top;\n",
       "    }\n",
       "\n",
       "    .dataframe thead th {\n",
       "        text-align: right;\n",
       "    }\n",
       "</style>\n",
       "<table border=\"1\" class=\"dataframe\">\n",
       "  <thead>\n",
       "    <tr style=\"text-align: right;\">\n",
       "      <th></th>\n",
       "      <th>UserID</th>\n",
       "      <th>Num_tweets</th>\n",
       "      <th>mean_attempts_victory</th>\n",
       "    </tr>\n",
       "  </thead>\n",
       "  <tbody>\n",
       "    <tr>\n",
       "      <th>0</th>\n",
       "      <td>187.0</td>\n",
       "      <td>1</td>\n",
       "      <td>2.000000</td>\n",
       "    </tr>\n",
       "    <tr>\n",
       "      <th>1</th>\n",
       "      <td>422.0</td>\n",
       "      <td>1</td>\n",
       "      <td>4.000000</td>\n",
       "    </tr>\n",
       "    <tr>\n",
       "      <th>2</th>\n",
       "      <td>521.0</td>\n",
       "      <td>3</td>\n",
       "      <td>5.333333</td>\n",
       "    </tr>\n",
       "    <tr>\n",
       "      <th>3</th>\n",
       "      <td>556.0</td>\n",
       "      <td>5</td>\n",
       "      <td>3.800000</td>\n",
       "    </tr>\n",
       "    <tr>\n",
       "      <th>4</th>\n",
       "      <td>765.0</td>\n",
       "      <td>18</td>\n",
       "      <td>4.166667</td>\n",
       "    </tr>\n",
       "  </tbody>\n",
       "</table>\n",
       "</div>"
      ],
      "text/plain": [
       "   UserID  Num_tweets  mean_attempts_victory\n",
       "0   187.0           1               2.000000\n",
       "1   422.0           1               4.000000\n",
       "2   521.0           3               5.333333\n",
       "3   556.0           5               3.800000\n",
       "4   765.0          18               4.166667"
      ]
     },
     "execution_count": 50,
     "metadata": {},
     "output_type": "execute_result"
    }
   ],
   "source": [
    "num_tweets_by_user = wordle.groupby('UserID')['ID'].count().reset_index()\n",
    "num_tweets_by_user.columns = ['UserID', 'Num_tweets']\n",
    "\n",
    "# Calculate the mean attempts for each user in case of victory\n",
    "mean_attempts_victory_by_user = wordle[wordle['Win'] == 1].groupby('UserID')['Attempts'].mean().reset_index()\n",
    "mean_attempts_victory_by_user.columns = ['UserID', 'mean_attempts_victory']\n",
    "\n",
    "# Merge the two dataframes on 'UserID'\n",
    "user_stats = pd.merge(num_tweets_by_user, mean_attempts_victory_by_user, on='UserID')\n",
    "\n",
    "# Display the new dataframe\n",
    "user_stats.head()"
   ]
  },
  {
   "cell_type": "code",
   "execution_count": 51,
   "id": "754aa82e-5948-438d-b262-18933aac40eb",
   "metadata": {},
   "outputs": [
    {
     "data": {
      "text/plain": [
       "Text(0, 0.5, 'mean_attempts_victory')"
      ]
     },
     "execution_count": 51,
     "metadata": {},
     "output_type": "execute_result"
    },
    {
     "data": {
      "image/png": "[encoded data removed]",
      "text/plain": [
       "<Figure size 640x480 with 1 Axes>"
      ]
     },
     "metadata": {},
     "output_type": "display_data"
    }
   ],
   "source": [
    "plt.scatter(user_stats['Num_tweets'], user_stats['mean_attempts_victory'])\n",
    "plt.title('ML')\n",
    "plt.xlabel('Num_tweets')\n",
    "plt.ylabel('mean_attempts_victory')"
   ]
  },
  {
   "cell_type": "markdown",
   "id": "95b854ac-7f63-47f2-b5c7-03ebb0e5a22a",
   "metadata": {},
   "source": [
    "Per nostra sfortuna non è individuabile un comportamento lineare neanche sotto terra. Peccato :c"
   ]
  },
  {
   "cell_type": "code",
   "execution_count": 52,
   "id": "3924ef08-4a42-4ed5-98a4-8810ba38cb5a",
   "metadata": {},
   "outputs": [
    {
     "data": {
      "text/html": [
       "<div>\n",
       "<style scoped>\n",
       "    .dataframe tbody tr th:only-of-type {\n",
       "        vertical-align: middle;\n",
       "    }\n",
       "\n",
       "    .dataframe tbody tr th {\n",
       "        vertical-align: top;\n",
       "    }\n",
       "\n",
       "    .dataframe thead th {\n",
       "        text-align: right;\n",
       "    }\n",
       "</style>\n",
       "<table border=\"1\" class=\"dataframe\">\n",
       "  <thead>\n",
       "    <tr style=\"text-align: right;\">\n",
       "      <th></th>\n",
       "      <th>WordleID</th>\n",
       "      <th>ID</th>\n",
       "      <th>Created_At</th>\n",
       "      <th>Source</th>\n",
       "      <th>UserID</th>\n",
       "      <th>Attempts</th>\n",
       "      <th>Match</th>\n",
       "      <th>Win</th>\n",
       "      <th>UserActivity</th>\n",
       "      <th>TimeOfDay</th>\n",
       "      <th>Difficulty</th>\n",
       "      <th>Green_Count</th>\n",
       "      <th>Yellow_Count</th>\n",
       "      <th>Black_Count</th>\n",
       "      <th>White_Count</th>\n",
       "    </tr>\n",
       "  </thead>\n",
       "  <tbody>\n",
       "    <tr>\n",
       "      <th>0</th>\n",
       "      <td>254</td>\n",
       "      <td>1498447921448034305</td>\n",
       "      <td>2022-02-28 23:59:58+00:00</td>\n",
       "      <td>Twitter for iPhone</td>\n",
       "      <td>3.681676e+07</td>\n",
       "      <td>3</td>\n",
       "      <td>[🟨🟨⬛⬛⬛, 🟨⬛🟨⬛🟩, 🟩🟩🟩🟩🟩]</td>\n",
       "      <td>True</td>\n",
       "      <td>Low Activity</td>\n",
       "      <td>Evening</td>\n",
       "      <td>Easy</td>\n",
       "      <td>6</td>\n",
       "      <td>4</td>\n",
       "      <td>5</td>\n",
       "      <td>0</td>\n",
       "    </tr>\n",
       "    <tr>\n",
       "      <th>1</th>\n",
       "      <td>254</td>\n",
       "      <td>1498447918184996864</td>\n",
       "      <td>2022-02-28 23:59:58+00:00</td>\n",
       "      <td>Twitter for iPhone</td>\n",
       "      <td>4.825910e+08</td>\n",
       "      <td>4</td>\n",
       "      <td>[⬛⬛⬛⬛🟩, ⬛⬛⬛⬛🟩, ⬛🟩⬛⬛🟩, 🟩🟩🟩🟩🟩]</td>\n",
       "      <td>True</td>\n",
       "      <td>High Activity</td>\n",
       "      <td>Evening</td>\n",
       "      <td>Easy</td>\n",
       "      <td>9</td>\n",
       "      <td>0</td>\n",
       "      <td>11</td>\n",
       "      <td>0</td>\n",
       "    </tr>\n",
       "    <tr>\n",
       "      <th>2</th>\n",
       "      <td>254</td>\n",
       "      <td>1498447910173921282</td>\n",
       "      <td>2022-02-28 23:59:56+00:00</td>\n",
       "      <td>Twitter for iPhone</td>\n",
       "      <td>1.397624e+18</td>\n",
       "      <td>3</td>\n",
       "      <td>[⬛⬛⬛⬛🟩, ⬛⬛🟩⬛🟩, 🟩🟩🟩🟩🟩]</td>\n",
       "      <td>True</td>\n",
       "      <td>Low Activity</td>\n",
       "      <td>Evening</td>\n",
       "      <td>Easy</td>\n",
       "      <td>8</td>\n",
       "      <td>0</td>\n",
       "      <td>7</td>\n",
       "      <td>0</td>\n",
       "    </tr>\n",
       "    <tr>\n",
       "      <th>3</th>\n",
       "      <td>254</td>\n",
       "      <td>1498447901797801989</td>\n",
       "      <td>2022-02-28 23:59:54+00:00</td>\n",
       "      <td>Twitter for iPhone</td>\n",
       "      <td>1.255905e+18</td>\n",
       "      <td>3</td>\n",
       "      <td>[⬛⬛⬛🟨⬛, ⬛🟨⬛⬛🟩, 🟩🟩🟩🟩🟩]</td>\n",
       "      <td>True</td>\n",
       "      <td>Low Activity</td>\n",
       "      <td>Evening</td>\n",
       "      <td>Easy</td>\n",
       "      <td>6</td>\n",
       "      <td>2</td>\n",
       "      <td>7</td>\n",
       "      <td>0</td>\n",
       "    </tr>\n",
       "    <tr>\n",
       "      <th>4</th>\n",
       "      <td>254</td>\n",
       "      <td>1498447896911527938</td>\n",
       "      <td>2022-02-28 23:59:53+00:00</td>\n",
       "      <td>Twitter for iPhone</td>\n",
       "      <td>2.528937e+08</td>\n",
       "      <td>3</td>\n",
       "      <td>[⬛🟨⬛⬛⬛, 🟩🟩🟩⬛🟩, 🟩🟩🟩🟩🟩]</td>\n",
       "      <td>True</td>\n",
       "      <td>Low Activity</td>\n",
       "      <td>Evening</td>\n",
       "      <td>Easy</td>\n",
       "      <td>9</td>\n",
       "      <td>1</td>\n",
       "      <td>5</td>\n",
       "      <td>0</td>\n",
       "    </tr>\n",
       "    <tr>\n",
       "      <th>5</th>\n",
       "      <td>254</td>\n",
       "      <td>1498447881061253124</td>\n",
       "      <td>2022-02-28 23:59:49+00:00</td>\n",
       "      <td>Twitter for iPhone</td>\n",
       "      <td>7.341649e+17</td>\n",
       "      <td>4</td>\n",
       "      <td>[⬛⬛⬛⬛🟩, ⬛⬛🟩⬛🟩, 🟩🟩🟩⬛🟩, 🟩🟩🟩🟩🟩]</td>\n",
       "      <td>True</td>\n",
       "      <td>Low Activity</td>\n",
       "      <td>Evening</td>\n",
       "      <td>Easy</td>\n",
       "      <td>12</td>\n",
       "      <td>0</td>\n",
       "      <td>8</td>\n",
       "      <td>0</td>\n",
       "    </tr>\n",
       "    <tr>\n",
       "      <th>6</th>\n",
       "      <td>254</td>\n",
       "      <td>1498447879937175553</td>\n",
       "      <td>2022-02-28 23:59:49+00:00</td>\n",
       "      <td>Twitter for iPhone</td>\n",
       "      <td>1.067999e+09</td>\n",
       "      <td>2</td>\n",
       "      <td>[⬛⬛🟩🟩🟩, 🟩🟩🟩🟩🟩]</td>\n",
       "      <td>True</td>\n",
       "      <td>Low Activity</td>\n",
       "      <td>Evening</td>\n",
       "      <td>Easy</td>\n",
       "      <td>8</td>\n",
       "      <td>0</td>\n",
       "      <td>2</td>\n",
       "      <td>0</td>\n",
       "    </tr>\n",
       "    <tr>\n",
       "      <th>7</th>\n",
       "      <td>254</td>\n",
       "      <td>1498447879727468544</td>\n",
       "      <td>2022-02-28 23:59:48+00:00</td>\n",
       "      <td>Twitter for iPhone</td>\n",
       "      <td>9.579944e+17</td>\n",
       "      <td>6</td>\n",
       "      <td>[⬛⬛⬛⬛⬛, ⬛🟨⬛🟨🟨, ⬛🟨⬛🟨🟨, 🟩🟩🟨⬛⬛, 🟩🟩⬛⬛🟩, 🟩🟩🟩🟩🟩]</td>\n",
       "      <td>True</td>\n",
       "      <td>Very High Activity</td>\n",
       "      <td>Evening</td>\n",
       "      <td>Easy</td>\n",
       "      <td>10</td>\n",
       "      <td>7</td>\n",
       "      <td>13</td>\n",
       "      <td>0</td>\n",
       "    </tr>\n",
       "    <tr>\n",
       "      <th>8</th>\n",
       "      <td>254</td>\n",
       "      <td>1498447879245074437</td>\n",
       "      <td>2022-02-28 23:59:48+00:00</td>\n",
       "      <td>Twitter for Android</td>\n",
       "      <td>7.172461e+08</td>\n",
       "      <td>3</td>\n",
       "      <td>[⬛⬛🟨⬛⬛, ⬛⬛⬛🟩🟩, 🟩🟩🟩🟩🟩]</td>\n",
       "      <td>True</td>\n",
       "      <td>High Activity</td>\n",
       "      <td>Evening</td>\n",
       "      <td>Easy</td>\n",
       "      <td>7</td>\n",
       "      <td>1</td>\n",
       "      <td>7</td>\n",
       "      <td>0</td>\n",
       "    </tr>\n",
       "    <tr>\n",
       "      <th>9</th>\n",
       "      <td>254</td>\n",
       "      <td>1498447877697425411</td>\n",
       "      <td>2022-02-28 23:59:48+00:00</td>\n",
       "      <td>Twitter for iPhone</td>\n",
       "      <td>2.274865e+08</td>\n",
       "      <td>4</td>\n",
       "      <td>[⬛⬛⬛⬛🟨, ⬛🟨⬛⬛⬛, ⬛🟨⬛🟨⬛, 🟩🟩🟩🟩🟩]</td>\n",
       "      <td>True</td>\n",
       "      <td>Low Activity</td>\n",
       "      <td>Evening</td>\n",
       "      <td>Easy</td>\n",
       "      <td>5</td>\n",
       "      <td>4</td>\n",
       "      <td>11</td>\n",
       "      <td>0</td>\n",
       "    </tr>\n",
       "    <tr>\n",
       "      <th>10</th>\n",
       "      <td>254</td>\n",
       "      <td>1498447875235319811</td>\n",
       "      <td>2022-02-28 23:59:47+00:00</td>\n",
       "      <td>Twitter for iPhone</td>\n",
       "      <td>4.612102e+07</td>\n",
       "      <td>4</td>\n",
       "      <td>[⬛⬛⬛⬛🟩, ⬛⬛⬛⬛🟩, 🟩⬛🟩⬛🟩, 🟩🟩🟩🟩🟩]</td>\n",
       "      <td>True</td>\n",
       "      <td>Low Activity</td>\n",
       "      <td>Evening</td>\n",
       "      <td>Easy</td>\n",
       "      <td>10</td>\n",
       "      <td>0</td>\n",
       "      <td>10</td>\n",
       "      <td>0</td>\n",
       "    </tr>\n",
       "    <tr>\n",
       "      <th>11</th>\n",
       "      <td>254</td>\n",
       "      <td>1498447873867931650</td>\n",
       "      <td>2022-02-28 23:59:47+00:00</td>\n",
       "      <td>Twitter Web App</td>\n",
       "      <td>4.069242e+09</td>\n",
       "      <td>4</td>\n",
       "      <td>[⬜⬜⬜🟨⬜, 🟩🟨⬜⬜⬜, 🟨⬜⬜⬜⬜, 🟩🟩🟩🟩🟩]</td>\n",
       "      <td>True</td>\n",
       "      <td>Low Activity</td>\n",
       "      <td>Evening</td>\n",
       "      <td>Easy</td>\n",
       "      <td>6</td>\n",
       "      <td>3</td>\n",
       "      <td>0</td>\n",
       "      <td>11</td>\n",
       "    </tr>\n",
       "    <tr>\n",
       "      <th>12</th>\n",
       "      <td>254</td>\n",
       "      <td>1498447868918738944</td>\n",
       "      <td>2022-02-28 23:59:46+00:00</td>\n",
       "      <td>Twitter for iPhone</td>\n",
       "      <td>1.029771e+18</td>\n",
       "      <td>5</td>\n",
       "      <td>[⬛⬛⬛⬛🟩, ⬛🟨⬛⬛🟩, ⬛🟩🟩⬛🟩, 🟩🟩🟩⬛🟩, 🟩🟩🟩🟩🟩]</td>\n",
       "      <td>True</td>\n",
       "      <td>Medium Activity</td>\n",
       "      <td>Evening</td>\n",
       "      <td>Easy</td>\n",
       "      <td>14</td>\n",
       "      <td>1</td>\n",
       "      <td>10</td>\n",
       "      <td>0</td>\n",
       "    </tr>\n",
       "    <tr>\n",
       "      <th>13</th>\n",
       "      <td>254</td>\n",
       "      <td>1498447863801651202</td>\n",
       "      <td>2022-02-28 23:59:45+00:00</td>\n",
       "      <td>Twitter for iPhone</td>\n",
       "      <td>1.224903e+18</td>\n",
       "      <td>3</td>\n",
       "      <td>[⬜⬜🟩⬜⬜, 🟩🟩🟩⬜🟨, 🟩🟩🟩🟩🟩]</td>\n",
       "      <td>True</td>\n",
       "      <td>Low Activity</td>\n",
       "      <td>Evening</td>\n",
       "      <td>Easy</td>\n",
       "      <td>9</td>\n",
       "      <td>1</td>\n",
       "      <td>0</td>\n",
       "      <td>5</td>\n",
       "    </tr>\n",
       "    <tr>\n",
       "      <th>14</th>\n",
       "      <td>254</td>\n",
       "      <td>1498447858248339458</td>\n",
       "      <td>2022-02-28 23:59:43+00:00</td>\n",
       "      <td>Twitter for iPhone</td>\n",
       "      <td>3.367725e+08</td>\n",
       "      <td>4</td>\n",
       "      <td>[⬜⬜⬜⬜🟩, ⬜⬜⬜🟨🟩, 🟩⬜🟩⬜🟩, 🟩🟩🟩🟩🟩]</td>\n",
       "      <td>True</td>\n",
       "      <td>High Activity</td>\n",
       "      <td>Evening</td>\n",
       "      <td>Easy</td>\n",
       "      <td>10</td>\n",
       "      <td>1</td>\n",
       "      <td>0</td>\n",
       "      <td>9</td>\n",
       "    </tr>\n",
       "    <tr>\n",
       "      <th>15</th>\n",
       "      <td>254</td>\n",
       "      <td>1498447855534682114</td>\n",
       "      <td>2022-02-28 23:59:43+00:00</td>\n",
       "      <td>Twitter for iPhone</td>\n",
       "      <td>2.959580e+08</td>\n",
       "      <td>5</td>\n",
       "      <td>[🟩⬛⬛⬛🟩, 🟩🟨⬛⬛🟩, 🟩⬛🟩⬛🟩, 🟩🟩🟩⬛🟩, 🟩🟩🟩🟩🟩]</td>\n",
       "      <td>True</td>\n",
       "      <td>High Activity</td>\n",
       "      <td>Evening</td>\n",
       "      <td>Easy</td>\n",
       "      <td>16</td>\n",
       "      <td>1</td>\n",
       "      <td>8</td>\n",
       "      <td>0</td>\n",
       "    </tr>\n",
       "    <tr>\n",
       "      <th>16</th>\n",
       "      <td>254</td>\n",
       "      <td>1498447840250630147</td>\n",
       "      <td>2022-02-28 23:59:39+00:00</td>\n",
       "      <td>Twitter for iPhone</td>\n",
       "      <td>1.004117e+18</td>\n",
       "      <td>4</td>\n",
       "      <td>[🟩⬛⬛🟨⬛, 🟩⬛🟨⬛🟨, 🟩⬛🟩🟩🟩, 🟩🟩🟩🟩🟩]</td>\n",
       "      <td>True</td>\n",
       "      <td>Low Activity</td>\n",
       "      <td>Evening</td>\n",
       "      <td>Easy</td>\n",
       "      <td>11</td>\n",
       "      <td>3</td>\n",
       "      <td>6</td>\n",
       "      <td>0</td>\n",
       "    </tr>\n",
       "    <tr>\n",
       "      <th>17</th>\n",
       "      <td>254</td>\n",
       "      <td>1498447832725999625</td>\n",
       "      <td>2022-02-28 23:59:37+00:00</td>\n",
       "      <td>Twitter for iPhone</td>\n",
       "      <td>2.244479e+08</td>\n",
       "      <td>4</td>\n",
       "      <td>[⬛⬛⬛⬛🟩, ⬛⬛⬛⬛🟩, 🟩⬛⬛⬛🟩, 🟩🟩🟩🟩🟩]</td>\n",
       "      <td>True</td>\n",
       "      <td>Medium Activity</td>\n",
       "      <td>Evening</td>\n",
       "      <td>Easy</td>\n",
       "      <td>9</td>\n",
       "      <td>0</td>\n",
       "      <td>11</td>\n",
       "      <td>0</td>\n",
       "    </tr>\n",
       "    <tr>\n",
       "      <th>18</th>\n",
       "      <td>254</td>\n",
       "      <td>1498447831769567233</td>\n",
       "      <td>2022-02-28 23:59:37+00:00</td>\n",
       "      <td>Twitter for iPhone</td>\n",
       "      <td>2.959198e+09</td>\n",
       "      <td>4</td>\n",
       "      <td>[⬜⬜⬜⬜🟩, ⬜🟨⬜⬜🟩, ⬜🟩🟩⬜🟩, 🟩🟩🟩🟩🟩]</td>\n",
       "      <td>True</td>\n",
       "      <td>High Activity</td>\n",
       "      <td>Evening</td>\n",
       "      <td>Easy</td>\n",
       "      <td>10</td>\n",
       "      <td>1</td>\n",
       "      <td>0</td>\n",
       "      <td>9</td>\n",
       "    </tr>\n",
       "    <tr>\n",
       "      <th>19</th>\n",
       "      <td>254</td>\n",
       "      <td>1498447810232000513</td>\n",
       "      <td>2022-02-28 23:59:32+00:00</td>\n",
       "      <td>Twitter for iPhone</td>\n",
       "      <td>4.396083e+08</td>\n",
       "      <td>4</td>\n",
       "      <td>[⬛⬛🟨⬛⬛, 🟨🟨⬛⬛⬛, ⬛🟩🟩⬛🟩, 🟩🟩🟩🟩🟩]</td>\n",
       "      <td>True</td>\n",
       "      <td>Low Activity</td>\n",
       "      <td>Evening</td>\n",
       "      <td>Easy</td>\n",
       "      <td>8</td>\n",
       "      <td>3</td>\n",
       "      <td>9</td>\n",
       "      <td>0</td>\n",
       "    </tr>\n",
       "    <tr>\n",
       "      <th>20</th>\n",
       "      <td>254</td>\n",
       "      <td>1498447809292423169</td>\n",
       "      <td>2022-02-28 23:59:32+00:00</td>\n",
       "      <td>Twitter Web App</td>\n",
       "      <td>1.142496e+18</td>\n",
       "      <td>5</td>\n",
       "      <td>[⬜⬜⬜⬜🟨, 🟨⬜🟨🟨⬜, ⬜🟩🟨🟨⬜, ⬜🟩🟩⬜🟩, 🟩🟩🟩🟩🟩]</td>\n",
       "      <td>True</td>\n",
       "      <td>Medium Activity</td>\n",
       "      <td>Evening</td>\n",
       "      <td>Easy</td>\n",
       "      <td>9</td>\n",
       "      <td>6</td>\n",
       "      <td>0</td>\n",
       "      <td>10</td>\n",
       "    </tr>\n",
       "    <tr>\n",
       "      <th>22</th>\n",
       "      <td>254</td>\n",
       "      <td>1498447805014237185</td>\n",
       "      <td>2022-02-28 23:59:31+00:00</td>\n",
       "      <td>Twitter for iPhone</td>\n",
       "      <td>3.237909e+09</td>\n",
       "      <td>4</td>\n",
       "      <td>[⬛⬛🟨⬛⬛, ⬛⬛⬛⬛🟩, ⬛⬛⬛🟨🟩, 🟩🟩🟩🟩🟩]</td>\n",
       "      <td>True</td>\n",
       "      <td>Medium Activity</td>\n",
       "      <td>Evening</td>\n",
       "      <td>Easy</td>\n",
       "      <td>7</td>\n",
       "      <td>2</td>\n",
       "      <td>11</td>\n",
       "      <td>0</td>\n",
       "    </tr>\n",
       "    <tr>\n",
       "      <th>23</th>\n",
       "      <td>254</td>\n",
       "      <td>1498447803458240515</td>\n",
       "      <td>2022-02-28 23:59:30+00:00</td>\n",
       "      <td>Twitter for iPhone</td>\n",
       "      <td>1.112081e+18</td>\n",
       "      <td>3</td>\n",
       "      <td>[🟨⬛⬛🟨⬛, 🟩🟩🟩⬛🟩, 🟩🟩🟩🟩🟩]</td>\n",
       "      <td>True</td>\n",
       "      <td>Medium Activity</td>\n",
       "      <td>Evening</td>\n",
       "      <td>Easy</td>\n",
       "      <td>9</td>\n",
       "      <td>2</td>\n",
       "      <td>4</td>\n",
       "      <td>0</td>\n",
       "    </tr>\n",
       "    <tr>\n",
       "      <th>24</th>\n",
       "      <td>254</td>\n",
       "      <td>1498447799230283777</td>\n",
       "      <td>2022-02-28 23:59:29+00:00</td>\n",
       "      <td>Twitter for iPhone</td>\n",
       "      <td>1.258492e+18</td>\n",
       "      <td>1</td>\n",
       "      <td>[🟩🟩🟩🟩🟩]</td>\n",
       "      <td>True</td>\n",
       "      <td>Low Activity</td>\n",
       "      <td>Evening</td>\n",
       "      <td>Easy</td>\n",
       "      <td>5</td>\n",
       "      <td>0</td>\n",
       "      <td>0</td>\n",
       "      <td>0</td>\n",
       "    </tr>\n",
       "    <tr>\n",
       "      <th>25</th>\n",
       "      <td>254</td>\n",
       "      <td>1498447793538568192</td>\n",
       "      <td>2022-02-28 23:59:28+00:00</td>\n",
       "      <td>Twitter for iPhone</td>\n",
       "      <td>7.294822e+08</td>\n",
       "      <td>4</td>\n",
       "      <td>[⬛⬛⬛⬛🟩, ⬛⬛⬛⬛🟩, ⬛🟩🟩⬛🟩, 🟩🟩🟩🟩🟩]</td>\n",
       "      <td>True</td>\n",
       "      <td>Low Activity</td>\n",
       "      <td>Evening</td>\n",
       "      <td>Easy</td>\n",
       "      <td>10</td>\n",
       "      <td>0</td>\n",
       "      <td>10</td>\n",
       "      <td>0</td>\n",
       "    </tr>\n",
       "    <tr>\n",
       "      <th>26</th>\n",
       "      <td>254</td>\n",
       "      <td>1498447790569144320</td>\n",
       "      <td>2022-02-28 23:59:27+00:00</td>\n",
       "      <td>Twitter Web App</td>\n",
       "      <td>1.829332e+07</td>\n",
       "      <td>5</td>\n",
       "      <td>[⬜🟨⬜⬜⬜, ⬜⬜🟨🟨⬜, 🟩🟩⬜⬜🟩, 🟩🟩🟩⬜🟩, 🟩🟩🟩🟩🟩]</td>\n",
       "      <td>True</td>\n",
       "      <td>High Activity</td>\n",
       "      <td>Evening</td>\n",
       "      <td>Easy</td>\n",
       "      <td>12</td>\n",
       "      <td>3</td>\n",
       "      <td>0</td>\n",
       "      <td>10</td>\n",
       "    </tr>\n",
       "    <tr>\n",
       "      <th>27</th>\n",
       "      <td>254</td>\n",
       "      <td>1498447789948383232</td>\n",
       "      <td>2022-02-28 23:59:27+00:00</td>\n",
       "      <td>Twitter for iPhone</td>\n",
       "      <td>4.159186e+09</td>\n",
       "      <td>3</td>\n",
       "      <td>[🟩⬛⬛⬛🟩, 🟩⬛🟩🟩🟩, 🟩🟩🟩🟩🟩]</td>\n",
       "      <td>True</td>\n",
       "      <td>Low Activity</td>\n",
       "      <td>Evening</td>\n",
       "      <td>Easy</td>\n",
       "      <td>11</td>\n",
       "      <td>0</td>\n",
       "      <td>4</td>\n",
       "      <td>0</td>\n",
       "    </tr>\n",
       "    <tr>\n",
       "      <th>28</th>\n",
       "      <td>254</td>\n",
       "      <td>1498447788069249032</td>\n",
       "      <td>2022-02-28 23:59:27+00:00</td>\n",
       "      <td>Twitter for Android</td>\n",
       "      <td>3.903871e+08</td>\n",
       "      <td>3</td>\n",
       "      <td>[⬛⬛⬛⬛⬛, ⬛🟩🟩⬛⬛, 🟩🟩🟩🟩🟩]</td>\n",
       "      <td>True</td>\n",
       "      <td>Low Activity</td>\n",
       "      <td>Evening</td>\n",
       "      <td>Easy</td>\n",
       "      <td>7</td>\n",
       "      <td>0</td>\n",
       "      <td>8</td>\n",
       "      <td>0</td>\n",
       "    </tr>\n",
       "    <tr>\n",
       "      <th>29</th>\n",
       "      <td>254</td>\n",
       "      <td>1498447782218141701</td>\n",
       "      <td>2022-02-28 23:59:25+00:00</td>\n",
       "      <td>TweetDeck</td>\n",
       "      <td>3.545476e+07</td>\n",
       "      <td>5</td>\n",
       "      <td>[⬛⬛⬛⬛🟨, ⬛🟨🟨⬛⬛, ⬛🟨⬛⬛🟨, ⬛🟩🟩⬛🟩, 🟩🟩🟩🟩🟩]</td>\n",
       "      <td>True</td>\n",
       "      <td>High Activity</td>\n",
       "      <td>Evening</td>\n",
       "      <td>Easy</td>\n",
       "      <td>8</td>\n",
       "      <td>5</td>\n",
       "      <td>12</td>\n",
       "      <td>0</td>\n",
       "    </tr>\n",
       "    <tr>\n",
       "      <th>30</th>\n",
       "      <td>254</td>\n",
       "      <td>1498447774400012290</td>\n",
       "      <td>2022-02-28 23:59:23+00:00</td>\n",
       "      <td>Twitter for iPhone</td>\n",
       "      <td>2.308483e+09</td>\n",
       "      <td>4</td>\n",
       "      <td>[⬛🟨🟩⬛⬛, ⬛⬛🟩⬛🟩, ⬛🟩🟩⬛🟩, 🟩🟩🟩🟩🟩]</td>\n",
       "      <td>True</td>\n",
       "      <td>Medium Activity</td>\n",
       "      <td>Evening</td>\n",
       "      <td>Easy</td>\n",
       "      <td>11</td>\n",
       "      <td>1</td>\n",
       "      <td>8</td>\n",
       "      <td>0</td>\n",
       "    </tr>\n",
       "  </tbody>\n",
       "</table>\n",
       "</div>"
      ],
      "text/plain": [
       "    WordleID                   ID                Created_At  \\\n",
       "0        254  1498447921448034305 2022-02-28 23:59:58+00:00   \n",
       "1        254  1498447918184996864 2022-02-28 23:59:58+00:00   \n",
       "2        254  1498447910173921282 2022-02-28 23:59:56+00:00   \n",
       "3        254  1498447901797801989 2022-02-28 23:59:54+00:00   \n",
       "4        254  1498447896911527938 2022-02-28 23:59:53+00:00   \n",
       "5        254  1498447881061253124 2022-02-28 23:59:49+00:00   \n",
       "6        254  1498447879937175553 2022-02-28 23:59:49+00:00   \n",
       "7        254  1498447879727468544 2022-02-28 23:59:48+00:00   \n",
       "8        254  1498447879245074437 2022-02-28 23:59:48+00:00   \n",
       "9        254  1498447877697425411 2022-02-28 23:59:48+00:00   \n",
       "10       254  1498447875235319811 2022-02-28 23:59:47+00:00   \n",
       "11       254  1498447873867931650 2022-02-28 23:59:47+00:00   \n",
       "12       254  1498447868918738944 2022-02-28 23:59:46+00:00   \n",
       "13       254  1498447863801651202 2022-02-28 23:59:45+00:00   \n",
       "14       254  1498447858248339458 2022-02-28 23:59:43+00:00   \n",
       "15       254  1498447855534682114 2022-02-28 23:59:43+00:00   \n",
       "16       254  1498447840250630147 2022-02-28 23:59:39+00:00   \n",
       "17       254  1498447832725999625 2022-02-28 23:59:37+00:00   \n",
       "18       254  1498447831769567233 2022-02-28 23:59:37+00:00   \n",
       "19       254  1498447810232000513 2022-02-28 23:59:32+00:00   \n",
       "20       254  1498447809292423169 2022-02-28 23:59:32+00:00   \n",
       "22       254  1498447805014237185 2022-02-28 23:59:31+00:00   \n",
       "23       254  1498447803458240515 2022-02-28 23:59:30+00:00   \n",
       "24       254  1498447799230283777 2022-02-28 23:59:29+00:00   \n",
       "25       254  1498447793538568192 2022-02-28 23:59:28+00:00   \n",
       "26       254  1498447790569144320 2022-02-28 23:59:27+00:00   \n",
       "27       254  1498447789948383232 2022-02-28 23:59:27+00:00   \n",
       "28       254  1498447788069249032 2022-02-28 23:59:27+00:00   \n",
       "29       254  1498447782218141701 2022-02-28 23:59:25+00:00   \n",
       "30       254  1498447774400012290 2022-02-28 23:59:23+00:00   \n",
       "\n",
       "                 Source        UserID  Attempts  \\\n",
       "0    Twitter for iPhone  3.681676e+07         3   \n",
       "1    Twitter for iPhone  4.825910e+08         4   \n",
       "2    Twitter for iPhone  1.397624e+18         3   \n",
       "3    Twitter for iPhone  1.255905e+18         3   \n",
       "4    Twitter for iPhone  2.528937e+08         3   \n",
       "5    Twitter for iPhone  7.341649e+17         4   \n",
       "6    Twitter for iPhone  1.067999e+09         2   \n",
       "7    Twitter for iPhone  9.579944e+17         6   \n",
       "8   Twitter for Android  7.172461e+08         3   \n",
       "9    Twitter for iPhone  2.274865e+08         4   \n",
       "10   Twitter for iPhone  4.612102e+07         4   \n",
       "11      Twitter Web App  4.069242e+09         4   \n",
       "12   Twitter for iPhone  1.029771e+18         5   \n",
       "13   Twitter for iPhone  1.224903e+18         3   \n",
       "14   Twitter for iPhone  3.367725e+08         4   \n",
       "15   Twitter for iPhone  2.959580e+08         5   \n",
       "16   Twitter for iPhone  1.004117e+18         4   \n",
       "17   Twitter for iPhone  2.244479e+08         4   \n",
       "18   Twitter for iPhone  2.959198e+09         4   \n",
       "19   Twitter for iPhone  4.396083e+08         4   \n",
       "20      Twitter Web App  1.142496e+18         5   \n",
       "22   Twitter for iPhone  3.237909e+09         4   \n",
       "23   Twitter for iPhone  1.112081e+18         3   \n",
       "24   Twitter for iPhone  1.258492e+18         1   \n",
       "25   Twitter for iPhone  7.294822e+08         4   \n",
       "26      Twitter Web App  1.829332e+07         5   \n",
       "27   Twitter for iPhone  4.159186e+09         3   \n",
       "28  Twitter for Android  3.903871e+08         3   \n",
       "29            TweetDeck  3.545476e+07         5   \n",
       "30   Twitter for iPhone  2.308483e+09         4   \n",
       "\n",
       "                                         Match   Win        UserActivity  \\\n",
       "0                        [🟨🟨⬛⬛⬛, 🟨⬛🟨⬛🟩, 🟩🟩🟩🟩🟩]  True        Low Activity   \n",
       "1                 [⬛⬛⬛⬛🟩, ⬛⬛⬛⬛🟩, ⬛🟩⬛⬛🟩, 🟩🟩🟩🟩🟩]  True       High Activity   \n",
       "2                        [⬛⬛⬛⬛🟩, ⬛⬛🟩⬛🟩, 🟩🟩🟩🟩🟩]  True        Low Activity   \n",
       "3                        [⬛⬛⬛🟨⬛, ⬛🟨⬛⬛🟩, 🟩🟩🟩🟩🟩]  True        Low Activity   \n",
       "4                        [⬛🟨⬛⬛⬛, 🟩🟩🟩⬛🟩, 🟩🟩🟩🟩🟩]  True        Low Activity   \n",
       "5                 [⬛⬛⬛⬛🟩, ⬛⬛🟩⬛🟩, 🟩🟩🟩⬛🟩, 🟩🟩🟩🟩🟩]  True        Low Activity   \n",
       "6                               [⬛⬛🟩🟩🟩, 🟩🟩🟩🟩🟩]  True        Low Activity   \n",
       "7   [⬛⬛⬛⬛⬛, ⬛🟨⬛🟨🟨, ⬛🟨⬛🟨🟨, 🟩🟩🟨⬛⬛, 🟩🟩⬛⬛🟩, 🟩🟩🟩🟩🟩]  True  Very High Activity   \n",
       "8                        [⬛⬛🟨⬛⬛, ⬛⬛⬛🟩🟩, 🟩🟩🟩🟩🟩]  True       High Activity   \n",
       "9                 [⬛⬛⬛⬛🟨, ⬛🟨⬛⬛⬛, ⬛🟨⬛🟨⬛, 🟩🟩🟩🟩🟩]  True        Low Activity   \n",
       "10                [⬛⬛⬛⬛🟩, ⬛⬛⬛⬛🟩, 🟩⬛🟩⬛🟩, 🟩🟩🟩🟩🟩]  True        Low Activity   \n",
       "11                [⬜⬜⬜🟨⬜, 🟩🟨⬜⬜⬜, 🟨⬜⬜⬜⬜, 🟩🟩🟩🟩🟩]  True        Low Activity   \n",
       "12         [⬛⬛⬛⬛🟩, ⬛🟨⬛⬛🟩, ⬛🟩🟩⬛🟩, 🟩🟩🟩⬛🟩, 🟩🟩🟩🟩🟩]  True     Medium Activity   \n",
       "13                       [⬜⬜🟩⬜⬜, 🟩🟩🟩⬜🟨, 🟩🟩🟩🟩🟩]  True        Low Activity   \n",
       "14                [⬜⬜⬜⬜🟩, ⬜⬜⬜🟨🟩, 🟩⬜🟩⬜🟩, 🟩🟩🟩🟩🟩]  True       High Activity   \n",
       "15         [🟩⬛⬛⬛🟩, 🟩🟨⬛⬛🟩, 🟩⬛🟩⬛🟩, 🟩🟩🟩⬛🟩, 🟩🟩🟩🟩🟩]  True       High Activity   \n",
       "16                [🟩⬛⬛🟨⬛, 🟩⬛🟨⬛🟨, 🟩⬛🟩🟩🟩, 🟩🟩🟩🟩🟩]  True        Low Activity   \n",
       "17                [⬛⬛⬛⬛🟩, ⬛⬛⬛⬛🟩, 🟩⬛⬛⬛🟩, 🟩🟩🟩🟩🟩]  True     Medium Activity   \n",
       "18                [⬜⬜⬜⬜🟩, ⬜🟨⬜⬜🟩, ⬜🟩🟩⬜🟩, 🟩🟩🟩🟩🟩]  True       High Activity   \n",
       "19                [⬛⬛🟨⬛⬛, 🟨🟨⬛⬛⬛, ⬛🟩🟩⬛🟩, 🟩🟩🟩🟩🟩]  True        Low Activity   \n",
       "20         [⬜⬜⬜⬜🟨, 🟨⬜🟨🟨⬜, ⬜🟩🟨🟨⬜, ⬜🟩🟩⬜🟩, 🟩🟩🟩🟩🟩]  True     Medium Activity   \n",
       "22                [⬛⬛🟨⬛⬛, ⬛⬛⬛⬛🟩, ⬛⬛⬛🟨🟩, 🟩🟩🟩🟩🟩]  True     Medium Activity   \n",
       "23                       [🟨⬛⬛🟨⬛, 🟩🟩🟩⬛🟩, 🟩🟩🟩🟩🟩]  True     Medium Activity   \n",
       "24                                     [🟩🟩🟩🟩🟩]  True        Low Activity   \n",
       "25                [⬛⬛⬛⬛🟩, ⬛⬛⬛⬛🟩, ⬛🟩🟩⬛🟩, 🟩🟩🟩🟩🟩]  True        Low Activity   \n",
       "26         [⬜🟨⬜⬜⬜, ⬜⬜🟨🟨⬜, 🟩🟩⬜⬜🟩, 🟩🟩🟩⬜🟩, 🟩🟩🟩🟩🟩]  True       High Activity   \n",
       "27                       [🟩⬛⬛⬛🟩, 🟩⬛🟩🟩🟩, 🟩🟩🟩🟩🟩]  True        Low Activity   \n",
       "28                       [⬛⬛⬛⬛⬛, ⬛🟩🟩⬛⬛, 🟩🟩🟩🟩🟩]  True        Low Activity   \n",
       "29         [⬛⬛⬛⬛🟨, ⬛🟨🟨⬛⬛, ⬛🟨⬛⬛🟨, ⬛🟩🟩⬛🟩, 🟩🟩🟩🟩🟩]  True       High Activity   \n",
       "30                [⬛🟨🟩⬛⬛, ⬛⬛🟩⬛🟩, ⬛🟩🟩⬛🟩, 🟩🟩🟩🟩🟩]  True     Medium Activity   \n",
       "\n",
       "   TimeOfDay Difficulty  Green_Count  Yellow_Count  Black_Count  White_Count  \n",
       "0    Evening       Easy            6             4            5            0  \n",
       "1    Evening       Easy            9             0           11            0  \n",
       "2    Evening       Easy            8             0            7            0  \n",
       "3    Evening       Easy            6             2            7            0  \n",
       "4    Evening       Easy            9             1            5            0  \n",
       "5    Evening       Easy           12             0            8            0  \n",
       "6    Evening       Easy            8             0            2            0  \n",
       "7    Evening       Easy           10             7           13            0  \n",
       "8    Evening       Easy            7             1            7            0  \n",
       "9    Evening       Easy            5             4           11            0  \n",
       "10   Evening       Easy           10             0           10            0  \n",
       "11   Evening       Easy            6             3            0           11  \n",
       "12   Evening       Easy           14             1           10            0  \n",
       "13   Evening       Easy            9             1            0            5  \n",
       "14   Evening       Easy           10             1            0            9  \n",
       "15   Evening       Easy           16             1            8            0  \n",
       "16   Evening       Easy           11             3            6            0  \n",
       "17   Evening       Easy            9             0           11            0  \n",
       "18   Evening       Easy           10             1            0            9  \n",
       "19   Evening       Easy            8             3            9            0  \n",
       "20   Evening       Easy            9             6            0           10  \n",
       "22   Evening       Easy            7             2           11            0  \n",
       "23   Evening       Easy            9             2            4            0  \n",
       "24   Evening       Easy            5             0            0            0  \n",
       "25   Evening       Easy           10             0           10            0  \n",
       "26   Evening       Easy           12             3            0           10  \n",
       "27   Evening       Easy           11             0            4            0  \n",
       "28   Evening       Easy            7             0            8            0  \n",
       "29   Evening       Easy            8             5           12            0  \n",
       "30   Evening       Easy           11             1            8            0  "
      ]
     },
     "execution_count": 52,
     "metadata": {},
     "output_type": "execute_result"
    }
   ],
   "source": [
    "# Function to count occurrences of each type of square emoji\n",
    "def count_squares(emojis):\n",
    "    green = 0\n",
    "    yellow = 0\n",
    "    black = 0\n",
    "    white = 0\n",
    "    for emoji_list in emojis:\n",
    "        green += emoji_list.count('🟩')\n",
    "        yellow += emoji_list.count('🟨')\n",
    "        black += emoji_list.count('⬛')\n",
    "        white += emoji_list.count('⬜')\n",
    "    return green, yellow, black, white\n",
    "\n",
    "# Apply the function to 'Match' column and create new columns\n",
    "wordle['Green_Count'], wordle['Yellow_Count'], wordle['Black_Count'], wordle['White_Count'] = zip(*wordle['Match'].apply(count_squares))\n",
    "\n",
    "wordle.head(30)"
   ]
  },
  {
   "cell_type": "markdown",
   "id": "9abf543d-473c-46a8-ab74-705ef72b3811",
   "metadata": {},
   "source": [
    "Supponiamo di voler stimare una funzione che preveda il numero complessivo di condivisioni di un utente a partire dal numero di tentativi complessivi dello stesso. Prima di tutto, possiamo utilizzare una rappresentazione grafica per verificare se le due features siano correlate, e se sia quindi possibile utilizzare una di queste features per predire l'altra. "
   ]
  },
  {
   "cell_type": "code",
   "execution_count": 78,
   "id": "68eef77c-5659-4202-8929-dc98f67fb33c",
   "metadata": {},
   "outputs": [
    {
     "data": {
      "text/html": [
       "<div>\n",
       "<style scoped>\n",
       "    .dataframe tbody tr th:only-of-type {\n",
       "        vertical-align: middle;\n",
       "    }\n",
       "\n",
       "    .dataframe tbody tr th {\n",
       "        vertical-align: top;\n",
       "    }\n",
       "\n",
       "    .dataframe thead th {\n",
       "        text-align: right;\n",
       "    }\n",
       "</style>\n",
       "<table border=\"1\" class=\"dataframe\">\n",
       "  <thead>\n",
       "    <tr style=\"text-align: right;\">\n",
       "      <th></th>\n",
       "      <th>UserID</th>\n",
       "      <th>Num_tweets</th>\n",
       "      <th>mean_attempts_victory</th>\n",
       "      <th>Total_Green_Squares</th>\n",
       "      <th>Total_Attempts_x</th>\n",
       "      <th>Total_Attempts_y</th>\n",
       "      <th>Total_Attempts</th>\n",
       "    </tr>\n",
       "  </thead>\n",
       "  <tbody>\n",
       "    <tr>\n",
       "      <th>0</th>\n",
       "      <td>187.0</td>\n",
       "      <td>1</td>\n",
       "      <td>2.000000</td>\n",
       "      <td>6</td>\n",
       "      <td>2</td>\n",
       "      <td>2</td>\n",
       "      <td>2</td>\n",
       "    </tr>\n",
       "    <tr>\n",
       "      <th>1</th>\n",
       "      <td>422.0</td>\n",
       "      <td>1</td>\n",
       "      <td>4.000000</td>\n",
       "      <td>8</td>\n",
       "      <td>4</td>\n",
       "      <td>4</td>\n",
       "      <td>4</td>\n",
       "    </tr>\n",
       "    <tr>\n",
       "      <th>2</th>\n",
       "      <td>521.0</td>\n",
       "      <td>3</td>\n",
       "      <td>5.333333</td>\n",
       "      <td>35</td>\n",
       "      <td>16</td>\n",
       "      <td>16</td>\n",
       "      <td>16</td>\n",
       "    </tr>\n",
       "    <tr>\n",
       "      <th>3</th>\n",
       "      <td>556.0</td>\n",
       "      <td>5</td>\n",
       "      <td>3.800000</td>\n",
       "      <td>39</td>\n",
       "      <td>19</td>\n",
       "      <td>19</td>\n",
       "      <td>19</td>\n",
       "    </tr>\n",
       "    <tr>\n",
       "      <th>4</th>\n",
       "      <td>765.0</td>\n",
       "      <td>18</td>\n",
       "      <td>4.166667</td>\n",
       "      <td>154</td>\n",
       "      <td>75</td>\n",
       "      <td>75</td>\n",
       "      <td>75</td>\n",
       "    </tr>\n",
       "  </tbody>\n",
       "</table>\n",
       "</div>"
      ],
      "text/plain": [
       "   UserID  Num_tweets  mean_attempts_victory  Total_Green_Squares  \\\n",
       "0   187.0           1               2.000000                    6   \n",
       "1   422.0           1               4.000000                    8   \n",
       "2   521.0           3               5.333333                   35   \n",
       "3   556.0           5               3.800000                   39   \n",
       "4   765.0          18               4.166667                  154   \n",
       "\n",
       "   Total_Attempts_x  Total_Attempts_y  Total_Attempts  \n",
       "0                 2                 2               2  \n",
       "1                 4                 4               4  \n",
       "2                16                16              16  \n",
       "3                19                19              19  \n",
       "4                75                75              75  "
      ]
     },
     "execution_count": 78,
     "metadata": {},
     "output_type": "execute_result"
    }
   ],
   "source": [
    "total_attempts_by_user = wordle.groupby('UserID')['Attempts'].sum().reset_index()\n",
    "total_attempts_by_user.columns = ['UserID', 'Total_Attempts']\n",
    "\n",
    "# Merge the new dataframe with user_stats on 'UserID'\n",
    "user_stats = pd.merge(user_stats, total_attempts_by_user, on='UserID')\n",
    "\n",
    "# Display the updated dataframe\n",
    "user_stats.head()"
   ]
  },
  {
   "cell_type": "code",
   "execution_count": 79,
   "id": "d59d846d-bbb6-49a7-aa7d-c66fac4b44df",
   "metadata": {},
   "outputs": [
    {
     "data": {
      "text/plain": [
       "Text(0, 0.5, 'Total_Attempts')"
      ]
     },
     "execution_count": 79,
     "metadata": {},
     "output_type": "execute_result"
    },
    {
     "data": {
      "image/png": "[encoded data removed]",
      "text/plain": [
       "<Figure size 640x480 with 1 Axes>"
      ]
     },
     "metadata": {},
     "output_type": "display_data"
    }
   ],
   "source": [
    "plt.scatter(user_stats['Num_tweets'], user_stats['Total_Attempts'])\n",
    "plt.xlabel('Num_tweets')\n",
    "plt.ylabel('Total_Attempts')"
   ]
  },
  {
   "cell_type": "markdown",
   "id": "7576814a-4fe2-4894-a2ef-eee71803b821",
   "metadata": {},
   "source": [
    "Questo è lineare, ma è sensato?"
   ]
  },
  {
   "cell_type": "code",
   "execution_count": 65,
   "id": "849af783-0a5b-4868-9844-68652d302fd2",
   "metadata": {},
   "outputs": [
    {
     "name": "stdout",
     "output_type": "stream",
     "text": [
      "                Num_tweets  Total_Attempts\n",
      "Num_tweets        1.000000        0.992999\n",
      "Total_Attempts    0.992999        1.000000\n"
     ]
    }
   ],
   "source": [
    "r = user_stats[['Num_tweets', 'Total_Attempts']].corr()\n",
    "print(r)"
   ]
  },
  {
   "cell_type": "code",
   "execution_count": 66,
   "id": "34d51ab6-2938-4982-af54-341e1cd5494a",
   "metadata": {},
   "outputs": [
    {
     "data": {
      "text/plain": [
       "<matplotlib.image.AxesImage at 0x1c7e1cda7e0>"
      ]
     },
     "execution_count": 66,
     "metadata": {},
     "output_type": "execute_result"
    },
    {
     "data": {
      "image/png": "[encoded data removed]",
      "text/plain": [
       "<Figure size 640x480 with 1 Axes>"
      ]
     },
     "metadata": {},
     "output_type": "display_data"
    }
   ],
   "source": [
    "plt.imshow(r)"
   ]
  },
  {
   "cell_type": "code",
   "execution_count": 67,
   "id": "f57f7e78-c148-45d7-9f45-5625e191a0e6",
   "metadata": {},
   "outputs": [],
   "source": [
    "from sklearn.model_selection import train_test_split\n",
    "#nei metodi predittivi normalmente scarto le colonne con valori nulli perchè non portano informazioni utili e veritiere nell'insieme di allenamento\n",
    "\n",
    "features = ['Total_Attempts']\n",
    "X = user_stats[features]\n",
    "Y = user_stats['Num_tweets']\n",
    "\n",
    "X_train, X_valid, y_train, y_valid = train_test_split(X, Y, test_size = 0.2)\n"
   ]
  },
  {
   "cell_type": "code",
   "execution_count": 70,
   "id": "92352c76-2b65-4749-bb5d-18d7733d3452",
   "metadata": {},
   "outputs": [
    {
     "data": {
      "text/plain": [
       "<matplotlib.collections.PathCollection at 0x1c7e6a92810>"
      ]
     },
     "execution_count": 70,
     "metadata": {},
     "output_type": "execute_result"
    },
    {
     "data": {
      "image/png": "[encoded data removed]",
      "text/plain": [
       "<Figure size 640x480 with 1 Axes>"
      ]
     },
     "metadata": {},
     "output_type": "display_data"
    }
   ],
   "source": [
    "from sklearn.linear_model import LinearRegression\n",
    "\n",
    "regressor = LinearRegression()\n",
    "reg = regressor.fit(X_train, y_train)\n",
    "\n",
    "#scriviamo la retta \n",
    "y_pred_train = reg.coef_*X_train + reg.intercept_\n",
    "plt.scatter(X_train, y_train)\n",
    "plt.scatter(X_train, y_pred_train)"
   ]
  },
  {
   "cell_type": "code",
   "execution_count": 71,
   "id": "4b56f53f-ac9c-4c02-97f3-77ae9e4f647a",
   "metadata": {},
   "outputs": [
    {
     "data": {
      "text/plain": [
       "<matplotlib.collections.PathCollection at 0x1c7f8fac4d0>"
      ]
     },
     "execution_count": 71,
     "metadata": {},
     "output_type": "execute_result"
    },
    {
     "data": {
      "image/png": "[encoded data removed]",
      "text/plain": [
       "<Figure size 640x480 with 1 Axes>"
      ]
     },
     "metadata": {},
     "output_type": "display_data"
    }
   ],
   "source": [
    "y_hat = reg.predict(X_valid)\n",
    "plt.scatter(X_valid,y_valid,c='r',alpha=0.2)\n",
    "plt.scatter(X_valid,y_hat)"
   ]
  },
  {
   "cell_type": "markdown",
   "id": "fe2083cd-413b-42bc-aa74-fddfb3e63b04",
   "metadata": {},
   "source": [
    "Ora, come possiamo stimare la precisione della funzione che abbiamo imparato?\n",
    "\n",
    "Sappiamo che non esiste una soluzione perfetta, ma possiamo trovare la soluzione migliore possibile, con i dati a disposizione. Per trovarla, useremo stime degli errori.\n",
    "\n",
    "Abbiamo visto che ci sono tre metriche per valutare i modelli a regressione di machine learning:\n",
    "\n",
    "- lo scarto medio assoluto (MAE - Mean Absolute Error);\n",
    "- l’errore quadratico medio (MSE - Mean Squared Error);\n",
    "- la radice dell’errore quadratico medio (RMSE - Root of Mean Squared Error)."
   ]
  },
  {
   "cell_type": "code",
   "execution_count": 73,
   "id": "4fe124fc-fc27-4ad6-8fbc-a425079be498",
   "metadata": {},
   "outputs": [],
   "source": [
    "# sommatoria del quadrato della differenza tra y vera e y predetta diviso il numero di y -> MSE\n",
    "def MSE (y_pred,y_true):\n",
    "   return 1/y_pred.shape[0] * np.abs((y_pred-y_true)).sum()\n",
    "\n",
    "# sommatoria del valore assoluto della differenza tra y vera e y predetta diviso il numero di y -> MAE\n",
    "def MAE (y_pred,y_true):\n",
    "     return 1/y_pred.shape[0] * ((y_pred-y_true)**2).sum()\n",
    "\n",
    "# radice della sommatoria del quadrato della differenza tra y vera e y predetta diviso il numero di y -> RMSE\n",
    "def RMSE (y_pred,y_true):\n",
    "     return np.sqrt(1/y_pred.shape[0] * ((y_pred-y_true)**2).sum())"
   ]
  },
  {
   "cell_type": "code",
   "execution_count": 74,
   "id": "29d905a6-7201-48bb-836f-2e968f7a7391",
   "metadata": {},
   "outputs": [
    {
     "name": "stdout",
     "output_type": "stream",
     "text": [
      "MAE:  0.9696688400416019\n",
      "MSE:  0.5778145172094775\n",
      "RMSE:  0.984717644831046\n"
     ]
    }
   ],
   "source": [
    "print(\"MAE: \", MAE(y_hat, y_valid))\n",
    "print(\"MSE: \",MSE(y_hat, y_valid))\n",
    "print(\"RMSE: \",RMSE(y_hat, y_valid))"
   ]
  },
  {
   "cell_type": "markdown",
   "id": "9d7c192d-19c9-41a7-8d5b-3a6b7dfcfd7b",
   "metadata": {},
   "source": [
    "Per verificare che il risultato ottenuto sia un buon risultato ricorriamo al modello nullo. L'errore del modello nullo deve essere maggiore dell'errore del modello che abbiamo ottenuto per poter dire di aver ottenuto un modello accettabile."
   ]
  },
  {
   "cell_type": "code",
   "execution_count": 75,
   "id": "a06016f9-4453-4c94-aa39-0640ef066649",
   "metadata": {},
   "outputs": [
    {
     "name": "stdout",
     "output_type": "stream",
     "text": [
      "MSE modello nullo:  4.838220915262128\n"
     ]
    }
   ],
   "source": [
    "mean_num_tweets = y_valid.mean()\n",
    "\n",
    "null_model_y = np.ones(len(y_valid))*mean_num_tweets\n",
    "\n",
    "print(\"MSE modello nullo: \", MSE(null_model_y, y_valid))"
   ]
  }
 ],
 "metadata": {
  "kernelspec": {
   "display_name": "Python 3 (ipykernel)",
   "language": "python",
   "name": "python3"
  },
  "language_info": {
   "codemirror_mode": {
    "name": "ipython",
    "version": 3
   },
   "file_extension": ".py",
   "mimetype": "text/x-python",
   "name": "python",
   "nbconvert_exporter": "python",
   "pygments_lexer": "ipython3",
   "version": "3.12.2"
  }
 },
 "nbformat": 4,
 "nbformat_minor": 5
}
