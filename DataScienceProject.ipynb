{
 "cells": [
  {
   "cell_type": "markdown",
   "id": "859fb446-65a8-450b-91b9-39bb45a540c2",
   "metadata": {},
   "source": [
    "# Wordle Tweets Dataset\n",
    "\n",
    "## Obiettivo analitico\n",
    "\n",
    "Obiettivo analitico: _gli utenti più attivi prestano meglio rispetto agli utenti meno attivi?_"
   ]
  },
  {
   "cell_type": "markdown",
   "id": "6b30585a",
   "metadata": {},
   "source": [
    "Cominciamo importando il dataset e visualizziamo alcune informazioni."
   ]
  },
  {
   "cell_type": "code",
   "execution_count": 3,
   "id": "60ed4388-0c3d-40de-a935-973b0e91ab48",
   "metadata": {
    "metadata": {}
   },
   "outputs": [],
   "source": [
    "import pandas as pd \n",
    "import matplotlib.pyplot as plt \n",
    "import numpy as np\n",
    "import re\n",
    "import scipy.stats as stats\n",
    "import sklearn"
   ]
  },
  {
   "cell_type": "code",
   "execution_count": 4,
   "id": "52135c8a-8c0b-4648-9822-5595fdf9883d",
   "metadata": {
    "metadata": {}
   },
   "outputs": [
    {
     "name": "stdout",
     "output_type": "stream",
     "text": [
      "<class 'pandas.core.frame.DataFrame'>\n",
      "RangeIndex: 2140196 entries, 0 to 2140195\n",
      "Data columns (total 10 columns):\n",
      " #   Column           Dtype  \n",
      "---  ------           -----  \n",
      " 0   WordleID         int64  \n",
      " 1   ID               int64  \n",
      " 2   Created_At       object \n",
      " 3   Text             object \n",
      " 4   Source           object \n",
      " 5   UserID           float64\n",
      " 6   Username         object \n",
      " 7   User_ScreenName  object \n",
      " 8   Location         object \n",
      " 9   Truncated        bool   \n",
      "dtypes: bool(1), float64(1), int64(2), object(6)\n",
      "memory usage: 149.0+ MB\n"
     ]
    }
   ],
   "source": [
    "wordle = pd.read_csv(\"WordleMegaData.csv\")\n",
    "wordle.info()"
   ]
  },
  {
   "cell_type": "markdown",
   "id": "ada4d692",
   "metadata": {},
   "source": [
    "Andiamo ora a visualizzarne le prime occorrenze."
   ]
  },
  {
   "cell_type": "code",
   "execution_count": 5,
   "id": "fe80e003-4609-4a4e-92cd-b2069282aaea",
   "metadata": {
    "metadata": {}
   },
   "outputs": [
    {
     "data": {
      "text/html": [
       "<div>\n",
       "<style scoped>\n",
       "    .dataframe tbody tr th:only-of-type {\n",
       "        vertical-align: middle;\n",
       "    }\n",
       "\n",
       "    .dataframe tbody tr th {\n",
       "        vertical-align: top;\n",
       "    }\n",
       "\n",
       "    .dataframe thead th {\n",
       "        text-align: right;\n",
       "    }\n",
       "</style>\n",
       "<table border=\"1\" class=\"dataframe\">\n",
       "  <thead>\n",
       "    <tr style=\"text-align: right;\">\n",
       "      <th></th>\n",
       "      <th>WordleID</th>\n",
       "      <th>ID</th>\n",
       "      <th>Created_At</th>\n",
       "      <th>Text</th>\n",
       "      <th>Source</th>\n",
       "      <th>UserID</th>\n",
       "      <th>Username</th>\n",
       "      <th>User_ScreenName</th>\n",
       "      <th>Location</th>\n",
       "      <th>Truncated</th>\n",
       "    </tr>\n",
       "  </thead>\n",
       "  <tbody>\n",
       "    <tr>\n",
       "      <th>0</th>\n",
       "      <td>254</td>\n",
       "      <td>1498447921448034305</td>\n",
       "      <td>2022-02-28 23:59:58+00:00</td>\n",
       "      <td>Wordle 254 3/6\\n\\n🟨🟨⬛⬛⬛\\n🟨⬛🟨⬛🟩\\n🟩🟩🟩🟩🟩</td>\n",
       "      <td>Twitter for iPhone</td>\n",
       "      <td>3.681676e+07</td>\n",
       "      <td>Leslie Brown</td>\n",
       "      <td>live_laugh_pray</td>\n",
       "      <td>Haida Gwaii</td>\n",
       "      <td>False</td>\n",
       "    </tr>\n",
       "    <tr>\n",
       "      <th>1</th>\n",
       "      <td>254</td>\n",
       "      <td>1498447918184996864</td>\n",
       "      <td>2022-02-28 23:59:58+00:00</td>\n",
       "      <td>Wordle 254 4/6\\n\\n⬛⬛⬛⬛🟩\\n⬛⬛⬛⬛🟩\\n⬛🟩⬛⬛🟩\\n🟩🟩🟩🟩🟩\\n...</td>\n",
       "      <td>Twitter for iPhone</td>\n",
       "      <td>4.825910e+08</td>\n",
       "      <td>Dylan Sobo</td>\n",
       "      <td>DaBolt727</td>\n",
       "      <td>Largo, FL / Bradenton|FGCU</td>\n",
       "      <td>False</td>\n",
       "    </tr>\n",
       "    <tr>\n",
       "      <th>2</th>\n",
       "      <td>254</td>\n",
       "      <td>1498447910173921282</td>\n",
       "      <td>2022-02-28 23:59:56+00:00</td>\n",
       "      <td>Wordle 254 3/6\\n\\n⬛⬛⬛⬛🟩\\n⬛⬛🟩⬛🟩\\n🟩🟩🟩🟩🟩</td>\n",
       "      <td>Twitter for iPhone</td>\n",
       "      <td>1.397624e+18</td>\n",
       "      <td>🖤</td>\n",
       "      <td>wengojos</td>\n",
       "      <td>23 • she/her • 🇵🇭🇺🇸</td>\n",
       "      <td>False</td>\n",
       "    </tr>\n",
       "    <tr>\n",
       "      <th>3</th>\n",
       "      <td>254</td>\n",
       "      <td>1498447901797801989</td>\n",
       "      <td>2022-02-28 23:59:54+00:00</td>\n",
       "      <td>Wordle 254 3/6\\n\\n⬛⬛⬛🟨⬛\\n⬛🟨⬛⬛🟩\\n🟩🟩🟩🟩🟩</td>\n",
       "      <td>Twitter for iPhone</td>\n",
       "      <td>1.255905e+18</td>\n",
       "      <td>Dustin Waters</td>\n",
       "      <td>DustinWaters12</td>\n",
       "      <td>NaN</td>\n",
       "      <td>False</td>\n",
       "    </tr>\n",
       "    <tr>\n",
       "      <th>4</th>\n",
       "      <td>254</td>\n",
       "      <td>1498447896911527938</td>\n",
       "      <td>2022-02-28 23:59:53+00:00</td>\n",
       "      <td>Wordle 254 3/6\\n\\n⬛🟨⬛⬛⬛\\n🟩🟩🟩⬛🟩\\n🟩🟩🟩🟩🟩</td>\n",
       "      <td>Twitter for iPhone</td>\n",
       "      <td>2.528937e+08</td>\n",
       "      <td>R. Colin</td>\n",
       "      <td>rollin_fatty</td>\n",
       "      <td>Richmond, VA</td>\n",
       "      <td>False</td>\n",
       "    </tr>\n",
       "  </tbody>\n",
       "</table>\n",
       "</div>"
      ],
      "text/plain": [
       "   WordleID                   ID                 Created_At  \\\n",
       "0       254  1498447921448034305  2022-02-28 23:59:58+00:00   \n",
       "1       254  1498447918184996864  2022-02-28 23:59:58+00:00   \n",
       "2       254  1498447910173921282  2022-02-28 23:59:56+00:00   \n",
       "3       254  1498447901797801989  2022-02-28 23:59:54+00:00   \n",
       "4       254  1498447896911527938  2022-02-28 23:59:53+00:00   \n",
       "\n",
       "                                                Text              Source  \\\n",
       "0              Wordle 254 3/6\\n\\n🟨🟨⬛⬛⬛\\n🟨⬛🟨⬛🟩\\n🟩🟩🟩🟩🟩  Twitter for iPhone   \n",
       "1  Wordle 254 4/6\\n\\n⬛⬛⬛⬛🟩\\n⬛⬛⬛⬛🟩\\n⬛🟩⬛⬛🟩\\n🟩🟩🟩🟩🟩\\n...  Twitter for iPhone   \n",
       "2              Wordle 254 3/6\\n\\n⬛⬛⬛⬛🟩\\n⬛⬛🟩⬛🟩\\n🟩🟩🟩🟩🟩  Twitter for iPhone   \n",
       "3              Wordle 254 3/6\\n\\n⬛⬛⬛🟨⬛\\n⬛🟨⬛⬛🟩\\n🟩🟩🟩🟩🟩  Twitter for iPhone   \n",
       "4              Wordle 254 3/6\\n\\n⬛🟨⬛⬛⬛\\n🟩🟩🟩⬛🟩\\n🟩🟩🟩🟩🟩  Twitter for iPhone   \n",
       "\n",
       "         UserID       Username  User_ScreenName                    Location  \\\n",
       "0  3.681676e+07   Leslie Brown  live_laugh_pray                 Haida Gwaii   \n",
       "1  4.825910e+08     Dylan Sobo        DaBolt727  Largo, FL / Bradenton|FGCU   \n",
       "2  1.397624e+18              🖤         wengojos         23 • she/her • 🇵🇭🇺🇸   \n",
       "3  1.255905e+18  Dustin Waters   DustinWaters12                         NaN   \n",
       "4  2.528937e+08       R. Colin     rollin_fatty                Richmond, VA   \n",
       "\n",
       "   Truncated  \n",
       "0      False  \n",
       "1      False  \n",
       "2      False  \n",
       "3      False  \n",
       "4      False  "
      ]
     },
     "execution_count": 5,
     "metadata": {},
     "output_type": "execute_result"
    }
   ],
   "source": [
    "wordle.head()"
   ]
  },
  {
   "cell_type": "markdown",
   "id": "03a58eff-71e0-4c12-aaca-c0bea8158c40",
   "metadata": {},
   "source": [
    "## Pulizia dei dati"
   ]
  },
  {
   "cell_type": "markdown",
   "id": "f6dcef10-028a-4c80-b110-a3acc302d9b9",
   "metadata": {},
   "source": [
    "Per ogni carattersitica andiamo a visualizzare il numero di elementi nulli."
   ]
  },
  {
   "cell_type": "code",
   "execution_count": 6,
   "id": "f69deb5d-9de8-498c-a33c-768f466affb9",
   "metadata": {
    "metadata": {}
   },
   "outputs": [
    {
     "data": {
      "text/plain": [
       "WordleID                0\n",
       "ID                      0\n",
       "Created_At              0\n",
       "Text                    0\n",
       "Source                  0\n",
       "UserID                  0\n",
       "Username               89\n",
       "User_ScreenName         0\n",
       "Location           573361\n",
       "Truncated               0\n",
       "dtype: int64"
      ]
     },
     "execution_count": 6,
     "metadata": {},
     "output_type": "execute_result"
    }
   ],
   "source": [
    "starting_rows = wordle.shape[0] # questo ci servirà dopo per vedere quanti righe sono state rimosse con la pulizia|\n",
    "wordle.isnull().sum()"
   ]
  },
  {
   "cell_type": "markdown",
   "id": "a5e90669-c37f-4ce8-aca7-9c4db1d7916b",
   "metadata": {},
   "source": [
    "### Eliminazione duplicati ('ID')"
   ]
  },
  {
   "cell_type": "markdown",
   "id": "0172a1bf-6c7f-4e75-8e9b-ea4ae568f754",
   "metadata": {},
   "source": [
    "La caratteristica 'ID' rappresenta l'ID del tweet e quindi deve essere unica. Verifichiamo che sia così."
   ]
  },
  {
   "cell_type": "code",
   "execution_count": 7,
   "id": "6a86f571-fd13-4035-a9e2-711fe4de7c04",
   "metadata": {
    "metadata": {}
   },
   "outputs": [
    {
     "name": "stdout",
     "output_type": "stream",
     "text": [
      "Number of rows where 'ID' is unique: 2140187\n",
      "Total number of rows: 2140196\n"
     ]
    }
   ],
   "source": [
    "num_unique_elements = wordle['ID'].nunique()\n",
    "total_elements = len(wordle['ID'])\n",
    "\n",
    "print(\"Number of rows where 'ID' is unique:\", num_unique_elements)\n",
    "print(\"Total number of rows:\", total_elements)"
   ]
  },
  {
   "cell_type": "markdown",
   "id": "f6d3d607-5b93-41d1-8d45-3fd241ec1af0",
   "metadata": {},
   "source": [
    "Sono presenti dei duplicati, li eliminiamo."
   ]
  },
  {
   "cell_type": "code",
   "execution_count": 8,
   "id": "e2ae2645-8290-481d-9026-1d8ba9e6e455",
   "metadata": {
    "metadata": {}
   },
   "outputs": [
    {
     "data": {
      "text/plain": [
       "(2140178, 10)"
      ]
     },
     "execution_count": 8,
     "metadata": {},
     "output_type": "execute_result"
    }
   ],
   "source": [
    "wordle = wordle.drop_duplicates(subset=['ID'], keep=False)\n",
    "wordle.shape"
   ]
  },
  {
   "cell_type": "markdown",
   "id": "21a79152-21d1-4cf9-a59c-0bea77dcff28",
   "metadata": {},
   "source": [
    "Ora le nostre occorrenze sono uniche. "
   ]
  },
  {
   "cell_type": "markdown",
   "id": "6e233bf9-3e48-464b-a69b-b79c780d335c",
   "metadata": {},
   "source": [
    "### Eliminazione caratteristiche ('Truncated', 'Username', 'User_ScreenName', 'Location')"
   ]
  },
  {
   "cell_type": "code",
   "execution_count": 9,
   "id": "7b99fe1f-df56-4826-96f6-803f08a3261c",
   "metadata": {
    "metadata": {}
   },
   "outputs": [
    {
     "data": {
      "text/html": [
       "<div>\n",
       "<style scoped>\n",
       "    .dataframe tbody tr th:only-of-type {\n",
       "        vertical-align: middle;\n",
       "    }\n",
       "\n",
       "    .dataframe tbody tr th {\n",
       "        vertical-align: top;\n",
       "    }\n",
       "\n",
       "    .dataframe thead th {\n",
       "        text-align: right;\n",
       "    }\n",
       "</style>\n",
       "<table border=\"1\" class=\"dataframe\">\n",
       "  <thead>\n",
       "    <tr style=\"text-align: right;\">\n",
       "      <th></th>\n",
       "      <th>WordleID</th>\n",
       "      <th>ID</th>\n",
       "      <th>Created_At</th>\n",
       "      <th>Text</th>\n",
       "      <th>Source</th>\n",
       "      <th>UserID</th>\n",
       "      <th>Username</th>\n",
       "      <th>User_ScreenName</th>\n",
       "      <th>Location</th>\n",
       "      <th>Truncated</th>\n",
       "    </tr>\n",
       "  </thead>\n",
       "  <tbody>\n",
       "    <tr>\n",
       "      <th>0</th>\n",
       "      <td>254</td>\n",
       "      <td>1498447921448034305</td>\n",
       "      <td>2022-02-28 23:59:58+00:00</td>\n",
       "      <td>Wordle 254 3/6\\n\\n🟨🟨⬛⬛⬛\\n🟨⬛🟨⬛🟩\\n🟩🟩🟩🟩🟩</td>\n",
       "      <td>Twitter for iPhone</td>\n",
       "      <td>3.681676e+07</td>\n",
       "      <td>Leslie Brown</td>\n",
       "      <td>live_laugh_pray</td>\n",
       "      <td>Haida Gwaii</td>\n",
       "      <td>False</td>\n",
       "    </tr>\n",
       "    <tr>\n",
       "      <th>1</th>\n",
       "      <td>254</td>\n",
       "      <td>1498447918184996864</td>\n",
       "      <td>2022-02-28 23:59:58+00:00</td>\n",
       "      <td>Wordle 254 4/6\\n\\n⬛⬛⬛⬛🟩\\n⬛⬛⬛⬛🟩\\n⬛🟩⬛⬛🟩\\n🟩🟩🟩🟩🟩\\n...</td>\n",
       "      <td>Twitter for iPhone</td>\n",
       "      <td>4.825910e+08</td>\n",
       "      <td>Dylan Sobo</td>\n",
       "      <td>DaBolt727</td>\n",
       "      <td>Largo, FL / Bradenton|FGCU</td>\n",
       "      <td>False</td>\n",
       "    </tr>\n",
       "    <tr>\n",
       "      <th>2</th>\n",
       "      <td>254</td>\n",
       "      <td>1498447910173921282</td>\n",
       "      <td>2022-02-28 23:59:56+00:00</td>\n",
       "      <td>Wordle 254 3/6\\n\\n⬛⬛⬛⬛🟩\\n⬛⬛🟩⬛🟩\\n🟩🟩🟩🟩🟩</td>\n",
       "      <td>Twitter for iPhone</td>\n",
       "      <td>1.397624e+18</td>\n",
       "      <td>🖤</td>\n",
       "      <td>wengojos</td>\n",
       "      <td>23 • she/her • 🇵🇭🇺🇸</td>\n",
       "      <td>False</td>\n",
       "    </tr>\n",
       "    <tr>\n",
       "      <th>3</th>\n",
       "      <td>254</td>\n",
       "      <td>1498447901797801989</td>\n",
       "      <td>2022-02-28 23:59:54+00:00</td>\n",
       "      <td>Wordle 254 3/6\\n\\n⬛⬛⬛🟨⬛\\n⬛🟨⬛⬛🟩\\n🟩🟩🟩🟩🟩</td>\n",
       "      <td>Twitter for iPhone</td>\n",
       "      <td>1.255905e+18</td>\n",
       "      <td>Dustin Waters</td>\n",
       "      <td>DustinWaters12</td>\n",
       "      <td>NaN</td>\n",
       "      <td>False</td>\n",
       "    </tr>\n",
       "    <tr>\n",
       "      <th>4</th>\n",
       "      <td>254</td>\n",
       "      <td>1498447896911527938</td>\n",
       "      <td>2022-02-28 23:59:53+00:00</td>\n",
       "      <td>Wordle 254 3/6\\n\\n⬛🟨⬛⬛⬛\\n🟩🟩🟩⬛🟩\\n🟩🟩🟩🟩🟩</td>\n",
       "      <td>Twitter for iPhone</td>\n",
       "      <td>2.528937e+08</td>\n",
       "      <td>R. Colin</td>\n",
       "      <td>rollin_fatty</td>\n",
       "      <td>Richmond, VA</td>\n",
       "      <td>False</td>\n",
       "    </tr>\n",
       "  </tbody>\n",
       "</table>\n",
       "</div>"
      ],
      "text/plain": [
       "   WordleID                   ID                 Created_At  \\\n",
       "0       254  1498447921448034305  2022-02-28 23:59:58+00:00   \n",
       "1       254  1498447918184996864  2022-02-28 23:59:58+00:00   \n",
       "2       254  1498447910173921282  2022-02-28 23:59:56+00:00   \n",
       "3       254  1498447901797801989  2022-02-28 23:59:54+00:00   \n",
       "4       254  1498447896911527938  2022-02-28 23:59:53+00:00   \n",
       "\n",
       "                                                Text              Source  \\\n",
       "0              Wordle 254 3/6\\n\\n🟨🟨⬛⬛⬛\\n🟨⬛🟨⬛🟩\\n🟩🟩🟩🟩🟩  Twitter for iPhone   \n",
       "1  Wordle 254 4/6\\n\\n⬛⬛⬛⬛🟩\\n⬛⬛⬛⬛🟩\\n⬛🟩⬛⬛🟩\\n🟩🟩🟩🟩🟩\\n...  Twitter for iPhone   \n",
       "2              Wordle 254 3/6\\n\\n⬛⬛⬛⬛🟩\\n⬛⬛🟩⬛🟩\\n🟩🟩🟩🟩🟩  Twitter for iPhone   \n",
       "3              Wordle 254 3/6\\n\\n⬛⬛⬛🟨⬛\\n⬛🟨⬛⬛🟩\\n🟩🟩🟩🟩🟩  Twitter for iPhone   \n",
       "4              Wordle 254 3/6\\n\\n⬛🟨⬛⬛⬛\\n🟩🟩🟩⬛🟩\\n🟩🟩🟩🟩🟩  Twitter for iPhone   \n",
       "\n",
       "         UserID       Username  User_ScreenName                    Location  \\\n",
       "0  3.681676e+07   Leslie Brown  live_laugh_pray                 Haida Gwaii   \n",
       "1  4.825910e+08     Dylan Sobo        DaBolt727  Largo, FL / Bradenton|FGCU   \n",
       "2  1.397624e+18              🖤         wengojos         23 • she/her • 🇵🇭🇺🇸   \n",
       "3  1.255905e+18  Dustin Waters   DustinWaters12                         NaN   \n",
       "4  2.528937e+08       R. Colin     rollin_fatty                Richmond, VA   \n",
       "\n",
       "   Truncated  \n",
       "0      False  \n",
       "1      False  \n",
       "2      False  \n",
       "3      False  \n",
       "4      False  "
      ]
     },
     "execution_count": 9,
     "metadata": {},
     "output_type": "execute_result"
    }
   ],
   "source": [
    "wordle.head()"
   ]
  },
  {
   "cell_type": "markdown",
   "id": "ae6eeff3-b8d9-403e-bf2f-5194daea8a24",
   "metadata": {},
   "source": [
    "Per prima cosa eliminiamo tutti i tweet troncati proprio perchè il loro contenuto informativo è incompleto e rimuoviamo la colonna.\n",
    "\n",
    "L'informazione più affidabile su cui basarsi per identificare un utente all'interno del dataset è UserID. L'assenza di valori nulli per questo attributo ci fornisce maggiore sicurezza. Possiamo allora fare a meno delle colonne Username e User_ScreenName che possono contenere identificativi non unici e modificabili da parte dell'utente nel tempo.\n",
    "\n",
    "Notiamo inoltre che la colonna Location contiene a sua volta valori nulli o valori errati. Come ulteriore verifica, su Kaggle ci viene suggerito che il 27% dei valori è nullo, il 72% non viene associato a una macrocategoria, mentre l'1% dei tweet risulta provenire dagli Stati Uniti. Avendo già verificato a nostra volta che il numero di valori nulli per questa caratteristica è elevato, eliminiamo la colonna. "
   ]
  },
  {
   "cell_type": "code",
   "execution_count": 10,
   "id": "d8bb7241-dc4d-453b-947c-76b074ddc2ec",
   "metadata": {
    "metadata": {}
   },
   "outputs": [],
   "source": [
    "wordle = wordle[wordle['Truncated'] != True]\n",
    "wordle.drop(columns=['Username', 'User_ScreenName', 'Location', 'Truncated'], inplace=True)"
   ]
  },
  {
   "cell_type": "markdown",
   "id": "e4d4951d-2ca4-4a68-adb0-b7e321844ecc",
   "metadata": {},
   "source": [
    "### Creazione caratteristica 'Attempts' e 'Hard Mode'"
   ]
  },
  {
   "cell_type": "markdown",
   "id": "a73a03e9-c87d-4e25-922b-6a94d90d2563",
   "metadata": {},
   "source": [
    "Nel dataset è ricorrente la sequenza 'Wordle XXX X/6' dove le tre cifre centrali indicano il wordleID mentre la frazione fa riferimento al numero di tentativi che l'utente ha eseguito per indovinare la parola o prima di abbandonare la partita. Se la sequenza 'Wordle XXX X/6' termina con un asterisco, significa che la partita è stata eseguita nella modalità 'Hard Mode'."
   ]
  },
  {
   "cell_type": "markdown",
   "id": "f02e578d-a251-49c5-87ec-85959a032cd0",
   "metadata": {},
   "source": [
    "Andiamo a effettuare una pulizia del testo, mantenendo solamente le informazioni riguardanti la partita a wordle. \n",
    "Dal testo generiamo un'altra colonna 'Attempts' che rappresenta il numero di tentativi effettuati per indovinare la parola oppure X o x nel caso di fallimento."
   ]
  },
  {
   "cell_type": "code",
   "execution_count": 11,
   "id": "e63e742b-fa48-441e-bc0b-d7664b3739c9",
   "metadata": {
    "metadata": {}
   },
   "outputs": [
    {
     "data": {
      "text/html": [
       "<div>\n",
       "<style scoped>\n",
       "    .dataframe tbody tr th:only-of-type {\n",
       "        vertical-align: middle;\n",
       "    }\n",
       "\n",
       "    .dataframe tbody tr th {\n",
       "        vertical-align: top;\n",
       "    }\n",
       "\n",
       "    .dataframe thead th {\n",
       "        text-align: right;\n",
       "    }\n",
       "</style>\n",
       "<table border=\"1\" class=\"dataframe\">\n",
       "  <thead>\n",
       "    <tr style=\"text-align: right;\">\n",
       "      <th></th>\n",
       "      <th>WordleID</th>\n",
       "      <th>ID</th>\n",
       "      <th>Created_At</th>\n",
       "      <th>Text</th>\n",
       "      <th>Source</th>\n",
       "      <th>UserID</th>\n",
       "      <th>Attempts</th>\n",
       "    </tr>\n",
       "  </thead>\n",
       "  <tbody>\n",
       "    <tr>\n",
       "      <th>0</th>\n",
       "      <td>254</td>\n",
       "      <td>1498447921448034305</td>\n",
       "      <td>2022-02-28 23:59:58+00:00</td>\n",
       "      <td>Wordle 254 3/6\\n\\n🟨🟨⬛⬛⬛\\n🟨⬛🟨⬛🟩\\n🟩🟩🟩🟩🟩</td>\n",
       "      <td>Twitter for iPhone</td>\n",
       "      <td>3.681676e+07</td>\n",
       "      <td>[3]</td>\n",
       "    </tr>\n",
       "    <tr>\n",
       "      <th>1</th>\n",
       "      <td>254</td>\n",
       "      <td>1498447918184996864</td>\n",
       "      <td>2022-02-28 23:59:58+00:00</td>\n",
       "      <td>Wordle 254 4/6\\n\\n⬛⬛⬛⬛🟩\\n⬛⬛⬛⬛🟩\\n⬛🟩⬛⬛🟩\\n🟩🟩🟩🟩🟩\\n...</td>\n",
       "      <td>Twitter for iPhone</td>\n",
       "      <td>4.825910e+08</td>\n",
       "      <td>[4]</td>\n",
       "    </tr>\n",
       "    <tr>\n",
       "      <th>2</th>\n",
       "      <td>254</td>\n",
       "      <td>1498447910173921282</td>\n",
       "      <td>2022-02-28 23:59:56+00:00</td>\n",
       "      <td>Wordle 254 3/6\\n\\n⬛⬛⬛⬛🟩\\n⬛⬛🟩⬛🟩\\n🟩🟩🟩🟩🟩</td>\n",
       "      <td>Twitter for iPhone</td>\n",
       "      <td>1.397624e+18</td>\n",
       "      <td>[3]</td>\n",
       "    </tr>\n",
       "    <tr>\n",
       "      <th>3</th>\n",
       "      <td>254</td>\n",
       "      <td>1498447901797801989</td>\n",
       "      <td>2022-02-28 23:59:54+00:00</td>\n",
       "      <td>Wordle 254 3/6\\n\\n⬛⬛⬛🟨⬛\\n⬛🟨⬛⬛🟩\\n🟩🟩🟩🟩🟩</td>\n",
       "      <td>Twitter for iPhone</td>\n",
       "      <td>1.255905e+18</td>\n",
       "      <td>[3]</td>\n",
       "    </tr>\n",
       "    <tr>\n",
       "      <th>4</th>\n",
       "      <td>254</td>\n",
       "      <td>1498447896911527938</td>\n",
       "      <td>2022-02-28 23:59:53+00:00</td>\n",
       "      <td>Wordle 254 3/6\\n\\n⬛🟨⬛⬛⬛\\n🟩🟩🟩⬛🟩\\n🟩🟩🟩🟩🟩</td>\n",
       "      <td>Twitter for iPhone</td>\n",
       "      <td>2.528937e+08</td>\n",
       "      <td>[3]</td>\n",
       "    </tr>\n",
       "  </tbody>\n",
       "</table>\n",
       "</div>"
      ],
      "text/plain": [
       "   WordleID                   ID                 Created_At  \\\n",
       "0       254  1498447921448034305  2022-02-28 23:59:58+00:00   \n",
       "1       254  1498447918184996864  2022-02-28 23:59:58+00:00   \n",
       "2       254  1498447910173921282  2022-02-28 23:59:56+00:00   \n",
       "3       254  1498447901797801989  2022-02-28 23:59:54+00:00   \n",
       "4       254  1498447896911527938  2022-02-28 23:59:53+00:00   \n",
       "\n",
       "                                                Text              Source  \\\n",
       "0              Wordle 254 3/6\\n\\n🟨🟨⬛⬛⬛\\n🟨⬛🟨⬛🟩\\n🟩🟩🟩🟩🟩  Twitter for iPhone   \n",
       "1  Wordle 254 4/6\\n\\n⬛⬛⬛⬛🟩\\n⬛⬛⬛⬛🟩\\n⬛🟩⬛⬛🟩\\n🟩🟩🟩🟩🟩\\n...  Twitter for iPhone   \n",
       "2              Wordle 254 3/6\\n\\n⬛⬛⬛⬛🟩\\n⬛⬛🟩⬛🟩\\n🟩🟩🟩🟩🟩  Twitter for iPhone   \n",
       "3              Wordle 254 3/6\\n\\n⬛⬛⬛🟨⬛\\n⬛🟨⬛⬛🟩\\n🟩🟩🟩🟩🟩  Twitter for iPhone   \n",
       "4              Wordle 254 3/6\\n\\n⬛🟨⬛⬛⬛\\n🟩🟩🟩⬛🟩\\n🟩🟩🟩🟩🟩  Twitter for iPhone   \n",
       "\n",
       "         UserID Attempts  \n",
       "0  3.681676e+07      [3]  \n",
       "1  4.825910e+08      [4]  \n",
       "2  1.397624e+18      [3]  \n",
       "3  1.255905e+18      [3]  \n",
       "4  2.528937e+08      [3]  "
      ]
     },
     "execution_count": 11,
     "metadata": {},
     "output_type": "execute_result"
    }
   ],
   "source": [
    "number_pattern = re.compile(r'(Wordle) (\\d{3}) (([1-6Xx])\\/6)')\n",
    "\n",
    "#la funzione search restituisce la prima occorrenza del pattern, mentre la funzione findall ne preleva tutte le occorrenze\n",
    "def extract_attempts(row):\n",
    "    matches = number_pattern.findall(row)\n",
    "    attempts = [match[2].replace('/6', '') for match in matches]\n",
    "    return attempts if attempts else np.nan\n",
    "\n",
    "wordle['Attempts'] = wordle['Text'].apply(extract_attempts)\n",
    "\n",
    "wordle.head()"
   ]
  },
  {
   "cell_type": "markdown",
   "id": "7324e629-d117-4424-8050-91bb6e5038c8",
   "metadata": {},
   "source": [
    "Visualizziamo le righe dove ci sono più occorrenze per attempts."
   ]
  },
  {
   "cell_type": "code",
   "execution_count": 12,
   "id": "1cc76a2f-115f-44c9-b553-af6bd834ffa7",
   "metadata": {
    "metadata": {}
   },
   "outputs": [
    {
     "name": "stdout",
     "output_type": "stream",
     "text": [
      "496\n"
     ]
    }
   ],
   "source": [
    "rows_with_multiple_occurrences = wordle[wordle['Attempts'].str.len() > 1]\n",
    "print(len(rows_with_multiple_occurrences))"
   ]
  },
  {
   "cell_type": "markdown",
   "id": "82cd4ba6-227f-4637-b633-b8a3c8a17d46",
   "metadata": {},
   "source": [
    "Poichè solamente 496 campioni contengono più occorrenze, li eliminiamo. "
   ]
  },
  {
   "cell_type": "code",
   "execution_count": 13,
   "id": "e96fce26-aaf1-46bf-ba5e-eae5b5219e4a",
   "metadata": {
    "metadata": {}
   },
   "outputs": [],
   "source": [
    "wordle = wordle[(wordle['Attempts'].str.len() == 1) | (wordle['Attempts'].isna())]\n",
    "wordle.loc[wordle['Attempts'].notna(), 'Attempts'] = wordle.loc[wordle['Attempts'].notna(), 'Attempts'].str[0].astype(str)"
   ]
  },
  {
   "cell_type": "markdown",
   "id": "b6378462-3c24-404d-a696-32b5d89b257e",
   "metadata": {},
   "source": [
    "Ora che abbiamo la certezza che Attempts, se presente, sia univoco per ogni campione, avendo eliminato le situazioni di ambiguità, creiamo una nuova caratteristica. Quest'ultima indicherà se è stata selezionata o meno l'Hard Mode. "
   ]
  },
  {
   "cell_type": "code",
   "execution_count": 14,
   "id": "bc213620-1b6e-4618-8a52-2134e00f6abe",
   "metadata": {
    "metadata": {}
   },
   "outputs": [
    {
     "data": {
      "text/html": [
       "<div>\n",
       "<style scoped>\n",
       "    .dataframe tbody tr th:only-of-type {\n",
       "        vertical-align: middle;\n",
       "    }\n",
       "\n",
       "    .dataframe tbody tr th {\n",
       "        vertical-align: top;\n",
       "    }\n",
       "\n",
       "    .dataframe thead th {\n",
       "        text-align: right;\n",
       "    }\n",
       "</style>\n",
       "<table border=\"1\" class=\"dataframe\">\n",
       "  <thead>\n",
       "    <tr style=\"text-align: right;\">\n",
       "      <th></th>\n",
       "      <th>WordleID</th>\n",
       "      <th>ID</th>\n",
       "      <th>Created_At</th>\n",
       "      <th>Text</th>\n",
       "      <th>Source</th>\n",
       "      <th>UserID</th>\n",
       "      <th>Attempts</th>\n",
       "      <th>Hard Mode</th>\n",
       "    </tr>\n",
       "  </thead>\n",
       "  <tbody>\n",
       "    <tr>\n",
       "      <th>0</th>\n",
       "      <td>254</td>\n",
       "      <td>1498447921448034305</td>\n",
       "      <td>2022-02-28 23:59:58+00:00</td>\n",
       "      <td>Wordle 254 3/6\\n\\n🟨🟨⬛⬛⬛\\n🟨⬛🟨⬛🟩\\n🟩🟩🟩🟩🟩</td>\n",
       "      <td>Twitter for iPhone</td>\n",
       "      <td>3.681676e+07</td>\n",
       "      <td>3</td>\n",
       "      <td>False</td>\n",
       "    </tr>\n",
       "    <tr>\n",
       "      <th>1</th>\n",
       "      <td>254</td>\n",
       "      <td>1498447918184996864</td>\n",
       "      <td>2022-02-28 23:59:58+00:00</td>\n",
       "      <td>Wordle 254 4/6\\n\\n⬛⬛⬛⬛🟩\\n⬛⬛⬛⬛🟩\\n⬛🟩⬛⬛🟩\\n🟩🟩🟩🟩🟩\\n...</td>\n",
       "      <td>Twitter for iPhone</td>\n",
       "      <td>4.825910e+08</td>\n",
       "      <td>4</td>\n",
       "      <td>False</td>\n",
       "    </tr>\n",
       "    <tr>\n",
       "      <th>2</th>\n",
       "      <td>254</td>\n",
       "      <td>1498447910173921282</td>\n",
       "      <td>2022-02-28 23:59:56+00:00</td>\n",
       "      <td>Wordle 254 3/6\\n\\n⬛⬛⬛⬛🟩\\n⬛⬛🟩⬛🟩\\n🟩🟩🟩🟩🟩</td>\n",
       "      <td>Twitter for iPhone</td>\n",
       "      <td>1.397624e+18</td>\n",
       "      <td>3</td>\n",
       "      <td>False</td>\n",
       "    </tr>\n",
       "    <tr>\n",
       "      <th>3</th>\n",
       "      <td>254</td>\n",
       "      <td>1498447901797801989</td>\n",
       "      <td>2022-02-28 23:59:54+00:00</td>\n",
       "      <td>Wordle 254 3/6\\n\\n⬛⬛⬛🟨⬛\\n⬛🟨⬛⬛🟩\\n🟩🟩🟩🟩🟩</td>\n",
       "      <td>Twitter for iPhone</td>\n",
       "      <td>1.255905e+18</td>\n",
       "      <td>3</td>\n",
       "      <td>False</td>\n",
       "    </tr>\n",
       "    <tr>\n",
       "      <th>4</th>\n",
       "      <td>254</td>\n",
       "      <td>1498447896911527938</td>\n",
       "      <td>2022-02-28 23:59:53+00:00</td>\n",
       "      <td>Wordle 254 3/6\\n\\n⬛🟨⬛⬛⬛\\n🟩🟩🟩⬛🟩\\n🟩🟩🟩🟩🟩</td>\n",
       "      <td>Twitter for iPhone</td>\n",
       "      <td>2.528937e+08</td>\n",
       "      <td>3</td>\n",
       "      <td>False</td>\n",
       "    </tr>\n",
       "  </tbody>\n",
       "</table>\n",
       "</div>"
      ],
      "text/plain": [
       "   WordleID                   ID                 Created_At  \\\n",
       "0       254  1498447921448034305  2022-02-28 23:59:58+00:00   \n",
       "1       254  1498447918184996864  2022-02-28 23:59:58+00:00   \n",
       "2       254  1498447910173921282  2022-02-28 23:59:56+00:00   \n",
       "3       254  1498447901797801989  2022-02-28 23:59:54+00:00   \n",
       "4       254  1498447896911527938  2022-02-28 23:59:53+00:00   \n",
       "\n",
       "                                                Text              Source  \\\n",
       "0              Wordle 254 3/6\\n\\n🟨🟨⬛⬛⬛\\n🟨⬛🟨⬛🟩\\n🟩🟩🟩🟩🟩  Twitter for iPhone   \n",
       "1  Wordle 254 4/6\\n\\n⬛⬛⬛⬛🟩\\n⬛⬛⬛⬛🟩\\n⬛🟩⬛⬛🟩\\n🟩🟩🟩🟩🟩\\n...  Twitter for iPhone   \n",
       "2              Wordle 254 3/6\\n\\n⬛⬛⬛⬛🟩\\n⬛⬛🟩⬛🟩\\n🟩🟩🟩🟩🟩  Twitter for iPhone   \n",
       "3              Wordle 254 3/6\\n\\n⬛⬛⬛🟨⬛\\n⬛🟨⬛⬛🟩\\n🟩🟩🟩🟩🟩  Twitter for iPhone   \n",
       "4              Wordle 254 3/6\\n\\n⬛🟨⬛⬛⬛\\n🟩🟩🟩⬛🟩\\n🟩🟩🟩🟩🟩  Twitter for iPhone   \n",
       "\n",
       "         UserID Attempts  Hard Mode  \n",
       "0  3.681676e+07        3      False  \n",
       "1  4.825910e+08        4      False  \n",
       "2  1.397624e+18        3      False  \n",
       "3  1.255905e+18        3      False  \n",
       "4  2.528937e+08        3      False  "
      ]
     },
     "execution_count": 14,
     "metadata": {},
     "output_type": "execute_result"
    }
   ],
   "source": [
    "hard_mode = wordle['Text'].str.extract(r'(Wordle) (\\d{3}) (([1-6Xx])\\/6\\*)')\n",
    "wordle['Hard Mode'] = hard_mode.iloc[:, 0].notnull()\n",
    "wordle.head()"
   ]
  },
  {
   "cell_type": "code",
   "execution_count": 15,
   "id": "899d1159-3495-465c-b16f-b4a39a4f09cd",
   "metadata": {
    "metadata": {}
   },
   "outputs": [
    {
     "name": "stdout",
     "output_type": "stream",
     "text": [
      "Number of True values in Hard Mode column: 128097\n"
     ]
    }
   ],
   "source": [
    "hard_mode_count = wordle['Hard Mode'].sum()\n",
    "print(\"Number of True values in Hard Mode column:\", hard_mode_count)"
   ]
  },
  {
   "cell_type": "markdown",
   "id": "10454248-108a-440e-abbc-c4b6cc9db6aa",
   "metadata": {},
   "source": [
    "### Creazione caratteristica 'Match' ed eliminazione della caratteristica 'Text'"
   ]
  },
  {
   "cell_type": "markdown",
   "id": "ca3cc7e6",
   "metadata": {},
   "source": [
    "Per estrarre ulteriori informazioni possiamo affidarci alle emoji riportate nei tweet.\n",
    "\n",
    "Le informazioni associate a ciascuna emoji sono le seguenti:\n",
    "- ⬛ o ⬜ indicano che la lettera non è presente nella parola\n",
    "- 🟨 indica che la lettera è corretta ma non la sua posizione\n",
    "- 🟩 indica che la lettera è corretta e anche la sua posizione"
   ]
  },
  {
   "cell_type": "markdown",
   "id": "fc017399-747f-4845-884e-c5a5c4bd9e64",
   "metadata": {},
   "source": [
    "Estraiamo dal campo Text le emoji e creiamo una colonna Match."
   ]
  },
  {
   "cell_type": "code",
   "execution_count": 16,
   "id": "c9bfd938-c6f1-4b25-bc9d-c57336f01a96",
   "metadata": {
    "metadata": {}
   },
   "outputs": [
    {
     "data": {
      "text/html": [
       "<div>\n",
       "<style scoped>\n",
       "    .dataframe tbody tr th:only-of-type {\n",
       "        vertical-align: middle;\n",
       "    }\n",
       "\n",
       "    .dataframe tbody tr th {\n",
       "        vertical-align: top;\n",
       "    }\n",
       "\n",
       "    .dataframe thead th {\n",
       "        text-align: right;\n",
       "    }\n",
       "</style>\n",
       "<table border=\"1\" class=\"dataframe\">\n",
       "  <thead>\n",
       "    <tr style=\"text-align: right;\">\n",
       "      <th></th>\n",
       "      <th>WordleID</th>\n",
       "      <th>ID</th>\n",
       "      <th>Created_At</th>\n",
       "      <th>Text</th>\n",
       "      <th>Source</th>\n",
       "      <th>UserID</th>\n",
       "      <th>Attempts</th>\n",
       "      <th>Hard Mode</th>\n",
       "      <th>Match</th>\n",
       "    </tr>\n",
       "  </thead>\n",
       "  <tbody>\n",
       "    <tr>\n",
       "      <th>0</th>\n",
       "      <td>254</td>\n",
       "      <td>1498447921448034305</td>\n",
       "      <td>2022-02-28 23:59:58+00:00</td>\n",
       "      <td>Wordle 254 3/6\\n\\n🟨🟨⬛⬛⬛\\n🟨⬛🟨⬛🟩\\n🟩🟩🟩🟩🟩</td>\n",
       "      <td>Twitter for iPhone</td>\n",
       "      <td>3.681676e+07</td>\n",
       "      <td>3</td>\n",
       "      <td>False</td>\n",
       "      <td>🟨🟨⬛⬛⬛🟨⬛🟨⬛🟩🟩🟩🟩🟩🟩</td>\n",
       "    </tr>\n",
       "    <tr>\n",
       "      <th>1</th>\n",
       "      <td>254</td>\n",
       "      <td>1498447918184996864</td>\n",
       "      <td>2022-02-28 23:59:58+00:00</td>\n",
       "      <td>Wordle 254 4/6\\n\\n⬛⬛⬛⬛🟩\\n⬛⬛⬛⬛🟩\\n⬛🟩⬛⬛🟩\\n🟩🟩🟩🟩🟩\\n...</td>\n",
       "      <td>Twitter for iPhone</td>\n",
       "      <td>4.825910e+08</td>\n",
       "      <td>4</td>\n",
       "      <td>False</td>\n",
       "      <td>⬛⬛⬛⬛🟩⬛⬛⬛⬛🟩⬛🟩⬛⬛🟩🟩🟩🟩🟩🟩</td>\n",
       "    </tr>\n",
       "    <tr>\n",
       "      <th>2</th>\n",
       "      <td>254</td>\n",
       "      <td>1498447910173921282</td>\n",
       "      <td>2022-02-28 23:59:56+00:00</td>\n",
       "      <td>Wordle 254 3/6\\n\\n⬛⬛⬛⬛🟩\\n⬛⬛🟩⬛🟩\\n🟩🟩🟩🟩🟩</td>\n",
       "      <td>Twitter for iPhone</td>\n",
       "      <td>1.397624e+18</td>\n",
       "      <td>3</td>\n",
       "      <td>False</td>\n",
       "      <td>⬛⬛⬛⬛🟩⬛⬛🟩⬛🟩🟩🟩🟩🟩🟩</td>\n",
       "    </tr>\n",
       "    <tr>\n",
       "      <th>3</th>\n",
       "      <td>254</td>\n",
       "      <td>1498447901797801989</td>\n",
       "      <td>2022-02-28 23:59:54+00:00</td>\n",
       "      <td>Wordle 254 3/6\\n\\n⬛⬛⬛🟨⬛\\n⬛🟨⬛⬛🟩\\n🟩🟩🟩🟩🟩</td>\n",
       "      <td>Twitter for iPhone</td>\n",
       "      <td>1.255905e+18</td>\n",
       "      <td>3</td>\n",
       "      <td>False</td>\n",
       "      <td>⬛⬛⬛🟨⬛⬛🟨⬛⬛🟩🟩🟩🟩🟩🟩</td>\n",
       "    </tr>\n",
       "    <tr>\n",
       "      <th>4</th>\n",
       "      <td>254</td>\n",
       "      <td>1498447896911527938</td>\n",
       "      <td>2022-02-28 23:59:53+00:00</td>\n",
       "      <td>Wordle 254 3/6\\n\\n⬛🟨⬛⬛⬛\\n🟩🟩🟩⬛🟩\\n🟩🟩🟩🟩🟩</td>\n",
       "      <td>Twitter for iPhone</td>\n",
       "      <td>2.528937e+08</td>\n",
       "      <td>3</td>\n",
       "      <td>False</td>\n",
       "      <td>⬛🟨⬛⬛⬛🟩🟩🟩⬛🟩🟩🟩🟩🟩🟩</td>\n",
       "    </tr>\n",
       "  </tbody>\n",
       "</table>\n",
       "</div>"
      ],
      "text/plain": [
       "   WordleID                   ID                 Created_At  \\\n",
       "0       254  1498447921448034305  2022-02-28 23:59:58+00:00   \n",
       "1       254  1498447918184996864  2022-02-28 23:59:58+00:00   \n",
       "2       254  1498447910173921282  2022-02-28 23:59:56+00:00   \n",
       "3       254  1498447901797801989  2022-02-28 23:59:54+00:00   \n",
       "4       254  1498447896911527938  2022-02-28 23:59:53+00:00   \n",
       "\n",
       "                                                Text              Source  \\\n",
       "0              Wordle 254 3/6\\n\\n🟨🟨⬛⬛⬛\\n🟨⬛🟨⬛🟩\\n🟩🟩🟩🟩🟩  Twitter for iPhone   \n",
       "1  Wordle 254 4/6\\n\\n⬛⬛⬛⬛🟩\\n⬛⬛⬛⬛🟩\\n⬛🟩⬛⬛🟩\\n🟩🟩🟩🟩🟩\\n...  Twitter for iPhone   \n",
       "2              Wordle 254 3/6\\n\\n⬛⬛⬛⬛🟩\\n⬛⬛🟩⬛🟩\\n🟩🟩🟩🟩🟩  Twitter for iPhone   \n",
       "3              Wordle 254 3/6\\n\\n⬛⬛⬛🟨⬛\\n⬛🟨⬛⬛🟩\\n🟩🟩🟩🟩🟩  Twitter for iPhone   \n",
       "4              Wordle 254 3/6\\n\\n⬛🟨⬛⬛⬛\\n🟩🟩🟩⬛🟩\\n🟩🟩🟩🟩🟩  Twitter for iPhone   \n",
       "\n",
       "         UserID Attempts  Hard Mode                 Match  \n",
       "0  3.681676e+07        3      False       🟨🟨⬛⬛⬛🟨⬛🟨⬛🟩🟩🟩🟩🟩🟩  \n",
       "1  4.825910e+08        4      False  ⬛⬛⬛⬛🟩⬛⬛⬛⬛🟩⬛🟩⬛⬛🟩🟩🟩🟩🟩🟩  \n",
       "2  1.397624e+18        3      False       ⬛⬛⬛⬛🟩⬛⬛🟩⬛🟩🟩🟩🟩🟩🟩  \n",
       "3  1.255905e+18        3      False       ⬛⬛⬛🟨⬛⬛🟨⬛⬛🟩🟩🟩🟩🟩🟩  \n",
       "4  2.528937e+08        3      False       ⬛🟨⬛⬛⬛🟩🟩🟩⬛🟩🟩🟩🟩🟩🟩  "
      ]
     },
     "execution_count": 16,
     "metadata": {},
     "output_type": "execute_result"
    }
   ],
   "source": [
    "colored_squares_pattern = re.compile(r'(\\n[🟨🟩⬛⬜]{5})', flags=re.UNICODE)\n",
    "\n",
    "def filter_text(row):\n",
    "    matches = colored_squares_pattern.findall(row['Text'])\n",
    "    if not matches:\n",
    "        return np.nan \n",
    "    filtered_text = ''.join(''.join(element for element in match) for match in matches).replace('\\n', '')\n",
    "    return filtered_text\n",
    "\n",
    "wordle['Match'] = wordle.apply(filter_text, axis=1)\n",
    "\n",
    "wordle.head()"
   ]
  },
  {
   "cell_type": "code",
   "execution_count": 17,
   "id": "b840a05b-d686-4bbc-a9c0-074a05926178",
   "metadata": {
    "metadata": {}
   },
   "outputs": [
    {
     "data": {
      "text/plain": [
       "WordleID          0\n",
       "ID                0\n",
       "Created_At        0\n",
       "Text              0\n",
       "Source            0\n",
       "UserID            0\n",
       "Attempts      45315\n",
       "Hard Mode         0\n",
       "Match         28700\n",
       "dtype: int64"
      ]
     },
     "execution_count": 17,
     "metadata": {},
     "output_type": "execute_result"
    }
   ],
   "source": [
    "wordle.isnull().sum()"
   ]
  },
  {
   "cell_type": "markdown",
   "id": "211ef5b7-146d-48a9-898f-d48ceabe19e1",
   "metadata": {},
   "source": [
    "Match ha circa 30000 valori nulli. Non potendo integrare i valori dove Match è nullo, eliminiamo i campioni coinvolti. "
   ]
  },
  {
   "cell_type": "code",
   "execution_count": 18,
   "id": "9f842613-6bea-4cf8-8644-e4637110be6b",
   "metadata": {
    "metadata": {}
   },
   "outputs": [
    {
     "data": {
      "text/plain": [
       "WordleID          0\n",
       "ID                0\n",
       "Created_At        0\n",
       "Text              0\n",
       "Source            0\n",
       "UserID            0\n",
       "Attempts      39690\n",
       "Hard Mode         0\n",
       "Match             0\n",
       "dtype: int64"
      ]
     },
     "execution_count": 18,
     "metadata": {},
     "output_type": "execute_result"
    }
   ],
   "source": [
    "wordle = wordle.dropna(subset=['Match'])\n",
    "wordle.isnull().sum()"
   ]
  },
  {
   "cell_type": "markdown",
   "id": "41808ead-25d5-4064-a40b-24459f334479",
   "metadata": {},
   "source": [
    "Per semplicità trasformiamo Match in un array dove ogni elemento è un tentativo."
   ]
  },
  {
   "cell_type": "code",
   "execution_count": 19,
   "id": "6d84d87a-11d4-45a2-8071-4d1a73a3876c",
   "metadata": {
    "metadata": {}
   },
   "outputs": [],
   "source": [
    "wordle['Match'] = wordle['Match'].astype(str)\n",
    "wordle['Match'] = wordle['Match'].apply(lambda x: [x[i:i+5] for i in range(0, len(x), 5)])"
   ]
  },
  {
   "cell_type": "markdown",
   "id": "3a98c329-e37b-4679-beb9-fdb9e3d32efb",
   "metadata": {},
   "source": [
    "Eliminiamo le occorrenze dove Match contiene più di 6 elementi e quindi dove è certamente presente più di una occorrenza di una partita."
   ]
  },
  {
   "cell_type": "code",
   "execution_count": 20,
   "id": "4f155568-88ac-4f4c-b290-58b90426d40f",
   "metadata": {
    "metadata": {}
   },
   "outputs": [],
   "source": [
    "wordle = wordle[wordle['Match'].apply(len) <= 6]"
   ]
  },
  {
   "cell_type": "code",
   "execution_count": 21,
   "id": "2c716c83-acf3-4fd9-9ef2-4e3ff452689e",
   "metadata": {
    "metadata": {}
   },
   "outputs": [
    {
     "data": {
      "text/html": [
       "<div>\n",
       "<style scoped>\n",
       "    .dataframe tbody tr th:only-of-type {\n",
       "        vertical-align: middle;\n",
       "    }\n",
       "\n",
       "    .dataframe tbody tr th {\n",
       "        vertical-align: top;\n",
       "    }\n",
       "\n",
       "    .dataframe thead th {\n",
       "        text-align: right;\n",
       "    }\n",
       "</style>\n",
       "<table border=\"1\" class=\"dataframe\">\n",
       "  <thead>\n",
       "    <tr style=\"text-align: right;\">\n",
       "      <th></th>\n",
       "      <th>WordleID</th>\n",
       "      <th>ID</th>\n",
       "      <th>Created_At</th>\n",
       "      <th>Text</th>\n",
       "      <th>Source</th>\n",
       "      <th>UserID</th>\n",
       "      <th>Attempts</th>\n",
       "      <th>Hard Mode</th>\n",
       "      <th>Match</th>\n",
       "    </tr>\n",
       "  </thead>\n",
       "  <tbody>\n",
       "    <tr>\n",
       "      <th>0</th>\n",
       "      <td>254</td>\n",
       "      <td>1498447921448034305</td>\n",
       "      <td>2022-02-28 23:59:58+00:00</td>\n",
       "      <td>Wordle 254 3/6\\n\\n🟨🟨⬛⬛⬛\\n🟨⬛🟨⬛🟩\\n🟩🟩🟩🟩🟩</td>\n",
       "      <td>Twitter for iPhone</td>\n",
       "      <td>3.681676e+07</td>\n",
       "      <td>3</td>\n",
       "      <td>False</td>\n",
       "      <td>[🟨🟨⬛⬛⬛, 🟨⬛🟨⬛🟩, 🟩🟩🟩🟩🟩]</td>\n",
       "    </tr>\n",
       "    <tr>\n",
       "      <th>1</th>\n",
       "      <td>254</td>\n",
       "      <td>1498447918184996864</td>\n",
       "      <td>2022-02-28 23:59:58+00:00</td>\n",
       "      <td>Wordle 254 4/6\\n\\n⬛⬛⬛⬛🟩\\n⬛⬛⬛⬛🟩\\n⬛🟩⬛⬛🟩\\n🟩🟩🟩🟩🟩\\n...</td>\n",
       "      <td>Twitter for iPhone</td>\n",
       "      <td>4.825910e+08</td>\n",
       "      <td>4</td>\n",
       "      <td>False</td>\n",
       "      <td>[⬛⬛⬛⬛🟩, ⬛⬛⬛⬛🟩, ⬛🟩⬛⬛🟩, 🟩🟩🟩🟩🟩]</td>\n",
       "    </tr>\n",
       "    <tr>\n",
       "      <th>2</th>\n",
       "      <td>254</td>\n",
       "      <td>1498447910173921282</td>\n",
       "      <td>2022-02-28 23:59:56+00:00</td>\n",
       "      <td>Wordle 254 3/6\\n\\n⬛⬛⬛⬛🟩\\n⬛⬛🟩⬛🟩\\n🟩🟩🟩🟩🟩</td>\n",
       "      <td>Twitter for iPhone</td>\n",
       "      <td>1.397624e+18</td>\n",
       "      <td>3</td>\n",
       "      <td>False</td>\n",
       "      <td>[⬛⬛⬛⬛🟩, ⬛⬛🟩⬛🟩, 🟩🟩🟩🟩🟩]</td>\n",
       "    </tr>\n",
       "    <tr>\n",
       "      <th>3</th>\n",
       "      <td>254</td>\n",
       "      <td>1498447901797801989</td>\n",
       "      <td>2022-02-28 23:59:54+00:00</td>\n",
       "      <td>Wordle 254 3/6\\n\\n⬛⬛⬛🟨⬛\\n⬛🟨⬛⬛🟩\\n🟩🟩🟩🟩🟩</td>\n",
       "      <td>Twitter for iPhone</td>\n",
       "      <td>1.255905e+18</td>\n",
       "      <td>3</td>\n",
       "      <td>False</td>\n",
       "      <td>[⬛⬛⬛🟨⬛, ⬛🟨⬛⬛🟩, 🟩🟩🟩🟩🟩]</td>\n",
       "    </tr>\n",
       "    <tr>\n",
       "      <th>4</th>\n",
       "      <td>254</td>\n",
       "      <td>1498447896911527938</td>\n",
       "      <td>2022-02-28 23:59:53+00:00</td>\n",
       "      <td>Wordle 254 3/6\\n\\n⬛🟨⬛⬛⬛\\n🟩🟩🟩⬛🟩\\n🟩🟩🟩🟩🟩</td>\n",
       "      <td>Twitter for iPhone</td>\n",
       "      <td>2.528937e+08</td>\n",
       "      <td>3</td>\n",
       "      <td>False</td>\n",
       "      <td>[⬛🟨⬛⬛⬛, 🟩🟩🟩⬛🟩, 🟩🟩🟩🟩🟩]</td>\n",
       "    </tr>\n",
       "  </tbody>\n",
       "</table>\n",
       "</div>"
      ],
      "text/plain": [
       "   WordleID                   ID                 Created_At  \\\n",
       "0       254  1498447921448034305  2022-02-28 23:59:58+00:00   \n",
       "1       254  1498447918184996864  2022-02-28 23:59:58+00:00   \n",
       "2       254  1498447910173921282  2022-02-28 23:59:56+00:00   \n",
       "3       254  1498447901797801989  2022-02-28 23:59:54+00:00   \n",
       "4       254  1498447896911527938  2022-02-28 23:59:53+00:00   \n",
       "\n",
       "                                                Text              Source  \\\n",
       "0              Wordle 254 3/6\\n\\n🟨🟨⬛⬛⬛\\n🟨⬛🟨⬛🟩\\n🟩🟩🟩🟩🟩  Twitter for iPhone   \n",
       "1  Wordle 254 4/6\\n\\n⬛⬛⬛⬛🟩\\n⬛⬛⬛⬛🟩\\n⬛🟩⬛⬛🟩\\n🟩🟩🟩🟩🟩\\n...  Twitter for iPhone   \n",
       "2              Wordle 254 3/6\\n\\n⬛⬛⬛⬛🟩\\n⬛⬛🟩⬛🟩\\n🟩🟩🟩🟩🟩  Twitter for iPhone   \n",
       "3              Wordle 254 3/6\\n\\n⬛⬛⬛🟨⬛\\n⬛🟨⬛⬛🟩\\n🟩🟩🟩🟩🟩  Twitter for iPhone   \n",
       "4              Wordle 254 3/6\\n\\n⬛🟨⬛⬛⬛\\n🟩🟩🟩⬛🟩\\n🟩🟩🟩🟩🟩  Twitter for iPhone   \n",
       "\n",
       "         UserID Attempts  Hard Mode                         Match  \n",
       "0  3.681676e+07        3      False         [🟨🟨⬛⬛⬛, 🟨⬛🟨⬛🟩, 🟩🟩🟩🟩🟩]  \n",
       "1  4.825910e+08        4      False  [⬛⬛⬛⬛🟩, ⬛⬛⬛⬛🟩, ⬛🟩⬛⬛🟩, 🟩🟩🟩🟩🟩]  \n",
       "2  1.397624e+18        3      False         [⬛⬛⬛⬛🟩, ⬛⬛🟩⬛🟩, 🟩🟩🟩🟩🟩]  \n",
       "3  1.255905e+18        3      False         [⬛⬛⬛🟨⬛, ⬛🟨⬛⬛🟩, 🟩🟩🟩🟩🟩]  \n",
       "4  2.528937e+08        3      False         [⬛🟨⬛⬛⬛, 🟩🟩🟩⬛🟩, 🟩🟩🟩🟩🟩]  "
      ]
     },
     "execution_count": 21,
     "metadata": {},
     "output_type": "execute_result"
    }
   ],
   "source": [
    "wordle.head()"
   ]
  },
  {
   "cell_type": "code",
   "execution_count": 22,
   "id": "76cd420c-6dfb-4ebb-9b56-1ef7cb37e20e",
   "metadata": {
    "metadata": {}
   },
   "outputs": [
    {
     "data": {
      "text/plain": [
       "WordleID          0\n",
       "ID                0\n",
       "Created_At        0\n",
       "Text              0\n",
       "Source            0\n",
       "UserID            0\n",
       "Attempts      39538\n",
       "Hard Mode         0\n",
       "Match             0\n",
       "dtype: int64"
      ]
     },
     "execution_count": 22,
     "metadata": {},
     "output_type": "execute_result"
    }
   ],
   "source": [
    "wordle.isnull().sum()"
   ]
  },
  {
   "cell_type": "markdown",
   "id": "14ce7703-c8b8-4ee6-8377-a608ea4d12ab",
   "metadata": {},
   "source": [
    "Eliminiamo ora la caratteristica 'Text' da cui abbiamo estratto tutte le informazioni che ci servivano."
   ]
  },
  {
   "cell_type": "code",
   "execution_count": 23,
   "id": "e67e0512-bdac-4c25-8bbc-de4e5002ca4b",
   "metadata": {
    "metadata": {}
   },
   "outputs": [],
   "source": [
    "wordle.drop(columns=['Text'], inplace=True)"
   ]
  },
  {
   "cell_type": "markdown",
   "id": "994e7314-57ba-42d5-bebf-09332234bf98",
   "metadata": {},
   "source": [
    "### Eliminazione valori nulli di 'Attempts' e verifica di coerenza con 'Match'"
   ]
  },
  {
   "cell_type": "markdown",
   "id": "176b8afc-ab2d-461e-9003-7d5c318be895",
   "metadata": {},
   "source": [
    "Eliminiamo i campioni dove Attempts è NaN."
   ]
  },
  {
   "cell_type": "code",
   "execution_count": 24,
   "id": "e2410575-7cbc-48e6-bcc8-098d590f5f3e",
   "metadata": {
    "metadata": {}
   },
   "outputs": [
    {
     "data": {
      "text/plain": [
       "WordleID      0\n",
       "ID            0\n",
       "Created_At    0\n",
       "Source        0\n",
       "UserID        0\n",
       "Attempts      0\n",
       "Hard Mode     0\n",
       "Match         0\n",
       "dtype: int64"
      ]
     },
     "execution_count": 24,
     "metadata": {},
     "output_type": "execute_result"
    }
   ],
   "source": [
    "wordle = wordle.dropna(subset=['Attempts'])\n",
    "wordle.isnull().sum()"
   ]
  },
  {
   "cell_type": "markdown",
   "id": "dccbf617-3df9-4b62-bf7b-b7d49df20408",
   "metadata": {},
   "source": [
    "In Attempts 'x' o 'X' indicano una partita persa o in cui l'utente si è arreso prima di terminare. Vorremo realizzare una colonna 'Win' che tenga traccia delle partite vinte e perse. Tuttavia preferiamo estrarre questa informazione dalla caratteristica 'Match' in un secondo momento a seguito di un controllo che ci garantirà maggiore affidabilità circa le vittorie. Pertanto, sostituiamo 'x' e 'X' con il numero equivalente di tentativi nella partita, ossia la lunghezza dell'array in 'Match'."
   ]
  },
  {
   "cell_type": "code",
   "execution_count": 25,
   "id": "31097cde-7c62-4b48-9eaf-c3dc63caf3be",
   "metadata": {
    "metadata": {}
   },
   "outputs": [],
   "source": [
    "#wordle['Attempts'].replace('X', '6')\n",
    "#wordle['Attempts'].replace('x', '6')\n",
    "\n",
    "# Function to replace 'x' or 'X' in Attempts based on the length of Match\n",
    "def replace_attempts(row):\n",
    "    attempts = row['Attempts']\n",
    "    match_length = len(row['Match'])\n",
    "    if attempts.lower() == 'x' or attempts.upper() == 'X':\n",
    "        return str(match_length)\n",
    "    else:\n",
    "        return attempts\n",
    "\n",
    "# Apply the function to replace 'x' or 'X' in Attempts\n",
    "wordle['Attempts'] = wordle.apply(replace_attempts, axis = 1)\n"
   ]
  },
  {
   "cell_type": "markdown",
   "id": "178c2886-ef8f-46c5-9c1c-5c6d8e384866",
   "metadata": {},
   "source": [
    "Verifichiamo che i nostri dati siano coerenti. Per prima cosa verifichiamo che per ogni campione il numero di gruppi da 5 quadrati consecutivi appena estratto sia uguale al valore contenuto nella caratteristica 'Attempts'. Se i due non sono uguali può significare che la partita riportata nel tweet era sbagliata, che nel tweet è riportata più di una partita o che Attempts non rispecchia la partita presente nel tweet."
   ]
  },
  {
   "cell_type": "code",
   "execution_count": 26,
   "id": "d5730e0a-161c-402a-b225-a272806671bc",
   "metadata": {
    "metadata": {}
   },
   "outputs": [
    {
     "name": "stdout",
     "output_type": "stream",
     "text": [
      "Number of rows where the number of elements in 'Match' is not equal to 'Attempts': 8104\n",
      "Total number of rows: 2030551\n"
     ]
    }
   ],
   "source": [
    "wordle['Attempts'] = wordle['Attempts'].astype(int)\n",
    "\n",
    "def verify_length(row):\n",
    "    # Get the length of the 'Text' array\n",
    "    text_length = len(row['Match'])\n",
    "    \n",
    "    # Get the value in the 'Attempts' column\n",
    "    attempts = row['Attempts']\n",
    "    \n",
    "    # Check if the lengths match\n",
    "    return text_length != attempts\n",
    "\n",
    "# Count the number of rows where lengths do not match\n",
    "num_mismatched_rows = wordle.apply(verify_length, axis=1).sum()\n",
    "\n",
    "print(\"Number of rows where the number of elements in 'Match' is not equal to 'Attempts':\", num_mismatched_rows)\n",
    "print(\"Total number of rows:\", wordle.shape[0])"
   ]
  },
  {
   "cell_type": "markdown",
   "id": "02dbaaad-63f6-45fd-9039-b4e3ff1d0f04",
   "metadata": {},
   "source": [
    "Eliminiamo le righe dove c'è incoerenza. "
   ]
  },
  {
   "cell_type": "code",
   "execution_count": 27,
   "id": "284fcaa4-1c93-4b92-af22-096c8f72bb7a",
   "metadata": {
    "metadata": {}
   },
   "outputs": [
    {
     "name": "stdout",
     "output_type": "stream",
     "text": [
      "2022447\n"
     ]
    },
    {
     "data": {
      "text/html": [
       "<div>\n",
       "<style scoped>\n",
       "    .dataframe tbody tr th:only-of-type {\n",
       "        vertical-align: middle;\n",
       "    }\n",
       "\n",
       "    .dataframe tbody tr th {\n",
       "        vertical-align: top;\n",
       "    }\n",
       "\n",
       "    .dataframe thead th {\n",
       "        text-align: right;\n",
       "    }\n",
       "</style>\n",
       "<table border=\"1\" class=\"dataframe\">\n",
       "  <thead>\n",
       "    <tr style=\"text-align: right;\">\n",
       "      <th></th>\n",
       "      <th>WordleID</th>\n",
       "      <th>ID</th>\n",
       "      <th>Created_At</th>\n",
       "      <th>Source</th>\n",
       "      <th>UserID</th>\n",
       "      <th>Attempts</th>\n",
       "      <th>Hard Mode</th>\n",
       "      <th>Match</th>\n",
       "    </tr>\n",
       "  </thead>\n",
       "  <tbody>\n",
       "    <tr>\n",
       "      <th>0</th>\n",
       "      <td>254</td>\n",
       "      <td>1498447921448034305</td>\n",
       "      <td>2022-02-28 23:59:58+00:00</td>\n",
       "      <td>Twitter for iPhone</td>\n",
       "      <td>3.681676e+07</td>\n",
       "      <td>3</td>\n",
       "      <td>False</td>\n",
       "      <td>[🟨🟨⬛⬛⬛, 🟨⬛🟨⬛🟩, 🟩🟩🟩🟩🟩]</td>\n",
       "    </tr>\n",
       "    <tr>\n",
       "      <th>1</th>\n",
       "      <td>254</td>\n",
       "      <td>1498447918184996864</td>\n",
       "      <td>2022-02-28 23:59:58+00:00</td>\n",
       "      <td>Twitter for iPhone</td>\n",
       "      <td>4.825910e+08</td>\n",
       "      <td>4</td>\n",
       "      <td>False</td>\n",
       "      <td>[⬛⬛⬛⬛🟩, ⬛⬛⬛⬛🟩, ⬛🟩⬛⬛🟩, 🟩🟩🟩🟩🟩]</td>\n",
       "    </tr>\n",
       "    <tr>\n",
       "      <th>2</th>\n",
       "      <td>254</td>\n",
       "      <td>1498447910173921282</td>\n",
       "      <td>2022-02-28 23:59:56+00:00</td>\n",
       "      <td>Twitter for iPhone</td>\n",
       "      <td>1.397624e+18</td>\n",
       "      <td>3</td>\n",
       "      <td>False</td>\n",
       "      <td>[⬛⬛⬛⬛🟩, ⬛⬛🟩⬛🟩, 🟩🟩🟩🟩🟩]</td>\n",
       "    </tr>\n",
       "    <tr>\n",
       "      <th>3</th>\n",
       "      <td>254</td>\n",
       "      <td>1498447901797801989</td>\n",
       "      <td>2022-02-28 23:59:54+00:00</td>\n",
       "      <td>Twitter for iPhone</td>\n",
       "      <td>1.255905e+18</td>\n",
       "      <td>3</td>\n",
       "      <td>False</td>\n",
       "      <td>[⬛⬛⬛🟨⬛, ⬛🟨⬛⬛🟩, 🟩🟩🟩🟩🟩]</td>\n",
       "    </tr>\n",
       "    <tr>\n",
       "      <th>4</th>\n",
       "      <td>254</td>\n",
       "      <td>1498447896911527938</td>\n",
       "      <td>2022-02-28 23:59:53+00:00</td>\n",
       "      <td>Twitter for iPhone</td>\n",
       "      <td>2.528937e+08</td>\n",
       "      <td>3</td>\n",
       "      <td>False</td>\n",
       "      <td>[⬛🟨⬛⬛⬛, 🟩🟩🟩⬛🟩, 🟩🟩🟩🟩🟩]</td>\n",
       "    </tr>\n",
       "  </tbody>\n",
       "</table>\n",
       "</div>"
      ],
      "text/plain": [
       "   WordleID                   ID                 Created_At  \\\n",
       "0       254  1498447921448034305  2022-02-28 23:59:58+00:00   \n",
       "1       254  1498447918184996864  2022-02-28 23:59:58+00:00   \n",
       "2       254  1498447910173921282  2022-02-28 23:59:56+00:00   \n",
       "3       254  1498447901797801989  2022-02-28 23:59:54+00:00   \n",
       "4       254  1498447896911527938  2022-02-28 23:59:53+00:00   \n",
       "\n",
       "               Source        UserID  Attempts  Hard Mode  \\\n",
       "0  Twitter for iPhone  3.681676e+07         3      False   \n",
       "1  Twitter for iPhone  4.825910e+08         4      False   \n",
       "2  Twitter for iPhone  1.397624e+18         3      False   \n",
       "3  Twitter for iPhone  1.255905e+18         3      False   \n",
       "4  Twitter for iPhone  2.528937e+08         3      False   \n",
       "\n",
       "                          Match  \n",
       "0         [🟨🟨⬛⬛⬛, 🟨⬛🟨⬛🟩, 🟩🟩🟩🟩🟩]  \n",
       "1  [⬛⬛⬛⬛🟩, ⬛⬛⬛⬛🟩, ⬛🟩⬛⬛🟩, 🟩🟩🟩🟩🟩]  \n",
       "2         [⬛⬛⬛⬛🟩, ⬛⬛🟩⬛🟩, 🟩🟩🟩🟩🟩]  \n",
       "3         [⬛⬛⬛🟨⬛, ⬛🟨⬛⬛🟩, 🟩🟩🟩🟩🟩]  \n",
       "4         [⬛🟨⬛⬛⬛, 🟩🟩🟩⬛🟩, 🟩🟩🟩🟩🟩]  "
      ]
     },
     "execution_count": 27,
     "metadata": {},
     "output_type": "execute_result"
    }
   ],
   "source": [
    "# Create a boolean mask indicating whether the number of elements in 'Text' matches 'Attempts'\n",
    "mask = wordle.apply(lambda row: len(row['Match']) == row['Attempts'], axis=1)\n",
    "\n",
    "# Drop the rows where the number of elements in 'Text' does not match 'Attempts'\n",
    "wordle = wordle[mask]\n",
    "\n",
    "# Print the resulting DataFrame\n",
    "print(wordle.shape[0])\n",
    "wordle.head()"
   ]
  },
  {
   "cell_type": "markdown",
   "id": "4f3e3cfd-1d97-49e4-9a94-3504ca48444e",
   "metadata": {},
   "source": [
    "### Verifica corretteza 'Match'"
   ]
  },
  {
   "cell_type": "markdown",
   "id": "52338a05-4e1a-4e06-9282-31a6a5adb372",
   "metadata": {},
   "source": [
    "Ora che sappiamo che il numero di gruppi di quadrati consecutivi coincide sempre col numero di tentativi, eliminiamo tutte quelle righe che contengono valori sbagliati del campo 'Match' (come ad esempio 6 righe di 5 quadrati tutti verdi). "
   ]
  },
  {
   "cell_type": "code",
   "execution_count": 28,
   "id": "e09528b3-d2f7-4e30-9b24-d95777a332e6",
   "metadata": {
    "metadata": {}
   },
   "outputs": [
    {
     "name": "stdout",
     "output_type": "stream",
     "text": [
      "2022414\n"
     ]
    }
   ],
   "source": [
    "def meets_conditions(row):\n",
    "    # Check if any element in 'Text' contains five 🟩\n",
    "    for i, text in enumerate(row['Match']):\n",
    "        if text.count('🟩') == 5: \n",
    "            # Check if it's the last element of the array\n",
    "            if i == len(row['Match']) - 1:\n",
    "                # If the condition is met and it's the last element, check if it's the only one\n",
    "                num_matching_elements = sum(1 for t in row['Match'] if t.count('🟩') == 5) \n",
    "                if num_matching_elements == 1:\n",
    "                    return True\n",
    "                else:\n",
    "                    return False\n",
    "            else:\n",
    "                return False\n",
    "    # If no element contains five 🟩, return True\n",
    "    return True\n",
    "\n",
    "wrong_rows = wordle[~wordle.apply(meets_conditions, axis=1)]\n",
    "\n",
    "# Apply the function to each row of the DataFrame to filter out rows that don't meet the conditions\n",
    "wordle = wordle[wordle.apply(meets_conditions, axis=1)]\n",
    "print(wordle.shape[0])"
   ]
  },
  {
   "cell_type": "code",
   "execution_count": 29,
   "id": "6661b4f4-1d65-4396-83b0-5c0524081869",
   "metadata": {
    "metadata": {}
   },
   "outputs": [
    {
     "data": {
      "text/html": [
       "<div>\n",
       "<style scoped>\n",
       "    .dataframe tbody tr th:only-of-type {\n",
       "        vertical-align: middle;\n",
       "    }\n",
       "\n",
       "    .dataframe tbody tr th {\n",
       "        vertical-align: top;\n",
       "    }\n",
       "\n",
       "    .dataframe thead th {\n",
       "        text-align: right;\n",
       "    }\n",
       "</style>\n",
       "<table border=\"1\" class=\"dataframe\">\n",
       "  <thead>\n",
       "    <tr style=\"text-align: right;\">\n",
       "      <th></th>\n",
       "      <th>WordleID</th>\n",
       "      <th>ID</th>\n",
       "      <th>Created_At</th>\n",
       "      <th>Source</th>\n",
       "      <th>UserID</th>\n",
       "      <th>Attempts</th>\n",
       "      <th>Hard Mode</th>\n",
       "      <th>Match</th>\n",
       "    </tr>\n",
       "  </thead>\n",
       "  <tbody>\n",
       "    <tr>\n",
       "      <th>29140</th>\n",
       "      <td>255</td>\n",
       "      <td>1498772741654261763</td>\n",
       "      <td>2022-03-01 21:30:42+00:00</td>\n",
       "      <td>Twitter for Android</td>\n",
       "      <td>1.420928e+18</td>\n",
       "      <td>5</td>\n",
       "      <td>False</td>\n",
       "      <td>[🟩🟩🟩🟩🟩, 🟩🟩🟩🟩🟩, 🟩🟩🟩🟩🟩, 🟩🟩🟩🟩🟩, 🟩🟩🟩🟩🟩]</td>\n",
       "    </tr>\n",
       "    <tr>\n",
       "      <th>44728</th>\n",
       "      <td>256</td>\n",
       "      <td>1499150725229826052</td>\n",
       "      <td>2022-03-02 22:32:40+00:00</td>\n",
       "      <td>Twitter for iPhone</td>\n",
       "      <td>1.190034e+18</td>\n",
       "      <td>6</td>\n",
       "      <td>False</td>\n",
       "      <td>[🟩🟩🟩🟩🟩, 🟩🟩🟩🟩🟩, 🟩🟩🟩🟩🟩, 🟩🟩🟩🟩🟩, 🟩🟩🟩🟩🟩, 🟩🟩🟩🟩🟩]</td>\n",
       "    </tr>\n",
       "    <tr>\n",
       "      <th>45083</th>\n",
       "      <td>256</td>\n",
       "      <td>1499149451822260228</td>\n",
       "      <td>2022-03-02 22:27:36+00:00</td>\n",
       "      <td>Twitter for iPhone</td>\n",
       "      <td>1.481837e+18</td>\n",
       "      <td>6</td>\n",
       "      <td>False</td>\n",
       "      <td>[🟩🟩🟩🟩🟩, 🟩🟩🟩🟩🟩, 🟩🟩🟩🟩🟩, 🟩🟩🟩🟩🟩, 🟩🟩🟩🟩🟩, 🟩🟩🟩🟩🟩]</td>\n",
       "    </tr>\n",
       "    <tr>\n",
       "      <th>45186</th>\n",
       "      <td>256</td>\n",
       "      <td>1499149042852397057</td>\n",
       "      <td>2022-03-02 22:25:59+00:00</td>\n",
       "      <td>Twitter for iPhone</td>\n",
       "      <td>1.456332e+18</td>\n",
       "      <td>6</td>\n",
       "      <td>False</td>\n",
       "      <td>[🟩🟩🟩🟩🟩, 🟩🟩🟩🟩🟩, 🟩🟩🟩🟩🟩, 🟩🟩🟩🟩🟩, 🟩🟩🟩🟩🟩, 🟩🟩🟩🟩🟩]</td>\n",
       "    </tr>\n",
       "    <tr>\n",
       "      <th>54251</th>\n",
       "      <td>256</td>\n",
       "      <td>1499116431148945410</td>\n",
       "      <td>2022-03-02 20:16:24+00:00</td>\n",
       "      <td>Twitter Web App</td>\n",
       "      <td>1.021135e+18</td>\n",
       "      <td>6</td>\n",
       "      <td>False</td>\n",
       "      <td>[⬛🟩🟩🟩🟩, 🟩🟩🟨🟨🟨, 🟩🟩🟩🟩🟩, 🟩🟩🟩🟩🟩, 🟩🟩🟩🟩🟩, ⬛🟩⬛⬛🟩]</td>\n",
       "    </tr>\n",
       "  </tbody>\n",
       "</table>\n",
       "</div>"
      ],
      "text/plain": [
       "       WordleID                   ID                 Created_At  \\\n",
       "29140       255  1498772741654261763  2022-03-01 21:30:42+00:00   \n",
       "44728       256  1499150725229826052  2022-03-02 22:32:40+00:00   \n",
       "45083       256  1499149451822260228  2022-03-02 22:27:36+00:00   \n",
       "45186       256  1499149042852397057  2022-03-02 22:25:59+00:00   \n",
       "54251       256  1499116431148945410  2022-03-02 20:16:24+00:00   \n",
       "\n",
       "                    Source        UserID  Attempts  Hard Mode  \\\n",
       "29140  Twitter for Android  1.420928e+18         5      False   \n",
       "44728   Twitter for iPhone  1.190034e+18         6      False   \n",
       "45083   Twitter for iPhone  1.481837e+18         6      False   \n",
       "45186   Twitter for iPhone  1.456332e+18         6      False   \n",
       "54251      Twitter Web App  1.021135e+18         6      False   \n",
       "\n",
       "                                            Match  \n",
       "29140         [🟩🟩🟩🟩🟩, 🟩🟩🟩🟩🟩, 🟩🟩🟩🟩🟩, 🟩🟩🟩🟩🟩, 🟩🟩🟩🟩🟩]  \n",
       "44728  [🟩🟩🟩🟩🟩, 🟩🟩🟩🟩🟩, 🟩🟩🟩🟩🟩, 🟩🟩🟩🟩🟩, 🟩🟩🟩🟩🟩, 🟩🟩🟩🟩🟩]  \n",
       "45083  [🟩🟩🟩🟩🟩, 🟩🟩🟩🟩🟩, 🟩🟩🟩🟩🟩, 🟩🟩🟩🟩🟩, 🟩🟩🟩🟩🟩, 🟩🟩🟩🟩🟩]  \n",
       "45186  [🟩🟩🟩🟩🟩, 🟩🟩🟩🟩🟩, 🟩🟩🟩🟩🟩, 🟩🟩🟩🟩🟩, 🟩🟩🟩🟩🟩, 🟩🟩🟩🟩🟩]  \n",
       "54251  [⬛🟩🟩🟩🟩, 🟩🟩🟨🟨🟨, 🟩🟩🟩🟩🟩, 🟩🟩🟩🟩🟩, 🟩🟩🟩🟩🟩, ⬛🟩⬛⬛🟩]  "
      ]
     },
     "execution_count": 29,
     "metadata": {},
     "output_type": "execute_result"
    }
   ],
   "source": [
    "wrong_rows.head()"
   ]
  },
  {
   "cell_type": "markdown",
   "id": "e8f21b1d-2c34-4913-a85c-1a7b54490795",
   "metadata": {},
   "source": [
    "Abbiamo effettivamente eliminato dei campioni errati. "
   ]
  },
  {
   "cell_type": "markdown",
   "id": "938f0dce-89a1-4b7c-9344-bab1482e377d",
   "metadata": {},
   "source": [
    "### Creazione caratteristica 'Win'"
   ]
  },
  {
   "cell_type": "markdown",
   "id": "7d921604-547d-4224-b827-bb8cee8f7be7",
   "metadata": {},
   "source": [
    "Creiamo una colonna 'Win' che ci indichi se una partita è stata vinta o persa. "
   ]
  },
  {
   "cell_type": "code",
   "execution_count": 30,
   "id": "5c9be5ab-f902-4cce-870b-6aa4efa88763",
   "metadata": {
    "metadata": {}
   },
   "outputs": [
    {
     "data": {
      "text/html": [
       "<div>\n",
       "<style scoped>\n",
       "    .dataframe tbody tr th:only-of-type {\n",
       "        vertical-align: middle;\n",
       "    }\n",
       "\n",
       "    .dataframe tbody tr th {\n",
       "        vertical-align: top;\n",
       "    }\n",
       "\n",
       "    .dataframe thead th {\n",
       "        text-align: right;\n",
       "    }\n",
       "</style>\n",
       "<table border=\"1\" class=\"dataframe\">\n",
       "  <thead>\n",
       "    <tr style=\"text-align: right;\">\n",
       "      <th></th>\n",
       "      <th>WordleID</th>\n",
       "      <th>ID</th>\n",
       "      <th>Created_At</th>\n",
       "      <th>Source</th>\n",
       "      <th>UserID</th>\n",
       "      <th>Attempts</th>\n",
       "      <th>Hard Mode</th>\n",
       "      <th>Match</th>\n",
       "      <th>Win</th>\n",
       "    </tr>\n",
       "  </thead>\n",
       "  <tbody>\n",
       "    <tr>\n",
       "      <th>0</th>\n",
       "      <td>254</td>\n",
       "      <td>1498447921448034305</td>\n",
       "      <td>2022-02-28 23:59:58+00:00</td>\n",
       "      <td>Twitter for iPhone</td>\n",
       "      <td>3.681676e+07</td>\n",
       "      <td>3</td>\n",
       "      <td>False</td>\n",
       "      <td>[🟨🟨⬛⬛⬛, 🟨⬛🟨⬛🟩, 🟩🟩🟩🟩🟩]</td>\n",
       "      <td>True</td>\n",
       "    </tr>\n",
       "    <tr>\n",
       "      <th>1</th>\n",
       "      <td>254</td>\n",
       "      <td>1498447918184996864</td>\n",
       "      <td>2022-02-28 23:59:58+00:00</td>\n",
       "      <td>Twitter for iPhone</td>\n",
       "      <td>4.825910e+08</td>\n",
       "      <td>4</td>\n",
       "      <td>False</td>\n",
       "      <td>[⬛⬛⬛⬛🟩, ⬛⬛⬛⬛🟩, ⬛🟩⬛⬛🟩, 🟩🟩🟩🟩🟩]</td>\n",
       "      <td>True</td>\n",
       "    </tr>\n",
       "    <tr>\n",
       "      <th>2</th>\n",
       "      <td>254</td>\n",
       "      <td>1498447910173921282</td>\n",
       "      <td>2022-02-28 23:59:56+00:00</td>\n",
       "      <td>Twitter for iPhone</td>\n",
       "      <td>1.397624e+18</td>\n",
       "      <td>3</td>\n",
       "      <td>False</td>\n",
       "      <td>[⬛⬛⬛⬛🟩, ⬛⬛🟩⬛🟩, 🟩🟩🟩🟩🟩]</td>\n",
       "      <td>True</td>\n",
       "    </tr>\n",
       "    <tr>\n",
       "      <th>3</th>\n",
       "      <td>254</td>\n",
       "      <td>1498447901797801989</td>\n",
       "      <td>2022-02-28 23:59:54+00:00</td>\n",
       "      <td>Twitter for iPhone</td>\n",
       "      <td>1.255905e+18</td>\n",
       "      <td>3</td>\n",
       "      <td>False</td>\n",
       "      <td>[⬛⬛⬛🟨⬛, ⬛🟨⬛⬛🟩, 🟩🟩🟩🟩🟩]</td>\n",
       "      <td>True</td>\n",
       "    </tr>\n",
       "    <tr>\n",
       "      <th>4</th>\n",
       "      <td>254</td>\n",
       "      <td>1498447896911527938</td>\n",
       "      <td>2022-02-28 23:59:53+00:00</td>\n",
       "      <td>Twitter for iPhone</td>\n",
       "      <td>2.528937e+08</td>\n",
       "      <td>3</td>\n",
       "      <td>False</td>\n",
       "      <td>[⬛🟨⬛⬛⬛, 🟩🟩🟩⬛🟩, 🟩🟩🟩🟩🟩]</td>\n",
       "      <td>True</td>\n",
       "    </tr>\n",
       "  </tbody>\n",
       "</table>\n",
       "</div>"
      ],
      "text/plain": [
       "   WordleID                   ID                 Created_At  \\\n",
       "0       254  1498447921448034305  2022-02-28 23:59:58+00:00   \n",
       "1       254  1498447918184996864  2022-02-28 23:59:58+00:00   \n",
       "2       254  1498447910173921282  2022-02-28 23:59:56+00:00   \n",
       "3       254  1498447901797801989  2022-02-28 23:59:54+00:00   \n",
       "4       254  1498447896911527938  2022-02-28 23:59:53+00:00   \n",
       "\n",
       "               Source        UserID  Attempts  Hard Mode  \\\n",
       "0  Twitter for iPhone  3.681676e+07         3      False   \n",
       "1  Twitter for iPhone  4.825910e+08         4      False   \n",
       "2  Twitter for iPhone  1.397624e+18         3      False   \n",
       "3  Twitter for iPhone  1.255905e+18         3      False   \n",
       "4  Twitter for iPhone  2.528937e+08         3      False   \n",
       "\n",
       "                          Match   Win  \n",
       "0         [🟨🟨⬛⬛⬛, 🟨⬛🟨⬛🟩, 🟩🟩🟩🟩🟩]  True  \n",
       "1  [⬛⬛⬛⬛🟩, ⬛⬛⬛⬛🟩, ⬛🟩⬛⬛🟩, 🟩🟩🟩🟩🟩]  True  \n",
       "2         [⬛⬛⬛⬛🟩, ⬛⬛🟩⬛🟩, 🟩🟩🟩🟩🟩]  True  \n",
       "3         [⬛⬛⬛🟨⬛, ⬛🟨⬛⬛🟩, 🟩🟩🟩🟩🟩]  True  \n",
       "4         [⬛🟨⬛⬛⬛, 🟩🟩🟩⬛🟩, 🟩🟩🟩🟩🟩]  True  "
      ]
     },
     "execution_count": 30,
     "metadata": {},
     "output_type": "execute_result"
    }
   ],
   "source": [
    "def verify_winning_rows(row):\n",
    "    # Get the last element of the 'Text_Array'\n",
    "    last_element = row['Match'][-1]\n",
    "        \n",
    "    # Check if the last element contains five 🟩 \n",
    "    if last_element.count('🟩') == 5:\n",
    "            # Check if the last element is the only one containing five 🟩 \n",
    "            num_matching_elements = sum(1 for text in row['Match'] if text.count('🟩') == 5)\n",
    "            return num_matching_elements == 1\n",
    "    return False\n",
    "\n",
    "wordle.loc[:, 'Win'] = wordle.apply(verify_winning_rows, axis=1)\n",
    "wordle.head()"
   ]
  },
  {
   "cell_type": "markdown",
   "id": "28895eef-f64d-4a39-a334-f4b3850cc4c7",
   "metadata": {},
   "source": [
    "### Verifica unicità della coppia <'WordleID', 'UserID'>"
   ]
  },
  {
   "cell_type": "markdown",
   "id": "df43e858-636b-4e59-b876-74839f5d1c2d",
   "metadata": {},
   "source": [
    "Le regole di Wordle sono le seguenti:\n",
    "\n",
    "  -  è possibile giocare un solo puzzle al giorno\n",
    "  \n",
    "  -  tutti giocano allo stesso puzzle \n",
    "  \n",
    "Dobbiamo quindi verificare che per ciascun WordleID non ci siano più ricorrenze di uno stesso UserID. Nel caso siano presenti più occorrenze, non abbiamo strumenti che ci permettano con certezza di identificare quale occorrenza sia quella corretta da considerare, perciò poichè ambigui li eliminiamo."
   ]
  },
  {
   "cell_type": "code",
   "execution_count": 31,
   "id": "66042412-1c65-4e9c-89bc-a00a7df6e06e",
   "metadata": {
    "metadata": {}
   },
   "outputs": [],
   "source": [
    "wordle.drop_duplicates(subset=['UserID', 'WordleID'], keep=False, inplace=True)"
   ]
  },
  {
   "cell_type": "markdown",
   "id": "3159c648-09aa-45aa-bb4e-ccbfea3dab05",
   "metadata": {},
   "source": [
    "### Pulizia caratteristica 'Source'"
   ]
  },
  {
   "cell_type": "markdown",
   "id": "8c39adde-cde0-46ab-9488-9af156de4093",
   "metadata": {},
   "source": [
    "Come ultima cosa andiamo a controllare la caratteristica 'Source', che indica il client di Twitter dal quale è stato fatto il tweet, iniziamo controllando i primi 15 valori che appaiono più volte."
   ]
  },
  {
   "cell_type": "code",
   "execution_count": 32,
   "id": "0af9dd26-7aa9-43c1-b8ec-0eaa58b27c05",
   "metadata": {
    "metadata": {}
   },
   "outputs": [
    {
     "name": "stdout",
     "output_type": "stream",
     "text": [
      "Twitter for iPhone         1126618\n",
      "Twitter for Android         510276\n",
      "Twitter Web App             266692\n",
      "Twitter for iPad             55444\n",
      "TweetDeck                    15274\n",
      "Tweetbot for iΟS             10608\n",
      "Echofon                       3448\n",
      "Twitterrific for iOS          2184\n",
      "Twitter for Mac               1465\n",
      "TweetCaster for Android       1152\n",
      "Fenix 2                        861\n",
      "Flamingo for Android           627\n",
      "Plume for Android              608\n",
      "Tweetbot for Mac               601\n",
      "Talon Android                  547\n",
      "Name: Source, dtype: int64\n"
     ]
    }
   ],
   "source": [
    "occorrenze_clients = wordle['Source'].value_counts()\n",
    "print(occorrenze_clients[:15])"
   ]
  },
  {
   "cell_type": "markdown",
   "id": "5aa8f858-4d4e-48db-bdeb-69001c1d607d",
   "metadata": {},
   "source": [
    "Considerando la grande dimensione del dataset, decidiamo di etichettare come 'Other' tutti quei client che hanno un numero di occorrenze minore di 15 mila"
   ]
  },
  {
   "cell_type": "code",
   "execution_count": 33,
   "id": "113dab3d-f003-43af-b7ba-7dd8f472a47e",
   "metadata": {
    "metadata": {}
   },
   "outputs": [
    {
     "name": "stdout",
     "output_type": "stream",
     "text": [
      "Twitter for iPhone     1126618\n",
      "Twitter for Android     510276\n",
      "Twitter Web App         266692\n",
      "Twitter for iPad         55444\n",
      "Other                    29324\n",
      "TweetDeck                15274\n",
      "Name: Source, dtype: int64\n"
     ]
    }
   ],
   "source": [
    "valori_other = occorrenze_clients[occorrenze_clients < 15000].index\n",
    "wordle.loc[wordle['Source'].isin(valori_other), 'Source'] = 'Other'\n",
    "print(wordle['Source'].value_counts())"
   ]
  },
  {
   "cell_type": "markdown",
   "id": "3544667b-7f71-4c77-b04a-611b43535dd3",
   "metadata": {},
   "source": [
    "Andiamo a vedere quanti dati abbiamo \"perso\" durante la pulizia"
   ]
  },
  {
   "cell_type": "code",
   "execution_count": 34,
   "id": "ced05595",
   "metadata": {
    "metadata": {}
   },
   "outputs": [
    {
     "name": "stdout",
     "output_type": "stream",
     "text": [
      "Abbiamo rimosso un totale di 136568 righe, che corrispondono al 6.4% delle righe iniziali\n"
     ]
    }
   ],
   "source": [
    "lost_lines = starting_rows - wordle.shape[0]\n",
    "lost_percentage = ((100*lost_lines)/starting_rows)\n",
    "\n",
    "print(f'Abbiamo rimosso un totale di {lost_lines} righe, che corrispondono al {round(lost_percentage,1)}% delle righe iniziali')"
   ]
  },
  {
   "cell_type": "markdown",
   "id": "4db0ca8f-d7a5-4f08-a358-06ae3f2b3a27",
   "metadata": {},
   "source": [
    "## Visualizzazione dei dati"
   ]
  },
  {
   "cell_type": "markdown",
   "id": "0e627b07-d581-44a4-ada8-7deef4a82d70",
   "metadata": {},
   "source": [
    "Per realizzare una rappresentazione OLAP utilizziamo i seguenti parametri:\n",
    "- Attività di un utente (tanti tweet caratterizzano un utente molto attivo, pochi tweet uno poco attivo)\n",
    "- Difficoltà di una parola (sulla base della media dei tentativi e del numero di partite perse)\n",
    "- Orario del tweet (mattino, pomeriggio, sera e notte)"
   ]
  },
  {
   "cell_type": "markdown",
   "id": "b3b76f16-2ab7-4b39-b919-a64f0951a0b5",
   "metadata": {},
   "source": [
    "Creiamo una caratteristica _UserActivity_ che per ciascun utente ci indichi quanto questo è attivo. Categorizziamo gli utenti sulla base del numero di tweet da essi pubblicati e il cui contenuto è la propria partita su wordle. \n",
    "Per non raggruppare in maniera sbilanciata, facciamoci guidare nella scelta dal seguente boxplot."
   ]
  },
  {
   "cell_type": "code",
   "execution_count": 35,
   "id": "03129263-88d1-418c-b242-c173dee000f5",
   "metadata": {
    "metadata": {}
   },
   "outputs": [
    {
     "data": {
      "image/png": "[encoded data removed]",
      "text/plain": [
       "<Figure size 800x600 with 1 Axes>"
      ]
     },
     "metadata": {},
     "output_type": "display_data"
    }
   ],
   "source": [
    "user_activity = wordle['UserID'].value_counts()\n",
    "\n",
    "plt.figure(figsize=(8, 6))\n",
    "plt.boxplot(user_activity)\n",
    "plt.title('Boxplot della Attività degli Utenti')\n",
    "plt.ylabel('Numero di tweet per utente')\n",
    "plt.show()"
   ]
  },
  {
   "cell_type": "markdown",
   "id": "2663a8ee-07fe-4282-b32f-5cb7ffefb125",
   "metadata": {},
   "source": [
    "Ricaviamoci con precisione i valori di media, varianza, moda e mediana. "
   ]
  },
  {
   "cell_type": "code",
   "execution_count": 36,
   "id": "7468b36a-33b9-4a2d-993e-38c30be15308",
   "metadata": {
    "metadata": {}
   },
   "outputs": [
    {
     "name": "stdout",
     "output_type": "stream",
     "text": [
      "Mean:  4.928695301372862\n",
      "Variance:  68.99858824541084\n",
      "Mode:  0    1\n",
      "Name: UserID, dtype: int64\n",
      "Median:  2.0\n"
     ]
    }
   ],
   "source": [
    "print(\"Mean: \", user_activity.mean())\n",
    "print(\"Variance: \", user_activity.var())\n",
    "print(\"Mode: \", user_activity.mode())\n",
    "print(\"Median: \", user_activity.median())"
   ]
  },
  {
   "cell_type": "code",
   "execution_count": 37,
   "id": "dcc86a93-517f-4754-963e-a625060b8422",
   "metadata": {
    "metadata": {}
   },
   "outputs": [
    {
     "name": "stdout",
     "output_type": "stream",
     "text": [
      "2.778092e+09    96\n",
      "5.185310e+08    96\n",
      "7.569270e+17    95\n",
      "1.963916e+08    94\n",
      "1.424114e+18    94\n",
      "                ..\n",
      "1.265912e+18     1\n",
      "8.513366e+17     1\n",
      "1.462236e+08     1\n",
      "1.492807e+18     1\n",
      "7.109468e+17     1\n",
      "Name: UserID, Length: 406523, dtype: int64\n"
     ]
    }
   ],
   "source": [
    "print(user_activity)"
   ]
  },
  {
   "cell_type": "markdown",
   "id": "c6269a25-980c-4fa8-afa7-0c9ed4b2d04c",
   "metadata": {},
   "source": [
    "Contando i valori unici di WordleID siamo in grado di risalire al numero complessivo di parole del giorno presenti nel nostro dataset."
   ]
  },
  {
   "cell_type": "code",
   "execution_count": 38,
   "id": "3483ccfb-4297-4b3f-a84e-8a0eb4bc034e",
   "metadata": {
    "metadata": {}
   },
   "outputs": [
    {
     "name": "stdout",
     "output_type": "stream",
     "text": [
      "Number of unique WordleIDs: 107\n"
     ]
    }
   ],
   "source": [
    "unique_wordle_ids = wordle['WordleID'].nunique()\n",
    "print(\"Number of unique WordleIDs:\", unique_wordle_ids)"
   ]
  },
  {
   "cell_type": "markdown",
   "id": "aa78b3fb-a9e1-4ba9-b3b4-7abc101f784e",
   "metadata": {},
   "source": [
    "Nel nostro dataset sono presenti 107 parole da indovinare. Il fatto che il numero massimo di partite condivise da un utente sia 96, ossia un valore inferiore a 107 dimostra che i nostri dati sono coerenti."
   ]
  },
  {
   "cell_type": "markdown",
   "id": "6886753b-a6e8-4fd8-b97c-95d2f2f9983f",
   "metadata": {},
   "source": [
    "Usiamo la seguente quantizzazione per il numero di condivisioni di ciascun utente:\n",
    "1. Low Activity = [1, 2];\n",
    "2. Medium Activity = [3, 7];\n",
    "3. High Activity = [8, 49];\n",
    "4. Very High Activity = [50, 107];"
   ]
  },
  {
   "cell_type": "code",
   "execution_count": 39,
   "id": "a56352ba-c22c-431b-80ff-bb0c5765663e",
   "metadata": {
    "metadata": {}
   },
   "outputs": [
    {
     "data": {
      "text/html": [
       "<div>\n",
       "<style scoped>\n",
       "    .dataframe tbody tr th:only-of-type {\n",
       "        vertical-align: middle;\n",
       "    }\n",
       "\n",
       "    .dataframe tbody tr th {\n",
       "        vertical-align: top;\n",
       "    }\n",
       "\n",
       "    .dataframe thead th {\n",
       "        text-align: right;\n",
       "    }\n",
       "</style>\n",
       "<table border=\"1\" class=\"dataframe\">\n",
       "  <thead>\n",
       "    <tr style=\"text-align: right;\">\n",
       "      <th></th>\n",
       "      <th>WordleID</th>\n",
       "      <th>ID</th>\n",
       "      <th>Created_At</th>\n",
       "      <th>Source</th>\n",
       "      <th>UserID</th>\n",
       "      <th>Attempts</th>\n",
       "      <th>Hard Mode</th>\n",
       "      <th>Match</th>\n",
       "      <th>Win</th>\n",
       "      <th>UserActivity</th>\n",
       "    </tr>\n",
       "  </thead>\n",
       "  <tbody>\n",
       "    <tr>\n",
       "      <th>0</th>\n",
       "      <td>254</td>\n",
       "      <td>1498447921448034305</td>\n",
       "      <td>2022-02-28 23:59:58+00:00</td>\n",
       "      <td>Twitter for iPhone</td>\n",
       "      <td>36816757.0</td>\n",
       "      <td>3</td>\n",
       "      <td>False</td>\n",
       "      <td>[🟨🟨⬛⬛⬛, 🟨⬛🟨⬛🟩, 🟩🟩🟩🟩🟩]</td>\n",
       "      <td>True</td>\n",
       "      <td>Low Activity</td>\n",
       "    </tr>\n",
       "    <tr>\n",
       "      <th>1</th>\n",
       "      <td>254</td>\n",
       "      <td>1498447918184996864</td>\n",
       "      <td>2022-02-28 23:59:58+00:00</td>\n",
       "      <td>Twitter for iPhone</td>\n",
       "      <td>482591014.0</td>\n",
       "      <td>4</td>\n",
       "      <td>False</td>\n",
       "      <td>[⬛⬛⬛⬛🟩, ⬛⬛⬛⬛🟩, ⬛🟩⬛⬛🟩, 🟩🟩🟩🟩🟩]</td>\n",
       "      <td>True</td>\n",
       "      <td>High Activity</td>\n",
       "    </tr>\n",
       "    <tr>\n",
       "      <th>73387</th>\n",
       "      <td>257</td>\n",
       "      <td>1499477529232617480</td>\n",
       "      <td>2022-03-03 20:11:16+00:00</td>\n",
       "      <td>Twitter for iPhone</td>\n",
       "      <td>482591014.0</td>\n",
       "      <td>5</td>\n",
       "      <td>False</td>\n",
       "      <td>[⬛🟨⬛⬛⬛, ⬛⬛🟩🟨⬛, ⬛🟨🟩⬛⬛, ⬛🟨🟩🟨⬛, 🟩🟩🟩🟩🟩]</td>\n",
       "      <td>True</td>\n",
       "      <td>High Activity</td>\n",
       "    </tr>\n",
       "    <tr>\n",
       "      <th>133607</th>\n",
       "      <td>260</td>\n",
       "      <td>1500563244653678592</td>\n",
       "      <td>2022-03-06 20:05:31+00:00</td>\n",
       "      <td>Twitter for iPhone</td>\n",
       "      <td>482591014.0</td>\n",
       "      <td>5</td>\n",
       "      <td>False</td>\n",
       "      <td>[⬛⬛⬛⬛⬛, ⬛🟩⬛⬛⬛, ⬛🟩⬛⬛🟨, 🟩🟩🟩🟩⬛, 🟩🟩🟩🟩🟩]</td>\n",
       "      <td>True</td>\n",
       "      <td>High Activity</td>\n",
       "    </tr>\n",
       "    <tr>\n",
       "      <th>161136</th>\n",
       "      <td>262</td>\n",
       "      <td>1501340165331202049</td>\n",
       "      <td>2022-03-08 23:32:43+00:00</td>\n",
       "      <td>Twitter for iPhone</td>\n",
       "      <td>482591014.0</td>\n",
       "      <td>5</td>\n",
       "      <td>False</td>\n",
       "      <td>[⬛⬛⬛⬛🟨, ⬛⬛⬛⬛🟨, ⬛⬛🟩🟨🟩, 🟩⬛🟩⬛🟩, 🟩🟩🟩🟩🟩]</td>\n",
       "      <td>True</td>\n",
       "      <td>High Activity</td>\n",
       "    </tr>\n",
       "  </tbody>\n",
       "</table>\n",
       "</div>"
      ],
      "text/plain": [
       "        WordleID                   ID                 Created_At  \\\n",
       "0            254  1498447921448034305  2022-02-28 23:59:58+00:00   \n",
       "1            254  1498447918184996864  2022-02-28 23:59:58+00:00   \n",
       "73387        257  1499477529232617480  2022-03-03 20:11:16+00:00   \n",
       "133607       260  1500563244653678592  2022-03-06 20:05:31+00:00   \n",
       "161136       262  1501340165331202049  2022-03-08 23:32:43+00:00   \n",
       "\n",
       "                    Source       UserID  Attempts  Hard Mode  \\\n",
       "0       Twitter for iPhone   36816757.0         3      False   \n",
       "1       Twitter for iPhone  482591014.0         4      False   \n",
       "73387   Twitter for iPhone  482591014.0         5      False   \n",
       "133607  Twitter for iPhone  482591014.0         5      False   \n",
       "161136  Twitter for iPhone  482591014.0         5      False   \n",
       "\n",
       "                                      Match   Win   UserActivity  \n",
       "0                     [🟨🟨⬛⬛⬛, 🟨⬛🟨⬛🟩, 🟩🟩🟩🟩🟩]  True   Low Activity  \n",
       "1              [⬛⬛⬛⬛🟩, ⬛⬛⬛⬛🟩, ⬛🟩⬛⬛🟩, 🟩🟩🟩🟩🟩]  True  High Activity  \n",
       "73387   [⬛🟨⬛⬛⬛, ⬛⬛🟩🟨⬛, ⬛🟨🟩⬛⬛, ⬛🟨🟩🟨⬛, 🟩🟩🟩🟩🟩]  True  High Activity  \n",
       "133607  [⬛⬛⬛⬛⬛, ⬛🟩⬛⬛⬛, ⬛🟩⬛⬛🟨, 🟩🟩🟩🟩⬛, 🟩🟩🟩🟩🟩]  True  High Activity  \n",
       "161136  [⬛⬛⬛⬛🟨, ⬛⬛⬛⬛🟨, ⬛⬛🟩🟨🟩, 🟩⬛🟩⬛🟩, 🟩🟩🟩🟩🟩]  True  High Activity  "
      ]
     },
     "execution_count": 39,
     "metadata": {},
     "output_type": "execute_result"
    }
   ],
   "source": [
    "bins = [0, 3, 8, 50, 107]\n",
    "labels = ['Low Activity', 'Medium Activity', 'High Activity', 'Very High Activity']\n",
    "\n",
    "user_macrocategories = pd.cut(user_activity, bins=bins, labels=labels)\n",
    "\n",
    "wordle = wordle.merge(user_macrocategories.rename('UserActivity'), left_on='UserID', right_index=True)\n",
    "wordle.head()"
   ]
  },
  {
   "cell_type": "markdown",
   "id": "ab071681-cc5e-490c-89a0-a33c621dfb1a",
   "metadata": {},
   "source": [
    "Definiamo un'altra quantizzazione in base al periodo della giornata in cui è stato fatto il tweet:\n",
    "1. Morning = [5, 12];\n",
    "2. Afternoon = [12, 19];\n",
    "3. Evening = [19, 24];\n",
    "4. Night = [0, 5]."
   ]
  },
  {
   "cell_type": "code",
   "execution_count": 40,
   "id": "3a044cfc-2100-4795-806e-ed6b955b1088",
   "metadata": {
    "metadata": {}
   },
   "outputs": [
    {
     "data": {
      "text/html": [
       "<div>\n",
       "<style scoped>\n",
       "    .dataframe tbody tr th:only-of-type {\n",
       "        vertical-align: middle;\n",
       "    }\n",
       "\n",
       "    .dataframe tbody tr th {\n",
       "        vertical-align: top;\n",
       "    }\n",
       "\n",
       "    .dataframe thead th {\n",
       "        text-align: right;\n",
       "    }\n",
       "</style>\n",
       "<table border=\"1\" class=\"dataframe\">\n",
       "  <thead>\n",
       "    <tr style=\"text-align: right;\">\n",
       "      <th></th>\n",
       "      <th>WordleID</th>\n",
       "      <th>ID</th>\n",
       "      <th>Created_At</th>\n",
       "      <th>Source</th>\n",
       "      <th>UserID</th>\n",
       "      <th>Attempts</th>\n",
       "      <th>Hard Mode</th>\n",
       "      <th>Match</th>\n",
       "      <th>Win</th>\n",
       "      <th>UserActivity</th>\n",
       "      <th>TimeOfDay</th>\n",
       "    </tr>\n",
       "  </thead>\n",
       "  <tbody>\n",
       "    <tr>\n",
       "      <th>1699949</th>\n",
       "      <td>347</td>\n",
       "      <td>1531972771898699781</td>\n",
       "      <td>2022-06-01 12:15:46+00:00</td>\n",
       "      <td>Twitter for iPhone</td>\n",
       "      <td>1.909443e+07</td>\n",
       "      <td>6</td>\n",
       "      <td>False</td>\n",
       "      <td>[🟨🟨⬛⬛🟨, ⬛⬛⬛⬛⬛, ⬛⬛🟨🟨🟨, ⬛🟩🟩🟩🟩, ⬛🟩🟩🟩🟩, 🟩🟩🟩🟩🟩]</td>\n",
       "      <td>True</td>\n",
       "      <td>Low Activity</td>\n",
       "      <td>Afternoon</td>\n",
       "    </tr>\n",
       "    <tr>\n",
       "      <th>1657279</th>\n",
       "      <td>341</td>\n",
       "      <td>1529810873010765825</td>\n",
       "      <td>2022-05-26 13:05:09+00:00</td>\n",
       "      <td>Twitter for iPhone</td>\n",
       "      <td>4.329841e+07</td>\n",
       "      <td>3</td>\n",
       "      <td>False</td>\n",
       "      <td>[⬜🟨🟨🟨🟩, 🟨⬜🟨🟨🟩, 🟩🟩🟩🟩🟩]</td>\n",
       "      <td>True</td>\n",
       "      <td>High Activity</td>\n",
       "      <td>Afternoon</td>\n",
       "    </tr>\n",
       "    <tr>\n",
       "      <th>1625165</th>\n",
       "      <td>340</td>\n",
       "      <td>1529529272125296641</td>\n",
       "      <td>2022-05-25 18:26:10+00:00</td>\n",
       "      <td>Twitter for iPad</td>\n",
       "      <td>1.626367e+07</td>\n",
       "      <td>6</td>\n",
       "      <td>False</td>\n",
       "      <td>[⬛⬛⬛⬛⬛, 🟨🟨⬛⬛⬛, ⬛🟩🟨⬛⬛, ⬛🟩⬛🟩🟩, ⬛🟩🟩🟩🟩, ⬛🟩🟩🟩🟩]</td>\n",
       "      <td>False</td>\n",
       "      <td>High Activity</td>\n",
       "      <td>Afternoon</td>\n",
       "    </tr>\n",
       "    <tr>\n",
       "      <th>1779500</th>\n",
       "      <td>354</td>\n",
       "      <td>1534510216259088384</td>\n",
       "      <td>2022-06-08 12:18:40+00:00</td>\n",
       "      <td>Twitter for iPhone</td>\n",
       "      <td>7.005868e+07</td>\n",
       "      <td>3</td>\n",
       "      <td>False</td>\n",
       "      <td>[🟨⬛🟨⬛⬛, ⬛⬛🟩🟩⬛, 🟩🟩🟩🟩🟩]</td>\n",
       "      <td>True</td>\n",
       "      <td>High Activity</td>\n",
       "      <td>Afternoon</td>\n",
       "    </tr>\n",
       "    <tr>\n",
       "      <th>251720</th>\n",
       "      <td>266</td>\n",
       "      <td>1502739401192837124</td>\n",
       "      <td>2022-03-12 20:12:47+00:00</td>\n",
       "      <td>Twitter for iPhone</td>\n",
       "      <td>1.256714e+18</td>\n",
       "      <td>6</td>\n",
       "      <td>False</td>\n",
       "      <td>[⬛⬛⬛⬛🟨, ⬛⬛⬛⬛🟨, ⬛⬛⬛⬛🟨, ⬛⬛⬛⬛🟨, ⬛⬛⬛⬛🟨, ⬛⬛⬛⬛🟨]</td>\n",
       "      <td>False</td>\n",
       "      <td>Medium Activity</td>\n",
       "      <td>Evening</td>\n",
       "    </tr>\n",
       "  </tbody>\n",
       "</table>\n",
       "</div>"
      ],
      "text/plain": [
       "         WordleID                   ID                Created_At  \\\n",
       "1699949       347  1531972771898699781 2022-06-01 12:15:46+00:00   \n",
       "1657279       341  1529810873010765825 2022-05-26 13:05:09+00:00   \n",
       "1625165       340  1529529272125296641 2022-05-25 18:26:10+00:00   \n",
       "1779500       354  1534510216259088384 2022-06-08 12:18:40+00:00   \n",
       "251720        266  1502739401192837124 2022-03-12 20:12:47+00:00   \n",
       "\n",
       "                     Source        UserID  Attempts  Hard Mode  \\\n",
       "1699949  Twitter for iPhone  1.909443e+07         6      False   \n",
       "1657279  Twitter for iPhone  4.329841e+07         3      False   \n",
       "1625165    Twitter for iPad  1.626367e+07         6      False   \n",
       "1779500  Twitter for iPhone  7.005868e+07         3      False   \n",
       "251720   Twitter for iPhone  1.256714e+18         6      False   \n",
       "\n",
       "                                              Match    Win     UserActivity  \\\n",
       "1699949  [🟨🟨⬛⬛🟨, ⬛⬛⬛⬛⬛, ⬛⬛🟨🟨🟨, ⬛🟩🟩🟩🟩, ⬛🟩🟩🟩🟩, 🟩🟩🟩🟩🟩]   True     Low Activity   \n",
       "1657279                       [⬜🟨🟨🟨🟩, 🟨⬜🟨🟨🟩, 🟩🟩🟩🟩🟩]   True    High Activity   \n",
       "1625165  [⬛⬛⬛⬛⬛, 🟨🟨⬛⬛⬛, ⬛🟩🟨⬛⬛, ⬛🟩⬛🟩🟩, ⬛🟩🟩🟩🟩, ⬛🟩🟩🟩🟩]  False    High Activity   \n",
       "1779500                       [🟨⬛🟨⬛⬛, ⬛⬛🟩🟩⬛, 🟩🟩🟩🟩🟩]   True    High Activity   \n",
       "251720   [⬛⬛⬛⬛🟨, ⬛⬛⬛⬛🟨, ⬛⬛⬛⬛🟨, ⬛⬛⬛⬛🟨, ⬛⬛⬛⬛🟨, ⬛⬛⬛⬛🟨]  False  Medium Activity   \n",
       "\n",
       "         TimeOfDay  \n",
       "1699949  Afternoon  \n",
       "1657279  Afternoon  \n",
       "1625165  Afternoon  \n",
       "1779500  Afternoon  \n",
       "251720     Evening  "
      ]
     },
     "execution_count": 40,
     "metadata": {},
     "output_type": "execute_result"
    }
   ],
   "source": [
    "wordle['Created_At'] = pd.to_datetime(wordle['Created_At'])\n",
    "\n",
    "bins = [0, 5, 12, 19, 24]\n",
    "labels = ['Night','Morning','Afternoon','Evening']\n",
    "\n",
    "wordle['TimeOfDay'] = pd.cut(wordle['Created_At'].dt.hour, bins=bins, labels=labels, right=False)\n",
    "\n",
    "n = 5\n",
    "wordle.sample(n).sort_values(by='TimeOfDay').head(n)"
   ]
  },
  {
   "cell_type": "markdown",
   "id": "dbb673c2-1cde-4114-b544-3c218f20b5e3",
   "metadata": {},
   "source": [
    "Desideriamo conoscere in quali fasce orarie gli utenti sono più attivi. Visualizziamo questa informazione con un bar plot."
   ]
  },
  {
   "cell_type": "code",
   "execution_count": 41,
   "id": "d727e821-18b6-4827-b068-d5b275c2fc98",
   "metadata": {
    "metadata": {}
   },
   "outputs": [
    {
     "data": {
      "image/png": "[encoded data removed]",
      "text/plain": [
       "<Figure size 1000x300 with 1 Axes>"
      ]
     },
     "metadata": {},
     "output_type": "display_data"
    }
   ],
   "source": [
    "activity_by_time = wordle['TimeOfDay'].value_counts()\n",
    "\n",
    "activity_by_time = activity_by_time.reindex(labels)\n",
    "\n",
    "plt.figure(figsize=(10, 3))\n",
    "activity_by_time.plot(kind='barh', color='skyblue')\n",
    "\n",
    "# Set tick positions and labels for x-axis\n",
    "tick_positions = [0, 250000, 500000, 750000, 1000000]\n",
    "tick_labels = [str(val) for val in tick_positions]\n",
    "\n",
    "plt.xticks(tick_positions, tick_labels)\n",
    "\n",
    "plt.title('User Activity')\n",
    "plt.ylabel('Time of Day')\n",
    "plt.xlabel('Number of Tweets')\n",
    "\n",
    "plt.grid(axis='x', linestyle='--', alpha=0.7) \n",
    "plt.tight_layout()\n",
    "plt.show()"
   ]
  },
  {
   "cell_type": "markdown",
   "id": "b2a48346-b484-4e13-83c5-7d35c528a013",
   "metadata": {},
   "source": [
    "La nuova parola del giorno viene rilasciata a mezzanotte della propria ora locale, nel nostro dataset però nessun utente ha condiviso la propria partita nella fascia oraria notturna."
   ]
  },
  {
   "cell_type": "markdown",
   "id": "683ce90d-15a0-4d87-94a4-6abb340b6510",
   "metadata": {},
   "source": [
    "Per assegnare a ciascuna parola un livello di difficoltà:\n",
    "- Nel caso in cui il numero di sconfitte per quella parola sia maggiore di 2.2 volte il valore medio del numero di sconfitte, la parola è '__Very Hard__'\n",
    "- Nel caso in cui il numero medio di tentativi per quella parola sia compreso tra 1 e 4.0 e la partita è vinta, la parola è '__Easy__'\n",
    "- Nel caso in cui il numero medio di tentativi per quella parola sia compreso tra 4.0 e 4.5 e la partita è vinta, la parola è '__Medium__'\n",
    "- Nel caso in cui il numero medio di tentativi per quella parola sia compreso tra 4.5 e 6 e la partita è vinta, la parola è '__Hard__'"
   ]
  },
  {
   "cell_type": "code",
   "execution_count": 42,
   "id": "2cc3a259-d2de-4f3f-8534-288b211f2b06",
   "metadata": {
    "metadata": {}
   },
   "outputs": [],
   "source": [
    "mean_attempts = wordle[wordle['Win']].groupby('WordleID')['Attempts'].mean()\n",
    "\n",
    "# Categorize WordleIDs based on the criteria\n",
    "def categorize_difficulty(mean_attempt):\n",
    "    if mean_attempt >= 4.5:\n",
    "        return 'Hard'\n",
    "    elif mean_attempt >= 4.0:\n",
    "        return 'Medium'\n",
    "    else:\n",
    "        return 'Easy'\n",
    "\n",
    "# Apply the categorization function to each WordleID\n",
    "wordle['Difficulty'] = wordle['WordleID'].map(mean_attempts).apply(categorize_difficulty)\n",
    "\n",
    "# Calculate the overall ratio of lost games to total games in the entire DataFrame\n",
    "overall_lost_games_ratio = wordle[~wordle['Win']].shape[0] / wordle.shape[0]\n",
    "\n",
    "# Define a function to check if the condition is met for a specific WordleID\n",
    "def should_update_difficulty(wordle_id):\n",
    "    wordle_subset = wordle[wordle['WordleID'] == wordle_id]\n",
    "    lost_games_ratio = wordle_subset[~wordle_subset['Win']].shape[0] / wordle_subset.shape[0]\n",
    "    return lost_games_ratio > 2.2*overall_lost_games_ratio\n",
    "\n",
    "# Iterate over each unique WordleID\n",
    "for unique_id in wordle['WordleID'].unique():\n",
    "    # Check if the condition is met for the current WordleID\n",
    "    if should_update_difficulty(unique_id):\n",
    "        # Update the 'Difficulty' column for rows with the current WordleID\n",
    "        wordle.loc[wordle['WordleID'] == unique_id, 'Difficulty'] = 'Very Hard'"
   ]
  },
  {
   "cell_type": "code",
   "execution_count": 43,
   "id": "1a03da5e-6c62-420e-98c3-56559aa81802",
   "metadata": {
    "metadata": {}
   },
   "outputs": [
    {
     "name": "stdout",
     "output_type": "stream",
     "text": [
      "Number of rows with Difficulty 'Very Hard': 182957\n",
      "Number of rows with Difficulty 'Hard': 167879\n",
      "Number of rows with Difficulty 'Medium': 824939\n",
      "Number of rows with Difficulty 'Easy': 827853\n"
     ]
    }
   ],
   "source": [
    "num_very_hard = (wordle['Difficulty'] == 'Very Hard').sum()\n",
    "\n",
    "# Print the number of rows\n",
    "print(\"Number of rows with Difficulty 'Very Hard':\", num_very_hard)\n",
    "\n",
    "num_very_hard = (wordle['Difficulty'] == 'Hard').sum()\n",
    "print(\"Number of rows with Difficulty 'Hard':\", num_very_hard)\n",
    "\n",
    "num_very_hard = (wordle['Difficulty'] == 'Medium').sum()\n",
    "print(\"Number of rows with Difficulty 'Medium':\", num_very_hard)\n",
    "\n",
    "num_very_hard = (wordle['Difficulty'] == 'Easy').sum()\n",
    "print(\"Number of rows with Difficulty 'Easy':\", num_very_hard)"
   ]
  },
  {
   "cell_type": "markdown",
   "id": "f2fb1db9-4fb7-4fe3-90ef-077a06f61ded",
   "metadata": {},
   "source": [
    "Verifichiamo di non aver introdotto per errore valori nulli in questa fase."
   ]
  },
  {
   "cell_type": "code",
   "execution_count": 44,
   "id": "b51b755f-806e-4c4c-ab5a-807fa9abfc21",
   "metadata": {
    "metadata": {}
   },
   "outputs": [
    {
     "name": "stdout",
     "output_type": "stream",
     "text": [
      "WordleID        0\n",
      "ID              0\n",
      "Created_At      0\n",
      "Source          0\n",
      "UserID          0\n",
      "Attempts        0\n",
      "Hard Mode       0\n",
      "Match           0\n",
      "Win             0\n",
      "UserActivity    0\n",
      "TimeOfDay       0\n",
      "Difficulty      0\n",
      "dtype: int64\n"
     ]
    }
   ],
   "source": [
    "print(wordle.isnull().sum())"
   ]
  },
  {
   "cell_type": "markdown",
   "id": "06ecc3c5-a22c-421d-b35e-900a5a756173",
   "metadata": {},
   "source": [
    "Tracciamo un grafico a torta per vedere la distribuzione delle parole in base alla difficoltà"
   ]
  },
  {
   "cell_type": "code",
   "execution_count": 45,
   "id": "3b096c80-0a10-4986-942e-27d0785842c8",
   "metadata": {
    "metadata": {}
   },
   "outputs": [
    {
     "data": {
      "image/png": "[encoded data removed]",
      "text/plain": [
       "<Figure size 500x500 with 1 Axes>"
      ]
     },
     "metadata": {},
     "output_type": "display_data"
    }
   ],
   "source": [
    "wordle_difficulty = wordle.groupby('WordleID')['Difficulty'].first().reset_index()\n",
    "difficulty_counts = wordle_difficulty['Difficulty'].value_counts()\n",
    "\n",
    "colors = plt.cm.Set2.colors\n",
    "\n",
    "plt.figure(figsize=(5, 5))\n",
    "plt.pie(difficulty_counts, labels=difficulty_counts.index, autopct='%1.1f%%', startangle=140, colors = colors)\n",
    "plt.title('Distribution of Wordle Difficulty Levels', pad=20)\n",
    "plt.axis('equal')  \n",
    "plt.show()\n"
   ]
  },
  {
   "cell_type": "markdown",
   "id": "72b87a10-067a-4461-8d35-cb7307f9238e",
   "metadata": {},
   "source": [
    "Un'altra informazione che può risultare utile da visualizzare è da quale dispositivo vengono fatti i tweet.\n",
    "Andiamo a visualizzare intanto i valori unici che assume la colonna 'Source' "
   ]
  },
  {
   "cell_type": "code",
   "execution_count": 46,
   "id": "16b42e4b-eb55-4d6f-8415-1318c1a98138",
   "metadata": {
    "metadata": {}
   },
   "outputs": [
    {
     "data": {
      "image/png": "[encoded data removed]",
      "text/plain": [
       "<Figure size 600x600 with 1 Axes>"
      ]
     },
     "metadata": {},
     "output_type": "display_data"
    }
   ],
   "source": [
    "valori_client = wordle['Source'].value_counts()\n",
    "plt.figure(figsize=(6, 6))\n",
    "plt.pie(valori_client, labels=valori_client.index, autopct='%1.1f%%', startangle=140, colors=colors)\n",
    "plt.title('Distribuzione dei client')\n",
    "plt.ylabel('')\n",
    "plt.show()"
   ]
  },
  {
   "cell_type": "markdown",
   "id": "14a00e41-bce6-4f7b-a7dc-f2cb1091b240",
   "metadata": {},
   "source": [
    "Si può vedere che il client più utilizzato è l'app di Twitter per iPhone, quindi gli iPhone users sono quelli che nella popolazione twittano di più. "
   ]
  },
  {
   "cell_type": "markdown",
   "id": "4aa2c919-a4ff-4307-8a61-f6576ef48db1",
   "metadata": {},
   "source": [
    "### OLAP"
   ]
  },
  {
   "cell_type": "markdown",
   "id": "dd8e0df0-47c4-4144-8cfc-b7a4445a76a4",
   "metadata": {},
   "source": [
    "Ora che è terminata la preparazione dei dati, procediamo con la analisi OLAP."
   ]
  },
  {
   "cell_type": "code",
   "execution_count": 47,
   "id": "5c2475f9-3310-4f20-9063-7c1b516f7afe",
   "metadata": {
    "metadata": {}
   },
   "outputs": [
    {
     "data": {
      "text/plain": [
       "array([[[ 98.80418535,  98.25673534,          nan,  90.98497496],\n",
       "        [ 98.50791395,  97.49666597,  93.86846457,  81.53318791],\n",
       "        [ 98.62552473,  97.53104417,  95.23254685,  81.48188743],\n",
       "        [         nan,          nan,          nan,          nan]],\n",
       "\n",
       "       [[ 99.13232104,  98.25394135,          nan,  94.27580225],\n",
       "        [ 98.90874998,  97.90839328,  95.49801952,  89.95271178],\n",
       "        [ 98.9099637 ,  97.86641025,  96.38739431,  91.04007815],\n",
       "        [         nan,          nan,          nan,          nan]],\n",
       "\n",
       "       [[ 99.44618793,  98.90401672,          nan,  95.50115779],\n",
       "        [ 99.20602515,  98.50027315,  96.70273328,  89.83644025],\n",
       "        [ 99.09471977,  98.3891017 ,  96.87621207,  90.20856992],\n",
       "        [         nan,          nan,          nan,          nan]],\n",
       "\n",
       "       [[ 98.27586207,  98.48484848,          nan, 100.        ],\n",
       "        [ 99.23509087,  98.54642331,  97.20637185,  87.93445879],\n",
       "        [ 99.31563511,  98.49756098,  97.30397663,  88.5583524 ],\n",
       "        [         nan,          nan,          nan,          nan]]])"
      ]
     },
     "execution_count": 47,
     "metadata": {},
     "output_type": "execute_result"
    }
   ],
   "source": [
    "quantize_user_activity = ['Low Activity', 'Medium Activity', 'High Activity', 'Very High Activity']\n",
    "quantize_time_of_day = ['Morning', 'Afternoon', 'Evening', 'Night']\n",
    "quantize_difficulty = ['Easy', 'Medium', 'Hard', 'Very Hard']\n",
    "\n",
    "OLAP = np.zeros((len(quantize_user_activity),len(quantize_time_of_day),len(quantize_difficulty)))\n",
    "for z in range(len(quantize_user_activity)):\n",
    "    for j in range(len(quantize_time_of_day)):\n",
    "        for i in range(len(quantize_difficulty)):\n",
    "            # Filter dataframe\n",
    "            filtered_data = wordle[(wordle['UserActivity'] == quantize_user_activity[z]) &\n",
    "                                   (wordle['TimeOfDay'] == quantize_time_of_day[j]) &\n",
    "                                   (wordle['Difficulty'] == quantize_difficulty[i])]\n",
    "            # Calculate number of wins\n",
    "            wins = filtered_data['Win'].sum()\n",
    "            \n",
    "            # Calculate number of matches\n",
    "            matches = len(filtered_data)\n",
    "            \n",
    "            # Compute ratio of wins to matches (avoid division by zero)\n",
    "            ratio = wins / matches * 100 if matches > 0 else np.nan\n",
    "            \n",
    "            # Populate OLAP cube\n",
    "            OLAP[z, j, i] = ratio\n",
    "OLAP"
   ]
  },
  {
   "cell_type": "markdown",
   "id": "e297d53e-5823-4fef-87ee-0a75298ca037",
   "metadata": {},
   "source": [
    "Facciamo uno slicing rispetto a TimeOfDay. Poichè la sera e il pomeriggio sono le fasce orarie di picco le prediligiamo. "
   ]
  },
  {
   "cell_type": "code",
   "execution_count": 48,
   "id": "138c7b0f-55fc-4107-8510-dbbc1f8a191a",
   "metadata": {
    "metadata": {}
   },
   "outputs": [
    {
     "data": {
      "image/png": "[encoded data removed]",
      "text/plain": [
       "<Figure size 640x480 with 2 Axes>"
      ]
     },
     "metadata": {},
     "output_type": "display_data"
    }
   ],
   "source": [
    "plt.imshow(OLAP[:, 2, :])\n",
    "for i, label in enumerate(quantize_difficulty):\n",
    "    plt.text(i, 3.65, label, ha='center', fontsize=8)\n",
    "for i, label in enumerate(quantize_user_activity):\n",
    "    label = label.replace(\" Activity\", \"\") \n",
    "    plt.text(-0.65, i, label, va='center', fontsize=8, rotation=90)\n",
    "plt.xlabel('Difficulty', labelpad=25)\n",
    "plt.ylabel('User Activity', labelpad=25)\n",
    "plt.title('Slicing (Evening)', pad=10)\n",
    "plt.colorbar(label='Win Rate')\n",
    "plt.yticks([])\n",
    "plt.xticks([])\n",
    "\n",
    "plt.show() "
   ]
  },
  {
   "cell_type": "code",
   "execution_count": 49,
   "id": "e416a338-418d-4ead-9e50-a216c6e3c750",
   "metadata": {
    "metadata": {}
   },
   "outputs": [
    {
     "data": {
      "image/png": "[encoded data removed]",
      "text/plain": [
       "<Figure size 640x480 with 2 Axes>"
      ]
     },
     "metadata": {},
     "output_type": "display_data"
    }
   ],
   "source": [
    "plt.imshow(OLAP[:, 1, :])\n",
    "for i, label in enumerate(quantize_difficulty):\n",
    "    plt.text(i, 3.65, label, ha='center', fontsize=8)\n",
    "for i, label in enumerate(quantize_user_activity):\n",
    "    label = label.replace(\" Activity\", \"\") \n",
    "    plt.text(-0.65, i, label, va='center', fontsize=8, rotation=90)\n",
    "plt.xlabel('Difficulty', labelpad=25)\n",
    "plt.ylabel('User Activity', labelpad=20)\n",
    "plt.title('Slicing (Afternoon)', pad=20)\n",
    "plt.colorbar(label='Win Rate')\n",
    "plt.yticks([])\n",
    "plt.xticks([])\n",
    "\n",
    "plt.show()"
   ]
  },
  {
   "cell_type": "code",
   "execution_count": 50,
   "id": "775efa28-54c6-429d-b0eb-c8590a6f5f2a",
   "metadata": {
    "metadata": {}
   },
   "outputs": [
    {
     "data": {
      "image/png": "[encoded data removed]",
      "text/plain": [
       "<Figure size 640x480 with 2 Axes>"
      ]
     },
     "metadata": {},
     "output_type": "display_data"
    }
   ],
   "source": [
    "plt.imshow(OLAP[:, 0, :])\n",
    "for i, label in enumerate(quantize_difficulty):\n",
    "    plt.text(i, 3.65, label, ha='center', fontsize=8)\n",
    "for i, label in enumerate(quantize_user_activity):\n",
    "    label = label.replace(\" Activity\", \"\") \n",
    "    plt.text(-0.65, i, label, va='center', fontsize=8, rotation=90)\n",
    "plt.xlabel('Difficulty', labelpad=25)\n",
    "plt.ylabel('User Activity', labelpad=20)\n",
    "plt.title('Slicing (Morning)', pad=20)\n",
    "plt.colorbar(label='Win Rate')\n",
    "plt.yticks([])\n",
    "plt.xticks([])\n",
    "\n",
    "plt.show()"
   ]
  },
  {
   "cell_type": "markdown",
   "id": "c0cc8e59-38e7-45cb-a428-1fe26d75269c",
   "metadata": {},
   "source": [
    "Possiamo notare come, in tutte le visualizzazioni sopra, il tasso di vittoria degli utenti medio attivi, attivi e molto attivi sia generalmente maggiore del tasso di vittoria del utenti poco attivi, in particolare in caso di parole molto difficili."
   ]
  },
  {
   "cell_type": "code",
   "execution_count": 51,
   "id": "08a9a733-7bd9-4752-846d-1c0ca3f88c67",
   "metadata": {
    "metadata": {}
   },
   "outputs": [
    {
     "data": {
      "image/png": "[encoded data removed]",
      "text/plain": [
       "<Figure size 1500x500 with 6 Axes>"
      ]
     },
     "metadata": {},
     "output_type": "display_data"
    }
   ],
   "source": [
    "# Create subplots with 1 row and 3 columns\n",
    "fig, axs = plt.subplots(1, 3, figsize=(15, 5))  # Adjust figsize as needed\n",
    "\n",
    "# Plot first image\n",
    "im1 = axs[0].imshow(OLAP[:, 2, :])\n",
    "for i, label in enumerate(quantize_difficulty):\n",
    "    axs[0].text(i, 3.65, label, ha='center', fontsize=8)\n",
    "for i, label in enumerate(quantize_user_activity):\n",
    "    label = label.replace(\" Activity\", \"\") \n",
    "    axs[0].text(-0.65, i, label, va='center', fontsize=8, rotation=90)\n",
    "axs[0].set_xlabel('Difficulty', labelpad=25)\n",
    "axs[0].set_ylabel('User Activity', labelpad=20)\n",
    "axs[0].set_title('Slicing (Evening)', pad=20)\n",
    "fig.colorbar(im1, ax=axs[0], label='Win Rate', shrink=0.7)\n",
    "axs[0].set_yticks([])\n",
    "axs[0].set_xticks([])\n",
    "\n",
    "# Plot second image\n",
    "im2 = axs[1].imshow(OLAP[:, 1, :])\n",
    "for i, label in enumerate(quantize_difficulty):\n",
    "    axs[1].text(i, 3.65, label, ha='center', fontsize=8)\n",
    "for i, label in enumerate(quantize_user_activity):\n",
    "    label = label.replace(\" Activity\", \"\") \n",
    "    axs[1].text(-0.65, i, label, va='center', fontsize=8, rotation=90)\n",
    "axs[1].set_xlabel('Difficulty', labelpad=25)\n",
    "axs[1].set_ylabel('User Activity', labelpad=20)\n",
    "axs[1].set_title('Slicing (Afternoon)', pad=20)\n",
    "fig.colorbar(im2, ax=axs[1], label='Win Rate', shrink=0.7)\n",
    "axs[1].set_yticks([])\n",
    "axs[1].set_xticks([])\n",
    "\n",
    "# Plot third image\n",
    "im3 = axs[2].imshow(OLAP[:, 0, :])\n",
    "for i, label in enumerate(quantize_difficulty):\n",
    "    axs[2].text(i, 3.65, label, ha='center', fontsize=8)\n",
    "for i, label in enumerate(quantize_user_activity):\n",
    "    label = label.replace(\" Activity\", \"\") \n",
    "    axs[2].text(-0.65, i, label, va='center', fontsize=8, rotation=90)\n",
    "axs[2].set_xlabel('Difficulty', labelpad=25)\n",
    "axs[2].set_ylabel('User Activity', labelpad=20)\n",
    "axs[2].set_title('Slicing (Morning)', pad=20)\n",
    "fig.colorbar(im3, ax=axs[2], label='Win Rate', shrink=0.7)\n",
    "axs[2].set_yticks([])\n",
    "axs[2].set_xticks([])\n",
    "\n",
    "plt.tight_layout()  # Adjust spacing between subplots\n",
    "plt.show()"
   ]
  },
  {
   "cell_type": "markdown",
   "id": "af8db56d-65fe-48f8-97a2-6abe6a09fd64",
   "metadata": {},
   "source": [
    "Facendo dicing verifichiamo la decrescita del tasso di vincinta per gli utenti poco attivi (_Low Activity_) e gli utenti molto attivi (_Very High Activity_) consideando come fascia oraria la sera."
   ]
  },
  {
   "cell_type": "code",
   "execution_count": 52,
   "id": "484f9dd2-c746-42bb-a042-a508e6993f3d",
   "metadata": {
    "metadata": {}
   },
   "outputs": [
    {
     "name": "stdout",
     "output_type": "stream",
     "text": [
      "[98.62552473 97.53104417 95.23254685 81.48188743]\n",
      "[99.31563511 98.49756098 97.30397663 88.5583524 ]\n"
     ]
    }
   ],
   "source": [
    "print(OLAP[0, 2, :])\n",
    "print(OLAP[3, 2, :])"
   ]
  },
  {
   "cell_type": "markdown",
   "id": "cab495c8-2fb4-4ea5-84b0-7ba063ae6558",
   "metadata": {},
   "source": [
    "Possiamo notare come la decrescita del tasso di vincita sia più attenuata nel caso di utenti molto attivi e come il divario nel tasso di vincinta aumenti all'aumentare della difficoltà delle parole. Visualizziamo questa informazone con un grafico a linea."
   ]
  },
  {
   "cell_type": "code",
   "execution_count": 53,
   "id": "ef242a3b-3082-4d94-a745-6c394fe5fd2e",
   "metadata": {
    "metadata": {}
   },
   "outputs": [
    {
     "data": {
      "image/png": "[encoded data removed]",
      "text/plain": [
       "<Figure size 640x480 with 1 Axes>"
      ]
     },
     "metadata": {},
     "output_type": "display_data"
    }
   ],
   "source": [
    "plt.xlabel('Difficulty')\n",
    "plt.ylabel('Win rate')\n",
    "plt.title('Evening Win Rate')\n",
    "plt.plot(OLAP[0, 2, :], label='Low Activity') \n",
    "plt.plot(OLAP[3, 2, :], label='Vey High Activity') \n",
    "plt.legend(bbox_to_anchor=(1, 1), loc='upper left') \n",
    "plt.show() "
   ]
  },
  {
   "cell_type": "markdown",
   "id": "c05ff207-6315-4bcc-9a44-e3b9f5760d4d",
   "metadata": {},
   "source": [
    "## Test statistici"
   ]
  },
  {
   "cell_type": "markdown",
   "id": "af8c6cb8-86d8-4aed-b931-4ec19048aef5",
   "metadata": {},
   "source": [
    "### Test 1"
   ]
  },
  {
   "cell_type": "markdown",
   "id": "859e46a7-0c46-41de-8825-51a7423f6e2d",
   "metadata": {},
   "source": [
    "Utilizziamo un T-test.\n",
    "\n",
    "Ipotesi nulla: gli utenti poco attivi in caso di vittoria si comportano allo stesso modo degli utenti attivi/molto attivi in termini di numero medio di tentativi.\n",
    "\n",
    "Ipotesi alternativa: gli utenti poco attivi in caso di vittoria non si comportano allo stesso modo degli utenti attivi/molto attivi in termini di numero medio di tentativi.\n",
    "\n",
    "Prendiamo come livello di significatività 0.05. Sussiste una differenza statisticamente significativa?\n",
    "\n",
    "Sappiamo che si devono verificare alcune ipotesi:\n",
    "1. Campione con numero di elementi n > 30;\n",
    "2. Popolazione N almeno dieci volte superiore al campione N > 10*n.\n",
    "\n",
    "\n",
    "Stampiamo il numero di elementi per le due classi. "
   ]
  },
  {
   "cell_type": "code",
   "execution_count": 54,
   "id": "3ee32dd0-6a80-4da2-b405-900f3fb53d6c",
   "metadata": {
    "metadata": {}
   },
   "outputs": [
    {
     "name": "stdout",
     "output_type": "stream",
     "text": [
      "2003628\n",
      "385692\n",
      "1032598\n",
      "1418290\n",
      "Sample size condition (n ≥ 30) is met for both groups.\n",
      "Population size condition (N ≥ 10n) is met for both groups.\n"
     ]
    }
   ],
   "source": [
    "total_population = len(wordle)\n",
    "print(total_population)\n",
    "\n",
    "winning_attempts_low_activity = wordle.loc[(wordle['UserActivity'] == 'Low Activity') & (wordle['Win'] == 1), 'Attempts']\n",
    "winning_attempts_high_activity = wordle.loc[(wordle['UserActivity'] == 'High Activity') & (wordle['Win'] == 1), 'Attempts']\n",
    "print(len(winning_attempts_low_activity))\n",
    "print(len(winning_attempts_high_activity))\n",
    "print(len(winning_attempts_high_activity)+len(winning_attempts_low_activity))\n",
    "\n",
    "test_winning_attempts_low_activity = winning_attempts_low_activity.sample(n=30000)\n",
    "test_winning_attempts_high_activity = winning_attempts_high_activity.sample(n=30000)\n",
    "\n",
    "if len(test_winning_attempts_low_activity) >= 30 and len(test_winning_attempts_high_activity) >= 30:\n",
    "    print(\"Sample size condition (n ≥ 30) is met for both groups.\")\n",
    "else:\n",
    "    print(\"Sample size condition (n ≥ 30) is not met for both groups.\")\n",
    "\n",
    "if total_population >= 10 * (len(test_winning_attempts_low_activity)) and total_population >= 10 *(len(test_winning_attempts_high_activity)):\n",
    "    print(\"Population size condition (N ≥ 10n) is met for both groups.\")\n",
    "else:\n",
    "    print(\"Population size condition (N ≥ 10n) is not met for both groups.\")"
   ]
  },
  {
   "cell_type": "markdown",
   "id": "a065770d-2df2-48cc-8bea-1e157a20f334",
   "metadata": {},
   "source": [
    "La prima condizione è soddisfatta, la seconda???"
   ]
  },
  {
   "cell_type": "code",
   "execution_count": 55,
   "id": "6a907286-5bdc-4d6c-aab7-9e5ed9309559",
   "metadata": {
    "metadata": {}
   },
   "outputs": [
    {
     "name": "stdout",
     "output_type": "stream",
     "text": [
      "p-value: 1.1136739276832117e-245\n"
     ]
    }
   ],
   "source": [
    "#t_value, p_value = stats.ttest_ind(winning_attempts_low_activity, winning_attempts_high_activity)\n",
    "t_value, p_value = stats.ttest_ind(test_winning_attempts_low_activity, test_winning_attempts_high_activity)\n",
    "\n",
    "print(\"p-value:\", p_value)"
   ]
  },
  {
   "cell_type": "markdown",
   "id": "37fe8772-17b8-4143-97a4-0af8d917ec8b",
   "metadata": {},
   "source": [
    "Essendo il p-value minore del livello di significatività, possiamo rigettare l'ipotesi nulla. Possiamo concludere che l'andamento di una partita in caso di vittoria per gli utenti poco attivi NON è lo stesso andamento di una partita in caso di vittoria per gli utenti attivi."
   ]
  },
  {
   "cell_type": "code",
   "execution_count": 56,
   "id": "112ecbbe-4358-473d-9405-a941c473fdd7",
   "metadata": {
    "metadata": {}
   },
   "outputs": [
    {
     "name": "stdout",
     "output_type": "stream",
     "text": [
      "p-value: 1.0\n"
     ]
    }
   ],
   "source": [
    "t_value, p_value = stats.ttest_ind(test_winning_attempts_low_activity, test_winning_attempts_high_activity, alternative='greater')\n",
    "\n",
    "print(\"p-value:\", p_value)"
   ]
  },
  {
   "cell_type": "markdown",
   "id": "60ec7ac9-b36d-41f6-9ddb-ef3e1955b181",
   "metadata": {},
   "source": [
    "Essendo il p-value maggiore del livello di significatività, non possiamo rigettare l'ipotesi nulla. L'ipotesi nulla è che la media dei tentativi in caso di vittoria degli utenti poco attivi è maggiore della media dei tentativi in caso di vittoria degli utenti attivi. "
   ]
  },
  {
   "cell_type": "code",
   "execution_count": 57,
   "id": "ec58d3f6-c503-4347-b75a-a97a45c218b9",
   "metadata": {
    "metadata": {}
   },
   "outputs": [
    {
     "name": "stdout",
     "output_type": "stream",
     "text": [
      "p-value: 5.568369638416059e-246\n"
     ]
    }
   ],
   "source": [
    "t_value, p_value = stats.ttest_ind(test_winning_attempts_low_activity, test_winning_attempts_high_activity, alternative='less')\n",
    "\n",
    "print(\"p-value:\", p_value)"
   ]
  },
  {
   "cell_type": "markdown",
   "id": "5912a28e-45dc-4feb-b7b3-b99a9af5ae22",
   "metadata": {},
   "source": [
    "Essendo il p-value minore del livello di significatività, possiamo rigettare l'ipotesi nulla. Possiamo concludere che la media dei tentativi in caso di vittoria per gli utenti poco attivi NON è minore della media dei tentativi in caso di vittoria per gli utenti attivi."
   ]
  },
  {
   "cell_type": "markdown",
   "id": "e426dabe-a112-417a-837a-f6da23d47289",
   "metadata": {},
   "source": [
    "### Test 2\n"
   ]
  },
  {
   "cell_type": "markdown",
   "id": "4120c287-d7e8-4173-a52c-6ce587d9ff45",
   "metadata": {},
   "source": [
    "Siccome circa la metà dei tweet provengono dal Client di iPhone, proviamo a impostare un T-Test con le seguente ipotesi\n",
    "- $H_0$ = gli utenti che twittano da iPhone hanno la stesso media dei tentativi rispetto all'intera popolazione\n",
    "- $H_a$ = gli utenti che twittano da iPhone hanno una media di tentativi diversa da quella generale"
   ]
  },
  {
   "cell_type": "code",
   "execution_count": 58,
   "id": "8375c5ab-79f5-4943-9761-0739897a1dd5",
   "metadata": {
    "metadata": {}
   },
   "outputs": [
    {
     "name": "stdout",
     "output_type": "stream",
     "text": [
      "1126618\n",
      "877010\n",
      "Statistiche t: -25.258827861871413\n",
      "Valore p: 9.532579257057782e-141\n"
     ]
    }
   ],
   "source": [
    "iphone_users_attempts = wordle.loc[(wordle['Source'] == 'Twitter for iPhone'), 'Attempts']\n",
    "other_users_attempts = other_users_attempts = wordle.loc[wordle['Source'] != 'Twitter for iPhone', 'Attempts']\n",
    "print(len(iphone_users_attempts))\n",
    "print(len(other_users_attempts))\n",
    "\n",
    "# Esegui il test t-student per un campione\n",
    "statistica_t, valore_p = stats.ttest_ind(iphone_users_attempts, other_users_attempts)\n",
    "\n",
    "# Stampa i risultati del test\n",
    "print(\"Statistiche t:\", statistica_t)\n",
    "print(\"Valore p:\", valore_p)"
   ]
  },
  {
   "cell_type": "markdown",
   "id": "4aec033d-d33f-4b33-a690-2dec1d923930",
   "metadata": {},
   "source": [
    "## Metodi Predittivi"
   ]
  },
  {
   "cell_type": "markdown",
   "id": "6a5cf593-7aa6-42ad-a7dc-62b49ad3c691",
   "metadata": {},
   "source": [
    "A partire dal DataFrame _wordle_ creiamo un DataFrame _user_stats_ dove ogni riga conterrà le informazioni relative a un singolo utente."
   ]
  },
  {
   "cell_type": "code",
   "execution_count": 156,
   "id": "918b78c3-c03f-4f15-91bc-ad816c9c7875",
   "metadata": {
    "metadata": {}
   },
   "outputs": [],
   "source": [
    "num_tweets_by_user = wordle.groupby('UserID')['ID'].count().reset_index()\n",
    "num_tweets_by_user.columns = ['UserID', 'Num_tweets']\n",
    "\n",
    "user_wins = wordle[wordle['Win'] == True].groupby('UserID').size().reset_index(name='User_Wins')\n",
    "\n",
    "# Merge the two dataframes on 'UserID'\n",
    "user_stats = pd.merge(num_tweets_by_user, user_wins, on='UserID', how='left')\n",
    "\n",
    "user_stats['User_Wins'] = user_stats['User_Wins'].fillna(0)\n",
    "\n",
    "total_attempts_by_user = wordle.groupby('UserID')['Attempts'].sum().reset_index()\n",
    "total_attempts_by_user.columns = ['UserID', 'Total_Attempts']\n",
    "\n",
    "# Merge the new dataframe with user_stats on 'UserID'\n",
    "user_stats = pd.merge(user_stats, total_attempts_by_user, on='UserID')\n",
    "\n",
    "user_stats['User_Win_Rate'] = (user_stats['User_Wins'] / user_stats['Num_tweets'])*100\n",
    "\n",
    "hard_mode_count_by_user = wordle.groupby('UserID')['Hard Mode'].sum().rename('Hard_Mode_Count')\n",
    "\n",
    "# Update user_stats dataframe with the counts\n",
    "user_stats = user_stats.set_index('UserID').join(hard_mode_count_by_user, how='left').reset_index()\n",
    "\n",
    "# Fill NaN values with 0 if necessary\n",
    "user_stats['Hard_Mode_Count'] = user_stats['Hard_Mode_Count'].fillna(0)\n",
    "\n",
    "wordle_wins = wordle[wordle['Win']]\n",
    "\n",
    "# Group the filtered DataFrame by 'UserID' and 'Attempts', and count occurrences\n",
    "user_attempts_counts = wordle_wins.groupby(['UserID', 'Attempts']).size().reset_index(name='Attempts_Count')\n",
    "\n",
    "# Pivot the grouped DataFrame to reshape it\n",
    "user_attempts_pivot = user_attempts_counts.pivot(index='UserID', columns='Attempts', values='Attempts_Count').reset_index()\n",
    "\n",
    "# Rename the columns to '1_attempts', '2_attempts', ..., '6_attempts'\n",
    "user_attempts_pivot.columns = ['UserID', '1_attempts_Win', '2_attempts_Win', '3_attempts_Win', '4_attempts_Win', '5_attempts_Win', '6_attempts_Win']\n",
    "\n",
    "# Merge with user_stats DataFrame on 'UserID' column\n",
    "user_stats = pd.merge(user_stats, user_attempts_pivot, on='UserID', how='left')\n",
    "\n",
    "# Fill NaN values with 0\n",
    "user_stats = user_stats.fillna(0)\n",
    "\n",
    "columns_to_convert = ['1_attempts_Win', '2_attempts_Win', '3_attempts_Win', '4_attempts_Win', '5_attempts_Win', '6_attempts_Win']\n",
    "\n",
    "# Convert columns to integers\n",
    "for col in columns_to_convert:\n",
    "    user_stats[col] = user_stats[col].astype(int)\n",
    "\n",
    "user_stats = pd.merge(user_stats, wordle[['UserID','UserActivity']].drop_duplicates(), on='UserID', how='left')\n",
    "\n"
   ]
  },
  {
   "cell_type": "code",
   "execution_count": 157,
   "id": "9fadb51e-4162-45ae-a358-0e8b8fa6fcf8",
   "metadata": {
    "metadata": {}
   },
   "outputs": [
    {
     "data": {
      "text/html": [
       "<div>\n",
       "<style scoped>\n",
       "    .dataframe tbody tr th:only-of-type {\n",
       "        vertical-align: middle;\n",
       "    }\n",
       "\n",
       "    .dataframe tbody tr th {\n",
       "        vertical-align: top;\n",
       "    }\n",
       "\n",
       "    .dataframe thead th {\n",
       "        text-align: right;\n",
       "    }\n",
       "</style>\n",
       "<table border=\"1\" class=\"dataframe\">\n",
       "  <thead>\n",
       "    <tr style=\"text-align: right;\">\n",
       "      <th></th>\n",
       "      <th>UserID</th>\n",
       "      <th>Num_tweets</th>\n",
       "      <th>User_Wins</th>\n",
       "      <th>Total_Attempts</th>\n",
       "      <th>User_Win_Rate</th>\n",
       "      <th>Hard_Mode_Count</th>\n",
       "      <th>1_attempts_Win</th>\n",
       "      <th>2_attempts_Win</th>\n",
       "      <th>3_attempts_Win</th>\n",
       "      <th>4_attempts_Win</th>\n",
       "      <th>5_attempts_Win</th>\n",
       "      <th>6_attempts_Win</th>\n",
       "      <th>UserActivity</th>\n",
       "    </tr>\n",
       "  </thead>\n",
       "  <tbody>\n",
       "    <tr>\n",
       "      <th>0</th>\n",
       "      <td>187.0</td>\n",
       "      <td>1</td>\n",
       "      <td>1.0</td>\n",
       "      <td>2</td>\n",
       "      <td>100.0</td>\n",
       "      <td>0</td>\n",
       "      <td>0</td>\n",
       "      <td>1</td>\n",
       "      <td>0</td>\n",
       "      <td>0</td>\n",
       "      <td>0</td>\n",
       "      <td>0</td>\n",
       "      <td>Low Activity</td>\n",
       "    </tr>\n",
       "    <tr>\n",
       "      <th>1</th>\n",
       "      <td>422.0</td>\n",
       "      <td>1</td>\n",
       "      <td>1.0</td>\n",
       "      <td>4</td>\n",
       "      <td>100.0</td>\n",
       "      <td>1</td>\n",
       "      <td>0</td>\n",
       "      <td>0</td>\n",
       "      <td>0</td>\n",
       "      <td>1</td>\n",
       "      <td>0</td>\n",
       "      <td>0</td>\n",
       "      <td>Low Activity</td>\n",
       "    </tr>\n",
       "    <tr>\n",
       "      <th>2</th>\n",
       "      <td>521.0</td>\n",
       "      <td>3</td>\n",
       "      <td>3.0</td>\n",
       "      <td>16</td>\n",
       "      <td>100.0</td>\n",
       "      <td>0</td>\n",
       "      <td>0</td>\n",
       "      <td>0</td>\n",
       "      <td>0</td>\n",
       "      <td>1</td>\n",
       "      <td>0</td>\n",
       "      <td>2</td>\n",
       "      <td>Low Activity</td>\n",
       "    </tr>\n",
       "    <tr>\n",
       "      <th>3</th>\n",
       "      <td>556.0</td>\n",
       "      <td>5</td>\n",
       "      <td>5.0</td>\n",
       "      <td>19</td>\n",
       "      <td>100.0</td>\n",
       "      <td>0</td>\n",
       "      <td>0</td>\n",
       "      <td>0</td>\n",
       "      <td>2</td>\n",
       "      <td>2</td>\n",
       "      <td>1</td>\n",
       "      <td>0</td>\n",
       "      <td>Medium Activity</td>\n",
       "    </tr>\n",
       "    <tr>\n",
       "      <th>4</th>\n",
       "      <td>765.0</td>\n",
       "      <td>18</td>\n",
       "      <td>18.0</td>\n",
       "      <td>75</td>\n",
       "      <td>100.0</td>\n",
       "      <td>0</td>\n",
       "      <td>0</td>\n",
       "      <td>0</td>\n",
       "      <td>5</td>\n",
       "      <td>8</td>\n",
       "      <td>2</td>\n",
       "      <td>3</td>\n",
       "      <td>High Activity</td>\n",
       "    </tr>\n",
       "  </tbody>\n",
       "</table>\n",
       "</div>"
      ],
      "text/plain": [
       "   UserID  Num_tweets  User_Wins  Total_Attempts  User_Win_Rate  \\\n",
       "0   187.0           1        1.0               2          100.0   \n",
       "1   422.0           1        1.0               4          100.0   \n",
       "2   521.0           3        3.0              16          100.0   \n",
       "3   556.0           5        5.0              19          100.0   \n",
       "4   765.0          18       18.0              75          100.0   \n",
       "\n",
       "   Hard_Mode_Count  1_attempts_Win  2_attempts_Win  3_attempts_Win  \\\n",
       "0                0               0               1               0   \n",
       "1                1               0               0               0   \n",
       "2                0               0               0               0   \n",
       "3                0               0               0               2   \n",
       "4                0               0               0               5   \n",
       "\n",
       "   4_attempts_Win  5_attempts_Win  6_attempts_Win     UserActivity  \n",
       "0               0               0               0     Low Activity  \n",
       "1               1               0               0     Low Activity  \n",
       "2               1               0               2     Low Activity  \n",
       "3               2               1               0  Medium Activity  \n",
       "4               8               2               3    High Activity  "
      ]
     },
     "execution_count": 157,
     "metadata": {},
     "output_type": "execute_result"
    }
   ],
   "source": [
    "user_stats.head()"
   ]
  },
  {
   "cell_type": "markdown",
   "id": "b36fd7b6-f122-4dc2-b554-7337be9eb04a",
   "metadata": {},
   "source": [
    "Verifichiamo che non contenga valori nulli."
   ]
  },
  {
   "cell_type": "code",
   "execution_count": 158,
   "id": "9da4e6a4-335c-4366-8f75-c807db559054",
   "metadata": {
    "metadata": {}
   },
   "outputs": [
    {
     "data": {
      "text/plain": [
       "UserID             0\n",
       "Num_tweets         0\n",
       "User_Wins          0\n",
       "Total_Attempts     0\n",
       "User_Win_Rate      0\n",
       "Hard_Mode_Count    0\n",
       "1_attempts_Win     0\n",
       "2_attempts_Win     0\n",
       "3_attempts_Win     0\n",
       "4_attempts_Win     0\n",
       "5_attempts_Win     0\n",
       "6_attempts_Win     0\n",
       "UserActivity       0\n",
       "dtype: int64"
      ]
     },
     "execution_count": 158,
     "metadata": {},
     "output_type": "execute_result"
    }
   ],
   "source": [
    "user_stats.isnull().sum()"
   ]
  },
  {
   "cell_type": "markdown",
   "id": "674af72a-ef49-4552-9118-fb8225426b07",
   "metadata": {},
   "source": [
    "A partire dal DataFrame _wordle_ creiamo un DataFrame _wordle_summary_ dove ogni riga conterrà le informazioni relative a una singola parola."
   ]
  },
  {
   "cell_type": "code",
   "execution_count": 62,
   "id": "cacbc2c5-1baf-489f-ac78-9a25f227a1da",
   "metadata": {
    "metadata": {}
   },
   "outputs": [],
   "source": [
    "# Count the number of games for each WordleID\n",
    "games_by_wordle = wordle.groupby('WordleID')['ID'].count().reset_index()\n",
    "games_by_wordle.columns = ['WordleID', 'Number_of_Games']\n",
    "\n",
    "# Count the number of wins for each WordleID\n",
    "wins_by_wordle = wordle[wordle['Win'] == True].groupby('WordleID')['Win'].count().reset_index()\n",
    "wins_by_wordle.columns = ['WordleID', 'Number_of_Wins']\n",
    "\n",
    "# Merge the two DataFrames on 'WordleID'\n",
    "wordle_summary = pd.merge(games_by_wordle, wins_by_wordle, on='WordleID', how='left').fillna(0)\n",
    "\n",
    "winning_attempts = wordle[wordle['Win'] == True]\n",
    "\n",
    "# Group the filtered DataFrame by 'WordleID' and calculate the mean of 'Attempts'\n",
    "mean_attempts_by_wordleid = winning_attempts.groupby('WordleID')['Attempts'].mean().reset_index()\n",
    "\n",
    "# Merge the mean attempts data with the 'wordle_summary' DataFrame\n",
    "wordle_summary = wordle_summary.merge(mean_attempts_by_wordleid, on='WordleID', how='left')\n",
    "\n",
    "# Rename the new column to indicate it contains mean attempts for victories\n",
    "wordle_summary.rename(columns={'Attempts': 'Mean_Attempts_Victory'}, inplace=True)\n",
    "\n",
    "wordle_summary['Win_Rate'] = (wordle_summary['Number_of_Wins'] / wordle_summary['Number_of_Games'])*100\n",
    "\n",
    "hard_mode_counts = wordle[wordle['Hard Mode']].groupby('WordleID').size().reset_index(name='Hard_Mode_Count')\n",
    "\n",
    "# Merge the counts with the wordle_summary DataFrame\n",
    "wordle_summary = pd.merge(wordle_summary, hard_mode_counts, on='WordleID', how='left')\n",
    "\n",
    "# Fill NaN values in the new column with 0\n",
    "wordle_summary['Hard_Mode_Count'] = wordle_summary['Hard_Mode_Count'].fillna(0)\n",
    "\n",
    "wordle_win = wordle[wordle['Win']]\n",
    "\n",
    "# Group by WordleID and Attempts, and count the occurrences\n",
    "attempts_counts = wordle_win.groupby(['WordleID', 'Attempts']).size().unstack(fill_value=0)\n",
    "\n",
    "# Rename the columns\n",
    "attempts_counts.columns = ['1_attempt_Win', '2_attempts_Win', '3_attempts_Win', '4_attempts_Win', '5_attempts_Win', '6_attempts_Win']\n",
    "\n",
    "# Merge with wordle_summary dataframe on WordleID\n",
    "wordle_summary = pd.merge(wordle_summary, attempts_counts, on='WordleID', how='left')\n",
    "\n",
    "# Group by WordleID and Attempts, and count the occurrences\n",
    "attempts_counts = wordle.groupby(['WordleID', 'Attempts']).size().unstack(fill_value=0)\n",
    "\n",
    "# Rename the columns\n",
    "attempts_counts.columns = ['1_attempt', '2_attempts', '3_attempts', '4_attempts', '5_attempts', '6_attempts']\n",
    "\n",
    "# Merge with wordle_summary dataframe on WordleID\n",
    "wordle_summary = pd.merge(wordle_summary, attempts_counts, on='WordleID', how='left')\n",
    "\n",
    "wordle_summary = wordle_summary.fillna(0)"
   ]
  },
  {
   "cell_type": "code",
   "execution_count": 63,
   "id": "33f4dc32-a756-4bea-8a26-7e70f23c6127",
   "metadata": {
    "metadata": {}
   },
   "outputs": [
    {
     "data": {
      "text/html": [
       "<div>\n",
       "<style scoped>\n",
       "    .dataframe tbody tr th:only-of-type {\n",
       "        vertical-align: middle;\n",
       "    }\n",
       "\n",
       "    .dataframe tbody tr th {\n",
       "        vertical-align: top;\n",
       "    }\n",
       "\n",
       "    .dataframe thead th {\n",
       "        text-align: right;\n",
       "    }\n",
       "</style>\n",
       "<table border=\"1\" class=\"dataframe\">\n",
       "  <thead>\n",
       "    <tr style=\"text-align: right;\">\n",
       "      <th></th>\n",
       "      <th>WordleID</th>\n",
       "      <th>Number_of_Games</th>\n",
       "      <th>Number_of_Wins</th>\n",
       "      <th>Mean_Attempts_Victory</th>\n",
       "      <th>Win_Rate</th>\n",
       "      <th>Hard_Mode_Count</th>\n",
       "      <th>1_attempt_Win</th>\n",
       "      <th>2_attempts_Win</th>\n",
       "      <th>3_attempts_Win</th>\n",
       "      <th>4_attempts_Win</th>\n",
       "      <th>5_attempts_Win</th>\n",
       "      <th>6_attempts_Win</th>\n",
       "      <th>1_attempt</th>\n",
       "      <th>2_attempts</th>\n",
       "      <th>3_attempts</th>\n",
       "      <th>4_attempts</th>\n",
       "      <th>5_attempts</th>\n",
       "      <th>6_attempts</th>\n",
       "    </tr>\n",
       "  </thead>\n",
       "  <tbody>\n",
       "    <tr>\n",
       "      <th>0</th>\n",
       "      <td>254</td>\n",
       "      <td>18694</td>\n",
       "      <td>18551</td>\n",
       "      <td>3.746698</td>\n",
       "      <td>99.235049</td>\n",
       "      <td>552</td>\n",
       "      <td>353</td>\n",
       "      <td>1795</td>\n",
       "      <td>5637</td>\n",
       "      <td>6331</td>\n",
       "      <td>3283</td>\n",
       "      <td>1152</td>\n",
       "      <td>353</td>\n",
       "      <td>1795</td>\n",
       "      <td>5637</td>\n",
       "      <td>6332</td>\n",
       "      <td>3283</td>\n",
       "      <td>1294</td>\n",
       "    </tr>\n",
       "    <tr>\n",
       "      <th>1</th>\n",
       "      <td>255</td>\n",
       "      <td>18592</td>\n",
       "      <td>18215</td>\n",
       "      <td>4.304200</td>\n",
       "      <td>97.972246</td>\n",
       "      <td>614</td>\n",
       "      <td>186</td>\n",
       "      <td>559</td>\n",
       "      <td>3275</td>\n",
       "      <td>6288</td>\n",
       "      <td>5322</td>\n",
       "      <td>2585</td>\n",
       "      <td>187</td>\n",
       "      <td>559</td>\n",
       "      <td>3275</td>\n",
       "      <td>6288</td>\n",
       "      <td>5322</td>\n",
       "      <td>2961</td>\n",
       "    </tr>\n",
       "    <tr>\n",
       "      <th>2</th>\n",
       "      <td>256</td>\n",
       "      <td>18797</td>\n",
       "      <td>18415</td>\n",
       "      <td>3.919033</td>\n",
       "      <td>97.967761</td>\n",
       "      <td>555</td>\n",
       "      <td>331</td>\n",
       "      <td>1727</td>\n",
       "      <td>5064</td>\n",
       "      <td>5377</td>\n",
       "      <td>3812</td>\n",
       "      <td>2104</td>\n",
       "      <td>332</td>\n",
       "      <td>1727</td>\n",
       "      <td>5064</td>\n",
       "      <td>5378</td>\n",
       "      <td>3812</td>\n",
       "      <td>2484</td>\n",
       "    </tr>\n",
       "    <tr>\n",
       "      <th>3</th>\n",
       "      <td>257</td>\n",
       "      <td>18866</td>\n",
       "      <td>18691</td>\n",
       "      <td>3.851158</td>\n",
       "      <td>99.072405</td>\n",
       "      <td>649</td>\n",
       "      <td>185</td>\n",
       "      <td>1665</td>\n",
       "      <td>5536</td>\n",
       "      <td>6202</td>\n",
       "      <td>3567</td>\n",
       "      <td>1536</td>\n",
       "      <td>185</td>\n",
       "      <td>1665</td>\n",
       "      <td>5536</td>\n",
       "      <td>6202</td>\n",
       "      <td>3569</td>\n",
       "      <td>1709</td>\n",
       "    </tr>\n",
       "    <tr>\n",
       "      <th>4</th>\n",
       "      <td>258</td>\n",
       "      <td>18691</td>\n",
       "      <td>18376</td>\n",
       "      <td>4.193187</td>\n",
       "      <td>98.314697</td>\n",
       "      <td>701</td>\n",
       "      <td>226</td>\n",
       "      <td>912</td>\n",
       "      <td>3629</td>\n",
       "      <td>6273</td>\n",
       "      <td>4991</td>\n",
       "      <td>2345</td>\n",
       "      <td>228</td>\n",
       "      <td>912</td>\n",
       "      <td>3629</td>\n",
       "      <td>6274</td>\n",
       "      <td>4992</td>\n",
       "      <td>2656</td>\n",
       "    </tr>\n",
       "  </tbody>\n",
       "</table>\n",
       "</div>"
      ],
      "text/plain": [
       "   WordleID  Number_of_Games  Number_of_Wins  Mean_Attempts_Victory  \\\n",
       "0       254            18694           18551               3.746698   \n",
       "1       255            18592           18215               4.304200   \n",
       "2       256            18797           18415               3.919033   \n",
       "3       257            18866           18691               3.851158   \n",
       "4       258            18691           18376               4.193187   \n",
       "\n",
       "    Win_Rate  Hard_Mode_Count  1_attempt_Win  2_attempts_Win  3_attempts_Win  \\\n",
       "0  99.235049              552            353            1795            5637   \n",
       "1  97.972246              614            186             559            3275   \n",
       "2  97.967761              555            331            1727            5064   \n",
       "3  99.072405              649            185            1665            5536   \n",
       "4  98.314697              701            226             912            3629   \n",
       "\n",
       "   4_attempts_Win  5_attempts_Win  6_attempts_Win  1_attempt  2_attempts  \\\n",
       "0            6331            3283            1152        353        1795   \n",
       "1            6288            5322            2585        187         559   \n",
       "2            5377            3812            2104        332        1727   \n",
       "3            6202            3567            1536        185        1665   \n",
       "4            6273            4991            2345        228         912   \n",
       "\n",
       "   3_attempts  4_attempts  5_attempts  6_attempts  \n",
       "0        5637        6332        3283        1294  \n",
       "1        3275        6288        5322        2961  \n",
       "2        5064        5378        3812        2484  \n",
       "3        5536        6202        3569        1709  \n",
       "4        3629        6274        4992        2656  "
      ]
     },
     "execution_count": 63,
     "metadata": {},
     "output_type": "execute_result"
    }
   ],
   "source": [
    "wordle_summary.head()"
   ]
  },
  {
   "cell_type": "markdown",
   "id": "583de6be-636f-4abf-9318-eade73f37e1c",
   "metadata": {},
   "source": [
    "Verifichiamo che non contenga valori nulli."
   ]
  },
  {
   "cell_type": "code",
   "execution_count": 64,
   "id": "097e0723-e0d8-4114-8c1d-5e1e63843030",
   "metadata": {
    "metadata": {}
   },
   "outputs": [
    {
     "data": {
      "text/plain": [
       "WordleID                 0\n",
       "Number_of_Games          0\n",
       "Number_of_Wins           0\n",
       "Mean_Attempts_Victory    0\n",
       "Win_Rate                 0\n",
       "Hard_Mode_Count          0\n",
       "1_attempt_Win            0\n",
       "2_attempts_Win           0\n",
       "3_attempts_Win           0\n",
       "4_attempts_Win           0\n",
       "5_attempts_Win           0\n",
       "6_attempts_Win           0\n",
       "1_attempt                0\n",
       "2_attempts               0\n",
       "3_attempts               0\n",
       "4_attempts               0\n",
       "5_attempts               0\n",
       "6_attempts               0\n",
       "dtype: int64"
      ]
     },
     "execution_count": 64,
     "metadata": {},
     "output_type": "execute_result"
    }
   ],
   "source": [
    "wordle_summary.isnull().sum()"
   ]
  },
  {
   "cell_type": "markdown",
   "id": "0270ae46-4d67-4beb-8dac-dad010545689",
   "metadata": {},
   "source": [
    "Verifichiamo che ci sia coerenza tra _wordle_,_user_stats_ e _wordle_summary_."
   ]
  },
  {
   "cell_type": "code",
   "execution_count": 65,
   "id": "32693d42-99cd-445f-b76a-6479ab189b07",
   "metadata": {
    "metadata": {}
   },
   "outputs": [
    {
     "name": "stdout",
     "output_type": "stream",
     "text": [
      "Total Hard Mode Count in user_stats: 120660\n",
      "Total Hard Mode Count in wordle_summary: 120660\n",
      "Total Hard Mode Count: 120660\n",
      "Total Win Count in user_stats: 1952040.0\n",
      "Total Win Count in wordle: 1952040\n",
      "Number of users: 406523\n",
      "Wordle number of users: 406523\n"
     ]
    }
   ],
   "source": [
    "total_hard_mode_wordle_summary = wordle_summary['Hard_Mode_Count'].sum()\n",
    "total_hard_mode_user_stats = user_stats['Hard_Mode_Count'].sum()\n",
    "total_win_user_stats = user_stats['User_Wins'].sum()\n",
    "total_win = wordle['Win'].sum()\n",
    "total_hard_mode_count = hard_mode_count_by_user.sum()\n",
    "\n",
    "print(\"Total Hard Mode Count in user_stats:\", total_hard_mode_user_stats)\n",
    "print(\"Total Hard Mode Count in wordle_summary:\", total_hard_mode_wordle_summary)\n",
    "print(\"Total Hard Mode Count:\", total_hard_mode_count)\n",
    "print(\"Total Win Count in user_stats:\", total_win_user_stats)\n",
    "print(\"Total Win Count in wordle:\", total_win)\n",
    "print(\"Number of users:\", user_stats.shape[0])\n",
    "print(\"Wordle number of users:\", wordle['UserID'].nunique())"
   ]
  },
  {
   "cell_type": "markdown",
   "id": "048f8551-00fd-4366-9ebf-ea4d05956950",
   "metadata": {},
   "source": [
    "Supponiamo di voler stimare una funzione che preveda il numero di condivisioni vincenti di un utente a partire dal suo numero complessivo di condivisioni. Prima di tutto possiamo utilizzare una rappresentazione grafica per verificare se le due features siano correlate, e se sia quindi possibile utilizzare una di queste features per predire l'altra."
   ]
  },
  {
   "cell_type": "markdown",
   "id": "152b1e89-82c0-41d0-87b1-11aac9e16a77",
   "metadata": {},
   "source": [
    "Implementiamo le funzioni per il calcolo dell'MSE, dell'MAE e del RMSE: ci serviranno per valutare se il modello ottenuto è accettabile o meno."
   ]
  },
  {
   "cell_type": "code",
   "execution_count": 72,
   "id": "04a53920-72d4-4af0-a888-a4bd3de50b47",
   "metadata": {
    "metadata": {}
   },
   "outputs": [],
   "source": [
    "# sommatoria del quadrato della differenza tra y vera e y predetta diviso il numero di y -> MSE\n",
    "def MSE (y_pred,y_true):\n",
    "   return 1/y_pred.shape[0] * np.abs((y_pred-y_true)).sum()\n",
    "\n",
    "# sommatoria del valore assoluto della differenza tra y vera e y predetta diviso il numero di y -> MAE\n",
    "def MAE (y_pred,y_true):\n",
    "     return 1/y_pred.shape[0] * ((y_pred-y_true)**2).sum()\n",
    "\n",
    "# radice della sommatoria del quadrato della differenza tra y vera e y predetta diviso il numero di y -> RMSE\n",
    "def RMSE (y_pred,y_true):\n",
    "     return np.sqrt(1/y_pred.shape[0] * ((y_pred-y_true)**2).sum())"
   ]
  },
  {
   "cell_type": "markdown",
   "id": "161e2678-bd53-4258-8b83-0d6020f39e48",
   "metadata": {},
   "source": [
    "Abbiamo visto che ci sono tre metriche per valutare i modelli a regressione di machine learning:\n",
    "\n",
    "- lo scarto medio assoluto (MAE - Mean Absolute Error);\n",
    "- l’errore quadratico medio (MSE - Mean Squared Error);\n",
    "- la radice dell’errore quadratico medio (RMSE - Root of Mean Squared Error)."
   ]
  },
  {
   "cell_type": "markdown",
   "id": "70212e31-9c41-47fc-9a96-4a3d1e3382ce",
   "metadata": {},
   "source": [
    "Per verificare che il risultato ottenuto sia un buon risultato ricorriamo al modello nullo. L'errore del modello nullo deve essere maggiore dell'errore del modello che abbiamo ottenuto per poter dire di aver ottenuto un modello accettabile."
   ]
  },
  {
   "cell_type": "markdown",
   "id": "98ec3611",
   "metadata": {},
   "source": [
    "### Passaggio a dati puramente numerici"
   ]
  },
  {
   "cell_type": "code",
   "execution_count": 86,
   "id": "83a74d3e",
   "metadata": {
    "metadata": {}
   },
   "outputs": [
    {
     "data": {
      "text/html": [
       "<div>\n",
       "<style scoped>\n",
       "    .dataframe tbody tr th:only-of-type {\n",
       "        vertical-align: middle;\n",
       "    }\n",
       "\n",
       "    .dataframe tbody tr th {\n",
       "        vertical-align: top;\n",
       "    }\n",
       "\n",
       "    .dataframe thead th {\n",
       "        text-align: right;\n",
       "    }\n",
       "</style>\n",
       "<table border=\"1\" class=\"dataframe\">\n",
       "  <thead>\n",
       "    <tr style=\"text-align: right;\">\n",
       "      <th></th>\n",
       "      <th>WordleID</th>\n",
       "      <th>ID</th>\n",
       "      <th>Created_At</th>\n",
       "      <th>Source</th>\n",
       "      <th>UserID</th>\n",
       "      <th>Attempts</th>\n",
       "      <th>Hard Mode</th>\n",
       "      <th>Match</th>\n",
       "      <th>Win</th>\n",
       "      <th>UserActivity</th>\n",
       "      <th>TimeOfDay</th>\n",
       "      <th>Difficulty</th>\n",
       "    </tr>\n",
       "  </thead>\n",
       "  <tbody>\n",
       "    <tr>\n",
       "      <th>920573</th>\n",
       "      <td>301</td>\n",
       "      <td>1515473378525814793</td>\n",
       "      <td>2022-04-16 23:33:04+00:00</td>\n",
       "      <td>Twitter for iPhone</td>\n",
       "      <td>3.719362e+09</td>\n",
       "      <td>4</td>\n",
       "      <td>False</td>\n",
       "      <td>[⬜⬜⬜🟨🟩, ⬜🟨⬜⬜⬜, 🟩🟩🟩⬜🟩, 🟩🟩🟩🟩🟩]</td>\n",
       "      <td>True</td>\n",
       "      <td>High Activity</td>\n",
       "      <td>Evening</td>\n",
       "      <td>Medium</td>\n",
       "    </tr>\n",
       "    <tr>\n",
       "      <th>440128</th>\n",
       "      <td>276</td>\n",
       "      <td>1506419339796361222</td>\n",
       "      <td>2022-03-22 23:55:33+00:00</td>\n",
       "      <td>Twitter for iPhone</td>\n",
       "      <td>1.149883e+18</td>\n",
       "      <td>6</td>\n",
       "      <td>False</td>\n",
       "      <td>[⬛⬛⬛⬛🟨, 🟩⬛⬛⬛⬛, 🟩🟨⬛⬛⬛, 🟩⬛⬛⬛🟩, 🟩🟩🟩⬛🟩, 🟩🟩🟩🟩🟩]</td>\n",
       "      <td>True</td>\n",
       "      <td>Low Activity</td>\n",
       "      <td>Evening</td>\n",
       "      <td>Medium</td>\n",
       "    </tr>\n",
       "    <tr>\n",
       "      <th>801385</th>\n",
       "      <td>294</td>\n",
       "      <td>1512929164998893571</td>\n",
       "      <td>2022-04-09 23:03:16+00:00</td>\n",
       "      <td>Twitter for iPhone</td>\n",
       "      <td>6.266641e+07</td>\n",
       "      <td>3</td>\n",
       "      <td>False</td>\n",
       "      <td>[⬛⬛🟩🟨🟨, 🟨🟨🟩🟩⬛, 🟩🟩🟩🟩🟩]</td>\n",
       "      <td>True</td>\n",
       "      <td>Low Activity</td>\n",
       "      <td>Evening</td>\n",
       "      <td>Easy</td>\n",
       "    </tr>\n",
       "    <tr>\n",
       "      <th>217347</th>\n",
       "      <td>264</td>\n",
       "      <td>1501994028635758596</td>\n",
       "      <td>2022-03-10 18:50:56+00:00</td>\n",
       "      <td>Twitter for iPhone</td>\n",
       "      <td>2.170795e+09</td>\n",
       "      <td>3</td>\n",
       "      <td>False</td>\n",
       "      <td>[🟨🟨⬜⬜⬜, 🟩🟩⬜🟨⬜, 🟩🟩🟩🟩🟩]</td>\n",
       "      <td>True</td>\n",
       "      <td>High Activity</td>\n",
       "      <td>Afternoon</td>\n",
       "      <td>Easy</td>\n",
       "    </tr>\n",
       "    <tr>\n",
       "      <th>824952</th>\n",
       "      <td>295</td>\n",
       "      <td>1513261043434332163</td>\n",
       "      <td>2022-04-10 21:02:02+00:00</td>\n",
       "      <td>Twitter for iPhone</td>\n",
       "      <td>1.308237e+18</td>\n",
       "      <td>4</td>\n",
       "      <td>False</td>\n",
       "      <td>[⬛⬛🟩⬛⬛, ⬛🟨🟩🟨⬛, 🟨🟩🟩⬛⬛, 🟩🟩🟩🟩🟩]</td>\n",
       "      <td>True</td>\n",
       "      <td>High Activity</td>\n",
       "      <td>Evening</td>\n",
       "      <td>Easy</td>\n",
       "    </tr>\n",
       "  </tbody>\n",
       "</table>\n",
       "</div>"
      ],
      "text/plain": [
       "        WordleID                   ID                Created_At  \\\n",
       "920573       301  1515473378525814793 2022-04-16 23:33:04+00:00   \n",
       "440128       276  1506419339796361222 2022-03-22 23:55:33+00:00   \n",
       "801385       294  1512929164998893571 2022-04-09 23:03:16+00:00   \n",
       "217347       264  1501994028635758596 2022-03-10 18:50:56+00:00   \n",
       "824952       295  1513261043434332163 2022-04-10 21:02:02+00:00   \n",
       "\n",
       "                    Source        UserID  Attempts  Hard Mode  \\\n",
       "920573  Twitter for iPhone  3.719362e+09         4      False   \n",
       "440128  Twitter for iPhone  1.149883e+18         6      False   \n",
       "801385  Twitter for iPhone  6.266641e+07         3      False   \n",
       "217347  Twitter for iPhone  2.170795e+09         3      False   \n",
       "824952  Twitter for iPhone  1.308237e+18         4      False   \n",
       "\n",
       "                                             Match   Win   UserActivity  \\\n",
       "920573                [⬜⬜⬜🟨🟩, ⬜🟨⬜⬜⬜, 🟩🟩🟩⬜🟩, 🟩🟩🟩🟩🟩]  True  High Activity   \n",
       "440128  [⬛⬛⬛⬛🟨, 🟩⬛⬛⬛⬛, 🟩🟨⬛⬛⬛, 🟩⬛⬛⬛🟩, 🟩🟩🟩⬛🟩, 🟩🟩🟩🟩🟩]  True   Low Activity   \n",
       "801385                       [⬛⬛🟩🟨🟨, 🟨🟨🟩🟩⬛, 🟩🟩🟩🟩🟩]  True   Low Activity   \n",
       "217347                       [🟨🟨⬜⬜⬜, 🟩🟩⬜🟨⬜, 🟩🟩🟩🟩🟩]  True  High Activity   \n",
       "824952                [⬛⬛🟩⬛⬛, ⬛🟨🟩🟨⬛, 🟨🟩🟩⬛⬛, 🟩🟩🟩🟩🟩]  True  High Activity   \n",
       "\n",
       "        TimeOfDay Difficulty  \n",
       "920573    Evening     Medium  \n",
       "440128    Evening     Medium  \n",
       "801385    Evening       Easy  \n",
       "217347  Afternoon       Easy  \n",
       "824952    Evening       Easy  "
      ]
     },
     "execution_count": 86,
     "metadata": {},
     "output_type": "execute_result"
    }
   ],
   "source": [
    "wordle_clustering = wordle.copy()  # creo una copia del dataset per il clustering\n",
    "wordle_clustering.sample(10).head()"
   ]
  },
  {
   "cell_type": "markdown",
   "id": "27435a6f",
   "metadata": {},
   "source": [
    "La colonna match per il clustering può essere utilizzata estraendo la quantità di quadratini per i vari colori utilizzati in ogni match, dopo aver estratto l'informazione possiamo eliminare la colonna match"
   ]
  },
  {
   "cell_type": "code",
   "execution_count": 87,
   "id": "bbba971f",
   "metadata": {
    "metadata": {}
   },
   "outputs": [
    {
     "data": {
      "text/html": [
       "<div>\n",
       "<style scoped>\n",
       "    .dataframe tbody tr th:only-of-type {\n",
       "        vertical-align: middle;\n",
       "    }\n",
       "\n",
       "    .dataframe tbody tr th {\n",
       "        vertical-align: top;\n",
       "    }\n",
       "\n",
       "    .dataframe thead th {\n",
       "        text-align: right;\n",
       "    }\n",
       "</style>\n",
       "<table border=\"1\" class=\"dataframe\">\n",
       "  <thead>\n",
       "    <tr style=\"text-align: right;\">\n",
       "      <th></th>\n",
       "      <th>WordleID</th>\n",
       "      <th>ID</th>\n",
       "      <th>Created_At</th>\n",
       "      <th>Source</th>\n",
       "      <th>UserID</th>\n",
       "      <th>Attempts</th>\n",
       "      <th>Hard Mode</th>\n",
       "      <th>Win</th>\n",
       "      <th>UserActivity</th>\n",
       "      <th>TimeOfDay</th>\n",
       "      <th>Difficulty</th>\n",
       "      <th>Green_Count</th>\n",
       "      <th>Yellow_Count</th>\n",
       "      <th>BlackWhite_Count</th>\n",
       "    </tr>\n",
       "  </thead>\n",
       "  <tbody>\n",
       "    <tr>\n",
       "      <th>1140729</th>\n",
       "      <td>312</td>\n",
       "      <td>1519458085525331968</td>\n",
       "      <td>2022-04-27 23:26:52+00:00</td>\n",
       "      <td>Twitter Web App</td>\n",
       "      <td>1.315826e+18</td>\n",
       "      <td>5</td>\n",
       "      <td>False</td>\n",
       "      <td>True</td>\n",
       "      <td>High Activity</td>\n",
       "      <td>Evening</td>\n",
       "      <td>Easy</td>\n",
       "      <td>11</td>\n",
       "      <td>4</td>\n",
       "      <td>10</td>\n",
       "    </tr>\n",
       "    <tr>\n",
       "      <th>1062313</th>\n",
       "      <td>308</td>\n",
       "      <td>1517988037896065024</td>\n",
       "      <td>2022-04-23 22:05:25+00:00</td>\n",
       "      <td>Twitter for iPhone</td>\n",
       "      <td>7.197157e+07</td>\n",
       "      <td>3</td>\n",
       "      <td>False</td>\n",
       "      <td>True</td>\n",
       "      <td>High Activity</td>\n",
       "      <td>Evening</td>\n",
       "      <td>Medium</td>\n",
       "      <td>8</td>\n",
       "      <td>1</td>\n",
       "      <td>6</td>\n",
       "    </tr>\n",
       "    <tr>\n",
       "      <th>938840</th>\n",
       "      <td>301</td>\n",
       "      <td>1515350875752976385</td>\n",
       "      <td>2022-04-16 15:26:17+00:00</td>\n",
       "      <td>Twitter for iPhone</td>\n",
       "      <td>3.377417e+08</td>\n",
       "      <td>5</td>\n",
       "      <td>False</td>\n",
       "      <td>True</td>\n",
       "      <td>High Activity</td>\n",
       "      <td>Afternoon</td>\n",
       "      <td>Medium</td>\n",
       "      <td>11</td>\n",
       "      <td>3</td>\n",
       "      <td>11</td>\n",
       "    </tr>\n",
       "    <tr>\n",
       "      <th>1438780</th>\n",
       "      <td>327</td>\n",
       "      <td>1524742583745921024</td>\n",
       "      <td>2022-05-12 13:25:34+00:00</td>\n",
       "      <td>Twitter for Android</td>\n",
       "      <td>5.783033e+07</td>\n",
       "      <td>4</td>\n",
       "      <td>False</td>\n",
       "      <td>True</td>\n",
       "      <td>High Activity</td>\n",
       "      <td>Afternoon</td>\n",
       "      <td>Medium</td>\n",
       "      <td>7</td>\n",
       "      <td>2</td>\n",
       "      <td>11</td>\n",
       "    </tr>\n",
       "    <tr>\n",
       "      <th>1968169</th>\n",
       "      <td>367</td>\n",
       "      <td>1539273249111953408</td>\n",
       "      <td>2022-06-21 15:45:15+00:00</td>\n",
       "      <td>Twitter for Android</td>\n",
       "      <td>9.455262e+07</td>\n",
       "      <td>4</td>\n",
       "      <td>True</td>\n",
       "      <td>True</td>\n",
       "      <td>High Activity</td>\n",
       "      <td>Afternoon</td>\n",
       "      <td>Medium</td>\n",
       "      <td>6</td>\n",
       "      <td>2</td>\n",
       "      <td>12</td>\n",
       "    </tr>\n",
       "    <tr>\n",
       "      <th>1504595</th>\n",
       "      <td>332</td>\n",
       "      <td>1526646718258880514</td>\n",
       "      <td>2022-05-17 19:31:56+00:00</td>\n",
       "      <td>Twitter for iPhone</td>\n",
       "      <td>4.823991e+09</td>\n",
       "      <td>6</td>\n",
       "      <td>False</td>\n",
       "      <td>True</td>\n",
       "      <td>Medium Activity</td>\n",
       "      <td>Evening</td>\n",
       "      <td>Medium</td>\n",
       "      <td>9</td>\n",
       "      <td>7</td>\n",
       "      <td>14</td>\n",
       "    </tr>\n",
       "    <tr>\n",
       "      <th>996289</th>\n",
       "      <td>304</td>\n",
       "      <td>1516449059514499078</td>\n",
       "      <td>2022-04-19 16:10:04+00:00</td>\n",
       "      <td>Twitter for iPhone</td>\n",
       "      <td>4.518947e+07</td>\n",
       "      <td>5</td>\n",
       "      <td>False</td>\n",
       "      <td>True</td>\n",
       "      <td>Medium Activity</td>\n",
       "      <td>Afternoon</td>\n",
       "      <td>Very Hard</td>\n",
       "      <td>13</td>\n",
       "      <td>1</td>\n",
       "      <td>11</td>\n",
       "    </tr>\n",
       "    <tr>\n",
       "      <th>191648</th>\n",
       "      <td>263</td>\n",
       "      <td>1501650094147309568</td>\n",
       "      <td>2022-03-09 20:04:16+00:00</td>\n",
       "      <td>Twitter for iPhone</td>\n",
       "      <td>6.114273e+07</td>\n",
       "      <td>3</td>\n",
       "      <td>False</td>\n",
       "      <td>True</td>\n",
       "      <td>Low Activity</td>\n",
       "      <td>Evening</td>\n",
       "      <td>Easy</td>\n",
       "      <td>7</td>\n",
       "      <td>0</td>\n",
       "      <td>8</td>\n",
       "    </tr>\n",
       "    <tr>\n",
       "      <th>1068442</th>\n",
       "      <td>308</td>\n",
       "      <td>1517930959693402112</td>\n",
       "      <td>2022-04-23 18:18:37+00:00</td>\n",
       "      <td>Twitter for Android</td>\n",
       "      <td>8.163640e+17</td>\n",
       "      <td>6</td>\n",
       "      <td>False</td>\n",
       "      <td>True</td>\n",
       "      <td>High Activity</td>\n",
       "      <td>Afternoon</td>\n",
       "      <td>Medium</td>\n",
       "      <td>12</td>\n",
       "      <td>2</td>\n",
       "      <td>16</td>\n",
       "    </tr>\n",
       "    <tr>\n",
       "      <th>1405533</th>\n",
       "      <td>326</td>\n",
       "      <td>1524467499797913600</td>\n",
       "      <td>2022-05-11 19:12:29+00:00</td>\n",
       "      <td>Twitter Web App</td>\n",
       "      <td>7.638596e+17</td>\n",
       "      <td>4</td>\n",
       "      <td>False</td>\n",
       "      <td>True</td>\n",
       "      <td>High Activity</td>\n",
       "      <td>Evening</td>\n",
       "      <td>Easy</td>\n",
       "      <td>6</td>\n",
       "      <td>3</td>\n",
       "      <td>11</td>\n",
       "    </tr>\n",
       "  </tbody>\n",
       "</table>\n",
       "</div>"
      ],
      "text/plain": [
       "         WordleID                   ID                Created_At  \\\n",
       "1140729       312  1519458085525331968 2022-04-27 23:26:52+00:00   \n",
       "1062313       308  1517988037896065024 2022-04-23 22:05:25+00:00   \n",
       "938840        301  1515350875752976385 2022-04-16 15:26:17+00:00   \n",
       "1438780       327  1524742583745921024 2022-05-12 13:25:34+00:00   \n",
       "1968169       367  1539273249111953408 2022-06-21 15:45:15+00:00   \n",
       "1504595       332  1526646718258880514 2022-05-17 19:31:56+00:00   \n",
       "996289        304  1516449059514499078 2022-04-19 16:10:04+00:00   \n",
       "191648        263  1501650094147309568 2022-03-09 20:04:16+00:00   \n",
       "1068442       308  1517930959693402112 2022-04-23 18:18:37+00:00   \n",
       "1405533       326  1524467499797913600 2022-05-11 19:12:29+00:00   \n",
       "\n",
       "                      Source        UserID  Attempts  Hard Mode   Win  \\\n",
       "1140729      Twitter Web App  1.315826e+18         5      False  True   \n",
       "1062313   Twitter for iPhone  7.197157e+07         3      False  True   \n",
       "938840    Twitter for iPhone  3.377417e+08         5      False  True   \n",
       "1438780  Twitter for Android  5.783033e+07         4      False  True   \n",
       "1968169  Twitter for Android  9.455262e+07         4       True  True   \n",
       "1504595   Twitter for iPhone  4.823991e+09         6      False  True   \n",
       "996289    Twitter for iPhone  4.518947e+07         5      False  True   \n",
       "191648    Twitter for iPhone  6.114273e+07         3      False  True   \n",
       "1068442  Twitter for Android  8.163640e+17         6      False  True   \n",
       "1405533      Twitter Web App  7.638596e+17         4      False  True   \n",
       "\n",
       "            UserActivity  TimeOfDay Difficulty  Green_Count  Yellow_Count  \\\n",
       "1140729    High Activity    Evening       Easy           11             4   \n",
       "1062313    High Activity    Evening     Medium            8             1   \n",
       "938840     High Activity  Afternoon     Medium           11             3   \n",
       "1438780    High Activity  Afternoon     Medium            7             2   \n",
       "1968169    High Activity  Afternoon     Medium            6             2   \n",
       "1504595  Medium Activity    Evening     Medium            9             7   \n",
       "996289   Medium Activity  Afternoon  Very Hard           13             1   \n",
       "191648      Low Activity    Evening       Easy            7             0   \n",
       "1068442    High Activity  Afternoon     Medium           12             2   \n",
       "1405533    High Activity    Evening       Easy            6             3   \n",
       "\n",
       "         BlackWhite_Count  \n",
       "1140729                10  \n",
       "1062313                 6  \n",
       "938840                 11  \n",
       "1438780                11  \n",
       "1968169                12  \n",
       "1504595                14  \n",
       "996289                 11  \n",
       "191648                  8  \n",
       "1068442                16  \n",
       "1405533                11  "
      ]
     },
     "execution_count": 87,
     "metadata": {},
     "output_type": "execute_result"
    }
   ],
   "source": [
    "\n",
    "# Function to count occurrences of each type of square emoji\n",
    "def count_squares(emojis):\n",
    "    green = 0\n",
    "    yellow = 0\n",
    "    black = 0\n",
    "    white = 0\n",
    "    for emoji_list in emojis:\n",
    "        green += emoji_list.count('🟩')\n",
    "        yellow += emoji_list.count('🟨')\n",
    "        black += emoji_list.count('⬛')\n",
    "        white += emoji_list.count('⬜')\n",
    "    black_white = black + white\n",
    "    return green, yellow, black_white\n",
    "\n",
    "# Apply the function to 'Match' column and create new columns\n",
    "wordle_clustering['Green_Count'], wordle_clustering['Yellow_Count'], wordle_clustering['BlackWhite_Count'] = zip(*wordle_clustering['Match'].apply(count_squares))\n",
    "\n",
    "wordle_clustering.drop(columns=['Match'], axis = 1, inplace=True) # rimuovo la colonna\n",
    "\n",
    "wordle_clustering.sample(10).head(10)"
   ]
  },
  {
   "cell_type": "markdown",
   "id": "6df54843",
   "metadata": {},
   "source": [
    "Iniziamo a preparare il nostro dataset per il clustering, convertiamo le colonne HardMode e Win da Booleane a interi, 1 quando si ha True e 0 quando si ha false"
   ]
  },
  {
   "cell_type": "code",
   "execution_count": 88,
   "id": "eed9b15d",
   "metadata": {
    "metadata": {}
   },
   "outputs": [
    {
     "data": {
      "text/html": [
       "<div>\n",
       "<style scoped>\n",
       "    .dataframe tbody tr th:only-of-type {\n",
       "        vertical-align: middle;\n",
       "    }\n",
       "\n",
       "    .dataframe tbody tr th {\n",
       "        vertical-align: top;\n",
       "    }\n",
       "\n",
       "    .dataframe thead th {\n",
       "        text-align: right;\n",
       "    }\n",
       "</style>\n",
       "<table border=\"1\" class=\"dataframe\">\n",
       "  <thead>\n",
       "    <tr style=\"text-align: right;\">\n",
       "      <th></th>\n",
       "      <th>WordleID</th>\n",
       "      <th>ID</th>\n",
       "      <th>Created_At</th>\n",
       "      <th>Source</th>\n",
       "      <th>UserID</th>\n",
       "      <th>Attempts</th>\n",
       "      <th>Hard Mode</th>\n",
       "      <th>Win</th>\n",
       "      <th>UserActivity</th>\n",
       "      <th>TimeOfDay</th>\n",
       "      <th>Difficulty</th>\n",
       "      <th>Green_Count</th>\n",
       "      <th>Yellow_Count</th>\n",
       "      <th>BlackWhite_Count</th>\n",
       "    </tr>\n",
       "  </thead>\n",
       "  <tbody>\n",
       "    <tr>\n",
       "      <th>0</th>\n",
       "      <td>254</td>\n",
       "      <td>1498447921448034305</td>\n",
       "      <td>2022-02-28 23:59:58+00:00</td>\n",
       "      <td>Twitter for iPhone</td>\n",
       "      <td>36816757.0</td>\n",
       "      <td>3</td>\n",
       "      <td>0</td>\n",
       "      <td>1</td>\n",
       "      <td>Low Activity</td>\n",
       "      <td>Evening</td>\n",
       "      <td>Easy</td>\n",
       "      <td>6</td>\n",
       "      <td>4</td>\n",
       "      <td>5</td>\n",
       "    </tr>\n",
       "    <tr>\n",
       "      <th>1</th>\n",
       "      <td>254</td>\n",
       "      <td>1498447918184996864</td>\n",
       "      <td>2022-02-28 23:59:58+00:00</td>\n",
       "      <td>Twitter for iPhone</td>\n",
       "      <td>482591014.0</td>\n",
       "      <td>4</td>\n",
       "      <td>0</td>\n",
       "      <td>1</td>\n",
       "      <td>High Activity</td>\n",
       "      <td>Evening</td>\n",
       "      <td>Easy</td>\n",
       "      <td>9</td>\n",
       "      <td>0</td>\n",
       "      <td>11</td>\n",
       "    </tr>\n",
       "    <tr>\n",
       "      <th>73387</th>\n",
       "      <td>257</td>\n",
       "      <td>1499477529232617480</td>\n",
       "      <td>2022-03-03 20:11:16+00:00</td>\n",
       "      <td>Twitter for iPhone</td>\n",
       "      <td>482591014.0</td>\n",
       "      <td>5</td>\n",
       "      <td>0</td>\n",
       "      <td>1</td>\n",
       "      <td>High Activity</td>\n",
       "      <td>Evening</td>\n",
       "      <td>Easy</td>\n",
       "      <td>8</td>\n",
       "      <td>5</td>\n",
       "      <td>12</td>\n",
       "    </tr>\n",
       "    <tr>\n",
       "      <th>133607</th>\n",
       "      <td>260</td>\n",
       "      <td>1500563244653678592</td>\n",
       "      <td>2022-03-06 20:05:31+00:00</td>\n",
       "      <td>Twitter for iPhone</td>\n",
       "      <td>482591014.0</td>\n",
       "      <td>5</td>\n",
       "      <td>0</td>\n",
       "      <td>1</td>\n",
       "      <td>High Activity</td>\n",
       "      <td>Evening</td>\n",
       "      <td>Easy</td>\n",
       "      <td>11</td>\n",
       "      <td>1</td>\n",
       "      <td>13</td>\n",
       "    </tr>\n",
       "    <tr>\n",
       "      <th>161136</th>\n",
       "      <td>262</td>\n",
       "      <td>1501340165331202049</td>\n",
       "      <td>2022-03-08 23:32:43+00:00</td>\n",
       "      <td>Twitter for iPhone</td>\n",
       "      <td>482591014.0</td>\n",
       "      <td>5</td>\n",
       "      <td>0</td>\n",
       "      <td>1</td>\n",
       "      <td>High Activity</td>\n",
       "      <td>Evening</td>\n",
       "      <td>Medium</td>\n",
       "      <td>10</td>\n",
       "      <td>3</td>\n",
       "      <td>12</td>\n",
       "    </tr>\n",
       "  </tbody>\n",
       "</table>\n",
       "</div>"
      ],
      "text/plain": [
       "        WordleID                   ID                Created_At  \\\n",
       "0            254  1498447921448034305 2022-02-28 23:59:58+00:00   \n",
       "1            254  1498447918184996864 2022-02-28 23:59:58+00:00   \n",
       "73387        257  1499477529232617480 2022-03-03 20:11:16+00:00   \n",
       "133607       260  1500563244653678592 2022-03-06 20:05:31+00:00   \n",
       "161136       262  1501340165331202049 2022-03-08 23:32:43+00:00   \n",
       "\n",
       "                    Source       UserID  Attempts  Hard Mode  Win  \\\n",
       "0       Twitter for iPhone   36816757.0         3          0    1   \n",
       "1       Twitter for iPhone  482591014.0         4          0    1   \n",
       "73387   Twitter for iPhone  482591014.0         5          0    1   \n",
       "133607  Twitter for iPhone  482591014.0         5          0    1   \n",
       "161136  Twitter for iPhone  482591014.0         5          0    1   \n",
       "\n",
       "         UserActivity TimeOfDay Difficulty  Green_Count  Yellow_Count  \\\n",
       "0        Low Activity   Evening       Easy            6             4   \n",
       "1       High Activity   Evening       Easy            9             0   \n",
       "73387   High Activity   Evening       Easy            8             5   \n",
       "133607  High Activity   Evening       Easy           11             1   \n",
       "161136  High Activity   Evening     Medium           10             3   \n",
       "\n",
       "        BlackWhite_Count  \n",
       "0                      5  \n",
       "1                     11  \n",
       "73387                 12  \n",
       "133607                13  \n",
       "161136                12  "
      ]
     },
     "execution_count": 88,
     "metadata": {},
     "output_type": "execute_result"
    }
   ],
   "source": [
    "wordle_clustering['Hard Mode'] = wordle_clustering['Hard Mode'].astype(int)\n",
    "wordle_clustering['Win'] = wordle_clustering['Win'].astype(int)\n",
    "wordle_clustering.head()"
   ]
  },
  {
   "cell_type": "markdown",
   "id": "a2e52503",
   "metadata": {},
   "source": [
    "Ora iniziamo a convertire i valori qualitativi in valori quantitativi tramite una codifica ordinale, iniziamo da TimeOfDay, in ordine crescente in base al momento del giorno"
   ]
  },
  {
   "cell_type": "code",
   "execution_count": 89,
   "id": "c910d743",
   "metadata": {
    "metadata": {}
   },
   "outputs": [
    {
     "data": {
      "text/html": [
       "<div>\n",
       "<style scoped>\n",
       "    .dataframe tbody tr th:only-of-type {\n",
       "        vertical-align: middle;\n",
       "    }\n",
       "\n",
       "    .dataframe tbody tr th {\n",
       "        vertical-align: top;\n",
       "    }\n",
       "\n",
       "    .dataframe thead th {\n",
       "        text-align: right;\n",
       "    }\n",
       "</style>\n",
       "<table border=\"1\" class=\"dataframe\">\n",
       "  <thead>\n",
       "    <tr style=\"text-align: right;\">\n",
       "      <th></th>\n",
       "      <th>WordleID</th>\n",
       "      <th>ID</th>\n",
       "      <th>Created_At</th>\n",
       "      <th>Source</th>\n",
       "      <th>UserID</th>\n",
       "      <th>Attempts</th>\n",
       "      <th>Hard Mode</th>\n",
       "      <th>Win</th>\n",
       "      <th>UserActivity</th>\n",
       "      <th>TimeOfDay</th>\n",
       "      <th>Difficulty</th>\n",
       "      <th>Green_Count</th>\n",
       "      <th>Yellow_Count</th>\n",
       "      <th>BlackWhite_Count</th>\n",
       "    </tr>\n",
       "  </thead>\n",
       "  <tbody>\n",
       "    <tr>\n",
       "      <th>0</th>\n",
       "      <td>254</td>\n",
       "      <td>1498447921448034305</td>\n",
       "      <td>2022-02-28 23:59:58+00:00</td>\n",
       "      <td>Twitter for iPhone</td>\n",
       "      <td>36816757.0</td>\n",
       "      <td>3</td>\n",
       "      <td>0</td>\n",
       "      <td>1</td>\n",
       "      <td>Low Activity</td>\n",
       "      <td>3</td>\n",
       "      <td>Easy</td>\n",
       "      <td>6</td>\n",
       "      <td>4</td>\n",
       "      <td>5</td>\n",
       "    </tr>\n",
       "    <tr>\n",
       "      <th>1</th>\n",
       "      <td>254</td>\n",
       "      <td>1498447918184996864</td>\n",
       "      <td>2022-02-28 23:59:58+00:00</td>\n",
       "      <td>Twitter for iPhone</td>\n",
       "      <td>482591014.0</td>\n",
       "      <td>4</td>\n",
       "      <td>0</td>\n",
       "      <td>1</td>\n",
       "      <td>High Activity</td>\n",
       "      <td>3</td>\n",
       "      <td>Easy</td>\n",
       "      <td>9</td>\n",
       "      <td>0</td>\n",
       "      <td>11</td>\n",
       "    </tr>\n",
       "    <tr>\n",
       "      <th>73387</th>\n",
       "      <td>257</td>\n",
       "      <td>1499477529232617480</td>\n",
       "      <td>2022-03-03 20:11:16+00:00</td>\n",
       "      <td>Twitter for iPhone</td>\n",
       "      <td>482591014.0</td>\n",
       "      <td>5</td>\n",
       "      <td>0</td>\n",
       "      <td>1</td>\n",
       "      <td>High Activity</td>\n",
       "      <td>3</td>\n",
       "      <td>Easy</td>\n",
       "      <td>8</td>\n",
       "      <td>5</td>\n",
       "      <td>12</td>\n",
       "    </tr>\n",
       "    <tr>\n",
       "      <th>133607</th>\n",
       "      <td>260</td>\n",
       "      <td>1500563244653678592</td>\n",
       "      <td>2022-03-06 20:05:31+00:00</td>\n",
       "      <td>Twitter for iPhone</td>\n",
       "      <td>482591014.0</td>\n",
       "      <td>5</td>\n",
       "      <td>0</td>\n",
       "      <td>1</td>\n",
       "      <td>High Activity</td>\n",
       "      <td>3</td>\n",
       "      <td>Easy</td>\n",
       "      <td>11</td>\n",
       "      <td>1</td>\n",
       "      <td>13</td>\n",
       "    </tr>\n",
       "    <tr>\n",
       "      <th>161136</th>\n",
       "      <td>262</td>\n",
       "      <td>1501340165331202049</td>\n",
       "      <td>2022-03-08 23:32:43+00:00</td>\n",
       "      <td>Twitter for iPhone</td>\n",
       "      <td>482591014.0</td>\n",
       "      <td>5</td>\n",
       "      <td>0</td>\n",
       "      <td>1</td>\n",
       "      <td>High Activity</td>\n",
       "      <td>3</td>\n",
       "      <td>Medium</td>\n",
       "      <td>10</td>\n",
       "      <td>3</td>\n",
       "      <td>12</td>\n",
       "    </tr>\n",
       "  </tbody>\n",
       "</table>\n",
       "</div>"
      ],
      "text/plain": [
       "        WordleID                   ID                Created_At  \\\n",
       "0            254  1498447921448034305 2022-02-28 23:59:58+00:00   \n",
       "1            254  1498447918184996864 2022-02-28 23:59:58+00:00   \n",
       "73387        257  1499477529232617480 2022-03-03 20:11:16+00:00   \n",
       "133607       260  1500563244653678592 2022-03-06 20:05:31+00:00   \n",
       "161136       262  1501340165331202049 2022-03-08 23:32:43+00:00   \n",
       "\n",
       "                    Source       UserID  Attempts  Hard Mode  Win  \\\n",
       "0       Twitter for iPhone   36816757.0         3          0    1   \n",
       "1       Twitter for iPhone  482591014.0         4          0    1   \n",
       "73387   Twitter for iPhone  482591014.0         5          0    1   \n",
       "133607  Twitter for iPhone  482591014.0         5          0    1   \n",
       "161136  Twitter for iPhone  482591014.0         5          0    1   \n",
       "\n",
       "         UserActivity TimeOfDay Difficulty  Green_Count  Yellow_Count  \\\n",
       "0        Low Activity         3       Easy            6             4   \n",
       "1       High Activity         3       Easy            9             0   \n",
       "73387   High Activity         3       Easy            8             5   \n",
       "133607  High Activity         3       Easy           11             1   \n",
       "161136  High Activity         3     Medium           10             3   \n",
       "\n",
       "        BlackWhite_Count  \n",
       "0                      5  \n",
       "1                     11  \n",
       "73387                 12  \n",
       "133607                13  \n",
       "161136                12  "
      ]
     },
     "execution_count": 89,
     "metadata": {},
     "output_type": "execute_result"
    }
   ],
   "source": [
    "ordinal_mapping = {'Morning': 1, 'Afternoon': 2, 'Evening': 3, 'Night': 4}\n",
    "wordle_clustering['TimeOfDay'] = wordle_clustering['TimeOfDay'].map(ordinal_mapping)\n",
    "wordle_clustering.head()\n"
   ]
  },
  {
   "cell_type": "markdown",
   "id": "614be679",
   "metadata": {},
   "source": [
    "Analogamente si fa per Source, UserActivity, Difficulty"
   ]
  },
  {
   "cell_type": "code",
   "execution_count": 90,
   "id": "dd1530e5",
   "metadata": {
    "metadata": {}
   },
   "outputs": [
    {
     "data": {
      "text/html": [
       "<div>\n",
       "<style scoped>\n",
       "    .dataframe tbody tr th:only-of-type {\n",
       "        vertical-align: middle;\n",
       "    }\n",
       "\n",
       "    .dataframe tbody tr th {\n",
       "        vertical-align: top;\n",
       "    }\n",
       "\n",
       "    .dataframe thead th {\n",
       "        text-align: right;\n",
       "    }\n",
       "</style>\n",
       "<table border=\"1\" class=\"dataframe\">\n",
       "  <thead>\n",
       "    <tr style=\"text-align: right;\">\n",
       "      <th></th>\n",
       "      <th>WordleID</th>\n",
       "      <th>ID</th>\n",
       "      <th>Created_At</th>\n",
       "      <th>Source</th>\n",
       "      <th>UserID</th>\n",
       "      <th>Attempts</th>\n",
       "      <th>Hard Mode</th>\n",
       "      <th>Win</th>\n",
       "      <th>UserActivity</th>\n",
       "      <th>TimeOfDay</th>\n",
       "      <th>Difficulty</th>\n",
       "      <th>Green_Count</th>\n",
       "      <th>Yellow_Count</th>\n",
       "      <th>BlackWhite_Count</th>\n",
       "    </tr>\n",
       "  </thead>\n",
       "  <tbody>\n",
       "    <tr>\n",
       "      <th>0</th>\n",
       "      <td>254</td>\n",
       "      <td>1498447921448034305</td>\n",
       "      <td>2022-02-28 23:59:58+00:00</td>\n",
       "      <td>1</td>\n",
       "      <td>36816757.0</td>\n",
       "      <td>3</td>\n",
       "      <td>0</td>\n",
       "      <td>1</td>\n",
       "      <td>1</td>\n",
       "      <td>3</td>\n",
       "      <td>1</td>\n",
       "      <td>6</td>\n",
       "      <td>4</td>\n",
       "      <td>5</td>\n",
       "    </tr>\n",
       "    <tr>\n",
       "      <th>1</th>\n",
       "      <td>254</td>\n",
       "      <td>1498447918184996864</td>\n",
       "      <td>2022-02-28 23:59:58+00:00</td>\n",
       "      <td>1</td>\n",
       "      <td>482591014.0</td>\n",
       "      <td>4</td>\n",
       "      <td>0</td>\n",
       "      <td>1</td>\n",
       "      <td>3</td>\n",
       "      <td>3</td>\n",
       "      <td>1</td>\n",
       "      <td>9</td>\n",
       "      <td>0</td>\n",
       "      <td>11</td>\n",
       "    </tr>\n",
       "    <tr>\n",
       "      <th>73387</th>\n",
       "      <td>257</td>\n",
       "      <td>1499477529232617480</td>\n",
       "      <td>2022-03-03 20:11:16+00:00</td>\n",
       "      <td>1</td>\n",
       "      <td>482591014.0</td>\n",
       "      <td>5</td>\n",
       "      <td>0</td>\n",
       "      <td>1</td>\n",
       "      <td>3</td>\n",
       "      <td>3</td>\n",
       "      <td>1</td>\n",
       "      <td>8</td>\n",
       "      <td>5</td>\n",
       "      <td>12</td>\n",
       "    </tr>\n",
       "    <tr>\n",
       "      <th>133607</th>\n",
       "      <td>260</td>\n",
       "      <td>1500563244653678592</td>\n",
       "      <td>2022-03-06 20:05:31+00:00</td>\n",
       "      <td>1</td>\n",
       "      <td>482591014.0</td>\n",
       "      <td>5</td>\n",
       "      <td>0</td>\n",
       "      <td>1</td>\n",
       "      <td>3</td>\n",
       "      <td>3</td>\n",
       "      <td>1</td>\n",
       "      <td>11</td>\n",
       "      <td>1</td>\n",
       "      <td>13</td>\n",
       "    </tr>\n",
       "    <tr>\n",
       "      <th>161136</th>\n",
       "      <td>262</td>\n",
       "      <td>1501340165331202049</td>\n",
       "      <td>2022-03-08 23:32:43+00:00</td>\n",
       "      <td>1</td>\n",
       "      <td>482591014.0</td>\n",
       "      <td>5</td>\n",
       "      <td>0</td>\n",
       "      <td>1</td>\n",
       "      <td>3</td>\n",
       "      <td>3</td>\n",
       "      <td>2</td>\n",
       "      <td>10</td>\n",
       "      <td>3</td>\n",
       "      <td>12</td>\n",
       "    </tr>\n",
       "  </tbody>\n",
       "</table>\n",
       "</div>"
      ],
      "text/plain": [
       "        WordleID                   ID                Created_At  Source  \\\n",
       "0            254  1498447921448034305 2022-02-28 23:59:58+00:00       1   \n",
       "1            254  1498447918184996864 2022-02-28 23:59:58+00:00       1   \n",
       "73387        257  1499477529232617480 2022-03-03 20:11:16+00:00       1   \n",
       "133607       260  1500563244653678592 2022-03-06 20:05:31+00:00       1   \n",
       "161136       262  1501340165331202049 2022-03-08 23:32:43+00:00       1   \n",
       "\n",
       "             UserID  Attempts  Hard Mode  Win UserActivity TimeOfDay  \\\n",
       "0        36816757.0         3          0    1            1         3   \n",
       "1       482591014.0         4          0    1            3         3   \n",
       "73387   482591014.0         5          0    1            3         3   \n",
       "133607  482591014.0         5          0    1            3         3   \n",
       "161136  482591014.0         5          0    1            3         3   \n",
       "\n",
       "        Difficulty  Green_Count  Yellow_Count  BlackWhite_Count  \n",
       "0                1            6             4                 5  \n",
       "1                1            9             0                11  \n",
       "73387            1            8             5                12  \n",
       "133607           1           11             1                13  \n",
       "161136           2           10             3                12  "
      ]
     },
     "execution_count": 90,
     "metadata": {},
     "output_type": "execute_result"
    }
   ],
   "source": [
    "# UserActivity\n",
    "ordinal_mapping = {'Low Activity': 1, 'Medium Activity': 2, 'High Activity': 3, 'Very High Activity': 4}\n",
    "wordle_clustering['UserActivity'] = wordle_clustering['UserActivity'].map(ordinal_mapping)\n",
    "# Source\n",
    "ordinal_mapping = {'Twitter for iPhone' : 1, 'Twitter for Android' : 2, 'Twitter Web App' : 3, 'Twitter for iPad' : 4, 'Other' : 5, 'TweetDeck' : 6}\n",
    "wordle_clustering['Source'] = wordle_clustering['Source'].map(ordinal_mapping)\n",
    "# Difficulty\n",
    "ordinal_mapping = {'Easy':1, 'Medium':2, 'Hard':3, 'Very Hard':4}\n",
    "wordle_clustering['Difficulty'] = wordle_clustering['Difficulty'].map(ordinal_mapping)\n",
    "\n",
    "wordle_clustering.head()\n",
    "\n"
   ]
  },
  {
   "cell_type": "markdown",
   "id": "dd60173a",
   "metadata": {},
   "source": [
    "Siccome Created_At non aggiunge ulteriori informazioni, dato che WordleID indica in un certo senso il giorno e l'orario è presente nella colonna TimeOfDay, quindi decidiamo di eliminare questa colonna"
   ]
  },
  {
   "cell_type": "code",
   "execution_count": 91,
   "id": "b9fe1968",
   "metadata": {
    "metadata": {}
   },
   "outputs": [
    {
     "data": {
      "text/html": [
       "<div>\n",
       "<style scoped>\n",
       "    .dataframe tbody tr th:only-of-type {\n",
       "        vertical-align: middle;\n",
       "    }\n",
       "\n",
       "    .dataframe tbody tr th {\n",
       "        vertical-align: top;\n",
       "    }\n",
       "\n",
       "    .dataframe thead th {\n",
       "        text-align: right;\n",
       "    }\n",
       "</style>\n",
       "<table border=\"1\" class=\"dataframe\">\n",
       "  <thead>\n",
       "    <tr style=\"text-align: right;\">\n",
       "      <th></th>\n",
       "      <th>WordleID</th>\n",
       "      <th>Source</th>\n",
       "      <th>Attempts</th>\n",
       "      <th>Hard Mode</th>\n",
       "      <th>Win</th>\n",
       "      <th>UserActivity</th>\n",
       "      <th>TimeOfDay</th>\n",
       "      <th>Difficulty</th>\n",
       "      <th>Green_Count</th>\n",
       "      <th>Yellow_Count</th>\n",
       "      <th>BlackWhite_Count</th>\n",
       "    </tr>\n",
       "  </thead>\n",
       "  <tbody>\n",
       "    <tr>\n",
       "      <th>0</th>\n",
       "      <td>254</td>\n",
       "      <td>1</td>\n",
       "      <td>3</td>\n",
       "      <td>0</td>\n",
       "      <td>1</td>\n",
       "      <td>1</td>\n",
       "      <td>3</td>\n",
       "      <td>1</td>\n",
       "      <td>6</td>\n",
       "      <td>4</td>\n",
       "      <td>5</td>\n",
       "    </tr>\n",
       "    <tr>\n",
       "      <th>1</th>\n",
       "      <td>254</td>\n",
       "      <td>1</td>\n",
       "      <td>4</td>\n",
       "      <td>0</td>\n",
       "      <td>1</td>\n",
       "      <td>3</td>\n",
       "      <td>3</td>\n",
       "      <td>1</td>\n",
       "      <td>9</td>\n",
       "      <td>0</td>\n",
       "      <td>11</td>\n",
       "    </tr>\n",
       "    <tr>\n",
       "      <th>73387</th>\n",
       "      <td>257</td>\n",
       "      <td>1</td>\n",
       "      <td>5</td>\n",
       "      <td>0</td>\n",
       "      <td>1</td>\n",
       "      <td>3</td>\n",
       "      <td>3</td>\n",
       "      <td>1</td>\n",
       "      <td>8</td>\n",
       "      <td>5</td>\n",
       "      <td>12</td>\n",
       "    </tr>\n",
       "    <tr>\n",
       "      <th>133607</th>\n",
       "      <td>260</td>\n",
       "      <td>1</td>\n",
       "      <td>5</td>\n",
       "      <td>0</td>\n",
       "      <td>1</td>\n",
       "      <td>3</td>\n",
       "      <td>3</td>\n",
       "      <td>1</td>\n",
       "      <td>11</td>\n",
       "      <td>1</td>\n",
       "      <td>13</td>\n",
       "    </tr>\n",
       "    <tr>\n",
       "      <th>161136</th>\n",
       "      <td>262</td>\n",
       "      <td>1</td>\n",
       "      <td>5</td>\n",
       "      <td>0</td>\n",
       "      <td>1</td>\n",
       "      <td>3</td>\n",
       "      <td>3</td>\n",
       "      <td>2</td>\n",
       "      <td>10</td>\n",
       "      <td>3</td>\n",
       "      <td>12</td>\n",
       "    </tr>\n",
       "  </tbody>\n",
       "</table>\n",
       "</div>"
      ],
      "text/plain": [
       "        WordleID  Source  Attempts  Hard Mode  Win UserActivity TimeOfDay  \\\n",
       "0            254       1         3          0    1            1         3   \n",
       "1            254       1         4          0    1            3         3   \n",
       "73387        257       1         5          0    1            3         3   \n",
       "133607       260       1         5          0    1            3         3   \n",
       "161136       262       1         5          0    1            3         3   \n",
       "\n",
       "        Difficulty  Green_Count  Yellow_Count  BlackWhite_Count  \n",
       "0                1            6             4                 5  \n",
       "1                1            9             0                11  \n",
       "73387            1            8             5                12  \n",
       "133607           1           11             1                13  \n",
       "161136           2           10             3                12  "
      ]
     },
     "execution_count": 91,
     "metadata": {},
     "output_type": "execute_result"
    }
   ],
   "source": [
    "wordle_clustering.drop(columns=['Created_At', 'ID', 'UserID'], axis = 1, inplace=True) # rimuovo la colonna\n",
    "wordle_clustering.head()\n"
   ]
  },
  {
   "cell_type": "markdown",
   "id": "af74d2f5",
   "metadata": {
    "metadata": {}
   },
   "source": [
    "### Normalizzazione"
   ]
  },
  {
   "cell_type": "code",
   "execution_count": 112,
   "id": "00b1fabe",
   "metadata": {
    "metadata": {}
   },
   "outputs": [
    {
     "data": {
      "text/plain": [
       "array([[0.        , 0.        , 0.4       , ..., 0.24      , 0.15384615,\n",
       "        0.16666667],\n",
       "       [0.        , 0.        , 0.6       , ..., 0.36      , 0.        ,\n",
       "        0.36666667],\n",
       "       [0.02068966, 0.        , 0.8       , ..., 0.32      , 0.19230769,\n",
       "        0.4       ],\n",
       "       ...,\n",
       "       [1.        , 0.6       , 0.6       , ..., 0.48      , 0.03846154,\n",
       "        0.23333333],\n",
       "       [1.        , 0.4       , 0.8       , ..., 0.28      , 0.38461538,\n",
       "        0.26666667],\n",
       "       [1.        , 0.4       , 0.4       , ..., 0.28      , 0.11538462,\n",
       "        0.16666667]])"
      ]
     },
     "execution_count": 112,
     "metadata": {},
     "output_type": "execute_result"
    }
   ],
   "source": [
    "from sklearn.preprocessing import MinMaxScaler\n",
    "\n",
    "scaler = MinMaxScaler()\n",
    "\n",
    "X_scaled = scaler.fit_transform(wordle_clustering)\n",
    "\n",
    "# visualizziamo la normalizzazione\n",
    "X_scaled.view()"
   ]
  },
  {
   "cell_type": "markdown",
   "id": "5f59c12b",
   "metadata": {},
   "source": [
    "### Regressione Lineare"
   ]
  },
  {
   "cell_type": "markdown",
   "id": "e5e3b88a",
   "metadata": {},
   "source": [
    "Ora che abbiamo una rappresentazione puramente numerica del nostro dataset, proviamo a vedere le tre tabelle"
   ]
  },
  {
   "cell_type": "markdown",
   "id": "76b7a3dd",
   "metadata": {
    "metadata": {}
   },
   "source": [
    "#### User Stats (fail)"
   ]
  },
  {
   "cell_type": "code",
   "execution_count": 93,
   "id": "d212129e",
   "metadata": {
    "metadata": {}
   },
   "outputs": [
    {
     "data": {
      "text/html": [
       "<div>\n",
       "<style scoped>\n",
       "    .dataframe tbody tr th:only-of-type {\n",
       "        vertical-align: middle;\n",
       "    }\n",
       "\n",
       "    .dataframe tbody tr th {\n",
       "        vertical-align: top;\n",
       "    }\n",
       "\n",
       "    .dataframe thead th {\n",
       "        text-align: right;\n",
       "    }\n",
       "</style>\n",
       "<table border=\"1\" class=\"dataframe\">\n",
       "  <thead>\n",
       "    <tr style=\"text-align: right;\">\n",
       "      <th></th>\n",
       "      <th>UserID</th>\n",
       "      <th>Num_tweets</th>\n",
       "      <th>User_Wins</th>\n",
       "      <th>Total_Attempts</th>\n",
       "      <th>User_Win_Rate</th>\n",
       "      <th>Hard_Mode_Count</th>\n",
       "      <th>1_attempts_Win</th>\n",
       "      <th>2_attempts_Win</th>\n",
       "      <th>3_attempts_Win</th>\n",
       "      <th>4_attempts_Win</th>\n",
       "      <th>5_attempts_Win</th>\n",
       "      <th>6_attempts_Win</th>\n",
       "    </tr>\n",
       "  </thead>\n",
       "  <tbody>\n",
       "    <tr>\n",
       "      <th>0</th>\n",
       "      <td>187.0</td>\n",
       "      <td>1</td>\n",
       "      <td>1.0</td>\n",
       "      <td>2</td>\n",
       "      <td>100.0</td>\n",
       "      <td>0</td>\n",
       "      <td>0</td>\n",
       "      <td>1</td>\n",
       "      <td>0</td>\n",
       "      <td>0</td>\n",
       "      <td>0</td>\n",
       "      <td>0</td>\n",
       "    </tr>\n",
       "    <tr>\n",
       "      <th>1</th>\n",
       "      <td>422.0</td>\n",
       "      <td>1</td>\n",
       "      <td>1.0</td>\n",
       "      <td>4</td>\n",
       "      <td>100.0</td>\n",
       "      <td>1</td>\n",
       "      <td>0</td>\n",
       "      <td>0</td>\n",
       "      <td>0</td>\n",
       "      <td>1</td>\n",
       "      <td>0</td>\n",
       "      <td>0</td>\n",
       "    </tr>\n",
       "    <tr>\n",
       "      <th>2</th>\n",
       "      <td>521.0</td>\n",
       "      <td>3</td>\n",
       "      <td>3.0</td>\n",
       "      <td>16</td>\n",
       "      <td>100.0</td>\n",
       "      <td>0</td>\n",
       "      <td>0</td>\n",
       "      <td>0</td>\n",
       "      <td>0</td>\n",
       "      <td>1</td>\n",
       "      <td>0</td>\n",
       "      <td>2</td>\n",
       "    </tr>\n",
       "    <tr>\n",
       "      <th>3</th>\n",
       "      <td>556.0</td>\n",
       "      <td>5</td>\n",
       "      <td>5.0</td>\n",
       "      <td>19</td>\n",
       "      <td>100.0</td>\n",
       "      <td>0</td>\n",
       "      <td>0</td>\n",
       "      <td>0</td>\n",
       "      <td>2</td>\n",
       "      <td>2</td>\n",
       "      <td>1</td>\n",
       "      <td>0</td>\n",
       "    </tr>\n",
       "    <tr>\n",
       "      <th>4</th>\n",
       "      <td>765.0</td>\n",
       "      <td>18</td>\n",
       "      <td>18.0</td>\n",
       "      <td>75</td>\n",
       "      <td>100.0</td>\n",
       "      <td>0</td>\n",
       "      <td>0</td>\n",
       "      <td>0</td>\n",
       "      <td>5</td>\n",
       "      <td>8</td>\n",
       "      <td>2</td>\n",
       "      <td>3</td>\n",
       "    </tr>\n",
       "  </tbody>\n",
       "</table>\n",
       "</div>"
      ],
      "text/plain": [
       "   UserID  Num_tweets  User_Wins  Total_Attempts  User_Win_Rate  \\\n",
       "0   187.0           1        1.0               2          100.0   \n",
       "1   422.0           1        1.0               4          100.0   \n",
       "2   521.0           3        3.0              16          100.0   \n",
       "3   556.0           5        5.0              19          100.0   \n",
       "4   765.0          18       18.0              75          100.0   \n",
       "\n",
       "   Hard_Mode_Count  1_attempts_Win  2_attempts_Win  3_attempts_Win  \\\n",
       "0                0               0               1               0   \n",
       "1                1               0               0               0   \n",
       "2                0               0               0               0   \n",
       "3                0               0               0               2   \n",
       "4                0               0               0               5   \n",
       "\n",
       "   4_attempts_Win  5_attempts_Win  6_attempts_Win  \n",
       "0               0               0               0  \n",
       "1               1               0               0  \n",
       "2               1               0               2  \n",
       "3               2               1               0  \n",
       "4               8               2               3  "
      ]
     },
     "execution_count": 93,
     "metadata": {},
     "output_type": "execute_result"
    }
   ],
   "source": [
    "user_stats.head()"
   ]
  },
  {
   "cell_type": "markdown",
   "id": "15fc3330",
   "metadata": {},
   "source": [
    "Proviamo a visualizzare il comportamento di user_stats, impostando come parametro dipendente Win_Rate\n"
   ]
  },
  {
   "cell_type": "code",
   "execution_count": 94,
   "id": "2d84bbae",
   "metadata": {
    "metadata": {}
   },
   "outputs": [
    {
     "name": "stdout",
     "output_type": "stream",
     "text": [
      "Mean Squared Error: 277.03404745876566\n",
      "R-squared: 0.0005064299465585842\n"
     ]
    }
   ],
   "source": [
    "from sklearn.linear_model import LinearRegression\n",
    "from sklearn.metrics import mean_squared_error, r2_score\n",
    "\n",
    "# Dividi il dataset in features (X) e variabile dipendente (y)\n",
    "X = user_stats.drop(columns=['User_Win_Rate'])  # Features\n",
    "y = user_stats['User_Win_Rate']                  # Variabile dipendente\n",
    "\n",
    "# Dividi il dataset in set di addestramento e di test\n",
    "X_train, X_test, y_train, y_test = train_test_split(X, y, test_size=0.2, random_state=42)\n",
    "\n",
    "# Crea un'istanza del modello di regressione lineare\n",
    "model = LinearRegression()\n",
    "\n",
    "# Addestra il modello sui dati di addestramento\n",
    "model.fit(X_train, y_train)\n",
    "\n",
    "# Fai previsioni sui dati di test\n",
    "y_pred = model.predict(X_test)\n",
    "\n",
    "# Valuta le prestazioni del modello\n",
    "mse = mean_squared_error(y_test, y_pred)\n",
    "r2 = r2_score(y_test, y_pred)\n",
    "\n",
    "print(\"Mean Squared Error:\", mse)\n",
    "print(\"R-squared:\", r2)"
   ]
  },
  {
   "cell_type": "markdown",
   "id": "0102fec7",
   "metadata": {},
   "source": [
    "Visti i risultati ottenuti scartiamo una correlazione lineare, proviamo a droppare le colonne che indicano il numero di tentativi"
   ]
  },
  {
   "cell_type": "code",
   "execution_count": 95,
   "id": "c59a1497",
   "metadata": {
    "metadata": {}
   },
   "outputs": [
    {
     "name": "stdout",
     "output_type": "stream",
     "text": [
      "Mean Squared Error: 269.44362251077166\n",
      "R-squared: 0.02789144272417554\n"
     ]
    }
   ],
   "source": [
    "# Dividi il dataset in features (X) e variabile dipendente (y)\n",
    "X = user_stats[['Num_tweets','Total_Attempts']]                   # Features\n",
    "y = user_stats['User_Win_Rate']                  # Variabile dipendente\n",
    "\n",
    "# Dividi il dataset in set di addestramento e di test\n",
    "X_train, X_test, y_train, y_test = train_test_split(X, y, test_size=0.2, random_state=42)\n",
    "\n",
    "# Crea un'istanza del modello di regressione lineare\n",
    "model = LinearRegression()\n",
    "\n",
    "# Addestra il modello sui dati di addestramento\n",
    "model.fit(X_train, y_train)\n",
    "\n",
    "# Fai previsioni sui dati di test\n",
    "y_pred = model.predict(X_test)\n",
    "\n",
    "# Valuta le prestazioni del modello\n",
    "mse = mean_squared_error(y_test, y_pred)\n",
    "r2 = r2_score(y_test, y_pred)\n",
    "\n",
    "print(\"Mean Squared Error:\", mse)\n",
    "print(\"R-squared:\", r2)"
   ]
  },
  {
   "cell_type": "markdown",
   "id": "86e56655",
   "metadata": {},
   "source": [
    "Questi valori mostrano che in questo caso non è applicabile la regressione lineare, proviamo su una delle altre due tabelle"
   ]
  },
  {
   "cell_type": "markdown",
   "id": "7d9cd0e4",
   "metadata": {},
   "source": [
    "#### Wordle Clustering (fail)"
   ]
  },
  {
   "cell_type": "code",
   "execution_count": 96,
   "id": "75aa7c1d",
   "metadata": {
    "metadata": {}
   },
   "outputs": [
    {
     "data": {
      "text/html": [
       "<div>\n",
       "<style scoped>\n",
       "    .dataframe tbody tr th:only-of-type {\n",
       "        vertical-align: middle;\n",
       "    }\n",
       "\n",
       "    .dataframe tbody tr th {\n",
       "        vertical-align: top;\n",
       "    }\n",
       "\n",
       "    .dataframe thead th {\n",
       "        text-align: right;\n",
       "    }\n",
       "</style>\n",
       "<table border=\"1\" class=\"dataframe\">\n",
       "  <thead>\n",
       "    <tr style=\"text-align: right;\">\n",
       "      <th></th>\n",
       "      <th>WordleID</th>\n",
       "      <th>Source</th>\n",
       "      <th>Attempts</th>\n",
       "      <th>Hard Mode</th>\n",
       "      <th>Win</th>\n",
       "      <th>UserActivity</th>\n",
       "      <th>TimeOfDay</th>\n",
       "      <th>Difficulty</th>\n",
       "      <th>Green_Count</th>\n",
       "      <th>Yellow_Count</th>\n",
       "      <th>BlackWhite_Count</th>\n",
       "    </tr>\n",
       "  </thead>\n",
       "  <tbody>\n",
       "    <tr>\n",
       "      <th>0</th>\n",
       "      <td>254</td>\n",
       "      <td>1</td>\n",
       "      <td>3</td>\n",
       "      <td>0</td>\n",
       "      <td>1</td>\n",
       "      <td>1</td>\n",
       "      <td>3</td>\n",
       "      <td>1</td>\n",
       "      <td>6</td>\n",
       "      <td>4</td>\n",
       "      <td>5</td>\n",
       "    </tr>\n",
       "    <tr>\n",
       "      <th>1</th>\n",
       "      <td>254</td>\n",
       "      <td>1</td>\n",
       "      <td>4</td>\n",
       "      <td>0</td>\n",
       "      <td>1</td>\n",
       "      <td>3</td>\n",
       "      <td>3</td>\n",
       "      <td>1</td>\n",
       "      <td>9</td>\n",
       "      <td>0</td>\n",
       "      <td>11</td>\n",
       "    </tr>\n",
       "    <tr>\n",
       "      <th>73387</th>\n",
       "      <td>257</td>\n",
       "      <td>1</td>\n",
       "      <td>5</td>\n",
       "      <td>0</td>\n",
       "      <td>1</td>\n",
       "      <td>3</td>\n",
       "      <td>3</td>\n",
       "      <td>1</td>\n",
       "      <td>8</td>\n",
       "      <td>5</td>\n",
       "      <td>12</td>\n",
       "    </tr>\n",
       "    <tr>\n",
       "      <th>133607</th>\n",
       "      <td>260</td>\n",
       "      <td>1</td>\n",
       "      <td>5</td>\n",
       "      <td>0</td>\n",
       "      <td>1</td>\n",
       "      <td>3</td>\n",
       "      <td>3</td>\n",
       "      <td>1</td>\n",
       "      <td>11</td>\n",
       "      <td>1</td>\n",
       "      <td>13</td>\n",
       "    </tr>\n",
       "    <tr>\n",
       "      <th>161136</th>\n",
       "      <td>262</td>\n",
       "      <td>1</td>\n",
       "      <td>5</td>\n",
       "      <td>0</td>\n",
       "      <td>1</td>\n",
       "      <td>3</td>\n",
       "      <td>3</td>\n",
       "      <td>2</td>\n",
       "      <td>10</td>\n",
       "      <td>3</td>\n",
       "      <td>12</td>\n",
       "    </tr>\n",
       "  </tbody>\n",
       "</table>\n",
       "</div>"
      ],
      "text/plain": [
       "        WordleID  Source  Attempts  Hard Mode  Win UserActivity TimeOfDay  \\\n",
       "0            254       1         3          0    1            1         3   \n",
       "1            254       1         4          0    1            3         3   \n",
       "73387        257       1         5          0    1            3         3   \n",
       "133607       260       1         5          0    1            3         3   \n",
       "161136       262       1         5          0    1            3         3   \n",
       "\n",
       "        Difficulty  Green_Count  Yellow_Count  BlackWhite_Count  \n",
       "0                1            6             4                 5  \n",
       "1                1            9             0                11  \n",
       "73387            1            8             5                12  \n",
       "133607           1           11             1                13  \n",
       "161136           2           10             3                12  "
      ]
     },
     "execution_count": 96,
     "metadata": {},
     "output_type": "execute_result"
    }
   ],
   "source": [
    "wordle_clustering.head()"
   ]
  },
  {
   "cell_type": "markdown",
   "id": "4c8525c1",
   "metadata": {},
   "source": [
    "Proviamo a vedere se vi è una correlazione lineare tra l'ora, la useractivity, la source e gli attempts"
   ]
  },
  {
   "cell_type": "code",
   "execution_count": 97,
   "id": "20aae2da",
   "metadata": {
    "metadata": {}
   },
   "outputs": [
    {
     "name": "stdout",
     "output_type": "stream",
     "text": [
      "Mean Squared Error: 1.3610121487792004\n",
      "R-squared: 0.007026207345157132\n"
     ]
    }
   ],
   "source": [
    "# Dividi il dataset in features (X) e variabile dipendente (y)\n",
    "X = wordle_clustering[['WordleID','TimeOfDay','UserActivity', 'Source']]                   # Features\n",
    "y = wordle_clustering['Attempts']                  # Variabile dipendente\n",
    "\n",
    "# Dividi il dataset in set di addestramento e di test\n",
    "X_train, X_test, y_train, y_test = train_test_split(X, y, test_size=0.2, random_state=42)\n",
    "\n",
    "# Crea un'istanza del modello di regressione lineare\n",
    "model = LinearRegression()\n",
    "\n",
    "# Addestra il modello sui dati di addestramento\n",
    "model.fit(X_train, y_train)\n",
    "\n",
    "# Fai previsioni sui dati di test\n",
    "y_pred = model.predict(X_test)\n",
    "\n",
    "# Valuta le prestazioni del modello\n",
    "mse = mean_squared_error(y_test, y_pred)\n",
    "r2 = r2_score(y_test, y_pred)\n",
    "\n",
    "print(\"Mean Squared Error:\", mse)\n",
    "print(\"R-squared:\", r2)"
   ]
  },
  {
   "cell_type": "markdown",
   "id": "8e740279",
   "metadata": {},
   "source": [
    "Si può individuare una forte correlazione, proviamo a vedere uno scatter plot per ognuna delle 3 colonne"
   ]
  },
  {
   "cell_type": "markdown",
   "id": "57070cae",
   "metadata": {},
   "source": [
    "#### Wordle Summary"
   ]
  },
  {
   "cell_type": "code",
   "execution_count": 98,
   "id": "59ae3c23",
   "metadata": {
    "metadata": {}
   },
   "outputs": [
    {
     "data": {
      "text/html": [
       "<div>\n",
       "<style scoped>\n",
       "    .dataframe tbody tr th:only-of-type {\n",
       "        vertical-align: middle;\n",
       "    }\n",
       "\n",
       "    .dataframe tbody tr th {\n",
       "        vertical-align: top;\n",
       "    }\n",
       "\n",
       "    .dataframe thead th {\n",
       "        text-align: right;\n",
       "    }\n",
       "</style>\n",
       "<table border=\"1\" class=\"dataframe\">\n",
       "  <thead>\n",
       "    <tr style=\"text-align: right;\">\n",
       "      <th></th>\n",
       "      <th>WordleID</th>\n",
       "      <th>Number_of_Games</th>\n",
       "      <th>Number_of_Wins</th>\n",
       "      <th>Mean_Attempts_Victory</th>\n",
       "      <th>Win_Rate</th>\n",
       "      <th>Hard_Mode_Count</th>\n",
       "      <th>1_attempt_Win</th>\n",
       "      <th>2_attempts_Win</th>\n",
       "      <th>3_attempts_Win</th>\n",
       "      <th>4_attempts_Win</th>\n",
       "      <th>5_attempts_Win</th>\n",
       "      <th>6_attempts_Win</th>\n",
       "      <th>1_attempt</th>\n",
       "      <th>2_attempts</th>\n",
       "      <th>3_attempts</th>\n",
       "      <th>4_attempts</th>\n",
       "      <th>5_attempts</th>\n",
       "      <th>6_attempts</th>\n",
       "      <th>above_average</th>\n",
       "    </tr>\n",
       "  </thead>\n",
       "  <tbody>\n",
       "    <tr>\n",
       "      <th>0</th>\n",
       "      <td>254</td>\n",
       "      <td>18694</td>\n",
       "      <td>18551</td>\n",
       "      <td>3.746698</td>\n",
       "      <td>99.235049</td>\n",
       "      <td>552</td>\n",
       "      <td>353</td>\n",
       "      <td>1795</td>\n",
       "      <td>5637</td>\n",
       "      <td>6331</td>\n",
       "      <td>3283</td>\n",
       "      <td>1152</td>\n",
       "      <td>353</td>\n",
       "      <td>1795</td>\n",
       "      <td>5637</td>\n",
       "      <td>6332</td>\n",
       "      <td>3283</td>\n",
       "      <td>1294</td>\n",
       "      <td>1</td>\n",
       "    </tr>\n",
       "    <tr>\n",
       "      <th>1</th>\n",
       "      <td>255</td>\n",
       "      <td>18592</td>\n",
       "      <td>18215</td>\n",
       "      <td>4.304200</td>\n",
       "      <td>97.972246</td>\n",
       "      <td>614</td>\n",
       "      <td>186</td>\n",
       "      <td>559</td>\n",
       "      <td>3275</td>\n",
       "      <td>6288</td>\n",
       "      <td>5322</td>\n",
       "      <td>2585</td>\n",
       "      <td>187</td>\n",
       "      <td>559</td>\n",
       "      <td>3275</td>\n",
       "      <td>6288</td>\n",
       "      <td>5322</td>\n",
       "      <td>2961</td>\n",
       "      <td>0</td>\n",
       "    </tr>\n",
       "    <tr>\n",
       "      <th>2</th>\n",
       "      <td>256</td>\n",
       "      <td>18797</td>\n",
       "      <td>18415</td>\n",
       "      <td>3.919033</td>\n",
       "      <td>97.967761</td>\n",
       "      <td>555</td>\n",
       "      <td>331</td>\n",
       "      <td>1727</td>\n",
       "      <td>5064</td>\n",
       "      <td>5377</td>\n",
       "      <td>3812</td>\n",
       "      <td>2104</td>\n",
       "      <td>332</td>\n",
       "      <td>1727</td>\n",
       "      <td>5064</td>\n",
       "      <td>5378</td>\n",
       "      <td>3812</td>\n",
       "      <td>2484</td>\n",
       "      <td>1</td>\n",
       "    </tr>\n",
       "    <tr>\n",
       "      <th>3</th>\n",
       "      <td>257</td>\n",
       "      <td>18866</td>\n",
       "      <td>18691</td>\n",
       "      <td>3.851158</td>\n",
       "      <td>99.072405</td>\n",
       "      <td>649</td>\n",
       "      <td>185</td>\n",
       "      <td>1665</td>\n",
       "      <td>5536</td>\n",
       "      <td>6202</td>\n",
       "      <td>3567</td>\n",
       "      <td>1536</td>\n",
       "      <td>185</td>\n",
       "      <td>1665</td>\n",
       "      <td>5536</td>\n",
       "      <td>6202</td>\n",
       "      <td>3569</td>\n",
       "      <td>1709</td>\n",
       "      <td>1</td>\n",
       "    </tr>\n",
       "    <tr>\n",
       "      <th>4</th>\n",
       "      <td>258</td>\n",
       "      <td>18691</td>\n",
       "      <td>18376</td>\n",
       "      <td>4.193187</td>\n",
       "      <td>98.314697</td>\n",
       "      <td>701</td>\n",
       "      <td>226</td>\n",
       "      <td>912</td>\n",
       "      <td>3629</td>\n",
       "      <td>6273</td>\n",
       "      <td>4991</td>\n",
       "      <td>2345</td>\n",
       "      <td>228</td>\n",
       "      <td>912</td>\n",
       "      <td>3629</td>\n",
       "      <td>6274</td>\n",
       "      <td>4992</td>\n",
       "      <td>2656</td>\n",
       "      <td>1</td>\n",
       "    </tr>\n",
       "  </tbody>\n",
       "</table>\n",
       "</div>"
      ],
      "text/plain": [
       "   WordleID  Number_of_Games  Number_of_Wins  Mean_Attempts_Victory  \\\n",
       "0       254            18694           18551               3.746698   \n",
       "1       255            18592           18215               4.304200   \n",
       "2       256            18797           18415               3.919033   \n",
       "3       257            18866           18691               3.851158   \n",
       "4       258            18691           18376               4.193187   \n",
       "\n",
       "    Win_Rate  Hard_Mode_Count  1_attempt_Win  2_attempts_Win  3_attempts_Win  \\\n",
       "0  99.235049              552            353            1795            5637   \n",
       "1  97.972246              614            186             559            3275   \n",
       "2  97.967761              555            331            1727            5064   \n",
       "3  99.072405              649            185            1665            5536   \n",
       "4  98.314697              701            226             912            3629   \n",
       "\n",
       "   4_attempts_Win  5_attempts_Win  6_attempts_Win  1_attempt  2_attempts  \\\n",
       "0            6331            3283            1152        353        1795   \n",
       "1            6288            5322            2585        187         559   \n",
       "2            5377            3812            2104        332        1727   \n",
       "3            6202            3567            1536        185        1665   \n",
       "4            6273            4991            2345        228         912   \n",
       "\n",
       "   3_attempts  4_attempts  5_attempts  6_attempts  above_average  \n",
       "0        5637        6332        3283        1294              1  \n",
       "1        3275        6288        5322        2961              0  \n",
       "2        5064        5378        3812        2484              1  \n",
       "3        5536        6202        3569        1709              1  \n",
       "4        3629        6274        4992        2656              1  "
      ]
     },
     "execution_count": 98,
     "metadata": {},
     "output_type": "execute_result"
    }
   ],
   "source": [
    "wordle_summary.head()"
   ]
  },
  {
   "cell_type": "markdown",
   "id": "1a7a8b98",
   "metadata": {},
   "source": [
    "Proviamo ad applicare la regressione lineare proviamo a operare su questa parte, considerando le colonne nello stesso range numerico"
   ]
  },
  {
   "cell_type": "code",
   "execution_count": 113,
   "id": "89cb42b5",
   "metadata": {
    "metadata": {}
   },
   "outputs": [
    {
     "name": "stdout",
     "output_type": "stream",
     "text": [
      "Mean Squared Error: 0.46249950891412533\n",
      "R-squared: 0.9770816152154649\n"
     ]
    }
   ],
   "source": [
    "# Dividi il dataset in features (X) e variabile dipendente (y)\n",
    "# X = wordle_summary.drop(columns=['Win_Rate','Number_of_Games', 'Number_of_Wins'])\n",
    "X = wordle_summary[['1_attempt','2_attempts','3_attempts','4_attempts' ,'5_attempts','6_attempts']]\n",
    "y = wordle_summary['Win_Rate']                                                                                  # Variabile dipendente\n",
    "\n",
    "# Scaliamo\n",
    "scaler = MinMaxScaler()\n",
    "x_scaled = scaler.fit_transform(X)\n",
    "y_scaled = y\n",
    "\n",
    "# Dividi il dataset in set di addestramento e di test\n",
    "X_train, X_test, y_train, y_test = train_test_split(x_scaled, y_scaled, test_size=0.2, random_state=42)\n",
    "\n",
    "# Crea un'istanza del modello di regressione lineare\n",
    "model = LinearRegression()\n",
    "\n",
    "# Addestra il modello sui dati di addestramento\n",
    "model.fit(X_train, y_train)\n",
    "\n",
    "# Fai previsioni sui dati di test\n",
    "y_pred = model.predict(X_test)\n",
    "\n",
    "# Valuta le prestazioni del modello\n",
    "mse = mean_squared_error(y_test, y_pred)\n",
    "r2 = r2_score(y_test, y_pred)\n",
    "\n",
    "print(\"Mean Squared Error:\", mse)\n",
    "print(\"R-squared:\", r2)"
   ]
  },
  {
   "cell_type": "markdown",
   "id": "52875e2b",
   "metadata": {},
   "source": [
    "Ci potevamo aspettare una correlazione puramente lineare data la provenienza dei dati e per i valori poco variabili della win rate , inoltre non vi è una coincidenza diretta con il nostro obiettivo analitico"
   ]
  },
  {
   "cell_type": "code",
   "execution_count": 114,
   "id": "7c12bc58",
   "metadata": {
    "metadata": {}
   },
   "outputs": [
    {
     "data": {
      "image/png": "[encoded data removed]",
      "text/plain": [
       "<Figure size 1500x500 with 6 Axes>"
      ]
     },
     "metadata": {},
     "output_type": "display_data"
    }
   ],
   "source": [
    "# Numero di colonne nel DataFrame X\n",
    "num_columns = X.shape[1]\n",
    "\n",
    "# Imposta le dimensioni della figura in base al numero di colonne\n",
    "plt.figure(figsize=(15, 5))\n",
    "\n",
    "# Itera attraverso le colonne di X\n",
    "for i in range(num_columns):\n",
    "    # Crea un subplot per ciascuna colonna\n",
    "    plt.subplot(1, num_columns, i+1)\n",
    "    \n",
    "    # Crea lo scatter plot per la colonna corrente\n",
    "    plt.scatter(X.iloc[:, i], y)\n",
    "    \n",
    "    # Aggiungi etichette e titolo\n",
    "    plt.xlabel(X.columns[i])\n",
    "    plt.ylabel('Win_Rate')\n",
    "    plt.title(f'Scatter Plot: {X.columns[i]} vs Win_Rate')\n",
    "\n",
    "# Mostra il plot\n",
    "plt.tight_layout()\n",
    "plt.show()\n"
   ]
  },
  {
   "cell_type": "markdown",
   "id": "7d3e24cd",
   "metadata": {},
   "source": [
    "Andiamo a confrontare il modello che abbiamo ottenuto con il modello nullo"
   ]
  },
  {
   "cell_type": "code",
   "execution_count": 101,
   "id": "e8ebd6d7",
   "metadata": {
    "metadata": {}
   },
   "outputs": [
    {
     "name": "stdout",
     "output_type": "stream",
     "text": [
      "MSE modello nullo:  2.9381860615887136\n"
     ]
    }
   ],
   "source": [
    "mean_win_rate = y_test.mean()\n",
    "\n",
    "null_model_y = np.ones(len(y_test))*mean_win_rate\n",
    "\n",
    "print(\"MSE modello nullo: \", MSE(null_model_y, y_test))"
   ]
  },
  {
   "cell_type": "markdown",
   "id": "4c1dd70e",
   "metadata": {},
   "source": [
    "### Regressione Logistica"
   ]
  },
  {
   "cell_type": "code",
   "execution_count": 115,
   "id": "eec78aa9",
   "metadata": {
    "metadata": {}
   },
   "outputs": [
    {
     "data": {
      "text/html": [
       "<div>\n",
       "<style scoped>\n",
       "    .dataframe tbody tr th:only-of-type {\n",
       "        vertical-align: middle;\n",
       "    }\n",
       "\n",
       "    .dataframe tbody tr th {\n",
       "        vertical-align: top;\n",
       "    }\n",
       "\n",
       "    .dataframe thead th {\n",
       "        text-align: right;\n",
       "    }\n",
       "</style>\n",
       "<table border=\"1\" class=\"dataframe\">\n",
       "  <thead>\n",
       "    <tr style=\"text-align: right;\">\n",
       "      <th></th>\n",
       "      <th>WordleID</th>\n",
       "      <th>Source</th>\n",
       "      <th>Attempts</th>\n",
       "      <th>Hard Mode</th>\n",
       "      <th>Win</th>\n",
       "      <th>UserActivity</th>\n",
       "      <th>TimeOfDay</th>\n",
       "      <th>Difficulty</th>\n",
       "      <th>Green_Count</th>\n",
       "      <th>Yellow_Count</th>\n",
       "      <th>BlackWhite_Count</th>\n",
       "    </tr>\n",
       "  </thead>\n",
       "  <tbody>\n",
       "    <tr>\n",
       "      <th>0</th>\n",
       "      <td>254</td>\n",
       "      <td>1</td>\n",
       "      <td>3</td>\n",
       "      <td>0</td>\n",
       "      <td>1</td>\n",
       "      <td>1</td>\n",
       "      <td>3</td>\n",
       "      <td>1</td>\n",
       "      <td>6</td>\n",
       "      <td>4</td>\n",
       "      <td>5</td>\n",
       "    </tr>\n",
       "    <tr>\n",
       "      <th>1</th>\n",
       "      <td>254</td>\n",
       "      <td>1</td>\n",
       "      <td>4</td>\n",
       "      <td>0</td>\n",
       "      <td>1</td>\n",
       "      <td>3</td>\n",
       "      <td>3</td>\n",
       "      <td>1</td>\n",
       "      <td>9</td>\n",
       "      <td>0</td>\n",
       "      <td>11</td>\n",
       "    </tr>\n",
       "    <tr>\n",
       "      <th>73387</th>\n",
       "      <td>257</td>\n",
       "      <td>1</td>\n",
       "      <td>5</td>\n",
       "      <td>0</td>\n",
       "      <td>1</td>\n",
       "      <td>3</td>\n",
       "      <td>3</td>\n",
       "      <td>1</td>\n",
       "      <td>8</td>\n",
       "      <td>5</td>\n",
       "      <td>12</td>\n",
       "    </tr>\n",
       "    <tr>\n",
       "      <th>133607</th>\n",
       "      <td>260</td>\n",
       "      <td>1</td>\n",
       "      <td>5</td>\n",
       "      <td>0</td>\n",
       "      <td>1</td>\n",
       "      <td>3</td>\n",
       "      <td>3</td>\n",
       "      <td>1</td>\n",
       "      <td>11</td>\n",
       "      <td>1</td>\n",
       "      <td>13</td>\n",
       "    </tr>\n",
       "    <tr>\n",
       "      <th>161136</th>\n",
       "      <td>262</td>\n",
       "      <td>1</td>\n",
       "      <td>5</td>\n",
       "      <td>0</td>\n",
       "      <td>1</td>\n",
       "      <td>3</td>\n",
       "      <td>3</td>\n",
       "      <td>2</td>\n",
       "      <td>10</td>\n",
       "      <td>3</td>\n",
       "      <td>12</td>\n",
       "    </tr>\n",
       "  </tbody>\n",
       "</table>\n",
       "</div>"
      ],
      "text/plain": [
       "        WordleID  Source  Attempts  Hard Mode  Win UserActivity TimeOfDay  \\\n",
       "0            254       1         3          0    1            1         3   \n",
       "1            254       1         4          0    1            3         3   \n",
       "73387        257       1         5          0    1            3         3   \n",
       "133607       260       1         5          0    1            3         3   \n",
       "161136       262       1         5          0    1            3         3   \n",
       "\n",
       "        Difficulty  Green_Count  Yellow_Count  BlackWhite_Count  \n",
       "0                1            6             4                 5  \n",
       "1                1            9             0                11  \n",
       "73387            1            8             5                12  \n",
       "133607           1           11             1                13  \n",
       "161136           2           10             3                12  "
      ]
     },
     "execution_count": 115,
     "metadata": {},
     "output_type": "execute_result"
    }
   ],
   "source": [
    "wordle_clustering.head()"
   ]
  },
  {
   "cell_type": "markdown",
   "id": "04003645",
   "metadata": {},
   "source": [
    "Andiamo a vedere la regressione logistica basandoci sulla quantità di quadrati dei vari colori"
   ]
  },
  {
   "cell_type": "code",
   "execution_count": 140,
   "id": "32ff6cc1",
   "metadata": {
    "metadata": {}
   },
   "outputs": [
    {
     "name": "stdout",
     "output_type": "stream",
     "text": [
      "1952040\n",
      "51588\n",
      "[1 1 1 ... 1 1 1]\n",
      "0.9745262348836861\n"
     ]
    }
   ],
   "source": [
    "from sklearn.linear_model import LogisticRegression\n",
    "#codice qui\n",
    "y = wordle_clustering['Win']\n",
    "x = wordle_clustering[['Green_Count','Yellow_Count','BlackWhite_Count','UserActivity','TimeOfDay','Hard Mode']]\n",
    "x = scaler.fit_transform(x)\n",
    "\n",
    "print(np.sum(y==1))\n",
    "print(np.sum(y==0))\n",
    "x_train, x_valid, y_train, y_valid = train_test_split(x, y, test_size = 0.2)\n",
    "reg = LogisticRegression()\n",
    "reg.fit(x_train, y_train)\n",
    "y_pred = reg.predict(x_valid)\n",
    "print(y_pred)\n",
    "print(reg.score(x_valid, y_valid))"
   ]
  },
  {
   "cell_type": "markdown",
   "id": "d27a0740",
   "metadata": {},
   "source": [
    "Confrontiamo con il modello nullo"
   ]
  },
  {
   "cell_type": "code",
   "execution_count": 141,
   "id": "4713e61a",
   "metadata": {
    "metadata": {}
   },
   "outputs": [
    {
     "name": "stdout",
     "output_type": "stream",
     "text": [
      "0.025773221602790934\n",
      "0.9742267783972091\n"
     ]
    }
   ],
   "source": [
    "classe1 = np.sum(y_valid ==1)/x_valid.shape[0]\n",
    "classe0 = np.sum(y_valid==0)/x_valid.shape[0]\n",
    "print(classe0)\n",
    "print(classe1)"
   ]
  },
  {
   "cell_type": "markdown",
   "id": "ade93c1a",
   "metadata": {},
   "source": [
    "In questo caso si nota che la regressione logistica performa meglio rispetto al modello nullo ma non in modo rilevante, questo lieve miglioramento è fornito dal contenuto informativo fornito dal numero di quadratini di vario colore"
   ]
  },
  {
   "cell_type": "markdown",
   "id": "f2755966",
   "metadata": {},
   "source": [
    "### Clustering con K-Means"
   ]
  },
  {
   "cell_type": "markdown",
   "id": "3da90e5c-dad0-45c4-9e14-a0950c8b0fce",
   "metadata": {},
   "source": [
    "Poichè la computazione dell'indice di silhouette per un dataset così corposo (circa 2 milioni di righe e 11 colonne) è onerosa, decidiamo di farci guidare nella scelta di un K ottimale dal metodo del gomito."
   ]
  },
  {
   "cell_type": "code",
   "execution_count": 143,
   "id": "32cfdf4d-9ec6-416a-ae4e-7db879afba69",
   "metadata": {
    "metadata": {}
   },
   "outputs": [
    {
     "name": "stdout",
     "output_type": "stream",
     "text": [
      "1\n",
      "2\n",
      "3\n",
      "4\n",
      "5\n",
      "6\n",
      "7\n",
      "8\n",
      "9\n",
      "10\n",
      "11\n",
      "12\n",
      "13\n",
      "14\n",
      "15\n",
      "16\n",
      "17\n",
      "18\n",
      "19\n"
     ]
    },
    {
     "data": {
      "image/png": "[encoded data removed]",
      "text/plain": [
       "<Figure size 640x480 with 1 Axes>"
      ]
     },
     "metadata": {},
     "output_type": "display_data"
    }
   ],
   "source": [
    "from sklearn.cluster import KMeans\n",
    "\n",
    "inertias = []\n",
    "\n",
    "for i in range(1,20):\n",
    "    print(i) #per sapere a che punto è con la computazione\n",
    "    kmeans = KMeans(n_clusters=i, random_state=42)\n",
    "    kmeans.fit(X_scaled)\n",
    "    inertias.append(kmeans.inertia_)\n",
    "\n",
    "plt.plot(range(1, 20), inertias, marker='o')\n",
    "plt.title('Elbow method')\n",
    "plt.xlabel('Number of clusters')\n",
    "plt.ylabel('Inertia')\n",
    "plt.show()"
   ]
  },
  {
   "cell_type": "code",
   "execution_count": 144,
   "id": "8036d9eb-8535-4a26-8916-5ea094f5f562",
   "metadata": {
    "metadata": {}
   },
   "outputs": [
    {
     "name": "stdout",
     "output_type": "stream",
     "text": [
      "[1067811.3997523251, 891168.9818598813, 773187.1194226947, 726284.9396907128, 632010.0393629109, 571158.5370072939, 561329.5152632422, 518462.64342900115, 500645.5729025205, 482963.0301307046, 442675.77343767113, 436110.4948390315, 426621.9850861927, 412833.6971494977, 407038.4226321457, 399840.4906557026, 387442.0644126828, 379579.8817947123, 366654.65183303645]\n"
     ]
    }
   ],
   "source": [
    "print(inertias)\n"
   ]
  },
  {
   "cell_type": "code",
   "execution_count": 145,
   "id": "f45ac5e1-21d9-45f7-8401-143ce0fe631a",
   "metadata": {
    "metadata": {}
   },
   "outputs": [],
   "source": [
    "kmeans = KMeans(n_clusters=6, random_state=42)\n",
    "\n",
    "# Fit KMeans model to the data\n",
    "kmeans.fit(X_scaled)\n",
    "\n",
    "# Get cluster labels\n",
    "cluster_labels = kmeans.labels_\n",
    "\n",
    "# Optionally, add cluster labels back to the dataframe\n",
    "wordle_clustering['Cluster'] = cluster_labels\n"
   ]
  },
  {
   "cell_type": "markdown",
   "id": "becd796b-9aa3-40d0-b12e-d8b454e13367",
   "metadata": {},
   "source": [
    "Seppur non sia distinguibile in maniera evidente un valore tale per cui si abbia 'un gomito', possiamo prendere un K a nostra scelta. "
   ]
  },
  {
   "cell_type": "markdown",
   "id": "203446e5-b4d4-4ae3-ae23-a3cff049b6ba",
   "metadata": {},
   "source": [
    "***user_stats***"
   ]
  },
  {
   "cell_type": "code",
   "execution_count": 166,
   "id": "594465b1",
   "metadata": {
    "metadata": {}
   },
   "outputs": [
    {
     "data": {
      "text/html": [
       "<div>\n",
       "<style scoped>\n",
       "    .dataframe tbody tr th:only-of-type {\n",
       "        vertical-align: middle;\n",
       "    }\n",
       "\n",
       "    .dataframe tbody tr th {\n",
       "        vertical-align: top;\n",
       "    }\n",
       "\n",
       "    .dataframe thead th {\n",
       "        text-align: right;\n",
       "    }\n",
       "</style>\n",
       "<table border=\"1\" class=\"dataframe\">\n",
       "  <thead>\n",
       "    <tr style=\"text-align: right;\">\n",
       "      <th></th>\n",
       "      <th>UserID</th>\n",
       "      <th>Num_tweets</th>\n",
       "      <th>User_Wins</th>\n",
       "      <th>Total_Attempts</th>\n",
       "      <th>User_Win_Rate</th>\n",
       "      <th>Hard_Mode_Count</th>\n",
       "      <th>1_attempts_Win</th>\n",
       "      <th>2_attempts_Win</th>\n",
       "      <th>3_attempts_Win</th>\n",
       "      <th>4_attempts_Win</th>\n",
       "      <th>5_attempts_Win</th>\n",
       "      <th>6_attempts_Win</th>\n",
       "    </tr>\n",
       "  </thead>\n",
       "  <tbody>\n",
       "    <tr>\n",
       "      <th>0</th>\n",
       "      <td>187.0</td>\n",
       "      <td>1</td>\n",
       "      <td>1.0</td>\n",
       "      <td>2</td>\n",
       "      <td>100.0</td>\n",
       "      <td>0</td>\n",
       "      <td>0</td>\n",
       "      <td>1</td>\n",
       "      <td>0</td>\n",
       "      <td>0</td>\n",
       "      <td>0</td>\n",
       "      <td>0</td>\n",
       "    </tr>\n",
       "    <tr>\n",
       "      <th>1</th>\n",
       "      <td>422.0</td>\n",
       "      <td>1</td>\n",
       "      <td>1.0</td>\n",
       "      <td>4</td>\n",
       "      <td>100.0</td>\n",
       "      <td>1</td>\n",
       "      <td>0</td>\n",
       "      <td>0</td>\n",
       "      <td>0</td>\n",
       "      <td>1</td>\n",
       "      <td>0</td>\n",
       "      <td>0</td>\n",
       "    </tr>\n",
       "    <tr>\n",
       "      <th>2</th>\n",
       "      <td>521.0</td>\n",
       "      <td>3</td>\n",
       "      <td>3.0</td>\n",
       "      <td>16</td>\n",
       "      <td>100.0</td>\n",
       "      <td>0</td>\n",
       "      <td>0</td>\n",
       "      <td>0</td>\n",
       "      <td>0</td>\n",
       "      <td>1</td>\n",
       "      <td>0</td>\n",
       "      <td>2</td>\n",
       "    </tr>\n",
       "    <tr>\n",
       "      <th>3</th>\n",
       "      <td>556.0</td>\n",
       "      <td>5</td>\n",
       "      <td>5.0</td>\n",
       "      <td>19</td>\n",
       "      <td>100.0</td>\n",
       "      <td>0</td>\n",
       "      <td>0</td>\n",
       "      <td>0</td>\n",
       "      <td>2</td>\n",
       "      <td>2</td>\n",
       "      <td>1</td>\n",
       "      <td>0</td>\n",
       "    </tr>\n",
       "    <tr>\n",
       "      <th>4</th>\n",
       "      <td>765.0</td>\n",
       "      <td>18</td>\n",
       "      <td>18.0</td>\n",
       "      <td>75</td>\n",
       "      <td>100.0</td>\n",
       "      <td>0</td>\n",
       "      <td>0</td>\n",
       "      <td>0</td>\n",
       "      <td>5</td>\n",
       "      <td>8</td>\n",
       "      <td>2</td>\n",
       "      <td>3</td>\n",
       "    </tr>\n",
       "  </tbody>\n",
       "</table>\n",
       "</div>"
      ],
      "text/plain": [
       "   UserID  Num_tweets  User_Wins  Total_Attempts  User_Win_Rate  \\\n",
       "0   187.0           1        1.0               2          100.0   \n",
       "1   422.0           1        1.0               4          100.0   \n",
       "2   521.0           3        3.0              16          100.0   \n",
       "3   556.0           5        5.0              19          100.0   \n",
       "4   765.0          18       18.0              75          100.0   \n",
       "\n",
       "   Hard_Mode_Count  1_attempts_Win  2_attempts_Win  3_attempts_Win  \\\n",
       "0                0               0               1               0   \n",
       "1                1               0               0               0   \n",
       "2                0               0               0               0   \n",
       "3                0               0               0               2   \n",
       "4                0               0               0               5   \n",
       "\n",
       "   4_attempts_Win  5_attempts_Win  6_attempts_Win  \n",
       "0               0               0               0  \n",
       "1               1               0               0  \n",
       "2               1               0               2  \n",
       "3               2               1               0  \n",
       "4               8               2               3  "
      ]
     },
     "execution_count": 166,
     "metadata": {},
     "output_type": "execute_result"
    }
   ],
   "source": [
    "user_clustering = user_stats.copy()\n",
    "\n",
    "user_clustering.drop(columns='UserActivity',inplace=True)\n",
    "\n",
    "# traduciamo in numeri la variabile categorica User Activity\n",
    "# ordinal_mapping = {'Low Activity': 1, 'Medium Activity': 2, 'High Activity': 3, 'Very High Activity': 4}\n",
    "# user_clustering['UserActivity'] = user_clustering['UserActivity'].map(ordinal_mapping)\n",
    "\n",
    "user_clustering.head()"
   ]
  },
  {
   "cell_type": "code",
   "execution_count": 160,
   "id": "d21c11b9-f667-4461-aad0-566c7e5e9420",
   "metadata": {
    "metadata": {}
   },
   "outputs": [
    {
     "name": "stdout",
     "output_type": "stream",
     "text": [
      "1\n",
      "2\n",
      "3\n",
      "4\n",
      "5\n",
      "6\n",
      "7\n",
      "8\n",
      "9\n",
      "10\n",
      "11\n",
      "12\n",
      "13\n",
      "14\n",
      "15\n"
     ]
    },
    {
     "data": {
      "image/png": "[encoded data removed]",
      "text/plain": [
       "<Figure size 640x480 with 1 Axes>"
      ]
     },
     "metadata": {},
     "output_type": "display_data"
    }
   ],
   "source": [
    "scaler = MinMaxScaler()\n",
    "\n",
    "X_scaled_user = scaler.fit_transform(user_clustering)\n",
    "\n",
    "# visualizziamo la normalizzazione\n",
    "X_scaled_user.view()\n",
    "\n",
    "inertias_user = []\n",
    "\n",
    "for i in range(1,16):\n",
    "    print(i) #per sapere a che punto è con la computazione\n",
    "    kmeans = KMeans(n_clusters=i, random_state=16)\n",
    "    kmeans.fit(X_scaled_user)\n",
    "    inertias_user.append(kmeans.inertia_)\n",
    "\n",
    "plt.plot(range(1, 16), inertias_user, marker='o')\n",
    "plt.title('Elbow method')\n",
    "plt.xlabel('Number of clusters')\n",
    "plt.ylabel('Inertia')\n",
    "plt.show()"
   ]
  },
  {
   "cell_type": "markdown",
   "id": "d169cf8e-b1c5-41d7-9c97-e47b025e93a1",
   "metadata": {},
   "source": [
    "Prendiamo K = 4."
   ]
  },
  {
   "cell_type": "code",
   "execution_count": 161,
   "id": "c2d6c0ae-e71b-44e8-8b46-362828263305",
   "metadata": {
    "metadata": {}
   },
   "outputs": [
    {
     "data": {
      "text/html": [
       "<div>\n",
       "<style scoped>\n",
       "    .dataframe tbody tr th:only-of-type {\n",
       "        vertical-align: middle;\n",
       "    }\n",
       "\n",
       "    .dataframe tbody tr th {\n",
       "        vertical-align: top;\n",
       "    }\n",
       "\n",
       "    .dataframe thead th {\n",
       "        text-align: right;\n",
       "    }\n",
       "</style>\n",
       "<table border=\"1\" class=\"dataframe\">\n",
       "  <thead>\n",
       "    <tr style=\"text-align: right;\">\n",
       "      <th></th>\n",
       "      <th>UserID</th>\n",
       "      <th>Num_tweets</th>\n",
       "      <th>User_Wins</th>\n",
       "      <th>Total_Attempts</th>\n",
       "      <th>User_Win_Rate</th>\n",
       "      <th>Hard_Mode_Count</th>\n",
       "      <th>1_attempts_Win</th>\n",
       "      <th>2_attempts_Win</th>\n",
       "      <th>3_attempts_Win</th>\n",
       "      <th>4_attempts_Win</th>\n",
       "      <th>5_attempts_Win</th>\n",
       "      <th>6_attempts_Win</th>\n",
       "      <th>UserActivity</th>\n",
       "      <th>Cluster</th>\n",
       "    </tr>\n",
       "  </thead>\n",
       "  <tbody>\n",
       "    <tr>\n",
       "      <th>18785</th>\n",
       "      <td>18814393.0</td>\n",
       "      <td>4</td>\n",
       "      <td>4.0</td>\n",
       "      <td>17</td>\n",
       "      <td>100.0</td>\n",
       "      <td>0</td>\n",
       "      <td>0</td>\n",
       "      <td>0</td>\n",
       "      <td>1</td>\n",
       "      <td>1</td>\n",
       "      <td>2</td>\n",
       "      <td>0</td>\n",
       "      <td>2</td>\n",
       "      <td>0</td>\n",
       "    </tr>\n",
       "    <tr>\n",
       "      <th>153137</th>\n",
       "      <td>430181007.0</td>\n",
       "      <td>7</td>\n",
       "      <td>7.0</td>\n",
       "      <td>29</td>\n",
       "      <td>100.0</td>\n",
       "      <td>0</td>\n",
       "      <td>0</td>\n",
       "      <td>0</td>\n",
       "      <td>2</td>\n",
       "      <td>3</td>\n",
       "      <td>1</td>\n",
       "      <td>1</td>\n",
       "      <td>2</td>\n",
       "      <td>0</td>\n",
       "    </tr>\n",
       "    <tr>\n",
       "      <th>150741</th>\n",
       "      <td>410949596.0</td>\n",
       "      <td>1</td>\n",
       "      <td>1.0</td>\n",
       "      <td>3</td>\n",
       "      <td>100.0</td>\n",
       "      <td>0</td>\n",
       "      <td>0</td>\n",
       "      <td>0</td>\n",
       "      <td>1</td>\n",
       "      <td>0</td>\n",
       "      <td>0</td>\n",
       "      <td>0</td>\n",
       "      <td>1</td>\n",
       "      <td>0</td>\n",
       "    </tr>\n",
       "    <tr>\n",
       "      <th>95361</th>\n",
       "      <td>141863649.0</td>\n",
       "      <td>7</td>\n",
       "      <td>7.0</td>\n",
       "      <td>21</td>\n",
       "      <td>100.0</td>\n",
       "      <td>0</td>\n",
       "      <td>0</td>\n",
       "      <td>2</td>\n",
       "      <td>4</td>\n",
       "      <td>0</td>\n",
       "      <td>1</td>\n",
       "      <td>0</td>\n",
       "      <td>2</td>\n",
       "      <td>0</td>\n",
       "    </tr>\n",
       "    <tr>\n",
       "      <th>178687</th>\n",
       "      <td>818606322.0</td>\n",
       "      <td>1</td>\n",
       "      <td>1.0</td>\n",
       "      <td>3</td>\n",
       "      <td>100.0</td>\n",
       "      <td>0</td>\n",
       "      <td>0</td>\n",
       "      <td>0</td>\n",
       "      <td>1</td>\n",
       "      <td>0</td>\n",
       "      <td>0</td>\n",
       "      <td>0</td>\n",
       "      <td>1</td>\n",
       "      <td>0</td>\n",
       "    </tr>\n",
       "  </tbody>\n",
       "</table>\n",
       "</div>"
      ],
      "text/plain": [
       "             UserID  Num_tweets  User_Wins  Total_Attempts  User_Win_Rate  \\\n",
       "18785    18814393.0           4        4.0              17          100.0   \n",
       "153137  430181007.0           7        7.0              29          100.0   \n",
       "150741  410949596.0           1        1.0               3          100.0   \n",
       "95361   141863649.0           7        7.0              21          100.0   \n",
       "178687  818606322.0           1        1.0               3          100.0   \n",
       "\n",
       "        Hard_Mode_Count  1_attempts_Win  2_attempts_Win  3_attempts_Win  \\\n",
       "18785                 0               0               0               1   \n",
       "153137                0               0               0               2   \n",
       "150741                0               0               0               1   \n",
       "95361                 0               0               2               4   \n",
       "178687                0               0               0               1   \n",
       "\n",
       "        4_attempts_Win  5_attempts_Win  6_attempts_Win UserActivity  Cluster  \n",
       "18785                1               2               0            2        0  \n",
       "153137               3               1               1            2        0  \n",
       "150741               0               0               0            1        0  \n",
       "95361                0               1               0            2        0  \n",
       "178687               0               0               0            1        0  "
      ]
     },
     "execution_count": 161,
     "metadata": {},
     "output_type": "execute_result"
    }
   ],
   "source": [
    "kmeans = KMeans(n_clusters=4, random_state=16)\n",
    "\n",
    "# Fit KMeans model to the data\n",
    "kmeans.fit(X_scaled_user)\n",
    "\n",
    "# Get cluster labels\n",
    "cluster_labels = kmeans.labels_\n",
    "\n",
    "# Optionally, add cluster labels back to the dataframe\n",
    "user_clustering['Cluster'] = cluster_labels\n",
    "\n",
    "user_clustering.sample(5).head()"
   ]
  },
  {
   "cell_type": "markdown",
   "id": "3fb769a2-2743-44ed-95c2-0ed105c984f1",
   "metadata": {},
   "source": [
    "Realizziamo alcuni grafici per fare alcune osservazioni sulle caratteristiche che accomunano i dati all'interno di uno stesso cluster. "
   ]
  },
  {
   "cell_type": "code",
   "execution_count": 162,
   "id": "5a0c165d-faf0-4553-ac04-baefd968ce5a",
   "metadata": {
    "metadata": {}
   },
   "outputs": [
    {
     "data": {
      "image/png": "[encoded data removed]",
      "text/plain": [
       "<Figure size 2000x600 with 4 Axes>"
      ]
     },
     "metadata": {},
     "output_type": "display_data"
    }
   ],
   "source": [
    "# Group win rate by cluster\n",
    "clusters = user_clustering['Cluster'].unique()\n",
    "\n",
    "# Create subplots\n",
    "fig, axs = plt.subplots(1, 4, figsize=(20, 6), sharey=True)\n",
    "\n",
    "# Plot box plots for each cluster\n",
    "for i, cluster in enumerate(clusters):\n",
    "    win_rates = user_clustering[user_clustering['Cluster'] == cluster]['User_Win_Rate']\n",
    "    axs[i].boxplot(win_rates)\n",
    "    axs[i].set_title(f'Cluster {cluster}')\n",
    "    if i == 0:\n",
    "        axs[i].set_ylabel('Win Rate')\n",
    "\n",
    "plt.show()"
   ]
  },
  {
   "cell_type": "markdown",
   "id": "3e1091f1-a530-41c2-9e2b-ba3c883839ef",
   "metadata": {},
   "source": [
    "**TODO:**\n",
    "Possiamo notare innanzitutto come nei cluster 0, 2 e 3 siano raccolti gli utenti con win rate per la maggior parte alto, mentre nel cluster 3 sono raccolti gli utenti con win rate per la maggior parte basso. "
   ]
  },
  {
   "cell_type": "code",
   "execution_count": 163,
   "id": "61685941-a7fb-40e0-a587-a87e8f12e605",
   "metadata": {
    "metadata": {}
   },
   "outputs": [
    {
     "data": {
      "image/png": "[encoded data removed]",
      "text/plain": [
       "<Figure size 600x600 with 1 Axes>"
      ]
     },
     "metadata": {},
     "output_type": "display_data"
    },
    {
     "data": {
      "image/png": "[encoded data removed]",
      "text/plain": [
       "<Figure size 600x600 with 1 Axes>"
      ]
     },
     "metadata": {},
     "output_type": "display_data"
    },
    {
     "data": {
      "image/png": "[encoded data removed]",
      "text/plain": [
       "<Figure size 600x600 with 1 Axes>"
      ]
     },
     "metadata": {},
     "output_type": "display_data"
    },
    {
     "data": {
      "image/png": "[encoded data removed]",
      "text/plain": [
       "<Figure size 600x600 with 1 Axes>"
      ]
     },
     "metadata": {},
     "output_type": "display_data"
    }
   ],
   "source": [
    "# Group by cluster and sum the attempts columns\n",
    "cluster_attempts = user_clustering.groupby('Cluster')[['1_attempts_Win', '2_attempts_Win', '3_attempts_Win', '4_attempts_Win', '5_attempts_Win', '6_attempts_Win']].sum()\n",
    "\n",
    "for cluster in cluster_attempts.index:\n",
    "    plt.figure(figsize=(6, 6))\n",
    "    plt.bar(range(1, 7), cluster_attempts.loc[cluster])\n",
    "    plt.title(f'Attempts Distribution for Cluster {cluster}')\n",
    "    plt.xlabel('Number of Attempts')\n",
    "    plt.ylabel('Frequency')\n",
    "    plt.xticks(range(1, 7))\n",
    "    plt.show()"
   ]
  },
  {
   "cell_type": "markdown",
   "id": "7e147289-0c48-4192-a488-4519d45a3244",
   "metadata": {},
   "source": [
    "**TODO**\n",
    "Possiamo notare innanzitutto come nei cluster 0, 1 e 2 la distribuzione di vittorie per tentativi sia all'apparenza simile nell'andamento (con un picco in tentativi, 3 e 5 circa simili e a decrescere 6, 2 e 1), tuttavia il cluster 0 contiene più elementi del cluster 2 e il cluster 2 contiene più elementi del cluster 1. L'unico cluster differente è il cluster 3, il quale, oltre ad avere un numero estramemente basso di punti che lo caratterizzano (di 10^2), possiede una distribuzione di tentativi vincenti diversa, in ordine crescente da 1 a 6."
   ]
  },
  {
   "cell_type": "code",
   "execution_count": 155,
   "id": "6af8e031-4221-4382-8873-d11efe7dc0ed",
   "metadata": {
    "metadata": {}
   },
   "outputs": [
    {
     "name": "stdout",
     "output_type": "stream",
     "text": [
      "Cluster 0 size: 229324\n",
      "Cluster 1 size: 147950\n",
      "Cluster 2 size: 18764\n",
      "Cluster 3 size: 10485\n"
     ]
    }
   ],
   "source": [
    "print(\"Cluster 0 size:\", user_clustering[user_clustering['Cluster'] == 0].shape[0])\n",
    "print(\"Cluster 1 size:\",user_clustering[user_clustering['Cluster'] == 1].shape[0])\n",
    "print(\"Cluster 2 size:\",user_clustering[user_clustering['Cluster'] == 2].shape[0])\n",
    "print(\"Cluster 3 size:\",user_clustering[user_clustering['Cluster'] == 3].shape[0])"
   ]
  },
  {
   "cell_type": "code",
   "execution_count": 124,
   "id": "bf665f68-be0c-4de7-89c6-4146812c06ee",
   "metadata": {
    "metadata": {}
   },
   "outputs": [
    {
     "name": "stdout",
     "output_type": "stream",
     "text": [
      "0.37711706152672003\n",
      "0.1514061254696573\n",
      "0.06462351904435523\n",
      "0.22214713265109096\n"
     ]
    }
   ],
   "source": [
    "print(user_clustering[user_clustering['Cluster'] == 0]['Hard_Mode_Count'].sum()/user_clustering[user_clustering['Cluster'] == 0].shape[0])\n",
    "print(user_clustering[user_clustering['Cluster'] == 1]['Hard_Mode_Count'].sum()/user_clustering[user_clustering['Cluster'] == 1].shape[0])\n",
    "print(user_clustering[user_clustering['Cluster'] == 2]['Hard_Mode_Count'].sum()/user_clustering[user_clustering['Cluster'] == 2].shape[0])\n",
    "print(user_clustering[user_clustering['Cluster'] == 3]['Hard_Mode_Count'].sum()/user_clustering[user_clustering['Cluster'] == 3].shape[0])"
   ]
  },
  {
   "cell_type": "markdown",
   "id": "c625dd32-84d4-459f-af47-88419ef7aaee",
   "metadata": {},
   "source": [
    "La frazione di partite eseguite in modalità difficile è maggiore nel cluster 0."
   ]
  },
  {
   "cell_type": "markdown",
   "id": "c84babdc",
   "metadata": {},
   "source": [
    "In linea con il nostro obiettivo analitico, andiamo a vedere il numero medio di tweet per i vari cluster"
   ]
  }
 ],
 "metadata": {
  "kernelspec": {
   "display_name": "Python 3 (ipykernel)",
   "language": "python",
   "name": "python3"
  },
  "language_info": {
   "codemirror_mode": {
    "name": "ipython",
    "version": 3
   },
   "file_extension": ".py",
   "mimetype": "text/x-python",
   "name": "python",
   "nbconvert_exporter": "python",
   "pygments_lexer": "ipython3",
   "version": "3.12.3"
  }
 },
 "nbformat": 4,
 "nbformat_minor": 5
}
