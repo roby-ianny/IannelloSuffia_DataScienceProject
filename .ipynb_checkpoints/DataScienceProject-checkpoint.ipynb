{
 "cells": [
  {
   "cell_type": "markdown",
   "id": "859fb446-65a8-450b-91b9-39bb45a540c2",
   "metadata": {},
   "source": [
    "# Wordle Tweet Dataset\n"
   ]
  },
  {
   "cell_type": "code",
   "execution_count": 19,
   "id": "60ed4388-0c3d-40de-a935-973b0e91ab48",
   "metadata": {},
   "outputs": [],
   "source": [
    "import pandas as pd \n",
    "import matplotlib.pyplot as plt \n",
    "import numpy as np\n",
    "import re\n",
    "import scipy.stats as stats\n",
    "import sklearn"
   ]
  },
  {
   "cell_type": "markdown",
   "id": "6b30585a",
   "metadata": {},
   "source": [
    "Cominciamo importando il Dataset e visualizziamo alcune informazioni sulla tabella"
   ]
  },
  {
   "cell_type": "code",
   "execution_count": 20,
   "id": "52135c8a-8c0b-4648-9822-5595fdf9883d",
   "metadata": {},
   "outputs": [
    {
     "name": "stdout",
     "output_type": "stream",
     "text": [
      "<class 'pandas.core.frame.DataFrame'>\n",
      "RangeIndex: 2140196 entries, 0 to 2140195\n",
      "Data columns (total 10 columns):\n",
      " #   Column           Dtype  \n",
      "---  ------           -----  \n",
      " 0   WordleID         int64  \n",
      " 1   ID               int64  \n",
      " 2   Created_At       object \n",
      " 3   Text             object \n",
      " 4   Source           object \n",
      " 5   UserID           float64\n",
      " 6   Username         object \n",
      " 7   User_ScreenName  object \n",
      " 8   Location         object \n",
      " 9   Truncated        bool   \n",
      "dtypes: bool(1), float64(1), int64(2), object(6)\n",
      "memory usage: 149.0+ MB\n"
     ]
    }
   ],
   "source": [
    "wordle = pd.read_csv(\"WordleMegaData.csv\")\n",
    "wordle.info()"
   ]
  },
  {
   "cell_type": "markdown",
   "id": "ada4d692",
   "metadata": {},
   "source": [
    "Andiamo ora a visualizzare le prime occorrenze della tabella"
   ]
  },
  {
   "cell_type": "code",
   "execution_count": 21,
   "id": "fe80e003-4609-4a4e-92cd-b2069282aaea",
   "metadata": {},
   "outputs": [
    {
     "data": {
      "text/html": [
       "<div>\n",
       "<style scoped>\n",
       "    .dataframe tbody tr th:only-of-type {\n",
       "        vertical-align: middle;\n",
       "    }\n",
       "\n",
       "    .dataframe tbody tr th {\n",
       "        vertical-align: top;\n",
       "    }\n",
       "\n",
       "    .dataframe thead th {\n",
       "        text-align: right;\n",
       "    }\n",
       "</style>\n",
       "<table border=\"1\" class=\"dataframe\">\n",
       "  <thead>\n",
       "    <tr style=\"text-align: right;\">\n",
       "      <th></th>\n",
       "      <th>WordleID</th>\n",
       "      <th>ID</th>\n",
       "      <th>Created_At</th>\n",
       "      <th>Text</th>\n",
       "      <th>Source</th>\n",
       "      <th>UserID</th>\n",
       "      <th>Username</th>\n",
       "      <th>User_ScreenName</th>\n",
       "      <th>Location</th>\n",
       "      <th>Truncated</th>\n",
       "    </tr>\n",
       "  </thead>\n",
       "  <tbody>\n",
       "    <tr>\n",
       "      <th>0</th>\n",
       "      <td>254</td>\n",
       "      <td>1498447921448034305</td>\n",
       "      <td>2022-02-28 23:59:58+00:00</td>\n",
       "      <td>Wordle 254 3/6\\n\\n🟨🟨⬛⬛⬛\\n🟨⬛🟨⬛🟩\\n🟩🟩🟩🟩🟩</td>\n",
       "      <td>Twitter for iPhone</td>\n",
       "      <td>3.681676e+07</td>\n",
       "      <td>Leslie Brown</td>\n",
       "      <td>live_laugh_pray</td>\n",
       "      <td>Haida Gwaii</td>\n",
       "      <td>False</td>\n",
       "    </tr>\n",
       "    <tr>\n",
       "      <th>1</th>\n",
       "      <td>254</td>\n",
       "      <td>1498447918184996864</td>\n",
       "      <td>2022-02-28 23:59:58+00:00</td>\n",
       "      <td>Wordle 254 4/6\\n\\n⬛⬛⬛⬛🟩\\n⬛⬛⬛⬛🟩\\n⬛🟩⬛⬛🟩\\n🟩🟩🟩🟩🟩\\n...</td>\n",
       "      <td>Twitter for iPhone</td>\n",
       "      <td>4.825910e+08</td>\n",
       "      <td>Dylan Sobo</td>\n",
       "      <td>DaBolt727</td>\n",
       "      <td>Largo, FL / Bradenton|FGCU</td>\n",
       "      <td>False</td>\n",
       "    </tr>\n",
       "    <tr>\n",
       "      <th>2</th>\n",
       "      <td>254</td>\n",
       "      <td>1498447910173921282</td>\n",
       "      <td>2022-02-28 23:59:56+00:00</td>\n",
       "      <td>Wordle 254 3/6\\n\\n⬛⬛⬛⬛🟩\\n⬛⬛🟩⬛🟩\\n🟩🟩🟩🟩🟩</td>\n",
       "      <td>Twitter for iPhone</td>\n",
       "      <td>1.397624e+18</td>\n",
       "      <td>🖤</td>\n",
       "      <td>wengojos</td>\n",
       "      <td>23 • she/her • 🇵🇭🇺🇸</td>\n",
       "      <td>False</td>\n",
       "    </tr>\n",
       "    <tr>\n",
       "      <th>3</th>\n",
       "      <td>254</td>\n",
       "      <td>1498447901797801989</td>\n",
       "      <td>2022-02-28 23:59:54+00:00</td>\n",
       "      <td>Wordle 254 3/6\\n\\n⬛⬛⬛🟨⬛\\n⬛🟨⬛⬛🟩\\n🟩🟩🟩🟩🟩</td>\n",
       "      <td>Twitter for iPhone</td>\n",
       "      <td>1.255905e+18</td>\n",
       "      <td>Dustin Waters</td>\n",
       "      <td>DustinWaters12</td>\n",
       "      <td>NaN</td>\n",
       "      <td>False</td>\n",
       "    </tr>\n",
       "    <tr>\n",
       "      <th>4</th>\n",
       "      <td>254</td>\n",
       "      <td>1498447896911527938</td>\n",
       "      <td>2022-02-28 23:59:53+00:00</td>\n",
       "      <td>Wordle 254 3/6\\n\\n⬛🟨⬛⬛⬛\\n🟩🟩🟩⬛🟩\\n🟩🟩🟩🟩🟩</td>\n",
       "      <td>Twitter for iPhone</td>\n",
       "      <td>2.528937e+08</td>\n",
       "      <td>R. Colin</td>\n",
       "      <td>rollin_fatty</td>\n",
       "      <td>Richmond, VA</td>\n",
       "      <td>False</td>\n",
       "    </tr>\n",
       "  </tbody>\n",
       "</table>\n",
       "</div>"
      ],
      "text/plain": [
       "   WordleID                   ID                 Created_At  \\\n",
       "0       254  1498447921448034305  2022-02-28 23:59:58+00:00   \n",
       "1       254  1498447918184996864  2022-02-28 23:59:58+00:00   \n",
       "2       254  1498447910173921282  2022-02-28 23:59:56+00:00   \n",
       "3       254  1498447901797801989  2022-02-28 23:59:54+00:00   \n",
       "4       254  1498447896911527938  2022-02-28 23:59:53+00:00   \n",
       "\n",
       "                                                Text              Source  \\\n",
       "0              Wordle 254 3/6\\n\\n🟨🟨⬛⬛⬛\\n🟨⬛🟨⬛🟩\\n🟩🟩🟩🟩🟩  Twitter for iPhone   \n",
       "1  Wordle 254 4/6\\n\\n⬛⬛⬛⬛🟩\\n⬛⬛⬛⬛🟩\\n⬛🟩⬛⬛🟩\\n🟩🟩🟩🟩🟩\\n...  Twitter for iPhone   \n",
       "2              Wordle 254 3/6\\n\\n⬛⬛⬛⬛🟩\\n⬛⬛🟩⬛🟩\\n🟩🟩🟩🟩🟩  Twitter for iPhone   \n",
       "3              Wordle 254 3/6\\n\\n⬛⬛⬛🟨⬛\\n⬛🟨⬛⬛🟩\\n🟩🟩🟩🟩🟩  Twitter for iPhone   \n",
       "4              Wordle 254 3/6\\n\\n⬛🟨⬛⬛⬛\\n🟩🟩🟩⬛🟩\\n🟩🟩🟩🟩🟩  Twitter for iPhone   \n",
       "\n",
       "         UserID       Username  User_ScreenName                    Location  \\\n",
       "0  3.681676e+07   Leslie Brown  live_laugh_pray                 Haida Gwaii   \n",
       "1  4.825910e+08     Dylan Sobo        DaBolt727  Largo, FL / Bradenton|FGCU   \n",
       "2  1.397624e+18              🖤         wengojos         23 • she/her • 🇵🇭🇺🇸   \n",
       "3  1.255905e+18  Dustin Waters   DustinWaters12                         NaN   \n",
       "4  2.528937e+08       R. Colin     rollin_fatty                Richmond, VA   \n",
       "\n",
       "   Truncated  \n",
       "0      False  \n",
       "1      False  \n",
       "2      False  \n",
       "3      False  \n",
       "4      False  "
      ]
     },
     "execution_count": 21,
     "metadata": {},
     "output_type": "execute_result"
    }
   ],
   "source": [
    "wordle.head()"
   ]
  },
  {
   "cell_type": "markdown",
   "id": "03a58eff-71e0-4c12-aaca-c0bea8158c40",
   "metadata": {},
   "source": [
    "## Pulizia dei dati"
   ]
  },
  {
   "cell_type": "markdown",
   "id": "f6dcef10-028a-4c80-b110-a3acc302d9b9",
   "metadata": {},
   "source": [
    "Per ogni carattersitica andiamo a visualizzare il numero di elementi nulli."
   ]
  },
  {
   "cell_type": "code",
   "execution_count": 22,
   "id": "f69deb5d-9de8-498c-a33c-768f466affb9",
   "metadata": {},
   "outputs": [
    {
     "data": {
      "text/plain": [
       "WordleID                0\n",
       "ID                      0\n",
       "Created_At              0\n",
       "Text                    0\n",
       "Source                  0\n",
       "UserID                  0\n",
       "Username               89\n",
       "User_ScreenName         0\n",
       "Location           573361\n",
       "Truncated               0\n",
       "dtype: int64"
      ]
     },
     "execution_count": 22,
     "metadata": {},
     "output_type": "execute_result"
    }
   ],
   "source": [
    "wordle.isnull().sum()"
   ]
  },
  {
   "cell_type": "markdown",
   "id": "0172a1bf-6c7f-4e75-8e9b-ea4ae568f754",
   "metadata": {},
   "source": [
    "La caratteristica 'ID' rappresenta l'ID del tweet e quindi deve essere unica. Verifichiamo che sia così."
   ]
  },
  {
   "cell_type": "code",
   "execution_count": 23,
   "id": "6a86f571-fd13-4035-a9e2-711fe4de7c04",
   "metadata": {},
   "outputs": [
    {
     "name": "stdout",
     "output_type": "stream",
     "text": [
      "Number of rows where 'ID' is unique: 2140187\n",
      "Total number of rows: 2140196\n"
     ]
    }
   ],
   "source": [
    "num_unique_elements = wordle['ID'].nunique()\n",
    "total_elements = len(wordle['ID'])\n",
    "\n",
    "print(\"Number of rows where 'ID' is unique:\", num_unique_elements)\n",
    "print(\"Total number of rows:\", total_elements)"
   ]
  },
  {
   "cell_type": "markdown",
   "id": "f6d3d607-5b93-41d1-8d45-3fd241ec1af0",
   "metadata": {},
   "source": [
    "Sono presenti dei duplicati, li eliminiamo."
   ]
  },
  {
   "cell_type": "code",
   "execution_count": 24,
   "id": "e2ae2645-8290-481d-9026-1d8ba9e6e455",
   "metadata": {},
   "outputs": [
    {
     "data": {
      "text/plain": [
       "(2140178, 10)"
      ]
     },
     "execution_count": 24,
     "metadata": {},
     "output_type": "execute_result"
    }
   ],
   "source": [
    "wordle = wordle.drop_duplicates(subset=['ID'], keep=False)\n",
    "wordle.shape"
   ]
  },
  {
   "cell_type": "markdown",
   "id": "9f45cb7c",
   "metadata": {},
   "source": [
    "Ora che le nostre occorrenze sono uniche, andiamo a effettuare una pulizia del testo, mantenendo solamente le informazioni riguardanti la partita a wordle. \n",
    "Inoltre dal testo generiamo una colonna \"Attempts\" che rappresenta il numero di tentativi effettuati per indovinare la parola o la X nel caso di fallimento."
   ]
  },
  {
   "cell_type": "code",
   "execution_count": 25,
   "id": "dadf73da-dc39-4560-b7eb-6fb618adc1b3",
   "metadata": {},
   "outputs": [
    {
     "data": {
      "text/html": [
       "<div>\n",
       "<style scoped>\n",
       "    .dataframe tbody tr th:only-of-type {\n",
       "        vertical-align: middle;\n",
       "    }\n",
       "\n",
       "    .dataframe tbody tr th {\n",
       "        vertical-align: top;\n",
       "    }\n",
       "\n",
       "    .dataframe thead th {\n",
       "        text-align: right;\n",
       "    }\n",
       "</style>\n",
       "<table border=\"1\" class=\"dataframe\">\n",
       "  <thead>\n",
       "    <tr style=\"text-align: right;\">\n",
       "      <th></th>\n",
       "      <th>WordleID</th>\n",
       "      <th>ID</th>\n",
       "      <th>Created_At</th>\n",
       "      <th>Text</th>\n",
       "      <th>Source</th>\n",
       "      <th>UserID</th>\n",
       "      <th>Username</th>\n",
       "      <th>User_ScreenName</th>\n",
       "      <th>Location</th>\n",
       "      <th>Truncated</th>\n",
       "      <th>Attempts</th>\n",
       "    </tr>\n",
       "  </thead>\n",
       "  <tbody>\n",
       "    <tr>\n",
       "      <th>0</th>\n",
       "      <td>254</td>\n",
       "      <td>1498447921448034305</td>\n",
       "      <td>2022-02-28 23:59:58+00:00</td>\n",
       "      <td>Wordle 254 3/6\\n\\n🟨🟨⬛⬛⬛\\n🟨⬛🟨⬛🟩\\n🟩🟩🟩🟩🟩</td>\n",
       "      <td>Twitter for iPhone</td>\n",
       "      <td>3.681676e+07</td>\n",
       "      <td>Leslie Brown</td>\n",
       "      <td>live_laugh_pray</td>\n",
       "      <td>Haida Gwaii</td>\n",
       "      <td>False</td>\n",
       "      <td>3</td>\n",
       "    </tr>\n",
       "    <tr>\n",
       "      <th>1</th>\n",
       "      <td>254</td>\n",
       "      <td>1498447918184996864</td>\n",
       "      <td>2022-02-28 23:59:58+00:00</td>\n",
       "      <td>Wordle 254 4/6\\n\\n⬛⬛⬛⬛🟩\\n⬛⬛⬛⬛🟩\\n⬛🟩⬛⬛🟩\\n🟩🟩🟩🟩🟩\\n...</td>\n",
       "      <td>Twitter for iPhone</td>\n",
       "      <td>4.825910e+08</td>\n",
       "      <td>Dylan Sobo</td>\n",
       "      <td>DaBolt727</td>\n",
       "      <td>Largo, FL / Bradenton|FGCU</td>\n",
       "      <td>False</td>\n",
       "      <td>4</td>\n",
       "    </tr>\n",
       "    <tr>\n",
       "      <th>2</th>\n",
       "      <td>254</td>\n",
       "      <td>1498447910173921282</td>\n",
       "      <td>2022-02-28 23:59:56+00:00</td>\n",
       "      <td>Wordle 254 3/6\\n\\n⬛⬛⬛⬛🟩\\n⬛⬛🟩⬛🟩\\n🟩🟩🟩🟩🟩</td>\n",
       "      <td>Twitter for iPhone</td>\n",
       "      <td>1.397624e+18</td>\n",
       "      <td>🖤</td>\n",
       "      <td>wengojos</td>\n",
       "      <td>23 • she/her • 🇵🇭🇺🇸</td>\n",
       "      <td>False</td>\n",
       "      <td>3</td>\n",
       "    </tr>\n",
       "    <tr>\n",
       "      <th>3</th>\n",
       "      <td>254</td>\n",
       "      <td>1498447901797801989</td>\n",
       "      <td>2022-02-28 23:59:54+00:00</td>\n",
       "      <td>Wordle 254 3/6\\n\\n⬛⬛⬛🟨⬛\\n⬛🟨⬛⬛🟩\\n🟩🟩🟩🟩🟩</td>\n",
       "      <td>Twitter for iPhone</td>\n",
       "      <td>1.255905e+18</td>\n",
       "      <td>Dustin Waters</td>\n",
       "      <td>DustinWaters12</td>\n",
       "      <td>NaN</td>\n",
       "      <td>False</td>\n",
       "      <td>3</td>\n",
       "    </tr>\n",
       "    <tr>\n",
       "      <th>4</th>\n",
       "      <td>254</td>\n",
       "      <td>1498447896911527938</td>\n",
       "      <td>2022-02-28 23:59:53+00:00</td>\n",
       "      <td>Wordle 254 3/6\\n\\n⬛🟨⬛⬛⬛\\n🟩🟩🟩⬛🟩\\n🟩🟩🟩🟩🟩</td>\n",
       "      <td>Twitter for iPhone</td>\n",
       "      <td>2.528937e+08</td>\n",
       "      <td>R. Colin</td>\n",
       "      <td>rollin_fatty</td>\n",
       "      <td>Richmond, VA</td>\n",
       "      <td>False</td>\n",
       "      <td>3</td>\n",
       "    </tr>\n",
       "  </tbody>\n",
       "</table>\n",
       "</div>"
      ],
      "text/plain": [
       "   WordleID                   ID                 Created_At  \\\n",
       "0       254  1498447921448034305  2022-02-28 23:59:58+00:00   \n",
       "1       254  1498447918184996864  2022-02-28 23:59:58+00:00   \n",
       "2       254  1498447910173921282  2022-02-28 23:59:56+00:00   \n",
       "3       254  1498447901797801989  2022-02-28 23:59:54+00:00   \n",
       "4       254  1498447896911527938  2022-02-28 23:59:53+00:00   \n",
       "\n",
       "                                                Text              Source  \\\n",
       "0              Wordle 254 3/6\\n\\n🟨🟨⬛⬛⬛\\n🟨⬛🟨⬛🟩\\n🟩🟩🟩🟩🟩  Twitter for iPhone   \n",
       "1  Wordle 254 4/6\\n\\n⬛⬛⬛⬛🟩\\n⬛⬛⬛⬛🟩\\n⬛🟩⬛⬛🟩\\n🟩🟩🟩🟩🟩\\n...  Twitter for iPhone   \n",
       "2              Wordle 254 3/6\\n\\n⬛⬛⬛⬛🟩\\n⬛⬛🟩⬛🟩\\n🟩🟩🟩🟩🟩  Twitter for iPhone   \n",
       "3              Wordle 254 3/6\\n\\n⬛⬛⬛🟨⬛\\n⬛🟨⬛⬛🟩\\n🟩🟩🟩🟩🟩  Twitter for iPhone   \n",
       "4              Wordle 254 3/6\\n\\n⬛🟨⬛⬛⬛\\n🟩🟩🟩⬛🟩\\n🟩🟩🟩🟩🟩  Twitter for iPhone   \n",
       "\n",
       "         UserID       Username  User_ScreenName                    Location  \\\n",
       "0  3.681676e+07   Leslie Brown  live_laugh_pray                 Haida Gwaii   \n",
       "1  4.825910e+08     Dylan Sobo        DaBolt727  Largo, FL / Bradenton|FGCU   \n",
       "2  1.397624e+18              🖤         wengojos         23 • she/her • 🇵🇭🇺🇸   \n",
       "3  1.255905e+18  Dustin Waters   DustinWaters12                         NaN   \n",
       "4  2.528937e+08       R. Colin     rollin_fatty                Richmond, VA   \n",
       "\n",
       "   Truncated Attempts  \n",
       "0      False        3  \n",
       "1      False        4  \n",
       "2      False        3  \n",
       "3      False        3  \n",
       "4      False        3  "
      ]
     },
     "execution_count": 25,
     "metadata": {},
     "output_type": "execute_result"
    }
   ],
   "source": [
    "number_pattern = re.compile(r'(Wordle) (\\d{3}) (([1-6]|X)\\/6)')\n",
    "\n",
    "# Function to extract the number of attempts from each row\n",
    "def extract_attempts(row):\n",
    "    match = number_pattern.search(row)\n",
    "    if match:\n",
    "        return match.group(3).replace('/6', '') \n",
    "    else:\n",
    "        return np.nan\n",
    "\n",
    "# Create a new column with the extracted numbers\n",
    "wordle['Attempts'] = wordle['Text'].apply(extract_attempts)\n",
    "\n",
    "wordle.head()"
   ]
  },
  {
   "cell_type": "markdown",
   "id": "ca3cc7e6",
   "metadata": {},
   "source": [
    "Per estrarre ulteriori informazioni possiamo affidarci alle emoji riportate nei tweet, vi sono una serie di rappresentazioni alternative per la stessa informazione. Inoltre possiamo fare una verifica incrociata con il numero di tentativi per verificare la coerenza delle informazioni.\n",
    "\n",
    "Le informazioni per le varie emoji sono le seguenti:\n",
    "- ⬛ o ⬜ indicano che la lettera non è presente nella parola\n",
    "- 🟦 o 🟨 indicano che la lettera è corretta ma non la sua posizione\n",
    "- 🟩 o 🟧 indicano che la lettera è corretta e anche la sua posizione\n",
    "\n",
    "*Possiamo sfruttare questa informazione per fare ulteriori analisi e/o test statistici, come per esempio, in media quanta gente indovina dopo una certa quantità di quadratini gialli/blu?*"
   ]
  },
  {
   "cell_type": "markdown",
   "id": "fc017399-747f-4845-884e-c5a5c4bd9e64",
   "metadata": {},
   "source": [
    "Eliminiamo le righe che contengono nella colonna Text più occorrenze di una partita perchè ambigue. Quale delle partite nel tweet è stata effettivamente giocata? Quale corrisponde alla partita di oggi? "
   ]
  },
  {
   "cell_type": "code",
   "execution_count": 26,
   "id": "c9bfd938-c6f1-4b25-bc9d-c57336f01a96",
   "metadata": {},
   "outputs": [
    {
     "data": {
      "text/html": [
       "<div>\n",
       "<style scoped>\n",
       "    .dataframe tbody tr th:only-of-type {\n",
       "        vertical-align: middle;\n",
       "    }\n",
       "\n",
       "    .dataframe tbody tr th {\n",
       "        vertical-align: top;\n",
       "    }\n",
       "\n",
       "    .dataframe thead th {\n",
       "        text-align: right;\n",
       "    }\n",
       "</style>\n",
       "<table border=\"1\" class=\"dataframe\">\n",
       "  <thead>\n",
       "    <tr style=\"text-align: right;\">\n",
       "      <th></th>\n",
       "      <th>WordleID</th>\n",
       "      <th>ID</th>\n",
       "      <th>Created_At</th>\n",
       "      <th>Text</th>\n",
       "      <th>Source</th>\n",
       "      <th>UserID</th>\n",
       "      <th>Username</th>\n",
       "      <th>User_ScreenName</th>\n",
       "      <th>Location</th>\n",
       "      <th>Truncated</th>\n",
       "      <th>Attempts</th>\n",
       "      <th>Match</th>\n",
       "    </tr>\n",
       "  </thead>\n",
       "  <tbody>\n",
       "    <tr>\n",
       "      <th>0</th>\n",
       "      <td>254</td>\n",
       "      <td>1498447921448034305</td>\n",
       "      <td>2022-02-28 23:59:58+00:00</td>\n",
       "      <td>Wordle 254 3/6\\n\\n🟨🟨⬛⬛⬛\\n🟨⬛🟨⬛🟩\\n🟩🟩🟩🟩🟩</td>\n",
       "      <td>Twitter for iPhone</td>\n",
       "      <td>3.681676e+07</td>\n",
       "      <td>Leslie Brown</td>\n",
       "      <td>live_laugh_pray</td>\n",
       "      <td>Haida Gwaii</td>\n",
       "      <td>False</td>\n",
       "      <td>3</td>\n",
       "      <td>🟨🟨⬛⬛⬛🟨⬛🟨⬛🟩🟩🟩🟩🟩🟩</td>\n",
       "    </tr>\n",
       "    <tr>\n",
       "      <th>1</th>\n",
       "      <td>254</td>\n",
       "      <td>1498447918184996864</td>\n",
       "      <td>2022-02-28 23:59:58+00:00</td>\n",
       "      <td>Wordle 254 4/6\\n\\n⬛⬛⬛⬛🟩\\n⬛⬛⬛⬛🟩\\n⬛🟩⬛⬛🟩\\n🟩🟩🟩🟩🟩\\n...</td>\n",
       "      <td>Twitter for iPhone</td>\n",
       "      <td>4.825910e+08</td>\n",
       "      <td>Dylan Sobo</td>\n",
       "      <td>DaBolt727</td>\n",
       "      <td>Largo, FL / Bradenton|FGCU</td>\n",
       "      <td>False</td>\n",
       "      <td>4</td>\n",
       "      <td>⬛⬛⬛⬛🟩⬛⬛⬛⬛🟩⬛🟩⬛⬛🟩🟩🟩🟩🟩🟩</td>\n",
       "    </tr>\n",
       "    <tr>\n",
       "      <th>2</th>\n",
       "      <td>254</td>\n",
       "      <td>1498447910173921282</td>\n",
       "      <td>2022-02-28 23:59:56+00:00</td>\n",
       "      <td>Wordle 254 3/6\\n\\n⬛⬛⬛⬛🟩\\n⬛⬛🟩⬛🟩\\n🟩🟩🟩🟩🟩</td>\n",
       "      <td>Twitter for iPhone</td>\n",
       "      <td>1.397624e+18</td>\n",
       "      <td>🖤</td>\n",
       "      <td>wengojos</td>\n",
       "      <td>23 • she/her • 🇵🇭🇺🇸</td>\n",
       "      <td>False</td>\n",
       "      <td>3</td>\n",
       "      <td>⬛⬛⬛⬛🟩⬛⬛🟩⬛🟩🟩🟩🟩🟩🟩</td>\n",
       "    </tr>\n",
       "    <tr>\n",
       "      <th>3</th>\n",
       "      <td>254</td>\n",
       "      <td>1498447901797801989</td>\n",
       "      <td>2022-02-28 23:59:54+00:00</td>\n",
       "      <td>Wordle 254 3/6\\n\\n⬛⬛⬛🟨⬛\\n⬛🟨⬛⬛🟩\\n🟩🟩🟩🟩🟩</td>\n",
       "      <td>Twitter for iPhone</td>\n",
       "      <td>1.255905e+18</td>\n",
       "      <td>Dustin Waters</td>\n",
       "      <td>DustinWaters12</td>\n",
       "      <td>NaN</td>\n",
       "      <td>False</td>\n",
       "      <td>3</td>\n",
       "      <td>⬛⬛⬛🟨⬛⬛🟨⬛⬛🟩🟩🟩🟩🟩🟩</td>\n",
       "    </tr>\n",
       "    <tr>\n",
       "      <th>4</th>\n",
       "      <td>254</td>\n",
       "      <td>1498447896911527938</td>\n",
       "      <td>2022-02-28 23:59:53+00:00</td>\n",
       "      <td>Wordle 254 3/6\\n\\n⬛🟨⬛⬛⬛\\n🟩🟩🟩⬛🟩\\n🟩🟩🟩🟩🟩</td>\n",
       "      <td>Twitter for iPhone</td>\n",
       "      <td>2.528937e+08</td>\n",
       "      <td>R. Colin</td>\n",
       "      <td>rollin_fatty</td>\n",
       "      <td>Richmond, VA</td>\n",
       "      <td>False</td>\n",
       "      <td>3</td>\n",
       "      <td>⬛🟨⬛⬛⬛🟩🟩🟩⬛🟩🟩🟩🟩🟩🟩</td>\n",
       "    </tr>\n",
       "  </tbody>\n",
       "</table>\n",
       "</div>"
      ],
      "text/plain": [
       "   WordleID                   ID                 Created_At  \\\n",
       "0       254  1498447921448034305  2022-02-28 23:59:58+00:00   \n",
       "1       254  1498447918184996864  2022-02-28 23:59:58+00:00   \n",
       "2       254  1498447910173921282  2022-02-28 23:59:56+00:00   \n",
       "3       254  1498447901797801989  2022-02-28 23:59:54+00:00   \n",
       "4       254  1498447896911527938  2022-02-28 23:59:53+00:00   \n",
       "\n",
       "                                                Text              Source  \\\n",
       "0              Wordle 254 3/6\\n\\n🟨🟨⬛⬛⬛\\n🟨⬛🟨⬛🟩\\n🟩🟩🟩🟩🟩  Twitter for iPhone   \n",
       "1  Wordle 254 4/6\\n\\n⬛⬛⬛⬛🟩\\n⬛⬛⬛⬛🟩\\n⬛🟩⬛⬛🟩\\n🟩🟩🟩🟩🟩\\n...  Twitter for iPhone   \n",
       "2              Wordle 254 3/6\\n\\n⬛⬛⬛⬛🟩\\n⬛⬛🟩⬛🟩\\n🟩🟩🟩🟩🟩  Twitter for iPhone   \n",
       "3              Wordle 254 3/6\\n\\n⬛⬛⬛🟨⬛\\n⬛🟨⬛⬛🟩\\n🟩🟩🟩🟩🟩  Twitter for iPhone   \n",
       "4              Wordle 254 3/6\\n\\n⬛🟨⬛⬛⬛\\n🟩🟩🟩⬛🟩\\n🟩🟩🟩🟩🟩  Twitter for iPhone   \n",
       "\n",
       "         UserID       Username  User_ScreenName                    Location  \\\n",
       "0  3.681676e+07   Leslie Brown  live_laugh_pray                 Haida Gwaii   \n",
       "1  4.825910e+08     Dylan Sobo        DaBolt727  Largo, FL / Bradenton|FGCU   \n",
       "2  1.397624e+18              🖤         wengojos         23 • she/her • 🇵🇭🇺🇸   \n",
       "3  1.255905e+18  Dustin Waters   DustinWaters12                         NaN   \n",
       "4  2.528937e+08       R. Colin     rollin_fatty                Richmond, VA   \n",
       "\n",
       "   Truncated Attempts                 Match  \n",
       "0      False        3       🟨🟨⬛⬛⬛🟨⬛🟨⬛🟩🟩🟩🟩🟩🟩  \n",
       "1      False        4  ⬛⬛⬛⬛🟩⬛⬛⬛⬛🟩⬛🟩⬛⬛🟩🟩🟩🟩🟩🟩  \n",
       "2      False        3       ⬛⬛⬛⬛🟩⬛⬛🟩⬛🟩🟩🟩🟩🟩🟩  \n",
       "3      False        3       ⬛⬛⬛🟨⬛⬛🟨⬛⬛🟩🟩🟩🟩🟩🟩  \n",
       "4      False        3       ⬛🟨⬛⬛⬛🟩🟩🟩⬛🟩🟩🟩🟩🟩🟩  "
      ]
     },
     "execution_count": 26,
     "metadata": {},
     "output_type": "execute_result"
    }
   ],
   "source": [
    "colored_squares_pattern = re.compile(r'(\\n[🟨🟩⬛⬜]{5})', flags=re.UNICODE)\n",
    "\n",
    "# Function to extract emojis from a text\n",
    "#def filter_text(row):\n",
    "    #matches = colored_squares_pattern.findall(row['Text'])\n",
    "    #if not matches:\n",
    "        #return np.nan  # Label as NaN if no match found\n",
    "    #filtered_text = '-'.join(''.join(element for element in match) for match in matches)\n",
    "    #return filtered_text\n",
    "\n",
    "def filter_text(row):\n",
    "    matches = colored_squares_pattern.findall(row['Text'])\n",
    "    if not matches:\n",
    "        return np.nan  # Label as NaN if no match found\n",
    "    filtered_text = ''.join(''.join(element for element in match) for match in matches).replace('\\n', '')\n",
    "    return filtered_text\n",
    "\n",
    "# Apply the function to each row and update the 'Text' column\n",
    "wordle['Match'] = wordle.apply(filter_text, axis=1)\n",
    "\n",
    "wordle.head()"
   ]
  },
  {
   "cell_type": "markdown",
   "id": "211ef5b7-146d-48a9-898f-d48ceabe19e1",
   "metadata": {},
   "source": [
    "Match ha circa 50000 valori nulli, da Match possiamo ricavare Attempts, ma non viceversa. Non potendo integrare i valori dove Match è nullo, eliminiamo i campioni coinvolti. "
   ]
  },
  {
   "cell_type": "code",
   "execution_count": 27,
   "id": "9f842613-6bea-4cf8-8644-e4637110be6b",
   "metadata": {},
   "outputs": [
    {
     "name": "stdout",
     "output_type": "stream",
     "text": [
      "WordleID                0\n",
      "ID                      0\n",
      "Created_At              0\n",
      "Text                    0\n",
      "Source                  0\n",
      "UserID                  0\n",
      "Username               89\n",
      "User_ScreenName         0\n",
      "Location           573351\n",
      "Truncated               0\n",
      "Attempts            63226\n",
      "Match               48797\n",
      "dtype: int64\n"
     ]
    },
    {
     "data": {
      "text/plain": [
       "WordleID                0\n",
       "ID                      0\n",
       "Created_At              0\n",
       "Text                    0\n",
       "Source                  0\n",
       "UserID                  0\n",
       "Username               89\n",
       "User_ScreenName         0\n",
       "Location           560927\n",
       "Truncated               0\n",
       "Attempts            42054\n",
       "Match                   0\n",
       "dtype: int64"
      ]
     },
     "execution_count": 27,
     "metadata": {},
     "output_type": "execute_result"
    }
   ],
   "source": [
    "print(wordle.isnull().sum())\n",
    "wordle = wordle.dropna(subset=['Match'])\n",
    "wordle.isnull().sum()"
   ]
  },
  {
   "cell_type": "code",
   "execution_count": 28,
   "id": "6d84d87a-11d4-45a2-8071-4d1a73a3876c",
   "metadata": {},
   "outputs": [],
   "source": [
    "wordle['Match'] = wordle['Match'].astype(str)\n",
    "wordle['Match'] = wordle['Match'].apply(lambda x: [x[i:i+5] for i in range(0, len(x), 5)])"
   ]
  },
  {
   "cell_type": "code",
   "execution_count": 29,
   "id": "2c716c83-acf3-4fd9-9ef2-4e3ff452689e",
   "metadata": {},
   "outputs": [
    {
     "data": {
      "text/html": [
       "<div>\n",
       "<style scoped>\n",
       "    .dataframe tbody tr th:only-of-type {\n",
       "        vertical-align: middle;\n",
       "    }\n",
       "\n",
       "    .dataframe tbody tr th {\n",
       "        vertical-align: top;\n",
       "    }\n",
       "\n",
       "    .dataframe thead th {\n",
       "        text-align: right;\n",
       "    }\n",
       "</style>\n",
       "<table border=\"1\" class=\"dataframe\">\n",
       "  <thead>\n",
       "    <tr style=\"text-align: right;\">\n",
       "      <th></th>\n",
       "      <th>WordleID</th>\n",
       "      <th>ID</th>\n",
       "      <th>Created_At</th>\n",
       "      <th>Text</th>\n",
       "      <th>Source</th>\n",
       "      <th>UserID</th>\n",
       "      <th>Username</th>\n",
       "      <th>User_ScreenName</th>\n",
       "      <th>Location</th>\n",
       "      <th>Truncated</th>\n",
       "      <th>Attempts</th>\n",
       "      <th>Match</th>\n",
       "    </tr>\n",
       "  </thead>\n",
       "  <tbody>\n",
       "    <tr>\n",
       "      <th>0</th>\n",
       "      <td>254</td>\n",
       "      <td>1498447921448034305</td>\n",
       "      <td>2022-02-28 23:59:58+00:00</td>\n",
       "      <td>Wordle 254 3/6\\n\\n🟨🟨⬛⬛⬛\\n🟨⬛🟨⬛🟩\\n🟩🟩🟩🟩🟩</td>\n",
       "      <td>Twitter for iPhone</td>\n",
       "      <td>3.681676e+07</td>\n",
       "      <td>Leslie Brown</td>\n",
       "      <td>live_laugh_pray</td>\n",
       "      <td>Haida Gwaii</td>\n",
       "      <td>False</td>\n",
       "      <td>3</td>\n",
       "      <td>[🟨🟨⬛⬛⬛, 🟨⬛🟨⬛🟩, 🟩🟩🟩🟩🟩]</td>\n",
       "    </tr>\n",
       "    <tr>\n",
       "      <th>1</th>\n",
       "      <td>254</td>\n",
       "      <td>1498447918184996864</td>\n",
       "      <td>2022-02-28 23:59:58+00:00</td>\n",
       "      <td>Wordle 254 4/6\\n\\n⬛⬛⬛⬛🟩\\n⬛⬛⬛⬛🟩\\n⬛🟩⬛⬛🟩\\n🟩🟩🟩🟩🟩\\n...</td>\n",
       "      <td>Twitter for iPhone</td>\n",
       "      <td>4.825910e+08</td>\n",
       "      <td>Dylan Sobo</td>\n",
       "      <td>DaBolt727</td>\n",
       "      <td>Largo, FL / Bradenton|FGCU</td>\n",
       "      <td>False</td>\n",
       "      <td>4</td>\n",
       "      <td>[⬛⬛⬛⬛🟩, ⬛⬛⬛⬛🟩, ⬛🟩⬛⬛🟩, 🟩🟩🟩🟩🟩]</td>\n",
       "    </tr>\n",
       "    <tr>\n",
       "      <th>2</th>\n",
       "      <td>254</td>\n",
       "      <td>1498447910173921282</td>\n",
       "      <td>2022-02-28 23:59:56+00:00</td>\n",
       "      <td>Wordle 254 3/6\\n\\n⬛⬛⬛⬛🟩\\n⬛⬛🟩⬛🟩\\n🟩🟩🟩🟩🟩</td>\n",
       "      <td>Twitter for iPhone</td>\n",
       "      <td>1.397624e+18</td>\n",
       "      <td>🖤</td>\n",
       "      <td>wengojos</td>\n",
       "      <td>23 • she/her • 🇵🇭🇺🇸</td>\n",
       "      <td>False</td>\n",
       "      <td>3</td>\n",
       "      <td>[⬛⬛⬛⬛🟩, ⬛⬛🟩⬛🟩, 🟩🟩🟩🟩🟩]</td>\n",
       "    </tr>\n",
       "    <tr>\n",
       "      <th>3</th>\n",
       "      <td>254</td>\n",
       "      <td>1498447901797801989</td>\n",
       "      <td>2022-02-28 23:59:54+00:00</td>\n",
       "      <td>Wordle 254 3/6\\n\\n⬛⬛⬛🟨⬛\\n⬛🟨⬛⬛🟩\\n🟩🟩🟩🟩🟩</td>\n",
       "      <td>Twitter for iPhone</td>\n",
       "      <td>1.255905e+18</td>\n",
       "      <td>Dustin Waters</td>\n",
       "      <td>DustinWaters12</td>\n",
       "      <td>NaN</td>\n",
       "      <td>False</td>\n",
       "      <td>3</td>\n",
       "      <td>[⬛⬛⬛🟨⬛, ⬛🟨⬛⬛🟩, 🟩🟩🟩🟩🟩]</td>\n",
       "    </tr>\n",
       "    <tr>\n",
       "      <th>4</th>\n",
       "      <td>254</td>\n",
       "      <td>1498447896911527938</td>\n",
       "      <td>2022-02-28 23:59:53+00:00</td>\n",
       "      <td>Wordle 254 3/6\\n\\n⬛🟨⬛⬛⬛\\n🟩🟩🟩⬛🟩\\n🟩🟩🟩🟩🟩</td>\n",
       "      <td>Twitter for iPhone</td>\n",
       "      <td>2.528937e+08</td>\n",
       "      <td>R. Colin</td>\n",
       "      <td>rollin_fatty</td>\n",
       "      <td>Richmond, VA</td>\n",
       "      <td>False</td>\n",
       "      <td>3</td>\n",
       "      <td>[⬛🟨⬛⬛⬛, 🟩🟩🟩⬛🟩, 🟩🟩🟩🟩🟩]</td>\n",
       "    </tr>\n",
       "  </tbody>\n",
       "</table>\n",
       "</div>"
      ],
      "text/plain": [
       "   WordleID                   ID                 Created_At  \\\n",
       "0       254  1498447921448034305  2022-02-28 23:59:58+00:00   \n",
       "1       254  1498447918184996864  2022-02-28 23:59:58+00:00   \n",
       "2       254  1498447910173921282  2022-02-28 23:59:56+00:00   \n",
       "3       254  1498447901797801989  2022-02-28 23:59:54+00:00   \n",
       "4       254  1498447896911527938  2022-02-28 23:59:53+00:00   \n",
       "\n",
       "                                                Text              Source  \\\n",
       "0              Wordle 254 3/6\\n\\n🟨🟨⬛⬛⬛\\n🟨⬛🟨⬛🟩\\n🟩🟩🟩🟩🟩  Twitter for iPhone   \n",
       "1  Wordle 254 4/6\\n\\n⬛⬛⬛⬛🟩\\n⬛⬛⬛⬛🟩\\n⬛🟩⬛⬛🟩\\n🟩🟩🟩🟩🟩\\n...  Twitter for iPhone   \n",
       "2              Wordle 254 3/6\\n\\n⬛⬛⬛⬛🟩\\n⬛⬛🟩⬛🟩\\n🟩🟩🟩🟩🟩  Twitter for iPhone   \n",
       "3              Wordle 254 3/6\\n\\n⬛⬛⬛🟨⬛\\n⬛🟨⬛⬛🟩\\n🟩🟩🟩🟩🟩  Twitter for iPhone   \n",
       "4              Wordle 254 3/6\\n\\n⬛🟨⬛⬛⬛\\n🟩🟩🟩⬛🟩\\n🟩🟩🟩🟩🟩  Twitter for iPhone   \n",
       "\n",
       "         UserID       Username  User_ScreenName                    Location  \\\n",
       "0  3.681676e+07   Leslie Brown  live_laugh_pray                 Haida Gwaii   \n",
       "1  4.825910e+08     Dylan Sobo        DaBolt727  Largo, FL / Bradenton|FGCU   \n",
       "2  1.397624e+18              🖤         wengojos         23 • she/her • 🇵🇭🇺🇸   \n",
       "3  1.255905e+18  Dustin Waters   DustinWaters12                         NaN   \n",
       "4  2.528937e+08       R. Colin     rollin_fatty                Richmond, VA   \n",
       "\n",
       "   Truncated Attempts                         Match  \n",
       "0      False        3         [🟨🟨⬛⬛⬛, 🟨⬛🟨⬛🟩, 🟩🟩🟩🟩🟩]  \n",
       "1      False        4  [⬛⬛⬛⬛🟩, ⬛⬛⬛⬛🟩, ⬛🟩⬛⬛🟩, 🟩🟩🟩🟩🟩]  \n",
       "2      False        3         [⬛⬛⬛⬛🟩, ⬛⬛🟩⬛🟩, 🟩🟩🟩🟩🟩]  \n",
       "3      False        3         [⬛⬛⬛🟨⬛, ⬛🟨⬛⬛🟩, 🟩🟩🟩🟩🟩]  \n",
       "4      False        3         [⬛🟨⬛⬛⬛, 🟩🟩🟩⬛🟩, 🟩🟩🟩🟩🟩]  "
      ]
     },
     "execution_count": 29,
     "metadata": {},
     "output_type": "execute_result"
    }
   ],
   "source": [
    "wordle.head()"
   ]
  },
  {
   "cell_type": "markdown",
   "id": "6548e6aa",
   "metadata": {},
   "source": [
    "L'informazione più affidabile su cui basarsi per identificare un utente all'interno del dataset è UserID. L'assenza di valori nulli per questo attributo ci fornisce maggiore sicurezza. Possiamo allora fare a meno delle colonne Username e User_ScreenName che possono contenere identificativi non unici e modificabili da parte dell'utente nel tempo.\n",
    "\n",
    "Notiamo inoltre che la colonna Location contiene anche valori nulli e valori errati. Come ulteriore verifica, su Kaggle ci viene suggerito che il 27% dei valori è nullo, il 72% non viene associato a una macrocategoria, mentre l'1% dei tweet risulta provenire dagli Stati Uniti. Dopo aver verificato a nostra volta che il numero di valori nulli per questa caratteristica è elevato, eliminiamo la colonna. "
   ]
  },
  {
   "cell_type": "code",
   "execution_count": 30,
   "id": "c528eae7-0830-4516-9158-72a378fcd493",
   "metadata": {},
   "outputs": [],
   "source": [
    "wordle = wordle[wordle['Truncated'] != True]\n",
    "wordle.drop(columns=['Username', 'User_ScreenName', 'Location', 'Truncated', 'Text'], inplace=True)"
   ]
  },
  {
   "cell_type": "markdown",
   "id": "0ac482df-c4cf-4ab7-b503-5e6539199944",
   "metadata": {},
   "source": [
    "Nel nostro dataset a ogni X corrisponde una partita persa, quindi a 6 tentativi. "
   ]
  },
  {
   "cell_type": "code",
   "execution_count": 31,
   "id": "76cd420c-6dfb-4ebb-9b56-1ef7cb37e20e",
   "metadata": {},
   "outputs": [
    {
     "data": {
      "text/plain": [
       "WordleID          0\n",
       "ID                0\n",
       "Created_At        0\n",
       "Source            0\n",
       "UserID            0\n",
       "Attempts      39712\n",
       "Match             0\n",
       "dtype: int64"
      ]
     },
     "execution_count": 31,
     "metadata": {},
     "output_type": "execute_result"
    }
   ],
   "source": [
    "wordle.isnull().sum()"
   ]
  },
  {
   "cell_type": "code",
   "execution_count": 32,
   "id": "c95dca58-447f-481c-84b4-8994c71e2fb0",
   "metadata": {},
   "outputs": [
    {
     "data": {
      "text/html": [
       "<div>\n",
       "<style scoped>\n",
       "    .dataframe tbody tr th:only-of-type {\n",
       "        vertical-align: middle;\n",
       "    }\n",
       "\n",
       "    .dataframe tbody tr th {\n",
       "        vertical-align: top;\n",
       "    }\n",
       "\n",
       "    .dataframe thead th {\n",
       "        text-align: right;\n",
       "    }\n",
       "</style>\n",
       "<table border=\"1\" class=\"dataframe\">\n",
       "  <thead>\n",
       "    <tr style=\"text-align: right;\">\n",
       "      <th></th>\n",
       "      <th>WordleID</th>\n",
       "      <th>ID</th>\n",
       "      <th>Created_At</th>\n",
       "      <th>Source</th>\n",
       "      <th>UserID</th>\n",
       "      <th>Attempts</th>\n",
       "      <th>Match</th>\n",
       "    </tr>\n",
       "  </thead>\n",
       "  <tbody>\n",
       "    <tr>\n",
       "      <th>0</th>\n",
       "      <td>254</td>\n",
       "      <td>1498447921448034305</td>\n",
       "      <td>2022-02-28 23:59:58+00:00</td>\n",
       "      <td>Twitter for iPhone</td>\n",
       "      <td>3.681676e+07</td>\n",
       "      <td>3</td>\n",
       "      <td>[🟨🟨⬛⬛⬛, 🟨⬛🟨⬛🟩, 🟩🟩🟩🟩🟩]</td>\n",
       "    </tr>\n",
       "    <tr>\n",
       "      <th>1</th>\n",
       "      <td>254</td>\n",
       "      <td>1498447918184996864</td>\n",
       "      <td>2022-02-28 23:59:58+00:00</td>\n",
       "      <td>Twitter for iPhone</td>\n",
       "      <td>4.825910e+08</td>\n",
       "      <td>4</td>\n",
       "      <td>[⬛⬛⬛⬛🟩, ⬛⬛⬛⬛🟩, ⬛🟩⬛⬛🟩, 🟩🟩🟩🟩🟩]</td>\n",
       "    </tr>\n",
       "    <tr>\n",
       "      <th>2</th>\n",
       "      <td>254</td>\n",
       "      <td>1498447910173921282</td>\n",
       "      <td>2022-02-28 23:59:56+00:00</td>\n",
       "      <td>Twitter for iPhone</td>\n",
       "      <td>1.397624e+18</td>\n",
       "      <td>3</td>\n",
       "      <td>[⬛⬛⬛⬛🟩, ⬛⬛🟩⬛🟩, 🟩🟩🟩🟩🟩]</td>\n",
       "    </tr>\n",
       "    <tr>\n",
       "      <th>3</th>\n",
       "      <td>254</td>\n",
       "      <td>1498447901797801989</td>\n",
       "      <td>2022-02-28 23:59:54+00:00</td>\n",
       "      <td>Twitter for iPhone</td>\n",
       "      <td>1.255905e+18</td>\n",
       "      <td>3</td>\n",
       "      <td>[⬛⬛⬛🟨⬛, ⬛🟨⬛⬛🟩, 🟩🟩🟩🟩🟩]</td>\n",
       "    </tr>\n",
       "    <tr>\n",
       "      <th>4</th>\n",
       "      <td>254</td>\n",
       "      <td>1498447896911527938</td>\n",
       "      <td>2022-02-28 23:59:53+00:00</td>\n",
       "      <td>Twitter for iPhone</td>\n",
       "      <td>2.528937e+08</td>\n",
       "      <td>3</td>\n",
       "      <td>[⬛🟨⬛⬛⬛, 🟩🟩🟩⬛🟩, 🟩🟩🟩🟩🟩]</td>\n",
       "    </tr>\n",
       "  </tbody>\n",
       "</table>\n",
       "</div>"
      ],
      "text/plain": [
       "   WordleID                   ID                 Created_At  \\\n",
       "0       254  1498447921448034305  2022-02-28 23:59:58+00:00   \n",
       "1       254  1498447918184996864  2022-02-28 23:59:58+00:00   \n",
       "2       254  1498447910173921282  2022-02-28 23:59:56+00:00   \n",
       "3       254  1498447901797801989  2022-02-28 23:59:54+00:00   \n",
       "4       254  1498447896911527938  2022-02-28 23:59:53+00:00   \n",
       "\n",
       "               Source        UserID Attempts                         Match  \n",
       "0  Twitter for iPhone  3.681676e+07        3         [🟨🟨⬛⬛⬛, 🟨⬛🟨⬛🟩, 🟩🟩🟩🟩🟩]  \n",
       "1  Twitter for iPhone  4.825910e+08        4  [⬛⬛⬛⬛🟩, ⬛⬛⬛⬛🟩, ⬛🟩⬛⬛🟩, 🟩🟩🟩🟩🟩]  \n",
       "2  Twitter for iPhone  1.397624e+18        3         [⬛⬛⬛⬛🟩, ⬛⬛🟩⬛🟩, 🟩🟩🟩🟩🟩]  \n",
       "3  Twitter for iPhone  1.255905e+18        3         [⬛⬛⬛🟨⬛, ⬛🟨⬛⬛🟩, 🟩🟩🟩🟩🟩]  \n",
       "4  Twitter for iPhone  2.528937e+08        3         [⬛🟨⬛⬛⬛, 🟩🟩🟩⬛🟩, 🟩🟩🟩🟩🟩]  "
      ]
     },
     "execution_count": 32,
     "metadata": {},
     "output_type": "execute_result"
    }
   ],
   "source": [
    "#wordle['Win'] = ~wordle['Attempts'].isin(['X', np.nan])\n",
    "wordle['Attempts'] = wordle['Attempts'].replace('X', '6')\n",
    "\n",
    "# Print the first few rows to check the result\n",
    "wordle.head()"
   ]
  },
  {
   "cell_type": "code",
   "execution_count": 33,
   "id": "5b79dfd4-f5ea-47c2-945d-b207467337fc",
   "metadata": {},
   "outputs": [
    {
     "data": {
      "text/plain": [
       "WordleID          0\n",
       "ID                0\n",
       "Created_At        0\n",
       "Source            0\n",
       "UserID            0\n",
       "Attempts      39712\n",
       "Match             0\n",
       "dtype: int64"
      ]
     },
     "execution_count": 33,
     "metadata": {},
     "output_type": "execute_result"
    }
   ],
   "source": [
    "wordle.isnull().sum()"
   ]
  },
  {
   "cell_type": "markdown",
   "id": "178c2886-ef8f-46c5-9c1c-5c6d8e384866",
   "metadata": {},
   "source": [
    "Verifichiamo che i nostri dati siano coerenti. Per prima cosa verifichiamo che per ogni campione il numero di gruppi da 5 quadrati consecutivi appena estratto sia uguale al valore contenuto nella caratteristica 'Attempts'. Se i due non sono uguali può significare che la partita riportata nel tweet era sbagliata, che nel tweet è riportata più di una partita o che Attempts non rispecchia la partita presente nel tweet."
   ]
  },
  {
   "cell_type": "code",
   "execution_count": 34,
   "id": "787e4171-e67c-4813-97f5-36fbef4b30d2",
   "metadata": {},
   "outputs": [
    {
     "data": {
      "text/plain": [
       "WordleID      0\n",
       "ID            0\n",
       "Created_At    0\n",
       "Source        0\n",
       "UserID        0\n",
       "Attempts      0\n",
       "Match         0\n",
       "dtype: int64"
      ]
     },
     "execution_count": 34,
     "metadata": {},
     "output_type": "execute_result"
    }
   ],
   "source": [
    "wordle = wordle.dropna(subset=['Attempts'])\n",
    "wordle.isnull().sum()"
   ]
  },
  {
   "cell_type": "code",
   "execution_count": 35,
   "id": "f28ceae2-db44-45d6-878e-f23d3524fb08",
   "metadata": {},
   "outputs": [
    {
     "data": {
      "text/plain": [
       "2033741"
      ]
     },
     "execution_count": 35,
     "metadata": {},
     "output_type": "execute_result"
    }
   ],
   "source": [
    "wordle.shape[0]"
   ]
  },
  {
   "cell_type": "code",
   "execution_count": 36,
   "id": "d5730e0a-161c-402a-b225-a272806671bc",
   "metadata": {},
   "outputs": [
    {
     "name": "stdout",
     "output_type": "stream",
     "text": [
      "Number of rows where the number of elements in 'Match' is not equal to 'Attempts': 11528\n",
      "Total number of rows: 2033741\n"
     ]
    }
   ],
   "source": [
    "\n",
    "wordle['Attempts'] = wordle['Attempts'].astype(int)\n",
    "\n",
    "def verify_length(row):\n",
    "    # Get the length of the 'Text' array\n",
    "    text_length = len(row['Match'])\n",
    "    \n",
    "    # Get the value in the 'Attempts' column\n",
    "    attempts = row['Attempts']\n",
    "    \n",
    "    # Check if the lengths match\n",
    "    return text_length != attempts\n",
    "\n",
    "# Count the number of rows where lengths do not match\n",
    "num_mismatched_rows = wordle.apply(verify_length, axis=1).sum()\n",
    "\n",
    "print(\"Number of rows where the number of elements in 'Match' is not equal to 'Attempts':\", num_mismatched_rows)\n",
    "print(\"Total number of rows:\", wordle.shape[0])"
   ]
  },
  {
   "cell_type": "markdown",
   "id": "02dbaaad-63f6-45fd-9039-b4e3ff1d0f04",
   "metadata": {},
   "source": [
    "Eliminiamo le righe dove c'è incoerenza. "
   ]
  },
  {
   "cell_type": "code",
   "execution_count": 37,
   "id": "284fcaa4-1c93-4b92-af22-096c8f72bb7a",
   "metadata": {},
   "outputs": [
    {
     "name": "stdout",
     "output_type": "stream",
     "text": [
      "2022213\n"
     ]
    },
    {
     "data": {
      "text/html": [
       "<div>\n",
       "<style scoped>\n",
       "    .dataframe tbody tr th:only-of-type {\n",
       "        vertical-align: middle;\n",
       "    }\n",
       "\n",
       "    .dataframe tbody tr th {\n",
       "        vertical-align: top;\n",
       "    }\n",
       "\n",
       "    .dataframe thead th {\n",
       "        text-align: right;\n",
       "    }\n",
       "</style>\n",
       "<table border=\"1\" class=\"dataframe\">\n",
       "  <thead>\n",
       "    <tr style=\"text-align: right;\">\n",
       "      <th></th>\n",
       "      <th>WordleID</th>\n",
       "      <th>ID</th>\n",
       "      <th>Created_At</th>\n",
       "      <th>Source</th>\n",
       "      <th>UserID</th>\n",
       "      <th>Attempts</th>\n",
       "      <th>Match</th>\n",
       "    </tr>\n",
       "  </thead>\n",
       "  <tbody>\n",
       "    <tr>\n",
       "      <th>0</th>\n",
       "      <td>254</td>\n",
       "      <td>1498447921448034305</td>\n",
       "      <td>2022-02-28 23:59:58+00:00</td>\n",
       "      <td>Twitter for iPhone</td>\n",
       "      <td>3.681676e+07</td>\n",
       "      <td>3</td>\n",
       "      <td>[🟨🟨⬛⬛⬛, 🟨⬛🟨⬛🟩, 🟩🟩🟩🟩🟩]</td>\n",
       "    </tr>\n",
       "    <tr>\n",
       "      <th>1</th>\n",
       "      <td>254</td>\n",
       "      <td>1498447918184996864</td>\n",
       "      <td>2022-02-28 23:59:58+00:00</td>\n",
       "      <td>Twitter for iPhone</td>\n",
       "      <td>4.825910e+08</td>\n",
       "      <td>4</td>\n",
       "      <td>[⬛⬛⬛⬛🟩, ⬛⬛⬛⬛🟩, ⬛🟩⬛⬛🟩, 🟩🟩🟩🟩🟩]</td>\n",
       "    </tr>\n",
       "    <tr>\n",
       "      <th>2</th>\n",
       "      <td>254</td>\n",
       "      <td>1498447910173921282</td>\n",
       "      <td>2022-02-28 23:59:56+00:00</td>\n",
       "      <td>Twitter for iPhone</td>\n",
       "      <td>1.397624e+18</td>\n",
       "      <td>3</td>\n",
       "      <td>[⬛⬛⬛⬛🟩, ⬛⬛🟩⬛🟩, 🟩🟩🟩🟩🟩]</td>\n",
       "    </tr>\n",
       "    <tr>\n",
       "      <th>3</th>\n",
       "      <td>254</td>\n",
       "      <td>1498447901797801989</td>\n",
       "      <td>2022-02-28 23:59:54+00:00</td>\n",
       "      <td>Twitter for iPhone</td>\n",
       "      <td>1.255905e+18</td>\n",
       "      <td>3</td>\n",
       "      <td>[⬛⬛⬛🟨⬛, ⬛🟨⬛⬛🟩, 🟩🟩🟩🟩🟩]</td>\n",
       "    </tr>\n",
       "    <tr>\n",
       "      <th>4</th>\n",
       "      <td>254</td>\n",
       "      <td>1498447896911527938</td>\n",
       "      <td>2022-02-28 23:59:53+00:00</td>\n",
       "      <td>Twitter for iPhone</td>\n",
       "      <td>2.528937e+08</td>\n",
       "      <td>3</td>\n",
       "      <td>[⬛🟨⬛⬛⬛, 🟩🟩🟩⬛🟩, 🟩🟩🟩🟩🟩]</td>\n",
       "    </tr>\n",
       "  </tbody>\n",
       "</table>\n",
       "</div>"
      ],
      "text/plain": [
       "   WordleID                   ID                 Created_At  \\\n",
       "0       254  1498447921448034305  2022-02-28 23:59:58+00:00   \n",
       "1       254  1498447918184996864  2022-02-28 23:59:58+00:00   \n",
       "2       254  1498447910173921282  2022-02-28 23:59:56+00:00   \n",
       "3       254  1498447901797801989  2022-02-28 23:59:54+00:00   \n",
       "4       254  1498447896911527938  2022-02-28 23:59:53+00:00   \n",
       "\n",
       "               Source        UserID  Attempts                         Match  \n",
       "0  Twitter for iPhone  3.681676e+07         3         [🟨🟨⬛⬛⬛, 🟨⬛🟨⬛🟩, 🟩🟩🟩🟩🟩]  \n",
       "1  Twitter for iPhone  4.825910e+08         4  [⬛⬛⬛⬛🟩, ⬛⬛⬛⬛🟩, ⬛🟩⬛⬛🟩, 🟩🟩🟩🟩🟩]  \n",
       "2  Twitter for iPhone  1.397624e+18         3         [⬛⬛⬛⬛🟩, ⬛⬛🟩⬛🟩, 🟩🟩🟩🟩🟩]  \n",
       "3  Twitter for iPhone  1.255905e+18         3         [⬛⬛⬛🟨⬛, ⬛🟨⬛⬛🟩, 🟩🟩🟩🟩🟩]  \n",
       "4  Twitter for iPhone  2.528937e+08         3         [⬛🟨⬛⬛⬛, 🟩🟩🟩⬛🟩, 🟩🟩🟩🟩🟩]  "
      ]
     },
     "execution_count": 37,
     "metadata": {},
     "output_type": "execute_result"
    }
   ],
   "source": [
    "# Create a boolean mask indicating whether the number of elements in 'Text' matches 'Attempts'\n",
    "mask = wordle.apply(lambda row: len(row['Match']) == row['Attempts'], axis=1)\n",
    "\n",
    "# Drop the rows where the number of elements in 'Text' does not match 'Attempts'\n",
    "wordle = wordle[mask]\n",
    "\n",
    "# Print the resulting DataFrame\n",
    "print(wordle.shape[0])\n",
    "wordle.head()"
   ]
  },
  {
   "cell_type": "markdown",
   "id": "52338a05-4e1a-4e06-9282-31a6a5adb372",
   "metadata": {},
   "source": [
    "Ora che sappiamo che il numero di gruppi di quadrati consecutivi coincide sempre col numero di tentativi, continuiamo la verifica di coerenza, eliminando tutte quelle righe che contengono valori sbagliati del campo 'Match' (come ad esempio 6 righe di 5 quadrati tutti verdi). "
   ]
  },
  {
   "cell_type": "code",
   "execution_count": 38,
   "id": "e09528b3-d2f7-4e30-9b24-d95777a332e6",
   "metadata": {},
   "outputs": [
    {
     "name": "stdout",
     "output_type": "stream",
     "text": [
      "2022184\n"
     ]
    }
   ],
   "source": [
    "def meets_conditions(row):\n",
    "    # Check if any element in 'Text' contains five 🟩 or five 🟧 emojis\n",
    "    for i, text in enumerate(row['Match']):\n",
    "        if text.count('🟩') == 5: #or text.count('🟧') == 5:\n",
    "            # Check if it's the last element of the array\n",
    "            if i == len(row['Match']) - 1:\n",
    "                # If the condition is met and it's the last element, check if it's the only one\n",
    "                num_matching_elements = sum(1 for t in row['Match'] if t.count('🟩') == 5) #or t.count('🟧') == 5)\n",
    "                if num_matching_elements == 1:\n",
    "                    return True\n",
    "                else:\n",
    "                    return False\n",
    "            else:\n",
    "                return False\n",
    "    # If no element contains five 🟩 or five 🟧 emojis, return True\n",
    "    return True\n",
    "\n",
    "wrong_rows = wordle[~wordle.apply(meets_conditions, axis=1)]\n",
    "\n",
    "# Apply the function to each row of the DataFrame to filter out rows that don't meet the conditions\n",
    "wordle = wordle[wordle.apply(meets_conditions, axis=1)]\n",
    "print(wordle.shape[0])"
   ]
  },
  {
   "cell_type": "code",
   "execution_count": 39,
   "id": "6661b4f4-1d65-4396-83b0-5c0524081869",
   "metadata": {},
   "outputs": [
    {
     "data": {
      "text/html": [
       "<div>\n",
       "<style scoped>\n",
       "    .dataframe tbody tr th:only-of-type {\n",
       "        vertical-align: middle;\n",
       "    }\n",
       "\n",
       "    .dataframe tbody tr th {\n",
       "        vertical-align: top;\n",
       "    }\n",
       "\n",
       "    .dataframe thead th {\n",
       "        text-align: right;\n",
       "    }\n",
       "</style>\n",
       "<table border=\"1\" class=\"dataframe\">\n",
       "  <thead>\n",
       "    <tr style=\"text-align: right;\">\n",
       "      <th></th>\n",
       "      <th>WordleID</th>\n",
       "      <th>ID</th>\n",
       "      <th>Created_At</th>\n",
       "      <th>Source</th>\n",
       "      <th>UserID</th>\n",
       "      <th>Attempts</th>\n",
       "      <th>Match</th>\n",
       "    </tr>\n",
       "  </thead>\n",
       "  <tbody>\n",
       "    <tr>\n",
       "      <th>29140</th>\n",
       "      <td>255</td>\n",
       "      <td>1498772741654261763</td>\n",
       "      <td>2022-03-01 21:30:42+00:00</td>\n",
       "      <td>Twitter for Android</td>\n",
       "      <td>1.420928e+18</td>\n",
       "      <td>5</td>\n",
       "      <td>[🟩🟩🟩🟩🟩, 🟩🟩🟩🟩🟩, 🟩🟩🟩🟩🟩, 🟩🟩🟩🟩🟩, 🟩🟩🟩🟩🟩]</td>\n",
       "    </tr>\n",
       "    <tr>\n",
       "      <th>44728</th>\n",
       "      <td>256</td>\n",
       "      <td>1499150725229826052</td>\n",
       "      <td>2022-03-02 22:32:40+00:00</td>\n",
       "      <td>Twitter for iPhone</td>\n",
       "      <td>1.190034e+18</td>\n",
       "      <td>6</td>\n",
       "      <td>[🟩🟩🟩🟩🟩, 🟩🟩🟩🟩🟩, 🟩🟩🟩🟩🟩, 🟩🟩🟩🟩🟩, 🟩🟩🟩🟩🟩, 🟩🟩🟩🟩🟩]</td>\n",
       "    </tr>\n",
       "    <tr>\n",
       "      <th>45083</th>\n",
       "      <td>256</td>\n",
       "      <td>1499149451822260228</td>\n",
       "      <td>2022-03-02 22:27:36+00:00</td>\n",
       "      <td>Twitter for iPhone</td>\n",
       "      <td>1.481837e+18</td>\n",
       "      <td>6</td>\n",
       "      <td>[🟩🟩🟩🟩🟩, 🟩🟩🟩🟩🟩, 🟩🟩🟩🟩🟩, 🟩🟩🟩🟩🟩, 🟩🟩🟩🟩🟩, 🟩🟩🟩🟩🟩]</td>\n",
       "    </tr>\n",
       "    <tr>\n",
       "      <th>45186</th>\n",
       "      <td>256</td>\n",
       "      <td>1499149042852397057</td>\n",
       "      <td>2022-03-02 22:25:59+00:00</td>\n",
       "      <td>Twitter for iPhone</td>\n",
       "      <td>1.456332e+18</td>\n",
       "      <td>6</td>\n",
       "      <td>[🟩🟩🟩🟩🟩, 🟩🟩🟩🟩🟩, 🟩🟩🟩🟩🟩, 🟩🟩🟩🟩🟩, 🟩🟩🟩🟩🟩, 🟩🟩🟩🟩🟩]</td>\n",
       "    </tr>\n",
       "    <tr>\n",
       "      <th>54251</th>\n",
       "      <td>256</td>\n",
       "      <td>1499116431148945410</td>\n",
       "      <td>2022-03-02 20:16:24+00:00</td>\n",
       "      <td>Twitter Web App</td>\n",
       "      <td>1.021135e+18</td>\n",
       "      <td>6</td>\n",
       "      <td>[⬛🟩🟩🟩🟩, 🟩🟩🟨🟨🟨, 🟩🟩🟩🟩🟩, 🟩🟩🟩🟩🟩, 🟩🟩🟩🟩🟩, ⬛🟩⬛⬛🟩]</td>\n",
       "    </tr>\n",
       "  </tbody>\n",
       "</table>\n",
       "</div>"
      ],
      "text/plain": [
       "       WordleID                   ID                 Created_At  \\\n",
       "29140       255  1498772741654261763  2022-03-01 21:30:42+00:00   \n",
       "44728       256  1499150725229826052  2022-03-02 22:32:40+00:00   \n",
       "45083       256  1499149451822260228  2022-03-02 22:27:36+00:00   \n",
       "45186       256  1499149042852397057  2022-03-02 22:25:59+00:00   \n",
       "54251       256  1499116431148945410  2022-03-02 20:16:24+00:00   \n",
       "\n",
       "                    Source        UserID  Attempts  \\\n",
       "29140  Twitter for Android  1.420928e+18         5   \n",
       "44728   Twitter for iPhone  1.190034e+18         6   \n",
       "45083   Twitter for iPhone  1.481837e+18         6   \n",
       "45186   Twitter for iPhone  1.456332e+18         6   \n",
       "54251      Twitter Web App  1.021135e+18         6   \n",
       "\n",
       "                                            Match  \n",
       "29140         [🟩🟩🟩🟩🟩, 🟩🟩🟩🟩🟩, 🟩🟩🟩🟩🟩, 🟩🟩🟩🟩🟩, 🟩🟩🟩🟩🟩]  \n",
       "44728  [🟩🟩🟩🟩🟩, 🟩🟩🟩🟩🟩, 🟩🟩🟩🟩🟩, 🟩🟩🟩🟩🟩, 🟩🟩🟩🟩🟩, 🟩🟩🟩🟩🟩]  \n",
       "45083  [🟩🟩🟩🟩🟩, 🟩🟩🟩🟩🟩, 🟩🟩🟩🟩🟩, 🟩🟩🟩🟩🟩, 🟩🟩🟩🟩🟩, 🟩🟩🟩🟩🟩]  \n",
       "45186  [🟩🟩🟩🟩🟩, 🟩🟩🟩🟩🟩, 🟩🟩🟩🟩🟩, 🟩🟩🟩🟩🟩, 🟩🟩🟩🟩🟩, 🟩🟩🟩🟩🟩]  \n",
       "54251  [⬛🟩🟩🟩🟩, 🟩🟩🟨🟨🟨, 🟩🟩🟩🟩🟩, 🟩🟩🟩🟩🟩, 🟩🟩🟩🟩🟩, ⬛🟩⬛⬛🟩]  "
      ]
     },
     "execution_count": 39,
     "metadata": {},
     "output_type": "execute_result"
    }
   ],
   "source": [
    "wrong_rows.head()"
   ]
  },
  {
   "cell_type": "markdown",
   "id": "e8f21b1d-2c34-4913-a85c-1a7b54490795",
   "metadata": {},
   "source": [
    "Abbiamo effettivamente eliminato dei campioni errati.\n",
    "Terminiamo l'analisi creando una colonna 'Win' che ci indichi se una partita è stata vinta o persa. "
   ]
  },
  {
   "cell_type": "code",
   "execution_count": 40,
   "id": "5c9be5ab-f902-4cce-870b-6aa4efa88763",
   "metadata": {},
   "outputs": [
    {
     "data": {
      "text/html": [
       "<div>\n",
       "<style scoped>\n",
       "    .dataframe tbody tr th:only-of-type {\n",
       "        vertical-align: middle;\n",
       "    }\n",
       "\n",
       "    .dataframe tbody tr th {\n",
       "        vertical-align: top;\n",
       "    }\n",
       "\n",
       "    .dataframe thead th {\n",
       "        text-align: right;\n",
       "    }\n",
       "</style>\n",
       "<table border=\"1\" class=\"dataframe\">\n",
       "  <thead>\n",
       "    <tr style=\"text-align: right;\">\n",
       "      <th></th>\n",
       "      <th>WordleID</th>\n",
       "      <th>ID</th>\n",
       "      <th>Created_At</th>\n",
       "      <th>Source</th>\n",
       "      <th>UserID</th>\n",
       "      <th>Attempts</th>\n",
       "      <th>Match</th>\n",
       "      <th>Win</th>\n",
       "    </tr>\n",
       "  </thead>\n",
       "  <tbody>\n",
       "    <tr>\n",
       "      <th>0</th>\n",
       "      <td>254</td>\n",
       "      <td>1498447921448034305</td>\n",
       "      <td>2022-02-28 23:59:58+00:00</td>\n",
       "      <td>Twitter for iPhone</td>\n",
       "      <td>3.681676e+07</td>\n",
       "      <td>3</td>\n",
       "      <td>[🟨🟨⬛⬛⬛, 🟨⬛🟨⬛🟩, 🟩🟩🟩🟩🟩]</td>\n",
       "      <td>True</td>\n",
       "    </tr>\n",
       "    <tr>\n",
       "      <th>1</th>\n",
       "      <td>254</td>\n",
       "      <td>1498447918184996864</td>\n",
       "      <td>2022-02-28 23:59:58+00:00</td>\n",
       "      <td>Twitter for iPhone</td>\n",
       "      <td>4.825910e+08</td>\n",
       "      <td>4</td>\n",
       "      <td>[⬛⬛⬛⬛🟩, ⬛⬛⬛⬛🟩, ⬛🟩⬛⬛🟩, 🟩🟩🟩🟩🟩]</td>\n",
       "      <td>True</td>\n",
       "    </tr>\n",
       "    <tr>\n",
       "      <th>2</th>\n",
       "      <td>254</td>\n",
       "      <td>1498447910173921282</td>\n",
       "      <td>2022-02-28 23:59:56+00:00</td>\n",
       "      <td>Twitter for iPhone</td>\n",
       "      <td>1.397624e+18</td>\n",
       "      <td>3</td>\n",
       "      <td>[⬛⬛⬛⬛🟩, ⬛⬛🟩⬛🟩, 🟩🟩🟩🟩🟩]</td>\n",
       "      <td>True</td>\n",
       "    </tr>\n",
       "    <tr>\n",
       "      <th>3</th>\n",
       "      <td>254</td>\n",
       "      <td>1498447901797801989</td>\n",
       "      <td>2022-02-28 23:59:54+00:00</td>\n",
       "      <td>Twitter for iPhone</td>\n",
       "      <td>1.255905e+18</td>\n",
       "      <td>3</td>\n",
       "      <td>[⬛⬛⬛🟨⬛, ⬛🟨⬛⬛🟩, 🟩🟩🟩🟩🟩]</td>\n",
       "      <td>True</td>\n",
       "    </tr>\n",
       "    <tr>\n",
       "      <th>4</th>\n",
       "      <td>254</td>\n",
       "      <td>1498447896911527938</td>\n",
       "      <td>2022-02-28 23:59:53+00:00</td>\n",
       "      <td>Twitter for iPhone</td>\n",
       "      <td>2.528937e+08</td>\n",
       "      <td>3</td>\n",
       "      <td>[⬛🟨⬛⬛⬛, 🟩🟩🟩⬛🟩, 🟩🟩🟩🟩🟩]</td>\n",
       "      <td>True</td>\n",
       "    </tr>\n",
       "  </tbody>\n",
       "</table>\n",
       "</div>"
      ],
      "text/plain": [
       "   WordleID                   ID                 Created_At  \\\n",
       "0       254  1498447921448034305  2022-02-28 23:59:58+00:00   \n",
       "1       254  1498447918184996864  2022-02-28 23:59:58+00:00   \n",
       "2       254  1498447910173921282  2022-02-28 23:59:56+00:00   \n",
       "3       254  1498447901797801989  2022-02-28 23:59:54+00:00   \n",
       "4       254  1498447896911527938  2022-02-28 23:59:53+00:00   \n",
       "\n",
       "               Source        UserID  Attempts                         Match  \\\n",
       "0  Twitter for iPhone  3.681676e+07         3         [🟨🟨⬛⬛⬛, 🟨⬛🟨⬛🟩, 🟩🟩🟩🟩🟩]   \n",
       "1  Twitter for iPhone  4.825910e+08         4  [⬛⬛⬛⬛🟩, ⬛⬛⬛⬛🟩, ⬛🟩⬛⬛🟩, 🟩🟩🟩🟩🟩]   \n",
       "2  Twitter for iPhone  1.397624e+18         3         [⬛⬛⬛⬛🟩, ⬛⬛🟩⬛🟩, 🟩🟩🟩🟩🟩]   \n",
       "3  Twitter for iPhone  1.255905e+18         3         [⬛⬛⬛🟨⬛, ⬛🟨⬛⬛🟩, 🟩🟩🟩🟩🟩]   \n",
       "4  Twitter for iPhone  2.528937e+08         3         [⬛🟨⬛⬛⬛, 🟩🟩🟩⬛🟩, 🟩🟩🟩🟩🟩]   \n",
       "\n",
       "    Win  \n",
       "0  True  \n",
       "1  True  \n",
       "2  True  \n",
       "3  True  \n",
       "4  True  "
      ]
     },
     "execution_count": 40,
     "metadata": {},
     "output_type": "execute_result"
    }
   ],
   "source": [
    "def verify_winning_rows(row):\n",
    "    # Get the last element of the 'Text_Array'\n",
    "    last_element = row['Match'][-1]\n",
    "        \n",
    "    # Check if the last element contains five 🟩 or five 🟧 emojis\n",
    "    if last_element.count('🟩') == 5 or last_element.count('🟧') == 5:\n",
    "            # Check if the last element is the only one containing five 🟩 or five 🟧 emojis\n",
    "            num_matching_elements = sum(1 for text in row['Match'] if text.count('🟩') == 5 or text.count('🟧') == 5)\n",
    "            return num_matching_elements == 1\n",
    "    return False\n",
    "\n",
    "wordle.loc[:, 'Win'] = wordle.apply(verify_winning_rows, axis=1)\n",
    "wordle.head()"
   ]
  },
  {
   "cell_type": "code",
   "execution_count": 41,
   "id": "707898a2-ae60-410c-a9e0-86f6c4552914",
   "metadata": {},
   "outputs": [
    {
     "data": {
      "text/plain": [
       "(2022184, 8)"
      ]
     },
     "execution_count": 41,
     "metadata": {},
     "output_type": "execute_result"
    }
   ],
   "source": [
    "wordle.shape"
   ]
  },
  {
   "cell_type": "markdown",
   "id": "6ed21f0c-7a15-40dc-926f-90935d2da0a6",
   "metadata": {},
   "source": [
    "Manca un'ultimo controllo per la coerenza. Noi ora sappiamo che le righe in Match sono pari al numero di tentativi in Attempts. Sappiamo anche che le righe di Match contengono cinque quadrati verdi alla fine oppure non ne contengono. Ci manca ancora uno scenario da eliminare dal nostro dataset: per esempio se attempts fosse stata 3 e le righe di Match non contengono la win line, si tratta di un errore che è ancora presente. Per eliminarlo verifichiamo che dovunque si abbia win a false e attempt, ossia il numero di righe di Match, sia 6. "
   ]
  },
  {
   "cell_type": "code",
   "execution_count": 51,
   "id": "136204e5-309b-44b0-8db9-2d52bc77c2ce",
   "metadata": {},
   "outputs": [
    {
     "name": "stdout",
     "output_type": "stream",
     "text": [
      "Number of rows where verify_attempts is False: 9\n"
     ]
    }
   ],
   "source": [
    "def verify_attempts(row):\n",
    "    # Check if 'Win' column value is False and 'Attempts' column value is 6\n",
    "    if row['Win']:\n",
    "        return True\n",
    "    if not row['Win'] and row['Attempts'] == 6:\n",
    "        return True\n",
    "    else:\n",
    "        return False\n",
    "\n",
    "# Apply the function to each row of the DataFrame\n",
    "wordle['Verify_Attempts'] = wordle.apply(verify_attempts, axis=1)\n",
    "\n",
    "\n",
    "num_false_attempts_and_win = len(wordle[(wordle['Verify_Attempts'] == False)])\n",
    "\n",
    "print(\"Number of rows where verify_attempts is False:\", num_false_attempts_and_win)"
   ]
  },
  {
   "cell_type": "markdown",
   "id": "eb5bcf47-e6e5-4961-997e-53d65367ca8b",
   "metadata": {},
   "source": [
    "Abbiamo solo 9 righe in cui i giocatori hanno rinunciato prima di terminare la partita, essendo un numero estremamente ridotto rispetto alle dimensioni del dataset scegliamo consapevolmente di rinunciare a questa informazioni"
   ]
  },
  {
   "cell_type": "code",
   "execution_count": 52,
   "id": "571f6252-1753-42bd-88d8-a17723e15147",
   "metadata": {},
   "outputs": [
    {
     "name": "stdout",
     "output_type": "stream",
     "text": [
      "         WordleID                   ID                 Created_At  \\\n",
      "96200         258  1499825004531179523  2022-03-04 19:12:01+00:00   \n",
      "194152        263  1501640204939108361  2022-03-09 19:24:58+00:00   \n",
      "275652        267  1503082157912125440  2022-03-13 18:54:47+00:00   \n",
      "453871        276  1506337660348121090  2022-03-22 18:30:59+00:00   \n",
      "570874        282  1508531683284463626  2022-03-28 19:49:15+00:00   \n",
      "642415        286  1509673321050554368  2022-03-31 23:25:42+00:00   \n",
      "927641        301  1515406068192583687  2022-04-16 19:05:36+00:00   \n",
      "1183027       314  1520156070571909123  2022-04-29 21:40:25+00:00   \n",
      "1744112       353  1534253526037450752  2022-06-07 19:18:40+00:00   \n",
      "\n",
      "                      Source        UserID  Attempts  \\\n",
      "96200        Twitter Web App  1.444373e+18         4   \n",
      "194152    Twitter for iPhone  8.974525e+17         1   \n",
      "275652   Twitter for Android  4.176883e+09         3   \n",
      "453871       Twitter Web App  1.506331e+18         5   \n",
      "570874   Twitter for Android  2.893908e+07         3   \n",
      "642415       Twitter Web App  1.264451e+18         4   \n",
      "927641       Twitter Web App  1.401815e+18         5   \n",
      "1183027   Twitter for iPhone  1.440172e+07         3   \n",
      "1744112  Twitter for Android  2.968821e+06         2   \n",
      "\n",
      "                                       Match    Win  Verify_Attempts  \n",
      "96200           [⬛⬛⬛🟨⬛, 🟨🟨🟨⬛🟨, ⬛⬛🟩🟩⬛, ⬛⬛🟩🟩🟩]  False            False  \n",
      "194152                               [🟩🟩🟩🟩⬛]  False            False  \n",
      "275652                 [🟩⬜⬜⬜⬜, 🟩🟩🟨🟨⬜, 🟩🟩🟩🟩⬜]  False            False  \n",
      "453871   [⬛🟨⬛🟨⬛, ⬛⬛🟨⬛⬛, ⬛⬛🟩⬛⬛, ⬛⬛🟩⬛⬛, ⬛🟩⬛🟩⬛]  False            False  \n",
      "570874                 [⬜⬜⬜⬜⬜, ⬜🟩⬜⬜⬜, 🟩🟩🟩🟩⬜]  False            False  \n",
      "642415          [⬜⬜⬜⬜⬜, 🟨🟩🟨🟩⬜, 🟨🟩🟨🟩⬜, 🟨🟨🟨🟨🟨]  False            False  \n",
      "927641   [⬜🟩🟩🟩⬜, 🟩🟩🟨🟨⬜, 🟩🟩🟩🟩⬜, ⬜🟩🟩🟩⬜, ⬜🟩⬜🟩⬜]  False            False  \n",
      "1183027                [⬜⬜⬜🟨⬜, ⬜🟩⬜⬜🟨, 🟨🟨🟩🟩🟩]  False            False  \n",
      "1744112                       [⬜⬜⬜🟨⬜, 🟨🟨🟨🟨🟨]  False            False  \n"
     ]
    }
   ],
   "source": [
    "print(wordle[(wordle['Verify_Attempts'] == False)])\n",
    "# Drop the 'Verify_Attempts' column as it's no longer needed\n",
    "wordle.drop(wordle[wordle['Verify_Attempts'] == False].index, inplace=True)"
   ]
  },
  {
   "cell_type": "code",
   "execution_count": 53,
   "id": "2edcb351-f024-448d-b43c-7d43175f1aad",
   "metadata": {},
   "outputs": [
    {
     "data": {
      "text/plain": [
       "WordleID           0\n",
       "ID                 0\n",
       "Created_At         0\n",
       "Source             0\n",
       "UserID             0\n",
       "Attempts           0\n",
       "Match              0\n",
       "Win                0\n",
       "Verify_Attempts    0\n",
       "dtype: int64"
      ]
     },
     "execution_count": 53,
     "metadata": {},
     "output_type": "execute_result"
    }
   ],
   "source": [
    "wordle.isnull().sum()"
   ]
  },
  {
   "cell_type": "markdown",
   "id": "b66b04c0-7afd-4ff9-a4dd-efc53d30dbfc",
   "metadata": {},
   "source": [
    "Escludiamo i casi seppur rari (9) dove un utente si è arreso o ha lasciato la partita a metà (vedi ID 1506337660348121090)."
   ]
  },
  {
   "cell_type": "code",
   "execution_count": 54,
   "id": "327c4998-6488-4c29-ae11-7ae7d9329e32",
   "metadata": {},
   "outputs": [
    {
     "name": "stdout",
     "output_type": "stream",
     "text": [
      "2022175\n"
     ]
    }
   ],
   "source": [
    "wordle = wordle[wordle['Verify_Attempts']]\n",
    "\n",
    "# Drop the 'Verify_Attempts' column as it's no longer needed\n",
    "wordle = wordle.drop(columns=['Verify_Attempts'])\n",
    "\n",
    "# Print the updated DataFrame\n",
    "print(wordle.shape[0])"
   ]
  },
  {
   "cell_type": "markdown",
   "id": "3544667b-7f71-4c77-b04a-611b43535dd3",
   "metadata": {},
   "source": [
    "Nella fase di pulizia e integrazione dei dati abbiamo perso 2140196 - 2022175 = 118.021 campioni sui 2140196 campioni totali, quindi circa il 5.5% della totalità dei campioni perchè duplicati, incompleti, errati o incoerenti. "
   ]
  },
  {
   "cell_type": "markdown",
   "id": "4db0ca8f-d7a5-4f08-a358-06ae3f2b3a27",
   "metadata": {},
   "source": [
    "## Visualizzazione dei dati"
   ]
  },
  {
   "cell_type": "markdown",
   "id": "419fa33c-72b7-42b8-9c6b-1cd2e5be3b5a",
   "metadata": {},
   "source": [
    "Realizziamo un OLAP, dove per una dimensione andiamo a categorizzare la percentuale di vincita in un giornata in VERY EASY, EASY, MEDIUM, HARD, VERY HARD. Immaginiamo come probabilità di margine iniziale win_percentage <10%, <25%, >50%, >75%, >90%. Prepariamo i dati. "
   ]
  },
  {
   "cell_type": "code",
   "execution_count": 61,
   "id": "fdcbb29e-0d44-4f56-802f-af475418f3ef",
   "metadata": {},
   "outputs": [
    {
     "name": "stdout",
     "output_type": "stream",
     "text": [
      "321    18987\n",
      "275    18862\n",
      "320    18473\n",
      "292    18730\n",
      "369    19003\n",
      "268    18903\n",
      "269    18844\n",
      "341    19038\n",
      "355    19035\n",
      "271    18787\n",
      "Name: WordleID, dtype: int64\n",
      "WordleID\n",
      "264    18860\n",
      "301    18812\n",
      "362    18953\n",
      "363    18875\n",
      "315    18265\n",
      "263    18742\n",
      "314    18951\n",
      "367    18778\n",
      "331    18608\n",
      "283    17730\n",
      "Name: Win, dtype: int64\n",
      "282    85.00\n",
      "298    99.44\n",
      "279    99.26\n",
      "310    96.84\n",
      "370    98.61\n",
      "322    99.11\n",
      "368    98.48\n",
      "286    94.31\n",
      "360    99.59\n",
      "268    98.00\n",
      "dtype: float64\n"
     ]
    }
   ],
   "source": [
    "#play_per_day is a pandas Series object.\n",
    "play_per_day = wordle['WordleID'].value_counts()\n",
    "print(play_per_day.sample(n=10))\n",
    "\n",
    "#win_per_day is a pandas Series object.\n",
    "win_per_day = wordle.groupby('WordleID')['Win'].sum()\n",
    "print(win_per_day.sample(n=10))\n",
    "\n",
    "#win_percentage is a pandas Series object.\n",
    "#fill_value=0 indica che viene messo 0 se play_per_day è zero (per evitare una divisione per zero) ma nel nostro caso non si verifica mai una\n",
    "#divisione per zero (ho già verificato e in win_percentage fill_value=0 non viene mai applicato)\n",
    "win_percentage = (win_per_day.div(play_per_day, fill_value=0)).mul(100).round(2)\n",
    "print(win_percentage.sample(n=10))"
   ]
  },
  {
   "cell_type": "markdown",
   "id": "b164f710-db78-4331-86df-0c5e296f00ea",
   "metadata": {},
   "source": [
    "Le percentuali di vincita sembrano tutte concentrate nell'intervallo compreso tra 90% e 100%. Cerchiamo di comprendere se è davvero così."
   ]
  },
  {
   "cell_type": "code",
   "execution_count": 64,
   "id": "7de76ea3-a2c7-4544-8315-a4fe8797b627",
   "metadata": {},
   "outputs": [
    {
     "name": "stdout",
     "output_type": "stream",
     "text": [
      "97.38327102803737\n",
      "14.942273161699877\n",
      "0    99.12\n",
      "dtype: float64\n",
      "98.54\n",
      "97.235\n",
      "99.195\n"
     ]
    }
   ],
   "source": [
    "print(win_percentage.mean())\n",
    "print(win_percentage.var())\n",
    "print(win_percentage.mode())\n",
    "print(win_percentage.median())\n",
    "print(win_percentage.quantile(0.25))\n",
    "print(win_percentage.quantile(0.75))"
   ]
  },
  {
   "cell_type": "markdown",
   "id": "ccc118a9-d97b-49e3-82f7-867b4ab240fc",
   "metadata": {},
   "source": [
    "Visualizziamo un box plot riguardo la percentuale di vincite"
   ]
  },
  {
   "cell_type": "code",
   "execution_count": 59,
   "id": "4fe95675-a463-4996-a975-22b46d4df3c1",
   "metadata": {},
   "outputs": [
    {
     "data": {
      "image/png": "[encoded data removed]",
      "text/plain": [
       "<Figure size 800x600 with 1 Axes>"
      ]
     },
     "metadata": {},
     "output_type": "display_data"
    }
   ],
   "source": [
    "plt.figure(figsize=(8, 6))\n",
    "plt.boxplot(win_percentage)\n",
    "plt.title('Boxplot of Win Percentage')\n",
    "plt.ylabel('Win Percentage')\n",
    "plt.show()"
   ]
  },
  {
   "cell_type": "markdown",
   "id": "0dd2d23b-e54c-4efb-b5f0-388c5ea9aa06",
   "metadata": {},
   "source": [
    "Il boxplot conferma le nostre ipotesi. Per fare delle osservazioni interessanti allora dobbiamo modificare le probabilità di margine con cui andiamo a categorizzare win_percentage. "
   ]
  },
  {
   "cell_type": "markdown",
   "id": "0e627b07-d581-44a4-ada8-7deef4a82d70",
   "metadata": {},
   "source": [
    "Per realizzare una rappresentazione OLAP utilizziamo i seguenti parametri :\n",
    "- Tentativi (già quantizzata perché vanno da 1 a 6)\n",
    "- La difficoltà (quantizzata tarando la media dei tentativi)\n",
    "- 3 opzioni per la 3 variabile\n",
    "    - Parole più o meno recenti (dal wordleID o data del tweet)\n",
    "    - Orario del tweet (Morning, Afternoon, Evening, Night)\n",
    "    - Client di provenienza (Android, iPhone, Web, Other) "
   ]
  },
  {
   "cell_type": "code",
   "execution_count": null,
   "id": "e6f167d7-3897-47ad-b3de-5135dd5039c5",
   "metadata": {},
   "outputs": [],
   "source": [
    "# Iniziamo raggruppando per la percentuale di vincita\n",
    "\n",
    "firstquartile\n",
    "\n",
    "minimum = [0, 1981, 2001, 2016]\n",
    "maximum = [1980, 2000, 2015, 2023]\n",
    "\n",
    "quantize_release_year = ['HARD','MEDIUM','EASY','VERY EASY']\n",
    "\n",
    "for i in range(0,3):\n",
    "    wordle.loc[wordle[''].between(minimum[i],maximum[i],'both'),'relase_year_quant'] = quantize_release_year[i]\n"
   ]
  }
 ],
 "metadata": {
  "kernelspec": {
   "display_name": "Python 3 (ipykernel)",
   "language": "python",
   "name": "python3"
  },
  "language_info": {
   "codemirror_mode": {
    "name": "ipython",
    "version": 3
   },
   "file_extension": ".py",
   "mimetype": "text/x-python",
   "name": "python",
   "nbconvert_exporter": "python",
   "pygments_lexer": "ipython3",
   "version": "3.11.8"
  }
 },
 "nbformat": 4,
 "nbformat_minor": 5
}
