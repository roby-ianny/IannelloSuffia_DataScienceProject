{
 "cells": [
  {
   "cell_type": "markdown",
   "id": "859fb446-65a8-450b-91b9-39bb45a540c2",
   "metadata": {},
   "source": [
    "# Wordle Tweet Dataset\n"
   ]
  },
  {
   "cell_type": "code",
   "execution_count": 1,
   "id": "60ed4388-0c3d-40de-a935-973b0e91ab48",
   "metadata": {},
   "outputs": [],
   "source": [
    "import pandas as pd \n",
    "import matplotlib.pyplot as plt \n",
    "import numpy as np\n",
    "import re\n",
    "import scipy.stats as stats\n",
    "import sklearn"
   ]
  },
  {
   "cell_type": "markdown",
   "id": "6b30585a",
   "metadata": {},
   "source": [
    "Cominciamo importando il Dataset e visualizziamo alcune informazioni sulla tabella"
   ]
  },
  {
   "cell_type": "code",
   "execution_count": 2,
   "id": "52135c8a-8c0b-4648-9822-5595fdf9883d",
   "metadata": {},
   "outputs": [
    {
     "name": "stdout",
     "output_type": "stream",
     "text": [
      "<class 'pandas.core.frame.DataFrame'>\n",
      "RangeIndex: 2140196 entries, 0 to 2140195\n",
      "Data columns (total 10 columns):\n",
      " #   Column           Dtype  \n",
      "---  ------           -----  \n",
      " 0   WordleID         int64  \n",
      " 1   ID               int64  \n",
      " 2   Created_At       object \n",
      " 3   Text             object \n",
      " 4   Source           object \n",
      " 5   UserID           float64\n",
      " 6   Username         object \n",
      " 7   User_ScreenName  object \n",
      " 8   Location         object \n",
      " 9   Truncated        bool   \n",
      "dtypes: bool(1), float64(1), int64(2), object(6)\n",
      "memory usage: 149.0+ MB\n"
     ]
    }
   ],
   "source": [
    "wordle = pd.read_csv(\"WordleMegaData.csv\")\n",
    "wordle.info()"
   ]
  },
  {
   "cell_type": "markdown",
   "id": "ada4d692",
   "metadata": {},
   "source": [
    "Andiamo ora a visualizzare le prime occorrenze della tabella"
   ]
  },
  {
   "cell_type": "code",
   "execution_count": 3,
   "id": "fe80e003-4609-4a4e-92cd-b2069282aaea",
   "metadata": {},
   "outputs": [
    {
     "data": {
      "text/html": [
       "<div>\n",
       "<style scoped>\n",
       "    .dataframe tbody tr th:only-of-type {\n",
       "        vertical-align: middle;\n",
       "    }\n",
       "\n",
       "    .dataframe tbody tr th {\n",
       "        vertical-align: top;\n",
       "    }\n",
       "\n",
       "    .dataframe thead th {\n",
       "        text-align: right;\n",
       "    }\n",
       "</style>\n",
       "<table border=\"1\" class=\"dataframe\">\n",
       "  <thead>\n",
       "    <tr style=\"text-align: right;\">\n",
       "      <th></th>\n",
       "      <th>WordleID</th>\n",
       "      <th>ID</th>\n",
       "      <th>Created_At</th>\n",
       "      <th>Text</th>\n",
       "      <th>Source</th>\n",
       "      <th>UserID</th>\n",
       "      <th>Username</th>\n",
       "      <th>User_ScreenName</th>\n",
       "      <th>Location</th>\n",
       "      <th>Truncated</th>\n",
       "    </tr>\n",
       "  </thead>\n",
       "  <tbody>\n",
       "    <tr>\n",
       "      <th>0</th>\n",
       "      <td>254</td>\n",
       "      <td>1498447921448034305</td>\n",
       "      <td>2022-02-28 23:59:58+00:00</td>\n",
       "      <td>Wordle 254 3/6\\n\\n🟨🟨⬛⬛⬛\\n🟨⬛🟨⬛🟩\\n🟩🟩🟩🟩🟩</td>\n",
       "      <td>Twitter for iPhone</td>\n",
       "      <td>3.681676e+07</td>\n",
       "      <td>Leslie Brown</td>\n",
       "      <td>live_laugh_pray</td>\n",
       "      <td>Haida Gwaii</td>\n",
       "      <td>False</td>\n",
       "    </tr>\n",
       "    <tr>\n",
       "      <th>1</th>\n",
       "      <td>254</td>\n",
       "      <td>1498447918184996864</td>\n",
       "      <td>2022-02-28 23:59:58+00:00</td>\n",
       "      <td>Wordle 254 4/6\\n\\n⬛⬛⬛⬛🟩\\n⬛⬛⬛⬛🟩\\n⬛🟩⬛⬛🟩\\n🟩🟩🟩🟩🟩\\n...</td>\n",
       "      <td>Twitter for iPhone</td>\n",
       "      <td>4.825910e+08</td>\n",
       "      <td>Dylan Sobo</td>\n",
       "      <td>DaBolt727</td>\n",
       "      <td>Largo, FL / Bradenton|FGCU</td>\n",
       "      <td>False</td>\n",
       "    </tr>\n",
       "    <tr>\n",
       "      <th>2</th>\n",
       "      <td>254</td>\n",
       "      <td>1498447910173921282</td>\n",
       "      <td>2022-02-28 23:59:56+00:00</td>\n",
       "      <td>Wordle 254 3/6\\n\\n⬛⬛⬛⬛🟩\\n⬛⬛🟩⬛🟩\\n🟩🟩🟩🟩🟩</td>\n",
       "      <td>Twitter for iPhone</td>\n",
       "      <td>1.397624e+18</td>\n",
       "      <td>🖤</td>\n",
       "      <td>wengojos</td>\n",
       "      <td>23 • she/her • 🇵🇭🇺🇸</td>\n",
       "      <td>False</td>\n",
       "    </tr>\n",
       "    <tr>\n",
       "      <th>3</th>\n",
       "      <td>254</td>\n",
       "      <td>1498447901797801989</td>\n",
       "      <td>2022-02-28 23:59:54+00:00</td>\n",
       "      <td>Wordle 254 3/6\\n\\n⬛⬛⬛🟨⬛\\n⬛🟨⬛⬛🟩\\n🟩🟩🟩🟩🟩</td>\n",
       "      <td>Twitter for iPhone</td>\n",
       "      <td>1.255905e+18</td>\n",
       "      <td>Dustin Waters</td>\n",
       "      <td>DustinWaters12</td>\n",
       "      <td>NaN</td>\n",
       "      <td>False</td>\n",
       "    </tr>\n",
       "    <tr>\n",
       "      <th>4</th>\n",
       "      <td>254</td>\n",
       "      <td>1498447896911527938</td>\n",
       "      <td>2022-02-28 23:59:53+00:00</td>\n",
       "      <td>Wordle 254 3/6\\n\\n⬛🟨⬛⬛⬛\\n🟩🟩🟩⬛🟩\\n🟩🟩🟩🟩🟩</td>\n",
       "      <td>Twitter for iPhone</td>\n",
       "      <td>2.528937e+08</td>\n",
       "      <td>R. Colin</td>\n",
       "      <td>rollin_fatty</td>\n",
       "      <td>Richmond, VA</td>\n",
       "      <td>False</td>\n",
       "    </tr>\n",
       "  </tbody>\n",
       "</table>\n",
       "</div>"
      ],
      "text/plain": [
       "   WordleID                   ID                 Created_At  \\\n",
       "0       254  1498447921448034305  2022-02-28 23:59:58+00:00   \n",
       "1       254  1498447918184996864  2022-02-28 23:59:58+00:00   \n",
       "2       254  1498447910173921282  2022-02-28 23:59:56+00:00   \n",
       "3       254  1498447901797801989  2022-02-28 23:59:54+00:00   \n",
       "4       254  1498447896911527938  2022-02-28 23:59:53+00:00   \n",
       "\n",
       "                                                Text              Source  \\\n",
       "0              Wordle 254 3/6\\n\\n🟨🟨⬛⬛⬛\\n🟨⬛🟨⬛🟩\\n🟩🟩🟩🟩🟩  Twitter for iPhone   \n",
       "1  Wordle 254 4/6\\n\\n⬛⬛⬛⬛🟩\\n⬛⬛⬛⬛🟩\\n⬛🟩⬛⬛🟩\\n🟩🟩🟩🟩🟩\\n...  Twitter for iPhone   \n",
       "2              Wordle 254 3/6\\n\\n⬛⬛⬛⬛🟩\\n⬛⬛🟩⬛🟩\\n🟩🟩🟩🟩🟩  Twitter for iPhone   \n",
       "3              Wordle 254 3/6\\n\\n⬛⬛⬛🟨⬛\\n⬛🟨⬛⬛🟩\\n🟩🟩🟩🟩🟩  Twitter for iPhone   \n",
       "4              Wordle 254 3/6\\n\\n⬛🟨⬛⬛⬛\\n🟩🟩🟩⬛🟩\\n🟩🟩🟩🟩🟩  Twitter for iPhone   \n",
       "\n",
       "         UserID       Username  User_ScreenName                    Location  \\\n",
       "0  3.681676e+07   Leslie Brown  live_laugh_pray                 Haida Gwaii   \n",
       "1  4.825910e+08     Dylan Sobo        DaBolt727  Largo, FL / Bradenton|FGCU   \n",
       "2  1.397624e+18              🖤         wengojos         23 • she/her • 🇵🇭🇺🇸   \n",
       "3  1.255905e+18  Dustin Waters   DustinWaters12                         NaN   \n",
       "4  2.528937e+08       R. Colin     rollin_fatty                Richmond, VA   \n",
       "\n",
       "   Truncated  \n",
       "0      False  \n",
       "1      False  \n",
       "2      False  \n",
       "3      False  \n",
       "4      False  "
      ]
     },
     "execution_count": 3,
     "metadata": {},
     "output_type": "execute_result"
    }
   ],
   "source": [
    "wordle.head()"
   ]
  },
  {
   "cell_type": "markdown",
   "id": "03a58eff-71e0-4c12-aaca-c0bea8158c40",
   "metadata": {},
   "source": [
    "## Pulizia dei dati"
   ]
  },
  {
   "cell_type": "markdown",
   "id": "f6dcef10-028a-4c80-b110-a3acc302d9b9",
   "metadata": {},
   "source": [
    "Per ogni carattersitica andiamo a visualizzare il numero di elementi nulli."
   ]
  },
  {
   "cell_type": "code",
   "execution_count": 4,
   "id": "f69deb5d-9de8-498c-a33c-768f466affb9",
   "metadata": {},
   "outputs": [
    {
     "data": {
      "text/plain": [
       "WordleID                0\n",
       "ID                      0\n",
       "Created_At              0\n",
       "Text                    0\n",
       "Source                  0\n",
       "UserID                  0\n",
       "Username              112\n",
       "User_ScreenName         0\n",
       "Location           573373\n",
       "Truncated               0\n",
       "dtype: int64"
      ]
     },
     "execution_count": 4,
     "metadata": {},
     "output_type": "execute_result"
    }
   ],
   "source": [
    "wordle.isnull().sum()"
   ]
  },
  {
   "cell_type": "markdown",
   "id": "0172a1bf-6c7f-4e75-8e9b-ea4ae568f754",
   "metadata": {},
   "source": [
    "La caratteristica 'ID' rappresenta l'ID del tweet e quindi deve essere unica. Verifichiamo che sia così."
   ]
  },
  {
   "cell_type": "code",
   "execution_count": 5,
   "id": "6a86f571-fd13-4035-a9e2-711fe4de7c04",
   "metadata": {},
   "outputs": [
    {
     "name": "stdout",
     "output_type": "stream",
     "text": [
      "Number of rows where 'ID' is unique: 2140187\n",
      "Total number of rows: 2140196\n"
     ]
    }
   ],
   "source": [
    "num_unique_elements = wordle['ID'].nunique()\n",
    "total_elements = len(wordle['ID'])\n",
    "\n",
    "print(\"Number of rows where 'ID' is unique:\", num_unique_elements)\n",
    "print(\"Total number of rows:\", total_elements)"
   ]
  },
  {
   "cell_type": "markdown",
   "id": "f6d3d607-5b93-41d1-8d45-3fd241ec1af0",
   "metadata": {},
   "source": [
    "Sono presenti dei duplicati, li eliminiamo."
   ]
  },
  {
   "cell_type": "code",
   "execution_count": 6,
   "id": "e2ae2645-8290-481d-9026-1d8ba9e6e455",
   "metadata": {},
   "outputs": [
    {
     "data": {
      "text/plain": [
       "(2140178, 10)"
      ]
     },
     "execution_count": 6,
     "metadata": {},
     "output_type": "execute_result"
    }
   ],
   "source": [
    "wordle = wordle.drop_duplicates(subset=['ID'], keep=False)\n",
    "wordle.shape"
   ]
  },
  {
   "cell_type": "markdown",
   "id": "9f45cb7c",
   "metadata": {},
   "source": [
    "Ora che le nostre occorrenze sono uniche, andiamo a effettuare una pulizia del testo, mantenendo solamente le informazioni riguardanti la partita a wordle. \n",
    "Inoltre dal testo generiamo una colonna \"Attempts\" che rappresenta il numero di tentativi effettuati per indovinare la parola o la X nel caso di fallimento."
   ]
  },
  {
   "cell_type": "code",
   "execution_count": 7,
   "id": "dadf73da-dc39-4560-b7eb-6fb618adc1b3",
   "metadata": {},
   "outputs": [
    {
     "data": {
      "text/html": [
       "<div>\n",
       "<style scoped>\n",
       "    .dataframe tbody tr th:only-of-type {\n",
       "        vertical-align: middle;\n",
       "    }\n",
       "\n",
       "    .dataframe tbody tr th {\n",
       "        vertical-align: top;\n",
       "    }\n",
       "\n",
       "    .dataframe thead th {\n",
       "        text-align: right;\n",
       "    }\n",
       "</style>\n",
       "<table border=\"1\" class=\"dataframe\">\n",
       "  <thead>\n",
       "    <tr style=\"text-align: right;\">\n",
       "      <th></th>\n",
       "      <th>WordleID</th>\n",
       "      <th>ID</th>\n",
       "      <th>Created_At</th>\n",
       "      <th>Text</th>\n",
       "      <th>Source</th>\n",
       "      <th>UserID</th>\n",
       "      <th>Username</th>\n",
       "      <th>User_ScreenName</th>\n",
       "      <th>Location</th>\n",
       "      <th>Truncated</th>\n",
       "      <th>Attempts</th>\n",
       "    </tr>\n",
       "  </thead>\n",
       "  <tbody>\n",
       "    <tr>\n",
       "      <th>0</th>\n",
       "      <td>254</td>\n",
       "      <td>1498447921448034305</td>\n",
       "      <td>2022-02-28 23:59:58+00:00</td>\n",
       "      <td>Wordle 254 3/6\\n\\n🟨🟨⬛⬛⬛\\n🟨⬛🟨⬛🟩\\n🟩🟩🟩🟩🟩</td>\n",
       "      <td>Twitter for iPhone</td>\n",
       "      <td>3.681676e+07</td>\n",
       "      <td>Leslie Brown</td>\n",
       "      <td>live_laugh_pray</td>\n",
       "      <td>Haida Gwaii</td>\n",
       "      <td>False</td>\n",
       "      <td>3</td>\n",
       "    </tr>\n",
       "    <tr>\n",
       "      <th>1</th>\n",
       "      <td>254</td>\n",
       "      <td>1498447918184996864</td>\n",
       "      <td>2022-02-28 23:59:58+00:00</td>\n",
       "      <td>Wordle 254 4/6\\n\\n⬛⬛⬛⬛🟩\\n⬛⬛⬛⬛🟩\\n⬛🟩⬛⬛🟩\\n🟩🟩🟩🟩🟩\\n...</td>\n",
       "      <td>Twitter for iPhone</td>\n",
       "      <td>4.825910e+08</td>\n",
       "      <td>Dylan Sobo</td>\n",
       "      <td>DaBolt727</td>\n",
       "      <td>Largo, FL / Bradenton|FGCU</td>\n",
       "      <td>False</td>\n",
       "      <td>4</td>\n",
       "    </tr>\n",
       "    <tr>\n",
       "      <th>2</th>\n",
       "      <td>254</td>\n",
       "      <td>1498447910173921282</td>\n",
       "      <td>2022-02-28 23:59:56+00:00</td>\n",
       "      <td>Wordle 254 3/6\\n\\n⬛⬛⬛⬛🟩\\n⬛⬛🟩⬛🟩\\n🟩🟩🟩🟩🟩</td>\n",
       "      <td>Twitter for iPhone</td>\n",
       "      <td>1.397624e+18</td>\n",
       "      <td>🖤</td>\n",
       "      <td>wengojos</td>\n",
       "      <td>23 • she/her • 🇵🇭🇺🇸</td>\n",
       "      <td>False</td>\n",
       "      <td>3</td>\n",
       "    </tr>\n",
       "    <tr>\n",
       "      <th>3</th>\n",
       "      <td>254</td>\n",
       "      <td>1498447901797801989</td>\n",
       "      <td>2022-02-28 23:59:54+00:00</td>\n",
       "      <td>Wordle 254 3/6\\n\\n⬛⬛⬛🟨⬛\\n⬛🟨⬛⬛🟩\\n🟩🟩🟩🟩🟩</td>\n",
       "      <td>Twitter for iPhone</td>\n",
       "      <td>1.255905e+18</td>\n",
       "      <td>Dustin Waters</td>\n",
       "      <td>DustinWaters12</td>\n",
       "      <td>NaN</td>\n",
       "      <td>False</td>\n",
       "      <td>3</td>\n",
       "    </tr>\n",
       "    <tr>\n",
       "      <th>4</th>\n",
       "      <td>254</td>\n",
       "      <td>1498447896911527938</td>\n",
       "      <td>2022-02-28 23:59:53+00:00</td>\n",
       "      <td>Wordle 254 3/6\\n\\n⬛🟨⬛⬛⬛\\n🟩🟩🟩⬛🟩\\n🟩🟩🟩🟩🟩</td>\n",
       "      <td>Twitter for iPhone</td>\n",
       "      <td>2.528937e+08</td>\n",
       "      <td>R. Colin</td>\n",
       "      <td>rollin_fatty</td>\n",
       "      <td>Richmond, VA</td>\n",
       "      <td>False</td>\n",
       "      <td>3</td>\n",
       "    </tr>\n",
       "  </tbody>\n",
       "</table>\n",
       "</div>"
      ],
      "text/plain": [
       "   WordleID                   ID                 Created_At  \\\n",
       "0       254  1498447921448034305  2022-02-28 23:59:58+00:00   \n",
       "1       254  1498447918184996864  2022-02-28 23:59:58+00:00   \n",
       "2       254  1498447910173921282  2022-02-28 23:59:56+00:00   \n",
       "3       254  1498447901797801989  2022-02-28 23:59:54+00:00   \n",
       "4       254  1498447896911527938  2022-02-28 23:59:53+00:00   \n",
       "\n",
       "                                                Text              Source  \\\n",
       "0              Wordle 254 3/6\\n\\n🟨🟨⬛⬛⬛\\n🟨⬛🟨⬛🟩\\n🟩🟩🟩🟩🟩  Twitter for iPhone   \n",
       "1  Wordle 254 4/6\\n\\n⬛⬛⬛⬛🟩\\n⬛⬛⬛⬛🟩\\n⬛🟩⬛⬛🟩\\n🟩🟩🟩🟩🟩\\n...  Twitter for iPhone   \n",
       "2              Wordle 254 3/6\\n\\n⬛⬛⬛⬛🟩\\n⬛⬛🟩⬛🟩\\n🟩🟩🟩🟩🟩  Twitter for iPhone   \n",
       "3              Wordle 254 3/6\\n\\n⬛⬛⬛🟨⬛\\n⬛🟨⬛⬛🟩\\n🟩🟩🟩🟩🟩  Twitter for iPhone   \n",
       "4              Wordle 254 3/6\\n\\n⬛🟨⬛⬛⬛\\n🟩🟩🟩⬛🟩\\n🟩🟩🟩🟩🟩  Twitter for iPhone   \n",
       "\n",
       "         UserID       Username  User_ScreenName                    Location  \\\n",
       "0  3.681676e+07   Leslie Brown  live_laugh_pray                 Haida Gwaii   \n",
       "1  4.825910e+08     Dylan Sobo        DaBolt727  Largo, FL / Bradenton|FGCU   \n",
       "2  1.397624e+18              🖤         wengojos         23 • she/her • 🇵🇭🇺🇸   \n",
       "3  1.255905e+18  Dustin Waters   DustinWaters12                         NaN   \n",
       "4  2.528937e+08       R. Colin     rollin_fatty                Richmond, VA   \n",
       "\n",
       "   Truncated Attempts  \n",
       "0      False        3  \n",
       "1      False        4  \n",
       "2      False        3  \n",
       "3      False        3  \n",
       "4      False        3  "
      ]
     },
     "execution_count": 7,
     "metadata": {},
     "output_type": "execute_result"
    }
   ],
   "source": [
    "number_pattern = re.compile(r'(Wordle) (\\d{3}) (([1-6]|X)\\/6)')\n",
    "\n",
    "# Function to extract the number of attempts from each row\n",
    "def extract_attempts(row):\n",
    "    match = number_pattern.search(row)\n",
    "    if match:\n",
    "        return match.group(3).replace('/6', '') \n",
    "    else:\n",
    "        return np.nan\n",
    "\n",
    "# Create a new column with the extracted numbers\n",
    "wordle['Attempts'] = wordle['Text'].apply(extract_attempts)\n",
    "\n",
    "wordle.head()"
   ]
  },
  {
   "cell_type": "markdown",
   "id": "ca3cc7e6",
   "metadata": {},
   "source": [
    "Per estrarre ulteriori informazioni possiamo affidarci alle emoji riportate nei tweet, vi sono una serie di rappresentazioni alternative per la stessa informazione. Inoltre possiamo fare una verifica incrociata con il numero di tentativi per verificare la coerenza delle informazioni.\n",
    "\n",
    "Le informazioni per le varie emoji sono le seguenti:\n",
    "- ⬛ o ⬜ indicano che la lettera non è presente nella parola\n",
    "- 🟦 o 🟨 indicano che la lettera è corretta ma non la sua posizione\n",
    "- 🟩 o 🟧 indicano che la lettera è corretta e anche la sua posizione\n",
    "\n",
    "*Possiamo sfruttare questa informazione per fare ulteriori analisi e/o test statistici, come per esempio, in media quanta gente indovina dopo una certa quantità di quadratini gialli/blu?*"
   ]
  },
  {
   "cell_type": "markdown",
   "id": "fc017399-747f-4845-884e-c5a5c4bd9e64",
   "metadata": {},
   "source": [
    "Eliminiamo le righe che contengono nella colonna Text più occorrenze di una partita perchè ambigue. Quale delle partite nel tweet è stata effettivamente giocata? Quale corrisponde alla partita di oggi? "
   ]
  },
  {
   "cell_type": "code",
   "execution_count": 8,
   "id": "c9bfd938-c6f1-4b25-bc9d-c57336f01a96",
   "metadata": {},
   "outputs": [
    {
     "data": {
      "text/html": [
       "<div>\n",
       "<style scoped>\n",
       "    .dataframe tbody tr th:only-of-type {\n",
       "        vertical-align: middle;\n",
       "    }\n",
       "\n",
       "    .dataframe tbody tr th {\n",
       "        vertical-align: top;\n",
       "    }\n",
       "\n",
       "    .dataframe thead th {\n",
       "        text-align: right;\n",
       "    }\n",
       "</style>\n",
       "<table border=\"1\" class=\"dataframe\">\n",
       "  <thead>\n",
       "    <tr style=\"text-align: right;\">\n",
       "      <th></th>\n",
       "      <th>WordleID</th>\n",
       "      <th>ID</th>\n",
       "      <th>Created_At</th>\n",
       "      <th>Text</th>\n",
       "      <th>Source</th>\n",
       "      <th>UserID</th>\n",
       "      <th>Username</th>\n",
       "      <th>User_ScreenName</th>\n",
       "      <th>Location</th>\n",
       "      <th>Truncated</th>\n",
       "      <th>Attempts</th>\n",
       "      <th>Match</th>\n",
       "    </tr>\n",
       "  </thead>\n",
       "  <tbody>\n",
       "    <tr>\n",
       "      <th>0</th>\n",
       "      <td>254</td>\n",
       "      <td>1498447921448034305</td>\n",
       "      <td>2022-02-28 23:59:58+00:00</td>\n",
       "      <td>Wordle 254 3/6\\n\\n🟨🟨⬛⬛⬛\\n🟨⬛🟨⬛🟩\\n🟩🟩🟩🟩🟩</td>\n",
       "      <td>Twitter for iPhone</td>\n",
       "      <td>3.681676e+07</td>\n",
       "      <td>Leslie Brown</td>\n",
       "      <td>live_laugh_pray</td>\n",
       "      <td>Haida Gwaii</td>\n",
       "      <td>False</td>\n",
       "      <td>3</td>\n",
       "      <td>🟨🟨⬛⬛⬛🟨⬛🟨⬛🟩🟩🟩🟩🟩🟩</td>\n",
       "    </tr>\n",
       "    <tr>\n",
       "      <th>1</th>\n",
       "      <td>254</td>\n",
       "      <td>1498447918184996864</td>\n",
       "      <td>2022-02-28 23:59:58+00:00</td>\n",
       "      <td>Wordle 254 4/6\\n\\n⬛⬛⬛⬛🟩\\n⬛⬛⬛⬛🟩\\n⬛🟩⬛⬛🟩\\n🟩🟩🟩🟩🟩\\n...</td>\n",
       "      <td>Twitter for iPhone</td>\n",
       "      <td>4.825910e+08</td>\n",
       "      <td>Dylan Sobo</td>\n",
       "      <td>DaBolt727</td>\n",
       "      <td>Largo, FL / Bradenton|FGCU</td>\n",
       "      <td>False</td>\n",
       "      <td>4</td>\n",
       "      <td>⬛⬛⬛⬛🟩⬛⬛⬛⬛🟩⬛🟩⬛⬛🟩🟩🟩🟩🟩🟩</td>\n",
       "    </tr>\n",
       "    <tr>\n",
       "      <th>2</th>\n",
       "      <td>254</td>\n",
       "      <td>1498447910173921282</td>\n",
       "      <td>2022-02-28 23:59:56+00:00</td>\n",
       "      <td>Wordle 254 3/6\\n\\n⬛⬛⬛⬛🟩\\n⬛⬛🟩⬛🟩\\n🟩🟩🟩🟩🟩</td>\n",
       "      <td>Twitter for iPhone</td>\n",
       "      <td>1.397624e+18</td>\n",
       "      <td>🖤</td>\n",
       "      <td>wengojos</td>\n",
       "      <td>23 • she/her • 🇵🇭🇺🇸</td>\n",
       "      <td>False</td>\n",
       "      <td>3</td>\n",
       "      <td>⬛⬛⬛⬛🟩⬛⬛🟩⬛🟩🟩🟩🟩🟩🟩</td>\n",
       "    </tr>\n",
       "    <tr>\n",
       "      <th>3</th>\n",
       "      <td>254</td>\n",
       "      <td>1498447901797801989</td>\n",
       "      <td>2022-02-28 23:59:54+00:00</td>\n",
       "      <td>Wordle 254 3/6\\n\\n⬛⬛⬛🟨⬛\\n⬛🟨⬛⬛🟩\\n🟩🟩🟩🟩🟩</td>\n",
       "      <td>Twitter for iPhone</td>\n",
       "      <td>1.255905e+18</td>\n",
       "      <td>Dustin Waters</td>\n",
       "      <td>DustinWaters12</td>\n",
       "      <td>NaN</td>\n",
       "      <td>False</td>\n",
       "      <td>3</td>\n",
       "      <td>⬛⬛⬛🟨⬛⬛🟨⬛⬛🟩🟩🟩🟩🟩🟩</td>\n",
       "    </tr>\n",
       "    <tr>\n",
       "      <th>4</th>\n",
       "      <td>254</td>\n",
       "      <td>1498447896911527938</td>\n",
       "      <td>2022-02-28 23:59:53+00:00</td>\n",
       "      <td>Wordle 254 3/6\\n\\n⬛🟨⬛⬛⬛\\n🟩🟩🟩⬛🟩\\n🟩🟩🟩🟩🟩</td>\n",
       "      <td>Twitter for iPhone</td>\n",
       "      <td>2.528937e+08</td>\n",
       "      <td>R. Colin</td>\n",
       "      <td>rollin_fatty</td>\n",
       "      <td>Richmond, VA</td>\n",
       "      <td>False</td>\n",
       "      <td>3</td>\n",
       "      <td>⬛🟨⬛⬛⬛🟩🟩🟩⬛🟩🟩🟩🟩🟩🟩</td>\n",
       "    </tr>\n",
       "  </tbody>\n",
       "</table>\n",
       "</div>"
      ],
      "text/plain": [
       "   WordleID                   ID                 Created_At  \\\n",
       "0       254  1498447921448034305  2022-02-28 23:59:58+00:00   \n",
       "1       254  1498447918184996864  2022-02-28 23:59:58+00:00   \n",
       "2       254  1498447910173921282  2022-02-28 23:59:56+00:00   \n",
       "3       254  1498447901797801989  2022-02-28 23:59:54+00:00   \n",
       "4       254  1498447896911527938  2022-02-28 23:59:53+00:00   \n",
       "\n",
       "                                                Text              Source  \\\n",
       "0              Wordle 254 3/6\\n\\n🟨🟨⬛⬛⬛\\n🟨⬛🟨⬛🟩\\n🟩🟩🟩🟩🟩  Twitter for iPhone   \n",
       "1  Wordle 254 4/6\\n\\n⬛⬛⬛⬛🟩\\n⬛⬛⬛⬛🟩\\n⬛🟩⬛⬛🟩\\n🟩🟩🟩🟩🟩\\n...  Twitter for iPhone   \n",
       "2              Wordle 254 3/6\\n\\n⬛⬛⬛⬛🟩\\n⬛⬛🟩⬛🟩\\n🟩🟩🟩🟩🟩  Twitter for iPhone   \n",
       "3              Wordle 254 3/6\\n\\n⬛⬛⬛🟨⬛\\n⬛🟨⬛⬛🟩\\n🟩🟩🟩🟩🟩  Twitter for iPhone   \n",
       "4              Wordle 254 3/6\\n\\n⬛🟨⬛⬛⬛\\n🟩🟩🟩⬛🟩\\n🟩🟩🟩🟩🟩  Twitter for iPhone   \n",
       "\n",
       "         UserID       Username  User_ScreenName                    Location  \\\n",
       "0  3.681676e+07   Leslie Brown  live_laugh_pray                 Haida Gwaii   \n",
       "1  4.825910e+08     Dylan Sobo        DaBolt727  Largo, FL / Bradenton|FGCU   \n",
       "2  1.397624e+18              🖤         wengojos         23 • she/her • 🇵🇭🇺🇸   \n",
       "3  1.255905e+18  Dustin Waters   DustinWaters12                         NaN   \n",
       "4  2.528937e+08       R. Colin     rollin_fatty                Richmond, VA   \n",
       "\n",
       "   Truncated Attempts                 Match  \n",
       "0      False        3       🟨🟨⬛⬛⬛🟨⬛🟨⬛🟩🟩🟩🟩🟩🟩  \n",
       "1      False        4  ⬛⬛⬛⬛🟩⬛⬛⬛⬛🟩⬛🟩⬛⬛🟩🟩🟩🟩🟩🟩  \n",
       "2      False        3       ⬛⬛⬛⬛🟩⬛⬛🟩⬛🟩🟩🟩🟩🟩🟩  \n",
       "3      False        3       ⬛⬛⬛🟨⬛⬛🟨⬛⬛🟩🟩🟩🟩🟩🟩  \n",
       "4      False        3       ⬛🟨⬛⬛⬛🟩🟩🟩⬛🟩🟩🟩🟩🟩🟩  "
      ]
     },
     "execution_count": 8,
     "metadata": {},
     "output_type": "execute_result"
    }
   ],
   "source": [
    "colored_squares_pattern = re.compile(r'(\\n[🟨🟩⬛⬜]{5})', flags=re.UNICODE)\n",
    "\n",
    "# Function to extract emojis from a text\n",
    "#def filter_text(row):\n",
    "    #matches = colored_squares_pattern.findall(row['Text'])\n",
    "    #if not matches:\n",
    "        #return np.nan  # Label as NaN if no match found\n",
    "    #filtered_text = '-'.join(''.join(element for element in match) for match in matches)\n",
    "    #return filtered_text\n",
    "\n",
    "def filter_text(row):\n",
    "    matches = colored_squares_pattern.findall(row['Text'])\n",
    "    if not matches:\n",
    "        return np.nan  # Label as NaN if no match found\n",
    "    filtered_text = ''.join(''.join(element for element in match) for match in matches).replace('\\n', '')\n",
    "    return filtered_text\n",
    "\n",
    "# Apply the function to each row and update the 'Text' column\n",
    "wordle['Match'] = wordle.apply(filter_text, axis=1)\n",
    "\n",
    "wordle.head()"
   ]
  },
  {
   "cell_type": "markdown",
   "id": "211ef5b7-146d-48a9-898f-d48ceabe19e1",
   "metadata": {},
   "source": [
    "Match ha circa 50000 valori nulli, da Match possiamo ricavare Attempts, ma non viceversa. Non potendo integrare i valori dove Match è nullo, eliminiamo i campioni coinvolti. "
   ]
  },
  {
   "cell_type": "code",
   "execution_count": 9,
   "id": "9f842613-6bea-4cf8-8644-e4637110be6b",
   "metadata": {},
   "outputs": [
    {
     "name": "stdout",
     "output_type": "stream",
     "text": [
      "WordleID                0\n",
      "ID                      0\n",
      "Created_At              0\n",
      "Text                    0\n",
      "Source                  0\n",
      "UserID                  0\n",
      "Username              112\n",
      "User_ScreenName         0\n",
      "Location           573363\n",
      "Truncated               0\n",
      "Attempts            63226\n",
      "Match               48797\n",
      "dtype: int64\n"
     ]
    },
    {
     "data": {
      "text/plain": [
       "WordleID                0\n",
       "ID                      0\n",
       "Created_At              0\n",
       "Text                    0\n",
       "Source                  0\n",
       "UserID                  0\n",
       "Username              112\n",
       "User_ScreenName         0\n",
       "Location           560939\n",
       "Truncated               0\n",
       "Attempts            42054\n",
       "Match                   0\n",
       "dtype: int64"
      ]
     },
     "execution_count": 9,
     "metadata": {},
     "output_type": "execute_result"
    }
   ],
   "source": [
    "print(wordle.isnull().sum())\n",
    "wordle = wordle.dropna(subset=['Match'])\n",
    "wordle.isnull().sum()"
   ]
  },
  {
   "cell_type": "code",
   "execution_count": 10,
   "id": "6d84d87a-11d4-45a2-8071-4d1a73a3876c",
   "metadata": {},
   "outputs": [],
   "source": [
    "wordle['Match'] = wordle['Match'].astype(str)\n",
    "wordle['Match'] = wordle['Match'].apply(lambda x: [x[i:i+5] for i in range(0, len(x), 5)])"
   ]
  },
  {
   "cell_type": "code",
   "execution_count": 11,
   "id": "2c716c83-acf3-4fd9-9ef2-4e3ff452689e",
   "metadata": {},
   "outputs": [
    {
     "data": {
      "text/html": [
       "<div>\n",
       "<style scoped>\n",
       "    .dataframe tbody tr th:only-of-type {\n",
       "        vertical-align: middle;\n",
       "    }\n",
       "\n",
       "    .dataframe tbody tr th {\n",
       "        vertical-align: top;\n",
       "    }\n",
       "\n",
       "    .dataframe thead th {\n",
       "        text-align: right;\n",
       "    }\n",
       "</style>\n",
       "<table border=\"1\" class=\"dataframe\">\n",
       "  <thead>\n",
       "    <tr style=\"text-align: right;\">\n",
       "      <th></th>\n",
       "      <th>WordleID</th>\n",
       "      <th>ID</th>\n",
       "      <th>Created_At</th>\n",
       "      <th>Text</th>\n",
       "      <th>Source</th>\n",
       "      <th>UserID</th>\n",
       "      <th>Username</th>\n",
       "      <th>User_ScreenName</th>\n",
       "      <th>Location</th>\n",
       "      <th>Truncated</th>\n",
       "      <th>Attempts</th>\n",
       "      <th>Match</th>\n",
       "    </tr>\n",
       "  </thead>\n",
       "  <tbody>\n",
       "    <tr>\n",
       "      <th>0</th>\n",
       "      <td>254</td>\n",
       "      <td>1498447921448034305</td>\n",
       "      <td>2022-02-28 23:59:58+00:00</td>\n",
       "      <td>Wordle 254 3/6\\n\\n🟨🟨⬛⬛⬛\\n🟨⬛🟨⬛🟩\\n🟩🟩🟩🟩🟩</td>\n",
       "      <td>Twitter for iPhone</td>\n",
       "      <td>3.681676e+07</td>\n",
       "      <td>Leslie Brown</td>\n",
       "      <td>live_laugh_pray</td>\n",
       "      <td>Haida Gwaii</td>\n",
       "      <td>False</td>\n",
       "      <td>3</td>\n",
       "      <td>[🟨🟨⬛⬛⬛, 🟨⬛🟨⬛🟩, 🟩🟩🟩🟩🟩]</td>\n",
       "    </tr>\n",
       "    <tr>\n",
       "      <th>1</th>\n",
       "      <td>254</td>\n",
       "      <td>1498447918184996864</td>\n",
       "      <td>2022-02-28 23:59:58+00:00</td>\n",
       "      <td>Wordle 254 4/6\\n\\n⬛⬛⬛⬛🟩\\n⬛⬛⬛⬛🟩\\n⬛🟩⬛⬛🟩\\n🟩🟩🟩🟩🟩\\n...</td>\n",
       "      <td>Twitter for iPhone</td>\n",
       "      <td>4.825910e+08</td>\n",
       "      <td>Dylan Sobo</td>\n",
       "      <td>DaBolt727</td>\n",
       "      <td>Largo, FL / Bradenton|FGCU</td>\n",
       "      <td>False</td>\n",
       "      <td>4</td>\n",
       "      <td>[⬛⬛⬛⬛🟩, ⬛⬛⬛⬛🟩, ⬛🟩⬛⬛🟩, 🟩🟩🟩🟩🟩]</td>\n",
       "    </tr>\n",
       "    <tr>\n",
       "      <th>2</th>\n",
       "      <td>254</td>\n",
       "      <td>1498447910173921282</td>\n",
       "      <td>2022-02-28 23:59:56+00:00</td>\n",
       "      <td>Wordle 254 3/6\\n\\n⬛⬛⬛⬛🟩\\n⬛⬛🟩⬛🟩\\n🟩🟩🟩🟩🟩</td>\n",
       "      <td>Twitter for iPhone</td>\n",
       "      <td>1.397624e+18</td>\n",
       "      <td>🖤</td>\n",
       "      <td>wengojos</td>\n",
       "      <td>23 • she/her • 🇵🇭🇺🇸</td>\n",
       "      <td>False</td>\n",
       "      <td>3</td>\n",
       "      <td>[⬛⬛⬛⬛🟩, ⬛⬛🟩⬛🟩, 🟩🟩🟩🟩🟩]</td>\n",
       "    </tr>\n",
       "    <tr>\n",
       "      <th>3</th>\n",
       "      <td>254</td>\n",
       "      <td>1498447901797801989</td>\n",
       "      <td>2022-02-28 23:59:54+00:00</td>\n",
       "      <td>Wordle 254 3/6\\n\\n⬛⬛⬛🟨⬛\\n⬛🟨⬛⬛🟩\\n🟩🟩🟩🟩🟩</td>\n",
       "      <td>Twitter for iPhone</td>\n",
       "      <td>1.255905e+18</td>\n",
       "      <td>Dustin Waters</td>\n",
       "      <td>DustinWaters12</td>\n",
       "      <td>NaN</td>\n",
       "      <td>False</td>\n",
       "      <td>3</td>\n",
       "      <td>[⬛⬛⬛🟨⬛, ⬛🟨⬛⬛🟩, 🟩🟩🟩🟩🟩]</td>\n",
       "    </tr>\n",
       "    <tr>\n",
       "      <th>4</th>\n",
       "      <td>254</td>\n",
       "      <td>1498447896911527938</td>\n",
       "      <td>2022-02-28 23:59:53+00:00</td>\n",
       "      <td>Wordle 254 3/6\\n\\n⬛🟨⬛⬛⬛\\n🟩🟩🟩⬛🟩\\n🟩🟩🟩🟩🟩</td>\n",
       "      <td>Twitter for iPhone</td>\n",
       "      <td>2.528937e+08</td>\n",
       "      <td>R. Colin</td>\n",
       "      <td>rollin_fatty</td>\n",
       "      <td>Richmond, VA</td>\n",
       "      <td>False</td>\n",
       "      <td>3</td>\n",
       "      <td>[⬛🟨⬛⬛⬛, 🟩🟩🟩⬛🟩, 🟩🟩🟩🟩🟩]</td>\n",
       "    </tr>\n",
       "  </tbody>\n",
       "</table>\n",
       "</div>"
      ],
      "text/plain": [
       "   WordleID                   ID                 Created_At  \\\n",
       "0       254  1498447921448034305  2022-02-28 23:59:58+00:00   \n",
       "1       254  1498447918184996864  2022-02-28 23:59:58+00:00   \n",
       "2       254  1498447910173921282  2022-02-28 23:59:56+00:00   \n",
       "3       254  1498447901797801989  2022-02-28 23:59:54+00:00   \n",
       "4       254  1498447896911527938  2022-02-28 23:59:53+00:00   \n",
       "\n",
       "                                                Text              Source  \\\n",
       "0              Wordle 254 3/6\\n\\n🟨🟨⬛⬛⬛\\n🟨⬛🟨⬛🟩\\n🟩🟩🟩🟩🟩  Twitter for iPhone   \n",
       "1  Wordle 254 4/6\\n\\n⬛⬛⬛⬛🟩\\n⬛⬛⬛⬛🟩\\n⬛🟩⬛⬛🟩\\n🟩🟩🟩🟩🟩\\n...  Twitter for iPhone   \n",
       "2              Wordle 254 3/6\\n\\n⬛⬛⬛⬛🟩\\n⬛⬛🟩⬛🟩\\n🟩🟩🟩🟩🟩  Twitter for iPhone   \n",
       "3              Wordle 254 3/6\\n\\n⬛⬛⬛🟨⬛\\n⬛🟨⬛⬛🟩\\n🟩🟩🟩🟩🟩  Twitter for iPhone   \n",
       "4              Wordle 254 3/6\\n\\n⬛🟨⬛⬛⬛\\n🟩🟩🟩⬛🟩\\n🟩🟩🟩🟩🟩  Twitter for iPhone   \n",
       "\n",
       "         UserID       Username  User_ScreenName                    Location  \\\n",
       "0  3.681676e+07   Leslie Brown  live_laugh_pray                 Haida Gwaii   \n",
       "1  4.825910e+08     Dylan Sobo        DaBolt727  Largo, FL / Bradenton|FGCU   \n",
       "2  1.397624e+18              🖤         wengojos         23 • she/her • 🇵🇭🇺🇸   \n",
       "3  1.255905e+18  Dustin Waters   DustinWaters12                         NaN   \n",
       "4  2.528937e+08       R. Colin     rollin_fatty                Richmond, VA   \n",
       "\n",
       "   Truncated Attempts                         Match  \n",
       "0      False        3         [🟨🟨⬛⬛⬛, 🟨⬛🟨⬛🟩, 🟩🟩🟩🟩🟩]  \n",
       "1      False        4  [⬛⬛⬛⬛🟩, ⬛⬛⬛⬛🟩, ⬛🟩⬛⬛🟩, 🟩🟩🟩🟩🟩]  \n",
       "2      False        3         [⬛⬛⬛⬛🟩, ⬛⬛🟩⬛🟩, 🟩🟩🟩🟩🟩]  \n",
       "3      False        3         [⬛⬛⬛🟨⬛, ⬛🟨⬛⬛🟩, 🟩🟩🟩🟩🟩]  \n",
       "4      False        3         [⬛🟨⬛⬛⬛, 🟩🟩🟩⬛🟩, 🟩🟩🟩🟩🟩]  "
      ]
     },
     "execution_count": 11,
     "metadata": {},
     "output_type": "execute_result"
    }
   ],
   "source": [
    "wordle.head()"
   ]
  },
  {
   "cell_type": "markdown",
   "id": "6548e6aa",
   "metadata": {},
   "source": [
    "L'informazione più affidabile su cui basarsi per identificare un utente all'interno del dataset è UserID. L'assenza di valori nulli per questo attributo ci fornisce maggiore sicurezza. Possiamo allora fare a meno delle colonne Username e User_ScreenName che possono contenere identificativi non unici e modificabili da parte dell'utente nel tempo.\n",
    "\n",
    "Notiamo inoltre che la colonna Location contiene anche valori nulli e valori errati. Come ulteriore verifica, su Kaggle ci viene suggerito che il 27% dei valori è nullo, il 72% non viene associato a una macrocategoria, mentre l'1% dei tweet risulta provenire dagli Stati Uniti. Dopo aver verificato a nostra volta che il numero di valori nulli per questa caratteristica è elevato, eliminiamo la colonna. "
   ]
  },
  {
   "cell_type": "code",
   "execution_count": 12,
   "id": "c528eae7-0830-4516-9158-72a378fcd493",
   "metadata": {},
   "outputs": [],
   "source": [
    "wordle = wordle[wordle['Truncated'] != True]\n",
    "wordle.drop(columns=['Username', 'User_ScreenName', 'Location', 'Truncated', 'Text'], inplace=True)"
   ]
  },
  {
   "cell_type": "markdown",
   "id": "0ac482df-c4cf-4ab7-b503-5e6539199944",
   "metadata": {},
   "source": [
    "Nel nostro dataset a ogni X corrisponde una partita persa, quindi a 6 tentativi. "
   ]
  },
  {
   "cell_type": "code",
   "execution_count": 13,
   "id": "76cd420c-6dfb-4ebb-9b56-1ef7cb37e20e",
   "metadata": {},
   "outputs": [
    {
     "data": {
      "text/plain": [
       "WordleID          0\n",
       "ID                0\n",
       "Created_At        0\n",
       "Source            0\n",
       "UserID            0\n",
       "Attempts      39712\n",
       "Match             0\n",
       "dtype: int64"
      ]
     },
     "execution_count": 13,
     "metadata": {},
     "output_type": "execute_result"
    }
   ],
   "source": [
    "wordle.isnull().sum()"
   ]
  },
  {
   "cell_type": "code",
   "execution_count": 14,
   "id": "c95dca58-447f-481c-84b4-8994c71e2fb0",
   "metadata": {},
   "outputs": [
    {
     "data": {
      "text/html": [
       "<div>\n",
       "<style scoped>\n",
       "    .dataframe tbody tr th:only-of-type {\n",
       "        vertical-align: middle;\n",
       "    }\n",
       "\n",
       "    .dataframe tbody tr th {\n",
       "        vertical-align: top;\n",
       "    }\n",
       "\n",
       "    .dataframe thead th {\n",
       "        text-align: right;\n",
       "    }\n",
       "</style>\n",
       "<table border=\"1\" class=\"dataframe\">\n",
       "  <thead>\n",
       "    <tr style=\"text-align: right;\">\n",
       "      <th></th>\n",
       "      <th>WordleID</th>\n",
       "      <th>ID</th>\n",
       "      <th>Created_At</th>\n",
       "      <th>Source</th>\n",
       "      <th>UserID</th>\n",
       "      <th>Attempts</th>\n",
       "      <th>Match</th>\n",
       "    </tr>\n",
       "  </thead>\n",
       "  <tbody>\n",
       "    <tr>\n",
       "      <th>0</th>\n",
       "      <td>254</td>\n",
       "      <td>1498447921448034305</td>\n",
       "      <td>2022-02-28 23:59:58+00:00</td>\n",
       "      <td>Twitter for iPhone</td>\n",
       "      <td>3.681676e+07</td>\n",
       "      <td>3</td>\n",
       "      <td>[🟨🟨⬛⬛⬛, 🟨⬛🟨⬛🟩, 🟩🟩🟩🟩🟩]</td>\n",
       "    </tr>\n",
       "    <tr>\n",
       "      <th>1</th>\n",
       "      <td>254</td>\n",
       "      <td>1498447918184996864</td>\n",
       "      <td>2022-02-28 23:59:58+00:00</td>\n",
       "      <td>Twitter for iPhone</td>\n",
       "      <td>4.825910e+08</td>\n",
       "      <td>4</td>\n",
       "      <td>[⬛⬛⬛⬛🟩, ⬛⬛⬛⬛🟩, ⬛🟩⬛⬛🟩, 🟩🟩🟩🟩🟩]</td>\n",
       "    </tr>\n",
       "    <tr>\n",
       "      <th>2</th>\n",
       "      <td>254</td>\n",
       "      <td>1498447910173921282</td>\n",
       "      <td>2022-02-28 23:59:56+00:00</td>\n",
       "      <td>Twitter for iPhone</td>\n",
       "      <td>1.397624e+18</td>\n",
       "      <td>3</td>\n",
       "      <td>[⬛⬛⬛⬛🟩, ⬛⬛🟩⬛🟩, 🟩🟩🟩🟩🟩]</td>\n",
       "    </tr>\n",
       "    <tr>\n",
       "      <th>3</th>\n",
       "      <td>254</td>\n",
       "      <td>1498447901797801989</td>\n",
       "      <td>2022-02-28 23:59:54+00:00</td>\n",
       "      <td>Twitter for iPhone</td>\n",
       "      <td>1.255905e+18</td>\n",
       "      <td>3</td>\n",
       "      <td>[⬛⬛⬛🟨⬛, ⬛🟨⬛⬛🟩, 🟩🟩🟩🟩🟩]</td>\n",
       "    </tr>\n",
       "    <tr>\n",
       "      <th>4</th>\n",
       "      <td>254</td>\n",
       "      <td>1498447896911527938</td>\n",
       "      <td>2022-02-28 23:59:53+00:00</td>\n",
       "      <td>Twitter for iPhone</td>\n",
       "      <td>2.528937e+08</td>\n",
       "      <td>3</td>\n",
       "      <td>[⬛🟨⬛⬛⬛, 🟩🟩🟩⬛🟩, 🟩🟩🟩🟩🟩]</td>\n",
       "    </tr>\n",
       "  </tbody>\n",
       "</table>\n",
       "</div>"
      ],
      "text/plain": [
       "   WordleID                   ID                 Created_At  \\\n",
       "0       254  1498447921448034305  2022-02-28 23:59:58+00:00   \n",
       "1       254  1498447918184996864  2022-02-28 23:59:58+00:00   \n",
       "2       254  1498447910173921282  2022-02-28 23:59:56+00:00   \n",
       "3       254  1498447901797801989  2022-02-28 23:59:54+00:00   \n",
       "4       254  1498447896911527938  2022-02-28 23:59:53+00:00   \n",
       "\n",
       "               Source        UserID Attempts                         Match  \n",
       "0  Twitter for iPhone  3.681676e+07        3         [🟨🟨⬛⬛⬛, 🟨⬛🟨⬛🟩, 🟩🟩🟩🟩🟩]  \n",
       "1  Twitter for iPhone  4.825910e+08        4  [⬛⬛⬛⬛🟩, ⬛⬛⬛⬛🟩, ⬛🟩⬛⬛🟩, 🟩🟩🟩🟩🟩]  \n",
       "2  Twitter for iPhone  1.397624e+18        3         [⬛⬛⬛⬛🟩, ⬛⬛🟩⬛🟩, 🟩🟩🟩🟩🟩]  \n",
       "3  Twitter for iPhone  1.255905e+18        3         [⬛⬛⬛🟨⬛, ⬛🟨⬛⬛🟩, 🟩🟩🟩🟩🟩]  \n",
       "4  Twitter for iPhone  2.528937e+08        3         [⬛🟨⬛⬛⬛, 🟩🟩🟩⬛🟩, 🟩🟩🟩🟩🟩]  "
      ]
     },
     "execution_count": 14,
     "metadata": {},
     "output_type": "execute_result"
    }
   ],
   "source": [
    "#wordle['Win'] = ~wordle['Attempts'].isin(['X', np.nan])\n",
    "wordle['Attempts'] = wordle['Attempts'].replace('X', '6')\n",
    "\n",
    "# Print the first few rows to check the result\n",
    "wordle.head()"
   ]
  },
  {
   "cell_type": "code",
   "execution_count": 15,
   "id": "5b79dfd4-f5ea-47c2-945d-b207467337fc",
   "metadata": {},
   "outputs": [
    {
     "data": {
      "text/plain": [
       "WordleID          0\n",
       "ID                0\n",
       "Created_At        0\n",
       "Source            0\n",
       "UserID            0\n",
       "Attempts      39712\n",
       "Match             0\n",
       "dtype: int64"
      ]
     },
     "execution_count": 15,
     "metadata": {},
     "output_type": "execute_result"
    }
   ],
   "source": [
    "wordle.isnull().sum()"
   ]
  },
  {
   "cell_type": "markdown",
   "id": "178c2886-ef8f-46c5-9c1c-5c6d8e384866",
   "metadata": {},
   "source": [
    "Verifichiamo che i nostri dati siano coerenti. Per prima cosa verifichiamo che per ogni campione il numero di gruppi da 5 quadrati consecutivi appena estratto sia uguale al valore contenuto nella caratteristica 'Attempts'. Se i due non sono uguali può significare che la partita riportata nel tweet era sbagliata, che nel tweet è riportata più di una partita o che Attempts non rispecchia la partita presente nel tweet."
   ]
  },
  {
   "cell_type": "code",
   "execution_count": 16,
   "id": "787e4171-e67c-4813-97f5-36fbef4b30d2",
   "metadata": {},
   "outputs": [
    {
     "data": {
      "text/plain": [
       "WordleID      0\n",
       "ID            0\n",
       "Created_At    0\n",
       "Source        0\n",
       "UserID        0\n",
       "Attempts      0\n",
       "Match         0\n",
       "dtype: int64"
      ]
     },
     "execution_count": 16,
     "metadata": {},
     "output_type": "execute_result"
    }
   ],
   "source": [
    "wordle = wordle.dropna(subset=['Attempts'])\n",
    "wordle.isnull().sum()"
   ]
  },
  {
   "cell_type": "code",
   "execution_count": 17,
   "id": "f28ceae2-db44-45d6-878e-f23d3524fb08",
   "metadata": {},
   "outputs": [
    {
     "data": {
      "text/plain": [
       "2033741"
      ]
     },
     "execution_count": 17,
     "metadata": {},
     "output_type": "execute_result"
    }
   ],
   "source": [
    "wordle.shape[0]"
   ]
  },
  {
   "cell_type": "code",
   "execution_count": 18,
   "id": "d5730e0a-161c-402a-b225-a272806671bc",
   "metadata": {},
   "outputs": [
    {
     "name": "stdout",
     "output_type": "stream",
     "text": [
      "Number of rows where the number of elements in 'Match' is not equal to 'Attempts': 11528\n",
      "Total number of rows: 2033741\n"
     ]
    }
   ],
   "source": [
    "\n",
    "wordle['Attempts'] = wordle['Attempts'].astype(int)\n",
    "\n",
    "def verify_length(row):\n",
    "    # Get the length of the 'Text' array\n",
    "    text_length = len(row['Match'])\n",
    "    \n",
    "    # Get the value in the 'Attempts' column\n",
    "    attempts = row['Attempts']\n",
    "    \n",
    "    # Check if the lengths match\n",
    "    return text_length != attempts\n",
    "\n",
    "# Count the number of rows where lengths do not match\n",
    "num_mismatched_rows = wordle.apply(verify_length, axis=1).sum()\n",
    "\n",
    "print(\"Number of rows where the number of elements in 'Match' is not equal to 'Attempts':\", num_mismatched_rows)\n",
    "print(\"Total number of rows:\", wordle.shape[0])"
   ]
  },
  {
   "cell_type": "markdown",
   "id": "02dbaaad-63f6-45fd-9039-b4e3ff1d0f04",
   "metadata": {},
   "source": [
    "Eliminiamo le righe dove c'è incoerenza. "
   ]
  },
  {
   "cell_type": "code",
   "execution_count": 19,
   "id": "284fcaa4-1c93-4b92-af22-096c8f72bb7a",
   "metadata": {},
   "outputs": [
    {
     "name": "stdout",
     "output_type": "stream",
     "text": [
      "2022213\n"
     ]
    },
    {
     "data": {
      "text/html": [
       "<div>\n",
       "<style scoped>\n",
       "    .dataframe tbody tr th:only-of-type {\n",
       "        vertical-align: middle;\n",
       "    }\n",
       "\n",
       "    .dataframe tbody tr th {\n",
       "        vertical-align: top;\n",
       "    }\n",
       "\n",
       "    .dataframe thead th {\n",
       "        text-align: right;\n",
       "    }\n",
       "</style>\n",
       "<table border=\"1\" class=\"dataframe\">\n",
       "  <thead>\n",
       "    <tr style=\"text-align: right;\">\n",
       "      <th></th>\n",
       "      <th>WordleID</th>\n",
       "      <th>ID</th>\n",
       "      <th>Created_At</th>\n",
       "      <th>Source</th>\n",
       "      <th>UserID</th>\n",
       "      <th>Attempts</th>\n",
       "      <th>Match</th>\n",
       "    </tr>\n",
       "  </thead>\n",
       "  <tbody>\n",
       "    <tr>\n",
       "      <th>0</th>\n",
       "      <td>254</td>\n",
       "      <td>1498447921448034305</td>\n",
       "      <td>2022-02-28 23:59:58+00:00</td>\n",
       "      <td>Twitter for iPhone</td>\n",
       "      <td>3.681676e+07</td>\n",
       "      <td>3</td>\n",
       "      <td>[🟨🟨⬛⬛⬛, 🟨⬛🟨⬛🟩, 🟩🟩🟩🟩🟩]</td>\n",
       "    </tr>\n",
       "    <tr>\n",
       "      <th>1</th>\n",
       "      <td>254</td>\n",
       "      <td>1498447918184996864</td>\n",
       "      <td>2022-02-28 23:59:58+00:00</td>\n",
       "      <td>Twitter for iPhone</td>\n",
       "      <td>4.825910e+08</td>\n",
       "      <td>4</td>\n",
       "      <td>[⬛⬛⬛⬛🟩, ⬛⬛⬛⬛🟩, ⬛🟩⬛⬛🟩, 🟩🟩🟩🟩🟩]</td>\n",
       "    </tr>\n",
       "    <tr>\n",
       "      <th>2</th>\n",
       "      <td>254</td>\n",
       "      <td>1498447910173921282</td>\n",
       "      <td>2022-02-28 23:59:56+00:00</td>\n",
       "      <td>Twitter for iPhone</td>\n",
       "      <td>1.397624e+18</td>\n",
       "      <td>3</td>\n",
       "      <td>[⬛⬛⬛⬛🟩, ⬛⬛🟩⬛🟩, 🟩🟩🟩🟩🟩]</td>\n",
       "    </tr>\n",
       "    <tr>\n",
       "      <th>3</th>\n",
       "      <td>254</td>\n",
       "      <td>1498447901797801989</td>\n",
       "      <td>2022-02-28 23:59:54+00:00</td>\n",
       "      <td>Twitter for iPhone</td>\n",
       "      <td>1.255905e+18</td>\n",
       "      <td>3</td>\n",
       "      <td>[⬛⬛⬛🟨⬛, ⬛🟨⬛⬛🟩, 🟩🟩🟩🟩🟩]</td>\n",
       "    </tr>\n",
       "    <tr>\n",
       "      <th>4</th>\n",
       "      <td>254</td>\n",
       "      <td>1498447896911527938</td>\n",
       "      <td>2022-02-28 23:59:53+00:00</td>\n",
       "      <td>Twitter for iPhone</td>\n",
       "      <td>2.528937e+08</td>\n",
       "      <td>3</td>\n",
       "      <td>[⬛🟨⬛⬛⬛, 🟩🟩🟩⬛🟩, 🟩🟩🟩🟩🟩]</td>\n",
       "    </tr>\n",
       "  </tbody>\n",
       "</table>\n",
       "</div>"
      ],
      "text/plain": [
       "   WordleID                   ID                 Created_At  \\\n",
       "0       254  1498447921448034305  2022-02-28 23:59:58+00:00   \n",
       "1       254  1498447918184996864  2022-02-28 23:59:58+00:00   \n",
       "2       254  1498447910173921282  2022-02-28 23:59:56+00:00   \n",
       "3       254  1498447901797801989  2022-02-28 23:59:54+00:00   \n",
       "4       254  1498447896911527938  2022-02-28 23:59:53+00:00   \n",
       "\n",
       "               Source        UserID  Attempts                         Match  \n",
       "0  Twitter for iPhone  3.681676e+07         3         [🟨🟨⬛⬛⬛, 🟨⬛🟨⬛🟩, 🟩🟩🟩🟩🟩]  \n",
       "1  Twitter for iPhone  4.825910e+08         4  [⬛⬛⬛⬛🟩, ⬛⬛⬛⬛🟩, ⬛🟩⬛⬛🟩, 🟩🟩🟩🟩🟩]  \n",
       "2  Twitter for iPhone  1.397624e+18         3         [⬛⬛⬛⬛🟩, ⬛⬛🟩⬛🟩, 🟩🟩🟩🟩🟩]  \n",
       "3  Twitter for iPhone  1.255905e+18         3         [⬛⬛⬛🟨⬛, ⬛🟨⬛⬛🟩, 🟩🟩🟩🟩🟩]  \n",
       "4  Twitter for iPhone  2.528937e+08         3         [⬛🟨⬛⬛⬛, 🟩🟩🟩⬛🟩, 🟩🟩🟩🟩🟩]  "
      ]
     },
     "execution_count": 19,
     "metadata": {},
     "output_type": "execute_result"
    }
   ],
   "source": [
    "# Create a boolean mask indicating whether the number of elements in 'Text' matches 'Attempts'\n",
    "mask = wordle.apply(lambda row: len(row['Match']) == row['Attempts'], axis=1)\n",
    "\n",
    "# Drop the rows where the number of elements in 'Text' does not match 'Attempts'\n",
    "wordle = wordle[mask]\n",
    "\n",
    "# Print the resulting DataFrame\n",
    "print(wordle.shape[0])\n",
    "wordle.head()"
   ]
  },
  {
   "cell_type": "markdown",
   "id": "52338a05-4e1a-4e06-9282-31a6a5adb372",
   "metadata": {},
   "source": [
    "Ora che sappiamo che il numero di gruppi di quadrati consecutivi coincide sempre col numero di tentativi, continuiamo la verifica di coerenza, eliminando tutte quelle righe che contengono valori sbagliati del campo 'Match' (come ad esempio 6 righe di 5 quadrati tutti verdi). "
   ]
  },
  {
   "cell_type": "code",
   "execution_count": 20,
   "id": "e09528b3-d2f7-4e30-9b24-d95777a332e6",
   "metadata": {},
   "outputs": [
    {
     "name": "stdout",
     "output_type": "stream",
     "text": [
      "2022184\n"
     ]
    }
   ],
   "source": [
    "def meets_conditions(row):\n",
    "    # Check if any element in 'Text' contains five 🟩 or five 🟧 emojis\n",
    "    for i, text in enumerate(row['Match']):\n",
    "        if text.count('🟩') == 5: #or text.count('🟧') == 5:\n",
    "            # Check if it's the last element of the array\n",
    "            if i == len(row['Match']) - 1:\n",
    "                # If the condition is met and it's the last element, check if it's the only one\n",
    "                num_matching_elements = sum(1 for t in row['Match'] if t.count('🟩') == 5) #or t.count('🟧') == 5)\n",
    "                if num_matching_elements == 1:\n",
    "                    return True\n",
    "                else:\n",
    "                    return False\n",
    "            else:\n",
    "                return False\n",
    "    # If no element contains five 🟩 or five 🟧 emojis, return True\n",
    "    return True\n",
    "\n",
    "wrong_rows = wordle[~wordle.apply(meets_conditions, axis=1)]\n",
    "\n",
    "# Apply the function to each row of the DataFrame to filter out rows that don't meet the conditions\n",
    "wordle = wordle[wordle.apply(meets_conditions, axis=1)]\n",
    "print(wordle.shape[0])"
   ]
  },
  {
   "cell_type": "code",
   "execution_count": 21,
   "id": "6661b4f4-1d65-4396-83b0-5c0524081869",
   "metadata": {},
   "outputs": [
    {
     "data": {
      "text/html": [
       "<div>\n",
       "<style scoped>\n",
       "    .dataframe tbody tr th:only-of-type {\n",
       "        vertical-align: middle;\n",
       "    }\n",
       "\n",
       "    .dataframe tbody tr th {\n",
       "        vertical-align: top;\n",
       "    }\n",
       "\n",
       "    .dataframe thead th {\n",
       "        text-align: right;\n",
       "    }\n",
       "</style>\n",
       "<table border=\"1\" class=\"dataframe\">\n",
       "  <thead>\n",
       "    <tr style=\"text-align: right;\">\n",
       "      <th></th>\n",
       "      <th>WordleID</th>\n",
       "      <th>ID</th>\n",
       "      <th>Created_At</th>\n",
       "      <th>Source</th>\n",
       "      <th>UserID</th>\n",
       "      <th>Attempts</th>\n",
       "      <th>Match</th>\n",
       "    </tr>\n",
       "  </thead>\n",
       "  <tbody>\n",
       "    <tr>\n",
       "      <th>29140</th>\n",
       "      <td>255</td>\n",
       "      <td>1498772741654261763</td>\n",
       "      <td>2022-03-01 21:30:42+00:00</td>\n",
       "      <td>Twitter for Android</td>\n",
       "      <td>1.420928e+18</td>\n",
       "      <td>5</td>\n",
       "      <td>[🟩🟩🟩🟩🟩, 🟩🟩🟩🟩🟩, 🟩🟩🟩🟩🟩, 🟩🟩🟩🟩🟩, 🟩🟩🟩🟩🟩]</td>\n",
       "    </tr>\n",
       "    <tr>\n",
       "      <th>44728</th>\n",
       "      <td>256</td>\n",
       "      <td>1499150725229826052</td>\n",
       "      <td>2022-03-02 22:32:40+00:00</td>\n",
       "      <td>Twitter for iPhone</td>\n",
       "      <td>1.190034e+18</td>\n",
       "      <td>6</td>\n",
       "      <td>[🟩🟩🟩🟩🟩, 🟩🟩🟩🟩🟩, 🟩🟩🟩🟩🟩, 🟩🟩🟩🟩🟩, 🟩🟩🟩🟩🟩, 🟩🟩🟩🟩🟩]</td>\n",
       "    </tr>\n",
       "    <tr>\n",
       "      <th>45083</th>\n",
       "      <td>256</td>\n",
       "      <td>1499149451822260228</td>\n",
       "      <td>2022-03-02 22:27:36+00:00</td>\n",
       "      <td>Twitter for iPhone</td>\n",
       "      <td>1.481837e+18</td>\n",
       "      <td>6</td>\n",
       "      <td>[🟩🟩🟩🟩🟩, 🟩🟩🟩🟩🟩, 🟩🟩🟩🟩🟩, 🟩🟩🟩🟩🟩, 🟩🟩🟩🟩🟩, 🟩🟩🟩🟩🟩]</td>\n",
       "    </tr>\n",
       "    <tr>\n",
       "      <th>45186</th>\n",
       "      <td>256</td>\n",
       "      <td>1499149042852397057</td>\n",
       "      <td>2022-03-02 22:25:59+00:00</td>\n",
       "      <td>Twitter for iPhone</td>\n",
       "      <td>1.456332e+18</td>\n",
       "      <td>6</td>\n",
       "      <td>[🟩🟩🟩🟩🟩, 🟩🟩🟩🟩🟩, 🟩🟩🟩🟩🟩, 🟩🟩🟩🟩🟩, 🟩🟩🟩🟩🟩, 🟩🟩🟩🟩🟩]</td>\n",
       "    </tr>\n",
       "    <tr>\n",
       "      <th>54251</th>\n",
       "      <td>256</td>\n",
       "      <td>1499116431148945410</td>\n",
       "      <td>2022-03-02 20:16:24+00:00</td>\n",
       "      <td>Twitter Web App</td>\n",
       "      <td>1.021135e+18</td>\n",
       "      <td>6</td>\n",
       "      <td>[⬛🟩🟩🟩🟩, 🟩🟩🟨🟨🟨, 🟩🟩🟩🟩🟩, 🟩🟩🟩🟩🟩, 🟩🟩🟩🟩🟩, ⬛🟩⬛⬛🟩]</td>\n",
       "    </tr>\n",
       "  </tbody>\n",
       "</table>\n",
       "</div>"
      ],
      "text/plain": [
       "       WordleID                   ID                 Created_At  \\\n",
       "29140       255  1498772741654261763  2022-03-01 21:30:42+00:00   \n",
       "44728       256  1499150725229826052  2022-03-02 22:32:40+00:00   \n",
       "45083       256  1499149451822260228  2022-03-02 22:27:36+00:00   \n",
       "45186       256  1499149042852397057  2022-03-02 22:25:59+00:00   \n",
       "54251       256  1499116431148945410  2022-03-02 20:16:24+00:00   \n",
       "\n",
       "                    Source        UserID  Attempts  \\\n",
       "29140  Twitter for Android  1.420928e+18         5   \n",
       "44728   Twitter for iPhone  1.190034e+18         6   \n",
       "45083   Twitter for iPhone  1.481837e+18         6   \n",
       "45186   Twitter for iPhone  1.456332e+18         6   \n",
       "54251      Twitter Web App  1.021135e+18         6   \n",
       "\n",
       "                                            Match  \n",
       "29140         [🟩🟩🟩🟩🟩, 🟩🟩🟩🟩🟩, 🟩🟩🟩🟩🟩, 🟩🟩🟩🟩🟩, 🟩🟩🟩🟩🟩]  \n",
       "44728  [🟩🟩🟩🟩🟩, 🟩🟩🟩🟩🟩, 🟩🟩🟩🟩🟩, 🟩🟩🟩🟩🟩, 🟩🟩🟩🟩🟩, 🟩🟩🟩🟩🟩]  \n",
       "45083  [🟩🟩🟩🟩🟩, 🟩🟩🟩🟩🟩, 🟩🟩🟩🟩🟩, 🟩🟩🟩🟩🟩, 🟩🟩🟩🟩🟩, 🟩🟩🟩🟩🟩]  \n",
       "45186  [🟩🟩🟩🟩🟩, 🟩🟩🟩🟩🟩, 🟩🟩🟩🟩🟩, 🟩🟩🟩🟩🟩, 🟩🟩🟩🟩🟩, 🟩🟩🟩🟩🟩]  \n",
       "54251  [⬛🟩🟩🟩🟩, 🟩🟩🟨🟨🟨, 🟩🟩🟩🟩🟩, 🟩🟩🟩🟩🟩, 🟩🟩🟩🟩🟩, ⬛🟩⬛⬛🟩]  "
      ]
     },
     "execution_count": 21,
     "metadata": {},
     "output_type": "execute_result"
    }
   ],
   "source": [
    "wrong_rows.head()"
   ]
  },
  {
   "cell_type": "markdown",
   "id": "e8f21b1d-2c34-4913-a85c-1a7b54490795",
   "metadata": {},
   "source": [
    "Abbiamo effettivamente eliminato dei campioni errati.\n",
    "Terminiamo l'analisi creando una colonna 'Win' che ci indichi se una partita è stata vinta o persa. "
   ]
  },
  {
   "cell_type": "code",
   "execution_count": 22,
   "id": "5c9be5ab-f902-4cce-870b-6aa4efa88763",
   "metadata": {},
   "outputs": [
    {
     "data": {
      "text/html": [
       "<div>\n",
       "<style scoped>\n",
       "    .dataframe tbody tr th:only-of-type {\n",
       "        vertical-align: middle;\n",
       "    }\n",
       "\n",
       "    .dataframe tbody tr th {\n",
       "        vertical-align: top;\n",
       "    }\n",
       "\n",
       "    .dataframe thead th {\n",
       "        text-align: right;\n",
       "    }\n",
       "</style>\n",
       "<table border=\"1\" class=\"dataframe\">\n",
       "  <thead>\n",
       "    <tr style=\"text-align: right;\">\n",
       "      <th></th>\n",
       "      <th>WordleID</th>\n",
       "      <th>ID</th>\n",
       "      <th>Created_At</th>\n",
       "      <th>Source</th>\n",
       "      <th>UserID</th>\n",
       "      <th>Attempts</th>\n",
       "      <th>Match</th>\n",
       "      <th>Win</th>\n",
       "    </tr>\n",
       "  </thead>\n",
       "  <tbody>\n",
       "    <tr>\n",
       "      <th>0</th>\n",
       "      <td>254</td>\n",
       "      <td>1498447921448034305</td>\n",
       "      <td>2022-02-28 23:59:58+00:00</td>\n",
       "      <td>Twitter for iPhone</td>\n",
       "      <td>3.681676e+07</td>\n",
       "      <td>3</td>\n",
       "      <td>[🟨🟨⬛⬛⬛, 🟨⬛🟨⬛🟩, 🟩🟩🟩🟩🟩]</td>\n",
       "      <td>True</td>\n",
       "    </tr>\n",
       "    <tr>\n",
       "      <th>1</th>\n",
       "      <td>254</td>\n",
       "      <td>1498447918184996864</td>\n",
       "      <td>2022-02-28 23:59:58+00:00</td>\n",
       "      <td>Twitter for iPhone</td>\n",
       "      <td>4.825910e+08</td>\n",
       "      <td>4</td>\n",
       "      <td>[⬛⬛⬛⬛🟩, ⬛⬛⬛⬛🟩, ⬛🟩⬛⬛🟩, 🟩🟩🟩🟩🟩]</td>\n",
       "      <td>True</td>\n",
       "    </tr>\n",
       "    <tr>\n",
       "      <th>2</th>\n",
       "      <td>254</td>\n",
       "      <td>1498447910173921282</td>\n",
       "      <td>2022-02-28 23:59:56+00:00</td>\n",
       "      <td>Twitter for iPhone</td>\n",
       "      <td>1.397624e+18</td>\n",
       "      <td>3</td>\n",
       "      <td>[⬛⬛⬛⬛🟩, ⬛⬛🟩⬛🟩, 🟩🟩🟩🟩🟩]</td>\n",
       "      <td>True</td>\n",
       "    </tr>\n",
       "    <tr>\n",
       "      <th>3</th>\n",
       "      <td>254</td>\n",
       "      <td>1498447901797801989</td>\n",
       "      <td>2022-02-28 23:59:54+00:00</td>\n",
       "      <td>Twitter for iPhone</td>\n",
       "      <td>1.255905e+18</td>\n",
       "      <td>3</td>\n",
       "      <td>[⬛⬛⬛🟨⬛, ⬛🟨⬛⬛🟩, 🟩🟩🟩🟩🟩]</td>\n",
       "      <td>True</td>\n",
       "    </tr>\n",
       "    <tr>\n",
       "      <th>4</th>\n",
       "      <td>254</td>\n",
       "      <td>1498447896911527938</td>\n",
       "      <td>2022-02-28 23:59:53+00:00</td>\n",
       "      <td>Twitter for iPhone</td>\n",
       "      <td>2.528937e+08</td>\n",
       "      <td>3</td>\n",
       "      <td>[⬛🟨⬛⬛⬛, 🟩🟩🟩⬛🟩, 🟩🟩🟩🟩🟩]</td>\n",
       "      <td>True</td>\n",
       "    </tr>\n",
       "  </tbody>\n",
       "</table>\n",
       "</div>"
      ],
      "text/plain": [
       "   WordleID                   ID                 Created_At  \\\n",
       "0       254  1498447921448034305  2022-02-28 23:59:58+00:00   \n",
       "1       254  1498447918184996864  2022-02-28 23:59:58+00:00   \n",
       "2       254  1498447910173921282  2022-02-28 23:59:56+00:00   \n",
       "3       254  1498447901797801989  2022-02-28 23:59:54+00:00   \n",
       "4       254  1498447896911527938  2022-02-28 23:59:53+00:00   \n",
       "\n",
       "               Source        UserID  Attempts                         Match  \\\n",
       "0  Twitter for iPhone  3.681676e+07         3         [🟨🟨⬛⬛⬛, 🟨⬛🟨⬛🟩, 🟩🟩🟩🟩🟩]   \n",
       "1  Twitter for iPhone  4.825910e+08         4  [⬛⬛⬛⬛🟩, ⬛⬛⬛⬛🟩, ⬛🟩⬛⬛🟩, 🟩🟩🟩🟩🟩]   \n",
       "2  Twitter for iPhone  1.397624e+18         3         [⬛⬛⬛⬛🟩, ⬛⬛🟩⬛🟩, 🟩🟩🟩🟩🟩]   \n",
       "3  Twitter for iPhone  1.255905e+18         3         [⬛⬛⬛🟨⬛, ⬛🟨⬛⬛🟩, 🟩🟩🟩🟩🟩]   \n",
       "4  Twitter for iPhone  2.528937e+08         3         [⬛🟨⬛⬛⬛, 🟩🟩🟩⬛🟩, 🟩🟩🟩🟩🟩]   \n",
       "\n",
       "    Win  \n",
       "0  True  \n",
       "1  True  \n",
       "2  True  \n",
       "3  True  \n",
       "4  True  "
      ]
     },
     "execution_count": 22,
     "metadata": {},
     "output_type": "execute_result"
    }
   ],
   "source": [
    "def verify_winning_rows(row):\n",
    "    # Get the last element of the 'Text_Array'\n",
    "    last_element = row['Match'][-1]\n",
    "        \n",
    "    # Check if the last element contains five 🟩 or five 🟧 emojis\n",
    "    if last_element.count('🟩') == 5 or last_element.count('🟧') == 5:\n",
    "            # Check if the last element is the only one containing five 🟩 or five 🟧 emojis\n",
    "            num_matching_elements = sum(1 for text in row['Match'] if text.count('🟩') == 5 or text.count('🟧') == 5)\n",
    "            return num_matching_elements == 1\n",
    "    return False\n",
    "\n",
    "wordle.loc[:, 'Win'] = wordle.apply(verify_winning_rows, axis=1)\n",
    "wordle.head()"
   ]
  },
  {
   "cell_type": "code",
   "execution_count": 23,
   "id": "707898a2-ae60-410c-a9e0-86f6c4552914",
   "metadata": {},
   "outputs": [
    {
     "data": {
      "text/plain": [
       "(2022184, 8)"
      ]
     },
     "execution_count": 23,
     "metadata": {},
     "output_type": "execute_result"
    }
   ],
   "source": [
    "wordle.shape"
   ]
  },
  {
   "cell_type": "markdown",
   "id": "6ed21f0c-7a15-40dc-926f-90935d2da0a6",
   "metadata": {},
   "source": [
    "Manca un'ultimo controllo per la coerenza. Noi ora sappiamo che le righe in Match sono pari al numero di tentativi in Attempts. Sappiamo anche che le righe di Match contengono cinque quadrati verdi alla fine oppure non ne contengono. Ci manca ancora uno scenario da eliminare dal nostro dataset: per esempio se attempts fosse stata 3 e le righe di Match non contengono la win line, si tratta di un errore che è ancora presente. Per eliminarlo verifichiamo che dovunque si abbia win a false e attempt, ossia il numero di righe di Match, sia 6. "
   ]
  },
  {
   "cell_type": "code",
   "execution_count": 24,
   "id": "136204e5-309b-44b0-8db9-2d52bc77c2ce",
   "metadata": {},
   "outputs": [
    {
     "name": "stdout",
     "output_type": "stream",
     "text": [
      "Number of rows where verify_attempts is False: 9\n"
     ]
    }
   ],
   "source": [
    "def verify_attempts(row):\n",
    "    # Check if 'Win' column value is False and 'Attempts' column value is 6\n",
    "    if row['Win']:\n",
    "        return True\n",
    "    if not row['Win'] and row['Attempts'] == 6:\n",
    "        return True\n",
    "    else:\n",
    "        return False\n",
    "\n",
    "# Apply the function to each row of the DataFrame\n",
    "wordle['Verify_Attempts'] = wordle.apply(verify_attempts, axis=1)\n",
    "\n",
    "\n",
    "num_false_attempts_and_win = len(wordle[(wordle['Verify_Attempts'] == False)])\n",
    "\n",
    "print(\"Number of rows where verify_attempts is False:\", num_false_attempts_and_win)"
   ]
  },
  {
   "cell_type": "markdown",
   "id": "eb5bcf47-e6e5-4961-997e-53d65367ca8b",
   "metadata": {},
   "source": [
    "Abbiamo solo 9 righe in cui i giocatori hanno rinunciato prima di terminare la partita, essendo un numero estremamente ridotto rispetto alle dimensioni del dataset scegliamo consapevolmente di rinunciare a questa informazioni"
   ]
  },
  {
   "cell_type": "code",
   "execution_count": 25,
   "id": "571f6252-1753-42bd-88d8-a17723e15147",
   "metadata": {},
   "outputs": [
    {
     "name": "stdout",
     "output_type": "stream",
     "text": [
      "         WordleID                   ID                 Created_At  \\\n",
      "96200         258  1499825004531179523  2022-03-04 19:12:01+00:00   \n",
      "194152        263  1501640204939108361  2022-03-09 19:24:58+00:00   \n",
      "275652        267  1503082157912125440  2022-03-13 18:54:47+00:00   \n",
      "453871        276  1506337660348121090  2022-03-22 18:30:59+00:00   \n",
      "570874        282  1508531683284463626  2022-03-28 19:49:15+00:00   \n",
      "642415        286  1509673321050554368  2022-03-31 23:25:42+00:00   \n",
      "927641        301  1515406068192583687  2022-04-16 19:05:36+00:00   \n",
      "1183027       314  1520156070571909123  2022-04-29 21:40:25+00:00   \n",
      "1744112       353  1534253526037450752  2022-06-07 19:18:40+00:00   \n",
      "\n",
      "                      Source        UserID  Attempts  \\\n",
      "96200        Twitter Web App  1.444373e+18         4   \n",
      "194152    Twitter for iPhone  8.974525e+17         1   \n",
      "275652   Twitter for Android  4.176883e+09         3   \n",
      "453871       Twitter Web App  1.506331e+18         5   \n",
      "570874   Twitter for Android  2.893908e+07         3   \n",
      "642415       Twitter Web App  1.264451e+18         4   \n",
      "927641       Twitter Web App  1.401815e+18         5   \n",
      "1183027   Twitter for iPhone  1.440172e+07         3   \n",
      "1744112  Twitter for Android  2.968821e+06         2   \n",
      "\n",
      "                                       Match    Win  Verify_Attempts  \n",
      "96200           [⬛⬛⬛🟨⬛, 🟨🟨🟨⬛🟨, ⬛⬛🟩🟩⬛, ⬛⬛🟩🟩🟩]  False            False  \n",
      "194152                               [🟩🟩🟩🟩⬛]  False            False  \n",
      "275652                 [🟩⬜⬜⬜⬜, 🟩🟩🟨🟨⬜, 🟩🟩🟩🟩⬜]  False            False  \n",
      "453871   [⬛🟨⬛🟨⬛, ⬛⬛🟨⬛⬛, ⬛⬛🟩⬛⬛, ⬛⬛🟩⬛⬛, ⬛🟩⬛🟩⬛]  False            False  \n",
      "570874                 [⬜⬜⬜⬜⬜, ⬜🟩⬜⬜⬜, 🟩🟩🟩🟩⬜]  False            False  \n",
      "642415          [⬜⬜⬜⬜⬜, 🟨🟩🟨🟩⬜, 🟨🟩🟨🟩⬜, 🟨🟨🟨🟨🟨]  False            False  \n",
      "927641   [⬜🟩🟩🟩⬜, 🟩🟩🟨🟨⬜, 🟩🟩🟩🟩⬜, ⬜🟩🟩🟩⬜, ⬜🟩⬜🟩⬜]  False            False  \n",
      "1183027                [⬜⬜⬜🟨⬜, ⬜🟩⬜⬜🟨, 🟨🟨🟩🟩🟩]  False            False  \n",
      "1744112                       [⬜⬜⬜🟨⬜, 🟨🟨🟨🟨🟨]  False            False  \n"
     ]
    }
   ],
   "source": [
    "print(wordle[(wordle['Verify_Attempts'] == False)])\n",
    "# Drop the 'Verify_Attempts' column as it's no longer needed\n",
    "wordle.drop(wordle[wordle['Verify_Attempts'] == False].index, inplace=True)"
   ]
  },
  {
   "cell_type": "code",
   "execution_count": 26,
   "id": "2edcb351-f024-448d-b43c-7d43175f1aad",
   "metadata": {},
   "outputs": [
    {
     "data": {
      "text/plain": [
       "WordleID           0\n",
       "ID                 0\n",
       "Created_At         0\n",
       "Source             0\n",
       "UserID             0\n",
       "Attempts           0\n",
       "Match              0\n",
       "Win                0\n",
       "Verify_Attempts    0\n",
       "dtype: int64"
      ]
     },
     "execution_count": 26,
     "metadata": {},
     "output_type": "execute_result"
    }
   ],
   "source": [
    "wordle.isnull().sum()"
   ]
  },
  {
   "cell_type": "markdown",
   "id": "b66b04c0-7afd-4ff9-a4dd-efc53d30dbfc",
   "metadata": {},
   "source": [
    "Escludiamo i casi seppur rari (9) dove un utente si è arreso o ha lasciato la partita a metà (vedi ID 1506337660348121090)."
   ]
  },
  {
   "cell_type": "code",
   "execution_count": 27,
   "id": "327c4998-6488-4c29-ae11-7ae7d9329e32",
   "metadata": {},
   "outputs": [
    {
     "name": "stdout",
     "output_type": "stream",
     "text": [
      "2022175\n"
     ]
    }
   ],
   "source": [
    "wordle = wordle[wordle['Verify_Attempts']]\n",
    "\n",
    "# Drop the 'Verify_Attempts' column as it's no longer needed\n",
    "wordle = wordle.drop(columns=['Verify_Attempts'])\n",
    "\n",
    "# Print the updated DataFrame\n",
    "print(wordle.shape[0])"
   ]
  },
  {
   "cell_type": "markdown",
   "id": "df43e858-636b-4e59-b876-74839f5d1c2d",
   "metadata": {},
   "source": [
    "Le regole di Wordle sono le seguenti:\n",
    "\n",
    "  /  è possibile giocare un solo puzzle al giorno\n",
    "  \n",
    "  /  tutti giocano allo stesso puzzle \n",
    "  \n",
    "Dobbiamo quindi verificare che per ciascun Wordle ID non ci siano più ricorrenze di uno stesso Wordle ID. Nel caso siano presenti più occorrenze, non abbiamo strumenti che ci permettano con certezza di identificare quale occorrenza sia quella corretta da considerare, perciò poichè ambigui li eliminiamo."
   ]
  },
  {
   "cell_type": "code",
   "execution_count": 28,
   "id": "66042412-1c65-4e9c-89bc-a00a7df6e06e",
   "metadata": {},
   "outputs": [
    {
     "name": "stdout",
     "output_type": "stream",
     "text": [
      "2003424\n"
     ]
    }
   ],
   "source": [
    "wordle.drop_duplicates(subset=['UserID', 'WordleID'], keep=False, inplace=True)\n",
    "print(wordle.shape[0])"
   ]
  },
  {
   "cell_type": "markdown",
   "id": "3544667b-7f71-4c77-b04a-611b43535dd3",
   "metadata": {},
   "source": [
    "Nella fase di pulizia e integrazione dei dati abbiamo perso 2140196 - 2003424 = 136.772 campioni sui 2140196 campioni totali, quindi circa il 6.4% della totalità dei campioni perchè duplicati, incompleti, errati o incoerenti. "
   ]
  },
  {
   "cell_type": "markdown",
   "id": "4db0ca8f-d7a5-4f08-a358-06ae3f2b3a27",
   "metadata": {},
   "source": [
    "## Visualizzazione dei dati"
   ]
  },
  {
   "cell_type": "markdown",
   "id": "419fa33c-72b7-42b8-9c6b-1cd2e5be3b5a",
   "metadata": {},
   "source": [
    "Realizziamo un OLAP, dove per una dimensione andiamo a categorizzare la percentuale di vincita in un giornata in VERY EASY, EASY, MEDIUM, HARD, VERY HARD. Immaginiamo come probabilità di margine iniziale win_percentage <10%, <25%, >50%, >75%, >90%. Prepariamo i dati. "
   ]
  },
  {
   "cell_type": "code",
   "execution_count": 29,
   "id": "fdcbb29e-0d44-4f56-802f-af475418f3ef",
   "metadata": {},
   "outputs": [
    {
     "name": "stdout",
     "output_type": "stream",
     "text": [
      "WordleID\n",
      "347    18777\n",
      "306    18612\n",
      "374    18755\n",
      "268    18777\n",
      "338    18844\n",
      "309    18852\n",
      "299    18799\n",
      "334    18857\n",
      "274    18863\n",
      "258    18690\n",
      "Name: count, dtype: int64\n",
      "WordleID\n",
      "348    18604\n",
      "359    18720\n",
      "287    18190\n",
      "312    18714\n",
      "376    17622\n",
      "333    18803\n",
      "288    16930\n",
      "304    13353\n",
      "347    18256\n",
      "328    18820\n",
      "Name: Win, dtype: int64\n",
      "WordleID\n",
      "306    96.63\n",
      "359    99.47\n",
      "322    99.10\n",
      "301    99.34\n",
      "325    98.63\n",
      "277    98.63\n",
      "321    98.38\n",
      "358    99.51\n",
      "255    97.98\n",
      "265    79.50\n",
      "dtype: float64\n"
     ]
    }
   ],
   "source": [
    "#play_per_day is a pandas Series object.\n",
    "play_per_day = wordle['WordleID'].value_counts()\n",
    "print(play_per_day.sample(n=10))\n",
    "\n",
    "#win_per_day is a pandas Series object.\n",
    "win_per_day = wordle.groupby('WordleID')['Win'].sum()\n",
    "print(win_per_day.sample(n=10))\n",
    "\n",
    "#win_percentage is a pandas Series object.\n",
    "#fill_value=0 indica che viene messo 0 se play_per_day è zero (per evitare una divisione per zero) ma nel nostro caso non si verifica mai una\n",
    "#divisione per zero (ho già verificato e in win_percentage fill_value=0 non viene mai applicato)\n",
    "win_percentage = (win_per_day.div(play_per_day, fill_value=0)).mul(100).round(2)\n",
    "print(win_percentage.sample(n=10))"
   ]
  },
  {
   "cell_type": "markdown",
   "id": "b164f710-db78-4331-86df-0c5e296f00ea",
   "metadata": {},
   "source": [
    "Le percentuali di vincita sembrano tutte concentrate nell'intervallo compreso tra 90% e 100%. Cerchiamo di comprendere se è davvero così."
   ]
  },
  {
   "cell_type": "code",
   "execution_count": 30,
   "id": "7de76ea3-a2c7-4544-8315-a4fe8797b627",
   "metadata": {},
   "outputs": [
    {
     "name": "stdout",
     "output_type": "stream",
     "text": [
      "97.40327102803737\n",
      "14.556795803209308\n",
      "0    99.37\n",
      "dtype: float64\n",
      "98.55\n",
      "97.24000000000001\n",
      "99.195\n"
     ]
    }
   ],
   "source": [
    "print(win_percentage.mean())\n",
    "print(win_percentage.var())\n",
    "print(win_percentage.mode())\n",
    "print(win_percentage.median())\n",
    "print(win_percentage.quantile(0.25))\n",
    "print(win_percentage.quantile(0.75))"
   ]
  },
  {
   "cell_type": "markdown",
   "id": "ccc118a9-d97b-49e3-82f7-867b4ab240fc",
   "metadata": {},
   "source": [
    "Visualizziamo un box plot riguardo la percentuale di vincite"
   ]
  },
  {
   "cell_type": "code",
   "execution_count": 31,
   "id": "4fe95675-a463-4996-a975-22b46d4df3c1",
   "metadata": {},
   "outputs": [
    {
     "data": {
      "image/png": "[encoded data removed]",
      "text/plain": [
       "<Figure size 800x600 with 1 Axes>"
      ]
     },
     "metadata": {},
     "output_type": "display_data"
    }
   ],
   "source": [
    "plt.figure(figsize=(8, 6))\n",
    "plt.boxplot(win_percentage)\n",
    "plt.title('Boxplot of Win Percentage')\n",
    "plt.ylabel('Win Percentage')\n",
    "plt.show()"
   ]
  },
  {
   "cell_type": "markdown",
   "id": "0dd2d23b-e54c-4efb-b5f0-388c5ea9aa06",
   "metadata": {},
   "source": [
    "Il boxplot conferma le nostre ipotesi. Per fare delle osservazioni interessanti allora dobbiamo modificare le probabilità di margine con cui andiamo a categorizzare win_percentage. "
   ]
  },
  {
   "cell_type": "markdown",
   "id": "0e627b07-d581-44a4-ada8-7deef4a82d70",
   "metadata": {},
   "source": [
    "Per realizzare una rappresentazione OLAP utilizziamo i seguenti parametri :\n",
    "- Tentativi (già quantizzata perché vanno da 1 a 6)\n",
    "- Attività di un utente (tanti tweet -> molto attivo, pochi tweet -> poco attivo)\n",
    "- La difficoltà (quantizzata tarando la media dei tentativi)\n",
    "- 3 opzioni per la 3 variabile\n",
    "    - Parole più o meno recenti (dal wordleID o data del tweet)\n",
    "    - Orario del tweet (Morning, Afternoon, Evening, Night)\n",
    "    - Client di provenienza (Android, iPhone, Web, Other) "
   ]
  },
  {
   "cell_type": "code",
   "execution_count": 32,
   "id": "7639b3c6-a33b-426d-a702-c91268fb5222",
   "metadata": {},
   "outputs": [
    {
     "name": "stdout",
     "output_type": "stream",
     "text": [
      "UserID\n",
      "3.315303e+07     3\n",
      "1.232042e+09    19\n",
      "3.363635e+08     2\n",
      "1.353464e+09     1\n",
      "1.240512e+18     1\n",
      "2.296530e+09     1\n",
      "3.002850e+07     1\n",
      "2.650082e+08     2\n",
      "1.220298e+18     2\n",
      "5.403278e+08    23\n",
      "Name: count, dtype: int64\n",
      "Mean:  4.929964048162175\n",
      "Variance:  69.020591045669\n",
      "Mode:  0    1\n",
      "Name: count, dtype: int64\n",
      "Median:  2.0\n"
     ]
    },
    {
     "data": {
      "image/png": "[encoded data removed]",
      "text/plain": [
       "<Figure size 800x600 with 1 Axes>"
      ]
     },
     "metadata": {},
     "output_type": "display_data"
    }
   ],
   "source": [
    "user_activity = wordle['UserID'].value_counts()\n",
    "print(user_activity.sample(n=10))\n",
    "\n",
    "print(\"Mean: \", user_activity.mean())\n",
    "print(\"Variance: \", user_activity.var())\n",
    "print(\"Mode: \", user_activity.mode())\n",
    "print(\"Median: \", user_activity.median())\n",
    "\n",
    "plt.figure(figsize=(8, 6))\n",
    "plt.boxplot(user_activity)\n",
    "plt.title('Boxplot della Attività degli Utenti')\n",
    "plt.ylabel('Numero di tweet per utente')\n",
    "plt.show()"
   ]
  },
  {
   "cell_type": "code",
   "execution_count": 33,
   "id": "dcc86a93-517f-4754-963e-a625060b8422",
   "metadata": {},
   "outputs": [
    {
     "name": "stdout",
     "output_type": "stream",
     "text": [
      "UserID\n",
      "5.185310e+08    96\n",
      "2.778092e+09    96\n",
      "7.569270e+17    95\n",
      "1.424114e+18    94\n",
      "1.963916e+08    94\n",
      "                ..\n",
      "1.052766e+18     1\n",
      "1.327120e+18     1\n",
      "7.967413e+17     1\n",
      "1.075024e+09     1\n",
      "7.109468e+17     1\n",
      "Name: count, Length: 406377, dtype: int64\n",
      "Number of unique WordleIDs: 107\n"
     ]
    }
   ],
   "source": [
    "print(user_activity)\n",
    "\n",
    "unique_wordle_ids = wordle['WordleID'].nunique()\n",
    "print(\"Number of unique WordleIDs:\", unique_wordle_ids)"
   ]
  },
  {
   "cell_type": "code",
   "execution_count": 34,
   "id": "a56352ba-c22c-431b-80ff-bb0c5765663e",
   "metadata": {},
   "outputs": [
    {
     "data": {
      "text/html": [
       "<div>\n",
       "<style scoped>\n",
       "    .dataframe tbody tr th:only-of-type {\n",
       "        vertical-align: middle;\n",
       "    }\n",
       "\n",
       "    .dataframe tbody tr th {\n",
       "        vertical-align: top;\n",
       "    }\n",
       "\n",
       "    .dataframe thead th {\n",
       "        text-align: right;\n",
       "    }\n",
       "</style>\n",
       "<table border=\"1\" class=\"dataframe\">\n",
       "  <thead>\n",
       "    <tr style=\"text-align: right;\">\n",
       "      <th></th>\n",
       "      <th>WordleID</th>\n",
       "      <th>ID</th>\n",
       "      <th>Created_At</th>\n",
       "      <th>Source</th>\n",
       "      <th>UserID</th>\n",
       "      <th>Attempts</th>\n",
       "      <th>Match</th>\n",
       "      <th>Win</th>\n",
       "      <th>UserActivity</th>\n",
       "    </tr>\n",
       "  </thead>\n",
       "  <tbody>\n",
       "    <tr>\n",
       "      <th>0</th>\n",
       "      <td>254</td>\n",
       "      <td>1498447921448034305</td>\n",
       "      <td>2022-02-28 23:59:58+00:00</td>\n",
       "      <td>Twitter for iPhone</td>\n",
       "      <td>3.681676e+07</td>\n",
       "      <td>3</td>\n",
       "      <td>[🟨🟨⬛⬛⬛, 🟨⬛🟨⬛🟩, 🟩🟩🟩🟩🟩]</td>\n",
       "      <td>True</td>\n",
       "      <td>Low Activity</td>\n",
       "    </tr>\n",
       "    <tr>\n",
       "      <th>1</th>\n",
       "      <td>254</td>\n",
       "      <td>1498447918184996864</td>\n",
       "      <td>2022-02-28 23:59:58+00:00</td>\n",
       "      <td>Twitter for iPhone</td>\n",
       "      <td>4.825910e+08</td>\n",
       "      <td>4</td>\n",
       "      <td>[⬛⬛⬛⬛🟩, ⬛⬛⬛⬛🟩, ⬛🟩⬛⬛🟩, 🟩🟩🟩🟩🟩]</td>\n",
       "      <td>True</td>\n",
       "      <td>High Activity</td>\n",
       "    </tr>\n",
       "    <tr>\n",
       "      <th>2</th>\n",
       "      <td>254</td>\n",
       "      <td>1498447910173921282</td>\n",
       "      <td>2022-02-28 23:59:56+00:00</td>\n",
       "      <td>Twitter for iPhone</td>\n",
       "      <td>1.397624e+18</td>\n",
       "      <td>3</td>\n",
       "      <td>[⬛⬛⬛⬛🟩, ⬛⬛🟩⬛🟩, 🟩🟩🟩🟩🟩]</td>\n",
       "      <td>True</td>\n",
       "      <td>Low Activity</td>\n",
       "    </tr>\n",
       "    <tr>\n",
       "      <th>3</th>\n",
       "      <td>254</td>\n",
       "      <td>1498447901797801989</td>\n",
       "      <td>2022-02-28 23:59:54+00:00</td>\n",
       "      <td>Twitter for iPhone</td>\n",
       "      <td>1.255905e+18</td>\n",
       "      <td>3</td>\n",
       "      <td>[⬛⬛⬛🟨⬛, ⬛🟨⬛⬛🟩, 🟩🟩🟩🟩🟩]</td>\n",
       "      <td>True</td>\n",
       "      <td>Low Activity</td>\n",
       "    </tr>\n",
       "    <tr>\n",
       "      <th>4</th>\n",
       "      <td>254</td>\n",
       "      <td>1498447896911527938</td>\n",
       "      <td>2022-02-28 23:59:53+00:00</td>\n",
       "      <td>Twitter for iPhone</td>\n",
       "      <td>2.528937e+08</td>\n",
       "      <td>3</td>\n",
       "      <td>[⬛🟨⬛⬛⬛, 🟩🟩🟩⬛🟩, 🟩🟩🟩🟩🟩]</td>\n",
       "      <td>True</td>\n",
       "      <td>Low Activity</td>\n",
       "    </tr>\n",
       "  </tbody>\n",
       "</table>\n",
       "</div>"
      ],
      "text/plain": [
       "   WordleID                   ID                 Created_At  \\\n",
       "0       254  1498447921448034305  2022-02-28 23:59:58+00:00   \n",
       "1       254  1498447918184996864  2022-02-28 23:59:58+00:00   \n",
       "2       254  1498447910173921282  2022-02-28 23:59:56+00:00   \n",
       "3       254  1498447901797801989  2022-02-28 23:59:54+00:00   \n",
       "4       254  1498447896911527938  2022-02-28 23:59:53+00:00   \n",
       "\n",
       "               Source        UserID  Attempts                         Match  \\\n",
       "0  Twitter for iPhone  3.681676e+07         3         [🟨🟨⬛⬛⬛, 🟨⬛🟨⬛🟩, 🟩🟩🟩🟩🟩]   \n",
       "1  Twitter for iPhone  4.825910e+08         4  [⬛⬛⬛⬛🟩, ⬛⬛⬛⬛🟩, ⬛🟩⬛⬛🟩, 🟩🟩🟩🟩🟩]   \n",
       "2  Twitter for iPhone  1.397624e+18         3         [⬛⬛⬛⬛🟩, ⬛⬛🟩⬛🟩, 🟩🟩🟩🟩🟩]   \n",
       "3  Twitter for iPhone  1.255905e+18         3         [⬛⬛⬛🟨⬛, ⬛🟨⬛⬛🟩, 🟩🟩🟩🟩🟩]   \n",
       "4  Twitter for iPhone  2.528937e+08         3         [⬛🟨⬛⬛⬛, 🟩🟩🟩⬛🟩, 🟩🟩🟩🟩🟩]   \n",
       "\n",
       "    Win   UserActivity  \n",
       "0  True   Low Activity  \n",
       "1  True  High Activity  \n",
       "2  True   Low Activity  \n",
       "3  True   Low Activity  \n",
       "4  True   Low Activity  "
      ]
     },
     "execution_count": 34,
     "metadata": {},
     "output_type": "execute_result"
    }
   ],
   "source": [
    "user_macrocategories = pd.cut(user_activity, bins=[0, 3, 8, 50, 107], labels=['Low Activity', \n",
    "                                                                              'Medium Activity', 'High Activity', 'Very High Activity'])\n",
    "wordle = wordle.merge(user_macrocategories.rename('UserActivity'), left_on='UserID', right_index=True)\n",
    "wordle.head()"
   ]
  },
  {
   "cell_type": "code",
   "execution_count": 35,
   "id": "52ce1b35-5a6e-4774-93c1-d6c4d9a23001",
   "metadata": {},
   "outputs": [
    {
     "name": "stdout",
     "output_type": "stream",
     "text": [
      "0          3.681676e+07\n",
      "1          4.825910e+08\n",
      "2          1.397624e+18\n",
      "3          1.255905e+18\n",
      "4          2.528937e+08\n",
      "               ...     \n",
      "2140191    5.471473e+08\n",
      "2140192    1.351073e+08\n",
      "2140193    3.787462e+07\n",
      "2140194    2.207186e+07\n",
      "2140195    8.913628e+17\n",
      "Name: UserID, Length: 2003424, dtype: float64\n"
     ]
    }
   ],
   "source": [
    "#pd.set_option('display.float_format', '{:.20f}'.format)\n",
    "print(wordle['UserID'])"
   ]
  },
  {
   "cell_type": "markdown",
   "id": "ab071681-cc5e-490c-89a0-a33c621dfb1a",
   "metadata": {},
   "source": [
    "Definiamo un'altra quantizzazione in base al periodo della giornata in cui è stato fatto il tweet:\n",
    "- Morning (5-12)\n",
    "- Afternoon (12-19)\n",
    "- Evening (19-24)\n",
    "- Night (00-5)"
   ]
  },
  {
   "cell_type": "code",
   "execution_count": 36,
   "id": "3a044cfc-2100-4795-806e-ed6b955b1088",
   "metadata": {},
   "outputs": [
    {
     "data": {
      "text/html": [
       "<div>\n",
       "<style scoped>\n",
       "    .dataframe tbody tr th:only-of-type {\n",
       "        vertical-align: middle;\n",
       "    }\n",
       "\n",
       "    .dataframe tbody tr th {\n",
       "        vertical-align: top;\n",
       "    }\n",
       "\n",
       "    .dataframe thead th {\n",
       "        text-align: right;\n",
       "    }\n",
       "</style>\n",
       "<table border=\"1\" class=\"dataframe\">\n",
       "  <thead>\n",
       "    <tr style=\"text-align: right;\">\n",
       "      <th></th>\n",
       "      <th>WordleID</th>\n",
       "      <th>ID</th>\n",
       "      <th>Created_At</th>\n",
       "      <th>Source</th>\n",
       "      <th>UserID</th>\n",
       "      <th>Attempts</th>\n",
       "      <th>Match</th>\n",
       "      <th>Win</th>\n",
       "      <th>UserActivity</th>\n",
       "      <th>Hour</th>\n",
       "      <th>TimeOfDay</th>\n",
       "    </tr>\n",
       "  </thead>\n",
       "  <tbody>\n",
       "    <tr>\n",
       "      <th>1847065</th>\n",
       "      <td>360</td>\n",
       "      <td>1536758576605188103</td>\n",
       "      <td>2022-06-14 17:12:50+00:00</td>\n",
       "      <td>Twitter for Android</td>\n",
       "      <td>4.791114e+08</td>\n",
       "      <td>4</td>\n",
       "      <td>[⬛🟨⬛🟩🟨, ⬛⬛⬛⬛⬛, ⬛🟨🟨⬛⬛, 🟩🟩🟩🟩🟩]</td>\n",
       "      <td>True</td>\n",
       "      <td>High Activity</td>\n",
       "      <td>17</td>\n",
       "      <td>Afternoon</td>\n",
       "    </tr>\n",
       "    <tr>\n",
       "      <th>497480</th>\n",
       "      <td>278</td>\n",
       "      <td>1507048236795711488</td>\n",
       "      <td>2022-03-24 17:34:33+00:00</td>\n",
       "      <td>Twitter for iPhone</td>\n",
       "      <td>1.904909e+09</td>\n",
       "      <td>4</td>\n",
       "      <td>[🟨⬛⬛⬛🟨, ⬛🟨🟨⬛🟩, ⬛⬛🟩🟩🟩, 🟩🟩🟩🟩🟩]</td>\n",
       "      <td>True</td>\n",
       "      <td>High Activity</td>\n",
       "      <td>17</td>\n",
       "      <td>Afternoon</td>\n",
       "    </tr>\n",
       "    <tr>\n",
       "      <th>1670009</th>\n",
       "      <td>346</td>\n",
       "      <td>1531660230978772992</td>\n",
       "      <td>2022-05-31 15:33:50+00:00</td>\n",
       "      <td>Twitter Web App</td>\n",
       "      <td>2.613923e+09</td>\n",
       "      <td>4</td>\n",
       "      <td>[⬜⬜⬜🟨⬜, 🟨🟨🟨⬜⬜, 🟨🟨⬜🟨⬜, 🟩🟩🟩🟩🟩]</td>\n",
       "      <td>True</td>\n",
       "      <td>Very High Activity</td>\n",
       "      <td>15</td>\n",
       "      <td>Afternoon</td>\n",
       "    </tr>\n",
       "    <tr>\n",
       "      <th>2095208</th>\n",
       "      <td>374</td>\n",
       "      <td>1541755766612320262</td>\n",
       "      <td>2022-06-28 12:09:53+00:00</td>\n",
       "      <td>Twitter Web App</td>\n",
       "      <td>2.142636e+07</td>\n",
       "      <td>4</td>\n",
       "      <td>[⬛⬛⬛⬛⬛, ⬛🟨⬛⬛🟨, ⬛🟩⬛🟩⬛, 🟩🟩🟩🟩🟩]</td>\n",
       "      <td>True</td>\n",
       "      <td>High Activity</td>\n",
       "      <td>12</td>\n",
       "      <td>Afternoon</td>\n",
       "    </tr>\n",
       "    <tr>\n",
       "      <th>296893</th>\n",
       "      <td>268</td>\n",
       "      <td>1503437547841728515</td>\n",
       "      <td>2022-03-14 18:26:58+00:00</td>\n",
       "      <td>Twitter for Android</td>\n",
       "      <td>2.406664e+09</td>\n",
       "      <td>6</td>\n",
       "      <td>[🟨⬜⬜🟨⬜, ⬜⬜⬜🟨⬜, ⬜⬜🟨⬜🟨, ⬜🟨🟩⬜🟩, 🟩⬜🟩🟩🟩, 🟩🟩🟩🟩🟩]</td>\n",
       "      <td>True</td>\n",
       "      <td>Medium Activity</td>\n",
       "      <td>18</td>\n",
       "      <td>Afternoon</td>\n",
       "    </tr>\n",
       "    <tr>\n",
       "      <th>476487</th>\n",
       "      <td>277</td>\n",
       "      <td>1506688152915881991</td>\n",
       "      <td>2022-03-23 17:43:43+00:00</td>\n",
       "      <td>Twitter for iPhone</td>\n",
       "      <td>1.394537e+09</td>\n",
       "      <td>5</td>\n",
       "      <td>[⬛⬛🟨🟨⬛, 🟨🟩⬛⬛⬛, ⬛🟩⬛🟨⬛, ⬛🟩🟨🟨🟨, 🟩🟩🟩🟩🟩]</td>\n",
       "      <td>True</td>\n",
       "      <td>Medium Activity</td>\n",
       "      <td>17</td>\n",
       "      <td>Afternoon</td>\n",
       "    </tr>\n",
       "    <tr>\n",
       "      <th>1931733</th>\n",
       "      <td>365</td>\n",
       "      <td>1538534013224505344</td>\n",
       "      <td>2022-06-19 14:47:47+00:00</td>\n",
       "      <td>Twitter for iPad</td>\n",
       "      <td>1.462751e+18</td>\n",
       "      <td>5</td>\n",
       "      <td>[🟨⬛🟨⬛⬛, ⬛🟩⬛🟩⬛, 🟨🟩🟩🟩⬛, ⬛🟩🟩🟩⬛, 🟩🟩🟩🟩🟩]</td>\n",
       "      <td>True</td>\n",
       "      <td>Low Activity</td>\n",
       "      <td>14</td>\n",
       "      <td>Afternoon</td>\n",
       "    </tr>\n",
       "    <tr>\n",
       "      <th>956422</th>\n",
       "      <td>302</td>\n",
       "      <td>1515724888690020359</td>\n",
       "      <td>2022-04-17 16:12:28+00:00</td>\n",
       "      <td>Twitter Web App</td>\n",
       "      <td>1.668922e+07</td>\n",
       "      <td>5</td>\n",
       "      <td>[⬜⬜🟨🟨🟨, 🟨🟨🟨🟨⬜, 🟨🟨🟨🟩⬜, 🟩🟩⬜🟩🟩, 🟩🟩🟩🟩🟩]</td>\n",
       "      <td>True</td>\n",
       "      <td>Medium Activity</td>\n",
       "      <td>16</td>\n",
       "      <td>Afternoon</td>\n",
       "    </tr>\n",
       "    <tr>\n",
       "      <th>938219</th>\n",
       "      <td>301</td>\n",
       "      <td>1515353035911872515</td>\n",
       "      <td>2022-04-16 15:34:52+00:00</td>\n",
       "      <td>Twitter for iPhone</td>\n",
       "      <td>1.158609e+09</td>\n",
       "      <td>3</td>\n",
       "      <td>[🟩⬛⬛⬛🟨, ⬛🟩⬛⬛⬛, 🟩🟩🟩🟩🟩]</td>\n",
       "      <td>True</td>\n",
       "      <td>Medium Activity</td>\n",
       "      <td>15</td>\n",
       "      <td>Afternoon</td>\n",
       "    </tr>\n",
       "    <tr>\n",
       "      <th>2030332</th>\n",
       "      <td>370</td>\n",
       "      <td>1540334000731873280</td>\n",
       "      <td>2022-06-24 14:00:18+00:00</td>\n",
       "      <td>Twitter Web App</td>\n",
       "      <td>7.562600e+17</td>\n",
       "      <td>2</td>\n",
       "      <td>[🟩🟩⬛⬛🟩, 🟩🟩🟩🟩🟩]</td>\n",
       "      <td>True</td>\n",
       "      <td>Medium Activity</td>\n",
       "      <td>14</td>\n",
       "      <td>Afternoon</td>\n",
       "    </tr>\n",
       "    <tr>\n",
       "      <th>1915539</th>\n",
       "      <td>363</td>\n",
       "      <td>1537780306400497665</td>\n",
       "      <td>2022-06-17 12:52:50+00:00</td>\n",
       "      <td>Twitter for Android</td>\n",
       "      <td>1.119824e+08</td>\n",
       "      <td>4</td>\n",
       "      <td>[⬛⬛⬛⬛⬛, ⬛⬛⬛⬛⬛, 🟩🟨⬛🟨⬛, 🟩🟩🟩🟩🟩]</td>\n",
       "      <td>True</td>\n",
       "      <td>High Activity</td>\n",
       "      <td>12</td>\n",
       "      <td>Afternoon</td>\n",
       "    </tr>\n",
       "    <tr>\n",
       "      <th>929595</th>\n",
       "      <td>301</td>\n",
       "      <td>1515392579340480514</td>\n",
       "      <td>2022-04-16 18:12:00+00:00</td>\n",
       "      <td>Twitter for iPhone</td>\n",
       "      <td>1.389214e+09</td>\n",
       "      <td>6</td>\n",
       "      <td>[⬛⬛⬛🟨🟨, 🟩🟨⬛⬛⬛, 🟩⬛⬛🟩⬛, 🟩⬛⬛🟩⬛, 🟩🟩🟩🟩⬛, 🟩🟩🟩🟩🟩]</td>\n",
       "      <td>True</td>\n",
       "      <td>High Activity</td>\n",
       "      <td>18</td>\n",
       "      <td>Afternoon</td>\n",
       "    </tr>\n",
       "    <tr>\n",
       "      <th>2051164</th>\n",
       "      <td>371</td>\n",
       "      <td>1540696300512874498</td>\n",
       "      <td>2022-06-25 13:59:57+00:00</td>\n",
       "      <td>Twitter for iPhone</td>\n",
       "      <td>2.409577e+07</td>\n",
       "      <td>4</td>\n",
       "      <td>[🟨⬛⬛⬛🟨, 🟩🟩🟩⬛🟨, 🟩🟩🟩🟩⬛, 🟩🟩🟩🟩🟩]</td>\n",
       "      <td>True</td>\n",
       "      <td>Very High Activity</td>\n",
       "      <td>13</td>\n",
       "      <td>Afternoon</td>\n",
       "    </tr>\n",
       "    <tr>\n",
       "      <th>1723382</th>\n",
       "      <td>349</td>\n",
       "      <td>1532816959976480768</td>\n",
       "      <td>2022-06-03 20:10:16+00:00</td>\n",
       "      <td>Twitter for iPhone</td>\n",
       "      <td>1.083034e+18</td>\n",
       "      <td>3</td>\n",
       "      <td>[⬛🟨⬛⬛🟨, 🟨🟩🟩⬛🟩, 🟩🟩🟩🟩🟩]</td>\n",
       "      <td>True</td>\n",
       "      <td>Low Activity</td>\n",
       "      <td>20</td>\n",
       "      <td>Evening</td>\n",
       "    </tr>\n",
       "    <tr>\n",
       "      <th>1502303</th>\n",
       "      <td>332</td>\n",
       "      <td>1526678752738017282</td>\n",
       "      <td>2022-05-17 21:39:13+00:00</td>\n",
       "      <td>Twitter for iPhone</td>\n",
       "      <td>7.251876e+17</td>\n",
       "      <td>3</td>\n",
       "      <td>[⬛⬛⬛🟩🟨, 🟩⬛🟨🟩⬛, 🟩🟩🟩🟩🟩]</td>\n",
       "      <td>True</td>\n",
       "      <td>High Activity</td>\n",
       "      <td>21</td>\n",
       "      <td>Evening</td>\n",
       "    </tr>\n",
       "    <tr>\n",
       "      <th>41023</th>\n",
       "      <td>256</td>\n",
       "      <td>1499167905862369283</td>\n",
       "      <td>2022-03-02 23:40:56+00:00</td>\n",
       "      <td>Twitter for iPhone</td>\n",
       "      <td>2.374599e+09</td>\n",
       "      <td>5</td>\n",
       "      <td>[🟨⬜⬜⬜🟨, 🟨⬜🟨🟨⬜, ⬜🟩🟩🟩⬜, ⬜🟩🟩🟩⬜, 🟩🟩🟩🟩🟩]</td>\n",
       "      <td>True</td>\n",
       "      <td>Very High Activity</td>\n",
       "      <td>23</td>\n",
       "      <td>Evening</td>\n",
       "    </tr>\n",
       "    <tr>\n",
       "      <th>843775</th>\n",
       "      <td>296</td>\n",
       "      <td>1513631350712111107</td>\n",
       "      <td>2022-04-11 21:33:30+00:00</td>\n",
       "      <td>Twitter for Android</td>\n",
       "      <td>4.164852e+07</td>\n",
       "      <td>4</td>\n",
       "      <td>[🟩⬛⬛⬛⬛, 🟩⬛🟨⬛⬛, 🟩🟨⬛🟨⬛, 🟩🟩🟩🟩🟩]</td>\n",
       "      <td>True</td>\n",
       "      <td>Medium Activity</td>\n",
       "      <td>21</td>\n",
       "      <td>Evening</td>\n",
       "    </tr>\n",
       "    <tr>\n",
       "      <th>2100782</th>\n",
       "      <td>376</td>\n",
       "      <td>1542640821522006016</td>\n",
       "      <td>2022-06-30 22:46:47+00:00</td>\n",
       "      <td>Twitter Web App</td>\n",
       "      <td>9.807509e+08</td>\n",
       "      <td>5</td>\n",
       "      <td>[⬜⬜⬜⬜⬜, ⬜⬜⬜⬜⬜, ⬜⬜🟨⬜⬜, 🟨⬜🟨⬜⬜, 🟩🟩🟩🟩🟩]</td>\n",
       "      <td>True</td>\n",
       "      <td>High Activity</td>\n",
       "      <td>22</td>\n",
       "      <td>Evening</td>\n",
       "    </tr>\n",
       "    <tr>\n",
       "      <th>204411</th>\n",
       "      <td>264</td>\n",
       "      <td>1502047263677460485</td>\n",
       "      <td>2022-03-10 22:22:29+00:00</td>\n",
       "      <td>Twitter for Android</td>\n",
       "      <td>1.647655e+08</td>\n",
       "      <td>3</td>\n",
       "      <td>[🟨⬛🟨🟨🟩, 🟨🟩🟨⬛🟩, 🟩🟩🟩🟩🟩]</td>\n",
       "      <td>True</td>\n",
       "      <td>Medium Activity</td>\n",
       "      <td>22</td>\n",
       "      <td>Evening</td>\n",
       "    </tr>\n",
       "    <tr>\n",
       "      <th>606309</th>\n",
       "      <td>284</td>\n",
       "      <td>1508941888325402636</td>\n",
       "      <td>2022-03-29 22:59:15+00:00</td>\n",
       "      <td>Twitter for Android</td>\n",
       "      <td>1.469773e+18</td>\n",
       "      <td>6</td>\n",
       "      <td>[⬛🟨⬛⬛⬛, ⬛⬛🟨🟨⬛, 🟨🟨⬛⬛🟨, 🟩⬛🟩⬛🟨, ⬛🟨⬛🟨⬛, 🟩🟩🟩🟩🟩]</td>\n",
       "      <td>True</td>\n",
       "      <td>Medium Activity</td>\n",
       "      <td>22</td>\n",
       "      <td>Evening</td>\n",
       "    </tr>\n",
       "  </tbody>\n",
       "</table>\n",
       "</div>"
      ],
      "text/plain": [
       "         WordleID                   ID                Created_At  \\\n",
       "1847065       360  1536758576605188103 2022-06-14 17:12:50+00:00   \n",
       "497480        278  1507048236795711488 2022-03-24 17:34:33+00:00   \n",
       "1670009       346  1531660230978772992 2022-05-31 15:33:50+00:00   \n",
       "2095208       374  1541755766612320262 2022-06-28 12:09:53+00:00   \n",
       "296893        268  1503437547841728515 2022-03-14 18:26:58+00:00   \n",
       "476487        277  1506688152915881991 2022-03-23 17:43:43+00:00   \n",
       "1931733       365  1538534013224505344 2022-06-19 14:47:47+00:00   \n",
       "956422        302  1515724888690020359 2022-04-17 16:12:28+00:00   \n",
       "938219        301  1515353035911872515 2022-04-16 15:34:52+00:00   \n",
       "2030332       370  1540334000731873280 2022-06-24 14:00:18+00:00   \n",
       "1915539       363  1537780306400497665 2022-06-17 12:52:50+00:00   \n",
       "929595        301  1515392579340480514 2022-04-16 18:12:00+00:00   \n",
       "2051164       371  1540696300512874498 2022-06-25 13:59:57+00:00   \n",
       "1723382       349  1532816959976480768 2022-06-03 20:10:16+00:00   \n",
       "1502303       332  1526678752738017282 2022-05-17 21:39:13+00:00   \n",
       "41023         256  1499167905862369283 2022-03-02 23:40:56+00:00   \n",
       "843775        296  1513631350712111107 2022-04-11 21:33:30+00:00   \n",
       "2100782       376  1542640821522006016 2022-06-30 22:46:47+00:00   \n",
       "204411        264  1502047263677460485 2022-03-10 22:22:29+00:00   \n",
       "606309        284  1508941888325402636 2022-03-29 22:59:15+00:00   \n",
       "\n",
       "                      Source        UserID  Attempts  \\\n",
       "1847065  Twitter for Android  4.791114e+08         4   \n",
       "497480    Twitter for iPhone  1.904909e+09         4   \n",
       "1670009      Twitter Web App  2.613923e+09         4   \n",
       "2095208      Twitter Web App  2.142636e+07         4   \n",
       "296893   Twitter for Android  2.406664e+09         6   \n",
       "476487    Twitter for iPhone  1.394537e+09         5   \n",
       "1931733     Twitter for iPad  1.462751e+18         5   \n",
       "956422       Twitter Web App  1.668922e+07         5   \n",
       "938219    Twitter for iPhone  1.158609e+09         3   \n",
       "2030332      Twitter Web App  7.562600e+17         2   \n",
       "1915539  Twitter for Android  1.119824e+08         4   \n",
       "929595    Twitter for iPhone  1.389214e+09         6   \n",
       "2051164   Twitter for iPhone  2.409577e+07         4   \n",
       "1723382   Twitter for iPhone  1.083034e+18         3   \n",
       "1502303   Twitter for iPhone  7.251876e+17         3   \n",
       "41023     Twitter for iPhone  2.374599e+09         5   \n",
       "843775   Twitter for Android  4.164852e+07         4   \n",
       "2100782      Twitter Web App  9.807509e+08         5   \n",
       "204411   Twitter for Android  1.647655e+08         3   \n",
       "606309   Twitter for Android  1.469773e+18         6   \n",
       "\n",
       "                                              Match   Win        UserActivity  \\\n",
       "1847065                [⬛🟨⬛🟩🟨, ⬛⬛⬛⬛⬛, ⬛🟨🟨⬛⬛, 🟩🟩🟩🟩🟩]  True       High Activity   \n",
       "497480                 [🟨⬛⬛⬛🟨, ⬛🟨🟨⬛🟩, ⬛⬛🟩🟩🟩, 🟩🟩🟩🟩🟩]  True       High Activity   \n",
       "1670009                [⬜⬜⬜🟨⬜, 🟨🟨🟨⬜⬜, 🟨🟨⬜🟨⬜, 🟩🟩🟩🟩🟩]  True  Very High Activity   \n",
       "2095208                [⬛⬛⬛⬛⬛, ⬛🟨⬛⬛🟨, ⬛🟩⬛🟩⬛, 🟩🟩🟩🟩🟩]  True       High Activity   \n",
       "296893   [🟨⬜⬜🟨⬜, ⬜⬜⬜🟨⬜, ⬜⬜🟨⬜🟨, ⬜🟨🟩⬜🟩, 🟩⬜🟩🟩🟩, 🟩🟩🟩🟩🟩]  True     Medium Activity   \n",
       "476487          [⬛⬛🟨🟨⬛, 🟨🟩⬛⬛⬛, ⬛🟩⬛🟨⬛, ⬛🟩🟨🟨🟨, 🟩🟩🟩🟩🟩]  True     Medium Activity   \n",
       "1931733         [🟨⬛🟨⬛⬛, ⬛🟩⬛🟩⬛, 🟨🟩🟩🟩⬛, ⬛🟩🟩🟩⬛, 🟩🟩🟩🟩🟩]  True        Low Activity   \n",
       "956422          [⬜⬜🟨🟨🟨, 🟨🟨🟨🟨⬜, 🟨🟨🟨🟩⬜, 🟩🟩⬜🟩🟩, 🟩🟩🟩🟩🟩]  True     Medium Activity   \n",
       "938219                        [🟩⬛⬛⬛🟨, ⬛🟩⬛⬛⬛, 🟩🟩🟩🟩🟩]  True     Medium Activity   \n",
       "2030332                              [🟩🟩⬛⬛🟩, 🟩🟩🟩🟩🟩]  True     Medium Activity   \n",
       "1915539                [⬛⬛⬛⬛⬛, ⬛⬛⬛⬛⬛, 🟩🟨⬛🟨⬛, 🟩🟩🟩🟩🟩]  True       High Activity   \n",
       "929595   [⬛⬛⬛🟨🟨, 🟩🟨⬛⬛⬛, 🟩⬛⬛🟩⬛, 🟩⬛⬛🟩⬛, 🟩🟩🟩🟩⬛, 🟩🟩🟩🟩🟩]  True       High Activity   \n",
       "2051164                [🟨⬛⬛⬛🟨, 🟩🟩🟩⬛🟨, 🟩🟩🟩🟩⬛, 🟩🟩🟩🟩🟩]  True  Very High Activity   \n",
       "1723382                       [⬛🟨⬛⬛🟨, 🟨🟩🟩⬛🟩, 🟩🟩🟩🟩🟩]  True        Low Activity   \n",
       "1502303                       [⬛⬛⬛🟩🟨, 🟩⬛🟨🟩⬛, 🟩🟩🟩🟩🟩]  True       High Activity   \n",
       "41023           [🟨⬜⬜⬜🟨, 🟨⬜🟨🟨⬜, ⬜🟩🟩🟩⬜, ⬜🟩🟩🟩⬜, 🟩🟩🟩🟩🟩]  True  Very High Activity   \n",
       "843775                 [🟩⬛⬛⬛⬛, 🟩⬛🟨⬛⬛, 🟩🟨⬛🟨⬛, 🟩🟩🟩🟩🟩]  True     Medium Activity   \n",
       "2100782         [⬜⬜⬜⬜⬜, ⬜⬜⬜⬜⬜, ⬜⬜🟨⬜⬜, 🟨⬜🟨⬜⬜, 🟩🟩🟩🟩🟩]  True       High Activity   \n",
       "204411                        [🟨⬛🟨🟨🟩, 🟨🟩🟨⬛🟩, 🟩🟩🟩🟩🟩]  True     Medium Activity   \n",
       "606309   [⬛🟨⬛⬛⬛, ⬛⬛🟨🟨⬛, 🟨🟨⬛⬛🟨, 🟩⬛🟩⬛🟨, ⬛🟨⬛🟨⬛, 🟩🟩🟩🟩🟩]  True     Medium Activity   \n",
       "\n",
       "         Hour  TimeOfDay  \n",
       "1847065    17  Afternoon  \n",
       "497480     17  Afternoon  \n",
       "1670009    15  Afternoon  \n",
       "2095208    12  Afternoon  \n",
       "296893     18  Afternoon  \n",
       "476487     17  Afternoon  \n",
       "1931733    14  Afternoon  \n",
       "956422     16  Afternoon  \n",
       "938219     15  Afternoon  \n",
       "2030332    14  Afternoon  \n",
       "1915539    12  Afternoon  \n",
       "929595     18  Afternoon  \n",
       "2051164    13  Afternoon  \n",
       "1723382    20    Evening  \n",
       "1502303    21    Evening  \n",
       "41023      23    Evening  \n",
       "843775     21    Evening  \n",
       "2100782    22    Evening  \n",
       "204411     22    Evening  \n",
       "606309     22    Evening  "
      ]
     },
     "execution_count": 36,
     "metadata": {},
     "output_type": "execute_result"
    }
   ],
   "source": [
    "wordle['Created_At'] = pd.to_datetime(wordle['Created_At'])\n",
    "\n",
    "bins = [0, 5, 12, 19, 24]\n",
    "labels = ['Night','Morning','Afternoon','Evening']\n",
    "\n",
    "wordle['TimeOfDay'] = pd.cut(wordle['Created_At'].dt.hour, bins=bins, labels=labels, right=False)\n",
    "\n",
    "n = 20\n",
    "wordle.sample(n).sort_values(by='TimeOfDay').head(n)"
   ]
  },
  {
   "cell_type": "markdown",
   "id": "dbb673c2-1cde-4114-b544-3c218f20b5e3",
   "metadata": {},
   "source": [
    "Tracciamo un bar plot per vedere in quali fasce orarie gli utenti sono più attivi"
   ]
  },
  {
   "cell_type": "code",
   "execution_count": 40,
   "id": "d727e821-18b6-4827-b068-d5b275c2fc98",
   "metadata": {},
   "outputs": [
    {
     "data": {
      "image/png": "[encoded data removed]",
      "text/plain": [
       "<Figure size 1000x200 with 1 Axes>"
      ]
     },
     "metadata": {},
     "output_type": "display_data"
    }
   ],
   "source": [
    "activity_by_time = wordle['TimeOfDay'].value_counts()\n",
    "\n",
    "# Ordina i periodi della giornata in modo da mantenere l'ordine corretto sull'asse x\n",
    "activity_by_time = activity_by_time.reindex(labels)\n",
    "\n",
    "# Traccia l'istogramma\n",
    "plt.figure(figsize=(10, len(activity_by_time) * 0.5))\n",
    "activity_by_time.plot(kind='barh', color='skyblue')\n",
    "plt.title('Attività degli utenti per fasce orarie')\n",
    "plt.ylabel('Fascia oraria')\n",
    "plt.xlabel('Numero di tweet')\n",
    "\n",
    "plt.grid(axis='x', linestyle='--', alpha=0.7)  # Aggiungi una griglia sull'asse x\n",
    "plt.tight_layout()  # Regola automaticamente i margini per evitare sovrapposizioni\n",
    "plt.show()"
   ]
  },
  {
   "cell_type": "markdown",
   "id": "b2a48346-b484-4e13-83c5-7d35c528a013",
   "metadata": {},
   "source": [
    "Ci siamo informati riguardo all'orario di pubblicazione della parola del giorno, che dovrebbe essere a mezzanotte, nel nostro caso però nessun utente ha giocato nella fascia oraria notturna.\n",
    "Possiamo affermare questa cosa dato che abbiamo fatto dei controlli anche applicando eventuali fusi orari"
   ]
  },
  {
   "cell_type": "markdown",
   "id": "683ce90d-15a0-4d87-94a4-6abb340b6510",
   "metadata": {},
   "source": [
    "Come indicatore di difficoltà possiamo fare la seguente cosa:#\n",
    "- calcolare una difficoltà che va da 1 a 3 in base al numero di tentativi effettuati (1,2),(3,4),(5,6)\n",
    "- Nel caso in cui il numero di sconfitte superi la media delle sconfitte allora la parola viene etichettata come very hard"
   ]
  },
  {
   "cell_type": "code",
   "execution_count": 134,
   "id": "2cc3a259-d2de-4f3f-8534-288b211f2b06",
   "metadata": {},
   "outputs": [],
   "source": [
    "mean_attempts = wordle[wordle['Win']].groupby('WordleID')['Attempts'].mean()\n",
    "\n",
    "# Categorize WordleIDs based on the criteria\n",
    "def categorize_difficulty(mean_attempt):\n",
    "    if mean_attempt >= 4.5:\n",
    "        return 'Hard'\n",
    "    elif mean_attempt >= 4.0:\n",
    "        return 'Medium'\n",
    "    else:\n",
    "        return 'Easy'\n",
    "\n",
    "# Apply the categorization function to each WordleID\n",
    "wordle['Difficulty'] = wordle['WordleID'].map(mean_attempts).apply(categorize_difficulty)\n",
    "\n",
    "# Calculate the overall ratio of lost games to total games in the entire DataFrame\n",
    "overall_lost_games_ratio = wordle[~wordle['Win']].shape[0] / wordle.shape[0]\n",
    "\n",
    "# Define a function to check if the condition is met for a specific WordleID\n",
    "def should_update_difficulty(wordle_id):\n",
    "    wordle_subset = wordle[wordle['WordleID'] == wordle_id]\n",
    "    lost_games_ratio = wordle_subset[~wordle_subset['Win']].shape[0] / wordle_subset.shape[0]\n",
    "    return lost_games_ratio > 2.2*overall_lost_games_ratio\n",
    "\n",
    "# Iterate over each unique WordleID\n",
    "for unique_id in wordle['WordleID'].unique():\n",
    "    # Check if the condition is met for the current WordleID\n",
    "    if should_update_difficulty(unique_id):\n",
    "        # Update the 'Difficulty' column for rows with the current WordleID\n",
    "        wordle.loc[wordle['WordleID'] == unique_id, 'Difficulty'] = 'Very Hard'\n",
    "\n"
   ]
  },
  {
   "cell_type": "code",
   "execution_count": 135,
   "id": "1a03da5e-6c62-420e-98c3-56559aa81802",
   "metadata": {},
   "outputs": [
    {
     "name": "stdout",
     "output_type": "stream",
     "text": [
      "Number of rows with Difficulty 'Very Hard': 182855\n",
      "Number of rows with Difficulty 'Hard': 167845\n",
      "Number of rows with Difficulty 'Medium': 824896\n",
      "Number of rows with Difficulty 'Easy': 827828\n"
     ]
    }
   ],
   "source": [
    "wordle.sample(n=30).head(30)\n",
    "num_very_hard = (wordle['Difficulty'] == 'Very Hard').sum()\n",
    "\n",
    "# Print the number of rows\n",
    "print(\"Number of rows with Difficulty 'Very Hard':\", num_very_hard)\n",
    "\n",
    "wordle.sample(n=30).head(30)\n",
    "num_very_hard = (wordle['Difficulty'] == 'Hard').sum()\n",
    "\n",
    "# Print the number of rows\n",
    "print(\"Number of rows with Difficulty 'Hard':\", num_very_hard)\n",
    "\n",
    "wordle.sample(n=30).head(30)\n",
    "num_very_hard = (wordle['Difficulty'] == 'Medium').sum()\n",
    "\n",
    "# Print the number of rows\n",
    "print(\"Number of rows with Difficulty 'Medium':\", num_very_hard)\n",
    "\n",
    "wordle.sample(n=30).head(30)\n",
    "num_very_hard = (wordle['Difficulty'] == 'Easy').sum()\n",
    "\n",
    "# Print the number of rows\n",
    "print(\"Number of rows with Difficulty 'Easy':\", num_very_hard)"
   ]
  },
  {
   "cell_type": "code",
   "execution_count": 136,
   "id": "b51b755f-806e-4c4c-ab5a-807fa9abfc21",
   "metadata": {},
   "outputs": [
    {
     "name": "stdout",
     "output_type": "stream",
     "text": [
      "WordleID        0\n",
      "ID              0\n",
      "Created_At      0\n",
      "Source          0\n",
      "UserID          0\n",
      "Attempts        0\n",
      "Match           0\n",
      "Win             0\n",
      "UserActivity    0\n",
      "Hour            0\n",
      "TimeOfDay       0\n",
      "Difficulty      0\n",
      "dtype: int64\n"
     ]
    }
   ],
   "source": [
    "print(wordle.isnull().sum())"
   ]
  },
  {
   "cell_type": "code",
   "execution_count": 137,
   "id": "8ccb027d-edbb-428d-b97d-c54afc2ae44f",
   "metadata": {},
   "outputs": [
    {
     "data": {
      "text/plain": [
       "array([[[3.61077844, 3.98969072,        nan, 4.55926544],\n",
       "        [3.33902789, 3.96367436, 4.6078681 , 4.70059319],\n",
       "        [3.5381346 , 4.06968729, 4.46023722, 4.5900483 ],\n",
       "        [       nan,        nan,        nan,        nan]],\n",
       "\n",
       "       [[3.87572254, 4.23783692,        nan, 4.59618718],\n",
       "        [3.76862552, 4.24655172, 4.70732296, 4.75830463],\n",
       "        [3.8508887 , 4.31957412, 4.63700247, 4.69006784],\n",
       "        [       nan,        nan,        nan,        nan]],\n",
       "\n",
       "       [[3.86763891, 4.22661545,        nan, 4.6185908 ],\n",
       "        [3.85256281, 4.2616132 , 4.69674305, 4.69658547],\n",
       "        [3.88146409, 4.30376792, 4.66946169, 4.66422852],\n",
       "        [       nan,        nan,        nan,        nan]],\n",
       "\n",
       "       [[4.03448276, 4.28787879,        nan, 4.40625   ],\n",
       "        [3.80953511, 4.23457396, 4.64095555, 4.72637063],\n",
       "        [3.83670015, 4.26007026, 4.60930128, 4.64949928],\n",
       "        [       nan,        nan,        nan,        nan]]])"
      ]
     },
     "execution_count": 137,
     "metadata": {},
     "output_type": "execute_result"
    }
   ],
   "source": [
    "quantize_user_activity = ['Low Activity', 'Medium Activity', 'High Activity', 'Very High Activity']\n",
    "quantize_time_of_day = ['Morning', 'Afternoon', 'Evening', 'Night']\n",
    "quantize_difficulty = ['Easy', 'Medium', 'Hard', 'Very Hard']\n",
    "\n",
    "OLAP = np.zeros((len(quantize_user_activity),len(quantize_time_of_day),len(quantize_difficulty)))\n",
    "#devo contare quanti elementi del mio dataframe appartengono a quel score, quel release_year, quel type\n",
    "for z in range(0,len(quantize_user_activity)):\n",
    "  #codice qui \n",
    "  for j in range(0,len(quantize_time_of_day)):\n",
    "    for i in range(0,len(quantize_difficulty)):\n",
    "        OLAP[z, j, i] = wordle[(wordle['UserActivity']==quantize_user_activity[z]) &\n",
    "                           (wordle['TimeOfDay']==quantize_time_of_day[j]) &\n",
    "                              (wordle['Difficulty']==quantize_difficulty[i])]['Attempts'].mean()\n",
    "OLAP"
   ]
  },
  {
   "cell_type": "code",
   "execution_count": 138,
   "id": "e82885db-a3e0-4855-b743-69498f2e9aa0",
   "metadata": {},
   "outputs": [
    {
     "data": {
      "image/png": "[encoded data removed]",
      "text/plain": [
       "<Figure size 640x480 with 2 Axes>"
      ]
     },
     "metadata": {},
     "output_type": "display_data"
    }
   ],
   "source": [
    "plt.imshow(OLAP[:, 2, :])\n",
    "for i, label in enumerate(quantize_difficulty):\n",
    "    plt.text(i, -0.5, label, ha='center', fontsize=8)\n",
    "for i, label in enumerate(quantize_user_activity):\n",
    "    plt.text(-0.5, i, label, va='center', fontsize=8)\n",
    "plt.xlabel('Difficulty')\n",
    "plt.ylabel('User Activity')\n",
    "plt.title('OLAP Cube Slicing (Evening)')\n",
    "plt.colorbar(label='Average Attempts')\n",
    "plt.show()"
   ]
  },
  {
   "cell_type": "code",
   "execution_count": 139,
   "id": "2ba6f51a-aa1c-4fdb-8ecd-ff00f40c55f9",
   "metadata": {},
   "outputs": [
    {
     "data": {
      "image/png": "[encoded data removed]",
      "text/plain": [
       "<Figure size 640x480 with 2 Axes>"
      ]
     },
     "metadata": {},
     "output_type": "display_data"
    }
   ],
   "source": [
    "plt.imshow(OLAP[:, 1, :])\n",
    "for i, label in enumerate(quantize_difficulty):\n",
    "    plt.text(i, -0.5, label, ha='center', fontsize=8)\n",
    "for i, label in enumerate(quantize_user_activity):\n",
    "    plt.text(-0.6, i, label, va='center', fontsize=8)\n",
    "plt.xlabel('Difficulty')\n",
    "plt.ylabel('User Activity')\n",
    "plt.title('OLAP Cube Slicing (Afternoon)')\n",
    "plt.colorbar(label='Average Attempts')\n",
    "plt.show()"
   ]
  },
  {
   "cell_type": "code",
   "execution_count": 140,
   "id": "cea351cf-3967-400c-b10a-2eefb0bac6ad",
   "metadata": {},
   "outputs": [
    {
     "data": {
      "image/png": "[encoded data removed]",
      "text/plain": [
       "<Figure size 640x480 with 2 Axes>"
      ]
     },
     "metadata": {},
     "output_type": "display_data"
    }
   ],
   "source": [
    "plt.imshow(OLAP[:, 0, :])\n",
    "for i, label in enumerate(quantize_difficulty):\n",
    "    plt.text(i, -0.5, label, ha='center', fontsize=8)\n",
    "for i, label in enumerate(quantize_user_activity):\n",
    "    plt.text(-0.5, i, label, va='center', fontsize=8)\n",
    "plt.xlabel('Difficulty')\n",
    "plt.ylabel('User Activity')\n",
    "plt.title('OLAP Cube Slicing (Morning)')\n",
    "plt.colorbar(label='Average Attempts')\n",
    "plt.show()"
   ]
  },
  {
   "cell_type": "code",
   "execution_count": 141,
   "id": "f7d37215-b1be-42dc-85e0-04851c693711",
   "metadata": {},
   "outputs": [
    {
     "name": "stdout",
     "output_type": "stream",
     "text": [
      "[3.83670015 4.26007026 4.60930128 4.64949928]\n"
     ]
    }
   ],
   "source": [
    "diced_values = OLAP[3, 2, :]\n",
    "print(diced_values)"
   ]
  },
  {
   "cell_type": "code",
   "execution_count": 142,
   "id": "d5958da9-cf62-4d2d-a4d0-42a5e75165eb",
   "metadata": {},
   "outputs": [
    {
     "data": {
      "image/png": "[encoded data removed]",
      "text/plain": [
       "<Figure size 640x480 with 1 Axes>"
      ]
     },
     "metadata": {},
     "output_type": "display_data"
    }
   ],
   "source": [
    "plt.bar(quantize_difficulty, diced_values)\n",
    "\n",
    "# Aggiungi etichette e titolo\n",
    "plt.xlabel('Quantize Type')\n",
    "plt.ylabel('Count')\n",
    "plt.title('Bar Plot per OLAP[3, 2, :]')\n",
    "\n",
    "# Mostra il bar plot\n",
    "plt.show()"
   ]
  },
  {
   "cell_type": "code",
   "execution_count": 143,
   "id": "986eaa06-62c7-4634-b0e0-a95461417990",
   "metadata": {},
   "outputs": [
    {
     "name": "stdout",
     "output_type": "stream",
     "text": [
      "Number of rows with Difficulty 'Very Hard' and TimeOfDay 'Morning': 0\n"
     ]
    }
   ],
   "source": [
    "num_very_hard_morning = ((wordle['Difficulty'] == 'Hard') & (wordle['TimeOfDay'] == 'Morning')).sum()\n",
    "\n",
    "# Print the number of rows\n",
    "print(\"Number of rows with Difficulty 'Very Hard' and TimeOfDay 'Morning':\", num_very_hard_morning)"
   ]
  },
  {
   "cell_type": "code",
   "execution_count": null,
   "id": "7bd7926e-636b-4120-a967-11d1b141bfa4",
   "metadata": {},
   "outputs": [],
   "source": []
  }
 ],
 "metadata": {
  "kernelspec": {
   "display_name": "Python 3 (ipykernel)",
   "language": "python",
   "name": "python3"
  },
  "language_info": {
   "codemirror_mode": {
    "name": "ipython",
    "version": 3
   },
   "file_extension": ".py",
   "mimetype": "text/x-python",
   "name": "python",
   "nbconvert_exporter": "python",
   "pygments_lexer": "ipython3",
   "version": "3.12.3"
  }
 },
 "nbformat": 4,
 "nbformat_minor": 5
}
